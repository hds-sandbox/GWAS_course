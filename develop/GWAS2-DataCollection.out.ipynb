{
  "cells": [
    {
      "cell_type": "markdown",
      "metadata": {},
      "source": [
        "# Data exploration\n",
        "\n",
        "> **Important notes for this notebook**\n",
        ">\n",
        "> This course module covers practical considerations regarding the\n",
        "> standard file formats used in GWAS.\n",
        ">\n",
        "> ## Learning outcomes\n",
        ">\n",
        "> -   **Explore** the content of classical data files for GWAS through\n",
        ">     the command line\n",
        "> -   **Apply and extend** some command line programs to retrieve and\n",
        ">     explore data\n",
        ">\n",
        "> ## How to make this notebook work\n",
        ">\n",
        "> We will only use the `bash command line` in this notebook. Be sure to\n",
        "> click on the menu `Kernel --> Change Kernel --> Bash`\n",
        ">\n",
        "> <img src=\"Images/bash.png\" alt=\"Bash\" width=\"80\"> Choose the Bash\n",
        "> kernel\n",
        "\n",
        "# Data files\n",
        "\n",
        "After alignment and variant calling, genetic variation data is typically\n",
        "stored in formats like VCF and PLINK. While VCF is a detailed,\n",
        "text-based format, PLINK uses a more compact binary format that is\n",
        "faster and more efficient for large-scale analyses, such as GWAS. These\n",
        "formats are interchangeable, but we will focus on PLINK due to its\n",
        "common use and optimized performance for GWAS.\n",
        "\n",
        "When raw or genotype-level data is available, the genotyping parser\n",
        "extracts key information for each sample from the study annotation\n",
        "files, including:\n",
        "\n",
        "-   Family ID\n",
        "-   Sample ID\n",
        "-   Paternal ID (for family-based studies)\n",
        "-   Maternal ID (for family-based studies)\n",
        "-   Sex\n",
        "-   Phenotype (discrete or quantitative)\n",
        "-   Group/cluster (eg, geographical region) to assess possible effects\n",
        "    of population stratification\n",
        "\n",
        "The PLINK format consists of 3 different binary files:\n",
        "\n",
        "-   `.bed`: a binary file containing genotype data.\n",
        "-   `.bim`: plain text file information about each SNP in the dataset\n",
        "    (chr, snpId, genetic position, alleles). The order of the SNPs is\n",
        "    the same as in the bed file.\n",
        "-   `.fam`: plain text file with information about the samples (family\n",
        "    ID, individual ID, sex).\n",
        "\n",
        "Visit the [PLINK website](https://www.cog-genomics.org/plink/1.9/) for\n",
        "information on various file formats and helpful command lines for\n",
        "manipulating, processing, and analyzing genomic data.\n",
        "\n",
        "## Description of the Data\n",
        "\n",
        "To demonstrate all analysis steps with realistic genetic data, we will\n",
        "use a simulated dataset (N = 165) with a binary outcome measure, based\n",
        "on the publicly available data from the International HapMap Project\n",
        "(Gibbs et al. 2003). For this tutorial, we only included Utah residents\n",
        "with ancestry from Northern and Western Europe (CEU) to create an\n",
        "**ethnically homogenous** dataset. Because of the relatively small\n",
        "sample size of the HapMap data, genetic effect sizes in these\n",
        "simulations were set at values larger than usually observed in genetic\n",
        "studies of complex traits. It is important to note that larger sample\n",
        "sizes (e.g., at least in the order of thousands but likely even tens or\n",
        "hundreds of thousands) will be required to detect genetic risk factors\n",
        "of complex traits.\n",
        "\n",
        "<img src=\"Images/bash.png\" alt=\"Bash\" width=\"40\"> Choose the Bash\n",
        "kernel.\n",
        "\n",
        "First, we link the data folder to easily access it by using the `ln -sf`\n",
        "command."
      ],
      "id": "2199508a-666b-4398-8922-a50bd8ed5d52"
    },
    {
      "cell_type": "code",
      "execution_count": 13,
      "metadata": {
        "tags": []
      },
      "outputs": [],
      "source": [
        "ln -sf ../Data"
      ],
      "id": "7e877d39-1dca-43d3-b547-cfbdb9103cc5"
    },
    {
      "cell_type": "markdown",
      "metadata": {},
      "source": [
        "### Fam file - Info on individuals\n",
        "\n",
        "We begin by looking at `HapMap_3_r3_1.fam`, which you can do using the\n",
        "command below (`head`), which prints and selects the first 10 lines of a\n",
        "file:"
      ],
      "id": "e64c79fc-3a61-4c32-b321-029e4af375b0"
    },
    {
      "cell_type": "code",
      "execution_count": 15,
      "metadata": {
        "tags": []
      },
      "outputs": [
        {
          "output_type": "stream",
          "name": "stdout",
          "text": [
            "1328 NA06989 0 0 2 2\n",
            "1377 NA11891 0 0 1 2\n",
            "1349 NA11843 0 0 1 1\n",
            "1330 NA12341 0 0 2 2\n",
            "1444 NA12739 NA12748 NA12749 1 -9\n",
            "1344 NA10850 0 NA12058 2 -9\n",
            "1328 NA06984 0 0 1 2\n",
            "1463 NA12877 NA12889 NA12890 1 -9\n",
            "1418 NA12275 0 0 2 1\n",
            "13291 NA06986 0 0 1 1"
          ]
        }
      ],
      "source": [
        "head -10 Data/HapMap_3_r3_1.fam"
      ],
      "id": "6a04f8ff"
    },
    {
      "cell_type": "markdown",
      "metadata": {},
      "source": [
        "It is just a plain text file with six columns separated by the others\n",
        "using the so-called *tab spacing* and no header. What information does\n",
        "each column contain?\n",
        "\n",
        "-   1st column (FID) is the **family identification** abbreviated as\n",
        "    FID. The PLINK software was primarily developed for genomic analyses\n",
        "    in humans, which is reflected in the naming terminology and default\n",
        "    settings. As an example, in the goat Adatapt project (AdaptMap), the\n",
        "    use of this column is to specify breed identity. Since this field is\n",
        "    required, you can organize your data into any meaningful grouping\n",
        "    that suits your needs, or repeat the sample ID if no other category\n",
        "    fits better.\n",
        "-   2nd column (IID) is the “within family ID” or **“individual ID”**\n",
        "    and is abbreviated as IID which is unique to each individual.\n",
        "-   3rd and 4th columns: the father and mother IDs are recorded in the\n",
        "    third and fourth columns if genotyped. If parents are unknown or not\n",
        "    available, their entries are set to 0.\n",
        "-   5th column (sex) contains the **sex information** of the individual\n",
        "    in the IID column. According to the built-in coding, 1 is for males,\n",
        "    2 for females, and 0 is unknown. Similar to parent information, this\n",
        "    is also many times missing, usually not a problem, but specific\n",
        "    PLINK options need to be included in case any issues come up.\n",
        "-   6th column: denotes the **phenotype** of individuals in the IID\n",
        "    column, with 1 for controls, 2 for cases, and other values or\n",
        "    continuous measurements for other phenotypes. Missing values are\n",
        "    represented by 0 or -9.\n",
        "\n",
        "> **Stop - Read - Solve**\n",
        ">\n",
        "> The exercises provide solutions below. However, you should try to\n",
        "> solve the questions on your own. **Feel free to use online search and\n",
        "> AI tools to ask questions and find the answers.**\n",
        ">\n",
        "> -   **Q1. How many individuals are represented in the `fam` file?**\n",
        ">     Find a command that counts the number of lines in the file.\n",
        "> -   **Q2. How many unique fathers and mothers are there in the\n",
        ">     population?** Try to extract column 3 and count the unique\n",
        ">     occurrences of each ID of the fathers. Do the same with column 4\n",
        ">     for the mothers. Hint: there is a white-space between columns.\n",
        "> -   **Q3. How many individuals do not have phenotype information?**\n",
        ">     Search for missing values in column 6."
      ],
      "id": "623b10be-8ca0-45c0-944a-14070699cd94"
    },
    {
      "cell_type": "code",
      "execution_count": null,
      "metadata": {},
      "outputs": [],
      "source": [
        "# Write your code here - Q1"
      ],
      "id": "09b3a996-cc11-430f-95db-c65dfed1705b"
    },
    {
      "cell_type": "code",
      "execution_count": 18,
      "metadata": {},
      "outputs": [],
      "source": [
        "# Write your code here - Q2"
      ],
      "id": "d7d28eab-9d1a-4fec-a053-a545fe326c80"
    },
    {
      "cell_type": "code",
      "execution_count": null,
      "metadata": {},
      "outputs": [],
      "source": [
        "# Write your code here - Q3"
      ],
      "id": "a08a96fd-e33f-49da-b2d8-ee5b9e6ab7f4"
    },
    {
      "cell_type": "markdown",
      "metadata": {},
      "source": [
        "> **Solution**\n",
        ">\n",
        "> The command `wc` (which stands for Word Count) can count the words in\n",
        "> a file. With the option `-l` it will instead count the lines of the\n",
        "> file."
      ],
      "id": "00603699-4081-4da8-a74b-1656b3ec9216"
    },
    {
      "cell_type": "code",
      "execution_count": 19,
      "metadata": {
        "tags": []
      },
      "outputs": [
        {
          "output_type": "stream",
          "name": "stdout",
          "text": [
            "165 Data/HapMap_3_r3_1.fam"
          ]
        }
      ],
      "source": [
        "wc -l Data/HapMap_3_r3_1.fam"
      ],
      "id": "76132d60"
    },
    {
      "cell_type": "markdown",
      "metadata": {},
      "source": [
        "**Q1: There are 165 individuals.**\n",
        "\n",
        "To see how many unique fathers there are, we need a sequence of\n",
        "commands. Each command has an output, which is sent to the next command\n",
        "using the pipe `|` symbol. We will: - `cut` the 3rd column of the text\n",
        "file setting the space as a separator for the columns, - `sort` the\n",
        "column extracted, so multiple occurrences of the same fathers are\n",
        "grouped together and not counted as separate groups - count how many\n",
        "times each father is shown using the command `uniq` with the option `-c`\n",
        "for counting - displays the first 5 rows of the file, allowing you to\n",
        "preview the data and check its format"
      ],
      "id": "ed9b4451-a83a-4b72-8412-fdd0d1cd90c6"
    },
    {
      "cell_type": "code",
      "execution_count": 21,
      "metadata": {},
      "outputs": [
        {
          "output_type": "stream",
          "name": "stdout",
          "text": [
            "    115 0\n",
            "      1 NA06986\n",
            "      1 NA06993\n",
            "      1 NA06994\n",
            "      1 NA07051"
          ]
        }
      ],
      "source": [
        "cut -f3 -d\" \" Data/HapMap_3_r3_1.fam | sort | uniq -c | head -n5"
      ],
      "id": "df6803ef-ca78-43eb-9ea0-cad921ec962c"
    },
    {
      "cell_type": "markdown",
      "metadata": {},
      "source": [
        "You can see how there are 115 unknown fathers (0s), and all the others\n",
        "occur only once. To count how many fathers there are, we can simply run\n",
        "the same commands and add `wc -l` at the end. There are 51 lines,\n",
        "meaning 50 known fathers if we remove the unknown ones"
      ],
      "id": "8fdc7b5c-4b8f-4750-8814-60a66ab8590a"
    },
    {
      "cell_type": "code",
      "execution_count": 22,
      "metadata": {},
      "outputs": [
        {
          "output_type": "stream",
          "name": "stdout",
          "text": [
            "51"
          ]
        }
      ],
      "source": [
        "cut -f3 -d\" \" Data/HapMap_3_r3_1.fam | sort | uniq -c | wc -l"
      ],
      "id": "b00884ad-d2a0-40c8-af8d-dacd3026757c"
    },
    {
      "cell_type": "markdown",
      "metadata": {},
      "source": [
        "You can observe a similar thing for the mothers, where we have one less\n",
        "which is unknown"
      ],
      "id": "4c5c8b04-3725-4f6b-b5fa-92d7a069b172"
    },
    {
      "cell_type": "code",
      "execution_count": 24,
      "metadata": {},
      "outputs": [
        {
          "output_type": "stream",
          "name": "stdout",
          "text": [
            "52"
          ]
        }
      ],
      "source": [
        "cut -f4 -d\" \" Data/HapMap_3_r3_1.fam | sort | uniq -c | wc -l"
      ],
      "id": "16816aa2-74cc-4eba-83d3-f5d1f2402715"
    },
    {
      "cell_type": "markdown",
      "metadata": {},
      "source": [
        "**Q2: There are 50 unique fathers and 51 unique mothers in the\n",
        "dataset.**\n",
        "\n",
        "Finally, we will count the occurrences of `0` and `-9` in column 6 using\n",
        "the `awk` command:"
      ],
      "id": "68457ecc-e862-4982-98ba-95d6aae0acc7"
    },
    {
      "cell_type": "code",
      "execution_count": 25,
      "metadata": {},
      "outputs": [
        {
          "output_type": "stream",
          "name": "stdout",
          "text": [
            "53"
          ]
        }
      ],
      "source": [
        "awk '{if ($6 == 0 || $6 == -9) print $0}' Data/HapMap_3_r3_1.fam | wc -l \n"
      ],
      "id": "c2a8a535-1549-4b8a-99e1-7a24c7769784"
    },
    {
      "cell_type": "markdown",
      "metadata": {},
      "source": [
        "**Q3: There are 53 individuals with missing phenotypes in the dataset.**\n",
        "\n",
        "End of solution\n",
        "\n",
        "------------------------------------------------------------------------\n",
        "\n",
        "### Bim file - SNP location info\n",
        "\n",
        "The `.bim` file contains the genomic locations of all SNPs in the data,\n",
        "and looks like this:"
      ],
      "id": "cee6067c-5f84-4c41-b378-0e9961ed7792"
    },
    {
      "cell_type": "code",
      "execution_count": 8,
      "metadata": {
        "tags": []
      },
      "outputs": [
        {
          "output_type": "stream",
          "name": "stdout",
          "text": [
            "1   rs2185539   0   556738  T   C\n",
            "1   rs11510103  0   557616  G   A\n",
            "1   rs11240767  0   718814  T   C\n",
            "1   rs3131972   0   742584  A   G\n",
            "1   rs3131969   0   744045  A   G\n",
            "1   rs1048488   0   750775  C   T\n",
            "1   rs12562034  0   758311  A   G\n",
            "1   rs12124819  0   766409  G   A\n",
            "1   rs4040617   0   769185  G   A\n",
            "1   rs2905036   0   782343  C   T"
          ]
        }
      ],
      "source": [
        "head -10 Data/HapMap_3_r3_1.bim"
      ],
      "id": "945feb7f"
    },
    {
      "cell_type": "markdown",
      "metadata": {},
      "source": [
        "Similar to the .fam file, the bim file has six columns.\n",
        "\n",
        "-   1st column contains the **chromosome number** where the SNP is\n",
        "    located. You can see that the first 10 SNPs are located on\n",
        "    Chromosome 1.\n",
        "-   2nd column is the **SNP name**. This name is predefined during the\n",
        "    construction of the SNP chip. If you ever want to compare versions\n",
        "    of different SNP chips for the same species, overlapping the SNP\n",
        "    name is an excellent way to start.\n",
        "-   3rd column is the **position of the SNP** in Morgans or centimorgans\n",
        "    (cM), with zero value if you do not know or care. For most of the\n",
        "    analyses, this could be kept as zero.\n",
        "-   4th column is the **base pair coordinate of the SNP**. In other\n",
        "    words, you start to count from the beginning of the chromosome, and\n",
        "    for each SNP write down its exact location. At the beginning of each\n",
        "    new chromosome, the counter resets and starts from one again.\n",
        "\n",
        "**In the remaining two columns 5th and 6th** are the **alleles for\n",
        "respective SNPs**. All SNPs on chips are biallelic, meaning each row\n",
        "shows only two alleles, with missing genotypes represented by zero (not\n",
        "shown in the .bim file). Genotypes in column five usually represent the\n",
        "minor allele, and column six shows the major allele (more about allele\n",
        "frequencies in data quality control).\n",
        "\n",
        "Similar to `.fam` files, you can extract useful information just by\n",
        "looking at the file. Here, each row contains information about a\n",
        "particular SNP.\n",
        "\n",
        "> **Stop - Read - Solve**\n",
        ">\n",
        "> -   **Q4. What is the total number of variants in the HapMap\n",
        ">     dataset?**"
      ],
      "id": "023f3a1e-f73e-4ff6-8cc3-41a2309267eb"
    },
    {
      "cell_type": "code",
      "execution_count": null,
      "metadata": {},
      "outputs": [],
      "source": [
        "# Write your code here - Q4 "
      ],
      "id": "644ad9cb-d3bf-4deb-97d0-2a0834dd9688"
    },
    {
      "cell_type": "markdown",
      "metadata": {},
      "source": [
        "Did you also get 1,457,897 SNPs for the HapMap data with the\n",
        "`wc -l Data/HapMap_3_r3_1.bim` command?\n",
        "\n",
        "### Bed file - Individual genotypes\n",
        "\n",
        "So far, we know that the files you downloaded contain genotypes for 165\n",
        "individuals, each of them genotyped for 1,457,897 SNPs. But where are\n",
        "the genotypes for the individual samples?\n",
        "\n",
        "These are located in the binary file called `HapMap_3_r3_1.bed file`,\n",
        "but unfortunately, opening it as a normal text looks like this:"
      ],
      "id": "78053317-55d3-41d9-a883-020077c5bdb9"
    },
    {
      "cell_type": "code",
      "execution_count": 26,
      "metadata": {},
      "outputs": [
        {
          "output_type": "stream",
          "name": "stdout",
          "text": [
            "l\u001b\u0001�����������������������������������������\u0003�����������������������������������������\u0003�����������������������������������������\u0003��λ������������/����������������������\u0003��λ������������/�����������������������\u0003��λ������������/����������������������\u0003��������?�������������������������������\u0002������������������������⸿Ͼ��,��\u0002z�\u0003��ο������������/�����������������������\u0003�����������������������������������������\u0003�����������������������������������������\u0003����������������������������������������\u0003���������ﮪ���������+���������������\u0003����������������������������������������\u0003�����誮����\u000fΫ������������:���*�?����\u0003��������������﫿����������������������\u0003�����������������������������������������\u0003�����������������������������������������\u0003�����������������������������������������\u0003���?�������￿�����;�����������������\u0003//���������﮿������;����ή����������\u0002���?�������ʯϿ�\u000f����;����Ϯ�����������\u0002�����������������������������������������\u0003����������������������������������������\u0003�����������������������������������������\u0003����������ʯ￾�����;����Ϯ���<�������\u0002����������������������������������������\u0003����������������������������������������\u0003�����������������������������������������\u0003�����������������������������������������\u0003����������������������������������������\u0003��뿌�������\u000fϿ������:���Ϫ���<�.�?����\u0002�����������������������������������������\u0003����������������������������������������\u0003����������������������������������������\u0003�����������������������������������������\u0003�����������������������������������������\u0003�����������������������������������������\u0003�����������������������������������������\u0003�����������������������������������������\u0003�����������������������������������������\u0003�����������������������������������������\u0003����������������������������������������\u0002����̣�������?�������������˫�\u000e��������+�\u0002����̣�������?�������������˫�\u000e��������+�\u0002����̣�������?�������������˫�\u000e��������+�\u0002�����������������������������������������\u0002�����������������������������������������\u0002�����������������������������������������\u0002�����������������������������������������\u0002�����������������������������������������\u0002������������������������������β�����.�\u0003�����������������������������������������\u0003����������?������������������������������\u0003�����������������������������������������\u0003�����������������������������������������\u0002�����������������(������/����������"
          ]
        }
      ],
      "source": [
        "head -1 Data/HapMap_3_r3_1.bed"
      ],
      "id": "74f86693-3f60-4753-b93e-736692ba075c"
    },
    {
      "cell_type": "markdown",
      "metadata": {},
      "source": [
        "This is because the genotypes are stored in a *binary format*, which\n",
        "saves disk space and allows faster processing by the computer, as it’s\n",
        "already in a **machine-readable format**. It is often useful to check\n",
        "out the individual genotypes, for that, you will need a new command\n",
        "called `xxd` to open the file which can then be pipeped into the `head`\n",
        "command."
      ],
      "id": "c5abc070-59ff-46d0-8393-3f0d34177baf"
    },
    {
      "cell_type": "code",
      "execution_count": 27,
      "metadata": {
        "tags": []
      },
      "outputs": [
        {
          "output_type": "stream",
          "name": "stdout",
          "text": [
            "00000000: 01101100 00011011 00000001 11111111 11111111 11111111  l.....\n",
            "00000006: 11111111 11111111 11111111 11111111 11111111 11111111  ......\n",
            "0000000c: 11111111 11111111 11111111 11111111 11111111 11111111  ......\n",
            "00000012: 11111111 11111111 11111111 11111111 11111111 11111111  ......\n",
            "00000018: 11111111 11111111 11111111 11111111 11111111 11111111  ......\n",
            "0000001e: 11111111 11111111 11111111 11111111 11111111 11111111  ......\n",
            "00000024: 11111111 11111111 11111111 11111111 11111111 11111111  ......\n",
            "0000002a: 11111111 11111111 00000011 11111111 11111111 11111111  ......\n",
            "00000030: 11111111 11111111 11111111 11111111 11111111 11111111  ......\n",
            "00000036: 11110011 11111111 11111111 11111111 11111111 11111111  ......"
          ]
        }
      ],
      "source": [
        "xxd -b Data/HapMap_3_r3_1.bed | head -10"
      ],
      "id": "7660e6ce"
    },
    {
      "cell_type": "markdown",
      "metadata": {},
      "source": [
        "The non-binary file format for the genotype is stored in the so-called\n",
        "`.ped` and `.map` files. These are also some well-known formats and\n",
        "widely used in various programs.\n",
        "\n",
        "> **Challenge yourself with the command line programs**\n",
        ">\n",
        "> We have real mice data from the [heterogeneous stock\n",
        "> data](https://wp.cs.ucl.ac.uk/outbredmice/heterogeneous-stock-mice/)\n",
        "> with an example phenotype. The datasets are with extensions\n",
        "> `.bed, .bim, .fam, .pheno` and name prefix `Data/mice`. The\n",
        "> `mice.pheno` file contains an example phenotype per individual.\n",
        ">\n",
        "> 1.  Find out how many individuals and how many SNPs there are in the\n",
        ">     mice data. Which chromosomes are considered in the data? Is it\n",
        ">     possible to check it for sex discrepancy?\n",
        ">\n",
        "> 2.  Are there any parents in the `fam` file? Hint: the `fam` file has\n",
        ">     just a backspace as a separator and is not tab-separated. This\n",
        ">     needs the specific option `-d' '` for the `cut` command.\n",
        ">\n",
        "> 3.  Is there any data for sex and phenotype in the `.fam` file? Is\n",
        ">     this data from a case-control study or a sample-based study?\n",
        ">\n",
        "> 4.  How can you find the minimum and maximum value of the phenotype\n",
        ">     (last column) using only the command line?\n",
        ">\n",
        "> Answer the questions by creating all the code cells you need for the\n",
        "> code to check your answers.\n",
        "\n",
        "> **Click to view answers**\n",
        ">\n",
        "> <i class=\"bi bi-journal-code\"></i> [Download\n",
        "> mice-solutions.ipynb](exercises/gwas2-mice.ipynb)\n",
        "\n",
        "> **Wrapping up**\n",
        ">\n",
        "> We have learned about the principles of study design for GWAS and the\n",
        "> genotyping process. Now you are also able to use some basic commands\n",
        "> to show the content of typical GWAS file formats.\n",
        "\n",
        "# Bibliography\n",
        "\n",
        "Gibbs, Richard A., John W. Belmont, Paul Hardenbol, Thomas D. Willis,\n",
        "Fuli Yu, Huanming Yang, Lan-Yang Ch’ang, et al. 2003. “The International\n",
        "HapMap Project.” *Nature* 426 (6968): 789–96.\n",
        "<https://doi.org/10.1038/nature02168>."
      ],
      "id": "ee30b6d4-f23c-47ee-8387-a26338e43084"
    }
  ],
  "nbformat": 4,
  "nbformat_minor": 5,
  "metadata": {
    "kernelspec": {
      "name": "bash",
      "display_name": "Bash",
      "language": "bash"
    },
    "language_info": {
      "name": "bash",
      "codemirror_mode": "shell",
      "file_extension": ".sh",
      "mimetype": "text/x-sh"
    }
  }
}