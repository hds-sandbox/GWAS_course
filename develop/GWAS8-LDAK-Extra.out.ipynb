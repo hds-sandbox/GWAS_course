{
  "cells": [
    {
      "cell_type": "markdown",
      "metadata": {},
      "source": [
        "# Association models with LDAK\n",
        "\n",
        "Tutorial modified from the LDAK creator Doug Speed\n",
        "\n",
        "For these practicals, we will use the les: `human.bed`, `human.bim` and\n",
        "`human.fam` - 1000 Genomes Project SNP data for 424 humans, 3289 SNPs\n",
        "(Chromosomes 21 & 22). `quant.pheno`, `binary.pheno`, `multi.pheno` and\n",
        "`covar.covar` are phenotypes and covariates for these.\n",
        "\n",
        "`hapmap.bed`, `hapmap.bim` and `hapmap.fam` - SNP data for 1184 humans,\n",
        "1016 SNPs (from HapMap Project). `mice.bed`, `mice.bim`, `mice.fam` and\n",
        "`mice.pheno` - SNP and phenotype data for 1940 mice, 2984 SNPs."
      ],
      "id": "94c49561-c43a-4a59-8105-ef52415a2994"
    },
    {
      "cell_type": "code",
      "execution_count": null,
      "metadata": {},
      "outputs": [],
      "source": [
        "wget https://www.dropbox.com/s/5vcfcree3xnvhew/data.zip"
      ],
      "id": "fc8a99f6-8c0d-473d-9035-7d81faccf78c"
    },
    {
      "cell_type": "code",
      "execution_count": null,
      "metadata": {},
      "outputs": [],
      "source": [
        "unzip data.zip -d LDAKdata"
      ],
      "id": "24f61bcf-0a44-43bd-91d9-22352a5d2b1e"
    },
    {
      "cell_type": "code",
      "execution_count": null,
      "metadata": {},
      "outputs": [],
      "source": [
        "chmod -R 777 LDAKdata"
      ],
      "id": "a0f05f3f-063f-4a5a-8e82-72497ac982a7"
    },
    {
      "cell_type": "markdown",
      "metadata": {},
      "source": [
        "# About LDAK\n",
        "\n",
        "Designed in the style of PLINK. For example, all options start with two\n",
        "dashes, if you want to provide data in binary `PLINK` format, you use\n",
        "`--bfile`, to select a subset of SNPs you use `--extract`, provide\n",
        "phenotypes with `--pheno`, perform linear regression with `--linear`,\n",
        "etc.\n",
        "\n",
        "LDKA has some similarity with `GCTA`: you merge kinship matrices using\n",
        "`--add-grm`, estimate variance components using `--reml`, and kinship\n",
        "matrices are stored in a compatible format. LDAK performs most features\n",
        "of GCTA (not bivariate and some conditional analyses).\n",
        "\n",
        "LDAK has a number of additional features (e.g., computing SNP\n",
        "weightings, merging datasets, pro le scoring, thinning and clumping, as\n",
        "well as GBAT for set-based association testing, SumHer for summary stats\n",
        "heritability analysis, and MultiBLUP for prediction) LDAK can also\n",
        "perform all the features of LDSC.\n",
        "\n",
        "LDAK can accommodate almost any type of data. The formats are: Binary\n",
        "PLINK (`--bfile`) - the most commonly used format, an [efficient way to\n",
        "store hard genotypes](https://www.cog-genomics.org/plink/1.9/input#bed)\n",
        "(all values are 0, 1, 2 or NA). [Gen / Chiamo / Oxford Stat\n",
        "Format](http://www.stats.ox.ac.%20uk/~marchini/software/gwas/file_format.html)\n",
        "(`--gen`) - rows are predictors, columns are SNPs, can set the number of\n",
        "header rows and columns. Typically, used to provide state probabilities.\n",
        "Can also store haplotype/phasing calls or dosage, etc. Files can be raw\n",
        "text or gzipped.\n",
        "\n",
        "SP Format (`--sp`) - Simple text matrix, with a row for each predictor\n",
        "and a column for each individual. Value need not correspond to SNPs.\n",
        "SPEED Format (`--speed`)- binary version of SP Format More info at\n",
        "<http://www.ldak.org/file-formats/>.\n",
        "\n",
        "Call LDAK by typing the name of the executable (same for PLINK, GCTA),\n",
        "which will provide you informations about the program and which\n",
        "arguments could be missing."
      ],
      "id": "9136c34a-f561-4b6a-a665-9e2a7121ccde"
    },
    {
      "cell_type": "code",
      "execution_count": null,
      "metadata": {},
      "outputs": [],
      "source": [
        "ldak"
      ],
      "id": "34b69003-73d3-4209-b7a8-bc73847ec24b"
    },
    {
      "cell_type": "markdown",
      "metadata": {},
      "source": [
        "LDAK options are provided in pairs. One main argument is required, which\n",
        "is followed by the name of the output le. For example, suppose we want\n",
        "to compute statistics, we would use the main argument `--calc-stats`.\n",
        "The command might look like:\n",
        "\n",
        "``` bash\n",
        "ldak --calc-stats output --bfile human\n",
        "```\n",
        "\n",
        "This is asking LDAK to read the data stored in Binary PLINK format with\n",
        "prefix `human`, then save the results to les with prefix `output`.\n",
        "Option pairs can be provided in any order, so would be equivalent to use\n",
        "\n",
        "``` bash\n",
        "ldak --bfile human--calc-stats output\n",
        "```\n",
        "\n",
        "(The command above would compute MAF, call-rates and possibly info\n",
        "scores)\n",
        "\n",
        "## Single SNP association analysis\n",
        "\n",
        "We wish to test each of the 3289 SNPs stored in the dataset human\n",
        "individually for association with the continuous phenotype contained\n",
        "within quant.pheno (using the model $Y = + alpha_j X_j$). For this we\n",
        "use the main argument `--linear` Each main argument requires di erent\n",
        "options. Documentation is provided at\n",
        "[www.ldak.org](https://www.ldak.org), but typically the easiest way is\n",
        "to run `LDAK` using just the main argument, then it will tell you what\n",
        "options you require So here we type"
      ],
      "id": "cd2f28c7-8c8f-4e32-99ab-366442ecd6bd"
    },
    {
      "cell_type": "code",
      "execution_count": null,
      "metadata": {},
      "outputs": [],
      "source": [
        "ldak --linear linear"
      ],
      "id": "4db4e92a-3b5f-4b6c-8924-e926d765eb62"
    },
    {
      "cell_type": "markdown",
      "metadata": {},
      "source": [
        "First LDAK tells us we need to provide phenotypes, so we add that"
      ],
      "id": "93e1ab98-e073-44e1-acc8-522f0b49b641"
    },
    {
      "cell_type": "code",
      "execution_count": null,
      "metadata": {},
      "outputs": [],
      "source": [
        "ldak --linear linear --pheno LDAKdata/quant.pheno"
      ],
      "id": "6a3c392b-0a1a-4d7a-8e70-e5f7bf7c0c4c"
    },
    {
      "cell_type": "markdown",
      "metadata": {},
      "source": [
        "Now LDAK tells us we need to provide data les, so we add them"
      ],
      "id": "d02ee245-4217-478d-b8be-fe96e3444422"
    },
    {
      "cell_type": "code",
      "execution_count": null,
      "metadata": {},
      "outputs": [],
      "source": [
        "ldak --linear linear --pheno LDAKdata/quant.pheno --bfile LDAKdata/human"
      ],
      "id": "521bbe13-093d-41c1-a95c-b3e9d1a05b21"
    },
    {
      "cell_type": "markdown",
      "metadata": {},
      "source": [
        "> **Always pay attention at the output screen**\n",
        ">\n",
        "> It will tell you what options are required and why there are errors.\n",
        "> It will also update you on progress (as will the file `.progress`) and\n",
        "> tell you where the results are saved. For the linear regression, the\n",
        "> main results are in `linear.assoc`. We will use `linear.summaries` for\n",
        "> summary-statistic methods, `linear.pvalues` for clumping, while\n",
        "> `linear.score` provides the polygenic risk score prediction model.\n",
        "\n",
        "Some extra options we might wish to use are `--keep` (to use only a\n",
        "subset of individuals), `--extract` (to use only a subset of predictors)\n",
        "and `--covar` (to include covariates, such as age, sex, population\n",
        "axes).\n",
        "\n",
        "To achieve the same in PLINK, you would use\n",
        "\n",
        "``` bash\n",
        "plink --linear --out linear_plink --bfile LDAKdata/human --pheno LDAKdata/quant.pheno \n",
        "```\n",
        "\n",
        "Note that by default PLINK ignores individuals without sex (add\n",
        "`--allow-no-sex` to continue). If your phenotype is binary, you might\n",
        "prefer logistic regression (use `--logistic` instead of `--linear`).\n",
        "\n",
        "<img src=\"Images/R.png\" alt=\"Bash\" width=\"80\"> Choose the R kernel"
      ],
      "id": "b27b20d1-35a6-499d-a1b7-37f7d15db307"
    },
    {
      "cell_type": "code",
      "execution_count": null,
      "metadata": {},
      "outputs": [],
      "source": [
        "assoc=read.table(\"linear.assoc\",head=T)"
      ],
      "id": "8e067f24-43b0-40b6-85eb-36e278c5bf88"
    },
    {
      "cell_type": "code",
      "execution_count": null,
      "metadata": {},
      "outputs": [],
      "source": [
        "head(assoc,4)"
      ],
      "id": "2210f872-fbfe-4f11-b106-6f713e25272e"
    },
    {
      "cell_type": "code",
      "execution_count": null,
      "metadata": {},
      "outputs": [],
      "source": [
        "which.min(assoc[,7])"
      ],
      "id": "52103f44-7e75-4add-8787-44eef45b6a98"
    },
    {
      "cell_type": "code",
      "execution_count": null,
      "metadata": {},
      "outputs": [],
      "source": [
        "assoc[71,]"
      ],
      "id": "fe3326fc-5094-4c2a-83d3-89366f27439a"
    },
    {
      "cell_type": "code",
      "execution_count": null,
      "metadata": {},
      "outputs": [],
      "source": [
        "options(repr.plot.width=14, repr.plot.height=8)\n",
        "\n",
        "par(mfrow=c(1,2)) \n",
        "plot(-log10(assoc[,7]), \n",
        "     col=assoc[,1], \n",
        "     pch=19,\n",
        "     xlab=\"Chromosome\", \n",
        "     ylab=expression(paste(\"-log\"[10],\" p-value\",sep=\"\")), \n",
        "     main=\"A Pretty Manhattan Plot\",axes=F) \n",
        "marks=array(0,23) \n",
        "for(i in 1:22){\n",
        "    a=which(assoc[,1]==i)\n",
        "    marks[i+1]=marks[i]+length(a)\n",
        "} \n",
        "\n",
        "marks2=(marks[-1]+marks[-23])/2 \n",
        "\n",
        "axis(1,at=marks,rep(\"\",23));\n",
        "\n",
        "axis(1,at=marks2,lab=1:22,tick=F) \n",
        "\n",
        "axis(2);abline(h=-log10(5e-8),lwd=3,lty=2) \n",
        "\n",
        "ord=order(assoc[,7])\n",
        "\n",
        "obsP=assoc[ord,7] \n",
        "\n",
        "N=nrow(assoc)\n",
        "\n",
        "expP=1:N/(N+1) \n",
        "\n",
        "plot(-log10(expP), \n",
        "     -log10(obsP),\n",
        "     pch=19,\n",
        "     xlab=\"Expected-log10 P\", \n",
        "     ylab=\"Observed-log10 P\",\n",
        "     main=\"A Less Pretty QQ-Plot\") \n",
        "\n",
        "abline(a=0,b=1,col=2,lwd=3,lty=3) \n",
        "\n",
        "gif=qchisq(median(assoc[,7]),1,lower=F)/qchisq(.5,1) \n",
        "\n",
        "text(1.5,15,paste(\"Genomic Inflation Factor:\",round(gif,2)),cex=1.3)"
      ],
      "id": "d5f4a355-5c9d-408d-9e86-2d0334fa567c"
    },
    {
      "cell_type": "markdown",
      "metadata": {},
      "source": [
        "<img src=\"Images/bash.png\" alt=\"Bash\" width=\"80\"> Choose the Bash kernel\n",
        "\n",
        "To identify genome-wide associated SNPs we can use `awk`"
      ],
      "id": "71ced9a7-8b4e-4577-b2b0-d4e3f7c20673"
    },
    {
      "cell_type": "code",
      "execution_count": null,
      "metadata": {},
      "outputs": [],
      "source": [
        "awk < linear.assoc '($7<5e-8){print$0}' "
      ],
      "id": "7590d00a-e930-4b1e-b978-93b6f6937842"
    },
    {
      "cell_type": "markdown",
      "metadata": {},
      "source": [
        "To identify the independent loci, use the command `--thin-tops`; this\n",
        "will find then prune all SNPs with p-values below a specified threshold.\n",
        "`--thin-tops` requires lots of options, butagain, LDAK will walk you\n",
        "through them…"
      ],
      "id": "e0580b43-0426-46c6-9aee-9f664cf02820"
    },
    {
      "cell_type": "code",
      "execution_count": null,
      "metadata": {},
      "outputs": [],
      "source": [
        "ldak --thin-tops top --bfile LDAKdata/human --pvalues linear.pvalues \\\n",
        "--cutoff 5e-8 --window-cm 1 --window-prune .2"
      ],
      "id": "df36dd40-e5a6-45a5-adf3-ebb5f3b7114e"
    },
    {
      "cell_type": "code",
      "execution_count": null,
      "metadata": {},
      "outputs": [],
      "source": [
        "cat top.in"
      ],
      "id": "96b6ed09-751f-4586-b827-f6b0c9c21143"
    },
    {
      "cell_type": "code",
      "execution_count": null,
      "metadata": {},
      "outputs": [],
      "source": [
        "awk '(NR==FNR){arr[$1];next}($2inarr){print$0}' top.in linear.assoc | head -n 10"
      ],
      "id": "fa9ed208-d5b5-4a3b-b19c-619ca230cc1e"
    },
    {
      "cell_type": "markdown",
      "metadata": {},
      "source": [
        "## Preparing a GWAS\n",
        "\n",
        "The steps are as follows:\n",
        "\n",
        "1 - Remove poorly genotyped samples and SNPs 2 - Remove ethnic outliers\n",
        "3 - Imputation 4 - Remove poorly imputed samples and SNPs 5 - Remove\n",
        "related individuals\n",
        "\n",
        "Steps 1, 2 & 3 are fairly constant. Steps 4 & 5 depend on the aim of the\n",
        "GWAS; heritability analyses generally require much stricter quality\n",
        "control than single-SNP analysis, and are designed for unrelated\n",
        "individuals. One would also increase QC if studying a binary phenotype.\n",
        "E.g., for a single-SNP analysis, I might use an info score threshold of\n",
        "\\>0.5 or \\>0.8, but for heritability analysis require info \\>0.99.\n",
        "\n",
        "### Standard QC steps on the human data\n",
        "\n",
        "We run some predefined thresholds on the human data"
      ],
      "id": "ab1debba-08ab-4121-823c-00f365aff4ee"
    },
    {
      "cell_type": "code",
      "execution_count": null,
      "metadata": {},
      "outputs": [],
      "source": [
        "plink --bfile LDAKdata/human \\\n",
        "    --geno 0.02 \\\n",
        "    --make-bed \\\n",
        "    --out Results/human1 --silent\n",
        "\n",
        "plink --bfile Results/human1 \\\n",
        "    --mind 0.02 \\\n",
        "    --make-bed \\\n",
        "    --out Results/human2 --silent\n",
        "    \n",
        "plink --bfile Results/human2 \\\n",
        "    --maf 0.05 \\\n",
        "    --make-bed  \\\n",
        "    --out Results/human3 --silent"
      ],
      "id": "470e3612-2ea6-4e62-b02b-49bcc731b5a0"
    },
    {
      "cell_type": "markdown",
      "metadata": {},
      "source": [
        "### Ethnic outliers and overlapping to a reference\n",
        "\n",
        "Generally we wish to identify and exclude population outliers (the\n",
        "exception is mixed-model association analysis). For this, we will\n",
        "compute a kinship matrix (also referred to as a relatedness\n",
        "matrix/allelic correlations).\n",
        "\n",
        "The command for computing a kinship matrix is `--calc-kins-direct`. You\n",
        "must use either `--weights` or `--ignore-weights YES` to specify SNP\n",
        "weightings, and `--power` to specify how to standardize SNPs.\n",
        "\n",
        "People normally use (in-sample) principal component analysis (PCA) in\n",
        "this way:thin the SNPs, calculate a kinship matrix, perform PCA then\n",
        "plot, and find outliers.\n",
        "\n",
        "However, you cna also project the data onto population axes derived from\n",
        "a diverse reference panel (e.g., HapMap):\n",
        "\n",
        "1 - Find overlap of SNPs between dataset and reference panel 2 - Using\n",
        "the reference panel, calculate a kinship matrix, perform PCA and compute\n",
        "SNP loadings for the principal components 3 - Project the data onto\n",
        "these principal components, then plot\n",
        "\n",
        "#### Ethnic outliers"
      ],
      "id": "63cf0633-dc29-43f9-b8c6-27030b49a1b6"
    },
    {
      "cell_type": "code",
      "execution_count": null,
      "metadata": {},
      "outputs": [],
      "source": [
        "#thin for LD \n",
        "ldak --bfile Results/human3 --thin prune \\\n",
        "    --window-prune .2 --window-cm 1 "
      ],
      "id": "fbe7de47-e4ef-4c91-97ce-213ec3883284"
    },
    {
      "cell_type": "markdown",
      "metadata": {},
      "source": [
        "This produces `prune.in` and `prune.out`"
      ],
      "id": "5f896f26-bfde-4536-b4d0-332e665520d9"
    },
    {
      "cell_type": "code",
      "execution_count": null,
      "metadata": {},
      "outputs": [],
      "source": [
        "#compute unweighted kinships \n",
        "ldak --calc-kins-direct prune --bfile Results/human3 \\\n",
        "    --ignore-weights YES --power -1 --extract prune.in \\\n",
        "    --kinship-raw YES "
      ],
      "id": "e1e2eb05-0db6-4139-a0fc-0a6ed401c869"
    },
    {
      "cell_type": "markdown",
      "metadata": {},
      "source": [
        "The kinship matrix is stored with stem `prune`"
      ],
      "id": "3de7583b-9405-490d-b891-8a9024f318e9"
    },
    {
      "cell_type": "code",
      "execution_count": null,
      "metadata": {},
      "outputs": [],
      "source": [
        "#calculate 5 principal components \n",
        "ldak --pca prune --grm prune --axes 5"
      ],
      "id": "e297f017-8086-4fbf-9704-fc575a05bb0e"
    },
    {
      "cell_type": "markdown",
      "metadata": {},
      "source": [
        "Having computed the PCAs, we can plot and identify outliers\n",
        "\n",
        "<img src=\"Images/R.png\" alt=\"Bash\" width=\"80\"> Choose the R kernel"
      ],
      "id": "07227536-7a7b-4133-8a34-cb08010abdc9"
    },
    {
      "cell_type": "code",
      "execution_count": null,
      "metadata": {},
      "outputs": [],
      "source": [
        "datapca=read.table(\"prune.vect\")\n",
        "plot(datapca[,3:4],xlab=\"PC1\",ylab=\"PC2\")\n",
        "abline(v=.07,col=2,lwd=3,lty=2)"
      ],
      "id": "a489dfa9-e266-4655-9c4d-732338bce1d2"
    },
    {
      "cell_type": "markdown",
      "metadata": {},
      "source": [
        "### Projection from reference\n",
        "\n",
        "<img src=\"Images/bash.png\" alt=\"Bash\" width=\"80\"> Choose the bash kernel"
      ],
      "id": "bca10890-99d4-4c6c-bacd-07aae8452092"
    },
    {
      "cell_type": "code",
      "execution_count": null,
      "metadata": {},
      "outputs": [],
      "source": [
        "#get overlap between human and hapmap, then thin hapmap \n",
        "awk '(NR==FNR){arr[$2];next}($2 in arr){print $2}' \\\n",
        "    Results/human3.bim LDAKdata/hapmap.bim > overlap.txt \n",
        "\n",
        "ldak --thin thin --bfile LDAKdata/hapmap \\\n",
        "    --window-prune .2 --window-kb 1000 \\\n",
        "    --extract overlap.txt \n",
        "    "
      ],
      "id": "b0f26f04-f8d4-449b-aeb7-017c0e3e7025"
    },
    {
      "cell_type": "code",
      "execution_count": null,
      "metadata": {},
      "outputs": [],
      "source": [
        "#compute kinships, pcas and loadings \n",
        "ldak --calc-kins-direct hapmap --bfile LDAKdata/hapmap \\\n",
        "    --extract thin.in --ignore-weights YES --power -1 "
      ],
      "id": "a46d0b74-6561-4571-bcac-c8887805b50f"
    },
    {
      "cell_type": "code",
      "execution_count": null,
      "metadata": {},
      "outputs": [],
      "source": [
        "ldak --pca hapmap --grm hapmap --axes 20"
      ],
      "id": "1aca86f1-790e-4e6c-8637-e4cf9f5a4101"
    },
    {
      "cell_type": "code",
      "execution_count": null,
      "metadata": {},
      "outputs": [],
      "source": [
        "ldak --calc-pca-loads hapmap --bfile LDAKdata/hapmap \\\n",
        "    --grm hapmap --pcastem hapmap\n",
        "    "
      ],
      "id": "231e464b-1e4d-41dc-a5a8-adc62c7df373"
    },
    {
      "cell_type": "code",
      "execution_count": null,
      "metadata": {},
      "outputs": [],
      "source": [
        "#project human onto these loadings \n",
        "ldak --calc-scores project --bfile Results/human3 \\\n",
        "    --scorefile hapmap.load --power 0"
      ],
      "id": "032567c5-769c-4c8b-8d04-980ea8e9b8a0"
    },
    {
      "cell_type": "markdown",
      "metadata": {},
      "source": [
        "Plot the HapMap PCs, project onto these our data, then identify\n",
        "outliers. Save a list of individuals to keep to `goodpop.keep`\n",
        "\n",
        "<img src=\"Images/R.png\" alt=\"Bash\" width=\"80\"> Choose the R kernel"
      ],
      "id": "ce59c3de-873e-42fc-aa92-dbda4ed17a97"
    },
    {
      "cell_type": "code",
      "execution_count": null,
      "metadata": {},
      "outputs": [],
      "source": [
        "happca=read.table(\"hapmap.vect\") \n",
        "proj=read.table(\"project.profile\",head=T) \n",
        "par(mfrow=c(1,2)) \n",
        "plot(happca[,3:4],col=\"light grey\",pch=19,xlab=\"Proj 1\",ylab=\"Proj 2\") \n",
        "text(c(-.04,.02,.02),c(0,.05,-.04),c(\"African\",\"European\",\"Asian\")) \n",
        "plot(happca[,3:4],col=\"light grey\",pch=19,xlab=\"Proj 1\",ylab=\"Proj 2\") \n",
        "points(proj[,c(5,7)],col=2,pch=19) \n",
        "abline(v=.005,col=2,lwd=3,lty=2) \n",
        "abline(h=.025,col=2,lwd=3,lty=2) \n",
        "keep=which(proj[,5]>.005&proj[,7]>.025) \n",
        "write.table(proj[keep,1:2],\"goodpop.keep\",row=F,col=F,quote=F)"
      ],
      "id": "2f33b099-c30d-4c20-8f85-58bd139604a7"
    },
    {
      "cell_type": "markdown",
      "metadata": {},
      "source": [
        "Note that when using a proper number of individuals, the clusters will\n",
        "be much tighter. Also, for convenience, here we used\n",
        "[HapMap](ftp://ftp.ncbi.nlm.nih.gov/hapmap/genotypes/2009-01_%20phaseIII/plink_format),\n",
        "but better to use 1000 Genomes Project (see\n",
        "[www.ldak.org/reference-panel](www.ldak.org/reference-panel))\n",
        "\n",
        "Below we plot both the PCA of the data itself and the PCA of the\n",
        "projection on the reference dataset."
      ],
      "id": "5b9bf6c0-43b5-4ab5-bab9-b031c769df7c"
    },
    {
      "cell_type": "code",
      "execution_count": null,
      "metadata": {},
      "outputs": [],
      "source": [
        "datapca=read.table(\"prune.vect\") \n",
        "happca=read.table(\"hapmap.vect\") \n",
        "proj=read.table(\"project.profile\",head=T) \n",
        "sites=rep(1,nrow(proj)) \n",
        "a=grep(\"AFR\",proj[,2])\n",
        "sites[a]=2 \n",
        "a=grep(\"EAS\",proj[,2])\n",
        "sites[a]=3\n",
        "a=grep(\"SAS\",proj[,2])\n",
        "sites[a]=4 \n",
        "a=grep(\"EUR\",proj[,2])\n",
        "sites[a]=5\n",
        "a=grep(\"AMR\",proj[,2])\n",
        "sites[a]=6 \n",
        "a=grep(\"FIN\",proj[,2])\n",
        "sites[a]=7\n",
        "par(mfrow=c(1,2)) \n",
        "plot(datapca[,3:4],col=sites,pch=19,xlab=\"PCA 1\",ylab=\"PCA 2\") \n",
        "plot(happca[,3:4],col=\"light grey\",pch=19,xlab=\"Proj 1\",ylab=\"Proj 2\") \n",
        "points(proj[,c(5,7)],col=sites,pch=19)"
      ],
      "id": "a43491da-70c9-4aff-84de-86dc47b45ee4"
    },
    {
      "cell_type": "markdown",
      "metadata": {},
      "source": [
        "We want to create a covariate le to use in subsequent regressions.\n",
        "Generally include as covariates sex plus 10 principal components (5 from\n",
        "in-sample PC, 5 from population projections, from the two plots above).\n",
        "If you have imputed the data, repeat the PCA using that before using the\n",
        "PCA as covariates."
      ],
      "id": "32d7ddd4-0f20-4a62-9818-91305ed25d5d"
    },
    {
      "cell_type": "code",
      "execution_count": null,
      "metadata": {},
      "outputs": [],
      "source": [
        "#can get sex from Column 5 of the fam file \n",
        "fam=read.table(\"LDAKdata/human.fam\") \n",
        "#use match() to ensure samples are aligned \n",
        "m1=match(fam[,1],datapca[,1]) \n",
        "m2=match(fam[,1],proj[,1]) \n",
        "covar=cbind(fam[,c(1,2,5)],datapca[m1,3:7],proj[m2,c(5,7,9,11,13)]) \n",
        "write.table(covar,\"covar.covar\",row=F,col=F,quote=F)"
      ],
      "id": "34d80942-e9a0-4380-8974-c77301e3d0dc"
    },
    {
      "cell_type": "markdown",
      "metadata": {},
      "source": [
        "## Remove relatedness\n",
        "\n",
        "Remove Relatedness To estimate relatedness we can use the kinship matrix\n",
        "computed when performing PCA (i.e., from thinned SNPs). Ideally you\n",
        "would first remove population outliers. Notice that allelic correlation\n",
        "kinships are distributed around expected values (e.g., 1/2 for\n",
        "full-sibs, 0 for unrelateds ), and there are values above 1 and below 0.\n",
        "(For proper sample sizes, spread will be smaller). The general\n",
        "assumption is if we find identical individuals, these are accidental\n",
        "duplicates, so we want to remove one of each pair. We can do this using\n",
        "`filter`:\n",
        "\n",
        "<img src=\"Images/bash.png\" alt=\"Bash\" width=\"80\"> Choose the Bash kernel"
      ],
      "id": "a9d4efef-3ed1-450f-8baa-cad96c1d8e58"
    },
    {
      "cell_type": "code",
      "execution_count": null,
      "metadata": {},
      "outputs": [],
      "source": [
        "ldak --filter dups --grm prune --keep goodpop.keep --max-rel .8"
      ],
      "id": "7d93c7e5-797b-412b-9942-afc53a92c8f7"
    },
    {
      "cell_type": "markdown",
      "metadata": {},
      "source": [
        "(Of course, duplicates may be twins, so check clinical data if\n",
        "possible).\n",
        "\n",
        "If our aim is single-SNP analysis, we normally want to remove close\n",
        "relatedness; a typical cut-off is 0.185, half-way between half-sibs and\n",
        "cousins:"
      ],
      "id": "8adabc20-797c-43d6-8a57-03a49e57b5b5"
    },
    {
      "cell_type": "code",
      "execution_count": null,
      "metadata": {},
      "outputs": [],
      "source": [
        "ldak --filter close --grm prune --keep goodpop.keep --max-rel .375"
      ],
      "id": "aaa46550-489f-4005-86f3-40c6a5da9410"
    },
    {
      "cell_type": "markdown",
      "metadata": {},
      "source": [
        "(This is not necessary if performing mixed-model association analysis).\n",
        "\n",
        "For heritability analyses, we generally require unrelated individuals,\n",
        "so we lter based on estimated relatedness. As a threshold, you can use\n",
        "an arbitrary value (say 0.025 or 0.05) or second cousins (1/32=0.03125),\n",
        "but prefer to use the negative of the smallest value observed (the\n",
        "default in LDAK)"
      ],
      "id": "d3883e20-21d8-4b8f-877c-205885d8e20a"
    },
    {
      "cell_type": "code",
      "execution_count": null,
      "metadata": {},
      "outputs": [],
      "source": [
        "ldak --filter filter --grm prune --keep goodpop.keep"
      ],
      "id": "00da7af7-7ccd-41f5-9ab5-6bfbf7deab91"
    },
    {
      "cell_type": "markdown",
      "metadata": {},
      "source": [
        "In this (unrealistic example), the minimum kinship is -0.176; using this\n",
        "threshold results in removal of 9 individuals, so that 397 remain\n",
        "(stored in `filter.keep`)\n",
        "\n",
        "# SingleSNP analysis\n",
        "\n",
        "Having performed quality control, now would be the correct time to\n",
        "perform single-SNP analysis"
      ],
      "id": "6f706eb5-a0b4-4ba4-9daf-5b75744f671b"
    },
    {
      "cell_type": "code",
      "execution_count": null,
      "metadata": {},
      "outputs": [],
      "source": [
        "ldak --linear linear --pheno LDAKdata/quant.pheno --bfile Results/human3  --covar covar.covar"
      ],
      "id": "761ea594-4e36-45de-91c5-4bf0210f24bc"
    },
    {
      "cell_type": "markdown",
      "metadata": {},
      "source": [
        "Look at the output message, which tells us the results are in the\n",
        "`linear.assoc` file. The file looks like this\n",
        "\n",
        "<img src=\"Images/R.png\" alt=\"Bash\" width=\"80\"> Choose the R kernel"
      ],
      "id": "3b3f0d43-58e9-4f34-897b-b7b7332f4c14"
    },
    {
      "cell_type": "code",
      "execution_count": null,
      "metadata": {},
      "outputs": [],
      "source": [
        "results_log <- read.table(\"linear.assoc\", head=TRUE)\n",
        "head(results_log)"
      ],
      "id": "94118d24-196a-4bf4-8384-78d1a88896f2"
    },
    {
      "cell_type": "code",
      "execution_count": null,
      "metadata": {},
      "outputs": [],
      "source": [
        "# Setup to avoid long messages and plot on screen\n",
        "options(warn=-1)\n",
        "options(jupyter.plot_mimetypes = 'image/png')\n",
        "\n",
        "# Load GWAS package qqman\n",
        "suppressMessages(library(\"qqman\"))\n",
        "\n",
        "# Manhattan plot using --logistic results\n",
        "results_log <- read.table(\"linear.assoc\", head=TRUE)\n",
        "#manhattan(results_log, main = \"Manhattan plot: logistic\", cex.axis=1.1)\n",
        "manhattan(\n",
        "  results_log,\n",
        "  chr = \"Chromosome\",\n",
        "  bp = \"Basepair\",\n",
        "  p = \"Wald_P\",\n",
        "  snp = \"Predictor\",\n",
        "  col = c(\"pink\", \"blue\"),\n",
        "  suggestiveline = -log10(1e-7),\n",
        "  genomewideline = 0,\n",
        "  highlight = NULL,\n",
        "  logp = TRUE,\n",
        "  annotatePval = FALSE,\n",
        "  annotateTop = TRUE\n",
        ")"
      ],
      "id": "ee82443c-9643-44a6-be72-0fecbbeee1a2"
    },
    {
      "cell_type": "markdown",
      "metadata": {},
      "source": [
        "Which is the SNP with strongest association? We filter for smallest\n",
        "SNPsas in the line on the plot above"
      ],
      "id": "8dccd9d1-e2bc-43cf-a831-8f416ea876a1"
    },
    {
      "cell_type": "code",
      "execution_count": null,
      "metadata": {},
      "outputs": [],
      "source": [
        "library(dplyr)\n",
        "results_log %>% filter(Wald_P < .00001) %>% arrange(Wald_P)"
      ],
      "id": "880dd883-2e91-484d-8d3e-906a50728cc5"
    },
    {
      "cell_type": "markdown",
      "metadata": {},
      "source": [
        "# Conditional association analysis\n",
        "\n",
        "We now wish to condition on the most strongly associated SNP\n",
        "(21:15603999) Save this SNP to a file, then add the option\n",
        "`--top-preds`:\n",
        "\n",
        "<img src=\"Images/bash.png\" alt=\"Bash\" width=\"80\"> Choose the Bash kernel"
      ],
      "id": "1fe8ee92-cc71-45e8-a225-d88151296c8e"
    },
    {
      "cell_type": "code",
      "execution_count": null,
      "metadata": {},
      "outputs": [],
      "source": [
        "echo \"21:15603999\" > top.snps ldak \n",
        "\n",
        "ldak --linear linear_cond \\\n",
        "    --pheno LDAKdata/quant.pheno \\\n",
        "    --bfile LDAKdata/human \\\n",
        "    --top-preds top.snps"
      ],
      "id": "d71b0789-72a7-40c9-80c5-07b5e624500a"
    },
    {
      "cell_type": "markdown",
      "metadata": {},
      "source": [
        "This will include the top SNP as a (fixed-effect) covariate in the\n",
        "regression (this is equivalent to making a covariate file containing the\n",
        "SNP values, then using `--covar` instead of `--top-preds`) Previously,\n",
        "we searched for independent loci by pruning; conditional analysis is a\n",
        "more e ective (but slower) way to do this.\n",
        "\n",
        "We see that when we condition on `21:15603999`, the two nearby SNPs are\n",
        "no longer significant, because they were in high LD with it! You could\n",
        "then also condition on the next top SNP (by adding it to the file\n",
        "`top.snps`), and so on\n",
        "\n",
        "<img src=\"Images/R.png\" alt=\"Bash\" width=\"80\"> Choose the R kernel"
      ],
      "id": "81c4de8a-fe5d-498d-b7a6-16fbac0cb2e0"
    },
    {
      "cell_type": "code",
      "execution_count": null,
      "metadata": {},
      "outputs": [],
      "source": [
        "# Setup to avoid long messages and plot on screen\n",
        "options(warn=-1)\n",
        "options(jupyter.plot_mimetypes = 'image/png')\n",
        "\n",
        "# Load GWAS package qqman\n",
        "suppressMessages(library(\"qqman\"))\n",
        "\n",
        "# Manhattan plot using --logistic results\n",
        "results_log <- read.table(\"linear_cond.assoc\", head=TRUE)\n",
        "#manhattan(results_log, main = \"Manhattan plot: logistic\", cex.axis=1.1)\n",
        "manhattan(\n",
        "  results_log,\n",
        "  chr = \"Chromosome\",\n",
        "  bp = \"Basepair\",\n",
        "  p = \"Wald_P\",\n",
        "  snp = \"Predictor\",\n",
        "  col = c(\"pink\", \"blue\"),\n",
        "  suggestiveline = -log10(1e-7),\n",
        "  genomewideline = 0,\n",
        "  highlight = NULL,\n",
        "  logp = TRUE,\n",
        "  annotatePval = FALSE,\n",
        "  annotateTop = TRUE\n",
        ")"
      ],
      "id": "1195185d-dd4e-4da7-9f57-6843b27ecee9"
    },
    {
      "cell_type": "code",
      "execution_count": null,
      "metadata": {},
      "outputs": [],
      "source": [
        "library(dplyr)\n",
        "results_log %>% filter(Wald_P < .00001) %>% arrange(Wald_P)"
      ],
      "id": "b64c9e58-06d1-4481-88ca-5ce932f27f5f"
    },
    {
      "cell_type": "markdown",
      "metadata": {},
      "source": [
        "# Mixed model analysis\n",
        "\n",
        "The standard linear model for testing SNP j is\n",
        "\n",
        "$$Y = + \\beta_j X_j$$\n",
        "\n",
        "Mixed-model linear regression extends this to\n",
        "\n",
        "$$Y = + \\beta_j X_j + g where gi N(0, K \\sigma^2_g)$$\n",
        "\n",
        "and K is a kinship matrix The original idea was that including g allows\n",
        "for long-range correlations due to relatedness and population structure.\n",
        "But recently, it has been realised that **g** will also capture the\n",
        "contribution of other causal variants, so in effect we are testing SNP j\n",
        "using a multi-SNP model. Mixed-model association analysis is also\n",
        "implemented in EMMA, FastLMM, GEMMA and GCTA.\n",
        "\n",
        "The mice data contain large amounts of relatedness (all individualsare\n",
        "derived from just 8 founders). Standard single-SNP analysis will give\n",
        "near meaningless results. Look at the plots from the linear test:\n",
        "\n",
        "<img src=\"Images/bash.png\" alt=\"Bash\" width=\"80\"> Choose the Bash kernel"
      ],
      "id": "9aa01f1f-0bd0-4959-8f93-805aaa1b5028"
    },
    {
      "cell_type": "code",
      "execution_count": null,
      "metadata": {},
      "outputs": [],
      "source": [
        "ldak --linear stand --pheno LDAKdata/mice.pheno --bfile LDAKdata/mice"
      ],
      "id": "097c333b-83f9-4d58-95f5-77f04f59e065"
    },
    {
      "cell_type": "markdown",
      "metadata": {},
      "source": [
        "<img src=\"Images/bash.png\" alt=\"R\" width=\"80\"> Choose the R kernel"
      ],
      "id": "2af357bb-9454-4df4-abb6-cec63a42c776"
    },
    {
      "cell_type": "code",
      "execution_count": null,
      "metadata": {},
      "outputs": [],
      "source": [
        "# Setup to avoid long messages and plot on screen\n",
        "options(warn=-1)\n",
        "options(jupyter.plot_mimetypes = 'image/png')\n",
        "\n",
        "# Load GWAS package qqman\n",
        "suppressMessages(library(\"qqman\"))\n",
        "\n",
        "# Manhattan plot using --logistic results\n",
        "results_log <- read.table(\"stand.assoc\", head=TRUE)\n",
        "#manhattan(results_log, main = \"Manhattan plot: logistic\", cex.axis=1.1)\n",
        "manhattan(\n",
        "  results_log,\n",
        "  chr = \"Chromosome\",\n",
        "  bp = \"Basepair\",\n",
        "  p = \"Wald_P\",\n",
        "  snp = \"Predictor\",\n",
        "  col = c(\"pink\", \"blue\"),\n",
        "  suggestiveline = -log10(1e-7),\n",
        "  genomewideline = 0,\n",
        "  highlight = NULL,\n",
        "  logp = TRUE,\n",
        "  annotatePval = FALSE,\n",
        "  annotateTop = TRUE\n",
        ")"
      ],
      "id": "d151ad77-8f27-482e-9c95-2b3e81f983d4"
    },
    {
      "cell_type": "code",
      "execution_count": null,
      "metadata": {},
      "outputs": [],
      "source": [
        "qq(results_log$Wald_P, main = \"Q-Q plot of GWAS p-values (log) using linear model on mice\")"
      ],
      "id": "fa9a6536-c486-43b6-9a16-c275d8b8cb21"
    },
    {
      "cell_type": "markdown",
      "metadata": {},
      "source": [
        "However, results are dramatically improved by adding a kinship matrix\n",
        "\n",
        "<img src=\"Images/bash.png\" alt=\"Bash\" width=\"80\"> Choose the Bash kernel"
      ],
      "id": "d34438eb-f499-45e7-9937-233fb08d4197"
    },
    {
      "cell_type": "code",
      "execution_count": null,
      "metadata": {},
      "outputs": [],
      "source": [
        "ldak --calc-kins-direct kinsm --bfile LDAKdata/mice\\\n",
        "    --ignore-weights YES --power -1 \n",
        "ldak --linear mm --pheno LDAKdata/mice.pheno --bfile LDAKdata/mice --grm kinsm"
      ],
      "id": "4fad9fda-2316-479c-afc4-491a761e0e04"
    },
    {
      "cell_type": "markdown",
      "metadata": {},
      "source": [
        "<img src=\"Images/R.png\" alt=\"Bash\" width=\"80\"> Choose the R kernel"
      ],
      "id": "e358344f-ff5c-4edb-82a3-f235c27e8cd4"
    },
    {
      "cell_type": "code",
      "execution_count": null,
      "metadata": {},
      "outputs": [],
      "source": [
        "# Setup to avoid long messages and plot on screen\n",
        "options(warn=-1)\n",
        "options(jupyter.plot_mimetypes = 'image/png')\n",
        "\n",
        "# Load GWAS package qqman\n",
        "suppressMessages(library(\"qqman\"))\n",
        "\n",
        "# Manhattan plot using --logistic results\n",
        "results_log <- read.table(\"mm.assoc\", head=TRUE)\n",
        "#manhattan(results_log, main = \"Manhattan plot: logistic\", cex.axis=1.1)\n",
        "manhattan(\n",
        "  results_log,\n",
        "  chr = \"Chromosome\",\n",
        "  bp = \"Basepair\",\n",
        "  p = \"Wald_P\",\n",
        "  snp = \"Predictor\",\n",
        "  col = c(\"pink\", \"blue\"),\n",
        "  suggestiveline = -log10(1e-7),\n",
        "  genomewideline = 0,\n",
        "  highlight = NULL,\n",
        "  logp = TRUE,\n",
        "  annotatePval = FALSE,\n",
        "  annotateTop = TRUE\n",
        ")"
      ],
      "id": "6963ca59-3be8-499b-b7c0-3801f20d684b"
    },
    {
      "cell_type": "code",
      "execution_count": null,
      "metadata": {},
      "outputs": [],
      "source": [
        "qq(results_log$Wald_P, main = \"Q-Q plot of GWAS p-values (log) using linear model on mice\")"
      ],
      "id": "01709d35-1378-4d69-91ab-86fff5b6ae58"
    },
    {
      "cell_type": "markdown",
      "metadata": {},
      "source": [
        "# Estimate SNP heritability from data\n",
        "\n",
        "To SNP heritability under the LDAK Model, there are three steps:\n",
        "\n",
        "A - Calculate SNP weightings B - Calculate a weighted kinship matrix C -\n",
        "Estimate the genetic and environmental variance via REML or Haseman\n",
        "Elston or PCGC Regression (using only unrelated individuals). Those are\n",
        "some of the possible techniques which are implemented also in other\n",
        "softwares.\n",
        "\n",
        "## SNP weights\n",
        "\n",
        "The simple way to do this is using `--cut-weights` and\n",
        "`--calc-weights-all`. This can take a lot of time and you need to be\n",
        "patient.\n",
        "\n",
        "<img src=\"Images/bash.png\" alt=\"Bash\" width=\"80\"> Choose the bash kernel"
      ],
      "id": "402b8a93-ac3f-4ccf-8cd7-cf345932172b"
    },
    {
      "cell_type": "code",
      "execution_count": null,
      "metadata": {},
      "outputs": [],
      "source": [
        "ldak --bfile LDAKdata/human --cut-weights sections \\\n",
        "    --keep goodpop.keep \n",
        "\n",
        "ldak --bfile LDAKdata/human --calc-weights-all sections \\\n",
        "    --keep goodpop.keep"
      ],
      "id": "a8433e61-787f-4ca4-98f7-e87027f5be8e"
    },
    {
      "cell_type": "markdown",
      "metadata": {},
      "source": [
        "## Weighted Kinship matrix\n",
        "\n",
        "For this, we use `--calc-kins-direct`"
      ],
      "id": "24c5cb1e-153b-48d9-87bb-24a2ba1b7a62"
    },
    {
      "cell_type": "code",
      "execution_count": null,
      "metadata": {},
      "outputs": [],
      "source": [
        "ldak --calc-kins-direct kins --bfile LDAKdata/human \\\n",
        "    --weights sections/weights.all\\\n",
        "    --power -.25 --kinship-raw YES"
      ],
      "id": "259a93dc-92b6-4b24-a421-c2916bc1c77d"
    },
    {
      "cell_type": "markdown",
      "metadata": {},
      "source": [
        "## Estimate variance components\n",
        "\n",
        "First we consider the phenotype `quant.pheno` and use `REML`. Remember\n",
        "to include `--keep` so that we only use unrelated individuals. The main\n",
        "output file is `quant.reml`, but there are many additional files."
      ],
      "id": "53b73de3-4d48-43de-9743-83492e0a12be"
    },
    {
      "cell_type": "code",
      "execution_count": null,
      "metadata": {},
      "outputs": [],
      "source": [
        "ldak --reml quant --grm kins\\\n",
        "    --pheno LDAKdata/quant.pheno\\\n",
        "    --keep filter.keep"
      ],
      "id": "5c906773-99a7-4c8e-bb63-ee3737f2f9e1"
    },
    {
      "cell_type": "markdown",
      "metadata": {},
      "source": [
        "Note, large efect SNPs should be included as top predictors!\n",
        "\n",
        "Heritability is estimated to be 0.73 +- 0.08"
      ],
      "id": "86631776-c68c-47e1-bc70-95bd1b6395ed"
    },
    {
      "cell_type": "code",
      "execution_count": null,
      "metadata": {},
      "outputs": [],
      "source": [
        "cat quant.reml"
      ],
      "id": "46e1fab5-c8bc-4cec-8e62-53e4c97eb721"
    },
    {
      "cell_type": "markdown",
      "metadata": {},
      "source": [
        "# From multiple phenotypes\n",
        "\n",
        "The file multi.pheno contains 10 traits. You can use the `--reml multi`\n",
        "option for multiple phenotypes. We also need to decompose the kinship\n",
        "matrix, which speeds up a lot the analysis computation. This is\n",
        "especially useful when testing gene expression, where you can have more\n",
        "than 20K phenotypes"
      ],
      "id": "9fea7ed1-4f78-41b3-bc9b-eaf1dc72a4c4"
    },
    {
      "cell_type": "code",
      "execution_count": null,
      "metadata": {},
      "outputs": [],
      "source": [
        "ldak --decompose kins --grm kins --keep filter.keep\n",
        "\n",
        "ldak --reml multi --grm kins --eigen kins \\\n",
        "    --pheno LDAKdata/multi.pheno --keep filter.keep\\\n",
        "    --mpheno -1"
      ],
      "id": "4d7a9751-7daf-4720-8e90-a072bd565490"
    },
    {
      "cell_type": "code",
      "execution_count": null,
      "metadata": {},
      "outputs": [],
      "source": [
        "cat multi.10.reml"
      ],
      "id": "ac4fd6cd-9eaf-4555-9ffb-da5640ce6dcc"
    }
  ],
  "nbformat": 4,
  "nbformat_minor": 5,
  "metadata": {
    "kernelspec": {
      "name": "bash",
      "display_name": "Bash",
      "language": "bash"
    },
    "language_info": {
      "name": "bash",
      "codemirror_mode": "shell",
      "file_extension": ".sh",
      "mimetype": "text/x-sh"
    }
  }
}