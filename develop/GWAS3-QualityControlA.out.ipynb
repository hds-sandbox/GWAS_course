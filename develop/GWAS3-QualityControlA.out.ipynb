{
  "cells": [
    {
      "cell_type": "markdown",
      "metadata": {},
      "source": [
        "# Quality Control: initial steps\n",
        "\n",
        "> **Important notes for this notebook**\n",
        ">\n",
        "> After gathering your data and genotyping, there are many checks to do\n",
        "> to determine the quality of the data. It is crucial to **perform\n",
        "> quality control before** carrying out any GWAS, otherwise, there is\n",
        "> the risk that some of the associations are spurious.\n",
        ">\n",
        "> ## Learning outcomes\n",
        ">\n",
        "> -   **Distinguish** the various QC steps\n",
        "> -   **Discuss and choose** thresholds on plink\n",
        "> -   **Implement** basic QC in `plink` and statistical plots in `R`\n",
        "> -   **Hypothesize** the effects of various `plink` commands and\n",
        ">     **verify** your hypothesis using the analysis in `R`\n",
        ">\n",
        "> ## How to make this notebook work\n",
        ">\n",
        "> -   In this notebook, we will use both `R` and `bash command line`\n",
        ">     programming languages. Remember to **change the kernel** whenever\n",
        ">     you transition from one language to the other\n",
        ">     (`Kernel --> Change Kernel`) indicated by the languages’ images.\n",
        ">     We will first run `Bash` commands.\n",
        ">\n",
        "> <img src=\"Images/bash.png\" alt=\"Bash\" width=\"80\"> Choose the Bash\n",
        "> kernel\n",
        "\n",
        "The next critical step in any GWAS involves **scrutinizing the data for\n",
        "potential issues**. It’s crucial to ensure that the results are not\n",
        "merely artifacts of poor data quality discovered after the analysis.\n",
        "\n",
        "After gathering your data and genotyping, there are many checks one can\n",
        "do to determine the quality of the data. PLINK provides several summary\n",
        "statistics for quality control (e.g. missing genotype rate, minor allele\n",
        "frequency, and Hardy-Weinberg equilibrium failures) which will serve as\n",
        "thresholds for subsequent analyses.\n",
        "\n",
        "For this tutorial, we will look at the following quality-related topics:\n",
        "\n",
        "1.  Individual Missingness  \n",
        "2.  Sex discrepancy  \n",
        "3.  Minor Allele Frequency (MAF)  \n",
        "4.  Hardy-Weinberg Equilibrium (HWE)  \n",
        "5.  Heterozygosity Rate\n",
        "\n",
        "# Individual and SNP Missingness\n",
        "\n",
        "## Missingness per SNP\n",
        "\n",
        "Overall, the SNP genotyping platform is very reliable and delivers\n",
        "stable results when it comes to determining genotypes. Of course, it is\n",
        "not flawless. One of the most frequent problems is that some of the SNPs\n",
        "are just not well-genotyped in the entire population. These should be\n",
        "removed to improve the overall data quality.\n",
        "\n",
        "Certainly, we can’t remove every SNP with any missing values, as that\n",
        "would result in losing a significant portion of our data. Instead, we\n",
        "adopt some **thresholds**. However, determining these thresholds isn’t\n",
        "governed by strict rules. You have the flexibility to set them within\n",
        "“reasonable” limits. To find out what constitutes “reasonable,”\n",
        "consulting relevant literature for your species of interest is\n",
        "advisable. For humans, a common starting point is a threshold of 0.2,\n",
        "meaning we exclude SNPs where 20% or more of the genotypes are missing\n",
        "in our population.\n",
        "\n",
        "## Missingness per individual\n",
        "\n",
        "The reliability of SNP chips is also high when it comes to individual\n",
        "genotypes. In some cases, however, some of the individuals contain a\n",
        "large number of missing SNPs. The reason could be low DNA sample\n",
        "quality, the wrong chip type used (e.g. cattle chip for deer samples),\n",
        "or other technical issues. Regardless of the reason, you should remove\n",
        "the worst offenders from your data set, to not compromise the overall\n",
        "quality of your results.\n",
        "\n",
        "> **Stop - Read - Solve**\n",
        ">\n",
        "> Have a look at the following toy example:\n",
        ">\n",
        "> | /    | SNP1 | SNP2 | SNP3 | SNP4 | SNP5 |\n",
        "> |------|------|------|------|------|------|\n",
        "> | IND1 | 22   | 00   | 11   | 12   | 22   |\n",
        "> | IND2 | 22   | 00   | 11   | 12   | 22   |\n",
        "> | IND3 | 11   | 12   | 11   | 22   | 21   |\n",
        "> | IND4 | 00   | 00   | 11   | 11   | 00   |\n",
        "> | IND5 | 22   | 00   | 11   | 22   | 22   |\n",
        ">\n",
        "> Here, we have a data set of five individuals, each of them genotyped\n",
        "> for five SNPs. The genotypes themselves are in numerical coding, 11\n",
        "> and 22 being the two homozygous, 12 the heterozygous, and 00 coded as\n",
        "> missing. We want to apply two filters: one for the variants, and one\n",
        "> for the individuals.\n",
        ">\n",
        "> -   First remove variants with \\>= 40% missingness\n",
        "> -   Then remove individuals with \\>= 40% missingness\n",
        ">\n",
        "> Which variants and individuals are we removing?\n",
        "\n",
        "In practice, you want to **remove the SNPs based on missingness before\n",
        "the individuals**. This is simply because we generally have a lot more\n",
        "SNPs than individuals, and would thus lose less information by removing\n",
        "SNPs than individuals. This will remove “bad” SNPs first, leaving a\n",
        "lower rate of missingness for all the individuals.\n",
        "\n",
        "> **Solution**\n",
        ">\n",
        "> **Variant-level threshold**: In this example, we would only remove\n",
        "> SNP2 since it exceeds this threshold, with 80% missingness (4 out of 5\n",
        "> missing values).\n",
        ">\n",
        "> **Individual-level threshold**: IND4 is removed from the data set, as\n",
        "> there is missing genotype information for 2/4 = 50% SNPs (after\n",
        "> filtering out SNP2).\n",
        "\n",
        "## First run of the PLINK tool\n",
        "\n",
        "> **The plink syntax**\n",
        ">\n",
        "> Before using `plink`, let’s see how its syntax is. Usual PLINK\n",
        "> commands are written in this basic form:\n",
        ">\n",
        ">     plink --bfile INPUT --out OUTPUT\n",
        ">\n",
        "> with the additional option `--make-bed` if you need to generate a\n",
        "> modified version of the input data, such as in\n",
        ">\n",
        ">     plink --bfile INPUT --make-bed --out OUTPUT\n",
        ">\n",
        "> which will create an OUTPUT equal to the input, because you have no\n",
        "> other options added.\n",
        ">\n",
        "> Note that **INPUT and OUTPUT have no extension**, as this will be\n",
        "> added by `plink`. For example, INPUT means you have the files\n",
        "> `INPUT.bim`, `INPUT.bed`, `INPUT.fam`, and eventually other extensions\n",
        "> needed by extra options. The same holds for the OUTPUT. **The software\n",
        "> always tells you which file extension has created and which it needs,\n",
        "> in case it misses some files.**\n",
        ">\n",
        "> You will see how we add different options along the tutorials. Often\n",
        "> we use the option `--silent` to avoid printing messages all the time.\n",
        "> Feel free to remove it to know which files are created.\n",
        "\n",
        "Using PLINK, we can address missing data using two functions; one\n",
        "operates at the variant level and the other at the individual level:\n",
        "\n",
        "-   `--geno`: This will remove SNPs with a specified proportion of\n",
        "    missingness (e.g. `--geno 0.01` will remove SNPs above 1%\n",
        "    missingness).\n",
        "-   `--mind`: This will remove individuals with a specified proportion\n",
        "    of missingness (e.g. `--mind 0.01` will remove individuals above 1%\n",
        "    missingness).\n",
        "\n",
        "A common threshold for –mind and –geno ranges from 1% to 5% to ensure\n",
        "quality and robustness. Higher thresholds may be acceptable if the study\n",
        "has a large sample size and missingness is not widespread.\n",
        "\n",
        "Let’s implement our first QC method in PLINK.\n",
        "\n",
        "<img src=\"Images/bash.png\" alt=\"Bash\" width=\"40\"> We use `ln -sf` to\n",
        "link the data folder and create a folder for output files\n",
        "(`Results/GWAS3`)"
      ],
      "id": "2cd3ed74-533a-47c3-8bbb-de3c089b8596"
    },
    {
      "cell_type": "code",
      "execution_count": 4,
      "metadata": {
        "tags": []
      },
      "outputs": [],
      "source": [
        "ln -sf ../Data\n",
        "mkdir -p Results/GWAS3"
      ],
      "id": "5dea98b7-c4dd-4d62-a5e6-b041486b511d"
    },
    {
      "cell_type": "markdown",
      "metadata": {},
      "source": [
        "PLINK program uses options implemented using the `--` symbol to perform\n",
        "different functions or access files. We will use the option `--bfile`\n",
        "for data (filename without extension), `--missing` for missing data\n",
        "summary, and `--out` for output prefixes. This helps us analyze data\n",
        "missingness."
      ],
      "id": "590d115d-383f-4158-8614-d06e805516ad"
    },
    {
      "cell_type": "code",
      "execution_count": 5,
      "metadata": {
        "tags": []
      },
      "outputs": [
        {
          "output_type": "stream",
          "name": "stdout",
          "text": [
            "PLINK v1.90b6.21 64-bit (19 Oct 2020)          www.cog-genomics.org/plink/1.9/\n",
            "(C) 2005-2020 Shaun Purcell, Christopher Chang   GNU General Public License v3\n",
            "Logging to Results/GWAS3/data.log.\n",
            "Options in effect:\n",
            "  --bfile Data/HapMap_3_r3_1\n",
            "  --missing\n",
            "  --out Results/GWAS3/data\n",
            "\n",
            "385567 MB RAM detected; reserving 192783 MB for main workspace.\n",
            "1457897 variants loaded from .bim file.\n",
            "165 people (80 males, 85 females) loaded from .fam.\n",
            "112 phenotype values loaded from .fam.\n",
            "Using 1 thread (no multithreaded calculations invoked).\n",
            "Before main variant filters, 112 founders and 53 nonfounders present.\n",
            "Calculating allele frequencies... done.\n",
            "Warning: 225 het. haploid genotypes present (see Results/GWAS3/data.hh ); many\n",
            "commands treat these as missing.\n",
            "Total genotyping rate is 0.997378.\n",
            "--missing: Sample missing data report written to Results/GWAS3/data.imiss, and\n",
            "variant-based missing data report written to Results/GWAS3/data.lmiss."
          ]
        }
      ],
      "source": [
        "plink --bfile Data/HapMap_3_r3_1 --missing --out Results/GWAS3/data"
      ],
      "id": "f206a476"
    },
    {
      "cell_type": "markdown",
      "metadata": {},
      "source": [
        "> **Stop - Read - Solve**\n",
        ">\n",
        "> PLINK prints a lot of information. Make sure you read it.\n",
        ">\n",
        "> 1.  Which file formats are read by PLINK to understand the data?\n",
        "> 2.  What is the percentage of valid genotype data?\n",
        "> 3.  What is the count of females and males? Is sex information\n",
        ">     available for all individuals?\n",
        "> 4.  What files are generated as output from the command?\n",
        "\n",
        "> **Solution**\n",
        ">\n",
        "> 1.  PLINK reads two files in the format *.fam* and *.bim* for this\n",
        ">     task. As explained in the notebook GWAS2, these files contain data\n",
        ">     for individuals and variants, respectively.\n",
        "> 2.  Immediately we can see that the total genotyping rate for our\n",
        ">     sample is 0.997378.\n",
        "> 3.  It counts 80 males and 85 females.\n",
        "> 4.  It prints the name of the two output files from this command:\n",
        ">     `data.imiss` and `data.lmiss`, in the directory `Results/GWAS3/`.\n",
        ">     These files show the proportion of **missing SNPs per individual**\n",
        ">     and the proportion of **missing individuals per SNP**,\n",
        ">     respectively.\n",
        "\n",
        "These files include a header and one line per sample or per variant,\n",
        "containing the following fields:\n",
        "\n",
        "-   `FID`: Family ID\n",
        "-   `IID`: Within-family ID\n",
        "-   `CHR` and SNP: chromosome and SNP ID.\n",
        "-   `MISS_PHENO`: Indicates if the phenotype is missing (Y/N)\n",
        "-   `N_MISS`: Number of missing genotype calls (excluding obligatory\n",
        "    missings or heterozygous haploids)\n",
        "-   `N_GENO`: Number of potentially valid calls\n",
        "-   `F_MISS`: Missing call rate\n",
        "\n",
        "Let’s check the first 5 lines of the files to understand their\n",
        "structure.\n",
        "\n",
        "-   **Are there missing phenotypes or genotypes in the `.imiss` file?**"
      ],
      "id": "d574d4ae-d4f1-4fe1-bb83-c02cdaf80167"
    },
    {
      "cell_type": "code",
      "execution_count": 6,
      "metadata": {},
      "outputs": [
        {
          "output_type": "stream",
          "name": "stdout",
          "text": [
            "    FID       IID MISS_PHENO   N_MISS   N_GENO   F_MISS\n",
            "   1328   NA06989          N     4203  1457897 0.002883\n",
            "   1377   NA11891          N    20787  1457897  0.01426\n",
            "   1349   NA11843          N     1564  1457897 0.001073\n",
            "   1330   NA12341          N     6218  1457897 0.004265"
          ]
        }
      ],
      "source": [
        "head -5 Results/GWAS3/data.imiss"
      ],
      "id": "e64cb902-6e5b-472c-a760-2f84a52f2d58"
    },
    {
      "cell_type": "markdown",
      "metadata": {},
      "source": [
        "No, the first individuals of the `imiss` file do not seem to miss\n",
        "phenotypes (column `MISS_PHENO`) and have small proportion of missing\n",
        "genotypes (column `F_MISS`).\n",
        "\n",
        "-   **What about at the variant-level (`.lmiss`)?**"
      ],
      "id": "54910305-0802-4aaa-90d1-b270318853bd"
    },
    {
      "cell_type": "code",
      "execution_count": 7,
      "metadata": {},
      "outputs": [
        {
          "output_type": "stream",
          "name": "stdout",
          "text": [
            " CHR         SNP   N_MISS   N_GENO   F_MISS\n",
            "   1   rs2185539        0      165        0\n",
            "   1  rs11510103        4      165  0.02424\n",
            "   1  rs11240767        0      165        0\n",
            "   1   rs3131972        0      165        0"
          ]
        }
      ],
      "source": [
        "head -5 Results/GWAS3/data.lmiss"
      ],
      "id": "4714af05-3e55-4b63-8c0d-1416379b54ed"
    },
    {
      "cell_type": "markdown",
      "metadata": {},
      "source": [
        "In the `lmiss` file, we can see that the second variant has missing data\n",
        "(4 missing genotype calls).\n",
        "\n",
        "<img src=\"Images/R.png\" alt=\"R\" width=\"40\"> Switch to the R kernel.\n",
        "\n",
        "We can visualize the distribution of missing data in individuals and\n",
        "SNPs using histograms in `R` (change kernel).\n",
        "\n",
        "The `ggplot2` package is used here for visualization and various plot\n",
        "elements are combined with the `+` symbol. Histograms are saved in your\n",
        "results directory as `histimiss.png` and `histlmiss.png`. Look below at\n",
        "the `R` code and the output."
      ],
      "id": "17b94423-d3ae-4b27-b8b6-5bceceb98e87"
    },
    {
      "cell_type": "code",
      "execution_count": null,
      "metadata": {
        "tags": []
      },
      "outputs": [],
      "source": [
        "suppressWarnings(library(ggplot2))\n",
        "options(repr.plot.width = 9, repr.plot.height = 4)\n",
        "\n",
        "# Read data into R \n",
        "indmiss <- read.table(file=\"Results/GWAS3/data.imiss\", header=TRUE)\n",
        "snpmiss <- read.table(file=\"Results/GWAS3/data.lmiss\", header=TRUE)\n",
        "\n",
        "#lmiss histogram\n",
        "hist.lmiss <- ggplot(snpmiss, aes(x=snpmiss[,5])) +\n",
        "    geom_histogram(binwidth = 0.005, col = \"black\", fill=\"tomato\") + \n",
        "    labs(title = \"Frequency of missingness rates in SNPs\") + \n",
        "    xlab(\"Frequency\") + \n",
        "    ylab(\"Missingness in SNPs\") + \n",
        "    theme_bw() +\n",
        "    theme(axis.title=element_text(size=13), axis.text=element_text(size=13), plot.title=element_text(size=15))\n",
        "\n",
        "\n",
        "#imiss histogram\n",
        "hist.imiss <- ggplot(indmiss, aes(x=indmiss[,6])) +\n",
        "    geom_histogram(binwidth = 0.001, col = \"black\", fill=\"tomato\") + \n",
        "    labs(title = \"Frequency of missingness rates in individuals\") + \n",
        "    xlab(\"Frequency\") + \n",
        "    ylab(\"Missingness in Individuals\") + \n",
        "    theme_bw() +\n",
        "    theme(axis.title=element_text(size=13), axis.text=element_text(size=13), plot.title=element_text(size=15))\n",
        "\n",
        "#show histograms\n",
        "show(hist.lmiss)\n",
        "show(hist.imiss)\n",
        "\n",
        "# Save plots silently\n",
        "suppressMessages({\n",
        "ggsave(plot=hist.lmiss, filename=\"Results/GWAS3/histlmiss.png\");\n",
        "ggsave(plot=hist.imiss, filename=\"Results/GWAS3/histimiss.png\");\n",
        "})"
      ],
      "id": "904776e1-2135-41c4-a356-1bd0b298cf82"
    },
    {
      "cell_type": "markdown",
      "metadata": {},
      "source": [
        "> **Stop - Read - Solve**\n",
        ">\n",
        "> -   What is the highest percentage of missingness for a SNP?\n",
        "> -   Are there individuals with no missing data?\n",
        "\n",
        "> **Solution**\n",
        ">\n",
        "> Here are a few observations we can make. Firstly, it’s clear that very\n",
        "> few individuals have no missing data at all. One interpretation could\n",
        "> be that one or a few SNPs are poorly genotyped across all samples.\n",
        "> Fortunately, this isn’t the case here, otherwise the first plot would\n",
        "> show many more SNPs with high missing frequency. As shown in the\n",
        "> SNP-based histogram, the highest percentage of missing data for a SNP\n",
        "> is around 0.05 (5%). Overall, **the histogram provides insight into\n",
        "> how applying a missingness filter will affect the size of your\n",
        "> remaining data**.\n",
        "\n",
        "<img src=\"Images/bash.png\" alt=\"Bash\" width=\"40\"> Switch to the Bash\n",
        "kernel.\n",
        "\n",
        "Next, we will use PLINK to filter the data using missingness thresholds\n",
        "to ensure data quality.\n",
        "\n",
        "We choose a 2% missingness threshold for both individuals and SNP, as\n",
        "only a few outliers exceed this rate (this threshold does not need to be\n",
        "the same for SNPs and individuals). Below, we provide the command to\n",
        "remove samples (`--mind`) and SNPs (`--geno`) above this threshold. The\n",
        "`--out` option defines the output prefix, and `--make-bed` denotes the\n",
        "output format (consisting of the three files `.bed`, `.bim`, `.fam`).\n",
        "\n",
        "PLINK provides detailed output during execution, so check the printed\n",
        "text to monitor progress."
      ],
      "id": "1e78e224-856f-4f47-a047-8f0e2064b588"
    },
    {
      "cell_type": "code",
      "execution_count": 2,
      "metadata": {
        "tags": []
      },
      "outputs": [
        {
          "output_type": "stream",
          "name": "stdout",
          "text": [
            "PLINK v1.90b6.21 64-bit (19 Oct 2020)          www.cog-genomics.org/plink/1.9/\n",
            "(C) 2005-2020 Shaun Purcell, Christopher Chang   GNU General Public License v3\n",
            "Logging to Results/GWAS3/HapMap_geno.log.\n",
            "Options in effect:\n",
            "  --bfile Data/HapMap_3_r3_1\n",
            "  --geno .02\n",
            "  --make-bed\n",
            "  --out Results/GWAS3/HapMap_geno\n",
            "\n",
            "385567 MB RAM detected; reserving 192783 MB for main workspace.\n",
            "1457897 variants loaded from .bim file.\n",
            "165 people (80 males, 85 females) loaded from .fam.\n",
            "112 phenotype values loaded from .fam.\n",
            "Using 1 thread (no multithreaded calculations invoked).\n",
            "Before main variant filters, 112 founders and 53 nonfounders present.\n",
            "Calculating allele frequencies... done.\n",
            "Warning: 225 het. haploid genotypes present (see Results/GWAS3/HapMap_geno.hh\n",
            "); many commands treat these as missing.\n",
            "Total genotyping rate is 0.997378.\n",
            "27454 variants removed due to missing genotype data (--geno).\n",
            "1430443 variants and 165 people pass filters and QC.\n",
            "Among remaining phenotypes, 56 are cases and 56 are controls.  (53 phenotypes\n",
            "are missing.)\n",
            "--make-bed to Results/GWAS3/HapMap_geno.bed + Results/GWAS3/HapMap_geno.bim +\n",
            "Results/GWAS3/HapMap_geno.fam ... done.\n",
            "PLINK v1.90b6.21 64-bit (19 Oct 2020)          www.cog-genomics.org/plink/1.9/\n",
            "(C) 2005-2020 Shaun Purcell, Christopher Chang   GNU General Public License v3\n",
            "Logging to Results/GWAS3/HapMap_3_r3_2.log.\n",
            "Options in effect:\n",
            "  --bfile Results/GWAS3/HapMap_geno\n",
            "  --make-bed\n",
            "  --mind .02\n",
            "  --out Results/GWAS3/HapMap_3_r3_2\n",
            "\n",
            "385567 MB RAM detected; reserving 192783 MB for main workspace.\n",
            "1430443 variants loaded from .bim file.\n",
            "165 people (80 males, 85 females) loaded from .fam.\n",
            "112 phenotype values loaded from .fam.\n",
            "0 people removed due to missing genotype data (--mind).\n",
            "Using 1 thread (no multithreaded calculations invoked).\n",
            "Before main variant filters, 112 founders and 53 nonfounders present.\n",
            "Calculating allele frequencies... done.\n",
            "Warning: 179 het. haploid genotypes present (see Results/GWAS3/HapMap_3_r3_2.hh\n",
            "); many commands treat these as missing.\n",
            "Total genotyping rate is 0.997899.\n",
            "1430443 variants and 165 people pass filters and QC.\n",
            "Among remaining phenotypes, 56 are cases and 56 are controls.  (53 phenotypes\n",
            "are missing.)\n",
            "--make-bed to Results/GWAS3/HapMap_3_r3_2.bed + Results/GWAS3/HapMap_3_r3_2.bim\n",
            "+ Results/GWAS3/HapMap_3_r3_2.fam ... done."
          ]
        }
      ],
      "source": [
        "# Delete samples with missing call freq > 2% and SNPs with missingness > 2%\n",
        "plink --bfile Data/HapMap_3_r3_1 \\\n",
        "    --geno .02 \\\n",
        "    --make-bed \\\n",
        "    --out Results/GWAS3/HapMap_geno\n",
        "\n",
        "plink --bfile Results/GWAS3/HapMap_geno \\\n",
        "    --mind .02 \\\n",
        "    --make-bed \\\n",
        "    --out Results/GWAS3/HapMap_3_r3_2"
      ],
      "id": "5077d592-61cd-4b33-8691-e0a77f06b326"
    },
    {
      "cell_type": "markdown",
      "metadata": {},
      "source": [
        "> **Stop - Read - Solve**\n",
        ">\n",
        "> What happened during filtering?\n",
        ">\n",
        "> -   How many individuals and variants were removed?\n",
        "> -   Can you preview the output files? Which command do you need for\n",
        ">     each file? Use it to print the first 5 lines of each file.\n",
        "> -   Why are you warned all the time that you have haploid genotypes\n",
        ">     present? Hint: one of the SNPs listed in the file with extension\n",
        ">     `.hh` [can be seen here on the UCSC genome\n",
        ">     browser](https://genome.ucsc.edu/cgi-bin/hgTracks?db=hg38&lastVirtModeType=default&lastVirtModeExtraState=&virtModeType=default&virtMode=0&nonVirtPosition=&position=chrX%3A3155530%2D3155730&hgsid=2490517225_1o9Rp70zFBoZWCdtszQWUrAEeofd)"
      ],
      "id": "0b4f94e0-87dc-4e29-9635-7fc92713fbc7"
    },
    {
      "cell_type": "code",
      "execution_count": null,
      "metadata": {},
      "outputs": [],
      "source": [
        "# Write code here - fam file"
      ],
      "id": "1b3382a6-8c0d-4a9c-b3b9-381562c620ee"
    },
    {
      "cell_type": "code",
      "execution_count": null,
      "metadata": {},
      "outputs": [],
      "source": [
        "# Write code here - bim file"
      ],
      "id": "85e9ef99-d528-4092-a78f-64716bd1d67a"
    },
    {
      "cell_type": "code",
      "execution_count": null,
      "metadata": {},
      "outputs": [],
      "source": [
        "# Write code here - bed file"
      ],
      "id": "13a50218-0507-4c1d-877a-3f6f9b0c9870"
    },
    {
      "cell_type": "markdown",
      "metadata": {},
      "source": [
        "> **Solution**\n",
        ">\n",
        "> If we read the message from `plink`, only 1 individual has been\n",
        "> removed, while 26686 variants where above the filtering threshold.\n",
        ">\n",
        "> We can see a preview of the output files: those are again a set of\n",
        "> `fam`, `bim` and `bed` file including only the data passing the\n",
        "> filters. For the first two formats we can use `head`, while for the\n",
        "> `bed` file we need also `xxd` because of the binary nature of the\n",
        "> file.\n",
        ">\n",
        "> ``` bash\n",
        "> head -5 Results/GWAS3/HapMap_3_r3_2.fam\n",
        "> ```\n",
        ">\n",
        ">     1328 NA06989 0 0 2 2\n",
        ">     1377 NA11891 0 0 1 2\n",
        ">     1349 NA11843 0 0 1 1\n",
        ">     1330 NA12341 0 0 2 2\n",
        ">     1344 NA10850 0 NA12058 2 -9\n",
        ">\n",
        "> ``` bash\n",
        "> head -5 Results/GWAS3/HapMap_3_r3_2.bim\n",
        "> ```\n",
        ">\n",
        ">     1   rs2185539   0   556738  T   C\n",
        ">     1   rs11240767  0   718814  T   C\n",
        ">     1   rs3131972   0   742584  A   G\n",
        ">     1   rs3131969   0   744045  A   G\n",
        ">     1   rs1048488   0   750775  C   T\n",
        ">\n",
        "> ``` bash\n",
        "> xxd -b Results/GWAS3/HapMap_3_r3_2.bed | head -5\n",
        "> ```\n",
        ">\n",
        ">     00000000: 01101100 00011011 00000001 11111111 11111111 11111111  l.....\n",
        ">     00000006: 11111111 11111111 11111111 11111111 11111111 11111111  ......\n",
        ">     0000000c: 11111111 11111111 11111111 11111111 11111111 11111111  ......\n",
        ">     00000012: 11111111 11111111 11111111 11111111 11111111 11111111  ......\n",
        ">     00000018: 11111111 11111111 11111111 11111111 11111111 11111111  ......\n",
        ">\n",
        "> Now, if you looked into the file `HapMap_3_r3_2.hh`, you could look at\n",
        "> the first SNP on the UCSC genome browser and find out it is on\n",
        "> chromosome X\n",
        ">\n",
        "> ``` bash\n",
        "> head -5 Results/GWAS3/HapMap_3_r3_2.hh\n",
        "> ```\n",
        ">\n",
        ">     1355    NA12413 rs2034740\n",
        ">     1355    NA12413 rs6641142\n",
        ">     1355    NA12413 rs7059273\n",
        ">     1355    NA12413 rs1482812\n",
        ">     1420    NA12003 rs12387774\n",
        ">\n",
        "> What happens is your data contains **heterozygous genotypes on haploid\n",
        "> chromosomes** (such as the X chromosome in males or the Y/MT\n",
        "> chromosomes), which is biologically not feasible. These genotypes are\n",
        "> usually counted as missing in most tools. You are welcome to look at\n",
        "> other SNPs on the UCSC browser, you will find out they are on those\n",
        "> chromosomes.\n",
        "\n",
        "------------------------------------------------------------------------\n",
        "\n",
        "# Sex Discrepancy\n",
        "\n",
        "One useful check is verifying if the indicated sex is correct. Using\n",
        "PLINK, you can calculate the inbreeding coefficient on the X chromosome\n",
        "under the assumption that it is an autosomal chromosome. This approach\n",
        "is insightful because PLINK treats haploid chromosomes (like the X\n",
        "chromosome in males) as homozygotes due to technical reasons.\n",
        "Consequently, **assuming the X chromosome is autosomal makes males\n",
        "appear highly inbred on the X, whereas females do not** (since they have\n",
        "two X chromosomes). As a result, the inbreeding coefficient estimates\n",
        "will be close to 1 for males and 0 for females.\n",
        "\n",
        "## PLINK Commands\n",
        "\n",
        "This sex check can be performed in PLINK using the `--check-sex` option.\n",
        "The results are outputted in the file with extension `.sexcheck` (in the\n",
        "`Results/GWAS4` folder) in which the sex is in column `PEDSEX` (1 means\n",
        "male and 2 means female) and the inbreeding coefficient is in column\n",
        "`F`).\n",
        "\n",
        "Generally, males should have an X chromosome homozygosity estimate \\>0.8\n",
        "and females should have a value \\<0.2. So we could simply remove any\n",
        "individuals where the homozygosity estimate (F) does not match their\n",
        "specified sex. Subjects who do not fulfill these requirements are\n",
        "flagged `PROBLEM` by PLINK in the output file.\n",
        "\n",
        "Note the option `--silent` to avoid long texts printed out on the\n",
        "screen."
      ],
      "id": "61a4395c-2fcc-49d8-ae86-fe35a1f524a2"
    },
    {
      "cell_type": "code",
      "execution_count": 1,
      "metadata": {
        "tags": []
      },
      "outputs": [
        {
          "output_type": "stream",
          "name": "stdout",
          "text": [
            "Warning: 179 het. haploid genotypes present (see Results/GWAS3/HapMap_3_r3_2.hh\n",
            "); many commands treat these as missing."
          ]
        }
      ],
      "source": [
        "plink --bfile Results/GWAS3/HapMap_3_r3_2 --check-sex --out Results/GWAS3/HapMap_3_r3_2 --silent"
      ],
      "id": "bc02622c"
    },
    {
      "cell_type": "markdown",
      "metadata": {},
      "source": [
        "<img src=\"Images/R.png\" alt=\"R\" width=\"40\"> Switch to the R kernel.\n",
        "\n",
        "We can visualize the results of the sex check by plotting three\n",
        "histograms for the F values in males, females, and all samples. Let’s\n",
        "look at all sexes and males first."
      ],
      "id": "a6e49ef1-c1bd-4d77-9280-3c0afe869cd4"
    },
    {
      "cell_type": "code",
      "execution_count": 1,
      "metadata": {
        "tags": []
      },
      "outputs": [
        {
          "output_type": "display_data",
          "metadata": {},
          "data": {
            "image/png": "[encoded data removed]"
          }
        },
        {
          "output_type": "stream",
          "name": "stderr",
          "text": [
            "Saving 6.67 x 6.67 in image\n",
            "Saving 6.67 x 6.67 in image"
          ]
        },
        {
          "output_type": "display_data",
          "metadata": {},
          "data": {
            "image/png": "[encoded data removed]"
          }
        }
      ],
      "source": [
        "# Inbreeding coefficients for all sexes and for males/females separately\n",
        "suppressMessages(suppressWarnings(library(ggplot2)))\n",
        "options(repr.plot.width = 9, repr.plot.height = 4)\n",
        "\n",
        "# Read data into R and subset for sexes\n",
        "sex <- read.table(\"Results/GWAS3/HapMap_3_r3_2.sexcheck\", header=T,as.is=T)\n",
        "male <- subset(sex, sex$PEDSEX==1)\n",
        "\n",
        "# sex inbreeding coeff histogram\n",
        "hist.sex <- ggplot(sex, aes(x=sex[,6])) +\n",
        "  geom_histogram(col = \"black\", fill=\"tomato\", bins=50) + \n",
        "  labs(title = \"Values of F for all sexes\") + \n",
        "  xlab(\"F\") + \n",
        "  theme_bw() +\n",
        "  theme(axis.title=element_text(size=13), axis.text=element_text(size=13), plot.title=element_text(size=15))\n",
        "\n",
        "\n",
        "# Inbreeding coeff in males histogram\n",
        "hist.male <- ggplot(male, aes(x=male[,6])) +\n",
        "  geom_histogram(col = \"black\", fill=\"blue\", bins=50) + \n",
        "  labs(title = \"Values of F for males\") + \n",
        "  xlab(\"F\") + \n",
        "  theme_bw() +\n",
        "  theme(axis.title=element_text(size=13), axis.text=element_text(size=13), plot.title=element_text(size=15))\n",
        "\n",
        "\n",
        "show(hist.sex)\n",
        "show(hist.male)\n",
        "\n",
        "# Save plots \n",
        "ggsave(plot=hist.sex, filename=\"Results/GWAS3/histsex.png\")\n",
        "ggsave(plot=hist.male, filename=\"Results/GWAS3/histmale.png\")\n"
      ],
      "id": "8ca49591-e1f1-4766-9dc9-3bf66670ba92"
    },
    {
      "cell_type": "markdown",
      "metadata": {},
      "source": [
        "> **Stop - Read - Solve**\n",
        ">\n",
        "> -   1.  Do the plots look as you would expect?\n",
        "> -   1.  Modify the code above to plot the F values for females and\n",
        ">         save the plot as `Results/GWAS3/histfemale.png`\n",
        "> -   1.  What can you conclude about the distribution of inbreeding\n",
        ">         coefficients between males and females? (pay attention to the\n",
        ">         axis ranges)"
      ],
      "id": "e7f30dfd-956c-4359-b506-8ce9b166874a"
    },
    {
      "cell_type": "code",
      "execution_count": null,
      "metadata": {},
      "outputs": [],
      "source": [
        "# Write your code here - female F values histogram "
      ],
      "id": "15e474cd-6109-47dc-8843-02e8c0219935"
    },
    {
      "cell_type": "markdown",
      "metadata": {},
      "source": [
        "> **Solution**\n",
        ">\n",
        "> 1.  Yes.\n",
        ">\n",
        "> 2.  You need to change the value `sex$PEDSEX==2` instead of `==1` in\n",
        ">     the code for the histogram, and change the file name at the end\n",
        ">\n",
        "> ``` bash\n",
        "> # B) \n",
        ">\n",
        "> # subset females \n",
        "> female <- subset(sex, sex$PEDSEX==2)\n",
        ">\n",
        "> # Inbreeding coeff in females histogram\n",
        "> hist.female <- ggplot(female, aes(x=female[,6])) +\n",
        ">   geom_histogram(col = \"black\", fill=\"blue\", bins=50) + \n",
        ">   labs(title = \"Values of F for females\") + \n",
        ">   xlab(\"F\") + \n",
        ">   theme_bw() +\n",
        ">   theme(axis.title=element_text(size=13), axis.text=element_text(size=13), plot.title=element_text(size=15))\n",
        ">\n",
        "> # Show hist\n",
        "> show(hist.female)\n",
        ">\n",
        "> # Save plot \n",
        "> ggsave(plot=hist.female, filename=\"Results/GWAS3/histfemale.png\")\n",
        "> ```\n",
        ">\n",
        ">     Saving 6.67 x 6.67 in image\n",
        ">\n",
        "> ![](attachment:GWAS3-QualityControlA_files/figure-ipynb/cell-18-output-2.png)\n",
        ">\n",
        "> 1.  The inbreeding coefficient plot indicates that there is one woman\n",
        ">     with a sex discrepancy (F value of 0.99). When using other\n",
        ">     datasets often a few discrepancies might be found.\n",
        "\n",
        "------------------------------------------------------------------------\n",
        "\n",
        "### How can we proceed?\n",
        "\n",
        "We have two options when dealing with sex discrepancy. One is to simply\n",
        "remove any individual with sex discrepancy. In our case, this would\n",
        "involve removing the female with the F value of 0.99.\n",
        "\n",
        "<img src=\"Images/bash.png\" alt=\"bash\" width=\"40\"> Switch to the Bash\n",
        "kernel.\n",
        "\n",
        "Removal can be done with the command below. Use `grep` to find lines in\n",
        "the sexcheck file that contain `PROBLEM`. Then, pipe (send) the output\n",
        "to the command `awk` (using the so-called pipe symbol `|`). `awk` will\n",
        "extract the first two columns from each line identified by the `grep`\n",
        "command and redirect them to the file `sex_discrepancy.txt` using the\n",
        "symbol `>` (redirecting the output away from the screen/terminal)."
      ],
      "attachments": {
        "GWAS3-QualityControlA_files/figure-ipynb/cell-18-output-2.png": {
          "image/png": "[encoded data removed]"
        }
      },
      "id": "2c8b7d42-52d0-4131-9ffb-3f88aed2fea4"
    },
    {
      "cell_type": "code",
      "execution_count": 1,
      "metadata": {
        "tags": []
      },
      "outputs": [],
      "source": [
        "grep \"PROBLEM\" Results/GWAS3/HapMap_3_r3_2.sexcheck | awk '{print$1,$2}' > Results/GWAS3/sex_discrepancy.txt"
      ],
      "id": "57f544c6"
    },
    {
      "cell_type": "markdown",
      "metadata": {},
      "source": [
        "Show the content of the file using `cat`:"
      ],
      "id": "7ac47f0c-7636-4be9-8f7c-b3fc775aec4d"
    },
    {
      "cell_type": "code",
      "execution_count": 2,
      "metadata": {
        "tags": []
      },
      "outputs": [
        {
          "output_type": "stream",
          "name": "stdout",
          "text": [
            "1349 NA10854"
          ]
        }
      ],
      "source": [
        "cat Results/GWAS3/sex_discrepancy.txt"
      ],
      "id": "3e151a47-8fc2-4931-823f-40e2732b076b"
    },
    {
      "cell_type": "markdown",
      "metadata": {},
      "source": [
        "For long files, you can simply count the number of lines in the file\n",
        "with `wc` (word count command)"
      ],
      "id": "01fb63e5-00e7-4b4e-ba97-ce7c39ab9a87"
    },
    {
      "cell_type": "code",
      "execution_count": 3,
      "metadata": {
        "tags": []
      },
      "outputs": [
        {
          "output_type": "stream",
          "name": "stdout",
          "text": [
            "1 Results/GWAS3/sex_discrepancy.txt"
          ]
        }
      ],
      "source": [
        "wc -l Results/GWAS3/sex_discrepancy.txt"
      ],
      "id": "a9ca1c0b"
    },
    {
      "cell_type": "markdown",
      "metadata": {},
      "source": [
        "The file can be provided to PLINK for removal of sex-discrepant\n",
        "individuals using the option `--remove`:"
      ],
      "id": "d2821904-bc58-4822-ad62-e9635fcbcfc4"
    },
    {
      "cell_type": "code",
      "execution_count": 4,
      "metadata": {
        "tags": []
      },
      "outputs": [
        {
          "output_type": "stream",
          "name": "stdout",
          "text": [
            "Warning: 179 het. haploid genotypes present (see Results/GWAS3/HapMap_3_r3_3.hh\n",
            "); many commands treat these as missing."
          ]
        }
      ],
      "source": [
        "plink --bfile Results/GWAS3/HapMap_3_r3_2 \\\n",
        "    --remove Results/GWAS3/sex_discrepancy.txt \\\n",
        "    --make-bed --out Results/GWAS3/HapMap_3_r3_3 \\\n",
        "    --silent"
      ],
      "id": "5c10a26c"
    },
    {
      "cell_type": "markdown",
      "metadata": {},
      "source": [
        "> **Alternative approach**\n",
        ">\n",
        "> The other approach supported by PLINK is to impute the sex codes based\n",
        "> on the SNP data, which is done with the command `--impute-sex` as\n",
        "> shown below.\n",
        ">\n",
        "> ``` {bash}\n",
        "> plink --bfile Results/GWAS3/HapMap_3_r3_2 --impute-sex --make-bed --out Results/GWAS3/HapMap_3_r3_3_alt\n",
        "> ```\n",
        ">\n",
        "> PLINK automatically detects and imputes incorrect sex information,\n",
        "> requiring just an additional option to be specified. However, we will\n",
        "> not be executing this command. Instead, we will retain only the\n",
        "> dataset where incorrect sexes have already been filtered out:\n",
        "> `Results/GWAS3/HapMap_3_r3_3`.\n",
        "\n",
        "# Minor Allele Frequency (MAF)\n",
        "\n",
        "Excluding SNPs based on minor allele frequency (MAF) is somewhat\n",
        "controversial. In a sense, it has little to do with quality control –\n",
        "there is no reason to think there are any errors in the data. The main\n",
        "justification is statistical:\n",
        "\n",
        "-   If MAF is low, and the SNP is rare, then the power is low\n",
        "    (i.e. don’t spend multiple testing corrections on tests that are\n",
        "    unlikely to find anything anyway).\n",
        "-   Some statistical methods perform badly with low MAF (e.g. the\n",
        "    chi-squared-test).\n",
        "\n",
        "An appropriate cutoff definitely depends on sample size – the larger the\n",
        "sample, the greater your ability to include rare SNPs. Typically,\n",
        "researchers utilize thresholds of 0.1 or 0.05 (Kanaka et al. 2023).\n",
        "\n",
        "## PLINK commands\n",
        "\n",
        "Filtering data based on the minor allele frequencies is done in a\n",
        "similar way to previous commands. If you want to get rid only of the\n",
        "fixed SNPs, you specify a MAF threshold of 0, which can be done by the\n",
        "command `--maf 0`.\n",
        "\n",
        "> **Warning**\n",
        ">\n",
        "> One should **limit MAF analysis to only autosomal chromosomes**,\n",
        "> meaning you need to generate a subset of the data containing only\n",
        "> autosomal chromosomes as done below.\n",
        "\n",
        "First, we extract the SNP identifiers from chromosomes 1 to 22 with\n",
        "`awk`, and redirect the output to the file `snp_1_22.txt`. Then, PLINK\n",
        "can extract those SNPs using the option `--extract`:"
      ],
      "id": "c15e9271-1865-4ec8-ae2d-be97e0b983fd"
    },
    {
      "cell_type": "code",
      "execution_count": 5,
      "metadata": {
        "tags": []
      },
      "outputs": [],
      "source": [
        "# Get a file with autosomal variants\n",
        "awk '{ if ($1 >= 1 && $1 <= 22) print $2 }' Results/GWAS3/HapMap_3_r3_3.bim > Results/GWAS3/snp_1_22.txt\n",
        "# Filter data based on the list of SNPs\n",
        "plink --bfile Results/GWAS3/HapMap_3_r3_3 \\\n",
        "    --extract Results/GWAS3/snp_1_22.txt \\\n",
        "    --make-bed \\\n",
        "    --out Results/GWAS3/HapMap_3_r3_4 \\\n",
        "    --silent"
      ],
      "id": "80174ebb"
    },
    {
      "cell_type": "markdown",
      "metadata": {},
      "source": [
        "> **Stop - Read - Solve**\n",
        ">\n",
        "> How can you verify if only the autosomal regions are present in the\n",
        "> output? Retrieve a list of chromosomes present in one of the files\n",
        "> with the prefix `Results/GWAS3/HapMap_3_r3_4`."
      ],
      "id": "e5b74119-dcae-42f1-a5ee-5880fcb3c66c"
    },
    {
      "cell_type": "code",
      "execution_count": 9,
      "metadata": {},
      "outputs": [],
      "source": [
        "# write your code"
      ],
      "id": "90aaf03e-e293-48ee-8a48-e9915fb6bc30"
    },
    {
      "cell_type": "markdown",
      "metadata": {},
      "source": [
        "> **Solution**\n",
        ">\n",
        "> SNPs are saved in the output `bim` file and the first column contains\n",
        "> the chromosome names. So, we just need to extract the first column,\n",
        "> and check the unique names (as extra, we count how many times each\n",
        "> chromosome occurs):\n",
        ">\n",
        "> ``` bash\n",
        "> cut -f 1 Results/GWAS3/HapMap_3_r3_4.bim | uniq -c\n",
        "> ```\n",
        ">\n",
        ">      117459 1\n",
        ">      117501 2\n",
        ">       97341 3\n",
        ">       86388 4\n",
        ">       88819 5\n",
        ">       92037 6\n",
        ">       75919 7\n",
        ">       75777 8\n",
        ">       64180 9\n",
        ">       74379 10\n",
        ">       71812 11\n",
        ">       68941 12\n",
        ">       52335 13\n",
        ">       45626 14\n",
        ">       42284 15\n",
        ">       45090 16\n",
        ">       38729 17\n",
        ">       41141 18\n",
        ">       26437 19\n",
        ">       36624 20\n",
        ">       19415 21\n",
        ">       20310 22\n",
        ">\n",
        "> You can do exactly the same with `awk`\n",
        ">\n",
        "> ``` bash\n",
        "> awk '{print$1}' Results/GWAS3/HapMap_3_r3_4.bim | uniq -c\n",
        "> ```\n",
        ">\n",
        ">      117459 1\n",
        ">      117501 2\n",
        ">       97341 3\n",
        ">       86388 4\n",
        ">       88819 5\n",
        ">       92037 6\n",
        ">       75919 7\n",
        ">       75777 8\n",
        ">       64180 9\n",
        ">       74379 10\n",
        ">       71812 11\n",
        ">       68941 12\n",
        ">       52335 13\n",
        ">       45626 14\n",
        ">       42284 15\n",
        ">       45090 16\n",
        ">       38729 17\n",
        ">       41141 18\n",
        ">       26437 19\n",
        ">       36624 20\n",
        ">       19415 21\n",
        ">       20310 22\n",
        "\n",
        "------------------------------------------------------------------------\n",
        "\n",
        "Now that we have a set of files containing only autosomal chromosomes,\n",
        "let’s obtain summary statistics for the minor allele frequency and plot\n",
        "the values on a histogram. This can be done using the `--freq` option in\n",
        "PLINK.\n",
        "\n",
        "> **Stop - Read - Solve**\n",
        ">\n",
        "> **Try to write the PLINK command below before reviewing the command\n",
        "> provided.**\n",
        ">\n",
        "> Hint: Remember most PLINK commands are written in this basic form:\n",
        ">\n",
        ">     plink --bfile INPUT --out OUTPUT\n",
        ">\n",
        "> with the additional option `--make-bed` if you need to generate a\n",
        "> modified version of the data. Now you want to calculate the `MAF` of\n",
        "> the data, so `--make-bed` is not needed, but you need the option\n",
        "> `--freq` to calculate frequencies from the INPUT. You will need to\n",
        "> give a name for the output containing the frequencies. Use the INPUT\n",
        "> `Results/GWAS3/HapMap_3_r3_4` (the last data in use) and the OUTPUT\n",
        "> `Results/GWAS3/MAF_check`."
      ],
      "id": "d358e32e-ba86-467c-814c-6b700b407995"
    },
    {
      "cell_type": "code",
      "execution_count": 1,
      "metadata": {},
      "outputs": [],
      "source": [
        "# Your PLINK command"
      ],
      "id": "f0316fff-9e1d-46d7-9f64-01fa8b2e083f"
    },
    {
      "cell_type": "markdown",
      "metadata": {},
      "source": [
        "> **Solution**\n",
        ">\n",
        "> Here the correct command. Check if it matches yours (the `--silent`\n",
        "> option is to avoid long outputs on the screen, but has no effect on\n",
        "> data)\n",
        ">\n",
        "> ``` bash\n",
        "> # Generate a plot of the MAF distribution.\n",
        "> plink --bfile Results/GWAS3/HapMap_3_r3_4 --freq --out Results/GWAS3/MAF_check --silent\n",
        "> ```\n",
        "\n",
        "------------------------------------------------------------------------\n",
        "\n",
        "<img src=\"Images/R.png\" alt=\"R\" width=\"40\"> Switch to the R kernel.\n",
        "\n",
        "Let’s plot the MAF histogram using `R`. We will have a second plot,\n",
        "which is a zoom-in version with MAF up to 0.1 to better observe the low\n",
        "MAF values. Note: The zoom-in version will throw some warnings as data\n",
        "points are removed, but don’t worry about it."
      ],
      "id": "7fcee32d-f61d-490d-87ee-0dd909698a90"
    },
    {
      "cell_type": "code",
      "execution_count": 1,
      "metadata": {
        "tags": []
      },
      "outputs": [
        {
          "output_type": "display_data",
          "metadata": {},
          "data": {
            "text/plain": [
              "   Min. 1st Qu.  Median    Mean 3rd Qu.    Max. \n",
              "0.00000 0.05856 0.18750 0.20315 0.33480 0.50000 "
            ]
          }
        },
        {
          "output_type": "stream",
          "name": "stderr",
          "text": [
            "Warning message:\n",
            "“Removed 929441 rows containing non-finite outside the scale range\n",
            "(`stat_bin()`).”\n",
            "Warning message:\n",
            "“Removed 2 rows containing missing values or values outside the scale range\n",
            "(`geom_bar()`).”"
          ]
        },
        {
          "output_type": "display_data",
          "metadata": {},
          "data": {
            "image/png": "[encoded data removed]"
          }
        },
        {
          "output_type": "display_data",
          "metadata": {},
          "data": {
            "image/png": "[encoded data removed]"
          }
        }
      ],
      "source": [
        "# MAF plot only for autosomal SNPs. Note the zoomed interval (0,0.1)\n",
        "suppressMessages(suppressWarnings(library(ggplot2)))\n",
        "options(repr.plot.width = 9, repr.plot.height = 4)\n",
        "\n",
        "# Read data into R \n",
        "maf_freq <- read.table(\"Results/GWAS3/MAF_check.frq\", header =TRUE, as.is=T)\n",
        "\n",
        "summary(maf_freq$MAF)\n",
        "\n",
        "# maf_freq histogram\n",
        "hist.maf <- ggplot(maf_freq, aes(x=maf_freq[,5])) +\n",
        "  geom_histogram(col = \"black\", fill=\"tomato\", bins=50) + \n",
        "  labs(title = \"MAF distribution\") + \n",
        "  xlab(\"MAF\") + \n",
        "  ylab(\"Frequency\") +\n",
        "  theme_bw()\n",
        "\n",
        "# zoom-in into X-axis\n",
        "hist.maf.zoom <- ggplot(maf_freq, aes(x=maf_freq[,5])) +\n",
        "  geom_histogram(col = \"black\", fill=\"tomato\", bins = 10) + \n",
        "  labs(title = \"Zoom into MAF distribution up to value 0.1\") + \n",
        "  xlab(\"MAF\") + \n",
        "  ylab(\"Frequency\") +\n",
        "  xlim(0, 0.1) +\n",
        "  theme_bw()\n",
        "\n",
        "\n",
        "show(hist.maf)\n",
        "show(hist.maf.zoom)\n",
        "\n",
        "# Save plot\n",
        "suppressMessages(ggsave(plot=hist.maf, filename=\"Results/GWAS3/histmaf.png\"))"
      ],
      "id": "c8e23649-69c5-4bc1-a4c3-5f47c113f947"
    },
    {
      "cell_type": "markdown",
      "metadata": {},
      "source": [
        "<img src=\"Images/bash.png\" alt=\"bash\" width=\"40\"> Switch to the Bash\n",
        "kernel.\n",
        "\n",
        "As stated above, your MAF threshold depends on sample size, though a\n",
        "conventional MAF threshold for a regular GWAS is between 0.01 and 0.05.\n",
        "Here, to ensure the inclusion of only SNPs we will apply a MAF threshold\n",
        "of 0.05 (that is, remove SNPs where the MAF is 5% or less). The\n",
        "threshold is given with the option `--maf`:"
      ],
      "id": "eda1c27d-ba3f-4680-9acf-7a691c22e5d5"
    },
    {
      "cell_type": "code",
      "execution_count": 2,
      "metadata": {
        "tags": []
      },
      "outputs": [],
      "source": [
        "# Remove SNPs with a low MAF frequency.\n",
        "plink --bfile Results/GWAS3/HapMap_3_r3_4 \\\n",
        "    --maf 0.05 \\\n",
        "    --make-bed \\\n",
        "    --out Results/GWAS3/HapMap_3_r3_5 \\\n",
        "    --silent"
      ],
      "id": "465be532"
    },
    {
      "cell_type": "markdown",
      "metadata": {},
      "source": [
        "> **Stop - Read - Solve**\n",
        ">\n",
        "> -   **Determine the number of SNPs remaining after applying quality\n",
        ">     control measures.** Hint: Check the `.bim` file from the output\n",
        ">     with the prefix `Results/GWAS3/HapMap_3_r3_5`.\n",
        "> -   **Repeat the process for a MAF threshold of 0.01. How many\n",
        ">     additional SNPs would be retrieved?** Do not overwrite the output\n",
        ">     from the command above! Please, rename the output prefix\n",
        ">     (e.g. `Results/GWAS3/HapMap_3_r3_5_alt`)"
      ],
      "id": "d2777c3b-13c2-4fdd-b672-2962102cf584"
    },
    {
      "cell_type": "code",
      "execution_count": null,
      "metadata": {},
      "outputs": [],
      "source": [
        "# Write your code here - maf > 0.05"
      ],
      "id": "c06831c1-f8b7-4461-a259-e79b621ea3a1"
    },
    {
      "cell_type": "code",
      "execution_count": null,
      "metadata": {},
      "outputs": [],
      "source": [
        "# Write your code here - maf > 0.01"
      ],
      "id": "2c7d1f11-6365-44d1-b78e-ff12ec48abdf"
    },
    {
      "cell_type": "markdown",
      "metadata": {},
      "source": [
        "> **Solution**\n",
        ">\n",
        "> Check the number of lines of the `.bim` file using `wc -l` and modify\n",
        "> the plink command from above:\n",
        ">\n",
        "> ``` bash\n",
        "> wc -l Results/GWAS3/HapMap_3_r3_5.bim\n",
        "> ```\n",
        ">\n",
        ">     1073226 Results/GWAS3/HapMap_3_r3_5.bim\n",
        ">\n",
        "> ``` bash\n",
        "> # plink filtering step\n",
        "> plink --bfile Results/GWAS3/HapMap_3_r3_4 \\\n",
        ">     --maf 0.01 \\\n",
        ">     --make-bed \\\n",
        ">     --out Results/GWAS3/HapMap_3_r3_5_alt \\\n",
        ">     --silent\n",
        ">     \n",
        "> # get number of variants\n",
        "> wc -l Results/GWAS3/HapMap_3_r3_5_alt.bim\n",
        "> ```\n",
        ">\n",
        ">     1181555 Results/GWAS3/HapMap_3_r3_5_alt.bim\n",
        ">\n",
        "> The difference between the two threshold is ~100,000 SNPS\n",
        "\n",
        "------------------------------------------------------------------------\n",
        "\n",
        "It is worth noting that no matter what the sample size is, monomorphic\n",
        "SNPs (i.e., SNPs that show no genetic variation whatsoever in the\n",
        "sample) are usually problematic and should always be removed. Some code\n",
        "crashes when monomorphic SNPs are included; even if this wasn’t the\n",
        "case, these SNPs cannot possibly be informative in a genome-wide\n",
        "association study.\n",
        "\n",
        "# Hardy-Weinberg Equilibrium (HWE)\n",
        "\n",
        "The Hardy-Weinberg rule from population genetics states that genetic\n",
        "variation (thus, allele and genotype frequencies) in a population will\n",
        "remain constant unless certain disturbing factors are introduced. his\n",
        "implies that once we know the allele frequencies for $p$ and $q$, the\n",
        "genotype frequencies will be defined as $p^2$, $2pq$, and $q^2$.\n",
        "\n",
        "Let’s say the frequency of allele A ($p$ in the equation) is 0.4, and\n",
        "that of allele B ($q$) is 0.6. This means for the H-W scenario the\n",
        "genotype frequencies will be 0.16 for AA, 0.48 for AB, and 0.36 for BB.\n",
        "In a population of e.g. 1000 individuals with the mentioned allele\n",
        "frequencies we expect to see 160 AA, 480 AB, and 360 BB individuals. Of\n",
        "course, we rarely see exact H-W distributions in real populations. The\n",
        "question then becomes, what is the difference between the expected H-W\n",
        "and observed proportions? There are typically two reasons why a SNP is\n",
        "not in HWE:\n",
        "\n",
        "-   Genotyping error for this SNP\n",
        "-   Mating is not random\n",
        "\n",
        "In reality, mating is not random, which complicates excluding SNPs based\n",
        "on HWE. It is generally recommended to exclude an SNP only when HWE is\n",
        "significantly violated, such as when the p-value for a statistical test\n",
        "(e.g., assessing whether the data follow a binomial distribution) is\n",
        "extremely low, like p-value p\\<10e−10\n",
        "\n",
        "> **HWE and binomial distribution**\n",
        ">\n",
        "> **Why is HWE connected to the binomial distribution? What is the\n",
        "> ground theory behind HWE?**\n",
        ">\n",
        "> You can find a clear explanation of HWE at (Lachance 2016).\n",
        "\n",
        "## PLINK commands\n",
        "\n",
        "We can use the option `--hardy` in PLINK to generate H-W p-values (as\n",
        "well as observed and expected heterozygosity). Then, use `awk` to select\n",
        "SNPs (column 9 of the file) with HWE p-value \\< 0.0001, indicating a\n",
        "strong deviation from HWE."
      ],
      "id": "e36a71a5-2f4f-4bf7-82fb-7708bee8eab5"
    },
    {
      "cell_type": "code",
      "execution_count": 1,
      "metadata": {
        "scrolled": true,
        "tags": []
      },
      "outputs": [],
      "source": [
        "plink --bfile Results/GWAS3/HapMap_3_r3_5 --hardy --out Results/GWAS3/HapMap_3_r3_5 --silent\n",
        "\n",
        "awk '{ if ($9 <0.00001) print $0 }' Results/GWAS3/HapMap_3_r3_5.hwe > Results/GWAS3/HapMap_3_r3_5.deviating.hwe"
      ],
      "id": "67839627"
    },
    {
      "cell_type": "markdown",
      "metadata": {},
      "source": [
        "**What can we conclude about the data from the generated files?**\n",
        "\n",
        "<img src=\"Images/R.png\" alt=\"R\" width=\"40\"> Switch to the R kernel.\n",
        "\n",
        "Let’s plot a histogram of the HWE p-values and zoom in for the deviating\n",
        "p-values. To do this, we need to read the PLINK output and examine the\n",
        "table with the low HWE p-values. The header of the PLINK output includes\n",
        "the following fields:\n",
        "\n",
        "-   `CHR`: Chromosome number.\n",
        "-   `SNP`: SNP identifier (rsID).\n",
        "-   `TEST`: Type of HWE test performed. This will usually be “UNAFF” for\n",
        "    the test on controls if your data has case/control status.\n",
        "-   `A1`: First allele (reference allele).\n",
        "-   `A2`: Second allele (alternate allele).\n",
        "-   `GENO`: Genotype counts in the format “HOM1/HET/HOM2”, where HOM1 is\n",
        "    the count of homozygous for the first allele, HET is the count of\n",
        "    heterozygous, and HOM2 is the - count of homozygous for the second\n",
        "    allele.\n",
        "-   `O(HET)`: Observed heterozygote frequency.\n",
        "-   `E(HET)`: Expected heterozygote frequency.\n",
        "-   `P`: Hardy-Weinberg equilibrium exact test p-value.\n",
        "\n",
        "We will modify the values in the `TEST` column to have more readable\n",
        "names for the plots and save the updated values in the `Phenotype`\n",
        "column."
      ],
      "id": "c2708d4f-ffa5-4a8d-8c3a-35ccd6c36be3"
    },
    {
      "cell_type": "code",
      "execution_count": 1,
      "metadata": {
        "tags": []
      },
      "outputs": [],
      "source": [
        "# HWE tables\n",
        "suppressMessages(suppressWarnings(library(dplyr)))\n",
        "\n",
        "# Read data into R using dplyr library \n",
        "hwe <- read.table(file=\"Results/GWAS3/HapMap_3_r3_5.hwe\", header=TRUE)\n",
        "hwe_zoom <- read.table(file=\"Results/GWAS3/HapMap_3_r3_5.deviating.hwe\", header=FALSE)\n",
        "# Add column names \n",
        "colnames(hwe_zoom) <- colnames(hwe)\n",
        "# Modify colnames \n",
        "hwe$Phenotype <- recode(hwe$TEST, \"ALL\"=\"All\", \"UNAFF\"=\"Control\", \"AFF\"=\"Non-Control\")\n",
        "hwe_zoom$Phenotype <- recode(hwe_zoom$TEST, \"ALL\"=\"All\", \"UNAFF\"=\"Control\", \"AFF\"=\"Non-Control\")"
      ],
      "id": "abe983c3-2cde-453c-9f32-118e2fcca040"
    },
    {
      "cell_type": "markdown",
      "metadata": {},
      "source": [
        "Here, we print the first rows of the two generated tables"
      ],
      "id": "5db3caf0-e6a4-420f-a56d-14a3883a7eff"
    },
    {
      "cell_type": "code",
      "execution_count": 2,
      "metadata": {
        "tags": []
      },
      "outputs": [
        {
          "output_type": "display_data",
          "metadata": {},
          "data": {}
        },
        {
          "output_type": "display_data",
          "metadata": {},
          "data": {}
        }
      ],
      "source": [
        "head(hwe)\n",
        "head(hwe_zoom)"
      ],
      "id": "74418d2d-22de-4162-8144-5e5360f211be"
    },
    {
      "cell_type": "markdown",
      "metadata": {},
      "source": [
        "Now, we can plot the histograms. We isolate each “phenotype” to see if\n",
        "there are any significant differences in p-value distribution between\n",
        "them."
      ],
      "id": "ccd953b0-88c8-49b9-b494-183b25e811f9"
    },
    {
      "cell_type": "code",
      "execution_count": 3,
      "metadata": {
        "scrolled": true,
        "tags": []
      },
      "outputs": [
        {
          "output_type": "display_data",
          "metadata": {},
          "data": {
            "image/png": "[encoded data removed]"
          }
        },
        {
          "output_type": "display_data",
          "metadata": {},
          "data": {
            "image/png": "[encoded data removed]"
          }
        }
      ],
      "source": [
        "# HWE p-values calculated with PLINK and zoom for the SNPs deviating from HWE. We can spot some deviations from HWE in the zoomed plot. Note that the p+values for the phenotype `All` is not the merging of the barplots from the other two phenotypes!\n",
        "suppressMessages(suppressWarnings(library(ggplot2)))\n",
        "options(repr.plot.width = 9, repr.plot.height = 4)\n",
        "\n",
        "# maf_freq histogram\n",
        "hist.hwe <- ggplot(hwe, aes(x=hwe[,9])) +\n",
        "  geom_histogram(col = \"black\", fill=\"tomato\", bins=50) + \n",
        "  labs(title = \"HWE distribution\") + \n",
        "  xlab(\"HWE p-value\") + \n",
        "  ylab(\"Frequency\") +\n",
        "  facet_wrap(~Phenotype) +\n",
        "  theme_bw() + \n",
        "  theme(axis.title=element_text(size=13), axis.text=element_text(size=13), plot.title=element_text(size=15),strip.text = element_text(size = 14))\n",
        "\n",
        "# maf_freq histogram\n",
        "hist.hwe_below_threshold <- ggplot(hwe_zoom, aes(x=hwe_zoom[,9])) +\n",
        "  geom_histogram(binwidth = 0.0000015, col = \"black\", fill=\"tomato\") + \n",
        "  labs(title = \"HWE distribution for strongly deviating SNPs only\") + \n",
        "  xlab(\"HWE p-value\") + \n",
        "  ylab(\"Frequency\") +\n",
        "  facet_wrap(~Phenotype) +\n",
        "  theme_bw() +\n",
        "  theme(axis.title=element_text(size=13), axis.text=element_text(size=10.5), plot.title=element_text(size=15),strip.text = element_text(size = 14))\n",
        "\n",
        "show(hist.hwe)\n",
        "show(hist.hwe_below_threshold)\n",
        "\n",
        "# Save plots \n",
        "suppressMessages({\n",
        "ggsave(plot=hist.hwe, filename=\"Results/GWAS3/histhwe.png\");\n",
        "ggsave(plot=hist.hwe_below_threshold, filename=\"Results/GWAS3/histhwe_below_threshold.png\");})"
      ],
      "id": "48e8396f-5b57-472c-b347-2b3a7879c277"
    },
    {
      "cell_type": "markdown",
      "metadata": {},
      "source": [
        "<img src=\"Images/bash.png\" alt=\"bash\" width=\"40\"> Switch to the Bash\n",
        "kernel.\n",
        "\n",
        "Almost all of our SNPs are in HWE, as determined by testing whether the\n",
        "alleles follow a binomial distribution. However, in our zoomed-in plot,\n",
        "we can spot a few extreme deviations. We can remove these outliers using\n",
        "the option `--hwe` in PLINK with the specified threshold. Note that\n",
        "`--hwe` filters only on controls, so if you want to apply the threshold\n",
        "to non-controls as well, add the `include-nonctrl` in the command. In\n",
        "the first step below, we filter controls using a threshold of `1e-6`,\n",
        "followed by filtering all phenotypes with a threshold `1e-10`:"
      ],
      "id": "8ed6742c-b086-4104-8879-256b4df59667"
    },
    {
      "cell_type": "code",
      "execution_count": 1,
      "metadata": {
        "tags": []
      },
      "outputs": [
        {
          "output_type": "stream",
          "name": "stdout",
          "text": [
            "PLINK v1.90b6.21 64-bit (19 Oct 2020)          www.cog-genomics.org/plink/1.9/\n",
            "(C) 2005-2020 Shaun Purcell, Christopher Chang   GNU General Public License v3\n",
            "Logging to Results/GWAS3/HapMap_3_r3_5_onlycontrols.log.\n",
            "Options in effect:\n",
            "  --bfile Results/GWAS3/HapMap_3_r3_5\n",
            "  --hwe 1e-6\n",
            "  --make-bed\n",
            "  --out Results/GWAS3/HapMap_3_r3_5_onlycontrols\n",
            "\n",
            "385567 MB RAM detected; reserving 192783 MB for main workspace.\n",
            "1073226 variants loaded from .bim file.\n",
            "164 people (80 males, 84 females) loaded from .fam.\n",
            "112 phenotype values loaded from .fam.\n",
            "Using 1 thread (no multithreaded calculations invoked).\n",
            "Before main variant filters, 112 founders and 52 nonfounders present.\n",
            "Calculating allele frequencies... done.\n",
            "Total genotyping rate is 0.998039.\n",
            "--hwe: 0 variants removed due to Hardy-Weinberg exact test.\n",
            "1073226 variants and 164 people pass filters and QC.\n",
            "Among remaining phenotypes, 56 are cases and 56 are controls.  (52 phenotypes\n",
            "are missing.)\n",
            "--make-bed to Results/GWAS3/HapMap_3_r3_5_onlycontrols.bed +\n",
            "Results/GWAS3/HapMap_3_r3_5_onlycontrols.bim +\n",
            "Results/GWAS3/HapMap_3_r3_5_onlycontrols.fam ... done."
          ]
        }
      ],
      "source": [
        "# filter applied to controls \n",
        "plink --bfile Results/GWAS3/HapMap_3_r3_5 --hwe 1e-6 --make-bed --out Results/GWAS3/HapMap_3_r3_5_onlycontrols"
      ],
      "id": "f64ffce1"
    },
    {
      "cell_type": "code",
      "execution_count": 2,
      "metadata": {
        "tags": []
      },
      "outputs": [
        {
          "output_type": "stream",
          "name": "stdout",
          "text": [
            "PLINK v1.90b6.21 64-bit (19 Oct 2020)          www.cog-genomics.org/plink/1.9/\n",
            "(C) 2005-2020 Shaun Purcell, Christopher Chang   GNU General Public License v3\n",
            "Logging to Results/GWAS3/HapMap_3_r3_6.log.\n",
            "Options in effect:\n",
            "  --bfile Results/GWAS3/HapMap_3_r3_5_onlycontrols\n",
            "  --hwe 1e-10 include-nonctrl\n",
            "  --make-bed\n",
            "  --out Results/GWAS3/HapMap_3_r3_6\n",
            "\n",
            "385567 MB RAM detected; reserving 192783 MB for main workspace.\n",
            "1073226 variants loaded from .bim file.\n",
            "164 people (80 males, 84 females) loaded from .fam.\n",
            "112 phenotype values loaded from .fam.\n",
            "Using 1 thread (no multithreaded calculations invoked).\n",
            "Before main variant filters, 112 founders and 52 nonfounders present.\n",
            "Calculating allele frequencies... done.\n",
            "Total genotyping rate is 0.998039.\n",
            "--hwe: 0 variants removed due to Hardy-Weinberg exact test.\n",
            "1073226 variants and 164 people pass filters and QC.\n",
            "Among remaining phenotypes, 56 are cases and 56 are controls.  (52 phenotypes\n",
            "are missing.)\n",
            "--make-bed to Results/GWAS3/HapMap_3_r3_6.bed + Results/GWAS3/HapMap_3_r3_6.bim\n",
            "+ Results/GWAS3/HapMap_3_r3_6.fam ... done."
          ]
        }
      ],
      "source": [
        "# threshold apply to all ind\n",
        "plink --bfile Results/GWAS3/HapMap_3_r3_5_onlycontrols --hwe 1e-10 include-nonctrl --make-bed --out Results/GWAS3/HapMap_3_r3_6"
      ],
      "id": "5151da4b"
    },
    {
      "cell_type": "markdown",
      "metadata": {},
      "source": [
        "This was just an example to show the commands, but you can notice how\n",
        "the filter removed 0 variants.\n",
        "\n",
        "> **Note**\n",
        ">\n",
        "> **Why using a softer filtering threshold for HWE?** HWE test assumes\n",
        "> that the population is **randomly mating without strong selection,\n",
        "> migration, or genotyping errors**. Since cases may be under selective\n",
        "> pressure due to the disease, they may deviate from HWE due to\n",
        "> association with the phenotype rather than genotyping errors or\n",
        "> population structure.\n",
        ">\n",
        "> Thus it is better to choose a lower threshold for cases, or avoiding\n",
        "> filtering them at all according to HWE.\n",
        "\n",
        "# Heterozygosity Rate\n",
        "\n",
        "We filter individuals based on their heterozygosity rate, which is\n",
        "similar to HWE but applied at the individual level. If an individual has\n",
        "an unusually high number of heterozygous calls (A/B) and no homozygous\n",
        "calls (A/A or B/B), or vice versa, it could indicate data issues.\n",
        "\n",
        "## PLINK commands\n",
        "\n",
        "PLINK does not provide a summary of individual heterozygosity. To assess\n",
        "this, we first prune the dataset by excluding highly correlated SNPs, as\n",
        "they reduce analysis power. We use\n",
        "`--indep-pairwise <window size>['kb'] <step size (variant ct)> <r^2 threshold>`\n",
        "to prune SNPs in high Linkage Disequilibrium, excluding high inversion\n",
        "regions (`--exclude` with `Data/inversion.txt`). For more information,\n",
        "click [here](https://www.cog-genomics.org/plink/1.9/ld).\n",
        "\n",
        "In our case, the parameters for the `--indep-pairwise` are `50 5 0.2`\n",
        "representing the window size, shift-window step count, and correlation\n",
        "threshold for pruning. Once we have the pruned list, we will check\n",
        "heterozygosity on the **set of SNPs that are not highly correlated**."
      ],
      "id": "fbac4eaa-7f34-4c37-a537-bd9bd564ff03"
    },
    {
      "cell_type": "code",
      "execution_count": 3,
      "metadata": {
        "tags": []
      },
      "outputs": [],
      "source": [
        "plink --bfile Results/GWAS3/HapMap_3_r3_6 \\\n",
        "    --exclude Data/inversion.txt \\\n",
        "    --range \\\n",
        "    --indep-pairwise 50 5 0.2 \\\n",
        "    --out Results/GWAS3/indepSNP \\\n",
        "    --silent"
      ],
      "id": "6cb3ed80"
    },
    {
      "cell_type": "markdown",
      "metadata": {},
      "source": [
        "With this pruned list, we measure the heterozygosity rates of the\n",
        "individuals in the remaining independent SNPs."
      ],
      "id": "ef3df230-bfd8-474e-8319-63ff818fe840"
    },
    {
      "cell_type": "code",
      "execution_count": 4,
      "metadata": {
        "tags": []
      },
      "outputs": [],
      "source": [
        "plink --bfile Results/GWAS3/HapMap_3_r3_6 \\\n",
        "    --extract Results/GWAS3/indepSNP.prune.in \\\n",
        "    --het \\\n",
        "    --out Results/GWAS3/R_check \\\n",
        "    --silent"
      ],
      "id": "a551b42f"
    },
    {
      "cell_type": "markdown",
      "metadata": {},
      "source": [
        "<img src=\"Images/R.png\" alt=\"R\" width=\"40\"> Switch to the R kernel.\n",
        "\n",
        "Now, let’s plot the distribution of heterozygosity rates. Again, we will\n",
        "first examine the heterozygosity table. The `--het` option in PLINK\n",
        "generates an output table with the following columns:\n",
        "\n",
        "-   `FID`: Individual’s Family ID.\n",
        "-   `IID`: Individual ID within the family.\n",
        "-   `O(HOM)`: Observed number of homozygous genotypes.\n",
        "-   `E(HOM)`: Expected number of homozygous genotypes under\n",
        "    Hardy-Weinberg equilibrium.\n",
        "-   `N(NM)`: Number of non-missing autosomal genotypes.\n",
        "-   `F`: Inbreeding coefficient, which is calculated as\n",
        "    $\\tfrac{(E(HOM)−O(HOM))}{N(NM)}$."
      ],
      "id": "655473ce-a96b-4220-8dd9-204be22adad1"
    },
    {
      "cell_type": "code",
      "execution_count": 1,
      "metadata": {
        "tags": []
      },
      "outputs": [
        {
          "output_type": "display_data",
          "metadata": {},
          "data": {}
        }
      ],
      "source": [
        "het <- read.table(\"Results/GWAS3/R_check.het\", head=TRUE)\n",
        "head(het)"
      ],
      "id": "1c961837-0788-43d5-a5b0-6f65e147f7a6"
    },
    {
      "cell_type": "markdown",
      "metadata": {},
      "source": [
        "We will calculate the heterozygosity rates manually for plotting, as\n",
        "they are not included by default in the table. The formula is\n",
        "$N(NM)-O(HOM)/N(NM)$"
      ],
      "id": "a7e7e8dd-bb5e-4736-9c3d-e29984af839a"
    },
    {
      "cell_type": "code",
      "execution_count": 2,
      "metadata": {
        "tags": []
      },
      "outputs": [
        {
          "output_type": "display_data",
          "metadata": {},
          "data": {
            "image/png": "[encoded data removed]"
          }
        }
      ],
      "source": [
        "# Barplot for heterozigosity rates\n",
        "suppressMessages(suppressWarnings(library(ggplot2)))\n",
        "options(repr.plot.width = 9, repr.plot.height = 4)\n",
        "\n",
        "het$HET_RATE = (het$\"N.NM.\" - het$\"O.HOM.\")/het$\"N.NM.\"\n",
        "\n",
        "# plink.imiss histogram\n",
        "hist.het <- ggplot(het, aes(x=HET_RATE)) +\n",
        "  geom_histogram(binwidth = 0.001, col = \"black\", fill=\"tomato\") + \n",
        "  labs(title = \"Heterozygosity Rates\") + \n",
        "  xlab(\"Heterozygosity Rate\") + \n",
        "  ylab(\"Frequency\") + \n",
        "  theme_bw() +\n",
        "  theme(axis.title=element_text(size=13), axis.text=element_text(size=10.5), plot.title=element_text(size=15))\n",
        "\n",
        "\n",
        "show(hist.het)\n",
        "\n",
        "# Save plots \n",
        "suppressMessages(ggsave(plot=hist.het, filename=\"Results/GWAS3/heterozygosity.png\"))"
      ],
      "id": "80d47e15-ca66-44b2-b27a-da477b9d5648"
    },
    {
      "cell_type": "markdown",
      "metadata": {},
      "source": [
        "As a rule of thumb, **we remove individuals whose heterozygosity\n",
        "deviates (sd) more than 3 standard deviations from the mean**. We will\n",
        "create a file that subsets the heterozygosity table based on this\n",
        "threshold for use in PLINK removal. Additionally, we’ll add a `HET_DST`\n",
        "column to the table containing the standardized heterozygosity values."
      ],
      "id": "0703f66d-1134-464c-9e13-7870e3234e22"
    },
    {
      "cell_type": "code",
      "execution_count": 3,
      "metadata": {
        "tags": []
      },
      "outputs": [],
      "source": [
        "suppressMessages(suppressWarnings(library(dplyr)))\n",
        "\n",
        "# read file \n",
        "het <- read.table(\"Results/GWAS3/R_check.het\", head=TRUE)\n",
        "# add column with heterozygocity rates\n",
        "het$HET_RATE = (het$\"N.NM.\" - het$\"O.HOM.\")/het$\"N.NM.\"\n",
        "\n",
        "# Substract inds that deviate more than sd=3 from the mean \n",
        "het_fail <- subset(het, (het$HET_RATE < mean(het$HET_RATE)-3*sd(het$HET_RATE)) | \n",
        "                    (het$HET_RATE > mean(het$HET_RATE)+3*sd(het$HET_RATE)))\n",
        "\n",
        "# Add column with standardized heterozygosity rates\n",
        "het_fail$HET_DST <- (het_fail$HET_RATE-mean(het$HET_RATE))/sd(het$HET_RATE)\n",
        "\n",
        "# write file \n",
        "write.table(het_fail, \"Results/GWAS3/fail-het-qc.txt\", row.names=FALSE, quote=FALSE)"
      ],
      "id": "963e0a29"
    },
    {
      "cell_type": "markdown",
      "metadata": {},
      "source": [
        "> **Stop - Read - Solve**\n",
        ">\n",
        "> The output of the R code is saved as `fail-het-qc.txt`. Let’s check\n",
        "> how many individuals are picked up as having a heterozygosity rate\n",
        "> deviating more than 3 SDs from the mean.\n",
        ">\n",
        "> Hint: `wc -l` counts only the lines in the file (incl. header).\n",
        ">\n",
        "> <img src=\"Images/bash.png\" alt=\"bash\" width=\"40\"> Switch to the Bash\n",
        "> kernel."
      ],
      "id": "4afc5167-4089-4b25-b94c-b0b9b633c37a"
    },
    {
      "cell_type": "code",
      "execution_count": null,
      "metadata": {},
      "outputs": [],
      "source": [
        "#Write your code here"
      ],
      "id": "e63bbd7f-001e-47d3-a888-c57aac1ac518"
    },
    {
      "cell_type": "markdown",
      "metadata": {},
      "source": [
        "> **Solution**\n",
        ">\n",
        "> We can count 3 lines (one is the header), meaning there are two\n",
        "> individuals to be filtered out. To use the file in PLINK, we need only\n",
        "> the first two columns (Family ID and Individual ID) as shown below\n",
        ">\n",
        "> ``` bash\n",
        "> wc -l Results/GWAS3/fail-het-qc.txt\n",
        "> ```\n",
        ">\n",
        ">     3 Results/GWAS3/fail-het-qc.txt\n",
        ">\n",
        "> We need the first two columns to create the list of individuals to\n",
        "> remove.\n",
        ">\n",
        "> ``` bash\n",
        "> cat Results/GWAS3/fail-het-qc.txt\n",
        "> ```\n",
        ">\n",
        ">     FID IID O.HOM. E.HOM. N.NM. F HET_RATE HET_DST\n",
        ">     1330 NA12342 68049 67240 103571 0.02229 0.342972453679119 -3.66711854374478\n",
        ">     1459 NA12874 68802 67560 104068 0.0339 0.338874582004074 -5.04839854982741\n",
        ">\n",
        "> We use `awk` to print out the first two columns in the file\n",
        "> `het-fail-ind.txt` and the option `--remove` to filter out the\n",
        "> individuals using PLINK.\n",
        ">\n",
        "> ``` bash\n",
        "> awk '{print$1, $2}' Results/GWAS3/fail-het-qc.txt > Results/GWAS3/het-fail-ind.txt\n",
        ">\n",
        "> plink --bfile Results/GWAS3/HapMap_3_r3_6 \\\n",
        ">     --remove Results/GWAS3/het-fail-ind.txt \\\n",
        ">     --make-bed \\\n",
        ">     --out Results/GWAS3/HapMap_3_r3_7 \\\n",
        ">     --silent\n",
        "> ```\n",
        ">\n",
        "> After all filtering is done, we can count the number of individuals\n",
        "> and variants\n",
        ">\n",
        "> ``` bash\n",
        "> wc -l Results/GWAS3/HapMap_3_r3_7.fam\n",
        "> wc -l Results/GWAS3/HapMap_3_r3_7.bim\n",
        "> ```\n",
        ">\n",
        ">     162 Results/GWAS3/HapMap_3_r3_7.fam\n",
        ">     1073226 Results/GWAS3/HapMap_3_r3_7.bim\n",
        ">\n",
        "> Look back at the very first run of PLINK. We had 1457897 SNPs and 165\n",
        "> individuals. We filtered out around 1/3 of all SNPs!\n",
        "\n",
        "------------------------------------------------------------------------\n",
        "\n",
        "> **Challenge yourself: first quality control on mice data**\n",
        ">\n",
        "> We continue working with the mice data. Now we want to do a quality\n",
        "> control workflow as we did before. Try to repeat all the steps,\n",
        "> excluding the sex discrepancies, which cannot be done due to the\n",
        "> missing sex chromosomes in the data:\n",
        ">\n",
        "> 1 - Missingness analysis and filtering, both per SNP and per\n",
        "> individual.\n",
        ">\n",
        "> 2 - Minor Allele Frequency. **Note:** The number of chromosomes is\n",
        "> different in this dataset.\n",
        ">\n",
        "> 3 - Hardy-Weinberg Equilibrium. **Note:** This data contains\n",
        "> case-control, so you don’t need to rename the columns `hwe$Phenotype`\n",
        "> and `hwe_zoom$Phenotype`. Similarly, avoid using `include-nonctrl` in\n",
        "> PLINK. In the R code, you will also want to avoid the line with\n",
        "> `facet_wrap` separating the group Phenotype for plotting.\n",
        ">\n",
        "> 4 - Heterozigosity rate. **Note:** You do not have a list of regions\n",
        "> with inversions, so do not use `--exclude Data/inversion.txt --range`\n",
        "> in PLINK.\n",
        ">\n",
        "> **General notes for the exercise:**\n",
        ">\n",
        "> -   Copy-paste all the commands you need from the tutorial, but\n",
        ">     remember to carefully check that the file names and options are\n",
        ">     correct to be used in your data.\n",
        "> -   Use proper file names for the output of PLINK when filtering and\n",
        ">     creating new `bed/bim/fam` files. For example, when you apply the\n",
        ">     various filterings, create a new output name prefix instead of\n",
        ">     keeping use `mice`. Start from `mice`, then create `mice_miss`,\n",
        ">     `mice_miss_maf`, `mice_miss_maf_hwe`, `mice_miss_maf_hwe_het`, so\n",
        ">     that you can trace back all your work to each analysis step.\n",
        "> -   Feel free to play with the code for creating plots (e.g. changing\n",
        ">     colors and cutoff values).\n",
        "> -   Make use of Generative AI to get help for the code if you think it\n",
        ">     is not enough to use what is provided in the tutorial, or if you\n",
        ">     want to explore something beyond the exercise.\n",
        "\n",
        "> **Click to view answers**\n",
        ">\n",
        "> <i class=\"bi bi-journal-code\"></i>\n",
        "> [mice-solutions.ipynb](exercises/gwas3-mice.ipynb)\n",
        "\n",
        "> **Wrapping up**\n",
        ">\n",
        "> In this tutorial, we have tried several quality control approaches in\n",
        "> PLINK and calculated various statistics, which we visualized using\n",
        "> `R`. In the next notebook, you will find even more examples of how you\n",
        "> verify the quality of your data.\n",
        ">\n",
        "> A table with a small recap of the options used in filtering with PLINK\n",
        ">\n",
        "> | Step | Command | Function | Thresholds and explanation |\n",
        "> |------------------|------------------|------------------|------------------|\n",
        "> | 1: Missingness of SNPs | `--geno` | Excludes SNPs that are missing in a large proportion of the subjects. In this step, SNPs with low genotype calls are removed | We recommend first filtering SNPs and individuals based on a relaxed threshold (0.2; \\>20%), as this will filter out SNPs and individuals with very high levels of missingness. Then a filter with a more stringent threshold can be applied (0.02) |\n",
        "> | 2: Missingness of individuals | `--mind` | Excludes individuals who have high rates of genotype missingness. In this step, individuals with low genotype calls are removed | Note, SNP filtering should be performed before individual filtering |\n",
        "> | 3: Sex discrepancy | `--check-sex` | Checks for discrepancies between the sex of the individuals recorded in the dataset and their sex based on X chromosome heterozygosity/homozygosity rates | Can indicate sample mix‐ups. If many subjects have this discrepancy, the data should be checked carefully. Males should have an X chromosome homozygosity estimate \\>0.8 and females should have a value \\<0.2 |\n",
        "> | 4: Minor allele frequency (MAF) | `--maf` | Includes only SNPs above the set MAF threshold | SNPs with a low MAF are rare, therefore power is lacking for detecting SNP‐phenotype associations. These SNPs are also more prone to genotyping errors. The MAF threshold should depend on your sample size, larger samples can use lower MAF thresholds. Respectively, for large (N = 100.000) vs. moderate samples (N = 10000), 0.01 and 0.05 are commonly used as MAF thresholds |\n",
        "> | 5: Hardy-Weinberg equilibrium (HWE) | `--hwe` | Excludes markers which deviate from Hardy–Weinberg equilibrium | Common indicator of genotyping error, may also indicate evolutionary selection. For binary traits, we suggest excluding: HWE p-value \\<1e−10 in cases and \\<1e−6 in controls. A less strict case threshold avoids discarding disease‐associated SNPs under selection. For quantitative traits, we recommend HWE p-value \\<1e‐6. |\n",
        "> | 6: Heterozygosity | `R` code + `--remove` option in PLINK | Excludes individuals with high or low heterozygosity rates | Deviations can indicate sample contamination and inbreeding. We suggest removing individuals who deviate ±3 SD from the samples’ heterozygosity rate mean |\n",
        "\n",
        "# Bibliography\n",
        "\n",
        "Kanaka, K. K., Nidhi Sukhija, Rangasai Chandra Goli, Sanjeev Singh,\n",
        "Indrajit Ganguly, S. P. Dixit, Aishwarya Dash, and Anoop Anand Malik.\n",
        "2023. “On the Concepts and Measures of Diversity in the Genomics Era.”\n",
        "*Current Plant Biology* 33 (January): 100278.\n",
        "<https://doi.org/10.1016/j.cpb.2023.100278>.\n",
        "\n",
        "Lachance, J. 2016. “Hardy–Weinberg Equilibrium and Random Mating.” In\n",
        "*Encyclopedia of Evolutionary Biology*, edited by Richard M. Kliman,\n",
        "208–11. Oxford: Academic Press.\n",
        "<https://doi.org/10.1016/B978-0-12-800049-6.00022-6>."
      ],
      "id": "584bf5cb-c394-4972-8f5c-a16ed2e794c4"
    }
  ],
  "nbformat": 4,
  "nbformat_minor": 5,
  "metadata": {
    "Rmd_chunk_options": {
      "author": "Matti Pirinen, University of Helsinki",
      "date": "Updated: 29-10-2020; 1st ver: 23-Jan-2019.",
      "output": {
        "html_document": "default"
      },
      "title": "GWAS 4: Bayesian inference",
      "urlcolor": "blue"
    },
    "kernelspec": {
      "name": "bash",
      "display_name": "Bash",
      "language": "bash"
    },
    "language_info": {
      "name": "bash",
      "codemirror_mode": "shell",
      "file_extension": ".sh",
      "mimetype": "text/x-sh"
    },
    "sos": {
      "kernels": [
        [
          "SoS",
          "sos",
          "",
          ""
        ],
        [
          "R",
          "ir",
          "",
          ""
        ]
      ]
    }
  }
}