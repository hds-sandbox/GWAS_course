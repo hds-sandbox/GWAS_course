{
  "cells": [
    {
      "cell_type": "markdown",
      "metadata": {},
      "source": [
        "# Polygenic scores II\n",
        "\n",
        "> **Important notes for this notebook**\n",
        ">\n",
        "> In this notebook, we have data for a toy quantitative trait, so you’ll\n",
        "> need to perform a basic polygenic risk score analysis and explore the\n",
        "> results in a manner similar to what we did in the previous notebook.\n",
        ">\n",
        "> ## Learning outcomes\n",
        ">\n",
        "> -   **Discuss and choose** the PRS equation\n",
        "> -   **Discuss** PRS scores and biases\n",
        ">\n",
        "> ## How to make this notebook work\n",
        ">\n",
        "> -   We will use both `R` and `bash command line` programming\n",
        ">     languages. Remember to **change the kernel** whenever you\n",
        ">     transition from one language to the other\n",
        ">     (`Kernel --> Change Kernel`) indicated by the languages’ images.\n",
        ">     We will first run `Bash` commands.\n",
        ">\n",
        "> <img src=\"Images/bash.png\" alt=\"Bash\" width=\"80\"> Choose the Bash\n",
        "> kernel\n",
        "\n",
        "# PRSice analysis II\n",
        "\n",
        "We will be working with a new preprocessed simulated dataset that has\n",
        "already undergone quality control. Our analysis includes summary\n",
        "statistics from a powerful base GWAS (in this case, for height) and a\n",
        "target dataset consisting of European individuals in PLINK format. In\n",
        "this tutorial, we will incorporate covariates and principal components\n",
        "(PCs) in the polygenic score calculation.\n",
        "\n",
        "Let’s create a folder for the output files."
      ],
      "id": "a676dee1-41fa-4d6b-8658-2302280ad09f"
    },
    {
      "cell_type": "code",
      "execution_count": 1,
      "metadata": {},
      "outputs": [],
      "source": [
        "mkdir -p Results/GWAS7\n",
        "\n",
        "# Create two links to data and software\n",
        "ln -sf ../Data"
      ],
      "id": "db774569-7628-425f-bac2-eb24c509279a"
    },
    {
      "cell_type": "markdown",
      "metadata": {},
      "source": [
        "> **Stop - Read - Solve**\n",
        ">\n",
        "> You have already run the PRSice software for binary traits. Now, it’s\n",
        "> your turn to do the same for height. What type of phenotype is this?\n",
        ">\n",
        "> The data:\n",
        ">\n",
        "> -   **Height.QC.gz**: post-QC summary statistics\n",
        "> -   **EUR.QC.**: prefix of plink files for the target sample\n",
        "> -   **EUR.height**: file containing measurements\n",
        "> -   **EUR.covariate**: this file contains the principal components and\n",
        ">     sex as covariates. Since PRSice only accepts a single covariate\n",
        ">     file, you may need to merge the *.cov and *.eigenvec files if you\n",
        ">     used PLINK for quality control.\n",
        ">\n",
        "> Please, apply the following filter to the base GWAS:\n",
        ">\n",
        "> -   Filter out SNPs with MAF \\< 0.01 in the GWAS summary statistics,\n",
        ">     using the information in the `MAF` column\n",
        "> -   Filter out SNPs with INFO \\< 0.8 in the GWAS summary statistics,\n",
        ">     using the information in the `INFO` column\n",
        ">\n",
        "> **Adjust the code from the previous notebooks to run PRSice software\n",
        "> on the new dataset**. Check out the user manual if you need extra\n",
        "> help: https://choishingwan.github.io/PRSice/.\n",
        ">\n",
        "> We recommend using the `qqman` library in R to visualize the\n",
        "> **Manhattan plot** and **QQ-plot** of the base GWAS results to assess\n",
        "> the distribution of association signals before computing the PRS."
      ],
      "id": "aed16851-353a-4383-bb53-2f3300dff97f"
    },
    {
      "cell_type": "code",
      "execution_count": null,
      "metadata": {},
      "outputs": [],
      "source": [
        "# Write R code here\n",
        "# Setup to avoid long messages and plot on screen\n",
        "options(warn=-1)\n",
        "options(jupyter.plot_mimetypes = 'image/png')\n",
        "\n",
        "# Load GWAS package qqman\n",
        "suppressMessages(library(\"qqman\"))\n"
      ],
      "id": "150eb3ab-6bdb-4ca9-bc85-93748cdb89ab"
    },
    {
      "cell_type": "code",
      "execution_count": null,
      "metadata": {},
      "outputs": [],
      "source": [
        "# Write PRSice command here"
      ],
      "id": "354e0c57-88f1-4aa8-a58b-998254bb29e9"
    },
    {
      "cell_type": "markdown",
      "metadata": {},
      "source": [
        "> **Stop - Read - Solve**\n",
        ">\n",
        "> Once you have the PRS results, answer the following questions:\n",
        ">\n",
        "> -   Which P-value threshold generated the “best-fit” PRS?\n",
        "> -   How much phenotypic variation does the “best-fit” PRS explain?\n",
        ">\n",
        "> Hint: Check the `<PREFIX>.summary` file."
      ],
      "id": "f182f9ae-49b6-4e12-a72c-f22f668ee431"
    },
    {
      "cell_type": "code",
      "execution_count": null,
      "metadata": {},
      "outputs": [],
      "source": [
        "# Write your answer here"
      ],
      "id": "7b29b47d-6677-4c84-9e1b-f5e17f3e98a2"
    },
    {
      "cell_type": "markdown",
      "metadata": {},
      "source": [
        "> **Stop - Read - Solve**\n",
        ">\n",
        "> Since height differs across sexes, let’s focus on visualizing the\n",
        "> relationship between the “best-fit” PRS and the phenotype of interest,\n",
        "> colored according to sex."
      ],
      "id": "59fc82e8-fae8-47e0-8df2-bc74d29e2184"
    },
    {
      "cell_type": "code",
      "execution_count": null,
      "metadata": {},
      "outputs": [],
      "source": [
        "# Write your code for plotting here "
      ],
      "id": "e48d3d70-80ed-4bb0-ba40-380339dbb6fe"
    },
    {
      "cell_type": "markdown",
      "metadata": {},
      "source": [
        "> **Click to view answers**\n",
        ">\n",
        "> <i class=\"bi bi-journal-code\"></i>\n",
        "> [prs2-solutions.ipynb](exercises/gwas7-prs.ipynb)\n",
        "\n",
        "Do you want to explore other post-GWAS analyses? Visit this [GitHub\n",
        "repository](https://github.com/eskederks/eMAGMA-tutorial) for a\n",
        "step-by-step guide on eMAGMA, a framework that converts GWAS summary\n",
        "statistics into gene-level statistics by assigning risk variants to\n",
        "putative genes using tissue-specific eQTL information."
      ],
      "id": "092b36e1-6b5b-4af3-86d2-ff1a5b7fdf62"
    }
  ],
  "nbformat": 4,
  "nbformat_minor": 5,
  "metadata": {
    "kernelspec": {
      "name": "bash",
      "display_name": "Bash",
      "language": "bash"
    },
    "language_info": {
      "name": "bash",
      "codemirror_mode": "shell",
      "file_extension": ".sh",
      "mimetype": "text/x-sh"
    }
  }
}