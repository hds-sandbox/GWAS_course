{
  "cells": [
    {
      "cell_type": "markdown",
      "metadata": {},
      "source": [
        "# Population stratification\n",
        "\n",
        "> **Important notes for this notebook**\n",
        ">\n",
        "> As we’ve discussed, removing population structure is crucial, as\n",
        "> residual population stratification—highlighted by (Sohail et al.\n",
        "> 2019)—can even be detected in published GWAS. This can lead to biased\n",
        "> effect size estimates, impacting polygenic risk scores and other\n",
        "> downstream analyses. In this notebook, we will further explore one way\n",
        "> of detecting population stratification in GWAS. Since we were\n",
        "> uncertain whether we were being too strict when correcting for\n",
        "> population structure, or if the GWAS lacked sufficient power, this\n",
        "> analysis will help us clarify if we can trust our results.\n",
        ">\n",
        "> ## Learning outcomes\n",
        ">\n",
        "> -   Identify potential population stratification in our GWAS output.\n",
        ">\n",
        "> ## How to make this notebook work\n",
        ">\n",
        "> -   In this notebook, we will use both `R` and `bash command line`\n",
        ">     programming languages. Remember to **change the kernel** whenever\n",
        ">     you transition from one language to the other\n",
        ">     (`Kernel --> Change Kernel`) indicated by the languages’ images.\n",
        ">     We will first run `Bash` commands.\n",
        ">\n",
        "> <img src=\"Images/bash.png\" alt=\"Bash\" width=\"80\"> Choose the Bash\n",
        "> kernel\n",
        "\n",
        "### Correlation between PC loadings and effect sizes\n",
        "\n",
        "We followed a similar approach from (Sohail et al. 2019) to examine GWAS\n",
        "stratification along different PCA axes of population structure. We\n",
        "began by performing a PCA on the genotype data from the 1000 Genomes\n",
        "Project used in the previous notebook. Then, we computed the correlation\n",
        "between the first 10 PCA loadings and the effect size estimates from the\n",
        "GWAS conducted on the Hapmap data. We visualized these PC-specific\n",
        "correlations to explore patterns of stratification along different axes\n",
        "of genetic variation. Additionally, it would be very useful to consider\n",
        "allele frequency differences across different populations when analyzing\n",
        "such stratification.\n",
        "\n",
        "We use PLINK’s `--pca var-wts` command on the set of independent\n",
        "variants (`indepSNP.prune.in`) to obtain the PC loadings."
      ],
      "id": "3a2713fc-073a-4a03-b7b0-fedd19d99d1f"
    },
    {
      "cell_type": "code",
      "execution_count": 1,
      "metadata": {},
      "outputs": [],
      "source": [
        "plink --bfile Results/GWAS4/1kG_MDS6  --extract Results/GWAS3/indepSNP.prune.in --pca 10 var-wts --out Results/GWAS4/PCA_1kg --silent"
      ],
      "id": "356bce29-20f8-4bca-842c-3c4ca3cf5559"
    },
    {
      "cell_type": "markdown",
      "metadata": {},
      "source": [
        "<img src=\"Images/R.png\" alt=\"R\" width=\"40\"> Switch to the R kernel.\n",
        "\n",
        "Now we will plot the correlation between the loadings and the effect\n",
        "sizes for both GWAS results from GWAS5.\n",
        "\n",
        "#### A. Summary statistics from `--assoc` test"
      ],
      "id": "0f247337-de95-4e04-a074-9188e89c63cd"
    },
    {
      "cell_type": "code",
      "execution_count": 29,
      "metadata": {},
      "outputs": [
        {
          "output_type": "display_data",
          "metadata": {},
          "data": {
            "image/png": "[encoded data removed]"
          }
        }
      ],
      "source": [
        "library(ggplot2)\n",
        "\n",
        "# load the data \n",
        "results_as <- read.table(\"Results/GWAS5/assoc_results.assoc\", head=TRUE)\n",
        "data <- read.table(file=\"Results/GWAS4/PCA_1kg.eigenvec.var\",header=FALSE)\n",
        "colnames(data) <- c(\"CHROM\", \"ID\", \"a1\", \"a2\", \n",
        "                    paste0(\"PC\", 1:10))  # PC1 to PC10\n",
        "# merge data \n",
        "merged_tab <- merge(results_as, data, by=2)\n",
        "# compute correlations \n",
        "correlations <- apply(merged_tab[, 14:23], 2, function(x) cor(merged_tab$OR, x, method=\"pearson\", use=\"complete.obs\"))\n",
        "\n",
        "dataCor <- data.frame(\n",
        "  pc = 1:10,\n",
        "  corr = correlations)\n",
        "\n",
        "\n",
        "ggplot(as.data.frame(dataCor), aes(pc, corr)) +\n",
        "    ylab(expression(rho(PC, OR))) +\n",
        "    geom_bar(stat='identity', position='dodge', col='black')+\n",
        "    xlab('PC') + \n",
        "    ylim(c(-0.1,0.1)) +\n",
        "    scale_x_continuous(breaks=seq(1,10,1), expand=c(0,0.1))+\n",
        "    theme(panel.grid.minor=element_blank(), panel.background = element_blank(),\n",
        "            axis.line = element_line(), axis.text= element_text(size=12),\n",
        "          axis.title= element_text(size=12))\n"
      ],
      "id": "ca04bc63-8c6b-46d4-8a06-d4e23e2daedb"
    },
    {
      "cell_type": "markdown",
      "metadata": {},
      "source": [
        "#### B. Summary statistics from `--logistic` test\n",
        "\n",
        "Let’s calculate Pearson correlations using the logistic model results."
      ],
      "id": "6be36fdc-619e-43d0-9ab2-89ea48850b2c"
    },
    {
      "cell_type": "code",
      "execution_count": 28,
      "metadata": {},
      "outputs": [
        {
          "output_type": "display_data",
          "metadata": {},
          "data": {
            "image/png": "[encoded data removed]"
          }
        }
      ],
      "source": [
        "# load results logistic model \n",
        "results_log <- read.table(\"Results/GWAS5/logistic_results.assoc_2.logistic\", head=TRUE)\n",
        "\n",
        "\n",
        "merged_log <- merge(results_log, data, by=2)\n",
        "# compute correlations \n",
        "correlationsLog <- apply(merged_log[, 13:22], 2, function(x) cor(merged_log$OR, x, method=\"pearson\", use=\"complete.obs\"))\n",
        "\n",
        "dataCorLog <- data.frame(\n",
        "  pc = 1:10,\n",
        "  corr = correlationsLog)\n",
        "\n",
        "\n",
        "ggplot(as.data.frame(dataCorLog), aes(pc, corr)) +\n",
        "    ylab(expression(rho(PC, OR))) +\n",
        "    geom_bar(stat='identity', position='dodge', col='black')+\n",
        "    xlab('PC') + \n",
        "    ylim(c(-0.1,0.1)) +\n",
        "    scale_x_continuous(breaks=seq(1,10,1), expand=c(0,0.1))+\n",
        "    theme(panel.grid.minor=element_blank(), panel.background = element_blank(),\n",
        "            axis.line = element_line(), axis.text= element_text(size=12),\n",
        "          axis.title= element_text(size=12))\n",
        "\n"
      ],
      "id": "3b1447d5-aced-4d74-8fb8-6de8cf03e0af"
    },
    {
      "cell_type": "markdown",
      "metadata": {},
      "source": [
        "There should be no correlation if we had corrected for population\n",
        "structure, as the effect size estimates wouldn’t be influenced by that.\n",
        "In contrast, for the model that doesn’t account for covariates, the\n",
        "correlations are higher than those observed in the logistic model. These\n",
        "correlations may help explain why the logistic model, which accounts for\n",
        "covariates, did not produce significant peaks in the Manhattan plot.\n",
        "Therefore, the lack of significant associations might not be due to\n",
        "being overly cautious but could rather indicate the true absence of\n",
        "strong signals. Further investigation is needed to better understand\n",
        "these results.\n",
        "\n",
        "For interpretation, coloring the bar plot results based on the\n",
        "correlation between the PCs and the allele frequency difference between\n",
        "the populations represented in your target sample would help highlight\n",
        "any patterns or trends.\n",
        "\n",
        "> **Other take-home messages**\n",
        ">\n",
        "> -   Population structure can be addressed using principal components\n",
        ">     (PCs) and mixed models, though never perfectly. If your effect\n",
        ">     size estimates correlate with a PC, it is advisable to run a\n",
        ">     linear mixed model (e.g., BOLT-LMM). However, be cautious—these\n",
        ">     approaches mitigate, but do not entirely eliminate, the risk of\n",
        ">     residual confounding, so results should be interpreted carefully.\n",
        "> -   Controlling for population structure is crucial because residual\n",
        ">     population stratification can introduce spurious associations.\n",
        ">     Researchers might perform meta-analyses to increase statistical\n",
        ">     power by combining data from multiple studies. However, population\n",
        ">     structure bias is unlikely to be consistent across studies. If not\n",
        ">     properly accounted for, this bias can distort results, leading to\n",
        ">     false associations rather than true genetic signals.\n",
        "\n",
        "Sohail, Mashaal, Robert M Maier, Andrea Ganna, Alex Bloemendal, Alicia R\n",
        "Martin, Michael C Turchin, Charleston WK Chiang, et al. 2019. “Polygenic\n",
        "Adaptation on Height Is Overestimated Due to Uncorrected Stratification\n",
        "in Genome-Wide Association Studies.” *Elife* 8: e39702."
      ],
      "id": "d44cb0bd-3585-4b0d-90db-87384df83763"
    }
  ],
  "nbformat": 4,
  "nbformat_minor": 5,
  "metadata": {
    "kernelspec": {
      "name": "rgwas",
      "display_name": "R-GWAS",
      "language": "R"
    },
    "language_info": {
      "name": "R",
      "codemirror_mode": "r",
      "file_extension": ".r",
      "mimetype": "text/x-r-source",
      "pygments_lexer": "r",
      "version": "4.2.2"
    }
  }
}