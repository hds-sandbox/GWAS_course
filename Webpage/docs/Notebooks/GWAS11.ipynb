{
 "cells": [
  {
   "cell_type": "code",
   "execution_count": 1,
   "id": "bb286166",
   "metadata": {
    "Rmd_chunk_options": "setup, include=FALSE",
    "jupyter": {
     "output_hidden": true,
     "source_hidden": true
    },
    "kernel": "R",
    "tags": [
     "scratch"
    ]
   },
   "outputs": [],
   "source": [
    "knitr::opts_chunk$set(echo = TRUE)\n",
    "set.seed(19)"
   ]
  },
  {
   "cell_type": "markdown",
   "id": "061de96d",
   "metadata": {},
   "source": [
    "This document is licensed under a [Creative Commons Attribution-ShareAlike 4.0 International License](https://creativecommons.org/licenses/by-sa/4.0/).\n",
    "\n",
    "The slide set referred to in this document is \"GWAS 11\".\n",
    "\n",
    "Mendelian randomization uses genetic variants to study whether a particular\n",
    "exposure is a **causal** risk factor for a disease.\n",
    "See slides 2-?\n",
    "A soft [introduction](https://www.technologyreview.com/s/611713/researchers-find-way-to-mimic-clinical-trials-using-genetics/) by G.Taubes.\n",
    "A [review](https://academic.oup.com/hmg/article/23/R1/R89/2900899) by Davey Smith & Hemani 2014.\n",
    "\n",
    "Let's consider the example from [Do et al. 2013](http://www.nature.com/ng/journal/v45/n11/full/ng.2795.html) Nat Gen.\n",
    "They studied the relationship between LDL-C, HDL-C and triglyserides (TG) on the\n",
    "risk of coronary artery disease (CAD).\n",
    "They collected 185 SNPs that were associated with some of the risk factors\n",
    "(LDL, HDL or TG, or several of them).\n",
    "\n",
    "The idea in MR is to see how SNPs associated some risk factor of a disease\n",
    "are associated with the disease.\n",
    "If the risk factor has a causal effect on the disease, then the SNPs affecting\n",
    "the risk factor should also affect the disease. Furthermore, we could have\n",
    "a quantitative expectation how much each SNP increases the risk based on\n",
    "how much the SNP changes the risk factor,\n",
    "and how much the risk factor affects the disease risk."
   ]
  },
  {
   "cell_type": "code",
   "execution_count": 2,
   "id": "0250a468",
   "metadata": {
    "kernel": "R",
    "tags": [
     "report_cell"
    ]
   },
   "outputs": [],
   "source": [
    "x = read.table(\"https://www.mv.helsinki.fi/home/mjxpirin/GWAS_course/2019/material/do_2013_frq_data.txt\",\n",
    "               as.is = T, header = T)\n",
    "x[1,]\n",
    "nrow(x) #how many SNPs?"
   ]
  },
  {
   "cell_type": "markdown",
   "id": "f7a75198",
   "metadata": {},
   "source": [
    "So we have 185 SNPs, and for each we know its allele1's effect on\n",
    "HDL, LDL and TG as well as\n",
    "effect on risk for CAD.\n",
    "\n",
    "Suppose we want to know whether LDL has a causal effect on CAD.\n",
    "In standard MR we would look at SNPs that affect ONLY LDL, and\n",
    "we would study whether they also affect CAD."
   ]
  },
  {
   "cell_type": "code",
   "execution_count": 3,
   "id": "acdfe3ed",
   "metadata": {
    "Rmd_chunk_options": "fig.height = 3",
    "kernel": "R",
    "tags": [
     "report_cell"
    ]
   },
   "outputs": [],
   "source": [
    "#Pick SNPs that affect only one trait, and see whether they affect CAD\n",
    "p.aff = 5e-8 #P-value < this means SNP is affecting\n",
    "p.not.aff = 1e-2 #P-value > this means SNP is not affecting\n",
    "cols = c(\"red\",\"orange\",\"dodgerblue\")\n",
    "traits = c(\"TG\",\"LDL\",\"HDL\")\n",
    "par(mfrow=c(1,3))\n",
    "for(set in 1:3){\n",
    " foc = traits[1 + set %% 3] #which trait is the focal one, which are side ones\n",
    " s1 = traits[1 + (set+1) %% 3]\n",
    " s2 = traits[1 + (set+2) %% 3]\n",
    "\n",
    " ind = (x[,paste0(foc,\"_p\")] < p.aff &\n",
    "        x[,paste0(s1,\"_p\")] > p.not.aff &\n",
    "        x[,paste0(s2,\"_p\")] > p.not.aff)\n",
    "\n",
    " plot(x[ind,paste0(foc,\"_beta\")],x[ind,\"CAD_beta\"],\n",
    "      xlab = paste0(foc,\"_beta\"), ylab = \"CAD_beta\", pch = 19, col = cols[set],\n",
    "      main = paste(sum(ind),\"SNPs\"), cex.axis = 1.3, cex.lab = 1.5)\n",
    " grid()\n",
    " abline(h=0,lty = 2)\n",
    " abline(v=0,lty = 2)\n",
    "}"
   ]
  },
  {
   "cell_type": "markdown",
   "id": "9731e1cf",
   "metadata": {},
   "source": [
    "What would you think about these traits being causal for CAD?\n",
    "\n",
    "The need to remove all SNPs with effects on several traits limits\n",
    "information from 185 to only a handful of SNPs.\n",
    "Let's do as Do et al. (2013) and use all the SNPs and regress\n",
    "the CAD effects on the effects on traits.\n",
    "\n",
    "First regression for one trait at a time:"
   ]
  },
  {
   "cell_type": "code",
   "execution_count": 4,
   "id": "0ee8d798",
   "metadata": {
    "Rmd_chunk_options": "fig.height = 3",
    "kernel": "R",
    "tags": [
     "report_cell"
    ]
   },
   "outputs": [],
   "source": [
    "res = data.frame(matrix(NA, ncol=5, nrow=3))\n",
    "par(mfrow=c(1,3))\n",
    "for(set in 1:3){\n",
    " foc=c(\"LDL\",\"HDL\",\"TG\")[set] #which trait is the focal one, which are side ones\n",
    " y.lab = \"CAD_beta\"; x.lab = paste0(foc,\"_beta\")\n",
    " y = x[,y.lab]; z = x[,x.lab]\n",
    " lm.fit = lm( y ~ z )\n",
    " plot(z, y, main = paste0(\"r2=\", signif( cor(z,y)^2, 2)),\n",
    "      xlab = x.lab, ylab = y.lab, col = cols[set], pch = 19)\n",
    " grid()\n",
    " abline(h = 0)\n",
    " abline(v = 0)\n",
    " res[set,] = c(foc, signif(summary(lm.fit)$coeff[2,],3))\n",
    "}\n",
    "res"
   ]
  },
  {
   "cell_type": "markdown",
   "id": "c65923e0",
   "metadata": {},
   "source": [
    "All three traits have a significant correlation with CAD effect size.\n",
    "What happens when all three are in the same model ?"
   ]
  },
  {
   "cell_type": "code",
   "execution_count": 5,
   "id": "a2572f03",
   "metadata": {
    "kernel": "R",
    "tags": [
     "report_cell"
    ]
   },
   "outputs": [],
   "source": [
    "lm.fit=lm(CAD_beta ~ HDL_beta + LDL_beta + TG_beta, data = x)\n",
    "summary(lm.fit)$coeff[-1,]"
   ]
  },
  {
   "cell_type": "markdown",
   "id": "eb7b12eb",
   "metadata": {},
   "source": [
    "HDL is not important predictor when LDL and TG are in the model.\n",
    "So HDL is not likely to be causal. But LDL and TG might be.\n",
    "However, if we had measured also some other correlated lipids or other biomarkers\n",
    "then we might find a more precise cause for the association between our\n",
    "current LDL and TG effects and CAD effects.\n",
    "For example, **ApoB** has been suggested as a possible factor\n",
    "behind both LDL-C and TG effects on CAD by [Ference et al. 2019](https://jamanetwork.com/journals/jama/fullarticle/2722770).\n",
    "\n",
    "We cannot ever prove causality using only MR, but we can learn\n",
    "about the stregth of evidence for the causality hypothesis."
   ]
  }
 ],
 "metadata": {
  "Rmd_chunk_options": {
   "author": "Matti Pirinen, University of Helsinki",
   "date": "27-Feb-2019",
   "output": {
    "html_document": "default",
    "pdf_document": "default"
   },
   "title": "GWAS 11: Mendelian randomization",
   "urlcolor": "blue"
  },
  "kernelspec": {
   "display_name": "R",
   "language": "R",
   "name": "ir"
  },
  "language_info": {
   "codemirror_mode": "r",
   "file_extension": ".r",
   "mimetype": "text/x-r-source",
   "name": "R",
   "pygments_lexer": "r",
   "version": "4.2.1"
  },
  "sos": {
   "kernels": [
    [
     "SoS",
     "sos",
     "",
     ""
    ],
    [
     "R",
     "ir",
     "",
     ""
    ]
   ]
  }
 },
 "nbformat": 4,
 "nbformat_minor": 5
}
