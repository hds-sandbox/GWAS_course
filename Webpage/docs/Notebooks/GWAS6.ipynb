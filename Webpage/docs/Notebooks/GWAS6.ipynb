{
 "cells": [
  {
   "cell_type": "code",
   "execution_count": 1,
   "id": "51e8c418",
   "metadata": {
    "Rmd_chunk_options": "setup, include=FALSE",
    "jupyter": {
     "output_hidden": true,
     "source_hidden": true
    },
    "kernel": "R",
    "tags": [
     "scratch"
    ]
   },
   "outputs": [],
   "source": [
    "knitr::opts_chunk$set(echo = TRUE)\n",
    "set.seed(19)"
   ]
  },
  {
   "cell_type": "markdown",
   "id": "fac51c75",
   "metadata": {},
   "source": [
    "This document is licensed under a [Creative Commons Attribution-ShareAlike 4.0 International License](https://creativecommons.org/licenses/by-sa/4.0/).\n",
    "\n",
    "The slide set referred to in this document is \"GWAS 6\".\n",
    "\n",
    "When we do a GWAS, our hope is to identify variants\n",
    "that point to biological mechanisms behind the phenotypes,\n",
    "since by knowing those mechanisms we could understand better how each phenotype\n",
    "is generated and, importantly, how harmful phenotypes could be influenced.\n",
    "\n",
    "Often this agenda is summarized by saying that we look for **causal variants**, i.e.,\n",
    "variants whose biological functions\n",
    "contribute to the system that determines the phenotype of interest.\n",
    "\n",
    "Next we look at extensions of our basic regression models that allow us to\n",
    "decrease the amount of both false positives\n",
    "(i.e. non-causal variants labelled as interesting)\n",
    "and false negatives (i.e. causal variants not labelled as interesting),\n",
    "by including some additional variables into the regression models.\n",
    "Those additional variables, (such as sex, age or population structure),\n",
    "whose effects on the phenotype are not of our primary interest,\n",
    "but that we may include in the analysis for other reasons,\n",
    "are called **covariates**.\n",
    "\n",
    "To conceptually separate different settings with respect to how and why\n",
    "we should make use of covariates, we define two concepts about\n",
    "relationships between variables:\n",
    "\n",
    "**Independence.**\n",
    "\n",
    "* **Intuition**: Variables $Y$ and $X$\n",
    "are independent (in a population $S$) if\n",
    "knowing the value of one of them does not tell anything more about the value of\n",
    "the other than what we can already learn by the population distribution of the other.\n",
    "\n",
    "* **Definition**: $Y$ and $X$ are independet (denoted by $Y \\perp X$)\n",
    "if $P(X,Y)=P(X)P(Y)$, or, equivalently,\n",
    "$P(Y\\,|\\,X=x)=P(Y)$ for all values of $x$.\n",
    "\n",
    "* **Example**: Consider a SNP and denote by $A_1$ and $A_2$\n",
    "the 0-1 indicator of the minor allele at the SNP in the two genomes of an individual.\n",
    "Assume we know that MAF is 0.3 in the population, i.e., $P(A_i=1)=0.3$\n",
    "and $P(A_i=0)=0.7$ for $i=1,2$.\n",
    "The alleles in the two genomes of an individual from the population\n",
    "are independent\n",
    "if and only if the joint probability distribution of $A_1$ and $A_2$  in the population\n",
    "is\n",
    "\n",
    "$A_1$ | $A_2$ | $P(A_1,A_2)=P(A_1)P(A_2)$ | $X=A_1 + A_2$\n",
    "-|-|-|-|\n",
    "0 | 0 | $0.7 \\cdot 0.7 = 0.49$ | 0\n",
    "0 | 1 | $0.7 \\cdot 0.3 = 0.21$ | 1\n",
    "1 | 0 | $0.3 \\cdot 0.7 = 0.21$ | 1\n",
    "1 | 1 | $0.3 \\cdot 0.3 = 0.09$ | 2\n",
    "\n",
    "That is, the genotype $X$ follows the\n",
    "Hardy-Weinberg equilibrium proportions $P(X)=(0.49,0.42,0.09).$\n",
    "The independence means that even if we learned that individual $i$ had inherited\n",
    "allele $1$ from the father, our estimate of the probability that the maternal allele\n",
    "of $i$ is also 1 remains 0.3, i.e.,\n",
    "the same as it was before we knew about the state of $i$'s paternal allele.\n",
    "\n",
    "In short: Independent variables do not carry additional\n",
    "information about each other on top of what can be learned from their\n",
    "marginal distribution in the population.\n",
    "\n",
    "\n",
    "**Causal relationship.**\n",
    "\n",
    "* **Intuition**: Variable $X$ causally affects variable $Y$ if a hypothetical\n",
    "intervention that directly changes only the value of $X$ but not\n",
    "the value of any other variable than $X$, will also (indirectly) affect $Y$.\n",
    "\n",
    "* **Example**. You come home every day at 8pm and you (A) press the light switch\n",
    "and (B) take off your shoes. Observation: (C) Your dark home becomes illuminated.\n",
    "Out of A and B, A is a causal effect of C, since if you do *everything else as usual*\n",
    "except not hit the light switch, there will be no light. However, B is not a causal\n",
    "effect of C since if you do *everything else as usual* except that you leave your shoes on,\n",
    "there will still be light.\n",
    "\n",
    "* **Warning:** Causality is a thorny concept\n",
    "that we can't quite ever define precisely at the same level of\n",
    "mathematical rigor as we can do with other concepts\n",
    "in statistics. However, \"causality\" is what we would like to have in the end,\n",
    "for example, when we aim to build an effective medical intervention,\n",
    "and therefore we need to educate our intuition and understanding about what that\n",
    "causality means.\n",
    "Good news is that it is easy to understand how genetic variants\n",
    "can causally affect traits, which is our main business here;\n",
    "Things get much more complicated when we wonder what should we do with\n",
    "other covariates available\n",
    "that can have all kinds of causal and non-causal relationships between both\n",
    "the genetic variants and the traits of interest."
   ]
  },
  {
   "cell_type": "markdown",
   "id": "fb3f68b6",
   "metadata": {},
   "source": [
    "### 6.1 Confounding (\"correlation does not imply causation\")\n",
    "\n",
    "**Confounder (intuitive definition).**\n",
    "When we study the relationship between a predictor $X$ and an outcome $Y$,\n",
    "a confounder $Z$ is a variable that is independently associated with $X$ and $Y$\n",
    "and can therefore cause a spurious association between\n",
    "$X$ and $Y$ in an analysis that ignores $Z$."
   ]
  },
  {
   "cell_type": "code",
   "execution_count": 2,
   "id": "fb28d071",
   "metadata": {
    "Rmd_chunk_options": "echo=FALSE, fig.width=4, fig.height=4, fig.align='center'",
    "jupyter": {
     "output_hidden": false,
     "source_hidden": true
    },
    "kernel": "R",
    "tags": [
     "report_output"
    ]
   },
   "outputs": [],
   "source": [
    "par(mar = c(1,1,2,1))\n",
    "plot(NULL, main = \"confounder Z\", xaxt = \"n\", yaxt = \"n\",\n",
    "     xlim = c(0,1), ylim = c(0,1), ylab = \"\", xlab = \"\")\n",
    "arrows(c(0.23,0.77), c(0.33,0.33), c(0.47,0.53), c(0.67,0.67), code = 1, lwd = 2)\n",
    "segments(0.2,0.3,0.8,0.3, lty = 2, col = \"red\", lwd = 2)\n",
    "points(c(0.2,0.5,0.8),c(0.3,0.7,0.3), pch = 19)\n",
    "text(x = c(0.1,0.9,0.5), c(0.3,0.3,0.8), labels = c(\"X\",\"Y\",\"Z\"), cex = 2)"
   ]
  },
  {
   "cell_type": "markdown",
   "id": "0e6a6a59",
   "metadata": {},
   "source": [
    "The mantra \"correlation does not imply causation\" means that the observed\n",
    "association / correlation between X and Y could be due to a third variable Z\n",
    "that is associated with both X and Y, and hence an X-Y association can appear\n",
    "even without any causal relationship between X and Y. And indeed, this is\n",
    "how most correlations are: Not causal.\n",
    "\n",
    "Confounding in the [Catalogue of Bias](https://catalogofbias.org/biases/confounding/).\n",
    "\n",
    "**Example 6.1.** If in a heart disease case-control GWAS,\n",
    "the cases are heart disease patients\n",
    "from Helsinki and controls are population samples from the Estonian biobank,\n",
    "then a standard GWAS analysis comparing allele frequencies between cases and controls\n",
    "would indicate statistical differences throughout the genome.\n",
    "However, these associations would not be only heart disease related\n",
    "biologically causal signals,\n",
    "but also spurious associations caused by genetic population structure.\n",
    "Indeed, all variants that have different allele frequencies between Finland and Estonia\n",
    "would show an association for case-control status in this sample, independent\n",
    "of whether the variant has anything to do with the biology of heart disease.\n",
    "Here population structure (Z) between Finland and Estonia is a confounder\n",
    "that is associated with both the SNP frequencies (X)\n",
    "and the outcome (Y). Z is associated with X because population membership\n",
    "affects allele frequencies\n",
    "and Z is associated with Y because our case-control sample was collected in such a way\n",
    "that there is an association with case status and population label\n",
    "(cases were from Helsinki, controls were from Estonia).\n",
    "This exampe is a caricature of a badly designed case-control GWAS that\n",
    "suffers from the population stratification problem (Slides 2-4).\n",
    "\n",
    "**Example 6.2.** Since there is a difference (of about 1.5 cm)\n",
    "in average (sex and age adjusted) adult height between East and West Finland,\n",
    "and there is a relatively strong allele frequency gradient between\n",
    "EF and WF, any GWAS on adult height with Finnish samples that does not account for\n",
    "the confounding effect of population structure, risks producing false positives.\n",
    "Note that since variation in height is to a large part genetic, it my well be\n",
    "that some of the E-W allele frequency differences are actually causing some of the observed\n",
    "height differences, but the interpretation of the results would be difficult.\n",
    "This is because the known population structure would\n",
    "confound the results for all those variants that are not biologically linked to\n",
    "height and result in false positive association,\n",
    "and the population structure would also bias the effect estimates at the true height variants.\n",
    "\n",
    "**What can we do with such confounders?**\n",
    "The idea is that the analyses should be **stratified** according to the possible levels\n",
    "of the confounder. For example, if we have samples from Finland and from Estonia,\n",
    "we should do separate analyses in both countries and combine the results.\n",
    "The confounder cannot confound the results when all allele frequency comparisons\n",
    "are done among samples that share the level of the confounder,\n",
    "e.g., the two levels of confounder could be having a Finnish background or\n",
    "having an Estonian background. (But note that in Example 6.1, the study design\n",
    "is such that we would have no power left after adjusting for population label\n",
    "because we had no controls from Finland and no cases from Estonia!\n",
    "See slides 6-9 for a more realistic example.)\n",
    "More generally, this idea of stratifying the analysis by the levels of the confounder\n",
    "is implemented by including the confounders as **covariates**\n",
    "in the GWAS regression model.\n",
    "Then we talk about **adjusting the analysis for the covariate**.\n",
    "Technically, multi-level discrete confounders\n",
    "are expanded as indicator variables, one per each level of the confounder,\n",
    "and continuous confounders are simply included as continuous covariates\n",
    "in the regression model. To understand the confounding from regression\n",
    "model's point of view, let's define it more precisely.\n",
    "\n",
    "**Confounder (mathematical definition for GWAS setting).**\n",
    "Suppose that for fixed values of $\\mu, \\beta$ and $\\gamma$\n",
    "and a joint distribution of the random variables $X$, $Y$ and $Z$\n",
    "in a population, the phenotype $Y$ truly follows the regression model M:\n",
    "$$\\textrm{Model M:}\\qquad Y \\sim \\mu + Z\\gamma + X\\beta.$$\n",
    "We call the covariate $Z$ a **confounder** of the association between $X$ and $Y$,\n",
    "if $\\beta = 0$ in model M, but, when the covariate $Z$ is omitted\n",
    "and the association between $X$ and $Y$ is described by a simpler model M':\n",
    "$$\\textrm{Model M':}\\qquad Y \\sim \\mu' + X\\beta',$$\n",
    "then $\\beta' \\neq 0$.\n",
    "\n",
    "Essentially, this definition says that a confounder is a variable whose omission\n",
    "from a GWAS regression model will cause a spurious association between the\n",
    "genotype and the phenotype. For example, when the population structure (Z) is included\n",
    "as a covariate in a height GWAS in Finland (Example 6.2),\n",
    "it explains away some of the east-west difference in height in Finland.\n",
    "Consequently, those genetic variants (X), whose apparent association with height (Y) is **only**\n",
    "through their geographic allele frequency differences,\n",
    "will not show association in this model (of type M)\n",
    "where population structure is already explicitly included as a covariate.\n",
    "However, when the population structure variable is omitted\n",
    "from the model (of type M'), then all variants that have east-west\n",
    "difference in allele frequency,\n",
    "will also show a statistical association with height, even if their\n",
    "height-association is only through the link between population structure and height\n",
    "and not through a direct biological effect.\n",
    "Thus, population structure\n",
    "is a confounder, and we must include it as a covariate or otherwise we get false\n",
    "positives.\n",
    "\n",
    "Note that a more general definition of confounding could say that\n",
    "a confounder of X-Y association is any variable that when omitted from the model\n",
    "will *change* the effect estimate of X on Y (i.e. $\\beta'\\neq \\beta$).\n",
    "Our GWAS-motivated definition is narrower:\n",
    "We are only worried about cases where there is no true effect ($\\beta=0$),\n",
    "but where a regression model without appropriate covariates\n",
    "will mislead us by producing an effect ($\\beta' \\neq 0$).\n",
    "\n",
    "(A word of warning: Even though we always want to avoid confounding,\n",
    "we still shouldn't always include covariate $Z$ in the model\n",
    "simply because $Z$ is associated with both $X$ and $Y$!\n",
    "There is a possible problem of collider bias there, that we will study later.)"
   ]
  },
  {
   "cell_type": "markdown",
   "id": "22ddf911",
   "metadata": {},
   "source": [
    "#### 6.1.1 Detecting confounding\n",
    "The large scale of data in GWAS provides us with an opportunity to\n",
    "assess whether a genome-wide confounding effect seems to be in action.\n",
    "We should be worried if there is a too large a number of apparent associations\n",
    "throughout the genome.\n",
    "Standard way to assess this is to look at the QQ-plot\n",
    "at the middle point of the distribution (at the median of the test statistic values)\n",
    "and compare it to the corresponding value under the null hypothesis that\n",
    "there are no true associations at all.\n",
    "The ratio of the median of the observed distribution to\n",
    "the theoretical median of the null distribution is called the\n",
    "**genomic control parameter** $\\lambda$.\n",
    "Traditionally, the test statistic is the chi-square statistic of association,\n",
    "but also -log10(P-value) is used.\n",
    "If $\\lambda$ is much > 1, that could indicate that we have a problem\n",
    "with some omitted confounder (such as population structure)\n",
    "that causes elevated signals across the genome.\n",
    "Unfortunately, this approach is not\n",
    "that useful anymore with very large and statistically powerful GWAS,\n",
    "since there $\\lambda$ can elevate substantially from 1\n",
    "already because of a true polygenic signal distributed across the genome.\n",
    "Instead, [LD-score regression](https://www.nature.com/articles/ng.3211)\n",
    "(that we will discuss later)\n",
    "is a better way to indicate whether we seem to have missed some important confounders.\n",
    "\n",
    "**Genomic control (GC).** Many GWAS have used [*genomic control*](https://onlinelibrary.wiley.com/doi/abs/10.1111/j.0006-341X.1999.00997.x)\n",
    "to adjust for observed inflation (i.e. too many too large values) of the\n",
    "test statistic distribution. The procedure is to divide each chi-square\n",
    "test statistic value by the GC parameter $\\lambda$ (defined above)\n",
    "and this way force the observed test statistic distribution to match the\n",
    "null expectation at the median value. Such method can reasonably adjust for\n",
    "a confounder only if that confounder affects all variants\n",
    "in a similar way. However, considering population structure as an example confounder,\n",
    "some variants are much more geographically stratified\n",
    "than others and hence an adjustment of all variants\n",
    "by the same constant $\\lambda$ is unlikely to be an appropriate solution.\n",
    "GC also keeps the order of the variants the same\n",
    "before and after its application, which seems a too inflexible property\n",
    "to properly model that confounders can work differently with different variants.\n",
    "Furthermore, GC can give a misleading impression that\n",
    "there is no confounding left because the \"corrected\"\" distribution has $\\lambda=1$,\n",
    "whereas in reality GC may have severely undercorrected the most biased variants and\n",
    "overcorrected the less biased variants.\n",
    "Sometimes GC has also been applied to the standard error estimates by\n",
    "multiplying them with $\\sqrt{\\lambda}$, which has the same effect\n",
    "on the test statistic as dividing the chi-square statistic by $\\lambda$.\n",
    "This approach again reveals the inflexibility of GC:\n",
    "The effect size estimates are not adjusted at all even though it feels that\n",
    "they should be adjusted according to each variant's correlation with the confounders.\n",
    "\n",
    "As opposed to GC, regression models that include a confounder as covariate\n",
    "allow each variant to be adjusted according to how correlated the variant is with\n",
    "the covariate."
   ]
  },
  {
   "cell_type": "markdown",
   "id": "c27e2d44",
   "metadata": {},
   "source": [
    "#### 6.1.2 Avoiding confounding\n",
    "How can we know that we have adjusted for all the relevant confounders?\n",
    "Unfortunately, we can't ever be sure about this in an observational study.\n",
    "But we can at least avoid the common pitfalls causing\n",
    "typical confounding effects in GWAS:\n",
    "\n",
    "* **Population structure** that is associated with the phenotype will cause\n",
    "inflated P-values across the genome and this can be dealt with by\n",
    "including population structure as a covariate or by using *mixed models*\n",
    "(that we will talk about later).\n",
    "\n",
    "* **Sample ascertainment** that has been done based on phenotype causes a\n",
    "risk that different phenotypic groups may not match well each other with\n",
    "respect to their genetic backgrounds, because different phenotypic groups may have been\n",
    "collected from different places/times/circumstances. Case-control\n",
    "sampling is the most prominent example of this potential problem.\n",
    "This does not mean that case-control sampling is not a good strategy.\n",
    "It just means that it opens up possible problems that must be taken care of.\n",
    "In GWAS setting, confounding due to sample ascertainment can be seen as\n",
    "a subcategory of general confounding by population structure.\n",
    "\n",
    "* **Genotyping** of the samples has been done in batches that are not\n",
    "independent of the phenotype, which causes a risk that errors and biases in\n",
    "sample handling and genotyping process lead to spurious\n",
    "genotype-phenotype associations, because such biases may affect differently\n",
    "different batches, and different batches have different phenotype distributions.\n",
    "For example, if cases have been genotyped in Lab 1 in 2009 and controls\n",
    "in Lab 2 in 2015 then technical differences in genotyping process could lead\n",
    "to spurious genotype-disease associations.\n",
    "Often genotyping batches are used as covariates, which adjusts the analysis\n",
    "for the differences in the phenotypic means of the batches, but this strategy cannot be\n",
    "followed if the case-control status is to a large part associated with batches.\n",
    "In those cases, one simply needs to do particularly careful quality control between\n",
    "the genotyping batches.\n",
    "To avoid the batch problem, ideally, one should randomise the samples to genotyping batches,\n",
    "because then the batch could not be associated with the phenotype.\n",
    "Unfortunately, this is rarely possible in practice, since studies tend to\n",
    "combine many sources of existing genotyping data rather than genotyping all samples anew."
   ]
  },
  {
   "cell_type": "markdown",
   "id": "13341deb",
   "metadata": {},
   "source": [
    "#### Example 6.3. Confounding by population structure.\n",
    "Let's assume that our individuals are geographically spread around the line\n",
    "from Turku (in Southwest Finland) to Kajaani (in Eastern Finland) that\n",
    "is the gradient of the major population structure in Finland.\n",
    "Each individual $i$ has a coordinate $u_i\\in[0,1]$, where 0=Turku, 1=Kajaani.\n",
    "For each variant $k$, we determine its allele 1 frequency on the line\n",
    "by first sampling a Turku-Kajaani difference $d_k \\sim \\textrm{Uniform}(-0.5,0.5),$\n",
    "and then sampling Turku frequency $t_k \\sim \\textrm{Uniform}(0.5,1)$, if\n",
    "$d_k<0$; and $t_k \\sim \\textrm{Uniform}(0,0.5)$, if\n",
    "$d_k \\geq 0.$ Now allele 1 frequency at position $u \\in [0,1]$ is\n",
    "$t_k + u\\cdot d_k$. So allele frequency changes smoothly from $t_k$ in Turku to\n",
    "$t_k + d_k$ in Kajaani.\n",
    "\n",
    "Let's simulate $p=1000$ such variants for\n",
    "$n=1000$ individuals randomly picked along the line from Turku to Kajaani."
   ]
  },
  {
   "cell_type": "code",
   "execution_count": 3,
   "id": "fbd8a61e",
   "metadata": {
    "kernel": "R",
    "tags": [
     "report_cell"
    ]
   },
   "outputs": [],
   "source": [
    "n = 1000 #individuals\n",
    "p = 1000 #SNPs\n",
    "u = runif(n, 0, 1) #coordinates of inds\n",
    "d = runif(p, -0.5, 0.5) #allele freq difference btw T and K\n",
    "tu = runif(p, 0, 0.5) #when d>=0 then tu is in (0,0.5)\n",
    "tu[ d < 0 ] = 1 - tu[ d < 0 ] #when d<0 then tu is in (0.5,1)\n",
    "X = matrix(NA, nrow = n, ncol = p) #SNP data matrix, rows individuals, columns SNPs\n",
    "for(k in 1:p){\n",
    "  f = tu[k] + u*d[k] #allele 1 frequency for each individual\n",
    "  X[,k] = rbinom(n, size = 2, prob = f) #genotypes from varying frequencies\n",
    "}"
   ]
  },
  {
   "cell_type": "markdown",
   "id": "9d029010",
   "metadata": {},
   "source": [
    "Here we have a set of genotypes that carry a population structure effect.\n",
    "\n",
    "Let's assume that we study a phenotype $Y$ that depends on the\n",
    "environment described by $u$ as $Y= u + \\varepsilon$,\n",
    "where $\\varepsilon \\sim \\mathcal{N}(0,1)$, but there is no\n",
    "direct effect of any of our $p$ variants on the phenotype."
   ]
  },
  {
   "cell_type": "code",
   "execution_count": 4,
   "id": "03d52f28",
   "metadata": {
    "kernel": "R",
    "tags": [
     "report_cell"
    ]
   },
   "outputs": [],
   "source": [
    "y = u + rnorm(n) #phenotype has a geographical cline but no genetic effect from X\n",
    "y = scale(y) #standardize trait to have mean = 0 and var = 1 for convenience\n",
    "#Check how it looks like\n",
    "plot(u, y, xlab = \"Location from Turku to Kajaani\", ylab = \"phenotype\", pch = 3, col = \"gray\")\n",
    "abline( lm(y ~ u), col = \"brown\", lwd = 2 ) #add the regression line to plot"
   ]
  },
  {
   "cell_type": "markdown",
   "id": "e41a634b",
   "metadata": {},
   "source": [
    "So we have a cline in the phenotype where the mean increases\n",
    "as we move from Turku towards Kajaani.\n",
    "\n",
    "Let's do a \"GWAS\" of phenotype $Y$ on our $p=1000$ variants.\n",
    "We collect only P-values from this GWAS."
   ]
  },
  {
   "cell_type": "code",
   "execution_count": 5,
   "id": "a0e9aef2",
   "metadata": {
    "Rmd_chunk_options": "fig.width = 9",
    "kernel": "R",
    "tags": [
     "report_cell"
    ]
   },
   "outputs": [],
   "source": [
    "#collect only P-values, i.e., element [2,4] of lm's summary()\n",
    "pval.1 = apply(X, 2, function(x){summary(lm(y ~ x))$coeff[2,4]})\n",
    "summary(pval.1) #median of P-values should be 0.5 under the null\n",
    "plot(1:p, -log10(pval.1), xlab = \"variant\", ylab = \"-log10 P-value.1\", col = \"red\")"
   ]
  },
  {
   "cell_type": "markdown",
   "id": "86072105",
   "metadata": {},
   "source": [
    "We have clearly inflated P-values compared to the null hypothesis\n",
    "as our median P-value is 0.12\n",
    "while under the null the median should be 0.5.\n",
    "Additionally, with 1000 null variants, we would not expect many P-values < 0.001,\n",
    "but here we have a lot of those (in the picture, seen as rising above -log10 = 3).\n",
    "\n",
    "Let's next draw a QQ-plot to compare the observed association statistics\n",
    "with those expected under the null hypothesis.\n",
    "We could use -log10 P-values to make the QQ-plot, but since\n",
    "it is traditionally done using chisq-statistics, let's\n",
    "also do it like that here, We can turn the P-values\n",
    "to chi-square test statistics by `chisq = qchisq(pval, df = 1, lower = F)`."
   ]
  },
  {
   "cell_type": "code",
   "execution_count": 6,
   "id": "7cff5378",
   "metadata": {
    "Rmd_chunk_options": "fig.height = 4, fig.width = 4",
    "kernel": "R",
    "tags": [
     "report_cell"
    ]
   },
   "outputs": [],
   "source": [
    "#Under NULL p-values are Uniformly distributed between 0 and 1,\n",
    "#hence chisq-stats are expected to be:\n",
    "expect.stats = qchisq(ppoints(p), df = 1, lower = F)\n",
    "obs.stats = qchisq(pval.1, df = 1, lower = F)\n",
    "lambda = median(obs.stats) / median(expect.stats) #GC lambda = ratio at medians\n",
    "qqplot(expect.stats, obs.stats, xlab = \"chisq expected\", ylab = \"chisq observed\",\n",
    "       sub = substitute(paste(lambda, \"=\", lam), list(lam = signif(lambda,3))),\n",
    "       cex = 0.8, col = \"red\")\n",
    "abline(0,1)"
   ]
  },
  {
   "cell_type": "markdown",
   "id": "9ed1b710",
   "metadata": {},
   "source": [
    "If observed P-values were an independent sample from the null distribution,\n",
    "then the QQ-plot would follow the diagonal line y=x.\n",
    "Here it deviates strongly from the diagonal *throughout* the distribution,\n",
    "as also measured by $\\lambda>5$.\n",
    "This means that there are hugely more association\n",
    "in the genome than we would expected under the null.\n",
    "This type of an inflated QQ-plot points to confounding by some\n",
    "variable omitted from the model. (Here the confounder is the geographical location).\n",
    "\n",
    "Before we adjust the analysis for the location, let's update our\n",
    "phenotype slightly so that it is also affected by one of our SNPs."
   ]
  },
  {
   "cell_type": "code",
   "execution_count": 7,
   "id": "7a6d4594",
   "metadata": {
    "Rmd_chunk_options": "fig.height=4, fig.width =10",
    "kernel": "R",
    "tags": [
     "report_cell"
    ]
   },
   "outputs": [],
   "source": [
    "snp.id = sample(1:p, size = 1) #Randomly choose one SNP to have an effect\n",
    "\n",
    "#We'll make this SNP to explain about p.eff  of the trait variance\n",
    "p.eff = 0.015 #target variance explained\n",
    "f.mean = tu[snp.id] + 0.5*d[snp.id] #allele frequency at mid point\n",
    "b = sqrt(p.eff/(2*f.mean*(1 - f.mean))) #effect size corresp. to var explained = p.eff\n",
    "y = scale(y + X[,snp.id]*b) #new trait is the old one added by the single SNP effect"
   ]
  },
  {
   "cell_type": "markdown",
   "id": "84c04aae",
   "metadata": {},
   "source": [
    "Let's do the association test for the updated trait\n",
    "and make a Manhattan plot and QQ-plot. We mark by green 'X' the SNP\n",
    "that has the effect."
   ]
  },
  {
   "cell_type": "code",
   "execution_count": 8,
   "id": "bb2c16e0",
   "metadata": {
    "Rmd_chunk_options": "fig.width = 10, fig.height = 4",
    "kernel": "R",
    "tags": [
     "report_cell"
    ]
   },
   "outputs": [],
   "source": [
    "pval.2 = apply(X, 2, function(x){summary(lm(y ~ x))$coeff[2,4]})\n",
    "summary(pval.2) #median would be 0.5 under the null\n",
    "par(mfrow = c(1,2))\n",
    "plot(1:p,-log10(pval.2), xlab = \"variant\",\n",
    "     ylab = \"-log10 P-value.2\", col = \"indianred1\")\n",
    "#Mark the effect SNP by a green cross\n",
    "points(snp.id, -log10(pval.2[snp.id]), pch = \"X\", col = \"limegreen\", cex = 1.3)\n",
    "#Make a QQ-plot\n",
    "obs.stats = qchisq(pval.2, df = 1, lower = F)\n",
    "lambda = median(obs.stats) / median(expect.stats) #GC lambda = ratio at medians\n",
    "qqplot(expect.stats, obs.stats, xlab = \"chisq expected\", ylab = \"chisq observed\",\n",
    "       sub = substitute(paste(lambda, \"=\", lam), list(lam = signif(lambda,3))),\n",
    "       cex = 0.8, col = \"indianred1\")\n",
    "points(expect.stats[p + 1 - rank(obs.stats)[snp.id]],\n",
    "       obs.stats[snp.id], pch = \"X\", col = \"limegreen\", cex = 1.3)\n",
    "abline(0,1)"
   ]
  },
  {
   "cell_type": "markdown",
   "id": "df62b73e",
   "metadata": {},
   "source": [
    "Not only do we have a lot of false positives but also\n",
    "the true association, having a P-value ~1e-4,\n",
    "is masked by the false associations due\n",
    "to the genetic population structure.\n",
    "\n",
    "Let's then use the geographical position as a covariate in the analysis."
   ]
  },
  {
   "cell_type": "code",
   "execution_count": 9,
   "id": "5063cd6f",
   "metadata": {
    "Rmd_chunk_options": "fig.width = 10, fig.height = 4",
    "kernel": "R",
    "tags": [
     "report_cell"
    ]
   },
   "outputs": [],
   "source": [
    "pval.3 = apply(X, 2, function(x){summary(lm(y ~ x + u))$coeff[2,4]})\n",
    "summary(pval.3) #median would be 0.5 under the null\n",
    "par(mfrow = c(1,2))\n",
    "plot(1:p,-log10(pval.3), xlab = \"variant\",\n",
    "     ylab = \"-log10 P-value.3\", col = \"navy\")\n",
    "#Mark the effect SNP by a green cross\n",
    "points(snp.id, -log10(pval.3[snp.id]), pch = \"X\", col = \"limegreen\", cex = 1.3)\n",
    "#Make a QQ-plot\n",
    "obs.stats = qchisq(pval.3, df = 1, lower = F)\n",
    "lambda = median(obs.stats) / median(expect.stats) #GC lambda = ratio at medians\n",
    "qqplot(expect.stats, obs.stats, xlab = \"chisq expected\", ylab = \"chisq observed\",\n",
    "       sub = substitute(paste(lambda, \"=\", lam), list(lam = signif(lambda,3))),\n",
    "       cex = 0.8, col = \"navy\")\n",
    "points(expect.stats[p + 1 - rank(obs.stats)[snp.id]],\n",
    "       obs.stats[snp.id], pch = \"X\", col = \"limegreen\", cex = 1.3)\n",
    "abline(0,1)"
   ]
  },
  {
   "cell_type": "markdown",
   "id": "e1e15d0e",
   "metadata": {},
   "source": [
    "What a beautiful class room example we have here!\n",
    "The confounder correction in the regression model gave us:\n",
    "\n",
    "* P-value distribution that follows the null, except for the true effect.\n",
    "* Ability to see the true effect more clearly (here leading to lower P-value) after the confounding effect has been explained away from the phenotype.\n",
    "\n",
    "And what if we did not know each individual's geographic\n",
    "location $u$ in the first place?\n",
    "Then we would adjust the analysis for the principal components (PCs)\n",
    "of the population structure!\n",
    "In practice, first 10 PCs are often included in GWAS\n",
    "as the first one alone might not yet capture the relevant structure.\n",
    "In general, one should check how many PCs\n",
    "explain the phenotype and consider including them into the model,\n",
    "as we do below."
   ]
  },
  {
   "cell_type": "code",
   "execution_count": 10,
   "id": "9b19446c",
   "metadata": {
    "kernel": "R",
    "tags": [
     "report_cell"
    ]
   },
   "outputs": [],
   "source": [
    "pca = prcomp(X, scale. = T) #Make PCA\n",
    "summary(lm( y ~ pca$x[,1:10] ) )$coeff"
   ]
  },
  {
   "cell_type": "markdown",
   "id": "94232efd",
   "metadata": {},
   "source": [
    "Let's use the first 3 since also PC3 seems to have some\n",
    "predictive power in addition to PC1.\n",
    "\n",
    "[What exactly was the logic of choosing 3 PCs?\n",
    "As PCs are orthogonal to each other,\n",
    "their individual P-values from the joint model with 10 PCs\n",
    "indicate whether they seem better predictors than just random noise.\n",
    "As it does not harm to include some more PCs even if they are not predictive,\n",
    "we don't need to be particularly strict here with the inclusion criteria.\n",
    "Since someone might say that P-value of 0.01 for the 3rd PC suggests that it is important,\n",
    "we just include it here.\n",
    "And when we include PC3, then we also include PC2 because PC2\n",
    "is expected to capture more of the genetic structure than PC3.\n",
    "What about PC10? Well, we can run the analysis also with PCs 1-10 and see that the results\n",
    "don't change.]\n",
    "\n",
    "Let's do the GWAS using PCs 1-3 as covariates\n",
    "and make a Manhattan plot and QQ-plot\n",
    "as above (suppressing code from the document)."
   ]
  },
  {
   "cell_type": "code",
   "execution_count": 11,
   "id": "620b3d38",
   "metadata": {
    "Rmd_chunk_options": "echo = F, fig.height = 4, fig.width = 10",
    "kernel": "R",
    "tags": [
     "report_cell"
    ]
   },
   "outputs": [],
   "source": [
    "pc123 = pca$x[,1:3]\n",
    "#Do association test with pc1-3 as covariates\n",
    "pval.4 = apply(X, 2, function(x){summary(lm(y ~ x + pc123))$coeff[2,4]})\n",
    "#summary(pval.4) #median would be 0.5 under the null\n",
    "par(mfrow = c(1,2))\n",
    "plot(1:p,-log10(pval.4), xlab = \"variant\",\n",
    "     ylab = \"-log10 P-value.4\", col = \"dodgerblue\")\n",
    "#Mark the effect SNP by a green cross\n",
    "points(snp.id, -log10(pval.4[snp.id]), pch = \"X\", col = \"limegreen\", cex = 1.3)\n",
    "#Make a QQ-plot\n",
    "obs.stats = qchisq(pval.4, df = 1, lower = F)\n",
    "lambda = median(obs.stats) / median(expect.stats) #GC lambda = ratio at medians\n",
    "qqplot(expect.stats, obs.stats, xlab = \"chisq expected\", ylab = \"chisq observed\",\n",
    "       sub = substitute(paste(lambda, \"=\", lam), list(lam = signif(lambda,3))),\n",
    "       cex = 0.8, col = \"dodgerblue\")\n",
    "points(expect.stats[p + 1 - rank(obs.stats)[snp.id]],\n",
    "       obs.stats[snp.id], pch = \"X\", col = \"limegreen\", cex = 1.3)\n",
    "abline(0,1)"
   ]
  },
  {
   "cell_type": "markdown",
   "id": "43431d7c",
   "metadata": {},
   "source": [
    "Results are almost identical to those of the perfect location information.\n",
    "\n",
    "Let's check how well PC1 captures the location information `u`."
   ]
  },
  {
   "cell_type": "code",
   "execution_count": 12,
   "id": "fc3ca19f",
   "metadata": {
    "Rmd_chunk_options": "fig.width = 4, fig.height = 4",
    "kernel": "R",
    "tags": [
     "report_cell"
    ]
   },
   "outputs": [],
   "source": [
    "plot(u, pca$x[,1], xlab = \"u\", ylab = \"PC1\", col = \"gray\", pch = 3,\n",
    "     main = substitute(paste(r^2,\" = \",r.val),\n",
    "                       list(r.val = signif(cor(u,pca$x[,1])^2,2))))"
   ]
  },
  {
   "cell_type": "markdown",
   "id": "0994fe2c",
   "metadata": {},
   "source": [
    "PC1 captures $u$ very accurately, and hence here we can control for confounding\n",
    "by population structure simply by adding PC1 as a covariate in the regression model.\n",
    "\n",
    "We have seen above that we should always include potential\n",
    "confounders in the GWAS regression model\n",
    "or otherwise we risk getting false positive genotype-phenotype associations.\n",
    "But what if we have a covariate that is not a confounder? Should we include\n",
    "that in the model? Unfortunately, there is no simple answer to this question\n",
    "and we will next look at some prominent cases."
   ]
  },
  {
   "cell_type": "markdown",
   "id": "7df4d76c",
   "metadata": {},
   "source": [
    "### 6.2 Collider bias\n",
    "\n",
    "Wouldn't it be interesting if we had an autosomal variant that were associated\n",
    "with biological sex? In other words, a variant in autosomal genome would have\n",
    "different allele frequencies in males than in females.\n",
    "We don't know of any such variant but here we keep on trying to find it\n",
    "with some help from a \"collider\" variable.\n",
    "\n",
    "Consider a variant with MAF 0.5 in population and whose distribution\n",
    "is independent of biological sex. Let's test its effect on sex."
   ]
  },
  {
   "cell_type": "code",
   "execution_count": 13,
   "id": "090cc9c1",
   "metadata": {
    "kernel": "R",
    "tags": [
     "report_cell"
    ]
   },
   "outputs": [],
   "source": [
    "f = 0.5 #MAF\n",
    "N = 50000 #sample N males and N females from population\n",
    "y = rep(c(0,1), each = N) #\"phenotype\" = biological sex (0 = female, 1 = male)\n",
    "x = rbinom(2*N, size = 2, prob = f) #genotypes in males and females\n",
    "summary( glm(y ~ x, family = \"binomial\") )$coeff[2,]"
   ]
  },
  {
   "cell_type": "markdown",
   "id": "c27b9653",
   "metadata": {},
   "source": [
    "No association, as expected.\n",
    "\n",
    "Suppose then that this genetic variant had an effect on height.\n",
    "Let's say that the allele 1 increases height by 1cm\n",
    "and the SD around the genotype means is 5cm. The mean height is 175cm in males\n",
    "and 165cm in females. Let's repeat the test for the genotype-sex association\n",
    "but let's include height as covariate."
   ]
  },
  {
   "cell_type": "code",
   "execution_count": 14,
   "id": "a4484695",
   "metadata": {
    "kernel": "R",
    "tags": [
     "report_cell"
    ]
   },
   "outputs": [],
   "source": [
    "z = 164 + x*1 + 10*y #mean is 164,165,166 for females with genotype 0,1,2; and +10 for males\n",
    "z = z + rnorm(2*N, 0, 5) #variation with SD=5cm around the sex + genotype means for each individual\n",
    "summary( glm(y ~ x + z, family = \"binomial\") )$coeff[2:3,]"
   ]
  },
  {
   "cell_type": "markdown",
   "id": "5584427d",
   "metadata": {},
   "source": [
    "This test shows that, unsurprisingly, height is highly predictive of\n",
    "sex, but also, surprisingly(?), the genotype `x` has now become\n",
    "strongly associated with sex.\n",
    "This raises two questions: What has just happened? and Is that a problem?\n",
    "\n",
    "**What?** A way to think about GWAS for a binary phenotype (here sex),\n",
    "that has been adjusted for a covariate, is that the test is asking whether\n",
    "the phenotype groups (here males and females) have different genotype\n",
    "distributions *within a fixed level of the covariate value*\n",
    "(here among individuals who have the same height),\n",
    "and then takes a weighted average of those results over all possible levels of the covariate,\n",
    "where the \"weights\" represent the accuracy of the results\n",
    "reflecting the effective sample size at each value of the covariate.\n",
    "\n",
    "Let's demonstrate how the sex-specific allele 1 frequency varies\n",
    "by the height of the individuals,\n",
    "and, as a comparison, what is the allele 1 frequency in ALL individuals.\n",
    "Let's use three height bins of length 1 cm."
   ]
  },
  {
   "cell_type": "code",
   "execution_count": 15,
   "id": "007e47e5",
   "metadata": {
    "Rmd_chunk_options": "fig.width = 10",
    "kernel": "R",
    "tags": [
     "report_cell"
    ]
   },
   "outputs": [],
   "source": [
    "cut.points = matrix(c(160,161,\n",
    "                      170,171,\n",
    "                      180,181),\n",
    "                    byrow = T, ncol = 2) #bins for height\n",
    "par(mfrow = c(1,4))\n",
    "for(ii in 1:(1 + nrow(cut.points))){\n",
    "  if(ii <= nrow(cut.points)){ #this is a height stratified plot\n",
    "    ind.m = (y == 1 & z > cut.points[ii,1] & z <= cut.points[ii,2]) #males\n",
    "    ind.f = (y == 0 & z > cut.points[ii,1] & z <= cut.points[ii,2]) #females\n",
    "    title.txt = paste0(\"height in (\",cut.points[ii,1],\",\",cut.points[ii,2],\")\")\n",
    "  }else{ #this last plot is for ALL individuals, independent of height\n",
    "    ind.m = (y == 1) #males\n",
    "    ind.f = (y == 0) #females\n",
    "    title.txt = \"ALL\"\n",
    "  }\n",
    "  barplot(matrix(\n",
    "      c(sum(x[ind.m])/2/sum(ind.m), # male allele 1 frequency\n",
    "        sum(x[ind.f])/2/sum(ind.f)), ncol = 2), # female allele 1 frequency\n",
    "      ylim = c(0,0.7), col = \"khaki\", ylab = \"A1 freq\",\n",
    "      main = title.txt, cex.main = 1.3, cex.lab = 1.3, cex.axis = 1.3, cex.names = 1.3,\n",
    "      names.arg = c(\"M\",\"F\"))\n",
    "  abline(h = 0.5, col=\"red\")\n",
    "}"
   ]
  },
  {
   "cell_type": "markdown",
   "id": "79667ace",
   "metadata": {},
   "source": [
    "We see that even though the allele 1 frequency is\n",
    "0.5 for ALL males and ALL females (4th panel),\n",
    "in every height-stratified comparison, the allele 1 frequency\n",
    "is higher in females than in males.\n",
    "\n",
    "Consider the middle bin (170,171). Males in that bin are a bit shorter than average male,\n",
    "so their allele 1 frequency is a bit less than the average of 0.5.\n",
    "On the other hand, the females\n",
    "in this bin are a bit taller than average female and hence their allele 1 frequency is\n",
    "a bit higher than the average of 0.5.\n",
    "\n",
    "Consider then the first bin (160,161).\n",
    "Not many males belong to this bin, but those who do\n",
    "are clearly shorter than the males on average and hence they tend not to have\n",
    "height increasing alleles. Consequently, the allele 1 frequency is much\n",
    "lower for these males than its population frequency.\n",
    "Even though also the females\n",
    "in this bin are shorter than average, for them the deviation from the\n",
    "mean height is not that large as for the males in this bin,\n",
    "and hence the drop from the population allele frequency is also less for these\n",
    "females than it is for the males in this bin.\n",
    "\n",
    "And similar argument can be made for\n",
    "the 3rd bin that only contains very tall women, who therefore have a high frequency\n",
    "of allele 1, whereas males are only a bit above the male average.\n",
    "\n",
    "All in all, even though there is no association between allele 1 and sex\n",
    "in the population, still, for any fixed level of height,\n",
    "females have higher relative frequency of allele 1 than males.\n",
    "This creates a positive statistical association between the height increasing allele\n",
    "and being female in an analysis that adjusts for height.\n",
    "Given that there is no association with the variant and\n",
    "sex in the general population, we consider this association misleading.\n",
    "This phenomenon, called collider bias, was also demonstrated in practice with the\n",
    "UK Biobank data by\n",
    "[Day et al. 2016](https://www.sciencedirect.com/science/article/pii/S0002929715005145)\n",
    "(slide 11).\n",
    "\n",
    "**Collider bias** can create an association between uncorrelated variables\n",
    "$X$ and $Y$  if both $X$ and $Y$ are causally affecting $Z$,\n",
    "and $Z$ is used as a covariate\n",
    "in the regression model $Y\\sim X + Z$. (slide 10)"
   ]
  },
  {
   "cell_type": "code",
   "execution_count": 16,
   "id": "d971f04d",
   "metadata": {
    "Rmd_chunk_options": "echo=FALSE, fig.width=4, fig.height=4, fig.align='center'",
    "jupyter": {
     "output_hidden": false,
     "source_hidden": true
    },
    "kernel": "R",
    "tags": [
     "report_output"
    ]
   },
   "outputs": [],
   "source": [
    "par(mar=c(1,1,2,1))\n",
    "plot(0, col=\"white\", main=\"collider Z\", xaxt=\"n\", yaxt=\"n\",\n",
    "     xlim=c(0,1), ylim= c(0,1), ylab=\"\", xlab=\"\")\n",
    "arrows(c(0.2,0.8), c(0.3,0.3), c(0.47,0.53), c(0.67,0.67), code=2, lwd=2)\n",
    "segments(0.2,0.3,0.8,0.3, lty=2, col=\"gold\", lwd=2)\n",
    "points(c(0.2,0.5,0.8),c(0.3,0.7,0.3), pch = 19)\n",
    "text(x=c(0.1,0.9,0.5),c(0.3,0.3,0.8), labels = c(\"X\",\"Y\",\"Z\"), cex=2)"
   ]
  },
  {
   "cell_type": "markdown",
   "id": "d2058313",
   "metadata": {},
   "source": [
    "Collider bias in the [Catalogue of Bias](https://catalogofbias.org/biases/collider-bias/).\n",
    "\n",
    "This shows that when studying the association between $X$ and $Y$,\n",
    "we shouldn't blindly adjust for all covariates that are associated\n",
    "both with $X$ and $Y$, but think also what the model means in terms of\n",
    "what could be causing what. We must adjust for confounders to avoid false positives\n",
    "but we (most likely) do not want to adjust for colliders because such associations\n",
    "are not causal for the phenotype $Y$ we are studying."
   ]
  },
  {
   "cell_type": "markdown",
   "id": "1370e007",
   "metadata": {},
   "source": [
    "### 6.3. Mediation\n",
    "\n",
    "Suppose that we study Type 2 Diabetes (Y) and we have BMI information (Z) available.\n",
    "We know that high BMI is a risk factor for T2D.\n",
    "For now, let's suppose that high BMI is a causal risk factor for T2D.\n",
    "\n",
    "Let's generate data for $n=500,000$ individuals where each unit of BMI is increasing\n",
    "logOR of T2D by 0.15 and where we have two variants $X_1$ and $X_2$ with MAF 0.5\n",
    "of which $X_1$ has a causal effect on T2D of logOR of 0.15\n",
    "and $X_2$ has an effect on BMI of one unit per allele 1,\n",
    "but $X_2$ has no direct effect on T2D."
   ]
  },
  {
   "cell_type": "code",
   "execution_count": 17,
   "id": "9e9c8e95",
   "metadata": {
    "kernel": "R",
    "tags": [
     "report_cell"
    ]
   },
   "outputs": [],
   "source": [
    "n = 5e5 #large n to get accurate frequencies in BMI bins later\n",
    "f = 0.5 #MAF\n",
    "preval = 0.15 #population prevalence of T2D\n",
    "mean.bmi = 27\n",
    "x = replicate(2, rbinom(n, size = 2, prob = f)) #genotypes at two variants\n",
    "z = rnorm(n, mean.bmi, 3) + x[,2]*1 #bmi values in the sample affected by x2\n",
    "log.odds = log(preval/(1-preval)) + (z - mean.bmi)*0.15 + (x[,1] - 2*f)*0.15 #logodds of T2D depend on BMI and x1\n",
    "p.t2d = exp(log.odds)/(1 + exp(log.odds)) #probability of T2D for each individual\n",
    "y = rbinom(n, size = 1, prob = p.t2d)\n",
    "table(y)/n #check that sample prevalence is reasonably close to given 'preval'\n",
    "#Let's do association test for the variants\n",
    "summary( glm(y ~ x, family = \"binomial\") )$coeff[2:3,]\n",
    "#Let's do association test for the variants by ADJUSTING for BMI\n",
    "summary( glm(y ~ x + z, family = \"binomial\") )$coeff[2:4,]"
   ]
  },
  {
   "cell_type": "markdown",
   "id": "bbc2e1da",
   "metadata": {},
   "source": [
    "In the first model $Y \\sim X_1 + X_2$, that does not adjust for BMI,\n",
    "we see associations for all risk SNPs of T2D,\n",
    "even for those that affect T2D risk only\n",
    "through their effects on BMI.\n",
    "\n",
    "In the second model $Y \\sim X_1 + X_2 + Z$, that adjusts for BMI,\n",
    "we see association only for those SNPs whose effect on T2D\n",
    "does not (completely) go through BMI.\n",
    "\n",
    "Here BMI is **mediating** the effect of SNP2 on T2D\n",
    "while the T2D effect of SNP1 is independent of BMI."
   ]
  },
  {
   "cell_type": "code",
   "execution_count": 18,
   "id": "e2b5a078",
   "metadata": {
    "Rmd_chunk_options": "echo = FALSE, fig.width = 4, fig.height = 4, fig.align = 'center'",
    "kernel": "R",
    "tags": [
     "report_cell"
    ]
   },
   "outputs": [],
   "source": [
    "par(mar=c(1,1,2,1))\n",
    "plot(0, col=\"white\", main=\"mediator Z\", xaxt=\"n\", yaxt=\"n\",\n",
    "     xlim=c(0,1), ylim= c(0,1), ylab=\"\", xlab=\"\")\n",
    "arrows(c(0.22), c(0.32), c(0.47), c(0.67), code=c(2), lwd=2)\n",
    "arrows(c(0.78), c(0.32), c(0.53), c(0.67), code=c(1), lwd=2)\n",
    "segments(0.2,0.3,0.8,0.3, lty=2, col=\"purple\", lwd=2)\n",
    "points(c(0.2,0.5,0.8),c(0.3,0.7,0.3), pch = 19)\n",
    "text(x=c(0.1,0.9,0.5),c(0.3,0.3,0.8), labels = c(\"X\",\"Y\",\"Z\"), cex=2)"
   ]
  },
  {
   "cell_type": "markdown",
   "id": "87eba88c",
   "metadata": {},
   "source": [
    "Which one is the correct model to use?\n",
    "Both models are correct for answering their respective questions, which are different\n",
    "from each other.\n",
    "It is for the analyst to decide which question is more relevant:\n",
    "SNPs that affect T2D, no matter which way, or SNPs that affect T2D through something else\n",
    "than BMI?\n",
    "In practice, if we apply both models, we can learn\n",
    "which variants seem to mainly affect BMI and which affect T2D risk also\n",
    "independent of BMI.\n",
    "\n",
    "Importantly, if two GWAS on T2D (or on any other trait) are compared or combined,\n",
    "one must pay attention to whether same/similar covariates have been used in them.\n",
    "For some SNPs (like SNP2 above), the effect on T2D is very different when\n",
    "it has been adjusted for BMI from when it has not been so adjusted, and combining\n",
    "$\\widehat{\\beta}$s from such analyses risks comparing apples to oranges.\n",
    "\n",
    "It is instructive to think how the distribution of allele 1 of SNP2,\n",
    "that is completely mediated through BMI, behaves as a function of BMI,\n",
    "as compared to its marginal distribution.\n",
    "Let's repeat the barplot that\n",
    "we used above to demonstrate the collider effect,\n",
    "but now we use T2D case-control label\n",
    "as the binary phenotype and BMI stratified by the cutpoints as the\n",
    "covariate. (We used large $n$ in this example so that the allele frequencies\n",
    "are accurate even within narrow BMI bins.)"
   ]
  },
  {
   "cell_type": "code",
   "execution_count": 19,
   "id": "61792fd8",
   "metadata": {
    "Rmd_chunk_options": "fig.width = 10",
    "kernel": "R",
    "tags": [
     "report_cell"
    ]
   },
   "outputs": [],
   "source": [
    "cut.points = matrix(c(26,26.2,\n",
    "                      27,27.2,\n",
    "                      28,28.2),\n",
    "                    byrow = T, ncol = 2) #cutpoints\n",
    "par(mfrow = c(1,4))\n",
    "for(ii in 1:(1 + nrow(cut.points))){\n",
    "  if(ii <= nrow(cut.points)){ #this is a BMI stratified plot\n",
    "    ind.s = (y == 1 & z > cut.points[ii,1] & z <= cut.points[ii,2]) #cases\n",
    "    ind.r = (y == 0 & z > cut.points[ii,1] & z <= cut.points[ii,2]) #controls\n",
    "    title.txt = paste0(\"BMI in (\",cut.points[ii,1],\",\",cut.points[ii,2],\")\")\n",
    "  }else{ #this last plot is for ALL individuals, independent of BMI\n",
    "    ind.s = (y == 1) #cases\n",
    "    ind.r = (y == 0) #controls\n",
    "    title.txt = \"ALL\"\n",
    "  }\n",
    "  barplot(matrix(\n",
    "      c(sum(x[ind.s,2])/2/sum(ind.s), # case allele 1 frequency\n",
    "        sum(x[ind.r,2])/2/sum(ind.r)), ncol = 2), # control allele 1 frequency\n",
    "      ylim = c(0,0.7), col = \"cornflowerblue\", ylab = \"A1 freq\",\n",
    "      main = title.txt, cex.main = 1.3, cex.lab = 1.3, cex.axis = 1.3, cex.names = 1.3,\n",
    "      names.arg = c(\"CAS\",\"CTR\"))\n",
    "  abline(h = 0.5, col = \"red\")\n",
    "}"
   ]
  },
  {
   "cell_type": "markdown",
   "id": "35f77132",
   "metadata": {},
   "source": [
    "We see that, for a fixed value of BMI, there is no difference in allele 1 frequencies\n",
    "in cases and controls, but the allele 1 frequency increases\n",
    "with increasing BMI. However, when we ignore BMI information (4th panel), then\n",
    "allele 1 is more frequent in cases than in controls because it is\n",
    "more frequent in high BMI individuals and high BMI individuals are relatively more\n",
    "frequent among cases than among controls. This is exactly how\n",
    "effects that are mediated through a covariate behave: the effect is observed\n",
    "only when the analysis has not been adjusted for the mediator."
   ]
  },
  {
   "cell_type": "markdown",
   "id": "6465764d",
   "metadata": {},
   "source": [
    "#### Summary of covariates $Z$ associated with $X$ and $Y$"
   ]
  },
  {
   "cell_type": "code",
   "execution_count": 20,
   "id": "d9bdbc83",
   "metadata": {
    "Rmd_chunk_options": "echo=FALSE, fig.width=9, fig.height=3",
    "jupyter": {
     "output_hidden": false,
     "source_hidden": true
    },
    "kernel": "R",
    "tags": [
     "report_output"
    ]
   },
   "outputs": [],
   "source": [
    "par(mfrow=c(1,3))\n",
    "par(mar=c(1,1,2,1))\n",
    "\n",
    "plot(0, col=\"white\", main=\"confounder Z\", xaxt=\"n\", yaxt=\"n\",\n",
    "     xlim=c(0,1), ylim= c(0,1), ylab=\"\", xlab=\"\", cex.main=1.3)\n",
    "arrows(c(0.22,0.78), c(0.32,0.32), c(0.47,0.53), c(0.67,0.67), code=1, lwd=2)\n",
    "segments(0.2,0.3,0.8,0.3, lty=2, col=\"red\", lwd=2)\n",
    "points(c(0.2,0.5,0.8),c(0.3,0.7,0.3), pch = 19)\n",
    "text(x=c(0.1,0.9,0.5),c(0.3,0.3,0.8), labels = c(\"X\",\"Y\",\"Z\"), cex=2)\n",
    "text(0.5,0.1,\"ADJUST\", cex=2)\n",
    "\n",
    "\n",
    "plot(0, col=\"white\", main=\"collider Z\", xaxt=\"n\", yaxt=\"n\",\n",
    "     xlim=c(0,1), ylim= c(0,1), ylab=\"\", xlab=\"\", cex.main=1.3)\n",
    "arrows(c(0.22,0.78), c(0.32,0.32), c(0.47,0.53), c(0.67,0.67), code=2, lwd=2)\n",
    "segments(0.2,0.3,0.8,0.3, lty=2, col=\"gold\", lwd=2)\n",
    "points(c(0.2,0.5,0.8),c(0.3,0.7,0.3), pch = 19)\n",
    "text(x=c(0.1,0.9,0.5),c(0.3,0.3,0.8), labels = c(\"X\",\"Y\",\"Z\"), cex=2)\n",
    "text(0.5,0.1,\"DON'T ADJUST\", cex=2)\n",
    "\n",
    "plot(0, col=\"white\", main=\"mediator Z\", xaxt=\"n\", yaxt=\"n\",\n",
    "     xlim=c(0,1), ylim= c(0,1), ylab=\"\", xlab=\"\", cex.main=1.3)\n",
    "arrows(c(0.22), c(0.32), c(0.47), c(0.67), code=c(2), lwd=2)\n",
    "arrows(c(0.78), c(0.32), c(0.53), c(0.67), code=c(1), lwd=2)\n",
    "segments(0.2,0.3,0.8,0.3, lty=2, col=\"purple\", lwd=2)\n",
    "points(c(0.2,0.5,0.8),c(0.3,0.7,0.3), pch = 19)\n",
    "text(x=c(0.1,0.9,0.5),c(0.3,0.3,0.8), labels = c(\"X\",\"Y\",\"Z\"), cex=2)\n",
    "text(0.5,0.1,\"DEPENDS\", cex=2)"
   ]
  },
  {
   "cell_type": "markdown",
   "id": "281f4f3d",
   "metadata": {},
   "source": [
    "### 6.4 Covariates independent of genetic variants in population samples\n",
    "\n",
    "\n",
    "First, if a variable is not associated with the phenotype, then we have no reason to\n",
    "include it in the model. So in what follows, we consider covariate $W$,\n",
    "that is associated with phenotype $Y$, but is not associated with SNP $X$\n",
    "at the population level, and hence is not a confounder, collider or mediator\n",
    "at the population level.\n",
    "Omission of such a covariate $W$ from a linear or logistic regression model cannot\n",
    "create a false positive association between $X$ and $Y$ (although it can change the\n",
    "effect size being estimated in logistic regression).\n",
    "Thus we will have a choice to make between two valid models M and M', where the first\n",
    "adjust for $W$ and the latter does not adjust for $W$\n",
    "\n",
    "\\begin{eqnarray*}\n",
    "\\textrm{Model M}&:&\\qquad Y \\sim \\mu + W\\gamma + X\\beta, \\\\\n",
    "\\textrm{Model M'}&:&\\qquad Y \\sim \\mu' + X\\beta'.\n",
    "\\end{eqnarray*}\n",
    "\n",
    "We want to know how models M and M' differ\n",
    "\n",
    "* in effect size estimates $\\beta$ and $\\beta'$\n",
    "\n",
    "* in SEs of $\\beta$ and $\\beta'$\n",
    "\n",
    "* in statistical power to detect non-zero genetic effects.\n",
    "\n",
    "Note on notation:\n",
    "we used $Z$ for covariates associated with $X$ and now we use $W$ for a covariate\n",
    "independent of $X$.\n",
    "\n",
    "**Ascertained case-control studies** will have their\n",
    "own section below and this section 6.4. is about **random population samples**."
   ]
  },
  {
   "cell_type": "markdown",
   "id": "404f3abe",
   "metadata": {},
   "source": [
    "#### Explaining away noise in linear model\n",
    "The main intuition about $X$-independent covariate $W$ is that it\n",
    "explains away some of that variation of the (quantitative)\n",
    "phenotype $Y$ that is not\n",
    "associated with the SNP $X$. Thus, from $X$'s point of view,\n",
    "the phenotypic variance explained by $W$ is random noise:\n",
    "variation without any pattern that could be explained by $X$.\n",
    "When we get rid of this noise,\n",
    "the effect of $X$ on the remaining, noise-reduced,\n",
    "variation of $Y$, can be more clearly seen.\n",
    "\n",
    "Let's demonstrate this with an example of a GWAS on height ($Y$) where\n",
    "sex ($W$) is a highly predictive covariate which is not associated with any\n",
    "autosomal SNP ($X$).\n",
    "\n",
    "**Example 6.4.**\n",
    "We study genetics of height by a sample of 10,000 males and 10,000 females.\n",
    "Distribution of height (in cm) in males is $\\mathcal{N}(175,5^2)$\n",
    "and in females $\\mathcal{N}(165,5^2)$.\n",
    "Let's assume that there is a genetic variant (with MAF $f=0.5$) that increases\n",
    "height by 1cm in both sexes.\n",
    "\n",
    "In this case, adjusting the linear regression for sex is the same as to subtract the\n",
    "sex specific mean height (either 165cm or 175 cm for females and males, respectively)\n",
    "from each individual's height value before the regression. It has an effect\n",
    "of shifting the male and female heights around a common mean value of 0 and shrinking\n",
    "the variance compared to the original population height distribution that had\n",
    "two separate modes (for two sexes) located 10 cm apart.\n",
    "The unadjusted model is equivalent to fitting a linear regression to\n",
    "the height values that have been mean centered by population mean height\n",
    "(170 cm) and that have the same variance as the original height values.\n",
    "\n",
    "Let's generate the data and make two plots of the genotype phenotype\n",
    "relationship where the first one does not account for sex\n",
    "and the second adjusts for sex."
   ]
  },
  {
   "cell_type": "code",
   "execution_count": 21,
   "id": "27577aa0",
   "metadata": {
    "Rmd_chunk_options": "fig.height=4",
    "kernel": "R",
    "tags": [
     "report_cell"
    ]
   },
   "outputs": [],
   "source": [
    "f = 0.5\n",
    "b = 1\n",
    "N = 1e4 #N males and N females\n",
    "var.expl = 2*f*(1-f)*b^2 #variance explained by the SNP.\n",
    "w = rep(c(0,1), each = N)\n",
    "x = rbinom(2*N, size = 2, p = f) #genotypes for females and males\n",
    "y = 164 + x*b + w*10 #mean height 164,165,166 in geno 0,1,2 in females; +10 in males\n",
    "y = y + rnorm(2*N, 0, sqrt(5^2 - var.expl)) #variation around mean height for each ind.\n",
    "y = y - mean(y) #mean center in population by shift of about -170\n",
    "\n",
    "cols = c(\"dodgerblue\", \"navyblue\")\n",
    "par(mfrow = c(1,2))\n",
    "y.stat = matrix(NA, ncol = 3, nrow = 3)\n",
    "for(ii in 0:2){y.stat[ii+1,] = as.numeric(quantile(y[x == ii],c(0.025,0.5,0.975)))}\n",
    "plot(0:2, y.stat[,2], col = cols[1], pch = 19, cex = 1.3,\n",
    "     ylim = c(-20, 20), xlim = c(-0.3, 2.3), xaxt = \"n\",\n",
    "     xlab = \"genotype\", ylab = \"height from mean (cm)\", main = \"Y ~ X\")\n",
    "axis(1, at = 0:2, labels = 0:2)\n",
    "arrows(0:2, y.stat[,1], 0:2,y.stat[,3], code = 3, angle = 90,\n",
    "       lwd = 1.5, length = 0.05, col = cols[1])\n",
    "lm.all = lm(y ~ x)\n",
    "abline(lm.all, col = cols[1], lwd = 1.5)\n",
    "\n",
    "#Let's adjust the phenotype for sex\n",
    "y.adj = residuals( lm(y ~ w) ) #this subtracts the sex-specific mean from height\n",
    "y.stat = matrix(NA, ncol = 3, nrow = 3)\n",
    "for(ii in 0:2){y.stat[ii+1,] = as.numeric(quantile(y.adj[x == ii],c(0.025,0.5,0.975)))}\n",
    "plot(0:2, y.stat[,2], col = cols[2], pch = 19, cex = 1.3,\n",
    "     ylim = c(-20, 20), xlim = c(-0.3, 2.3), xaxt = \"n\", main = \"Y ~ X + W\",\n",
    "     xlab = \"genotype\", ylab = \"height from mean (cm)\")\n",
    "axis(1, at = 0:2, labels = 0:2)\n",
    "arrows(0:2,y.stat[,1],0:2,y.stat[,3], code=3, angle = 90,\n",
    "       lwd = 1.5, length = 0.05, col=cols[2])\n",
    "lm.adj = lm(y.adj ~ x)\n",
    "abline(lm.adj, col = cols[2], lwd = 1.5)"
   ]
  },
  {
   "cell_type": "markdown",
   "id": "ba18c17f",
   "metadata": {},
   "source": [
    "We see that the variation in height within the genotype groups is larger\n",
    "in the unadjusted analysis (left panel) than in the adjusted analysis (right panel).\n",
    "Let's see the effect estimates and P-values."
   ]
  },
  {
   "cell_type": "code",
   "execution_count": 22,
   "id": "e75accff",
   "metadata": {
    "kernel": "R",
    "tags": [
     "report_cell"
    ]
   },
   "outputs": [],
   "source": [
    "summary(lm.all)$coeff[2,] #unadjusted for W\n",
    "summary(lm.adj)$coeff[2,] #adjusted for W"
   ]
  },
  {
   "cell_type": "markdown",
   "id": "b982ddc7",
   "metadata": {},
   "source": [
    "Both models are estimating the correct effect $\\beta = \\beta' =  1$, i.e., models are unbiased.\n",
    "However, the accuracy measured by SE is different in the two cases.\n",
    "For linear model, SE$=\\sigma_\\varepsilon/\\sqrt{2nf(1-f)},$\n",
    "where $\\sigma_\\varepsilon$ is the error standard deviation, that is, SD of the residuals\n",
    "after the covariates and the SNP effect have been accounted for.\n",
    "By using a covariate $W$ that explains some of the error variance, we can make\n",
    "the SE of the SNP effect smaller, and hence increase the precision\n",
    "of the SNP effect's estimator, and also increase power to detect a non-zero SNP effect.\n",
    "\n",
    "Let's confirm we have all the pieces to understand the difference between the SEs\n",
    "of the two models. We known that after sex is accounted for,\n",
    "SD in the data should be 5 cm (since it is 5 cm in each of the sexes separately).\n",
    "Thus, we expect that the ratio of the\n",
    "error SDs of the adjusted model/unadjusted model is about"
   ]
  },
  {
   "cell_type": "code",
   "execution_count": 23,
   "id": "46d47101",
   "metadata": {
    "kernel": "R",
    "tags": [
     "report_cell"
    ]
   },
   "outputs": [],
   "source": [
    "5/sd(y)"
   ]
  },
  {
   "cell_type": "markdown",
   "id": "2f136880",
   "metadata": {},
   "source": [
    "This should correspond to the ratio of observed SEs between the models:"
   ]
  },
  {
   "cell_type": "code",
   "execution_count": 24,
   "id": "4c077cec",
   "metadata": {
    "kernel": "R",
    "tags": [
     "report_cell"
    ]
   },
   "outputs": [],
   "source": [
    "summary(lm.adj)$coeff[2,2]/summary(lm.all)$coeff[2,2]"
   ]
  },
  {
   "cell_type": "markdown",
   "id": "07c6ecc0",
   "metadata": {},
   "source": [
    "as seems to be the case.\n",
    "\n",
    "We conclude that the covariate improves precision of the estimate of the SNP effect\n",
    "by explaining away some of the variance in phenotype.\n",
    "This increase in precision will also lead to higher statistical power.\n",
    "Thus, one should always adjust for $W$ in linear model."
   ]
  },
  {
   "cell_type": "markdown",
   "id": "907dbb2b",
   "metadata": {},
   "source": [
    "#### Binary phenotype in population samples\n",
    "A way to think about a GWAS of a binary phenotype with covariate $W$,\n",
    "such as sex, is that we first split the data into males and females, then we do the\n",
    "logistic regression in each sex separately, and finally we combine the results\n",
    "by weighting each of them with the effective sample size of the corresponding sex.\n",
    "\n",
    "By splitting the data into groups\n",
    "we will increase SE of the final combined estimate\n",
    "compared to the SE of a single combined analysis that ignores the covariate\n",
    "except when the proportion of cases is exactly\n",
    "the same among the groups, in which case SE does not change between the analyses.\n",
    "Thus, in practice, SE of genetic effect\n",
    "will increase when we include the covariate in the model.\n",
    "\n",
    "The effect $\\beta$ estimated by the covariate-adjusted model\n",
    "is larger in magnitude than $\\beta'$ of the unadjusted model,\n",
    "but if the prevalence of disease in population is low enough\n",
    "(say, a few percent or less), then this change in effect size is tiny.\n",
    "So in typical disease studies, the estimated genetic effect\n",
    "does not change much between the two possible regression models.\n",
    "\n",
    "It can be shown that the combined effect of these changes in $\\beta$s and SEs is always such that\n",
    "the power of the covariate-adjusted model is higher than that of the covariate-ignoring\n",
    "model in logistic regression analysis of population samples.\n",
    "However, for a low-prevalence disease, the difference in power between the two models is very small.\n",
    "\n",
    "\n",
    "**As a conclusion**, inclusion of such a covariate $W$,\n",
    "that is independent of $X$ and does not interact with the effect of $X$,\n",
    "\n",
    "* increases the statistical power to detect a non-zero effect of $X$ both in linear\n",
    "and logistic regression model of population samples,\n",
    "* does not change the effect of $X$ that is being estimated in linear model, but\n",
    "does increase the absolute value of the effect in logistic model,\n",
    "* increases the precision of effect estimator in linear model, but decreases\n",
    "the precision in logistic model.\n",
    "\n",
    "Thus, one should always adjust for $W$ in linear model and typically also\n",
    "in logistic model; the exception is if the effect size for the unadjusted logistic\n",
    "regression model is specifically needed for some downstream applications.\n",
    "(Such as, e.g., to combine results with other studies that have also used the unadjusted model.)\n",
    "For GWAS discovery, where we want to maximize power, one should always adjust for $W$ also\n",
    "in logistic regression of population samples.\n",
    "\n",
    "The above holds for the analysis of a **random sample from the\n",
    "population** where $X$ and $W$ are independent and do not have interaction effects.\n",
    "But typically in GWAS we use highly **ascertained case-control sampling** from a population\n",
    "and then, in our ascertained sample, $X$ and $W$ are not anymore\n",
    "independent and some less intuitive behavior occur."
   ]
  },
  {
   "cell_type": "markdown",
   "id": "44091f9c",
   "metadata": {},
   "source": [
    "### 6.5. Covariates in ascertained case-control GWAS\n",
    "\n",
    "We want to study whether a SNP $X$ is associated with a disease (or other binary\n",
    "trait) $Y$ and we have available a covariate $W$, such as age or sex or\n",
    "carrier status of some well-known large effect mutation, which is\n",
    "independent of $X$ **in the general population**. We collect\n",
    "$S$ cases and $R$ controls from the population.\n",
    "The proportion of cases in our sample is $\\phi = S/(S+R)$ while the prevalence\n",
    "of the disease in general population is $K$. Typically, $K$ is 1% or less\n",
    "whereas $\\phi$ is in range of 20% to 50%. Thus, $K \\ll \\phi$ and the relationship\n",
    "between $X$ and $W$ will be different in our sample than it is in the population.\n",
    "\n",
    "We will apply logistic regression and the question is whether we should use\n",
    "$$ \\textrm{Model M:} \\qquad Y \\sim \\mu + Z\\gamma + X\\beta + W\\alpha, $$\n",
    "or the simpler, unadjusted\n",
    "$$ \\textrm{Model M':} \\qquad Y \\sim \\mu' + Z\\gamma' + X\\beta',$$\n",
    "where $Z$ represents possible confounders, such as population structure,\n",
    "that we must always adjust for.\n",
    "\n",
    "This issue has been studied by [Pirinen, Donnelly, Spencer (2012)](https://www.nature.com/articles/ng.2346), and here is a summary\n",
    "of the main points:\n",
    "\n",
    "* When $W$ is independent of $X$ in the general population, then $W$ is not a confounder\n",
    "oy X-Y association and therefore also model M' is a valid model to test for X-Y\n",
    "association, and this is true also in an ascertained case-control study.\n",
    "This means that if the effect $\\beta$ of $X$ is 0 in model M,\n",
    "then also the effect $\\beta'$ of $X$ is 0 in model M', and no spurious\n",
    "association will be created by ignoring $W$ from the logistic regression model.\n",
    "Both models are valid and we have a choice to make.\n",
    "\n",
    "* The effect sizes estimated by the two models are different: $|\\beta'| \\leq |\\beta|$.\n",
    "\n",
    "* The precisions of the two models are also different:\n",
    "$\\textrm{SE}(\\beta') \\leq \\textrm{SE}(\\beta).$\n",
    "\n",
    "* Therefore it is not directly evident which model has more power since\n",
    "the above two properties favor the opposite models in terms of\n",
    "maximizing the non-centrality parameter $(\\beta/\\textrm{SE})^2$.\n",
    "\n",
    "* It can be shown that\n",
    "which model is more powerful to detect nonzero genetic effect of $X$ depends (mainly)\n",
    "on the prevalence $K$ of the disease in the population. In typical cases, where $K<1\\%$,\n",
    "the model M' is often more powerful than M. The opposite is true only for prevalent\n",
    "diseases, say, with $K > 5\\%$.\n",
    "When $\\phi = K$, i.e., when\n",
    "we are considering a population sample,\n",
    "then model M is always more powerful than model M', but for low prevalence diseases\n",
    "this difference in favor of M is small.\n",
    "\n",
    "* There are real [examples](https://www.nature.com/articles/ng.2346)\n",
    "(e.g. a GWAS on Ankylosing Spondylitis) where an application of\n",
    "model M would have led to over 50% reduction in the non-centrality parameter\n",
    "compared to model M'. (See example below and slides 17)\n",
    "Such situations can come up with relatively rare risk factors with very\n",
    "strong effects on the disease (such as an HLA-B27 allele in Ank. Spond.).\n",
    "\n",
    "\n",
    "To evaluate more specifically the parameters and power of each model,\n",
    "we can use R-functions from:\n",
    "<https://www.mv.helsinki.fi/home/mjxpirin/log_regression_covariate_functions.R>.\n",
    "For binary covariates, such as sex or carrier status of an HLA-allele, we use the function\n",
    "\n",
    "\n",
    "    binary.covariate(K, freq.G, or.G, freq.X, or.X, ncases, ncontrols, population.controls = FALSE)\n",
    "    #INPUT\n",
    "    #K, the (target) prevalence of the disease\n",
    "    #freq.G, frequency of risk allele in general population\n",
    "    #or.G, odds-ratio for each copy of the risk allele\n",
    "    #freq.X, frequency of the risk factor of binary exposure\n",
    "    #or.X, odds-ratio of the risk factor\n",
    "    #ncases, number of cases in the case-control sample\n",
    "    #ncontrols, number of controls in the case-control sample\n",
    "    #population.controls, if TRUE then controls have general population frequencies,\n",
    "                          otherwise controls have proper control frequencies.\n",
    "\n",
    "\n",
    "In the parameters of this function G refers to the tested genetic variant\n",
    "(that we have called $X$ in this document) and X refers to the covariate (that\n",
    "we have called $W$)."
   ]
  },
  {
   "cell_type": "code",
   "execution_count": 25,
   "id": "bf319366",
   "metadata": {
    "kernel": "R",
    "tags": [
     "report_cell"
    ]
   },
   "outputs": [],
   "source": [
    "source(\"https://www.mv.helsinki.fi/home/mjxpirin/log_regression_covariate_functions.R\")\n",
    "#Ankylosing Spondylitis with HLA-B27 as binary covariate X\n",
    "K = 0.0025\n",
    "freq.X = 0.08 #carriers of HLA-B27 in population\n",
    "or.X = 49 #OR of B27 on AS risk\n",
    "binary.covariate(K, freq.G = 0.3, or.G = 1.2, freq.X, or.X,\n",
    "                 ncases = 2000, ncontrols = 2000, population.controls = FALSE)"
   ]
  },
  {
   "cell_type": "markdown",
   "id": "406d4489",
   "metadata": {},
   "source": [
    "The output tells what are the case or control distribution of genotypes (3 cols)\n",
    "and risk factor (1st row is for non-risk group and 2nd row is for risk group).\n",
    "`marg.or.G` is the marginal odds-ratio for each copy of the risk allele\n",
    "(i.e. effect of G omitting  X from the model) and `joint.or.G` is the odds-ratio\n",
    "for each copy of risk allele when adjusted for covariate X.\n",
    "\n",
    "`marg.or.X` is the marginal odds-ratio for risk factor X = 1\n",
    "(i.e. effect of risk factor omitting genotype from the model).\n",
    "`joint.or.X` is the marginal odds-ratio for risk factor X = 1 when\n",
    "model has adjusted for genotype G.\n",
    "`marg.se.G` is SE of `marg.or.G` and `joint.se.G` is SE of `joint.or.G`.\n",
    "`NCP.GX.G` is the ratio of the non-centrality parameters between models M (both G and X)\n",
    "and M' (only G not X).\n",
    "\n",
    "We see that, with these parameters, NCP drops over 50% if GWAS of Ankylosing\n",
    "Spondylitis is adjusted for the HLA-B27 carrier status. Powerwise it corresponds to\n",
    "discarding over half of the valuable samples! More generally, HLA-alleles\n",
    "can have large effects on autoimmune diseases, and adjusting these analyses for\n",
    "HLA-allele should not be the main GWAS strategy because of power loss.\n",
    "On the other hand, these large\n",
    "HLA-effects have a potential to lead to identification of\n",
    "interaction effects between HLA and other genetic variants and such interaction\n",
    "analyses should be pursued after the basic GWAS.\n",
    "For example,\n",
    "both in [Ankylosing Spondylitis](https://www.ncbi.nlm.nih.gov/pmc/articles/PMC3640413/) and in [Psoriasis](https://www.ncbi.nlm.nih.gov/pmc/articles/PMC3749730/),\n",
    "there is an **interaction effect** between HLA alleles on chr 6\n",
    "and *ERAP1* locus on chr 5 (slide 18), where *ERAP1* variants only affect disease\n",
    "risk for individuals carrying certain HLA-alleles but not at all for individuals\n",
    "without these HLA-alleles.\n",
    "\n",
    "Let's see how the NCP ratio between models M and M' depends on the prevalence of the\n",
    "disease while other disease parameters than prevalence are kept fixed to their\n",
    "values in the Ankylosing Spondylitis example.\n",
    "Let's apply the function to a grid of prevalence values from 0.1% to 20%\n",
    "and plot the results:"
   ]
  },
  {
   "cell_type": "code",
   "execution_count": 26,
   "id": "0ce9bed8",
   "metadata": {
    "Rmd_chunk_options": "results = 'hide'",
    "kernel": "R",
    "tags": [
     "report_cell"
    ]
   },
   "outputs": [],
   "source": [
    "Ks = seq(0.001, 0.2, 0.005)\n",
    "res = sapply(Ks,function(K){binary.covariate(K, freq.G = 0.3, or.G = 1.2, freq.X = 0.08,\n",
    "                                        or.X = 49, ncases = 2000, ncontrols = 2000,\n",
    "                                        population.controls = FALSE)$NCP.GX.G})\n",
    "plot(Ks, res, type = \"l\", xlab = \"K\", ylab = \"NCP.GX.G\", lwd = 1.5)\n",
    "abline(h = 1, lty = 2)"
   ]
  },
  {
   "cell_type": "markdown",
   "id": "0b9b70b5",
   "metadata": {},
   "source": [
    "This shows that model M' has more power than model M for prevalences below 5%, after\n",
    "which model M starts to have more power. This is a general pattern of covariate\n",
    "adjustment in ascertainment case-control studies, but the exact\n",
    "changepoint depends on the parameters of the disease model."
   ]
  },
  {
   "cell_type": "markdown",
   "id": "151ac5e9",
   "metadata": {},
   "source": [
    "#### Summary of covariate $W$ independent of genetic variant $X$ in population"
   ]
  },
  {
   "cell_type": "code",
   "execution_count": 27,
   "id": "a771ca94",
   "metadata": {
    "Rmd_chunk_options": "echo=FALSE, fig.width=4, fig.height=4, fig.align='center'",
    "jupyter": {
     "output_hidden": false,
     "source_hidden": true
    },
    "kernel": "R",
    "tags": [
     "report_output"
    ]
   },
   "outputs": [],
   "source": [
    "par(mar=c(1,1,2,1))\n",
    "\n",
    "plot(0, col=\"white\", main=\"covariate W\", xaxt=\"n\", yaxt=\"n\",\n",
    "     xlim=c(0,1), ylim= c(0,1), ylab=\"\", xlab=\"\", cex.main=1.3)\n",
    "arrows(c(0.78), c(0.32), c(0.53), c(0.67), code=1, lwd=2)\n",
    "segments(0.2,0.3,0.8,0.3, lty=2, col=\"green\", lwd=2)\n",
    "points(c(0.2,0.5,0.8),c(0.3,0.7,0.3), pch = 19)\n",
    "text(x=c(0.1,0.9,0.5),c(0.3,0.3,0.8), labels = c(\"X\",\"Y\",\"W\"), cex=2)\n",
    "text(0.5,0.1,\"ADJUST in population samples\", cex=1.3)\n",
    "text(0.5,0.01,\"DEPENDS in case-control samples\", cex=1.3)"
   ]
  }
 ],
 "metadata": {
  "Rmd_chunk_options": {
   "author": "Matti Pirinen, University of Helsinki",
   "date": "Updated: 10-11-2020; 1st version: 6-Feb-2019.",
   "output": {
    "html_document": "default"
   },
   "title": "GWAS 6: Confounders and covariates",
   "urlcolor": "blue"
  },
  "kernelspec": {
   "display_name": "R",
   "language": "R",
   "name": "ir"
  },
  "language_info": {
   "codemirror_mode": "r",
   "file_extension": ".r",
   "mimetype": "text/x-r-source",
   "name": "R",
   "pygments_lexer": "r",
   "version": "4.2.1"
  },
  "sos": {
   "kernels": [
    [
     "SoS",
     "sos",
     "",
     ""
    ],
    [
     "R",
     "ir",
     "",
     ""
    ]
   ]
  }
 },
 "nbformat": 4,
 "nbformat_minor": 5
}
