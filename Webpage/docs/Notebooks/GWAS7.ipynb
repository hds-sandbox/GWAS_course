{
 "cells": [
  {
   "cell_type": "code",
   "execution_count": 1,
   "id": "c0d65934",
   "metadata": {
    "Rmd_chunk_options": "setup, include = FALSE",
    "kernel": "R",
    "tags": [
     "report_cell"
    ]
   },
   "outputs": [],
   "source": [
    "knitr::opts_chunk$set(echo = TRUE)\n",
    "set.seed(19)"
   ]
  },
  {
   "cell_type": "markdown",
   "id": "6253d4bb",
   "metadata": {},
   "source": [
    "This document is licensed under a [Creative Commons Attribution-ShareAlike 4.0 International License](https://creativecommons.org/licenses/by-sa/4.0/).\n",
    "\n",
    "The slide set referred to in this document is \"GWAS 7\"."
   ]
  },
  {
   "cell_type": "markdown",
   "id": "14fa2fd6",
   "metadata": {},
   "source": [
    "### 7.1 Haplotypes\n",
    "\n",
    "Terms\n",
    "\n",
    "* **ploidy**, the number of copies of the genome in the cell nucleus.\n",
    "* **haploid**, one copy of the genome; germ cells: sperm and egg are haploid cell types.\n",
    "* **diploid**, two copies of the genome; other human cell types with nucleus than germ cells are diploid.\n",
    "* **haplotype**, **haploid genotype**, in diploid cell/individual, a genome inherited from one parent.\n",
    "* **diploid genotype**, a complete set of two genomes of a diploid cell/individual without\n",
    "additional haplotype information.\n",
    "* **diplotype**, diploid genotype with haplotype information; a pair of haplotypes for a diploid genotype.\n",
    "\n",
    "We know that chromosomes are inherited from the parents as recombined segments of grandparents' chromosomes (slide 2).\n",
    "From a genotyping array we observed (diploid) genotypes at each locus,\n",
    "and we can't always be certain which are the two underlying haplotypes (slide 3).\n",
    "\n",
    "Consider two SNPs 1 and 2 on the same chromosome, with alleles A and C at SNP1 and\n",
    "G and T at SNP2. If we observe an individual whose genotype is SNP1 = A/A, SNP2 = G/T,\n",
    "then her haplotypes are definitely \\{A-G, A-T\\}.\n",
    "That is, the two chromosomes that she\n",
    "has inherited from her two parents read A-G and A-T.\n",
    "But if we instead observe genotype SNP1 = A/C, SNP2 = G/T, then\n",
    "the haplotypes are not determined without external information:\n",
    "they can be either \\{A-G, C-T\\} or \\{A-T, C-G\\}. The process of figuring out\n",
    "the haplotypes at multiple loci from the (unordered) genotypes is called\n",
    "haplotype **phasing**. Historically, the phase was determined from pedigree data\n",
    "where parents' genotypes inform about possible offspring haplotypes.\n",
    "Also experimental methods for phasing exist (given enough time and money).\n",
    "More often, nowadays, phasing is done in large population samples\n",
    "by using computational methods and the result is probabilistic.\n",
    "A review on phasing by\n",
    "[Browning & Browning (2011)](https://www.nature.com/articles/nrg3054).\n",
    "\n",
    "How can we phase genotypes into haplotypes? When we consider\n",
    "genotypes at $p$ SNPs where the individual is heterozygous,\n",
    "then he/she has $2^p$ possible haplotypes and $2^{p-1}$ possible phasings\n",
    "(as one haplotype already determines the other haplotype given the genotypes).\n",
    "These numbers become huge already for tens of SNPs.\n",
    "However, empirical data started to show from the early 2000s,\n",
    "that when many individiduals were genotyped at SNPs residing\n",
    "near each other in the genome, the observed\n",
    "genotypes suggested that only a few ($\\ll 2^p$)\n",
    "different haplotypes were present in the population in any one\n",
    "region of the genome.\n",
    "\n",
    "**Example 7.1.** (Slide 4)\n",
    "Go to [LDlink](https://ldlink.nci.nih.gov/?tab=home) that gives access to the haplotype\n",
    "data from the 1000 Genomes project.\n",
    "Choose LDhap tab and input the following list of 9 SNPs that come\n",
    "from a 2500 bps long region on chr 1:\n",
    "\n",
    "rs115037027<br>\n",
    "rs12409788<br>\n",
    "rs1576517<br>\n",
    "rs151240271<br>\n",
    "rs12752436<br>\n",
    "rs76864380<br>\n",
    "rs6586443<br>\n",
    "rs35213023<br>\n",
    "rs34910942\n",
    "\n",
    "* Choose first CHS (Southern Han Chinese) population and press `Calculate`.\n",
    "It shows that only two of these SNPs have MAF>5% and four are monomorphic\n",
    "in the Table shown, i.e., show only one allele in these data.\n",
    "There are only 4 haplotypes present in the population out of theoretically possible $2^5=32$.\n",
    "\n",
    "* Change population to FIN. There are 5 haplotypes present and one SNP is monomorphic.\n",
    "Compare SNPs 1 and 6. They have the same pattern of variation across the haplotypes:\n",
    "Whenever one has **T** also the other has **T**. They are completely associated\n",
    "with each other and, consequently, in a GWAS they would give exactly the same results.\n",
    "Also triple 5, 8 and 9 is similarly fully correlated.\n",
    "\n",
    "* Change population to LWK (Kenya). Now we see 8 haplotypes, no monomorphic SNPs\n",
    "and only the SNPs 5 and 8 are completely linked with each other.\n",
    "\n",
    "This example shows how some variants in a narrow region of 2500 bps\n",
    "are highly correlated with their neighbors when it comes to the\n",
    "haplotype patterns that exist in any one population. Typically, African\n",
    "populations show more diversity than Asian and European populations\n",
    "due to more recent genetic bottlenecks that have reduced variation\n",
    "in the history of the latter two. But also in African populations,\n",
    "the haplotype patterns are very much restricted compared to what they would be\n",
    "if the alleles at nearby loci would be anywhere close to independence at\n",
    "the population level.\n",
    "\n",
    "The human genome has a\n",
    "**haplotype block structure** (slide 5), which suggests that the recombination process\n",
    "shuffles the chromosomes mainly at only a relatively small number of sites on the\n",
    "genome, so called *recombination hotspots*. Between these hotspots, there are larger\n",
    "regions of genome with low recombination rates (slide 6). Consequently,\n",
    "\n",
    "* Phasing, especially in the low recombination areas, can be done accurately\n",
    "by collecting a large number of genotyped individuals and using a probability model\n",
    "to estimate which are the most likely haplotypes in this population.\n",
    "Since only a few haplotypes exist in the population,\n",
    "we can get a fairly reliable phasing for individuals by sharing haplotype\n",
    "information among them, and we simultaneously also get accurate estimates for the\n",
    "population frequencies of the haplotypes.\n",
    "Existing high quality reference haplotype data from the\n",
    "target population also improves phasing.\n",
    "Phasing software:\n",
    "[Beagle5](https://faculty.washington.edu/browning/beagle/beagle.html),\n",
    "[Eagle2](https://data.broadinstitute.org/alkesgroup/Eagle/),  [SHAPEIT3](https://jmarchini.org/shapeit3/).\n",
    "\n",
    "* SNPs in the same haplotype block tag each other well because each allele\n",
    "of a particular SNP sits on only a limited number of haplotypes in that block.\n",
    "In particular, by typing the set of the most informative tag-SNPs, we can already\n",
    "cover also a lot of neighboring genetic variation that we don't directly genotype.\n",
    "This was a property that boosted the first GWAS: in order to see statistical\n",
    "associations with phenotypes, it is enough that we manage to genotype any tag-SNP\n",
    "of a causal SNP.\n",
    "\n",
    "* The exact causal SNPs (or other variants)\n",
    "are difficult to pinpoint based on the statistical information alone\n",
    "since so many SNPs are so highly correlated with each other.\n",
    "This is the **fine-mapping problem**."
   ]
  },
  {
   "cell_type": "markdown",
   "id": "b175ab5e",
   "metadata": {},
   "source": [
    "### 7.2 Linkage disequilibrium (LD)\n",
    "We know from empirical data that the human genome has a haplotype block structure.\n",
    "This correlation structure\n",
    "arises because when a new variant (assume to be SNV) is introduced to the population\n",
    "as a mutation, it emerges on one of the existing haplotypes of the population.\n",
    "Because haplotypes are inherited as large segments of grandparental haplotypes,\n",
    "with often just 1 or 2 recombination events per chromosome, the new mutation\n",
    "will be, for many subsequent generations,\n",
    "passed on to the next generation with the same alleles that were\n",
    "close by to it on its orginal haplotype background.\n",
    "However, as more generations pass, recombinations\n",
    "cut down the original haplotype\n",
    "background to smaller and smaller shared segments between the\n",
    "descendants of the original haplotype,\n",
    "and hence the correlation at the population level\n",
    "between the variant and its neighbors tends to decrease over time (slides 8-9).\n",
    "\n",
    "Consider any two SNPs at distinct sites of the genome.\n",
    "Suppose that we had perfect haplotype information.\n",
    "Then we could observe\n",
    "how often their alleles 1 are on the same haplotype in\n",
    "the population and compare that\n",
    "to the expected proportion if the two variants were independent.\n",
    "If allele 1 frequencies in population are $f_k$ and $f_l$ at SNPs $k$ and $l$,\n",
    "and if the frequency of the haplotype 1-1 is\n",
    "$f_{kl}$, then we define\n",
    "\n",
    "* disequilibrium coefficient $D_{kl}=f_{kl}-f_k\\cdot f_l$,\n",
    "\n",
    "which, theoretically, is 0 if the two loci are independent, also said to be\n",
    "in **linkage equilibrium**, LE.\n",
    "If the loci are not independent ($D_{kl}\\neq 0$), then we say that the loci are\n",
    "in **linkage disequilibrium** (LD). Naturally, we never know the\n",
    "frequencies exactly in population\n",
    "and we use sample estimates to compute $D_{kl}$.\n",
    "Hence we will always observe some non-zero value for $D_{kl}$ in our sample.\n",
    "The interest is in the magnitude of $D_{kl}$.\n",
    "\n",
    "We can measure the amount of LD also by using the Pearson's correlation coefficient\n",
    "$r_{kl} = \\textrm{cor}(a_k,a_l)$, where $a_k$ and $a_l$ are the indicators\n",
    "of the alleles at SNPs $k$ and $l$ on the same haplotype. It can be shown that\n",
    "$r$ and $D$ are related through\n",
    "\n",
    "* $r_{kl} = \\frac{D_{kl}}{\\sqrt{f_k(1-f_k)f_l(1-f_l)}}.$\n",
    "\n",
    "Note that, theoretically,\n",
    "both $r$ and $D$ are 0 if and only if the loci are in linkage equilibrium.\n",
    "In what follows, we are interested in $r$,\n",
    "because it determines the statistical consequences of LD on GWAS analyses.\n",
    "\n",
    "A statistical way to think about LD is that\n",
    "if SNPs $k$ and $l$ are in LD, then by observing for a particular haplotype\n",
    "its allele at SNP $k$, we also gain more information about its allele\n",
    "at SNP $l$ than what we had solely based on the population allele frequencies\n",
    "at SNP $l$."
   ]
  },
  {
   "cell_type": "markdown",
   "id": "35c0eb2e",
   "metadata": {},
   "source": [
    "#### 7.2.1 Generating two-locus haplotype data\n",
    "Let's follow [Vukcevic et al. (2011)](https://onlinelibrary.wiley.com/doi/full/10.1002/gepi.20576) who derived\n",
    "formulas for the 4 haplotype frequencies in the population,\n",
    "given the MAFs at the two SNPs (1 and 2),\n",
    "and LD as measured by $r = r_{12}$ between the SNPs.\n",
    "(More comprehensive treatment of the subject is available in [Damjan Vukcevic's D.Phil thesis, Oxford, 2009](https://ora.ox.ac.uk/objects/uuid:8f89593e-a4ab-4df0-b297-74194be7891c).)\n",
    "\n",
    "Suppose that SNP1 has alleles **a** (minor) and **A** (major)\n",
    "and SNP2 has alleles **b** (minor) and **B** (major) and that $f_a \\leq f_b.$\n",
    "First, in order that the allele frequencies and the given level of LD, as measured by $r$,\n",
    "correspond to a haplotype distribution, the following inequalities must hold:\n",
    "$$\n",
    "-\\sqrt{\\left(\\frac{f_a}{1-f_a}\\right) \\left(\\frac{f_b}{1-f_b}\\right)} \\leq\n",
    "r \\leq\n",
    "\\sqrt{\\left(\\frac{f_a}{1-f_a}\\right) \\bigg/ \\left(\\frac{f_b}{1-f_b}\\right)}.\n",
    "$$\n",
    "For example, correlation between two SNPs can be really high ($r\\approx 1$) only if both have very\n",
    "similar MAFs, and in order for correlation to be highly negative ($r\\approx -1$),\n",
    "both MAFs must be close to 0.5.\n",
    "This is because if we were to assign the minor allele at both SNPs to haplotypes,\n",
    "then the only way that we can make correlation $\\approx 1$ is that **a** and **b** are almost always on the same haplotype\n",
    "and **A** and **B** are almost always on the same haplotype.\n",
    "This is only possible if $f_a \\approx f_b$ because otherwise\n",
    "there are either some extra **a**s that don't find any **b** to pair with and therefore must pair with **B**,\n",
    "or there are some extra **b**s that don't find an **a** to pair with and therefore must pair with **A**,\n",
    "both of which will lead to a reduction of correlation from $\\approx 1$.\n",
    "To get a high negative correlation for the minor alleles, each minor allele\n",
    "must be paired up with the major allele at the other locus, and this is possible\n",
    "only if MAF is close to 0.5 at both loci. Note that if we change the allele coding\n",
    "at one locus from allele 1 being the minor allele to allele 1 being the major allele,\n",
    "that simply changes the sign, but not the magnitude, of the corresponding $r$.\n",
    "\n",
    "The haplotype frequencies, and samples from them,\n",
    "can then be computed using the R-function\n",
    "`geno.2loci()` given below."
   ]
  },
  {
   "cell_type": "code",
   "execution_count": 2,
   "id": "2ff03424",
   "metadata": {
    "kernel": "R",
    "tags": [
     "report_cell"
    ]
   },
   "outputs": [],
   "source": [
    "geno.2loci <- function(n, r, mafs, return.geno = TRUE){\n",
    "  #INPUT:\n",
    "  # n, individuals\n",
    "  # r, correlation coefficient between the alleles on the same haplotype of the two loci\n",
    "  # mafs, MAFs of the two loci\n",
    "  #OUTPUT:\n",
    "  # if return.geno=TRUE: n x 2 matrix of GENOTYPES of n individuals at 2 loci\n",
    "  # if return.geno=FALSE: (2n) x 2 matrix of HAPLOTYPES of n individuals (2n haplotypes) at 2 loci\n",
    "  stopifnot( r >= (-1) & r <= 1 )\n",
    "  stopifnot( length(mafs) == 2 )\n",
    "  stopifnot( all(mafs > 0) & all(mafs <= 0.5) )\n",
    "  stopifnot( n > 0)\n",
    "\n",
    "  #Label SNPs and alleles so that a and b are minor alleles and freq a <= freq b.\n",
    "  #At the end, possibly switch the order of SNPs back to the one given by the user.\n",
    "  f.a = min(mafs) # maf at SNP1\n",
    "  f.b = max(mafs)  # maf at SNP2\n",
    "\n",
    "  #With these parameters, the possible LD coefficient r has values in the interval:\n",
    "  r.min = max( -1, -sqrt(f.a/(1-f.a)*f.b/(1-f.b)) )\n",
    "  r.max = min( 1, sqrt(f.a/(1-f.a)/f.b*(1-f.b)) )\n",
    "  #c(r.min,r.max)\n",
    "  #Check that r is from this interval\n",
    "  if(r < r.min | r > r.max) stop(paste0(\"with these mafs r should be in (\",r.min,\",\",r.max,\")\"))\n",
    "\n",
    "  # Alleles SNP1: A (major) and a (minor); SNP2: B (major) and b (minor).\n",
    "  # Compute conditional probabilities for allele 'a' given allele at locus 2:\n",
    "  q0 = f.a - r*sqrt(f.a*(1-f.a)*f.b/(1-f.b))         #P(a|B)\n",
    "  q1 = f.a + (1-f.b)*r*sqrt(f.a*(1-f.a)/f.b/(1-f.b)) #P(a|b)\n",
    "\n",
    "  #Compute the four haplotype frequencies:\n",
    "  f.ab = f.b*q1\n",
    "  f.aB = (1-f.b)*q0\n",
    "  f.Ab = f.b*(1-q1)\n",
    "  f.AB = (1-f.b)*(1-q0)\n",
    "  f = c(f.ab,f.aB,f.Ab,f.AB)\n",
    "  f #These are the haplotype frequencies in the population.\n",
    "  haps = matrix(c(1,1,1,0,0,1,0,0), nrow = 4, ncol = 2, byrow = T) #4 haplotypes in the population.\n",
    "\n",
    "  #Generate data for n individuals where each individual is measured at these two SNPs:\n",
    "  hap.ind = sample(1:4, size = 2*n, replace = T, prob = f) #There are 2*n haplotypes, 2 for each individual\n",
    "\n",
    "  if(mafs[1] > mafs[2]) haps = haps[,2:1] #Whether to change the order of loci?\n",
    "  #Either make genotype matrix by summing the two haplotypes for each individual...\n",
    "  if(return.geno) X = haps[hap.ind[1:n],] + haps[hap.ind[(n+1):(2*n)],]\n",
    "  if(!return.geno) X = haps[hap.ind,]  #...or return haplotypes as such.\n",
    "  return(X)\n",
    "}"
   ]
  },
  {
   "cell_type": "markdown",
   "id": "50db53eb",
   "metadata": {},
   "source": [
    "Let's check that this seems to work and gives a correlation of $r$."
   ]
  },
  {
   "cell_type": "code",
   "execution_count": 3,
   "id": "2f9e89a1",
   "metadata": {
    "kernel": "R",
    "tags": [
     "report_cell"
    ]
   },
   "outputs": [],
   "source": [
    "params = matrix(c(0.3,0.3,0.5, #each row has: r, MAF at SNP1, MAF at SNP2\n",
    "                  0.8, 0.4, 0.3,\n",
    "                  -0.5, 0.34, 0.4), byrow = T, ncol = 3)\n",
    "n = 10000\n",
    "for(ii in 1:nrow(params)){\n",
    "  X = geno.2loci(n, r = params[ii,1], mafs = params[ii,2:3], return.geno = FALSE ) #haplotype level data\n",
    "  print(c(cor(X[,1],X[,2]), colSums(X)/nrow(X)))\n",
    "} #and compare to params above"
   ]
  },
  {
   "cell_type": "markdown",
   "id": "df9c98b5",
   "metadata": {},
   "source": [
    "It works, so let's use it to demonstrate how haplotypes with different LD look like.\n",
    "Start from high LD (r=0.9),\n",
    "then intermediate LD (r=0.66) and finally no LD (r=0).\n",
    "MAFs at the two SNPs must be similar for the high LD case. (Here we use 0.4.)"
   ]
  },
  {
   "cell_type": "code",
   "execution_count": 4,
   "id": "aefb4b94",
   "metadata": {
    "Rmd_chunk_options": "fig.width = 9",
    "kernel": "R",
    "tags": [
     "report_cell"
    ]
   },
   "outputs": [],
   "source": [
    "n = 50\n",
    "rs = c(0.9, 0.666, 0.0) #correlation values\n",
    "mafs = matrix(c(0.4,0.4, 0.4,0.5, 0.4,0.4), byrow = T, ncol = 2)\n",
    "cbind(r = rs, mafs) #check that we put correct values in matrix\n",
    "par(mfrow = c(3,1))\n",
    "par(mar = c(2,4,4,1))\n",
    "for(ii in 1:nrow(mafs)){\n",
    "  X = geno.2loci(n, r = rs[ii], mafs = mafs[ii,],  return.geno = F) #return haplotypes\n",
    "  X = X[order(X[,1]),] #order so that haps with major allele at SNP1 come first\n",
    "  image(X, yaxt = \"n\", xaxt = \"n\", xlab = \"\", ylab = \"\",\n",
    "        col = c(\"floralwhite\",\"dodgerblue\"), cex.main = 1.3,\n",
    "        main = paste0(2*n,\" haplotypes, observed r=\",signif(cor(X[,1],X[,2]), 3) ))\n",
    "  abline(h = 0.5, lwd = 1.5, lty = 2, col = \"black\")\n",
    "  axis(2, at = c(0,1), labels = c(\"SNP1\",\"SNP2\"), cex.lab = 1.3 )\n",
    "}"
   ]
  },
  {
   "cell_type": "markdown",
   "id": "f4c580db",
   "metadata": {},
   "source": [
    "In the first case, we see that  allele **A** (white) at SNP1 almost always indicates\n",
    "allele **B** (white) at SNP2, and ALSO allele **a** (blue) indicates allele **b** (blue)\n",
    "at the other SNP.\n",
    "Thus, knowing the allele at either of the SNPs predicts the allele at the\n",
    "other SNP with very high accuracy.\n",
    "These two SNPs are in **high LD**:\n",
    "population parameter was $r=0.9$, the observed value\n",
    "from the sample is shown in the title.\n",
    "\n",
    "In the second case, MAF at SNP1 is lower than at SNP2 and even\n",
    "though blue at SNP1\n",
    "predicts well that SNP2 also has blue allele,\n",
    "also many white alleles at SNP1 go together\n",
    "with a blue allele at SNP2. Hence LD, as measured by $r$,\n",
    "is less than in the first case.\n",
    "This case demonstrates that SNPs with very different\n",
    "MAFs cannot have very high correlation because\n",
    "there is no way to make all blue match blue AND all white match white\n",
    "when there are different numbers of blue and white at the two SNPs.\n",
    "These SNPs are clearly in LD with each other, although not as\n",
    "strongly as the SNPs in the first case.\n",
    "\n",
    "In the third case, the SNPs are independent in the population\n",
    "($r=0$ in simulation), and also\n",
    "in the observed data there is little correlation between the loci.\n",
    "Thus, by knowing the allele at SNP1 does not help\n",
    "predicting what is the allele at SNP2 on the same haplotype.\n",
    "The best predicton we can do statistically is to guess the allele at SNP2\n",
    "based on the population allele frequencies,\n",
    "and ignore which allele was observed at SNP1, since it does\n",
    "not give additional information over the allele frequencies in population.\n",
    "These SNPs are **not in LD** with each other."
   ]
  },
  {
   "cell_type": "code",
   "execution_count": 5,
   "id": "3e630d1c",
   "metadata": {
    "jupyter": {
     "source_hidden": true
    },
    "kernel": "Markdown",
    "tags": [
     "report_output"
    ]
   },
   "outputs": [],
   "source": [
    "%expand `r ` --in R\n",
    "Let's also check what happens to the estimate of $r$\n",
    "if we estimate it at the genotype level, not at the haplotype level,\n",
    "as we have done so far.\n",
    "Thus, we'll generate haplotypes as previously,\n",
    "but before computing $r$, we collapse the haplotypes\n",
    "into genotypes (by `return.geno = TRUE`)\n",
    "and then compute correlation between the genotypes at the two loci."
   ]
  },
  {
   "cell_type": "code",
   "execution_count": 6,
   "id": "45644dae",
   "metadata": {
    "jupyter": {
     "source_hidden": true
    },
    "kernel": "R",
    "tags": [
     "report_cell"
    ]
   },
   "outputs": [],
   "source": [
    "params = matrix(c(0.3,0.3,0.5, #each row has: r, MAF at SNP1, MAF at SNP2\n",
    "                  0.8, 0.4, 0.35,\n",
    "                  -0.5, 0.34, 0.4), byrow = T, ncol = 3)\n",
    "n = 10000\n",
    "for(ii in 1:nrow(params)){\n",
    "  X = geno.2loci(n, r = params[ii,1], mafs = params[ii,2:3], return.geno = TRUE )\n",
    "  print(c(cor(X[,1],X[,2]), colSums(X)/2/nrow(X)))\n",
    "} #and compare to params above"
   ]
  },
  {
   "cell_type": "markdown",
   "id": "b3663a25",
   "metadata": {},
   "source": [
    "This seems to estimate the haplotype level correlations even though the input data\n",
    "are genotypes. This is good to know as\n",
    "the data we observe in practice are at the level of genotypes and\n",
    "phasing it to haplotypes is not always straightforward.\n",
    "\n",
    "**Example 7.2.**\n",
    "We can also get LD estimates for human populations from\n",
    "[LDlink](https://ldlink.nci.nih.gov/?tab=home).\n",
    "\n",
    "* Choose LDhap and consider two SNPs rs7837688, rs4242382 in the CEU population. You'll see the haplotype\n",
    "distribution in 1000G CEU data. There are 3 haplotypes (out of all 4 possible) and one is quite rare (1%).\n",
    "So these are almost in perfect LD where allele at one SNP tells the allele at the other.\n",
    "\n",
    "* While you could compute $r$ from the info given by LDhap, you can also query it directly from\n",
    "LDpair tab, which gives $r^2=0.8791$, i.e., $r=0.938.$ (Slide 10.)\n",
    "\n",
    "* Look at the same SNPs in LWK population. All 4 haplotypes are present and there is\n",
    "no LD in terms of $r^2$. Often African populations have less LD than non-African since\n",
    "the latter have been through more recent bottlenecks. Such bottlenecks\n",
    "increase LD because when there is a relatively few haplotypes that\n",
    "found the subsequent generations then\n",
    "those haplotypes will determine the LD patterns. (Slide 11.)\n",
    "\n",
    "* Go to LDproxy tab and look rs7837688 in the Chinese CHB population.\n",
    "You'll see the Figure and list of\n",
    "the variants that are in highest LD with rs7837688.\n",
    "Note also how the high LD is concentrated within a haplotype block\n",
    "that is between recombination hotspots\n",
    "(region between high peaks of recombination rate cM/Mb). (Slide 12.)\n",
    "\n",
    "* LDmatrix (slide 13) can be made for a user given set of SNPs.\n",
    "\n",
    "**Example 7.3.**\n",
    "Let's plot an LD matrix for 74 variants around *APOE* gene on chr 19 using\n",
    "1000 Genomes Finnish samples (coordinates GRCh37)."
   ]
  },
  {
   "cell_type": "code",
   "execution_count": 7,
   "id": "08aeaa80",
   "metadata": {
    "Rmd_chunk_options": "fig.width = 6",
    "kernel": "R",
    "tags": [
     "report_cell"
    ]
   },
   "outputs": [],
   "source": [
    "path = \"https://www.mv.helsinki.fi/home/mjxpirin/GWAS_course/material/APOE_1000G_FIN_74SNPS.\"\n",
    "haps = read.table(paste0(path,\"txt\"))\n",
    "info = read.table(paste0(path,\"legend.txt\"),header = T, as.is = T)\n",
    "dim(haps) #rows haplotypes, cols SNPs\n",
    "info[1:3,] #info for first three SNPs\n",
    "haps[1:3,] #data for first three haplotypes\n",
    "\n",
    "R = cor(haps) #LD matrix is the pxp correlation matrix\n",
    "n.cols = 100\n",
    "layout(matrix(c(1,2), nrow = 1), widths = c(9,1))\n",
    "par(mar = c(2,2,3,1)) #plot LD matrix using image\n",
    "image(abs(R), col = heat.colors(n.cols),\n",
    "      breaks = seq(0, 1, length = n.cols + 1),\n",
    "      asp = 1, xaxt = \"n\", yaxt = \"n\", bty = \"n\",\n",
    "      main = paste(\"|r| of \", dim(R)[1],\"SNPs around APOE\"))\n",
    "par(mar = c(2,1,3,1)) #plot scale for colors\n",
    "plot.window(xlim = c(0,1), ylim = c(0,n.cols))\n",
    "points(x = rep(1,n.cols + 1),y=(0:n.cols), col = heat.colors(n.cols + 1), pch = 15, cex = 2)\n",
    "axis(4, at = c(0, n.cols / 2, n.cols),\n",
    "     labels = c(0, 0.5, 1) )"
   ]
  },
  {
   "cell_type": "markdown",
   "id": "a9e3f8d1",
   "metadata": {},
   "source": [
    "LD matrices from two Finnish cohorts show highly\n",
    "similar LD structure to each other on slide 14."
   ]
  },
  {
   "cell_type": "markdown",
   "id": "f8d6ec5d",
   "metadata": {},
   "source": [
    "### 7.3 Effect of LD on GWAS results\n",
    "Let's then experiment with a GWAS setting where SNP1 is a causal variant\n",
    "with causal effect size of $\\lambda_1 = 0.2$ and MAF = 0.2 whereas SNP2 does not have\n",
    "a causal effect ($\\lambda_2=0$) and has MAF = 0.4,\n",
    "on a quantitative phenotype whose variance is 1 in population.\n",
    "LD between the SNPs is $r_{12}=0.6$.\n",
    "So far on this course we have used $\\beta$ to denote the effect size\n",
    "of allele 1.\n",
    "Reason why we now use $\\lambda$ rather than $\\beta$\n",
    "is because we want to separate the **causal effect** ($\\lambda$) from\n",
    "the **marginal effect** ($\\beta$), as will become clear soon.\n",
    "\n",
    "Let's make 1000 simulations of such setting, using $n=1000$ individuals in each\n",
    "simulation, and let's do the typical single-SNP GWAS on each variant and collect\n",
    "the effect estimate $\\widehat{\\beta}_l$ its SE and P-value for both variants $l=1,2.$"
   ]
  },
  {
   "cell_type": "code",
   "execution_count": 8,
   "id": "7e78da32",
   "metadata": {
    "Rmd_chunk_options": "fig.height=4",
    "kernel": "R",
    "tags": [
     "report_cell"
    ]
   },
   "outputs": [],
   "source": [
    "n.iter = 1000\n",
    "n = 1000\n",
    "r = 0.6\n",
    "mafs = c(0.2, 0.4)\n",
    "lambda = c(0.2, 0) #causal effects of each SNP\n",
    "res = matrix(NA, ncol = 6, nrow = n.iter) #6 cols: beta1, SE1, P1; beta2, SE2, P2\n",
    "colnames(res) = c(\"beta1\",\"SE1\",\"pval1\",\"beta2\",\"SE2\",\"pval2\")\n",
    "for(iter in 1:n.iter){\n",
    "  X = geno.2loci(n, r, mafs, return.geno = T) #generate 2-locus genotypes\n",
    "  y = X %*% lambda + rnorm(n,0, sqrt(1-var(X %*% lambda)) ) #var(y) = 1,\n",
    "  res[iter, 1:3] = summary(lm(y ~ X[,1]))$coeff[2, c(1,2,4)] #collect beta, SE, P-val of SNP1\n",
    "  res[iter, 4:6] = summary(lm(y ~ X[,2]))$coeff[2, c(1,2,4)] #collect beta, SE, P-val of SNP2\n",
    "}"
   ]
  },
  {
   "cell_type": "markdown",
   "id": "962b1986",
   "metadata": {},
   "source": [
    "Let's plot effect estimates $\\widehat{\\beta}_1$ and $\\widehat{\\beta}_2$\n",
    "against each other and as separate distributions.\n",
    "Let's add vertical lines at the expected mean values: $\\lambda_1$\n",
    "for SNP1 and\n",
    "$r_{12}\\,\\lambda_1\\,\\sqrt{\\frac{f_1(1-f_1)}{f_2(1-f_2)}}$ for SNP2\n",
    "(explained later where this comes from)."
   ]
  },
  {
   "cell_type": "code",
   "execution_count": 9,
   "id": "7751976a",
   "metadata": {
    "Rmd_chunk_options": "fig.height = 5, fig.width = 9",
    "kernel": "R",
    "tags": [
     "report_cell"
    ]
   },
   "outputs": [],
   "source": [
    "par(mfrow = c(1,2))\n",
    "plot(res[,\"beta1\"], res[,\"beta2\"], xlab = expression(beta[1]), ylab = expression(beta[2]),\n",
    "     main = paste(\"r =\",signif(cor(res[,\"beta1\"], res[,\"beta2\"]), 3)))\n",
    "abline(0,1)\n",
    "plot(density(res[,\"beta1\"]), xlab = expression(beta), col = \"black\", main = \"\",\n",
    "     xlim = c(0,0.4), ylim = c(0,8))\n",
    "lines(density(res[,\"beta2\"]), col = \"red\")\n",
    "abline(v = lambda[1], lty = 2)\n",
    "abline(v = lambda[1]*r*sqrt(mafs[1]*(1-mafs[1])/mafs[2]/(1-mafs[2])), lty = 2)\n",
    "legend(\"topright\", col = c(\"black\",\"red\"), lwd = 1, legend = c(1,2) )"
   ]
  },
  {
   "cell_type": "markdown",
   "id": "005a83be",
   "metadata": {},
   "source": [
    "We see that there is a clear correlation in GWAS effect estimates between SNPs 1 and 2,\n",
    "and that correlation seems to match well with the LD correlation between the SNPs ($r_{12}=0.6$).\n",
    "The distributions of the effect estimates shows that $\\widehat{\\beta}_1$ is centered\n",
    "on the true causal effect $\\lambda_1$ and $\\widehat{\\beta}_2$ is centered\n",
    "at value $r_{12}\\,\\lambda_1 \\sqrt{\\frac{f_1(1-f_1)}{f_2(1-f_2)}}$ (and not at 0,\n",
    "which would be the true *causal* effect of SNP2; derivation on slide 16).\n",
    "\n",
    "Let's look at the P-values:"
   ]
  },
  {
   "cell_type": "code",
   "execution_count": 10,
   "id": "a63b5db9",
   "metadata": {
    "Rmd_chunk_options": "fig.height = 5, fig.width = 9",
    "kernel": "R",
    "tags": [
     "report_cell"
    ]
   },
   "outputs": [],
   "source": [
    "par(mfrow = c(1,2))\n",
    "plot(-log10(res[,\"pval1\"]), -log10(res[,\"pval2\"]), xlab = \"-log10P1\", ylab = \"-log10P2\")\n",
    "abline(0,1)\n",
    "plot(density(-log10(res[,\"pval1\"])), xlab = \"-log10\", col = \"black\", main = \"\", ylim = c(0,0.35))\n",
    "lines(density(-log10(res[,\"pval2\"])), col = \"red\")\n",
    "legend(\"topright\", col = c(\"black\",\"red\"), lwd = 1, legend = c(1,2) )"
   ]
  },
  {
   "cell_type": "markdown",
   "id": "f6ab4713",
   "metadata": {},
   "source": [
    "Also the P-values are correlated and SNP2 has P-values that are clearly much smaller\n",
    "than under the null even though SNP2 does not have a causal effect on the phenotype.\n",
    "We also see that there are a few cases where\n",
    "SNP2 actually has lower P-value (higher -log10 P-value) than SNP1 even though\n",
    "SNP1 is the causal variant that is driving the genotype-phenotype association here.\n",
    "Consequently,\n",
    "\n",
    "* When SNPs 1 and 2 are LD-friends (in LD with each other), and only SNP1 is causal,\n",
    "then the causal effect of SNP1 will leak to the marginal effect of SNP2\n",
    "in the sense that the standard\n",
    "one-SNP-at-a-time analysis at SNP2 is estimating marginal effect\n",
    "$$\\beta_2 = r_{12} \\lambda_1 \\sqrt{\\frac{f_1(1-f_1)}{f_2(1-f_2)}},$$\n",
    "rather than the true causal effect of SNP2 (which would be 0).\n",
    "\n",
    "* This means that if we had not genotyped SNP1 but only genotyped SNP2,\n",
    "we would still see the association signal in this region,\n",
    "but its effect size would be reduced by a factor of\n",
    "$r_{12}\\sqrt{\\frac{f_1(1-f_1)}{f_2(1-f_2)}}$,\n",
    "and its NCP would by reduced by a factor of $r_{12}^2$,\n",
    "compared to those values that we would estimate at the true causal variant.\n",
    "\n",
    "* Hence, when we see peaks on Manhattan\n",
    "plots, we cannot be sure whether we have the causal variation itself included in\n",
    "our analysis, or whether we are just tagging it by our SNPs. In principle,\n",
    "the possible hidden causal variation does not need to be a single SNV,\n",
    "it can be a structural variant, or a haplotype-level effect, for example.\n",
    "\n",
    "* The top variant in terms of P-value does not need to be the causal\n",
    "variant because of tagging and statistical sampling effects. In particular,\n",
    "when there are many variants in high LD with the causal(s) then the association\n",
    "region looks messy (slide 15) and we can't know for sure which are the causal variants\n",
    "by looking at the marginal effect sizes and P-values."
   ]
  },
  {
   "cell_type": "markdown",
   "id": "2f7d5c52",
   "metadata": {},
   "source": [
    "#### 7.3.1 Relation between causal effect $\\lambda$ and marginal effect $\\beta$\n",
    "\n",
    "Consider a region with $p$ SNPs with their causal effects in vector\n",
    "$\\pmb{\\lambda} = (\\lambda_1,\\ldots,\\lambda_p)^T.$\n",
    "This means that the region contributes to\n",
    "the phenotype by $\\sum_{l=1}^p x_{il}\\lambda_l.$\n",
    "\n",
    "When we do a standard GWAS, that includes one variant at a time in the regression model,\n",
    "we estimate the marginal effects $\\beta_l$ rather than the causal effects $\\lambda_l$.\n",
    "Above we saw how the non-causal variant ($\\lambda_2=0$) had non-zero marginal effect\n",
    "size ($\\beta_2\\neq 0$), whose value we could predict from the causal effect\n",
    "$\\lambda_1$, $r_{12}$ and allele frequencies at the two SNPs.\n",
    "This relationship generalizes to an arbitrary number $p$\n",
    "of SNPs in a region and the marginal effect at SNP $l$ is\n",
    "$$\\beta_l = \\sum_{k=1}^p r_{kl} \\lambda_k \\sqrt{\\frac{f_k(1-f_k)}{f_l(1-f_l)}}\n",
    "= \\lambda_l + \\sum_{k\\neq l} r_{kl} \\lambda_k \\sqrt{\\frac{f_k(1-f_k)}{f_l(1-f_l)}},$$\n",
    "where the first sum is over all variants in the region, and, in the second\n",
    "formulation, we have separated the variant's own causal effect from the sum (as $r=1$\n",
    "between the variant and itself) (Slide 17). Thus, if $l$ is not in LD with any other (causal)\n",
    "variant, then the marginal effect $\\beta_l$ equals to the causal effect $\\lambda_l$.\n",
    "Otherwise, the marginal effect at SNP $l$ combines the causal effect of $l$\n",
    "with the causal effects from all other variants, weighted by their LD with the SNP $l$.\n",
    "In particular, when a non-causal SNP $l$ is in high LD with one or more causal variants,\n",
    "then we estimate its marginal effect as non-zero even when the SNP has no biologically\n",
    "causal effect on the phenotype.\n",
    "This phenomenon explains why Manhattan plots show piles of nearby SNPs\n",
    "that together reach highly significant\n",
    "P-values: a few of them may be truly causal, but most of them\n",
    "are only in LD with those few causals, and most of the non-zero marginal effects\n",
    "simply reflect the causal effects of their LD-friends.\n",
    "\n",
    "We want the formulas to be compact and easy to remember, and we are not happy with the\n",
    "above formula with this respect,\n",
    "so we introduce some scaling to help us here."
   ]
  },
  {
   "cell_type": "markdown",
   "id": "2d0e1622",
   "metadata": {},
   "source": [
    "#### Scaled genotypes and scaled effects.\n",
    "Suppose that MAF at SNP $l$ is $f_l$ and individual $i$ has genotype $x_{il}$.\n",
    "We define **scaled genotype** of individual $i$ as\n",
    "$$x_{il}^* = \\frac{x_{il}-2f_l}{\\sqrt{2f_l(1-f_l)}}.$$\n",
    "Thus, while $x_{il}$ had three possible values 0, 1 or 2 independent of MAF,\n",
    "also $x_{il}^*$ has three possible values,\n",
    "but these values are chosen so that the average scaled genotype in the population is 0,\n",
    "its standard deviation and variance is 1,\n",
    "and, consequently, the numerical difference between two genotype classes gets larger as MAF gets smaller. This is shown in the Table below, where the columns present the\n",
    "numerical values of the scaled genotypes\n",
    "corresponding to the genotypes 0,1 and 2,\n",
    "for four values of MAF $f$.\n",
    "\n",
    "|genotype | $f=0.5$ | $f=0.10$|$f=0.01$|$f=0.001$|\n",
    "|---------|---------|---------|---------|---------|\n",
    "|0 |-1.41 | -0.47 |-0.14 |-0.045 |\n",
    "|1 |0 |1.89 | 6.96| 22.33|\n",
    "|2 |1.41 | 4.24| 14.07| 44.70|\n",
    "\n",
    "We further define the scaled effects $\\beta_l^*$ by running\n",
    "the (linear or logistic) regression model using the scaled genotypes:\n",
    "$$Y \\sim \\mu^* + X^*\\beta^*.$$\n",
    "This model yields exactly the same P-value for $\\beta^*_l$ as\n",
    "the regression using original genotypes gives\n",
    "for $\\beta_l$, but the effect size that is being estimated\n",
    "is now $\\beta^*_l = \\beta_l \\sqrt{2f_l(1-f_l)}$ and its standard error is\n",
    "$\\textrm{SE}^*_l = \\textrm{SE}_l \\sqrt{2f_l(1-f_l)}$\n",
    "(so z-score $\\beta_l/\\textrm{SE}_l = \\beta^*_l/\\textrm{SE}^*_l$ doesn't change).\n",
    "**Allelic effect** $\\beta_l$ describes the change in\n",
    "phenotype per each copy of allele 1,\n",
    "whereas **scaled effect** $\\beta_l^*$ describes change in phenotype per each\n",
    "standard deviation unit of the genotype variable in the population.\n",
    "This linear transformation does not change the statistical model fit\n",
    "($R^2$ or P-value) at all.\n",
    "In particular,\n",
    "we need not run any new GWAS in order to estimate the scaled effects,\n",
    "but we can simply transform the existing allelic effect estimates $\\widehat{\\beta}_l$\n",
    "to the scaled effect estimates $\\widehat{\\beta^*_l}$\n",
    "by multiplying by $\\sqrt{2f_l(1-f_l)}.$\n",
    "Note also that, for the quantitative traits,\n",
    "the square of the scaled effect ${\\beta_l^*}^2 = 2f_l(1-f_l)\\beta^2$ is directly the\n",
    "phenotypic variance explained by the SNP.\n",
    "\n",
    "We do the same with causal effects where **scaled causal effect**\n",
    "$\\lambda_l^* = \\lambda_l \\sqrt{2f_l(1-f_l)}.$\n",
    "\n",
    "With scaled effects,\n",
    "the relationship between marginal and causal effects is simply\n",
    "$$\\beta^*_l = \\sum_{k=1}^p r_{kl}\\lambda_k^* = \\lambda_l^* + \\sum_{k\\neq l} r_{kl}\\lambda_k^*,$$\n",
    "where $r_{kl}$ is the correlation between SNPs $k$ and $l$,\n",
    "and that correlation is exactly the same whether we consider original genotypes\n",
    "or the scaled genotypes. Thus we have simplified our earlier formula by replacing the\n",
    "complicated allele-frequency-ratio-square-root by a few *s.\n",
    "\n",
    "It is clear that when we are interested in the biology behind the phenotype,\n",
    "then we are only interested in the\n",
    "causal variants and their causal effects.\n",
    "How can we estimate these causal effects?\n",
    "So far our GWAS results have only been about marginal effects $\\beta$."
   ]
  },
  {
   "cell_type": "markdown",
   "id": "82067500",
   "metadata": {},
   "source": [
    "#### 7.3.2 Joint model\n",
    "\n",
    "Let's write the phenotype as an additive combination of the (causal)\n",
    "effects of all $p$ variants in the genome:\n",
    "$$y_i = \\mu + \\pmb{x}_i\\cdot \\pmb{\\lambda} + \\varepsilon_i = \\mu + \\sum_{l=1}^p x_{il}\\lambda_l + \\varepsilon_i,$$\n",
    "where $\\pmb{x}_i$ is the row $i$ of the full genotype matrix $\\pmb{X}$ that contains the $p$ genotypes\n",
    "of individual $i$, and $\\pmb{\\lambda}$ is the vector of the (unknown) causal effects of the $p$ variants.\n",
    "For binary phenotype, $y_i$ is to be interpreted as the log-odds of the disease for individual $i$\n",
    "(like in logistic regression).\n",
    "\n",
    "The difference between this **joint model** of all variants and the **marginal model** of a single variant\n",
    "($y_i = \\mu + x_{il}\\beta_l + \\varepsilon_i$) is that the joint model accounts for the effects of all\n",
    "variants on the phenotype simultaneously whereas the marginal model only considers one variant at a time.\n",
    "Consequently, an estimator of an effect from the marginal model will estimate the marginal effect\n",
    "$\\beta_l$ whereas an estimator of the joint model is estimating the causal effects $\\pmb{\\lambda}$ simultaneously.\n",
    "A standard GWAS applies $p$ separate marginal regression models,\n",
    "one for each variant, and if we collect\n",
    "the marginal effects into a single vector\n",
    "$\\pmb{\\beta}=(\\beta_1,\\ldots,\\beta_L)^T$, then by the formulas\n",
    "above, we have a linear relationship between the marginal and causal effects:\n",
    "$$\\pmb{\\beta^*} = \\pmb{R}\\pmb{\\lambda^*} \\quad \\textrm{ or equivalently } \\quad \\pmb{\\lambda^*} = \\pmb{R}^{-1} \\pmb{\\beta^*},$$\n",
    "where $\\pmb{R}$ is the $p\\times p$ **LD-matrix** whose element $(l,k)$ is the pairwise\n",
    "correlation $r_{lk}$ of variants $l$ and $k$.\n",
    "We give this formula for scaled effects rather than the allelic effects because\n",
    "the same formula for allelic effects involves ratios of allele\n",
    "frequencies for each pair of variants, which would\n",
    "complicate the notation compared to this version where the differences in\n",
    "allele frequencies have been scaled away.\n",
    "But remember that we can always get from the scaled effect of variant $l$\n",
    "to the allelic effect of $l$ by dividing by $\\sqrt{2f_l(1-f_l)}$.\n",
    "\n",
    "These considerations suggest two ways to estimate the causal effects $\\pmb{\\lambda}$.\n",
    "\n",
    "1. Use a multiple regression model where phenotype is regressed on multiple genotypes simultaneously.\n",
    "In R, this is done by simply using a matrix $X$ of all genotypes in the formula like `lm(y~X)`\n",
    "or `glm(y~X, family=\"binomial\")`.\n",
    "\n",
    "2. Take the marginal GWAS effects and transform them by the inverse of\n",
    "the LD matrix: $\\pmb{\\lambda^*} = \\pmb{R}^{-1} \\pmb{\\beta^*}$.\n",
    "\n",
    "Let's try the first one with the settings of our previous example,\n",
    "where we had MAFs 0.2 and 0.4,\n",
    "causal effects $\\pmb{\\lambda} = (0.2, 0)$\n",
    "and $r_{12}=0.6$ in the population.\n",
    "Let's fit both the marginal models and\n",
    "the joint model and plot the estimates of $\\beta$s and $\\lambda$s."
   ]
  },
  {
   "cell_type": "code",
   "execution_count": 11,
   "id": "10f0fcda",
   "metadata": {
    "Rmd_chunk_options": "fig.height = 5, fig.width = 9",
    "kernel": "R",
    "tags": [
     "report_cell"
    ]
   },
   "outputs": [],
   "source": [
    "n.iter = 500\n",
    "n = 1000\n",
    "r = 0.6\n",
    "mafs = c(0.2, 0.4)\n",
    "lambda = c(0.2, 0) #causal effects of each SNP\n",
    "res = matrix(NA, ncol = 12, nrow = n.iter)\n",
    "colnames(res) = c(\"beta1\",\"SE.b1\",\"pval.b1\",\"beta2\",\"SE.b2\",\"pval.b2\",\n",
    "                  \"lambda1\",\"SE.l1\",\"pval.l1\", \"lambda2\",\"SE.l2\",\"pval.l2\")\n",
    "for(iter in 1:n.iter){\n",
    "  X = geno.2loci(n, r, mafs, return.geno = T) #generate 2-locus genotypes\n",
    "  y = X %*% lambda + rnorm(n, 0, sqrt(1 - var(X %*% lambda)) ) #var(y) = 1,\n",
    "  res[iter, 1:3] = summary(lm(y ~ X[,1]))$coeff[2, c(1,2,4)] #collect beta, SE.b1, P.b1 of SNP1\n",
    "  res[iter, 4:6] = summary(lm(y ~ X[,2]))$coeff[2, c(1,2,4)] #collect beta, SE.b1, P.b1 of SNP2\n",
    "  joint.coeff = summary(lm(y ~ X))$coeff\n",
    "  res[iter, 7:9] = joint.coeff[2, c(1,2,4)] #collect lambda1, SE.l1, P.l1 of SNP1 from joint model\n",
    "  res[iter, 10:12] = joint.coeff[3, c(1,2,4)] #collect lambda2, SE.l2, P.l2 of SNP2 from joint model\n",
    "}\n",
    "\n",
    "par(mfrow = c(1,2))\n",
    "#1st row (2 panels):\n",
    "#Plot marginal effects as separate distributions\n",
    "#Add blue lines to the true causal effects lambda\n",
    "#Add black line to the expected marginal effects of beta2:\n",
    "#r*sqrt(maf1*(1-maf1)/maf2/(1-maf2))*lambda1\n",
    "for(ii in 1:2){\n",
    "  eff = c(\"beta\",\"lambda\")[ii]\n",
    "  title.txt = c(\"marginal model\", \"joint model\")\n",
    "  plot(density(res[,paste0(eff,\"1\")]), xlab = eff, col = \"black\",\n",
    "       main = title.txt[ii], ylim = c(0,9), xlim = c(-0.2,0.5))\n",
    "  lines(density(res[,paste0(eff,\"2\")]), col=\"red\")\n",
    "  abline(v = lambda[1], lty = 2, col = \"blue\")\n",
    "  abline(v = lambda[2], lty = 2, col = \"blue\")\n",
    "  abline(v = lambda[1]*r*sqrt(mafs[1]*(1-mafs[1])/mafs[2]/(1-mafs[2])), lty = 2, col = \"black\")\n",
    "  legend(\"topright\", col = c(\"black\",\"red\"), lwd = 1, legend = c(1,2) )\n",
    "}"
   ]
  },
  {
   "cell_type": "markdown",
   "id": "5acb107a",
   "metadata": {},
   "source": [
    "We see that the estimates from the joint model\n",
    "are centered on the true causal effects (blue lines, right panel),\n",
    "whereas the marginal effect of the non-causal  SNP2 is estimating the value $r_{12}\\,\\lambda_1 \\sqrt{\\frac{f_1(1-f_1)}{f_2(1-f_2)}}$ (black line, left panel).\n",
    "\n",
    "It also seems that the distributions of estimates are wider for $\\lambda$s than for\n",
    "$\\beta$s. That is because when the two variables are correlated,\n",
    "the regression model tries to figure out how to divide the total effect between the two\n",
    "correlated variables,\n",
    "which increases uncertainty about how large the effect should be\n",
    "*for any one of them separately*. This uncertainty becomes larger the higher\n",
    "the magnitude of the correlation. At the extreme, for two perfectly correlated variables,\n",
    "there is no way to separate their effects statistically; the standard regression model\n",
    "breaks down if you try to include the same variable twice there.\n",
    "\n",
    "The price to pay for an unbiased estimate of the causal effect by the joint model\n",
    "is an increased uncertainty of the effect estimate compared to the marginal model.\n",
    "It can be shown that\n",
    "$$\\textrm{SE}\\left(\\widehat{\\lambda_1}\\right) = \\frac{\\sigma_\\varepsilon}{\\sqrt{2n\\left(1-r_{12}^2\\right)f_1(1-f_1)}} \\approx \\frac{\\textrm{SE}\\left(\\widehat{\\beta_1}\\right)}{\\sqrt{\\left(1-r_{12}^2\\right)}}.$$\n",
    "Thus, when SNPs are independent ($r_{12}=0$), the precision of $\\widehat{\\lambda}$s is the\n",
    "same as for $\\widehat{\\beta}$s and when correlation approaches $\\pm 1$, then the joint model becomes\n",
    "more and more unsure how the joint effect should be split between the two candidates and\n",
    "SE of $\\widehat{\\lambda}$s grows towards infinity.\n",
    "In practice, it is not useful to include very highly\n",
    "correlated variables in a regression model simultaneously\n",
    "because their effects cannot be\n",
    "separated from each other (except with extreme amounts of data).\n",
    "\n",
    "It follows that if we look at the P-value from the Wald statistic of SNP1,\n",
    "then we would expect to see lower P-values for $\\beta_1$ than for $\\lambda_1$\n",
    "because while both estimate the correct causal effect 0.2,\n",
    "SE of $\\widehat{\\beta}_1$ is lower than SE of $\\widehat{\\lambda}_1$, which leads\n",
    "to lower P-values for $\\beta_1$ than for $\\lambda_1$ on average.\n",
    "\n",
    "This is not a problem in standard GWAS, where we first identify the\n",
    "regions where variants show high association based on the marginal models,\n",
    "($\\widehat{\\beta}$s and their P-values),\n",
    "and then we turn to a more detailed analysis of those regions using some\n",
    "versions of a joint model.\n",
    "\n",
    "A joint (linear or logistic) regression model of several SNPs\n",
    "gives unbiased estimates\n",
    "of the causal effects of the SNPs assuming that ALL causal variants of the region\n",
    "are included in the model.\n",
    "This is a nice property, but in the same time\n",
    "these standard regression models\n",
    "are not suitable for large scale variable selection\n",
    "among thousands of candidate variables and they do not handle well\n",
    "highly correlated variables.\n",
    "Therefore, we can only use them for joint models of a handful of variants at a time.\n",
    "Next we will look how this is typically done for a GWAS region\n",
    "by stepwise forward selection.\n",
    "And later we will see how\n",
    "more recent fine-mapping models combine\n",
    "sparse causal models with efficient search algorithms."
   ]
  },
  {
   "cell_type": "markdown",
   "id": "13fd2a32",
   "metadata": {},
   "source": [
    "### 7.4 Stepwise forward selection\n",
    "\n",
    "Let's aim to reduce the set of $p$ SNPs in the region into a\n",
    "(much) smaller subset $S$ of SNPs that can already statistically explain the association\n",
    "pattern that we see in the region. Technically, this means that we want to find\n",
    "as small a subset $S$ as possible, for which the joint regression model\n",
    "$$Y \\sim \\pmb{X}_S$$ explains the data $Y$ already so well that any extended model\n",
    "$$Y \\sim \\pmb{X}_S + X_a,$$\n",
    "with one (or more) additional SNP(s) $a \\notin S$ included,\n",
    "would not lead to a statistically better fit to the observed data.\n",
    "(Here $\\pmb{X}_S$ is a matrix whose columns contain the genotypes of the SNPs included in set $S$.)\n",
    "\n",
    "There could be many versions of such a set $S$, and here we start by trying\n",
    "to find one of them.\n",
    "\n",
    "We will demonstrate this with two data sets generated using the *APOE* region data\n",
    "on 186 Finnish haplotypes from the 1000 Genomes project,\n",
    "and we call these data sets as APOE.1 and APOE.2.\n",
    "\n",
    "**Example 7.4: APOE.1 data.**\n",
    "Let's generate 1000 individuals by sampling their haplotype pairs from the reference pool\n",
    "with replacement and adding them up to get individual level genotypes. This reflects what\n",
    "we would observe from genotyping."
   ]
  },
  {
   "cell_type": "code",
   "execution_count": 12,
   "id": "8afbccf9",
   "metadata": {
    "kernel": "R",
    "tags": [
     "report_cell"
    ]
   },
   "outputs": [],
   "source": [
    "path = \"https://www.mv.helsinki.fi/home/mjxpirin/GWAS_course/material/APOE_1000G_FIN_74SNPS.\"\n",
    "haps = as.matrix(read.table(paste0(path,\"txt\")))\n",
    "dim(haps) #rows haplotypes, cols SNPs\n",
    "n = 1000\n",
    "X = haps[sample(1:nrow(haps), size = n, repl = T),] + haps[sample(1:nrow(haps), size = n, repl = T),] #n individ."
   ]
  },
  {
   "cell_type": "markdown",
   "id": "702adc76",
   "metadata": {},
   "source": [
    "Let's then choose three causal variants: 7, 37 and 51, and give them all a causal effect of\n",
    "$\\lambda = 0.3$. Let's plot the causal and marginal effects for the region."
   ]
  },
  {
   "cell_type": "code",
   "execution_count": 13,
   "id": "cd11f3f7",
   "metadata": {
    "Rmd_chunk_options": "fig.height=4, fig.width=9",
    "kernel": "R",
    "tags": [
     "report_cell"
    ]
   },
   "outputs": [],
   "source": [
    "c.ind.1 = c(7, 37, 51) # causal SNP indexes for APOE.1 data\n",
    "p = ncol(X)\n",
    "lambda = rep(0, p)\n",
    "lambda[c.ind.1] = 0.3\n",
    "f = colSums(X)/2/nrow(X) # allele 1 freqs\n",
    "f.sc = sqrt(2*f*(1-f)) #scaling factor for genotypes\n",
    "R = cor(X) # R is computed from genotypes\n",
    "beta = (R %*% (lambda * f.sc)) / f.sc # from lambdas to betas\n",
    "par(mfrow = c(1,2))\n",
    "par(mar = c(4.5, 4.5, 2, 0.5))\n",
    "plot(lambda, xlab = \"SNP\", ylab = expression(lambda), col = \"dodgerblue\",\n",
    "     pch = 19, ylim = c(-0.5,0.5), main = \"causal effects\")\n",
    "plot(beta, xlab = \"SNP\", ylab = expression(beta), col = \"red\",\n",
    "     pch = 1, ylim = c(-0.5,0.5), main = \"marginal effects\")"
   ]
  },
  {
   "cell_type": "markdown",
   "id": "353afe16",
   "metadata": {},
   "source": [
    "We see that many marginal effects are larger than any causal effects because\n",
    "some SNPs are in high LD with several causals and therefore their marginal effects\n",
    "are a weighted sum of the causals.\n",
    "In particular, some non-causals have larger marginal effects than some causals,\n",
    "and therefore it could happen that the top-SNP in this region is not a causal variant.\n",
    "Let's generate a trait with variance 1, do a standard marginal GWAS model,\n",
    "and highlight the causal variants in the Manhattan plot of this region."
   ]
  },
  {
   "cell_type": "code",
   "execution_count": 14,
   "id": "a7a10435",
   "metadata": {
    "Rmd_chunk_options": "fig.height = 4, fig.width = 9",
    "kernel": "R",
    "tags": [
     "report_cell"
    ]
   },
   "outputs": [],
   "source": [
    "set.seed(18) #21\n",
    "y.1 = X %*% lambda + rnorm(n, 0, sqrt(1 - var(X %*% lambda)) ) #trait for APOE.1 data\n",
    "res.1 = apply(X, 2, function(x){summary(lm(y.1 ~ x))$coeff[2,c(1,2,4)]}) #3 rows: beta,SE,pval\n",
    "par(mar=c(4.5, 4.5, 2, 1))\n",
    "plot(-log10(res.1[3,]), xlab = \"SNP\", ylab = \"-log10 P\", main=\"APOE.1 marginal analysis\")\n",
    "points(c.ind.1, -log10(res.1[3,c.ind.1]), cex = 2, lwd = 1.4, col = \"dodgerblue\") #highlight causals"
   ]
  },
  {
   "cell_type": "markdown",
   "id": "db38fd4f",
   "metadata": {},
   "source": [
    "The top variant is one of the causals (37) but there are non-causals also nearby in P-values.\n",
    "Could we fit a joint model for all the variants in the region and get a clearer picture\n",
    "of which might be the causal ones?"
   ]
  },
  {
   "cell_type": "code",
   "execution_count": 15,
   "id": "4acc9147",
   "metadata": {
    "Rmd_chunk_options": "fig.height = 4, fig.width = 9",
    "kernel": "R",
    "tags": [
     "report_cell"
    ]
   },
   "outputs": [],
   "source": [
    "joint.coeff = summary(lm(y.1 ~ X))$coeff[-1,c(1,2,4)] #joint model isn't able to return results for all SNPs\n",
    "nrow(joint.coeff) #how many coefficients we got out of 74?\n",
    "par(mar = c(4.5,4.5,2,1))\n",
    "plot(-log10(joint.coeff[,3]), xlab = \"SNP\", ylab = \"-log10 P\", main = \"APOE.1 joint analysis\")\n",
    "ring.i = which(row.names(joint.coeff) %in% paste0(\"XV\",c.ind.1)) # indexes of the causals present\n",
    "points(ring.i, -log10(joint.coeff[ring.i,3]), cex = 2, lwd = 1.4, col = \"dodgerblue\")"
   ]
  },
  {
   "cell_type": "markdown",
   "id": "20851f61",
   "metadata": {},
   "source": [
    "Unfortunately, the standard linear regression is unable to compute statistics for 16 out of 74 variants\n",
    "because of high correlations -- we miss also one of the causals --\n",
    "and the joint model gives next to useless\n",
    "results for the remaining SNPs as the effects are split between all correlated\n",
    "SNPs simultaneously, whereas in reality there are only three causals here.\n",
    "Technically, the joint model would work, if we had a large enough sample size, but for many SNPs\n",
    "with high correlations, those sample sizes would need to be unrealistically large."
   ]
  },
  {
   "cell_type": "code",
   "execution_count": 16,
   "id": "1e0b50eb",
   "metadata": {
    "Rmd_chunk_options": "eval = F, include = F",
    "kernel": "R",
    "tags": [
     "report_cell"
    ]
   },
   "outputs": [],
   "source": [
    "#Write files for FINEMAP\n",
    "data.name = \"APOE_1\"\n",
    "FM.path.1 = paste0(\"FINEMAP/FINEMAP_\",data.name)\n",
    "FM.path.2 = paste0(\"FINEMAP_\",data.name)\n",
    "write(R, ncol = ncol(R), file = paste0(FM.path.1,\".ld\"))\n",
    "write.table(cbind(rsid = as.numeric(1:p), chromosome = rep(19,p), position = info[,2],\n",
    "                  allele1 = info[,3], allele2 = info[,4],\n",
    "                  maf = apply( cbind(info[,5], 1-info[,5]), 1, min),\n",
    "                  beta = res.1[1,], se = res.1[2,]),\n",
    "            file = paste0(FM.path.1,\".z\"), quote = F, row.names = F)\n",
    "cat(\"z;ld;snp;config;cred;log;n_samples\\n\", file = paste0(FM.path.1,\".master\"))\n",
    "cat(paste0(FM.path.2,c(\".z;\",\".ld;\",\".snp;\",\".config;\",\".cred;\",\".log;\"),collapse = \"\"),n,\"\\n\",\n",
    "    sep =\"\",file = paste0(FM.path.1,\".master\"), append = T)"
   ]
  },
  {
   "cell_type": "markdown",
   "id": "63e27a1f",
   "metadata": {},
   "source": [
    "A more robust way is to use **stepwise forward selection** (also called **iterative conditioning**, or\n",
    "**conditional analysis**) to build iteratively a joint model for a small subset $S$ of SNPs by\n",
    "choosing one SNP at a time to be included in $S$.\n",
    "This approach is made popular by [GCTA](https://cnsgenomics.com/software/gcta/#Overview)'s\n",
    "Conditional & joint (COJO) analysis of GWAS results.\n",
    "The algorithm works as follows\n",
    "\n",
    "```\n",
    "initially S is empty\n",
    "repeat until all P-values outside S > threshold\n",
    "  add SNP with the lowest P-value to S\n",
    "  update P-values of all SNPs 'l' outside S using joint model Y ~ X.S + X.l\n",
    "end repeat\n",
    "```\n",
    "After the algorithm finishes,\n",
    "$S$ contains a set of SNPs whose P-values in the joint model with their\n",
    "predecessors in $S$ are below the given threshold, and there are no additional SNPs with this\n",
    "property outside $S$.\n",
    "\n",
    "Idea is that $S$ will only contain one of the SNPs that are tagging similarly the causals because\n",
    "when two such SNPs are simultaneously in the model, then they don't have low P-values anymore, which is\n",
    "saying that the second one is not needed *after the first one is already in the model*.\n",
    "This *conditioning* on the current contents of $S$ gives the procedure the\n",
    "name of iterative conditioning / conditional analysis.\n",
    "The name we use here, *stepwise forward selection*, means that we proceed *forwards* from the empty\n",
    "model, step-by-step, where at each step one SNP can be selected to be included in S.\n",
    "(*Backward selection* would start with all variables in the model and would proceed by eliminating\n",
    "them one-by-one. This would not be a feasible strategy when there are\n",
    "a lot of candidate variables available.)\n",
    "\n",
    "On the other hand,\n",
    "if there are two causal variants in the region, then the P-value of a SNP tagging primarily\n",
    "the second causal variant will remain low after we condition on the top-SNP that tags primarily\n",
    "the first causal signal. Hence both SNPs may be included in $S$.\n",
    "Sometimes the P-value of the second SNP may even get much lower after the first SNP is included in\n",
    "the model, if the two SNPs were masking each other in their marginal effects.\n",
    "Slide 18 has an example of such a case from a [Parkinson's disease locus 4q22/*SNCA*](http://hmg.oxfordjournals.org/content/20/2/345.long).\n",
    "\n",
    "Thus, when stepwise selection includes several variants in $S$, it suggests that either there are\n",
    "multiple causal variants in the region, or at least we need more than one variant to tag\n",
    "well a single causal variant in the region, e.g., because the causal variant is not genotyped.\n",
    "\n",
    "Let's write a function that does the stepwise selection\n",
    "and produces a plot of P-values after each step\n",
    "\n",
    "* showing the newly chosen SNP in red,\n",
    "\n",
    "* showing the preceding SNPs in $S$ in gray,\n",
    "\n",
    "* highlighting the true causals with blue."
   ]
  },
  {
   "cell_type": "code",
   "execution_count": 17,
   "id": "9c899ac3",
   "metadata": {
    "kernel": "R",
    "tags": [
     "report_cell"
    ]
   },
   "outputs": [],
   "source": [
    "stepwise.fwd <- function(y, X, p.thresh = 1e-4, plot.path = T, ring.i = NULL){\n",
    "  #Does stepwise forward selection where at most one variant is included in S at each iteration\n",
    "  ## INPUT\n",
    "  # y, quantitative trait for n individuals\n",
    "  # X, genotypes for n individuals x p SNPs\n",
    "  # p.thresh, P-value threshold that is used for deciding whether to include variant in S\n",
    "  # plot.path, TRUE / FALSE, whether produces a plot of every step of the algorithm\n",
    "  # ring.i, set of indexes of SNPs that should always be highlighted in plots by ringing\n",
    "  ## OUTPUT\n",
    "  # chosen.i, indexes of chosen variants in S,\n",
    "  # chosen.p, the P-values at the iteration when each chosen variant was chosen,\n",
    "  # next.p, the smallest P-value left outside S when finished.\n",
    "\n",
    "  p = ncol(X) #number of SNPs\n",
    "  col.new = \"red\"\n",
    "  col.old = \"gray\"\n",
    "  col.ring = \"dodgerblue\"\n",
    "  pval = apply(X, 2, function(x){summary(lm(y ~ x))$coeff[2,4]}) #start from marginal P-values\n",
    "  cols = rep(\"black\", p)\n",
    "  pchs = rep(1, p)\n",
    "  chosen.i = c() #collect here the chosen SNPs\n",
    "  chosen.p = c() #collect here the P-values from the iteration where the choice was made\n",
    "  if(plot.path) {\n",
    "    par(mfrow = c(1,3))\n",
    "    par(mar = c(1,2,4,0.1))\n",
    "    txt = \"Initial state\"\n",
    "    plot(-log10(pval), xaxt = \"n\", xlab = \"\", ylab = \"-log10P\",\n",
    "         main = txt, col = cols)\n",
    "    if(!is.null(ring.i)) points(ring.i, -log10(pval[ring.i]), cex = 2, lwd = 1.4, col = col.ring) #highlight\n",
    "    abline(h = -log10(p.thresh), lty = 2, col = \"red\")\n",
    "  }\n",
    "  ii = 0 #iteration index\n",
    "  while( min(pval) < p.thresh ){ #continue as long as something is below the threshold\n",
    "    ii = ii + 1\n",
    "    chosen.i[ii] = which.min(pval)[1] # add 1 SNP with min P-val to the chosen ones...\n",
    "    chosen.p[ii] = pval[chosen.i[ii]] #... and store its P-value at this iteration.\n",
    "    #test other SNPs except the already chosen ones -- and include the chosen ones as covariates\n",
    "    tmp = apply(X[,-chosen.i], 2, function(x){summary(lm(y ~ x + X[,chosen.i]))$coeff[2,4]})\n",
    "    pval[-chosen.i] = tmp # we have P-values for other SNPs except already chosen ones in 'tmp'\n",
    "    if(plot.path) {\n",
    "      pval[chosen.i] = chosen.p # add causals with P-values temporarily for plotting\n",
    "      cols[chosen.i] = col.old # earlier chosen remain gray --\n",
    "      cols[chosen.i[ii]] = col.new # -- the one newly chosen will be red\n",
    "      pchs[chosen.i[ii]] = 19 #solid for chosen ones\n",
    "      txt = paste0(ii,\": chose \",chosen.i[ii])\n",
    "      plot(-log10(pval), xaxt = \"n\", xlab = \"\", ylab = \"-log10P\",\n",
    "           main = txt, col = cols, pch = pchs)\n",
    "      if(!is.null(ring.i)) points(ring.i,-log10(pval[ring.i]), cex = 2, lwd = 1.4, col = col.ring)\n",
    "      abline(h = -log10(p.thresh), lty = 2, col = \"red\")\n",
    "    }\n",
    "    pval[chosen.i] = 1 #mark chose ones by P-value = 1 for the while-loop condition\n",
    "  }\n",
    "  return(list(chosen.i = chosen.i, chosen.p = chosen.p, next.p = min(pval)))\n",
    "}"
   ]
  },
  {
   "cell_type": "markdown",
   "id": "a2f74938",
   "metadata": {},
   "source": [
    "We use a fairly liberal threshold of P=1e-4 here for two reasons:\n",
    "\n",
    "1. We want the set $S$ to fully explain the association pattern in the region so that\n",
    "no peaks of P-values remain.\n",
    "\n",
    "2. When we know that there is a robust GWS association in the region, then the variants in the region\n",
    "have a higher prior probability to be associated than random variants in the genome.\n",
    "\n",
    "There is no consensus value to use at stepwise conditioning. Sometimes it is run with the GWS-level of 5e-8,\n",
    "and sometimes continued until P > 0.05.\n",
    "Luckily, the path of the algorithm doesn't depend on the threshold used,\n",
    "so one can also cut the path later to be more stringent as needed for any particular application."
   ]
  },
  {
   "cell_type": "code",
   "execution_count": 18,
   "id": "b7fad02b",
   "metadata": {
    "Rmd_chunk_options": "fig.height=3, fig.width=9",
    "kernel": "R",
    "tags": [
     "report_cell"
    ]
   },
   "outputs": [],
   "source": [
    "step.1 = stepwise.fwd(y.1, X, p.thresh = 1e-4, plot.path = T, ring.i = c.ind.1)"
   ]
  },
  {
   "cell_type": "markdown",
   "id": "bb9fb2b3",
   "metadata": {},
   "source": [
    "Here the stepwise selection worked well in the sense that it managed to pick exactly the\n",
    "three causal variants. Note also how the P-values of true causal variants 7 and 51 get smaller\n",
    "in steps 1 and 2, respectively, compared to the P-values from the previous iteration.\n",
    "This shows how conditioning on the other causal variants can reveal the true causal effects more clearly.\n",
    "\n",
    "**Example 7.5: APOE.2 data.**\n",
    "Stepwise forward selection doesn't always work quite so nicely:"
   ]
  },
  {
   "cell_type": "code",
   "execution_count": 19,
   "id": "688e1e99",
   "metadata": {
    "Rmd_chunk_options": "fig.height=3, fig.width=9",
    "kernel": "R",
    "tags": [
     "report_cell"
    ]
   },
   "outputs": [],
   "source": [
    "set.seed(20)\n",
    "c.ind.2 = c(23,36,51)\n",
    "lambda = rep(0, p)\n",
    "lambda[c.ind.2] = 0.4\n",
    "y.2 = X %*% lambda + rnorm(n, 0, sqrt(1-var(X %*% lambda)) )\n",
    "res.2 = apply(X, 2, function(x){summary(lm(y.2 ~ x))$coeff[2,c(1,2,4)]})\n",
    "step.2 = stepwise.fwd(y.2, X, p.thresh = 1e-4, plot.path = T, ring.i = c.ind.2)"
   ]
  },
  {
   "cell_type": "markdown",
   "id": "9a4eb6d8",
   "metadata": {},
   "source": [
    "Let's see how the chosen variants 20 and 66 are related to the causal ones 23, 36 and 51:"
   ]
  },
  {
   "cell_type": "code",
   "execution_count": 20,
   "id": "50082006",
   "metadata": {
    "kernel": "R",
    "tags": [
     "report_cell"
    ]
   },
   "outputs": [],
   "source": [
    "ind = c(step.2$chosen.i, c.ind.2)\n",
    "R[ind,ind]"
   ]
  },
  {
   "cell_type": "markdown",
   "id": "8ce13993",
   "metadata": {},
   "source": [
    "It seems that none of the causals is very highly tagged by either of the chosen ones, but all\n",
    "causals show considerable correlation with the chosen ones. Let's check whether the chosen\n",
    "set explains the phenotype similarly to the causal variants."
   ]
  },
  {
   "cell_type": "code",
   "execution_count": 21,
   "id": "9a2987d8",
   "metadata": {
    "kernel": "R",
    "tags": [
     "report_cell"
    ]
   },
   "outputs": [],
   "source": [
    "lm.chosen = lm( y.2 ~ X[,step.2$chosen.i]) #chosen SNPs 20 and 66\n",
    "summary(lm.chosen)\n",
    "lm.causal = lm( y.2 ~ X[,c.ind.2]) #causal SNPs 23, 36, 51\n",
    "summary(lm.causal)"
   ]
  },
  {
   "cell_type": "markdown",
   "id": "409b25e5",
   "metadata": {},
   "source": [
    "The chosen variants explain about 12.4% (R^2-adj.) of the trait variance whereas the three causals\n",
    "together explain about 15.0%.\n",
    "Note that we compare the adjusted-R^2 measure which attempts to take into account the\n",
    "number of parameteres in the models whereas multiple-R^2 tends to always favor model with more predictors.\n",
    "Another way to compare models with possibly different numbers of parameters is\n",
    "the [Bayesian Information Criterion](https://en.wikipedia.org/wiki/Bayesian_information_criterion)\n",
    "(BIC) that penalizes models for additional parameters.\n",
    "In short, a lower value of BIC suggests a better model."
   ]
  },
  {
   "cell_type": "code",
   "execution_count": 22,
   "id": "2f6d1965",
   "metadata": {
    "kernel": "R",
    "tags": [
     "report_cell"
    ]
   },
   "outputs": [],
   "source": [
    "cbind(chosen = BIC(lm.chosen), causal = BIC(lm.causal))"
   ]
  },
  {
   "cell_type": "markdown",
   "id": "302103c7",
   "metadata": {},
   "source": [
    "We see that also BIC favors the true causal model over the one chosen by the stepwise selection\n",
    "(23 units in BIC is a clear difference).\n",
    "\n",
    "What if we put all 5 variants in the same model?"
   ]
  },
  {
   "cell_type": "code",
   "execution_count": 23,
   "id": "eceaa598",
   "metadata": {
    "kernel": "R",
    "tags": [
     "report_cell"
    ]
   },
   "outputs": [],
   "source": [
    "lm.joint = lm( y.2 ~ X[,ind]) #all 5 SNPs\n",
    "summary(lm.joint)"
   ]
  },
  {
   "cell_type": "markdown",
   "id": "12fd0705",
   "metadata": {},
   "source": [
    "We see that, in this joint model,\n",
    "the two non-causals (20,66) picked by conditional analysis are not needed in the model once\n",
    "we have the causals there.\n",
    "(This model explains 15.1% while model with 3 causals already explained 15.0%.)\n",
    "\n",
    "\n",
    "We conclude that even though the stepwise selection picked a model that had a reasonable explanatory power,\n",
    "the model comparison shows that the chosen model has a statistically worse fit than the true causal model.\n",
    "Let's next move to recent work on fine-mapping methods to see how we can improve\n",
    "the search and quantification of causal variants."
   ]
  },
  {
   "cell_type": "code",
   "execution_count": 24,
   "id": "73fd46a6",
   "metadata": {
    "Rmd_chunk_options": "eval = F, include = F",
    "kernel": "R",
    "tags": [
     "report_cell"
    ]
   },
   "outputs": [],
   "source": [
    "#Write files for FINEMAP\n",
    "res = apply(X, 2, function(x){summary(lm(y.2 ~ x))$coeff[2,1:2]})\n",
    "data.name = \"APOE_2\"\n",
    "FM.path.1 = paste0(\"FINEMAP/FINEMAP_\",data.name)\n",
    "FM.path.2 = paste0(\"FINEMAP_\",data.name)\n",
    "write(R, ncol = ncol(R), file = paste0(FM.path.1,\".ld\"))\n",
    "write.table(cbind(rsid = 1:p, chromosome = rep(19,p), position = info[,2],\n",
    "                  allele1 = info[,3], allele2 = info[,4],\n",
    "                  maf = apply( cbind(info[,5], 1-info[,5]), 1, min),\n",
    "                  beta = res.2[1,], se = res.2[2,]),\n",
    "            file = paste0(FM.path.1,\".z\"), quote = F, row.names = F)\n",
    "cat(\"z;ld;snp;config;cred;log;n_samples\\n\", file = paste0(FM.path.1,\".master\"))\n",
    "cat(paste0(FM.path.2,c(\".z;\",\".ld;\",\".snp;\",\".config;\",\".cred;\",\".log;\"),collapse = \"\"),n,\"\\n\",\n",
    "    sep =\"\",file = paste0(FM.path.1,\".master\"), append = T)"
   ]
  },
  {
   "cell_type": "markdown",
   "id": "d9b2051b",
   "metadata": {},
   "source": [
    "### 7.5 Fine-mapping\n",
    "\n",
    "When we **fine-map** a GWAS region, our goal is to identify the set of causal variants $C$.\n",
    "Since high levels of LD among candidate variants often makes it impossible to give a definite answer\n",
    "based purely on statistical evidence, our answers will be probabilistic.\n",
    "In particular, we work with\n",
    "\n",
    "* probability for variant $l$ to be one of the causal variants in the\n",
    "region, $p_l = P(l\\in C \\,|\\, \\textrm{Data})$.\n",
    "This is also called **posterior inclusion probability (PIP)**.\n",
    "\n",
    "* probability for a set $S$ of variants to be\n",
    "the **causal set / causal configuration** of variants in the region, $p_S = P(S = C\\, |\\, \\textrm{Data})$.\n",
    "\n",
    "* **credible sets** of causal variants which have the property that,\n",
    "with some fixed coverage, such as 95% probability,\n",
    "the credible set contains one of the causal variants or\n",
    "all of the causal variants, where the choice between these two\n",
    "definitions depends on the context.\n",
    "\n",
    "* probability distribution that the region contains\n",
    "$1,2,\\ldots K$ causal variants up to some value of $K$, typically $\\leq 20$.\n",
    "\n",
    "Note the difference between such quantities and the results from stepwise selection, which\n",
    "only included one set of variants, but did not try to estimate how likely each of those\n",
    "variants is to be a causal variant *given the LD patterns and other variants in the region*.\n",
    "Even if variant has very low marginal P-value, if it shares the signal with 10 other highly correlated\n",
    "variants, then its PIP will likely be $\\leq 0.1$ and its credible set will contain all its 10\n",
    "LD-friends, neither of which property can be seen from the output of stepwise selection.\n",
    "\n",
    "A recent review of fine-mapping methods is given by [Schaid et al.](https://www.nature.com/articles/s41576-018-0016-z)\n",
    "A common theme is a use of a Bayesian model that allows quantifying the probabilities\n",
    "of causality for each set and each variant, under the assumptions that all causal variants\n",
    "are included in the analysis and that there are no interaction effects between them.\n",
    "\n",
    "Slides 21-30 have some more details of the model behind a widely-used\n",
    "[FINEMAP](http://www.christianbenner.com/) software, written by Christian Benner at FIMM, Helsinki.\n",
    "Let's see what happens when FINEMAP\n",
    "is run on our two data sets APOE.1 and APOE.2 where we observed varying success with stepwise selection."
   ]
  },
  {
   "cell_type": "markdown",
   "id": "5bd0c686",
   "metadata": {},
   "source": [
    "#### FINEMAP on APOE.1\n",
    "\n",
    "FINEMAP gives three output files:\n",
    "\n",
    "* **.snp** includes summary data (probabilities and causal effect sizes) for each SNP.\n",
    "\n",
    "* **.config** includes list of most probable sets of causal variants, with their probabilities and variance\n",
    "explained.\n",
    "\n",
    "* **.cred3** includes credible sets for 3 causal variants corresponding to the top-configuration in .config file.\n",
    "\n",
    "Let's read in FINEMAP's results for individual SNPs and print some columns."
   ]
  },
  {
   "cell_type": "code",
   "execution_count": 25,
   "id": "3290d333",
   "metadata": {
    "kernel": "R",
    "tags": [
     "report_cell"
    ]
   },
   "outputs": [],
   "source": [
    "fm.path = \"https://www.mv.helsinki.fi/home/mjxpirin/GWAS_course/material/FINEMAP/FINEMAP_APOE_\"\n",
    "fm.1.snp = read.table(paste0(fm.path,\"1.snp\"), as.is = T, header = T)\n",
    "fm.1.snp[1,]\n",
    "fm.1.snp[1:10,c(1,11,13:16)]"
   ]
  },
  {
   "cell_type": "markdown",
   "id": "3ce9e403",
   "metadata": {},
   "source": [
    "Here `prob` is the PIP, i.e., probability that this is one of the causal variants, `mean`\n",
    "is the estimated allelic causal effect $\\lambda$,\n",
    "averaged over all possible causal sets and `mean_incl`\n",
    "is the estimate of $\\lambda$ over those causal sets in which this SNP is included.\n",
    "\n",
    "The three simulated causals were 7, 37 and 51.\n",
    "The first is labelled as a definite causal with PIP ~ 100%.\n",
    "The variant 51 cannot be as perfectly singled out from\n",
    "the other correlated variant 52, but gets PIP of ~ 50%.\n",
    "The variant 37 is sharing its effect with several other correlated variants and has a PIP of only 11%.\n",
    "The causal effects in `mean_incl` seem estimating the true value of 0.4 given their\n",
    "uncertainty as measured by posterior SD.\n",
    "\n",
    "Let's plot the marginal GWAS P-value and FINEMAP's PIPs, and highlight the true causal\n",
    "variants."
   ]
  },
  {
   "cell_type": "code",
   "execution_count": 26,
   "id": "e2948670",
   "metadata": {
    "Rmd_chunk_options": "fig.height = 4, fig.width = 9",
    "kernel": "R",
    "tags": [
     "report_cell"
    ]
   },
   "outputs": [],
   "source": [
    "par(mfrow = c(1,2))\n",
    "par(mar = c(4.5,4.5,3,1))\n",
    "plot(-log10(res.1[3,]), xlab = \"SNP\", ylab = \"-log10 P\", main = \"MARGINAL GWAS APOE.1\")\n",
    "points(c.ind.1, -log10(res.1[3,c.ind.1]), cex = 2, lwd = 1.4, col = \"dodgerblue\")\n",
    "plot(fm.1.snp$index, fm.1.snp$prob, xlab = \"SNP\", ylab = \"prob of causality\",main = \"FINEMAP APOE.1\")\n",
    "i = which(fm.1.snp$index %in% c.ind.1)\n",
    "points(fm.1.snp[i,\"index\"], fm.1.snp[i,\"prob\"], cex = 2, lwd = 1.4, col = \"dodgerblue\")"
   ]
  },
  {
   "cell_type": "markdown",
   "id": "69413df6",
   "metadata": {},
   "source": [
    "FINEMAPping has given a clearer picture here as there are less variants with interesting\n",
    "PIPs after fine-mapping than there are in the marginal P-values.\n",
    "Note how FINEMAP is most certain that variant 7 is a causal variant whereas the marginal P-value\n",
    "was smaller for variant 37 than variant 7. A likely reason for this difference\n",
    "is that 37 has more LD-friends with which it is forced to share some probability of being causal,\n",
    "whereas 7 is less correlated with others, and hence more clearly a causal itself.\n",
    "Such information cannot be extracted from the marginal P-values.\n",
    "\n",
    "The results in .snp file are SNP-wise summaries over all candidate causal configurations\n",
    "that FINEMAP has evaluated.\n",
    "By default .config file reports top 50,000 of these configs.\n",
    "Let's show a few top ones, with posterior probabilities and estimated proportion of\n",
    "variance explained by the config ($h^2$, heritability)."
   ]
  },
  {
   "cell_type": "code",
   "execution_count": 27,
   "id": "1355ef97",
   "metadata": {
    "kernel": "R",
    "tags": [
     "report_cell"
    ]
   },
   "outputs": [],
   "source": [
    "fm.1.config = read.table(paste0(fm.path,\"1.config\"), as.is = T, header = T)\n",
    "fm.1.config[1:10,c(2:4,8:9)]"
   ]
  },
  {
   "cell_type": "markdown",
   "id": "f494373a",
   "metadata": {},
   "source": [
    "Let's also see the credible sets given by FINEMAP."
   ]
  },
  {
   "cell_type": "code",
   "execution_count": 28,
   "id": "1898055a",
   "metadata": {
    "kernel": "R",
    "tags": [
     "report_cell"
    ]
   },
   "outputs": [],
   "source": [
    "fm.1.cred = read.table(paste0(fm.path,\"1.cred3\"), as.is = T, header = T)\n",
    "fm.1.cred[,-1]"
   ]
  },
  {
   "cell_type": "markdown",
   "id": "cfc64fda",
   "metadata": {},
   "source": [
    "For credible sets (with 3 causal variants), FINEMAP takes the top causal 3-SNP config (here 7,51,54),\n",
    "and then asks, for each variant in that set,\n",
    "which are the other candidates that could possibly replace that variant in this causal config.\n",
    "\n",
    "For example, column `cred_1` shows that the credible set $A_1 = \\{7\\}$ includes only SNP 7\n",
    "as it already covers 0.99999 of the posterior probability of being in the causal set with 51 and 54.\n",
    "In other words, the sum of\n",
    "probabilities of any other variant replacing 7 in this causal set, that additionally\n",
    "contains SNPs 51 and 54, is < 0.00001.\n",
    "\n",
    "In $A_{2}=\\{51,52\\}$ the correct causal variant 51 is the the best candidate\n",
    "but there is also a second candidate, 52, having slightly smaller\n",
    "probability than 51 to be the second causal variant.\n",
    "\n",
    "For the third credible set $A_{3}$, the picture is less clear and we need\n",
    "16 variants before we reach 95% credible set coverage. The true causal variant, 37,\n",
    "is the 3rd in the list.\n",
    "\n",
    "Credible set collects the most potential causal variants\n",
    "and is a place to search for known functional variants that could be responsible\n",
    "of the association signal.\n",
    "If the credible set is small enough, it also provides candidates to be taken\n",
    "further to experimental studies that could then unequivocally identify\n",
    "the causal variant among these candidates through biological function.\n",
    "The size of the credible set depends\n",
    "mainly on the GWAS sample size and the LD-structure, where large sample size\n",
    "and lower levels of LD both decrease the size of the credible sets."
   ]
  },
  {
   "cell_type": "markdown",
   "id": "e25bc314",
   "metadata": {},
   "source": [
    "#### FINEMAP on APOE.2\n",
    "\n",
    "On APOE.2 data causals were 23, 36 and 51. but due to LD, there were many other variants that\n",
    "had much lower P-values than the true causals.\n",
    "Conditional analysis chose 20 and 66, which was a clearly worse fit than the true causal set.\n",
    "Let's see FINEMAP's results."
   ]
  },
  {
   "cell_type": "code",
   "execution_count": 29,
   "id": "530ceaaa",
   "metadata": {
    "Rmd_chunk_options": "fig.height = 4, fig.width = 9, echo = F",
    "kernel": "R",
    "tags": [
     "report_cell"
    ]
   },
   "outputs": [],
   "source": [
    "fm.2.snp = read.table(paste0(fm.path,\"2.snp\"), as.is = T, header = T)\n",
    "#fm.2.snp[1:10,c(1,11,17:20)]\n",
    "pchs = rep(1,p)\n",
    "par(mfrow = c(1,2))\n",
    "par(mar = c(4.5,4.5,3,1))\n",
    "plot(-log10(res.2[3,]), xlab = \"SNP\", ylab = \"-log10 P\", pch = pchs, main = \"MARGINAL GWAS APOE.2\")\n",
    "points(c.ind.2, -log10(res.2[3,c.ind.2]), cex = 2, lwd = 1.4, col = \"dodgerblue\")\n",
    "plot(fm.2.snp$index, fm.2.snp$prob, xlab = \"SNP\", ylab = \"prob of causality\",\n",
    "     pch = pchs, main = \"FINEMAP APOE.2\", ylim = c(0,1))\n",
    "i = which(fm.2.snp$index %in% c.ind.2)\n",
    "points(fm.2.snp[i,\"index\"], fm.2.snp[i,\"prob\"], cex = 2, lwd = 1.4, col = \"dodgerblue\")"
   ]
  },
  {
   "cell_type": "markdown",
   "id": "88021735",
   "metadata": {},
   "source": [
    "We see that FINEMAP gives PIPs between 20% and 50% to the true causals, and\n",
    "that there are two non-causals getting even higher PIPs. Even if the true causals are not the absolute top PIPs,\n",
    "FINEMAP results are still much more robust for the true causal variants than the marginal P-values.\n",
    "\n",
    "Let's check the top 15 configs."
   ]
  },
  {
   "cell_type": "code",
   "execution_count": 30,
   "id": "ddef58f7",
   "metadata": {
    "Rmd_chunk_options": "echo = F",
    "kernel": "R",
    "tags": [
     "report_cell"
    ]
   },
   "outputs": [],
   "source": [
    "fm.2.config = read.table(paste0(fm.path,\"2.config\"), as.is = T, header = T)\n",
    "fm.2.config[1:15,c(2:4,8:9)]"
   ]
  },
  {
   "cell_type": "markdown",
   "id": "3f3a48c7",
   "metadata": {},
   "source": [
    "The top FINEMAP config is (24,42,51) whereas the true causal config (23,36,51)\n",
    "has rank 12. Let's compare statistical evidence between the top FINEMAP config,\n",
    "the true causal config and the conditional analysis config (20,66)."
   ]
  },
  {
   "cell_type": "code",
   "execution_count": 31,
   "id": "c211fe0a",
   "metadata": {
    "kernel": "R",
    "tags": [
     "report_cell"
    ]
   },
   "outputs": [],
   "source": [
    "lm.fm = lm(y.2 ~ X[,c(24,42,51)])\n",
    "lm.causal = lm(y.2 ~ X[,c(23,36,51)])\n",
    "lm.step = lm(y.2 ~ X[,c(20,66)])\n",
    "data.frame(finemap = BIC(lm.fm), true_causal = BIC(lm.causal), stepwise = BIC(lm.step))"
   ]
  },
  {
   "cell_type": "markdown",
   "id": "8fa126b3",
   "metadata": {},
   "source": [
    "The top config from FINEMAP happens to be slightly better description of\n",
    "the data than the true causal config, which is a result of statistical sampling\n",
    "effects in this finite sample data set. We also see that the conditional analysis\n",
    "has failed badly here compared to FINEMAP in terms of explaining the data (26 units difference in BIC).\n",
    "\n",
    "We conclude that FINEMAP has made an efficient search throught the space of configurations\n",
    "and identified a config with more statistical evidence than the true causal config.\n",
    "Given the data available, we can't expect to get better fine-mapping results from\n",
    "statistical evidence alone."
   ]
  },
  {
   "cell_type": "markdown",
   "id": "d524cc2a",
   "metadata": {},
   "source": [
    "#### 7.5.1 Fine-mapping assuming one causal variant\n",
    "\n",
    "Sometimes we do not have access to the original GWAS data and therefore\n",
    "we cannot accurately estimate LD that corresponds to the GWAS summary statistics.\n",
    "This means that we can't do full fine-mapping with FINEMAP or other similar methods\n",
    "that require LD information.\n",
    "In these cases, it is still possible to compute, for each variant in the region,\n",
    "the posterior probability of causality under the assumption that **there is at most\n",
    "one causal variant in the region and it is included in the study**.\n",
    "The approach was introduced by [Maller et al. 2012](https://www.nature.com/articles/ng.2435),\n",
    "together with the idea of credible sets.\n",
    "\n",
    "Let's mark by $H_l, l=1,\\ldots,p$ the hypothesis that says $l$ is the causal variant and let\n",
    "$H_0$ be the null hypothesis that says there is no causal variant in the region.\n",
    "Mark by $H_C = H_1 \\cup \\ldots \\cup H_p$ the hypothesis that says that there is exactly\n",
    "one causal variant in the region.\n",
    "We assume that, *a priori*, each variant is equally likely to be the causal variant, i.e.,\n",
    "$P(H_l\\,|\\,H_C) = \\frac{1}{p}$.\n",
    "\n",
    "It follows that the regional Bayes factor is\n",
    "$$\\textrm{BF}_{\\textrm{reg}} = \\frac{P(\\textrm{Data}\\, | \\, H_C)}{P(\\textrm{Data}\\, | \\, H_0)}=\n",
    "\\frac{\\sum_{l=1}^p \\frac{1}{p} P(\\textrm{Data}\\, | \\, H_l)}{P(\\textrm{Data}\\, | \\, H_0)}=\n",
    "\\frac{1}{p} \\sum_{l=1}^p \\textrm{BF}_l,$$\n",
    "where $\\textrm{BF}_l$ is the single variant Bayes factor that does not depend on other variants\n",
    "or the LD structure of the region. In practice, it can be computed as Approximate Bayes Factor (ABF)\n",
    "from GWAS summary statistics, as explained in Section 4 of the course material.\n",
    "\n",
    "The posterior probability for variant $l$ is then\n",
    "$$P(H_l \\, | \\, \\textrm{Data}, H_C) = \\frac{P(H_l\\, | \\, H_C) P(\\textrm{Data} \\, | \\, H_l)}\n",
    "{P(\\textrm{Data} \\, | \\, H_C)} = \\frac{1}{p} \\frac{\\textrm{BF}_l}{\\textrm{BF}_{\\textrm{reg}}}\n",
    "=\\frac{\\textrm{BF}_l}{\\sum_{k=1}^p \\textrm{BF}_k} \\propto  \\textrm{BF}_l.$$\n",
    "Thus, the posterior probability that SNP $l$ is the single causal variant in the region,\n",
    "under the assumption that there is exactly one causal variant, is proportional\n",
    "to the single-SNP Bayes factor of SNP $l$.\n",
    "\n",
    "In practice, we get the posterior probabilities by computing ABF for each variant and\n",
    "then normalizing them to sum to one.\n",
    "This  derivation  is independent of LD in the region because, under the assumption of only a\n",
    "single causal SNP, the marginal effect at the causal SNP is the causal effect itself, independent\n",
    "of the LD with other variants.\n",
    "With significantly associated but also highly correlated SNPs,\n",
    "we are left with the fact that any of them could be the causal.\n",
    "This will manifest through high single-SNP and regional BFs,\n",
    "but with the posterior distributed fairly evenly across multiple SNPs.\n",
    "\n",
    "We have assumed that the causal SNP is included in the study. When this does not hold,\n",
    "the above method is still applicable if there is a good surrogate SNP for the causal effect.\n",
    "In the presence of multiple causal SNPs, this approach is no longer optimal. It will tend\n",
    "to pick out the SNP with the best marginal effect, which may or may not be one of the causal\n",
    "SNPs, as we have seen before.\n",
    "\n",
    "\n",
    "**Example 7.6: APOE.3 data.** Let's make yet another phenotype data set for\n",
    "the *APOE* region genotype data that we currently\n",
    "have in `X` matrix. Now we make one causal variant, SNP 42."
   ]
  },
  {
   "cell_type": "code",
   "execution_count": 32,
   "id": "83834918",
   "metadata": {
    "Rmd_chunk_options": "fig.width = 9, fig.height = 4",
    "kernel": "R",
    "tags": [
     "report_cell"
    ]
   },
   "outputs": [],
   "source": [
    "set.seed(6)\n",
    "c.ind = c(42)\n",
    "lambda = rep(0, p)\n",
    "lambda[c.ind] = 0.3\n",
    "y.3 = X %*% lambda + rnorm(n, 0, sqrt(1-var(X %*% lambda)) )\n",
    "res.3 = apply(X, 2, function(x){summary(lm(y.3 ~ x))$coeff[2,c(1,2,4)]}) #runs GWAS in the region\n",
    "tau = 0.2 #For computing ABFs\n",
    "b.est = res.3[1,]\n",
    "se = res.3[2,]\n",
    "log.abf = dnorm(b.est, 0 , sqrt(tau^2 + se^2), log = T) - dnorm(b.est, 0, se, log = T)\n",
    "abf = exp(log.abf)\n",
    "posterior = abf/sum(abf)\n",
    "#Let's see which variants have probability > 1%\n",
    "ind = which(posterior > 0.01)\n",
    "ind = ind[order(posterior[ind], decreasing = T)] #from largest to smallest\n",
    "data.frame(SNP = ind, prob = posterior[ind], Pvalue = res.3[3,ind])\n",
    "#Let's plot the original -log10 P-values and posterior probabilities\n",
    "par(mfrow = c(1,2))\n",
    "cols = rep(\"gray\", p)\n",
    "cols[ind] = \"indianred2\"\n",
    "plot(-log10(res.3[3,]), xlab = \"SNP\", ylab = \"-log10(P-value)\", main = \"APOE.3\",\n",
    "     cex = 0.7, col = cols, pch = 19)\n",
    "plot(posterior, xlab = \"SNP\", ylab = \"posterior probability\", main = \"\",\n",
    "     cex = 0.7, col = cols, pch = 19)"
   ]
  },
  {
   "cell_type": "markdown",
   "id": "6c9638d8",
   "metadata": {},
   "source": [
    "We see that the 3 smallest P-values also have the largest posterior probabilities\n",
    "of being causal. The SNP 42 (78%) has about 4 times higher probability than SNP 36 (18%)\n",
    "and 50 times than SNP 30 (1.6%) of being the causal variant in the region\n",
    "(when we assume that there is only one causal variant).\n",
    "\n",
    "To determine the 95% credible set, we would include the SNPs with the highest posteriors\n",
    "until their cumulative sum is > 95%. Here this set would contain only\n",
    "SNPs 42 and 36 as their sum is already 78% + 18% = 96%.\n",
    "\n",
    "If we would have several conditionally independent association signals in the region,\n",
    "as returned by the stepwise forward search, then we could fine-map each of them separately.\n",
    "For this, we would compute the association statistics (beta and SE) by including the SNPs representing\n",
    "the other signals in the region as covariates,\n",
    "and then carry out the fine-mapping as above by assuming that there is only one\n",
    "causal variant left after conditioning on the other signals in the region\n",
    "(in Exercise 5.2 we do that for one signal conditioned on two others)."
   ]
  }
 ],
 "metadata": {
  "Rmd_chunk_options": {
   "author": "Matti Pirinen, University of Helsinki",
   "date": "Latest update: 24-Nov-2020, 1st version: 13-Feb-2019",
   "output": {
    "html_document": "default"
   },
   "title": "GWAS 7: Linkage disequilibrium (LD) and fine-mapping",
   "urlcolor": "blue"
  },
  "kernelspec": {
   "display_name": "R",
   "language": "R",
   "name": "ir"
  },
  "language_info": {
   "codemirror_mode": "r",
   "file_extension": ".r",
   "mimetype": "text/x-r-source",
   "name": "R",
   "pygments_lexer": "r",
   "version": "4.2.1"
  },
  "sos": {
   "kernels": [
    [
     "SoS",
     "sos",
     "",
     ""
    ],
    [
     "R",
     "ir",
     "",
     ""
    ],
    [
     "Markdown",
     "markdown",
     "",
     ""
    ]
   ]
  }
 },
 "nbformat": 4,
 "nbformat_minor": 5
}
