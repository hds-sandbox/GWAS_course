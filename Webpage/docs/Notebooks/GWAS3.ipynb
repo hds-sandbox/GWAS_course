{
 "cells": [
  {
   "cell_type": "code",
   "execution_count": 1,
   "id": "e8ab64aa",
   "metadata": {
    "Rmd_chunk_options": "setup, include=FALSE",
    "jupyter": {
     "output_hidden": true,
     "source_hidden": true
    },
    "kernel": "R",
    "tags": [
     "scratch"
    ]
   },
   "outputs": [],
   "source": [
    "knitr::opts_chunk$set(echo = TRUE)\n",
    "set.seed(19)"
   ]
  },
  {
   "cell_type": "markdown",
   "id": "2bb34530",
   "metadata": {},
   "source": [
    "This document is licensed under a\n",
    "[Creative Commons Attribution-ShareAlike 4.0 International License](https://creativecommons.org/licenses/by-sa/4.0/).\n",
    "\n",
    "The slide set referred to in this document is \"GWAS 3\".\n",
    "\n",
    "We saw previously how a strict significance threshold (like 5e-8) is needed\n",
    "in GWAS in order to avoid reporting false positives\n",
    "(i.e., null variants that reach the threshold).\n",
    "On the other hand, a strict threshold\n",
    "makes it relatively difficult to get even the true positives to reach the threshold.\n",
    "(In other words, we have many false negatives.)\n",
    "\n",
    "Next we will study the properties of the variants and study design\n",
    "that determine how likely we are to catch the true positives:\n",
    "We study the statistical power in GWAS. (See slides 1-7.)\n",
    "A review on the topic\n",
    "by [Sham and Purcell 2014](https://www.nature.com/articles/nrg3706).\n",
    "\n",
    "**Statistical power** of a statistical significance test\n",
    "is the probability that the test will reject the null hypothesis $H_0$\n",
    "(in GWAS, $H_0$ says that $\\beta=0$) at the given significance threshold\n",
    "when the data follow a specific *alternative hypothesis* $H_1$.\n",
    "In the GWAS setting, $H_1$ is specified by fixing the study design (total sample size,\n",
    "case and controls counts) and parameters describing the variant (MAF and effect size).\n",
    "\n",
    "To compute the P-value, we only needed to consider the null hypothesis $H_0$.\n",
    "For power analysis, we also need\n",
    "to define explicitly how the true effects look like, i.e.,\n",
    "we need a quantitative alternative hypothesis $H_1$.\n",
    "Of course, not all true effects are the same, and therefore power\n",
    "analysis is often represented as a power curve over a plausible range of\n",
    "parameter values."
   ]
  },
  {
   "cell_type": "markdown",
   "id": "23f1d7e4",
   "metadata": {},
   "source": [
    "#### 3.1 Test statistic under the alternative\n",
    "By assuming that the sampling distribution of effect size estimate $\\widehat{\\beta}$\n",
    "is Normal (which assumption is based on the Central Limit Theorem and works well for\n",
    "large sample sizes and common variants),\n",
    "we have that $\\widehat{\\beta} \\sim \\mathcal{N}(\\beta,\\textrm{SE}^2)$,\n",
    "where $\\beta$ is the true effect size and SE the standard error of the estimator.\n",
    "As we saw last week,\n",
    "it follows that under the null, i.e. when $\\beta=0$,\n",
    "the Wald's test statistic $z = \\widehat{\\beta}/\\textrm{SE}$\n",
    "is distributed approximately as $z\\sim \\mathcal{N}(0,1)$, which is used to derive a P-value.\n",
    "The other way to get a P-value is from the chi-square distribution\n",
    "as $z^2 \\sim \\chi^2_1$.\n",
    "We will often use the chi-square distribution\n",
    "because then we need to consider only the upper tail of the distribution to compute\n",
    "(the two-sided) P-value,\n",
    "and this makes visualization of the distibutions simpler than with the Normal distribution.\n",
    "\n",
    "What about if $\\beta \\neq 0$, that is, if the variant has a non-zero effect?\n",
    "Then $z\\sim \\mathcal{N}(\\beta/\\textrm{SE}, 1)$ and\n",
    "$z^2 \\sim \\chi^2_1((\\beta/\\textrm{SE})^2)$, which is called a chi-square distribution\n",
    "with 1 degree of freedom and non-centrality parameter NCP=$(\\beta/\\textrm{SE})^2$.\n",
    "When $\\beta=0$ this reduces to the standard *central* chi-square distribution $\\chi^2_1 = \\chi^2_1(0)$.\n",
    "\n",
    "**Example 3.1.** Let's illustrate these distributions by a simulation of\n",
    "GWAS results under the alternative and under the null.\n",
    "To save time,\n",
    "we don't do regressions with genotype-phenotype data\n",
    "but simulate the effect estimates directly\n",
    "from their known distributions.\n",
    "First, however, we need to find the standard error, and that we do by fitting one regression model.\n",
    "We will visualize the distributions both for the Wald statistic (having a Normal distribution)\n",
    "and for its square (having a chi-square distribution)."
   ]
  },
  {
   "cell_type": "code",
   "execution_count": 2,
   "id": "9dc6585b",
   "metadata": {
    "Rmd_chunk_options": "fig.height = 5, fig.width = 10",
    "kernel": "R",
    "tags": [
     "report_cell"
    ]
   },
   "outputs": [],
   "source": [
    "n = 500 #individuals\n",
    "p = 5000 #SNPs for both null and alternative\n",
    "f = 0.5 #MAF\n",
    "b.alt = 0.2 #effect size under the alternative hypothesis\n",
    "x = rbinom(n, 2, f) #genotypes at 1 SNP for n ind\n",
    "y = scale( rnorm(n) ) #random phenotype normalized to have sample sd=1\n",
    "se = summary( lm( y ~ x ) )$coeff[2,2] #pick se, and assume it stays constant and independent of beta\n",
    "b.hat.null = rnorm(p, 0, se) #estimates under null\n",
    "b.hat.alt = rnorm(p, b.alt, se)  #estimates under alternative\n",
    "\n",
    "par(mfrow=c(1,2))\n",
    "# Draw observed densities of z-scores\n",
    "plot(NULL, xlim = c(-3,6), ylim = c(0,0.5), xlab = \"z\",\n",
    "     ylab = \"density\", col = \"white\") #empty panel for plotting\n",
    "lines(density( (b.hat.null/se) ), col = \"black\", lwd = 2) #Wald stat for null variants\n",
    "lines(density( (b.hat.alt/se) ), col = \"red\", lwd = 2) #Wald stat for alternative variants\n",
    "# add theoretical densities for z-scores\n",
    "x.seq = seq(-3, 6, 0.01)\n",
    "lines(x.seq, dnorm(x.seq, 0, 1), col = \"blue\", lty = 2) #for null\n",
    "lines(x.seq, dnorm(x.seq, b.alt/se, 1), col = \"orange\", lty = 2) #for alternative\n",
    "\n",
    "# Draw observed densities of z^2\n",
    "plot(NULL, xlim = c(0,35), ylim = c(0,1), xlab = expression(z^2),\n",
    "     ylab = \"density\", col = \"white\") #empty panel for plotting\n",
    "lines(density( (b.hat.null/se)^2 ), col = \"black\", lwd = 2) #chi-square stat for null variants\n",
    "lines(density( (b.hat.alt/se)^2 ), col = \"red\", lwd = 2) #chi-square stat for alternative variants\n",
    "# Let's add theoretical densities of the chi-square distributions\n",
    "x.seq = seq(0, 35, 0.01)\n",
    "lines(x.seq, dchisq(x.seq, df = 1, ncp = 0), col = \"blue\", lty = 2) #ncp=0 for null\n",
    "lines(x.seq, dchisq(x.seq, df = 1, ncp = (b.alt/se)^2), col = \"orange\", lty = 2) #ncp = (beta/se)^2 for alternative\n",
    "legend(\"topright\", leg = c(\"NULL obs'd\",\"ALT obs'd\",\"NULL theor\",\"ALT theor\"),\n",
    "       col = c(\"black\",\"red\",\"blue\",\"orange\"),\n",
    "       lty = c(1,1,2,2), lwd = c(2,2,1,1) )\n",
    "#Let's add significance thresholds corresponding to 0.05 and 5e-8\n",
    "#By definition, the thresholds are always computed under the null.\n",
    "q.thresh = qchisq( c(0.05, 5e-8), df = 1, ncp = 0, lower = FALSE)\n",
    "abline(v = q.thresh, col = c(\"darkgreen\", \"springgreen\"), lty = 3)\n",
    "text( q.thresh+2, c(0.4,0.4), c(\"P<0.05\",\"P<5e-8\") )"
   ]
  },
  {
   "cell_type": "markdown",
   "id": "d228daff",
   "metadata": {},
   "source": [
    "Theoretical distributions match well with the observed ones so\n",
    "we trust that we now understand the relevant\n",
    "parameters also of the theoretical chi-square distribution.\n",
    "We also see that almost all of the alternative distribution is to the right of\n",
    "the significance threhsold of 0.05 but to the left of threshold 5e-8.\n",
    "Thus, we would discover almost all variants with these parameters at level 0.05\n",
    "but almost none at the genome-wide significance level of 5e-8.\n",
    "\n",
    "How to compute the exact proportion of the distribution to the right of a\n",
    "given threshold value?"
   ]
  },
  {
   "cell_type": "code",
   "execution_count": 3,
   "id": "0ff35a26",
   "metadata": {
    "kernel": "R",
    "tags": [
     "report_cell"
    ]
   },
   "outputs": [],
   "source": [
    "q.thresh = qchisq(c(0.05,5e-8), df = 1, ncp = 0, lower = FALSE) #repeating thresholds in chi-square units\n",
    "pchisq(q.thresh, df = 1, ncp = (b.alt/se)^2, lower = FALSE) #correspond to right tail probabilities"
   ]
  },
  {
   "cell_type": "markdown",
   "id": "8e8d3b95",
   "metadata": {},
   "source": [
    "So we have a probability of 90% to detect a variant at significance threshold 0.05,\n",
    "when effect size is 0.2 sd units of a quantitative phenotype,\n",
    "MAF is 50% and sample size is 500. This probability\n",
    "is also called statistical **power** corresponding to the given parameters\n",
    "(significance threshold, $\\beta$, MAF and $n$).\n",
    "On the other hand, with these parameters, we only have a power of 1.3% at\n",
    "the genome-wide significance level 5e-8.\n",
    "A frequentist interpretation is that we are likely to discover\n",
    "90 out of 100 variants having the parameters considered at the significance\n",
    "level 0.05 but only about 1 in 100 at the level 5e-8.\n",
    "\n",
    "**Question.** What is \"power\" under the null? This may be a confusing question\n",
    "since we typically use power to describe the ability to\n",
    "detect *non-zero effects*, but, technically, we can interpret this question\n",
    "as asking for the probability of getting a significant result when the\n",
    "null hypothesis holds.\n",
    "And, by definition, this probability is the significance threshold $\\alpha$,\n",
    "and does not depend on $n$ or MAF.\n",
    "Consequently, the power to detect any non-zero effect\n",
    "can never be less than $\\alpha$ and will get close to $\\alpha$\n",
    "for tiny effects ($\\beta \\approx 0$)\n",
    "which are almost indistinguishable from 0.\n",
    "\n",
    "Typically, we would like to design studies to have a good power (say at least 80%)\n",
    "to detect the types of variants that we are interested in. How can we do that?"
   ]
  },
  {
   "cell_type": "markdown",
   "id": "80f60be3",
   "metadata": {},
   "source": [
    "### 3.2 Ingredients of power\n",
    "\n",
    "The parameters affecting power are\n",
    "\n",
    "1. Sample size $n$; increasing sample size increases power\n",
    "because it increases accuracy of effect size estimate.\n",
    "\n",
    "2. Effect size $\\beta$; increasing the absolute value of effect size increases\n",
    "power because it increases difference from the null model.\n",
    "\n",
    "3. Minor allele frequency $f$; increasing MAF increases power because it increases accuracy of effect size estimate.\n",
    "\n",
    "4. Significance threshold $\\alpha$; increasing the threshold increases power because larger significance thresholds are easier to achieve.\n",
    "\n",
    "5. In case-control studies, the proportion of cases $\\phi$; moving $\\phi$\n",
    "closer to 0.5 increases power because it increases accuracy of effect size estimate.\n",
    "\n",
    "We'll soon discuss intuition why each of these parameters affects power.\n",
    "But let's first write down how these parameters and power are tied together.\n",
    "\n",
    "For a given significance level $\\alpha$, power is determined by\n",
    "the non-centrality parameter NCP$=(\\beta/\\textrm{SE})^2$ of the chi-square distribution.\n",
    "The mean of the distribution is 1+NCP; hence\n",
    "the larger the NCP, the larger the power, because the distribution moves to right with increasing NCP.\n",
    "We see that the NCP increases with $\\beta^2$  and this explains why\n",
    "increasing $|\\beta|$ increases power.\n",
    "We also see that the NCP increases as SE decreases and therefore we need\n",
    "to know how SE depends on $n$, $f$ and $\\phi$."
   ]
  },
  {
   "cell_type": "markdown",
   "id": "9b599e22",
   "metadata": {},
   "source": [
    "#### 3.2.1 Formulas for standard errors\n",
    "For the linear model\n",
    "$$y = \\mu + x\\beta + \\varepsilon,$$\n",
    "SE of $\\widehat{\\beta}$ is\n",
    "$$\\textrm{SE}_\\textrm{lin} = \\frac{\\sigma}{\\sqrt{\\textrm{Var}(x) n}} \\approx \\frac{\\sigma}{\\sqrt{2 f (1-f) n}},$$\n",
    "where the variance of genotype $x$ is, under Hardy-Weinberg\n",
    "equilibrium, approximately $2f(1-f)$, and $\\sigma$ is the standard deviation\n",
    "of the error term $\\varepsilon$: $\\sigma^2 = \\textrm{Var}(y) - \\beta^2 \\textrm{Var}(x).$\n",
    "This form for SE is a direct consequence of the variance\n",
    "estimate of the mean-centered linear model: $\\textrm{Var}(\\widehat{\\beta})=\\sigma^2/ \\sum_{i=1}^n x_i^2 .$\n",
    "\n",
    "In a typical QT-GWAS, the effects of variants on the total phenotypic variance are small (< 1%) and then we can\n",
    "assume that the error variance $\\sigma^2 \\approx \\textrm{Var}(y),$ which is 1 if the phenotype is processed\n",
    "by quantile normalisation or scaling of the residuals after regressing out the covariate effects.\n",
    "\n",
    "For *binary* case-control data analyzed by logistic regression,\n",
    "$$\\textrm{SE}_\\textrm{bin} \\approx \\frac{1}{\\sqrt{\\textrm{Var}(x) n \\phi (1-\\phi)}} \\approx \\frac{1}{\\sqrt{2 f (1-f) n \\phi (1-\\phi)}}.$$\n",
    "Thus, the difference to the linear model formula is that $\\sigma$ is replaced by 1\n",
    "and $n$ is replaced by the **effective sample size** $n \\phi (1-\\phi).$\n",
    "For derivation, see Appendix A of [Vukcevic et al. 2012](https://onlinelibrary.wiley.com/doi/full/10.1002/gepi.20576).\n",
    "\n",
    "Smaller SE means higher precision of the effect size estimate.\n",
    "Both of the formulas show how SE decreases with increasing sample size $n$,\n",
    "with increasing MAF $f$ and, for binary data, SE decreases as $\\phi$ gets closer\n",
    "to 0.5.\n",
    "These formulas work well for typical GWAS settings, but may not hold when\n",
    "some parameter ($n$ or $f$ or $\\phi(1-\\phi)$) gets close to zero.\n",
    "To know exactly when the formulas start to break down, it is best to do simulations.\n",
    "In particular, the formula may not be good for the rare variant testing ($f<0.001$).\n",
    "\n",
    "Now we can write down the NCPs of additive GWAS models as\n",
    "$$\\textrm{NCP}_\\textrm{lin} = (\\beta/\\textrm{SE}_\\textrm{lin})^2 \\approx 2 f (1-f) n \\beta^2/\\sigma^2 \\qquad \\textrm{ and }\n",
    "\\qquad \\textrm{NCP}_\\textrm{bin} = (\\beta/\\textrm{SE}_\\textrm{bin})^2 \\approx 2 f (1-f) n \\phi(1-\\phi) \\beta^2.$$\n",
    "\n",
    "Let's next discuss how and why each parameter affects the NCPs, and hence power,\n",
    "the way it does."
   ]
  },
  {
   "cell_type": "markdown",
   "id": "d2318713",
   "metadata": {},
   "source": [
    "#### 3.2.2 Sample size\n",
    "Out of the parameters affecting power, the sample size is most\n",
    "clearly under the control of study design.\n",
    "Therefore, it is the primary parameter by which we\n",
    "can design studies of sufficient power.\n",
    "\n",
    "Increasing $n$ decreases SE in the regression models in proportion to $1/\\sqrt{n}$.\n",
    "In the GWAS context, we can think that larger $n$ leads to\n",
    "more accurate estimate of the phenotypic means in each of the genotype classes.\n",
    "Therefore, as $n$ grows, we also have more accurate estimate of the phenotypic\n",
    "difference between the genotype classes, which means that we are\n",
    "better able to distinguish a true phenotypic\n",
    "difference between genotype groups from zero.\n",
    "In other words, we have a larger power\n",
    "to detect a genotype's effect on the phenotype.\n",
    "\n",
    "**Example 3.2.** Above we saw that with $n=500$ (and MAF = 0.5, $\\beta=0.2$) we had only\n",
    "1% power at significance level $\\alpha=$ 5e-8. Let's determine how large $n$ should be\n",
    "to achieve 90% power."
   ]
  },
  {
   "cell_type": "code",
   "execution_count": 4,
   "id": "99aa81b6",
   "metadata": {
    "kernel": "R",
    "tags": [
     "report_cell"
    ]
   },
   "outputs": [],
   "source": [
    "f = 0.5\n",
    "b.alt = 0.2\n",
    "sigma = sqrt(1 - 2*f*(1-f)*b.alt^2) #error sd after SNP effect is accounted for (see next part for explanation)\n",
    "ns = seq(500, 4000, 10) #candidate values for n\n",
    "ses = sigma/sqrt(ns*2*f*(1-f)) #SEs corresponding to each candidate n\n",
    "q.thresh = qchisq(5e-8, df = 1, ncp = 0, lower = F) #chi-sqr threshold corresp alpha=5e-8\n",
    "pwr = pchisq(q.thresh, df = 1, ncp=(b.alt/ses)^2, lower=F) #power at alpha=5e-8 for VECTOR of SE values\n",
    "plot(ns, pwr, col = \"darkgreen\", xlab = \"n\", ylab = \"power\",\n",
    "     main = paste0(\"QT sd=1; MAF=\",f,\"; beta=\",b.alt), t = \"l\", lwd = 1.5)\n",
    "abline(h = 0.9, lty = 2)\n",
    "#Let's output the first n that gives power >= 90%\n",
    "ns[min(which(pwr >= 0.9))]"
   ]
  },
  {
   "cell_type": "markdown",
   "id": "e31b9242",
   "metadata": {},
   "source": [
    "So, we need $n=2230$ in order to have power of 90%."
   ]
  },
  {
   "cell_type": "markdown",
   "id": "5e12240e",
   "metadata": {},
   "source": [
    "#### 3.2.3 Effect size and variance explained\n",
    "\n",
    "When effect size is $\\beta$ and MAF is $f$, then\n",
    "variance explained by the additive effect on the genotype is\n",
    "$\\textrm{Var}(x\\beta) = \\textrm{Var}(x) \\beta^2 \\approx 2f(1-f)\\beta^2$.\n",
    "When total phenotypic variance of a quantitative trait is 1,\n",
    "then $2f(1-f)\\beta^2$ is also the proportion of\n",
    "the variance explained by the variant.\n",
    "For example, in our ongoing example setting,\n",
    "the variance explained by the variant is"
   ]
  },
  {
   "cell_type": "code",
   "execution_count": 5,
   "id": "e533d080",
   "metadata": {
    "kernel": "R",
    "tags": [
     "report_cell"
    ]
   },
   "outputs": [],
   "source": [
    "2*f*(1-f)*b.alt^2."
   ]
  },
  {
   "cell_type": "markdown",
   "id": "926e50cd",
   "metadata": {},
   "source": [
    "That is, the variant explains 2% of the variation of the phenotype.\n",
    "This is a very large variance explained compared to\n",
    "a typical common variant association with\n",
    "complex traits, such as BMI or height,\n",
    "but is more realistic for some molecular traits, such as metabolite levels,\n",
    "that are less complex genetically and may have larger effects from individual variants.\n",
    "\n",
    "**Example 3.3.** What if we wanted to find a suitable $n$ that gives 90% power\n",
    "for MAF=50% when the variant explained only 0.5% of the phenotype?"
   ]
  },
  {
   "cell_type": "code",
   "execution_count": 6,
   "id": "031a71fc",
   "metadata": {
    "kernel": "R",
    "tags": [
     "report_cell"
    ]
   },
   "outputs": [],
   "source": [
    "f = 0.5\n",
    "y.explained = 0.005\n",
    "b.alt = sqrt(y.explained / (2*f*(1-f)) ) #this is beta that explains 0.5%\n",
    "sigma = sqrt(1 - y.explained) #error sd after SNP effect is accounted for\n",
    "ns = seq(1000,12000,10) #candidate n\n",
    "ses = sigma / sqrt( ns*2*f*(1-f) ) #SE corresponding to each n\n",
    "q.thresh = qchisq(5e-8, df = 1, ncp = 0, lower = F) #threshold corresp alpha=5e-8\n",
    "pwr = pchisq(q.thresh, df = 1, ncp = (b.alt/ses)^2, lower = F) #power at alpha=5e-8\n",
    "plot(ns,pwr, col = \"darkgreen\", xlab = \"n\", ylab = \"power\",\n",
    "     main = paste0(\"QT sd=1; MAF=\",f,\"; beta=\",b.alt), t = \"l\", lwd = 1.5)\n",
    "abline( h = 0.9, lty = 2 )\n",
    "#Let's output n that is the first that gives power >= 90%\n",
    "ns[min(which(pwr >= 0.9))]"
   ]
  },
  {
   "cell_type": "markdown",
   "id": "e7bfe30b",
   "metadata": {},
   "source": [
    "So, we needed to multiply the sample size by a factor of ~4.\n",
    "Note that this really makes a difference in practice.\n",
    "It is very different to collect 2230 individuals than to collect 9030.\n",
    "Power calculations are important!\n",
    "\n",
    "Could we maybe had guessed the factor of 4 without doing the actual power calculation?\n",
    "For a fixed $\\alpha$, power is determined by NCP.\n",
    "Earlier we determined the parameters that give 90% power.\n",
    "If we equate NCP defined by these parameters with an NCP with\n",
    "a new effect size and with an unknown sample size $n_2$, we can solve for $n_2.$\n",
    "Furthermore, as $f=0.5$ remains constant, it cancels out\n",
    "and we get\n",
    "$$\n",
    "\\frac{2f(1-f)\\beta_1^2 n_1}{\\sigma_1^2} = \\frac{2f(1-f)\\beta_2^2 n_2}{\\sigma_2^2}\n",
    "\\longrightarrow\n",
    "n_2 = \\frac{\\beta_1^2 n_1 \\sigma_2^2}{\\beta_2^2 \\sigma_1^2} =\n",
    "n_1 \\frac{0.2^2}{0.1^2} \\frac{1-0.005}{1-0.02} \\approx 4.0612\\,\\cdot n_1.\n",
    "$$\n",
    "We conclude that when the variance explained by the variant is small (say < 2%),\n",
    "and we drop the variance explained by a factor of $a$, (which is the same\n",
    "as dropping the effect size by a factor of $\\sqrt{a}$), we must increase\n",
    "the sample size approximately by a factor of $a$ to maintain constant power.\n",
    "If variance explained by the variant is larger than\n",
    "a few percents, then it will have a bigger effect\n",
    "on the result, but in GWAS, typically, the variance explained remains < 1%."
   ]
  },
  {
   "cell_type": "markdown",
   "id": "cb2461d9",
   "metadata": {},
   "source": [
    "#### 3.2.4 Minor allele frequency\n",
    "\n",
    "When other parameters than MAF $f$ remain constant, the NCPs are proportional to\n",
    "$f(1-f)$ which is maximised at $f=0.5$ and which decreases to zero\n",
    "as $f\\to 0$.\n",
    "\n",
    "Technically, this can be explained by a general property that,\n",
    "in regression models, the increased variance in the explanatory variable\n",
    "makes the effect estimates more precise.\n",
    "Thinking more concretely the GWAS setting,\n",
    "if MAF $f$ is very small, then\n",
    "almost all individuals in the sample have the major homozygote genotype.\n",
    "Consequently, we will estimate the mean phenotype very accurately for that\n",
    "homozygote genotype, but we will have almost no information about\n",
    "the phenotypic mean of the heterozygote group. Therefore, we have little\n",
    "information whether the two groups are *different* from each other.\n",
    "The mathematics show that, from the point of view of power,\n",
    "the best balance between the precisions of the phenotypic mean estimates\n",
    "of different genotype groups is achieved when MAF=0.5.\n",
    "\n",
    "**Example 3.4.** Consider a situation where MAF of the same variant is 0.5 in\n",
    "population A but only 0.2 in population B.\n",
    "How much larger sample size would we need in B to achieve the same power\n",
    "as in A assuming all other parameters were the same?\n",
    "\n",
    "**Answer.**\n",
    "Let's equate the NCPs and since other parameters than $f$ and $n$ cancel out\n",
    "we are left with\n",
    "$$\n",
    "n_B f_B(1-f_B) = n_A f_A(1-f_A) \\longrightarrow n_B = n_A \\frac{f_A(1-f_A)}{f_B(1-f_B)} = n_A \\frac{0.5 \\times 0.5}{0.2 \\times 0.8} =  1.5625\\,\\cdot n_A.\n",
    "$$\n",
    "So we need 56% more samples in B than in A.\n",
    "\n",
    "We can get a simpler approximative\n",
    "formula in cases where MAF is low (<5%) in both populations,\n",
    "because then $(1-f_A)/(1-f_B) \\approx 1$ and we are left with\n",
    "$n_B \\approx f_A/f_B \\, n_A$.\n",
    "\n",
    "**Example 3.5.** Last week we encountered *PCSK9* gene's\n",
    "missense variant rs11591147 that had a strong effect on LDL-cholesterol levels.\n",
    "GnomAD database shows that it has MAF 4.2% (713/16994) in Finns whereas\n",
    "MAF is 1.5% (1235/81394) in non-Finnish Europeans (NFE). Hence\n",
    "we estimate that we would need to collect about 4.2/1.5 = 2.8 times larger cohort in\n",
    "NFE than in FIN to detect this variant at a given significance threshold.\n",
    "(The exact factor is $0.042\\cdot (1-0.042) / (0.015\\cdot (1-0.015)) = 2.723.$)"
   ]
  },
  {
   "cell_type": "markdown",
   "id": "f28a4c93",
   "metadata": {},
   "source": [
    "#### 3.2.5 Proportion of cases\n",
    "\n",
    "In a case-control analysis of a binary trait,\n",
    "the proportion of cases in the sample, $\\phi$, affects power.\n",
    "Mathematically, the effect is similar to that of MAF, i.e., the\n",
    "NCP is proportional to $\\phi(1-\\phi).$\n",
    "Hence, all other things being fixed (including the total sample size),\n",
    "the largest power is achieved when we have equal number of\n",
    "cases and controls ($\\phi=0.5$),\n",
    "and power goes to zero when $\\phi\\to 0$ or $\\phi \\to 1.$\n",
    "The intuition is that if we had only few cases, then the allele frequency\n",
    "information in cases will be very inaccurate\n",
    "and therefore it is very difficult to\n",
    "determine whether case and control frequencies\n",
    "are *different* from each other, no matter\n",
    "how accurately we could estimate the control allele frequency.\n",
    "\n",
    "**Example 3.6.**\n",
    "Consider two GWAS on migraine.\n",
    "\n",
    "1. The UK Biobank study of 500,000 individuals\n",
    "of whom 15,000 have self-reported migraine.\n",
    "\n",
    "2. Case-control analysis of 60,000 individuals of whom 30,000 are migraineurs and 30,000 are controls.\n",
    "Which of the studies gives larger power?\n",
    "\n",
    "**Answer.**\n",
    "The power is determined by NCP=$2f(1-f)n\\phi(1-\\phi)\\beta^2$, and the two studies\n",
    "are assumed to differ only in their effective sample size $n \\phi (1-\\phi).$\n",
    "Therefore, the one that has the larger effective sample size also has larger power."
   ]
  },
  {
   "cell_type": "code",
   "execution_count": 7,
   "id": "e2720014",
   "metadata": {
    "kernel": "R",
    "tags": [
     "report_cell"
    ]
   },
   "outputs": [],
   "source": [
    "n = c(500000, 60000)\n",
    "phi = c(15000, 30000)/n\n",
    "cbind(n, phi, eff.n = n*phi*(1-phi))"
   ]
  },
  {
   "cell_type": "markdown",
   "id": "909ed962",
   "metadata": {},
   "source": [
    "These studies are very similarly powered but the 2nd study has a slightly higher power.\n",
    "This is true even though the total sample size of the 2nd study is only\n",
    "12% of the total sample size of the 1st study."
   ]
  },
  {
   "cell_type": "markdown",
   "id": "3c98ac78",
   "metadata": {},
   "source": [
    "#### 3.2.6 Power calculators\n",
    "[Genetic Association Study Power Calculator](https://csg.sph.umich.edu/abecasis/gas_power_calculator/index.html)\n",
    "at University of Michigan specifies case-control study effect sizes by\n",
    "genotype relative risk (GRR) and disease prevalence in population.\n",
    "For their multiplicative model, GRR is the relative risk between genotype 1 and 0 as well\n",
    "as between genotype 2 and 1. It can be shown that for low prevalence (<1%) GRR is approximately\n",
    "the odds-ratio.\n",
    "\n",
    "**Example 3.7.**\n",
    "Let's test it. Make a study with 10000 cases and 10000 controls, with disease allele frequency 40%,\n",
    "GRR of 1.1 and disease prevalence of 0.001, in which case GRR is ~ OR.\n",
    "The calculator gives power 22.5% at $\\alpha=5$e-8.\n",
    "Compare it to the way we have done it:"
   ]
  },
  {
   "cell_type": "code",
   "execution_count": 8,
   "id": "cefaa42f",
   "metadata": {
    "kernel": "R",
    "tags": [
     "report_cell"
    ]
   },
   "outputs": [],
   "source": [
    "b = log(1.1) #b is log-odds, approximately GRR for a low prevalence disease\n",
    "n = 20000\n",
    "f = 0.4\n",
    "phi = 0.5\n",
    "pchisq(qchisq(5e-8, df = 1, lower = F), df = 1, ncp = 2*f*(1-f)*n*phi*(1-phi)*b^2, lower = F)"
   ]
  },
  {
   "cell_type": "markdown",
   "id": "965fe2f6",
   "metadata": {},
   "source": [
    "Methods agree well and estimate 22..23% power."
   ]
  },
  {
   "cell_type": "markdown",
   "id": "79b032c0",
   "metadata": {},
   "source": [
    "#### 3.2.7 Risk allele frequency (RAF) vs minor allele frequency (MAF)\n",
    "Continue with the Power calculator and set GRR to 1.15 and RAF to 0.2: power is 60%.\n",
    "Change RAF to 0.8; power drops to 51%.\n",
    "How can that be since in our formula the power depends only\n",
    "on MAF which is the same (0.2) in both cases?\n",
    "\n",
    "Let's consider a disease with low prevalence (say < 1%).\n",
    "Then the RAF in disease-free controls is almost the same as RAF in the whole population\n",
    "since over 99% of the population are controls. By definition, risk allele is more frequent in cases\n",
    "than in controls and hence RAF in the ascertained case-control sample, that is heavily enriched\n",
    "for cases compared to their population frequency, will be higher than RAF in the population.\n",
    "Hence, if the risk allele is also the minor allele, then MAF in the ascertained case-control\n",
    "sample will be higher than in the population increasing power. However, if the risk allele\n",
    "is a major allele, then MAF in the ascertained case-control sample will be lower than in the population\n",
    "decreasing power. We conclude that in an ascertained case-control sample, we have more power\n",
    "to detect risk increasing minor alleles than protective minor alleles even when their\n",
    "MAFs were the same in population [Chan et al. 2014 AJHG](https://www.sciencedirect.com/science/article/pii/S0002929714000640?via%3Dihub).\n",
    "This reminds us about the importance of considering $f$ as the MAF in the sample that we are analysing,\n",
    "which for ascertained case control studies may be different from the population MAF."
   ]
  },
  {
   "cell_type": "markdown",
   "id": "b09c1129",
   "metadata": {},
   "source": [
    "### 3.3 Why well powered studies are so important?\n",
    "\n",
    "The GWAS evolution over the last 15 years gives\n",
    "an illuminating lesson on the\n",
    "influence of statistical power on scientific conclusions.\n",
    "Since the effect sizes of common variants affecting complex diseases\n",
    "are relatively small, the first years of GWAS of any one disease\n",
    "were able to detect only few GWS associations because the sample\n",
    "sizes were only a few thousands.\n",
    "However, when sample size grew to tens of thousands, the number\n",
    "of associations started a steep increase.\n",
    "This pattern has occured to pretty much every trait and disease studied.\n",
    "(Demonstrated with schizophrenia on slides 8-10.)\n",
    "\n",
    "**Example 3.8.**\n",
    "Let's look at the results of the Schizophrenia study\n",
    "\"Biological insights from 108 schizophrenia-associated genetic loci\",\n",
    "Nature 511 421-427\n",
    "taken from Supplementary table 2 at http://www.nature.com/nature/journal/v511/n7510/extref/nature13595-s1.pdf"
   ]
  },
  {
   "cell_type": "code",
   "execution_count": 9,
   "id": "32fb99b5",
   "metadata": {
    "Rmd_chunk_options": "warning=F",
    "kernel": "R",
    "tags": [
     "report_cell"
    ]
   },
   "outputs": [],
   "source": [
    "sz.res = read.table(\"http://www.mv.helsinki.fi/home/mjxpirin/GWAS_course/material/sz_res.txt\",\n",
    "                    as.is = TRUE, header = TRUE)\n",
    "sz.res[1,] #see what data we have\n",
    "#Let's plot the known SZ variants on frequency - effect size coordinates\n",
    "#And draw some power curves there at genome-wide significance threshold\n",
    "maf = sz.res[,\"Frq_control\"] #Not yet maf but allele 1 frequency\n",
    "maf[maf > 0.5] = 1 - maf[maf > 0.5] #Make it to MAF: always less than 0.5\n",
    "b = abs(log(sz.res[,\"Combined_OR\"])) #effect size on log-odds-ratio scale with positive sign\n",
    "pw.thresh = 0.5\n",
    "p.threshold = 5e-8\n",
    "plot(maf, b, ylim = c(0,0.3), xlim = c(0.01,0.5), xlab = \"MAF\",\n",
    "     ylab = \"EFFECT SIZE (in log-odds-ratio)\", xaxt = \"n\", yaxt = \"n\", log = \"x\", #make x-axis logarithmic\n",
    "     main = substitute(paste(\"Power = \", pw.thresh ,\" at \", alpha ,\" = \",p.threshold),\n",
    "                     list(pw.thresh = pw.thresh, p.threshold = p.threshold)),\n",
    "     cex.main = 1.8, cex.lab = 1.3, pch = 19)\n",
    "axis(1, at = c(0.01, 0.02, 0.05, 0.10, 0.25, 0.5), cex.axis = 1.3)\n",
    "axis(2, at = c(0, 0.05, 0.1, 0.15, 0.2, 0.25, 0.3), cex.axis = 1.3)\n",
    "grid()\n",
    "\n",
    "q = qchisq(p.threshold, df = 1, lower = F) #chi-square value corresp. significance threshold\n",
    "#matrix of numbers of cases (col1) and controls (col2):\n",
    "Ns = matrix( c(3332,3587, 10000,10000, 34000,45600), ncol = 2 , byrow = T)\n",
    "cols=c(\"green\", \"cyan\", \"blue\")\n",
    "\n",
    "f = seq(0.01, 0.5, length = 200)\n",
    "b = seq(0, 0.3, length = 200)\n",
    "legends = c()\n",
    "par(mar = c(6,6,5,1))\n",
    "for(set in 1:nrow(Ns)){\n",
    "  pw = rep(NA, length(b)) #power at each candidate b\n",
    "  b.for.f = rep(NA,length(f)) #for each f gives the b value that leads to target power\n",
    "  for(i in 1:length(f)){\n",
    "    pw = pchisq(q, df = 1, ncp = Ns[set,1]*Ns[set,2] / sum(Ns[set,])*2*f[i]*(1-f[i])*b^2, lower = F)\n",
    "    b.for.f[i] = b[ min( which(pw > pw.thresh) ) ]\n",
    "  }\n",
    "  lines(f, b.for.f, t = \"l\", col = cols[set], lwd = 1.6)\n",
    "  legends = c(legends, paste(Ns[set,],collapse = \"/\") ) #make a \"#cases/#controls\" tag for legend\n",
    "}\n",
    "legend(\"bottomleft\", lty = c(1,1), col = cols, legend = legends, lwd = 2, cex = 1.3)"
   ]
  },
  {
   "cell_type": "markdown",
   "id": "b90a02a5",
   "metadata": {},
   "source": [
    "No wonder that the 2009 study with 3300 cases and 3600 controls (slide 8) didn't find any individual SNPs\n",
    "associated with SZ because it had insufficient power for any now know (common) SZ variant.\n",
    "Note that none of these GWS variants has MAF < 0.02, most likely because\n",
    "rare variants have not yet been comprehensively analyzed in these large meta-analyses."
   ]
  },
  {
   "cell_type": "markdown",
   "id": "ae073ef0",
   "metadata": {},
   "source": [
    "#### 3.3.1 Absence of evidence is not evidence of absence\n",
    "It is important to understand that\n",
    "a \"non-significant\" P-value should not be interpreted as evidence that there is no effect.\n",
    "It can be so interpreted only for those effect sizes for which the power to detect them\n",
    "was ~100%.\n",
    "But a \"non-significant\" P-value does not rule out smaller effects.\n",
    "Therefore, any claims that argue based on statistical evidence that\n",
    "an effect does not exist must be made precise by stating\n",
    "which power there would had been to detect\n",
    "effects, as a function of interesting quantities such as $\\beta$ and MAF.\n",
    "Additionally, the effect size estimate and its SE should be reported in addition to\n",
    "the \"non-significant\" P-value.\n",
    "\n",
    "\n",
    "**Example 3.9.** Suppose that we study migraine and find a variant $v$ that has an association\n",
    "P-value 3.2e-15 in a large migraine GWAS, a P-value of 2.1e-9 in a subset of\n",
    "cases with *migraine without aura* and a P-value of 0.08\n",
    "in a subset of cases with *migraine with aura*.\n",
    "Would you interpret this as evidence that the variant $v$ is associated with\n",
    "migraine, and, in particular, that this effect is specific to migraine without aura\n",
    "and is not present in migraine with aura?\n",
    "What other information would you need to make this conclusion?\n",
    "Describe some example study setting (by describing sample sizes and effect sizes)\n",
    "where the above conclusion would be appropriate,\n",
    "and another study setting where it would not be appropriate."
   ]
  },
  {
   "cell_type": "markdown",
   "id": "cc7e936e",
   "metadata": {},
   "source": [
    "#### 3.3.2 Proportion of true positives\n",
    "Let's recall the formula for the odds of a significant P-value indicating a true positive rather\n",
    "than a false positive:\n",
    " $$\\frac{P(T|S)}{P(N|S)}=\\frac{P(T)P(S|T)}{P(N)P(S|N)} =\\textrm{prior-odds} \\times\n",
    "\\frac{\\textrm{power}}{\\textrm{significance threshold}}.$$\n",
    "Thus, for a fixed significance threshold and prior-odds of association,\n",
    "the probability of a significant result being true increases proportional to the power of the study.\n",
    "Hence, a larger proportion of the significant findings from a well powered study is\n",
    "likely to be true positives than from an underpowered study.\n",
    "Another way to think this is that all studies (independent of their power)\n",
    "have the same rate of labelling null effects as significant\n",
    "(and this rate is $\\alpha$, the significance level, the Type I error rate),\n",
    "but different rates of labelling true effects as significant\n",
    "(and this rate is the power of the study).\n",
    "Hence, by increasing power, a larger proportion of all significant results\n",
    "will be true positives."
   ]
  },
  {
   "cell_type": "markdown",
   "id": "19a5f3a1",
   "metadata": {},
   "source": [
    "#### 3.3.3 Winner's curse\n",
    "Suppose that we have 50% power to detect MAF=5% variants with effect $\\beta=0.2$\n",
    "with our GWAS sample at GWS threshold.\n",
    "This means that, in our data, half of the variants whose\n",
    "true effect is 0.2 will reach the threshold and other half does not.\n",
    "How are these two groups different in our data? They are different in that\n",
    "those that reach the threshold have estimated $\\widehat{\\beta}>0.2$ whereas\n",
    "those that don't reach the threshold have estimated $\\widehat{\\beta}<0.2$.\n",
    "Consequently, out of all those variants with true $\\beta=0.2$ and\n",
    "MAF=5%, the ones that become GWS in our data have their effect sizes **overestimated**.\n",
    "This is the *winner's curse*: when power is low enough, the variants can reach\n",
    "the GWS threshold only if their effect sizes are overestimated.\n",
    "We are \"winners\" because we are able to detect some of these true effects,\n",
    "but we are simultaneously \"cursed\" because we have upwardly biased effect size\n",
    "estimates. And this curse gets worse as the power decreases.\n",
    "Originally, the term winner's curse relates to auctions where\n",
    "the winner is the one who has made the biggest offer and the biggest offer\n",
    "tends to be higher than the consensus value of the item;\n",
    "the winner is always cursed to pay too much.\n",
    "\n",
    "\n",
    "\n",
    "Note that the winner's curse does not occur for variants that have\n",
    "so large effect sizes that power to detect them is ~100%.\n",
    "For such variants, we still overestimate the effect\n",
    "size in 50% of variants and underestimate it in the remaining 50% of variants,\n",
    "but now we will detect essentially all of those variants\n",
    "at the given significance threshold,\n",
    "even those whose effects we underestimate.\n",
    "Hence, with high power, there is no general trend\n",
    "of the significant variants' effects being overestimated.\n",
    "In practice this means that we are less concern with the winner's curse for\n",
    "GWS variants that have P-values, say < 1e-20, than for those that have P-values\n",
    "just slightly below 5e-8.\n",
    "\n",
    "How to get rid of winner's curse? There are some statistical methods for that (of course!),\n",
    "but the simplest way is to get an effect size estimate from an independent replication data set.\n",
    "Since those replication data were not used in making\n",
    "the original GWS finding, there is no reason to expect that the effect size estimate\n",
    "would be (upwardly) biased also in the replication data.\n",
    "\n",
    "When deciding on the size of the replication study, it is good to remember\n",
    "that, due to the winner's curse in the original study, the raw effect size\n",
    "estimate from the discovery GWAS (i.e., the GWAS that made the GWS discovery in the first place)\n",
    "may result in much too optimistic sample size estimate if used in the power calculation."
   ]
  },
  {
   "cell_type": "markdown",
   "id": "c41dda15",
   "metadata": {},
   "source": [
    "#### 3.3.4 Reasonable study design\n",
    "If a study proposal has a low power to answer the question of interest,\n",
    "it is difficult to argue why that study should be funded.\n",
    "The funding agencies want to know that the studies they fund\n",
    "will have a reasonable chance to provide solid conclusions.\n",
    "\n",
    "Power calculations are crucial in medical studies that study treatment options\n",
    "on patients or animals because there either too small or too large cohorts are unethical.\n",
    "Too small cohorts sacrifice some individuals by exposing them to potentially harmful\n",
    "treatments without ever producing solid results, whereas\n",
    "too large cohorts will expose unnecessarily many individuals to a suboptimal treatment,\n",
    "even after available statistical evidence could had already told which is the optimal treatment.\n",
    "\n",
    "In GWAS studies, it is also typical that each new GWAS data collection will be combined with the\n",
    "already existing ones, and hence the joint power of all existing data\n",
    "is the (scientifically) most relevant quantity."
   ]
  }
 ],
 "metadata": {
  "Rmd_chunk_options": {
   "author": "Matti Pirinen, University of Helsinki",
   "date": "Updated: 10-Nov-2020; 1st version 23-Jan-2019",
   "output": {
    "html_document": "default"
   },
   "title": "GWAS 3: Statistical power",
   "urlcolor": "blue"
  },
  "kernelspec": {
   "display_name": "R",
   "language": "R",
   "name": "ir"
  },
  "language_info": {
   "codemirror_mode": "r",
   "file_extension": ".r",
   "mimetype": "text/x-r-source",
   "name": "R",
   "pygments_lexer": "r",
   "version": "4.2.1"
  },
  "sos": {
   "kernels": [
    [
     "SoS",
     "sos",
     "",
     ""
    ],
    [
     "R",
     "ir",
     "",
     ""
    ]
   ]
  }
 },
 "nbformat": 4,
 "nbformat_minor": 5
}
