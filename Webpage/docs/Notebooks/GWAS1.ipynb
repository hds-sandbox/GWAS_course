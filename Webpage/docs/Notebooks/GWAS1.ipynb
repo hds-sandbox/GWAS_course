{
 "cells": [
  {
   "cell_type": "code",
   "execution_count": 1,
   "id": "c0990928",
   "metadata": {
    "Rmd_chunk_options": "setup, include=FALSE",
    "jupyter": {
     "output_hidden": true,
     "source_hidden": true
    },
    "kernel": "IRkernel",
    "tags": [
     "scratch"
    ]
   },
   "outputs": [],
   "source": [
    "knitr::opts_chunk$set(echo = TRUE)"
   ]
  },
  {
   "cell_type": "markdown",
   "id": "c9409e6b",
   "metadata": {},
   "source": [
    "This document is licensed under a\n",
    "[Creative Commons Attribution-ShareAlike 4.0 International License](https://creativecommons.org/licenses/by-sa/4.0/).\n",
    "\n",
    "The slide set referred to in this document is \"GWAS 1\".\n",
    "\n",
    "This course is about **statistical/computational ideas and methods** that are used in\n",
    "**genome-wide association studies (GWAS)**. (Note that on these notes 'GWAS' is both singular and plural while other texts may use 'GWASs' or 'GWASes' for plural.)\n",
    "More generally, these same methods are useful\n",
    "for analyzing large data sets of many other types, but, on this course,\n",
    "we will approach these from the angle of GWAS.\n",
    "\n",
    "A GWAS quantifies statistical association between genetic variation\n",
    "and phenotypes. A **phenotype**, also called a **trait**,\n",
    "can be any measured or observed property\n",
    "of an individual. Examples of phenotypes are quantitative traits like\n",
    "standing height or concentration of cholesterol particles in circulation, or\n",
    "binary traits like diagnoses of multiple sclerosis or schizophrenia."
   ]
  },
  {
   "cell_type": "markdown",
   "id": "d14126a7",
   "metadata": {},
   "source": [
    "#### Why do we do GWAS? (slides 2-6)\n",
    "\n",
    "We do GWAS because a statistical association between\n",
    "a particular physical region of the\n",
    "genome and the phenotype\n",
    "\n",
    "* can point to **biological mechanisms** affecting the phenotype,\n",
    "* can allow **prediction** of the phenotype from genomic information.\n",
    "\n",
    "These results may further benefit\n",
    "\n",
    "* **medicine** by leading to molecular or environmental interventions against harmful phenotypes,\n",
    "* **biotechnology** by improving the ways we utilize microbes, plants or animals,\n",
    "* **forensics** by more accurate identification of an individual from a DNA sample,\n",
    "* biogeographic **ancestry inference** of individuals, populations and species,\n",
    "* our understanding of the role of **natural selection** and other **evolutionary forces** in the living world.\n",
    "\n",
    "The genome of an individual remain (nearly) constant throughout the individual's\n",
    "lifetime. This is a truly remarkable property compared to, e.g., other molecular\n",
    "sources of information (such as metabolomics, metagenomics, transcriptomics, proteomics or epigenomics)\n",
    "or environmental factors that may vary widely across time.\n",
    "Therefore, the genome seems an ideal starting point for scientific research:\n",
    "it needs to be measured only once for an individual and there is no\n",
    "*reverse causation* from the phenotype to genome\n",
    "(with cancer as an important exception)."
   ]
  },
  {
   "cell_type": "markdown",
   "id": "4929f6cc",
   "metadata": {},
   "source": [
    "#### Ethical aspects\n",
    "\n",
    "As with any powerful technique, the utilization of results from GWAS also raises\n",
    "many new and difficult ethical questions\n",
    "and the legislation of utilization of genome information is\n",
    "under active development around the world.\n",
    "For example, we need concrete answers to\n",
    "\n",
    "* who can access an individual's genetic information\n",
    "and for which purpose: individual himself/herself?, researchers?, medical professionals?, insurance companies?, employers?,\n",
    "school system?, everyone?\n",
    "* what kind of information should be returned back to an individual:\n",
    "genetic risk for a disease for which some preventive measures exist vs. a disease\n",
    "with no actionable measures known?,\n",
    "genetic prediction of sensitive traits such as IQ?,\n",
    "genetic ancestry or family information\n",
    "that does not match prior expectations of the individual, for example,\n",
    "due to false paternity?\n",
    "* what kind of information, if any, should be returned to a relative of\n",
    "a tested individual given that the relative may also have some of the same genetic variants?\n",
    "* when is gene editing allowed: to cure severe disease?, to prevent a severe mutation\n",
    "to be passed on to next generation?, to design the next generation to have some favorable genetic variants?\n",
    "\n",
    "When working with human genome data, we should always keep it clear in mind\n",
    "that there are such profound questions related to these data,\n",
    "and that the data we handle will likely\n",
    "turn out to be more powerful than most of us can imagine today.\n",
    "Human genome data are never 'just data' but include highly personal information,\n",
    "and they need to be handled with high respect and care.\n",
    "Access to genetic data requires a written agreement\n",
    "between the researcher and the data provider about how and for which purpose\n",
    "the data can be used."
   ]
  },
  {
   "cell_type": "markdown",
   "id": "137c0701",
   "metadata": {},
   "source": [
    "#### Contents of this course (slides 24-25)\n",
    "\n",
    "The plan is to discuss the following topics (in varying level of detail):\n",
    "\n",
    "1. What is a GWAS?\n",
    "\n",
    "2. Statistics of GWAS (regression coefficients, P-values, statistical power, Bayes factors)\n",
    "\n",
    "3. Genetic relatedness and population structure\n",
    "\n",
    "4. Confounding and covariates in GWAS\n",
    "\n",
    "5. Haplotypes, linkage disequilibrum, imputation, fine-mapping\n",
    "\n",
    "6. Linear mixed models and heritability\n",
    "\n",
    "7. Summary statistics and meta-analysis\n",
    "\n",
    "8. Mendelian randomization\n",
    "\n",
    "9. Success and critisism of GWAS\n",
    "\n",
    "10. Human genetics research at [FIMM](https://www.fimm.fi/en/research/human-genomics-and-preventive-health-care)"
   ]
  },
  {
   "cell_type": "markdown",
   "id": "4c0313b3",
   "metadata": {},
   "source": [
    "## 1.1 Genetic variation (slides 7-12)"
   ]
  },
  {
   "cell_type": "markdown",
   "id": "63c040db",
   "metadata": {},
   "source": [
    "We all carry two nuclear genomes (i.e. genomes located in cell nucleus),\n",
    "one inherited from each of our two parents.\n",
    "Additionally, we have a small mitochondrial genome,\n",
    "[assumed to be](http://www.pnas.org/content/early/2018/11/21/1810946115)\n",
    "inherited exclusively\n",
    "from the mother, but on this course the term 'genome' refers to the nuclear genome.\n",
    "\n",
    "Human genome is 3.2 billion **nucleotides** (or **base pairs** or **DNA letters** A,C,G,T)\n",
    "long sequence ([see yourgenome.org](https://www.yourgenome.org/facts/what-is-dna)),\n",
    "that is divided into separate physical pieces called **chromosomes** ([see yourgenome.org](https://www.yourgenome.org/facts/what-is-a-chromosome)).\n",
    "There are 22 **autosomal** (non-sex related) chromosomes\n",
    "and two **sex chromosomes** (X chromosome and Y chromosome).\n",
    "Normally, humans have two copies of each\n",
    "autosome and individuals with one copy of X and one of Y are males\n",
    "whereas individuals who have two copies of X are females.\n",
    "Abnormal number of chromosomes (called **aneuploidies**) typically\n",
    "cause severe consequences\n",
    "or an early death if present in all cells of an individual.\n",
    "The most common non-lethal exception is the Down syndrome (3 copies of chr 21).\n",
    "**Mosaicism**, where some cells have abnormal chromosome numbers also exist\n",
    "and are often present in cancer cells.\n",
    "\n",
    "There are three types of pairings that come up when we analyse genomes.\n",
    "\n",
    "* First, the DNA is most of the time\n",
    "a double-stranded molecule whose two strands (i.e. the two DNA molecules) are glued together\n",
    "by the chemical base pairings A-T and C-G.\n",
    "This base pairing is a key to the copying mechanism of the DNA that is needed\n",
    "before any cell division ([see yourgenome.org](https://www.yourgenome.org/video/dna-replication)) and\n",
    "the DNA molecules that are connected through base pairing\n",
    "have the exact same information, just written in the reverse letters\n",
    "i.e. A <-> T and C <-> G.\n",
    "To make distinction between the two DNA molecules,\n",
    "it has been agreed that one of the two DNA strands is called\n",
    "the **forward strand** (or **positive strand**)\n",
    "and the other the **reverse strand** (or **negative strand**).\n",
    "Thus, e.g., when + strand contains base A, the corresponding base on - strand is T and vice versa.\n",
    "\n",
    "* Second, the two **homologous** choromosomes of an individual\n",
    "(e.g. paternal chr 13 with maternal chr 13, or in a male, maternal X and paternal Y)\n",
    "can be thought of as a pair.\n",
    "Thus, we say that the human genome consists\n",
    "of 22 autosomes + X + Y, but each individual\n",
    "has two copies of each homologous chromosome,\n",
    "so has 46 unique chromosomes that are divided into 23 pairs of homologous chromosomes.\n",
    "\n",
    "* Third, before any **cell division** each of the 46 unique chromosomes of an individual\n",
    "copies itself and the two copies (called sister chromatids)\n",
    "are paired with each other physically to make\n",
    "an X-like shape that is often used to show chromosomes in pictures.\n",
    "Such picture actually has 92 chromosomes since each unique chromosome\n",
    "is duplicated in it (but we typically say that there are 46 replicated chromosomes rather than\n",
    "that there are 92 chromosomes).\n",
    "This pairing after copying is important in cell division so that the resulting cells\n",
    "will get the correct set of choromosomes. In mitosis (ordinary cell division),\n",
    "each of the two new cells has one set of the 46 unique chromosomes.\n",
    "In meiosis, the gametes (sperm and eggs) are formed to have\n",
    "only one copy of each homologous chromosome and thus have 23 unique chromosomes.\n",
    "During meiosis, the process of **recombination** shuffles the homologous\n",
    "copies of the paternal and maternal chromosomes in such a way that each of the\n",
    "offspring's chromosomes will be a mixture of its grandparental chromosome segments.\n",
    "\n",
    "Terms\n",
    "\n",
    "* **Gene.**\n",
    "The most obvious way how genetic variation can affect phenotypes is through\n",
    "variation in how **genes** function. Genes are segements of DNA that code for proteins\n",
    "([see yourgenome.org](https://www.yourgenome.org/video/from-dna-to-protein)) and variation\n",
    "in the physical structure of the protein or in the time and place where the protein is made\n",
    "can have phenotypic consequences. Therefore, we are very\n",
    "interested in how genetic variation can affect the function of genes,\n",
    "and a lot of this is still unknown.\n",
    "Protein coding genes cover less than 2% of the whole human genome,\n",
    "but the remaining 98% affects the regulation of genes in many ways.\n",
    "\n",
    "* **Locus (pl. loci).**\n",
    "A continuous region of the genome is called a locus (plural loci).\n",
    "It can be of any size (e.g. a single nucleotide site of length 1 bp or\n",
    "a region of 10 milion base pairs, 10 Mbp).\n",
    "**GWAS loci** are regions that include a clear statistical association\n",
    "with the phenotype of interest."
   ]
  },
  {
   "cell_type": "markdown",
   "id": "d1972345",
   "metadata": {},
   "source": [
    "### 1.1.1 Genetic variants\n",
    "At any one position of the genome (e.g. nucleotide site at position 13,475,383 of chromosome 1,\n",
    "denoted by chr1:13,475,383)\n",
    "variation can exist between the genomes in the population. For example,\n",
    "my paternal chromosome can have a base A and maternal chromosome can have a base G\n",
    "(on the +strand of the DNA) at that position. (slide 10)\n",
    "Such a one-nucleotide variation is called a **single-nucleotide variant (SNV)** and\n",
    "the two versions are called **alleles**. So in the example case,\n",
    "I would be carrying both an allele A and an allele G at that SNV, whereas\n",
    "you might be carrying two copies of allele A at the same SNV.\n",
    "My **genotype** would be AG and yours AA.\n",
    "An individual having different alleles on his/her two genomes is **heterozygous**\n",
    "at that locus, and an individual having two copies of the same allele is\n",
    "**homozygous** at that locus.\n",
    "If neither of the alleles\n",
    "is very rare in the population, say, the **minor allele frequency (MAF)**\n",
    "is > 1% in the population,\n",
    "the variant is called a polymorphism, **single-nucleotide polymorphism (SNP)**.\n",
    "There are over 10 million SNPs in the human genome.\n",
    "More complex genetic variation (slide 9) include structural variation (SV) such as\n",
    "copy number variants (CNVs), that include duplications or deletions of genomic regions,\n",
    "or rearrangements of the genome, such as inversions or translocations of DNA segments\n",
    "([see yourgenome.org](https://www.yourgenome.org/facts/what-types-of-mutation-are-there)).\n",
    "\n",
    "A predefined set of 500,000 - 1,000,000\n",
    "SNPs can be measured reliably and fairly cheaply (< 50 euros/sample) by DNA microarrays,\n",
    "which has been the single most important factor making GWAS possible (slide 11; [Illustration](https://www.mun.ca/biology/scarr/DNA_Chips.html)).\n",
    "On this course, we consider SNPs as the canonical type of genetic variation.\n",
    "Typically, the SNPs are **biallelic**, i.e., there are only two alleles present in the population\n",
    "and this is what we assume in the following.\n",
    "In principle, however, all four possible alleles of a SNP\n",
    "could be present in the population.\n",
    "\n",
    "**Ambiguous SNPs.** If the two alleles of a SNP are either C,G or A,T we call the SNP\n",
    "*ambiguous* because the strand information must be available (and correct)\n",
    "in order to make sense of the genotypes at this SNP.\n",
    "This is because allele C on + strand would be called allele G on - strand\n",
    "and if this SNP is reported with respect to different strands in different\n",
    "studies, the results get mixed up.\n",
    "The same problem does not happen with the other SNPs, e.g.,\n",
    "a SNP with alleles A,C, because\n",
    "this SNP contains alleles T,G on the opposite strand\n",
    "and we could unambiguously match A to T and C to G between the studies.\n",
    "Note that we can resolve most ambiguous SNPs reliably based on the allele frequencies\n",
    "as long as the minor allele frequency is not close to 50%.\n",
    "If we are combining several studies, we should always start by\n",
    "plotting the allele frequencies between the studies\n",
    "after the alleles should be matching each other in order to see that the frequencies\n",
    "indeed match across the studies."
   ]
  },
  {
   "cell_type": "markdown",
   "id": "d9013074",
   "metadata": {},
   "source": [
    "#### Some catalogues of genetic variation\n",
    "A large part of the genetics research over the last 30 years have been driven by\n",
    "international projects aiming to catalogue genetic variation in public domain.\n",
    "\n",
    "- [The Human Genome Project](https://www.yourgenome.org/stories/what-was-the-human-genome-project-for)\n",
    "1990-2003 established a first draft of a human genome sequence.\n",
    "\n",
    "- [The HapMap project](https://www.genome.gov/10001688/international-hapmap-project/)\n",
    "2002-2009 studied the correlation structure of the common SNPs.\n",
    "\n",
    "- [The 1000 Genomes project](http://www.internationalgenome.org/about) 2008-2015,\n",
    "expanded HapMap to genome sequence information across the globe and\n",
    "currently remains a widely-used reference for global allele frequency information.\n",
    "1000G project was able to characterize well common variation in different *populations*, but\n",
    "missed many rare variants of single individuals\n",
    "because the costs of very accurate sequencing were too high.\n",
    "The tremendous impact of the 1000G project stems from the fact that everyone can download\n",
    "the individual level genome data of the 1000G samples from the project's website\n",
    "and use it in their own research.\n",
    "\n",
    "\n",
    "- [Exome Aggregation Consortium (ExAC)](http://exac.broadinstitute.org/) 2014-2016\n",
    "concentrated only on the protein coding\n",
    "parts of the genome, so called *exons*, that make up less than 2% of the genome\n",
    "and was able to provide accurate sequence data for the exomes of over 60,000 individuals.\n",
    "This effort has been particularly important for medical interpretation of rare\n",
    "variants seen in clinics that diagnose patients with severe disease.\n",
    "ExAC provides summary level information through browser and downloads\n",
    "but individual level data cannot be downloaded.\n",
    "\n",
    "- [Genome Aggregation Database (gnomAD)](http://gnomad.broadinstitute.org/)\n",
    "is expanding the ExAC database and\n",
    "also includes additional whole genome sequencing information.\n",
    "It is the current state-of-the-art among the public genome variation databases."
   ]
  },
  {
   "cell_type": "markdown",
   "id": "3cc908d8",
   "metadata": {},
   "source": [
    "### 1.1.2 Genotypes and Hardy-Weinberg equilibrium\n",
    "\n",
    "Let's consider one SNP in the population. The SNP has two alleles that could be called\n",
    "by their nucleotides, but with quantitative analyses in mind,\n",
    "we name the alleles in such a way that the **minor allele**\n",
    "(the one that is less common in the population)\n",
    "is called allele 1 and the **major allele** (the one that is more common in the population)\n",
    "is called allele 0.\n",
    "(There is no general rule that GWAS results are reported as\n",
    "allele 1 corresponding to the minor allele, and even if there was,\n",
    "the minor allele could differ between two data sets/populations, so consistency across studies\n",
    "needs always to be checked.)\n",
    "Let's denote the **minor allele frequency (MAF)** by $f$.\n",
    "Since each individual has two copies of the genome, there are individuals with\n",
    "three possible genetic types (called **genotypes**) at this SNP.\n",
    "We denote each genotype by the number of copies of allele 1 that\n",
    "the genotype contains (i.e. genotype can be 0, 1 or 2).\n",
    "If we assume that, at this SNP, the two alleles in one individual are sampled at random\n",
    "from the population, then the genotype frequencies in the population follow\n",
    "the binomial distribution $\\textrm{Bin}(2,f)$:\n",
    "\n",
    "genotype | expected frequency from Bin(2,f)\n",
    "-|-\n",
    "0 | $(1-f)^2$\n",
    "1 | $2\\,f(1-f)$\n",
    "2 | $f^2$\n",
    "\n",
    "These frequencies are called the **Hardy-Weinberg equilibrium** (HWE) genotype frequencies\n",
    "(or HW proportions) and\n",
    "they define the theoretical equilibrium genotype frequencies given the value of $f$\n",
    "in an ideal *randomly mating* population\n",
    "without *selection*, *migration*, or *genetic drift*\n",
    "(=statistical fluctuations due to finite population size).\n",
    "In practice, most variants in human populations do approximately follow HWE.\n",
    "Clear deviations from HWE could point to, for example,\n",
    "recent *population structure* (e.g. two populations have admixed),\n",
    "*assortative mating* (individuals tend to mate with partners of their kind)\n",
    "or natural selection (e.g. genotype 1 is very advantageous whereas\n",
    "genotype 2 is lethal and hence completely absent from the population).\n",
    "On the other hand, technical problems in *genotype calling* (i.e. in determining genotypes\n",
    "from the intensity measures from a genotyping chip) can also cause deviations\n",
    "from HWE, either because of bad quality data\n",
    "or because the variation is not a biallelic SNP and has more than two alleles\n",
    "(slide 12). Therefore,\n",
    "often variants which do not follow HW frequencies are excluded from many GWAS analyses\n",
    "as part of the [*quality control* (QC) procedure](https://www.nature.com/articles/nprot.2010.116).\n",
    "\n",
    "**Testing HWE.** To test for (deviations from) HWE a 1-df [chi-square test](https://en.wikipedia.org/wiki/Hardy%E2%80%93Weinberg_principle#Significance_tests_for_deviation) can be used\n",
    "where the expected counts are derived under HWE given the allele frequencies.\n",
    "\n",
    "Suppose that we have observed genotype counts $n_0,n_1,n_2$ for genotypes\n",
    "0,1 and 2, respectively, and $N = n_0 + n_1 + n_2.$ Our estimate for\n",
    "population frequency of allele 1 is $\\widehat{f} = (n_1+2\\,n_2)/(2\\,N)$,\n",
    "and the expected genotype counts under HWE are $h_0 = N(1-\\widehat{f})^2$,\n",
    "$h_1 = 2 N \\widehat{f}(1-\\widehat{f})$ and $h_2 = N \\widehat{f}^2$.\n",
    "The test statistic measures the deviation between the observed counts and the\n",
    "expected counts:\n",
    "$$ t_{HWE} = \\sum_{i=0}^2 \\frac{(n_i-h_i)^2}{h_i}.$$\n",
    "If HWE holds, then $t_{HWE}$ follows approximately a\n",
    "Chi-square distribution with 1 degree of freedom,\n",
    "which is used for deriving a P-value.\n",
    "If theoretical chi-square distribution is used,\n",
    "the test is asymptotic and hence not necessarily valid for small sample size\n",
    "or very rare variants, and a test statistic distribution\n",
    "based on permutations should be used, e.g., by R\n",
    "package [HardyWeinberg](https://cran.r-project.org/web/packages/HardyWeinberg/index.html).\n",
    "\n",
    "**Example 1.1.**\n",
    "Look up the SNP rs429358 from the Ensmbl browser <https://www.ensembl.org/>.\n",
    "Choose Human and type 'rs429358'; you'll see the variant's chr (19), position\n",
    "(44,908,684 in the version GRCh38 of the Human Genome coordinates mentioned on top left)\n",
    "and the two alleles, T and C, of which C is predicted to be the 'ancestral' that is, the\n",
    "older allele, and C is also the minor allele with average MAF of 15% across human populations.\n",
    "Next click 'Population Genetics' to see allele and genotype frequencies in different human populations. (Familiarize with given populations by hovering mouse above them.)\n",
    "Scrolling down, in the 1000 Genomes project Phase 3 (1000G) Finnish data,\n",
    "the minor allele C has frequency $37/198 \\approx 18.7\\%$ and\n",
    "the observed genotype counts are 66 (TT), 29 (TC) and 4 (CC) individuals.\n",
    "Let's use these values to visualize the genotype distribution\n",
    "and apply the standard test for HWE."
   ]
  },
  {
   "cell_type": "code",
   "execution_count": 1,
   "id": "4922af20",
   "metadata": {
    "kernel": "R",
    "tags": [
     "report_cell"
    ]
   },
   "outputs": [
    {
     "data": {
      "text/html": [
       "0.186868686868687"
      ],
      "text/latex": [
       "0.186868686868687"
      ],
      "text/markdown": [
       "0.186868686868687"
      ],
      "text/plain": [
       "[1] 0.1868687"
      ]
     },
     "metadata": {},
     "output_type": "display_data"
    },
    {
     "data": {
      "text/html": [
       "<table class=\"dataframe\">\n",
       "<caption>A matrix: 2 × 3 of type dbl</caption>\n",
       "<tbody>\n",
       "\t<tr><th scope=row>obs</th><td>0.6666667</td><td>0.2929293</td><td>0.04040404</td></tr>\n",
       "\t<tr><th scope=row>hwe</th><td>0.6611825</td><td>0.3038976</td><td>0.03491991</td></tr>\n",
       "</tbody>\n",
       "</table>\n"
      ],
      "text/latex": [
       "A matrix: 2 × 3 of type dbl\n",
       "\\begin{tabular}{r|lll}\n",
       "\tobs & 0.6666667 & 0.2929293 & 0.04040404\\\\\n",
       "\thwe & 0.6611825 & 0.3038976 & 0.03491991\\\\\n",
       "\\end{tabular}\n"
      ],
      "text/markdown": [
       "\n",
       "A matrix: 2 × 3 of type dbl\n",
       "\n",
       "| obs | 0.6666667 | 0.2929293 | 0.04040404 |\n",
       "| hwe | 0.6611825 | 0.3038976 | 0.03491991 |\n",
       "\n"
      ],
      "text/plain": [
       "    [,1]      [,2]      [,3]      \n",
       "obs 0.6666667 0.2929293 0.04040404\n",
       "hwe 0.6611825 0.3038976 0.03491991"
      ]
     },
     "metadata": {},
     "output_type": "display_data"
    },
    {
     "data": {
      "image/png": "[encoded data removed]",
      "text/plain": [
       "Plot with title “rs429358 FIN in 1000G Phase3; HWE P= 0.72”"
      ]
     },
     "metadata": {
      "image/png": {
       "height": 420,
       "width": 420
      }
     },
     "output_type": "display_data"
    }
   ],
   "source": [
    "geno = c(66,29,4)\n",
    "n = sum(geno) #number of individuals\n",
    "f = sum(geno*c(0,1,2))/(2*n) #(66*0 + 29*1 + 4*2) / (2*(66+29+4))\n",
    "f #MAF\n",
    "hwe.prop = c((1-f)^2, 2*f*(1-f), f^2) #these would be the genotype freqs under HWE\n",
    "rbind(obs = geno/n, hwe = hwe.prop) #print the observed genotype freqs and the HWE.\n",
    "#For testing HWE we use chi-square test even though counts are quite small in last cell:\n",
    "hwe.test = sum((geno - n*hwe.prop)^2/(n*hwe.prop)) #HWE test statistic\n",
    "hwe.p = pchisq(hwe.test, df = 1, lower = FALSE) #P-value from the test\n",
    "barplot(geno, main = paste(\"rs429358 FIN in 1000G Phase3; HWE P=\",signif(hwe.p,3)),\n",
    "        names = c(0,1,2), xlab = \"genotype\", col = \"skyblue\")"
   ]
  },
  {
   "cell_type": "markdown",
   "id": "244753fd",
   "metadata": {},
   "source": [
    "To get familiar with how to generate realistic genotype data,\n",
    "let's also make example\n",
    "genotype data for $n = 1000$ additional\n",
    "Finns at this variant, both by sampling from the genotype frequencies\n",
    "and by sampling from the allele frequencies (assuming HWE).\n",
    "Since this variant seems to follow HWE, we do not expect qualitative differences\n",
    "between the two simulation approaches."
   ]
  },
  {
   "cell_type": "code",
   "execution_count": 3,
   "id": "e5ec273e",
   "metadata": {
    "kernel": "R",
    "tags": [
     "report_cell"
    ]
   },
   "outputs": [],
   "source": [
    "set.seed(19) #setting seed guarantees the same simulation results every time this code is run\n",
    "n = 1000\n",
    "sample.from.geno = sample(c(0,1,2), prob = geno, size = n, replace = T) #sample from genotype frequencies\n",
    "# replace = TRUE means sampling with replacement, that is,\n",
    "# each genotype can be sampled many times, always with the same probabilities given in 'prob'\n",
    "tab = table(sample.from.geno) #table counts how many times each value is present\n",
    "counts.from.geno = rep(0,3) #How many carriers of each genotype\n",
    "counts.from.geno[ 1 + as.numeric( names(tab) )] = as.numeric(tab) #works even if some count is 0\n",
    "\n",
    "#To sample from HWE frequencies, we could use:\n",
    "#sample.from.hwe = sample(c(0,1,2), prob = c((1-f)^2, 2*f*(1-f), f^2), size = n, replace = T)\n",
    "#but a simpler way is to sample n genotypes directly from Bin(2,f) distribution:\n",
    "sample.from.hwe = rbinom(n, size = 2, p = f)\n",
    "counts.from.hwe = rep(0,3) #Let's count how many carriers of each genotype\n",
    "for(ii in 0:2){ #this is another way to do the counting compared to table() above\n",
    "  counts.from.hwe[ii+1] = sum(sample.from.hwe == ii)}\n",
    "\n",
    "rbind(geno = counts.from.geno/n, hwe = counts.from.hwe/n)\n",
    "\n",
    "barplot(cbind(counts.from.geno/n, counts.from.hwe/n),\n",
    "        names = c(\"geno\",\"HWE\"), beside = F, horiz = T)"
   ]
  },
  {
   "cell_type": "markdown",
   "id": "24385673",
   "metadata": {},
   "source": [
    "They *look* pretty similar but\n",
    "to do statistical inference we should also quantify the\n",
    "uncertainty of the estimates (e.g. by 95% intervals).\n",
    "For small counts, a Bayesian credible interval  called\n",
    "*Jeffreys interval* is preferred\n",
    "over the standard 95% confidence interval,\n",
    "whereas for larger counts the two approaches agree.\n",
    "Details of the two approaches are [here](https://en.wikipedia.org/wiki/Binomial_proportion_confidence_interval).\n",
    "\n",
    "Let's make Jeffreys intervals for the estimates of each genotype frequency\n",
    "in both of the data sets."
   ]
  },
  {
   "cell_type": "code",
   "execution_count": 4,
   "id": "90daeffc",
   "metadata": {
    "kernel": "R",
    "tags": [
     "report_cell"
    ]
   },
   "outputs": [],
   "source": [
    "interval.from.geno = matrix(NA, ncol = 2, nrow = 3) #empty matrix\n",
    "interval.from.hwe = matrix(NA, ncol = 2, nrow = 3)\n",
    "for(ii in 1:3){ #find intervals while looping over 3 genotypes\n",
    "  interval.from.geno[ii,] = qbeta(c(0.025,0.975), counts.from.geno[ii]+0.5, n-counts.from.geno[ii]+0.5)\n",
    "  interval.from.hwe[ii,] = qbeta(c(0.025,0.975), counts.from.hwe[ii]+0.5, n-counts.from.hwe[ii]+0.5)\n",
    "}"
   ]
  },
  {
   "cell_type": "markdown",
   "id": "f170e319",
   "metadata": {},
   "source": [
    "Now we can print out the observed genotype frequency (1st col) and its 95% interval (2nd and 3rd cols)\n",
    "for both data sets and compare whether the estimates seem similar\n",
    "given the uncertainty described by the intervals:"
   ]
  },
  {
   "cell_type": "code",
   "execution_count": 5,
   "id": "a9d1bbac",
   "metadata": {
    "kernel": "R",
    "tags": [
     "report_cell"
    ]
   },
   "outputs": [],
   "source": [
    "cbind(geno.est = counts.from.geno/n,interval.from.geno,\n",
    "      hwe.est = counts.from.hwe/n,interval.from.hwe )"
   ]
  },
  {
   "cell_type": "markdown",
   "id": "c08ca4c6",
   "metadata": {},
   "source": [
    "All estimates are within other data set's 95% Jeffreys credible interval and\n",
    "we have no reason to suspect frequency differences between the two data sets.\n",
    "\n",
    "A standard two-sample chi-square test can also be carried out to\n",
    "quantify the frequency difference as a P-value:"
   ]
  },
  {
   "cell_type": "code",
   "execution_count": 6,
   "id": "b131445d",
   "metadata": {
    "kernel": "R",
    "tags": [
     "report_cell"
    ]
   },
   "outputs": [],
   "source": [
    "chisq.test(rbind(counts.from.geno,counts.from.hwe)) #tests whether rows have same distribution"
   ]
  },
  {
   "cell_type": "markdown",
   "id": "d5c9b105",
   "metadata": {},
   "source": [
    "Unsurprisingly,\n",
    "this does not indicate any frequency difference between the two data sets\n",
    "as P-value is large (0.5361).\n",
    "We'll talk more about interpretation of P-values later."
   ]
  },
  {
   "cell_type": "markdown",
   "id": "8a7282ce",
   "metadata": {},
   "source": [
    "## 1.2 What is a genome-wide association study?"
   ]
  },
  {
   "cell_type": "markdown",
   "id": "664233f6",
   "metadata": {},
   "source": [
    "Let's look at some recent examples of GWAS.\n",
    "Two main types of GWAS are studying quantitative traits or disease phenotypes.\n",
    "\n",
    "**Example 1.2. QT-GWAS (slides 14-18)** [GWAS on body-mass index (BMI)](https://www.nature.com/articles/nature14177) by Locke et al. (2015)\n",
    "combined data of 339,000 individuals from 125 studies around\n",
    "the world to study the association of SNPs and BMI.\n",
    "It highlighted 97 regions of the genome\n",
    "with convincing statistical association with BMI.\n",
    "Pathway analyses provided support for a role of the central nervous system in\n",
    "obesity susceptibility and implicated new genes and pathways related to\n",
    "synaptic function, glutamate signalling, insulin secretion/action,\n",
    "energy metabolism, lipid biology and adipogenesis.\n",
    "\n",
    "**Example 1.3. Disease GWAS (slides 20-22)** [GWAS on migraine](https://www.nature.com/articles/ng.3598) by Gormley et al. (2016)\n",
    "combined genetic data on 60,000 cases (individuals with migraine)\n",
    "and 315,000 controls (individuals with no known migraine) originating from\n",
    "22 studies. Genetic data was available on millions of\n",
    "genetic variants. At each variant, the genotype distribution between cases and controls were\n",
    "compared. 38 regions of the genome showed a convincing statistical association with migraine.\n",
    "Downstream analyses combined the genes into pathways and cell types\n",
    "and highlighted enrichment of signals near genes that are active in vascular system.\n",
    "\n",
    "Terms:\n",
    "\n",
    "* **Monogenic** phenotype is determined by a single gene/locus.\n",
    "* **Oligogenic** phenotype is influenced by a handful of genes/loci.\n",
    "* **Polygenic** phenotype is influenced by many genes/loci.\n",
    "* **Complex trait** is a (quantitative) phenotype that is not monogenic. Typically polygenic and also influenced by many environmental factors.\n",
    "* **Common disease** is a disease/condition that is common in the population (say, prevalence of 0.1% or more). Examples:  MS-disease (prevalence in the order of 0.1%), schizophrenia (~1%) or Type 2 diabetes (~10%).\n",
    "* **Common variant** has frequency of at least 1% (also 5% is used as the threshold).\n",
    "* **Low-frequency variant** has frequency of at least 0.1% and lower than a common variant.\n",
    "* **Rare variant** has frequency lower than a low-frequency variant.\n",
    "\n",
    "GWAS have shown us that, very generally,\n",
    "complex traits and common diseases are highly polygenic,\n",
    "and many common variants with only small effects influence these phenotypes.\n",
    "We don't yet know which are the exact causal variants for each phenotype because\n",
    "of the correlation structure among genetic variants\n",
    "(this is the fine-mapping problem we'll look later).\n",
    "We also don't yet know very accurately\n",
    "how rare variants affect each phenotype because that requires very large\n",
    "sample sizes interrogated by *genome sequencing* techniques, not only by SNP arrays."
   ]
  },
  {
   "cell_type": "markdown",
   "id": "a088d7fa",
   "metadata": {},
   "source": [
    "### 1.2.1 Quantitative traits\n",
    "Let's mimick the data we see on slide 3.\n",
    "The phenotype is LDL-cholesterol level and we assume that the trait distributions\n",
    "of individuals with 0, 1 or 2 copies of allele T at SNP rs11591147\n",
    "are Normal distributions with SD=1 and with means of\n",
    "0.02, -0.40 and -2.00, respectively.\n",
    "Allele T frequency is 4% in Finland.\n",
    "Let's simulate $n=10,000$ individuals and boxplot them by genotype."
   ]
  },
  {
   "cell_type": "code",
   "execution_count": 7,
   "id": "3e8d118b",
   "metadata": {
    "kernel": "R",
    "tags": [
     "report_cell"
    ]
   },
   "outputs": [],
   "source": [
    "n = 10000\n",
    "f = 0.04\n",
    "mu = c(0.02, -0.40, -2.00) #mean of each genotype\n",
    "sigma = c(1, 1, 1) #SD of each genotype\n",
    "\n",
    "x = rbinom(n, size = 2, p = f) #genotypes for 'n' individuals assuming HWE\n",
    "table(x)/n #(always check that simulated data is ok before starting to work with it!)\n",
    "\n",
    "y = rep(NA,n) #make empty phenotype vector\n",
    "for(ii in 0:2){ #go through each genotype group: 0, 1, 2.\n",
    "  y[x == ii] = rnorm(sum(x == ii), mu[1+ii], sigma[1+ii]) } #generate trait for group ii\n",
    "\n",
    "boxplot(y ~ x, main = \"Simulated rs11591147 in Finns\", ylab = \"LDL\",\n",
    "        xlab = \"Copies of T\", col = \"limegreen\")"
   ]
  },
  {
   "cell_type": "markdown",
   "id": "bcf51c6d",
   "metadata": {},
   "source": [
    "We see that the phenotype varies with genotype in such a way that each additional\n",
    "copy of allele T decreases the level of LDL."
   ]
  },
  {
   "cell_type": "markdown",
   "id": "f317f044",
   "metadata": {},
   "source": [
    "##### Additive model\n",
    "The simplest way to analyze these data statistically is to\n",
    "use an **additive model**, that makes the assumption that the means of the groups\n",
    "depend additively on the number of allele 1 in the genotype, and\n",
    "that the SDs of the genotype groups are constant.\n",
    "Thus, we fit a linear model $y = \\mu + x \\beta + \\varepsilon$, where\n",
    "$y$ is the phenotype, $x$ is the genotype (0,1 or 2) and parameters to be estimated are\n",
    "\n",
    " * $\\mu$, the mean of genotype 0 and\n",
    " * $\\beta$, the effect of each copy of allele 1 on the mean phenotype.\n",
    "\n",
    "The error terms $\\varepsilon$\n",
    "are assumed to have an identical Normal distribution $N(0,\\sigma^2)$ where\n",
    "$\\sigma^2$ is not known and will be estimated from the data.\n",
    "Let's fit this linear model in R using `lm()`."
   ]
  },
  {
   "cell_type": "code",
   "execution_count": 8,
   "id": "8fed0990",
   "metadata": {
    "kernel": "R",
    "tags": [
     "report_cell"
    ]
   },
   "outputs": [],
   "source": [
    "lm.fit = lm(y ~ x)\n",
    "summary(lm.fit)"
   ]
  },
  {
   "cell_type": "markdown",
   "id": "c5b5192e",
   "metadata": {},
   "source": [
    "The `summary(lm.fit)` command produced\n",
    "\n",
    "* parameter estimates (or Coefficients) $\\widehat{\\mu}$ and $\\widehat{\\beta}$,\n",
    "* their standard errors (SE) (estimates for square root of the sampling variance of the parameter estimates),\n",
    "* t-statistic (estimate/SE) and\n",
    "* P-value under the null hypothesis that the parameter is 0 and errors are uncorrelated and have  distribution $N(0,\\sigma^2)$.\n",
    "\n",
    "Under the assumptions of linear model,\n",
    "sampling distribution of t-statistic is $t$-distribution and hence q% confidence\n",
    "intervals are determined as $\\widehat{\\beta}\\pm a\\times \\textrm{SE}$,\n",
    "where $a$ is the q/2% quantile of $t$-distribution with $n-2$ degrees of freedom.\n",
    "When $\\sigma^2$ is known, the $t$-distribution is replaced by a Gaussian,\n",
    "and same is approximately true when $n$ becomes large,\n",
    "even if estimate $\\widehat{\\sigma^2}$ is used in computing SE.\n",
    "In these cases, we often talk about z-statistic instead of t-statistic.\n",
    "In GWAS analyses, we typically have thousands of samples\n",
    "and use z-scores and the Normal approximation by default.\n",
    "\n",
    "The last paragraph in the output tells about the full model fit.\n",
    "We can measure how much variation in $y$ is left unexplained by the model\n",
    "by computing **residual sum of squares** (RSS):\n",
    "$$\n",
    "RSS = \\sum_{i=1}^n \\left(y_i - \\widehat{\\mu} - x_{i} \\widehat{\\beta}\\right)^2\n",
    "$$\n",
    "$R^2$ is the proportion of variance explained by the linear model,\n",
    "i.e., $R^2 = 1-\\frac{RSS}{n-1} / \\widehat{\\textrm{Var}}(y)$.\n",
    "Adjusted version penalizes for additional predictors and is defined here\n",
    "as $R_{adj}^2 = 1-\\frac{RSS}{n-2} / \\widehat{\\textrm{Var}}(y)$.\n",
    "Note that if there is only the\n",
    "intercept parameter $\\mu$ in the model,\n",
    "then $R^2=R_{adj}^2=0$, and if the model explains data perfectly ($RSS=0$),\n",
    "then $R^2=R_{adj}^2=1$.\n",
    "In other cases $R^2$ values are between 0 and 1\n",
    "and larger values mean more variance explained by the model.\n",
    "\n",
    "However, $R^2$ should not be the only value used to judge how suitable\n",
    "the model is for the data. One should also plot the data and the model\n",
    "fit in different ways to assess this question. (Although, of course not\n",
    "for all variants in GWAS, but for the most interesting ones.)\n",
    "For this simple linear model, a scatter plot and a regression line is a good way to\n",
    "assess whether there seem to be deviations from the additivity assumption.\n",
    "Additionally, the differences in residual variation between the groups\n",
    "could indicate interaction effecs between the genetic variant and\n",
    "some other genetic or environmental variable."
   ]
  },
  {
   "cell_type": "code",
   "execution_count": 9,
   "id": "44d56ee8",
   "metadata": {
    "kernel": "R",
    "tags": [
     "report_cell"
    ]
   },
   "outputs": [],
   "source": [
    "plot( x + runif(n, -0.05, 0.05), y, xlab = \"genotype\", ylab = \"LDL\", xaxt = \"n\",\n",
    "      pch = 3, cex = 0.5, col = \"gray\")\n",
    "#runif() adds some jitter to x so that all points are not on top of each other\n",
    "axis(1, at = 0:2, labels = 0:2)\n",
    "points(0:2, c(mean(y[x==0]), mean(y[x==1]), mean(y[x==2])), col = \"red\", pch = \"X\", cex = 1.3)\n",
    "abline(lm.fit, col = \"orange\", lwd = 2)\n",
    "legend(\"topright\", pch = \"X\", legend =\"group means\", col = \"red\")"
   ]
  },
  {
   "cell_type": "markdown",
   "id": "64738c53",
   "metadata": {},
   "source": [
    "**Conclusion**: We see a statistically highly significant association between the\n",
    "genotype and phenotype where a copy of allele T decreases LDL levels by 0.45 units.\n",
    "This variant explains about\n",
    "1.5% of the variation in LDL-cholesterol levels. We also see that individuals homozygous\n",
    "for allele T (genotype 2) have on average lower levels of LDL than the model predicts,\n",
    "which indicates a deviation from the additivity assumption.\n",
    "Let's next fit a full 2-parameter model to quantify this deviation."
   ]
  },
  {
   "cell_type": "markdown",
   "id": "d73bf315",
   "metadata": {},
   "source": [
    "#### Full model\n",
    "Let's add a new parameter $\\gamma$ to the model that describes the residual effect\n",
    "for group 2 after the additive effect is accounted for.\n",
    "The model is $y = \\mu + x\\beta + z\\gamma + \\varepsilon,$\n",
    "where $z$ is indicator of genotype 2, i.e., $z_i=1$ if individual $i$ has genotype 2\n",
    "and otherwise $z_i=0$.\n",
    "This is the full model\n",
    "where each genotype group has its own mean (genotype 0: $\\mu$;\n",
    "genotype 1: $\\mu + \\beta$\n",
    "and genotype 2: $\\mu + 2\\beta + \\gamma$)."
   ]
  },
  {
   "cell_type": "code",
   "execution_count": 10,
   "id": "4199a797",
   "metadata": {
    "kernel": "R",
    "tags": [
     "report_cell"
    ]
   },
   "outputs": [],
   "source": [
    "z = as.numeric( x == 2 ) #z is indicator for genotype group 2\n",
    "lm.full = lm( y ~ x + z )\n",
    "summary(lm.full)"
   ]
  },
  {
   "cell_type": "markdown",
   "id": "7c16721d",
   "metadata": {},
   "source": [
    "It seems that also the new variable is useful (large effect and small P-value).\n",
    "Now the interpretation of coefficients is that genotype 1 has avg. phenotype\n",
    "of -0.40 and genotype 2 has avg. phenotype -0.398*2-1.206 = -2.00.\n",
    "\n",
    "Note also that the full model above gives the same model fit and is simply\n",
    "a different parameterization of\n",
    "the linear regression that treats the genotype as a factor with three levels."
   ]
  },
  {
   "cell_type": "code",
   "execution_count": 11,
   "id": "0bda51c3",
   "metadata": {
    "kernel": "R",
    "tags": [
     "report_cell"
    ]
   },
   "outputs": [],
   "source": [
    "lm.full2 = lm( y ~ as.factor(x) )\n",
    "summary(lm.full2)"
   ]
  },
  {
   "cell_type": "markdown",
   "id": "65e72b22",
   "metadata": {},
   "source": [
    "We should use this latter parameterisation of the full model if we are interested\n",
    "in SE of the genetic effect of genotype 2, because that information is not\n",
    "given by the first parameterisation of the full model. If we instead are\n",
    "interested to quantify how much the data show deviation from the additivity\n",
    "then the first parameterisation is the most suitable.\n",
    "\n",
    "(The latter parameterisation is also the same model as the\n",
    "traditional Analysis of Variance ANOVA but\n",
    "we are working within the regression model framework for reasons that become clear\n",
    "once we get to confounders and covariates.)\n",
    "\n",
    "All these models make the same assumption that SD is constant across the\n",
    "genotype groups."
   ]
  },
  {
   "cell_type": "markdown",
   "id": "4d10ab45",
   "metadata": {},
   "source": [
    "#### Current approach to quantitative phenotypes in GWAS\n",
    "\n",
    "Almost all GWAS analyze quantitative traits using the additive model, i.e.,\n",
    "a linear regression model with a single parameter for genetic effect.\n",
    "The full model is typically only used for a small group of interesting variants\n",
    "identified by the additive model\n",
    "to check them manually for possible deviations from the additive effects.\n",
    "The main reason for this is that the additive model is usually almost as\n",
    "powerful to find associations as the full model even when deviations from additivity are present\n",
    "in the data, since typically one of the genotype groups is much smaller than the other two and\n",
    "hence does not affect much the statistical model fit.\n",
    "Additionally, our current understanding is\n",
    "that most associations follow well the additive model and\n",
    "the additive model has more power than the full model, for these cases.\n",
    "(But note that our current understanding may be biased in favor of\n",
    "the additive model since we do not usually look very carefully\n",
    "for non-additive effects.)\n",
    "It would seem useful to run both the additive and full model in GWAS,\n",
    "but this is often not\n",
    "done because there are millions of variants to be analyzed\n",
    "and hence there are a lot of work and output\n",
    "already when only the simplest model is applied.\n",
    "\n",
    "**Quantile normalisation (QN).**\n",
    "Often in large GWAS the quantitative phenotype is forced to follow a\n",
    "Normal distribution by quantile normalisation (also *inverse-Normal transfromation*).\n",
    "This way the effect of phenotypic outliers is diminished while keeping the\n",
    "ranking of the trait values constant.\n",
    "This also harmonizes the trait distributions across multiple cohorts by\n",
    "forcing them to look similar.\n",
    "\n",
    "To apply QN to a set of $n$ trait values,\n",
    "we first regress out from the trait values the central covariates\n",
    "(such as sex and age) using a linear model.\n",
    "Then we order the residuals of the regression in ascending order\n",
    "$\\widehat{r}_{(1)}\\leq \\ldots \\leq \\widehat{r}_{(n)}$.\n",
    "Now the QN'ed trait values for the sample is taken from\n",
    "the inverse of the cumulative distribution function of the Normal distribution\n",
    "at $n$ equally spaced values between 0 and 1, and the resulting values\n",
    "$q_1 \\leq \\ldots \\leq q_n$ are matched to the individuals so that the value\n",
    "$q_i$ becomes the trait value for individual who corresponds to residual\n",
    "$\\widehat{r}_{(i)}$. Advantage of QN is robustness to outliers and to systematic\n",
    "differences in measurements between studies. A disadvantage is that we\n",
    "lose some information of the phenotype distribution, which could be useful\n",
    "if it was modeled properly.\n",
    "\n",
    "Let's do QN for 100 males and 100 females where the phenotype\n",
    "in males follows $2+\\textrm{Gamma}(\\textrm{shape}=1.5,\\textrm{scale}=1.5)$ and\n",
    "in females $6+\\textrm{Gamma}(\\textrm{shape}=1.5,\\textrm{scale}=1.5)$."
   ]
  },
  {
   "cell_type": "code",
   "execution_count": 12,
   "id": "6c72aeaa",
   "metadata": {
    "Rmd_chunk_options": "fig.height=4",
    "kernel": "R",
    "tags": [
     "report_cell"
    ]
   },
   "outputs": [],
   "source": [
    "n = 200 #males + females\n",
    "fem = rep( c(0,1), each = n/2) #who is female\n",
    "y = 2 + rgamma(n, shape = 1.5, scale = 1.5) #males have shift of 2\n",
    "y[fem == 1] = 4 + y[fem == 1] #females have shift of 6 = 2 + 4\n",
    "hist(y, breaks = 30, col = \"khaki\") #shows some outliers compared to mixture of 2 Normals\n",
    "\n",
    "#regress out sex and take residuals\n",
    "lm.fit = lm(y ~ fem)\n",
    "r = residuals(lm.fit)\n",
    "\n",
    "#find QN'ed trait values from qnorm = inverse of cumulative distribution of Normal\n",
    "inv.normalise <- function(x) { #this would also tolerate NAs\n",
    "  return( qnorm( (rank(x, na.last = \"keep\") - 0.5) / sum(!is.na(x))))}\n",
    "q = inv.normalise(r)\n",
    "#Let's plot y and q (after scaling to mean=0, var=1)\n",
    "par(mfrow = c(1,2))\n",
    "plot(density(scale(y)), col = \"black\", lwd = 2, xlim = c(-4,4), ylim = c(0,0.5),\n",
    "     xlab = \"trait\", main = \"\" )\n",
    "lines(density(scale(q)), col = \"darkgreen\", lwd = 2)\n",
    "plot(y, q, col = c(\"cyan\",\"gold\")[1+fem])\n",
    "legend(\"bottomright\", col = c(\"cyan\",\"gold\"), pch = 1, leg = c(\"male\",\"female\") )"
   ]
  },
  {
   "cell_type": "markdown",
   "id": "df73e1ef",
   "metadata": {},
   "source": [
    "We see that (right plot) the outliers on the original scale are still\n",
    "the most extreme values in QN-scale on y-axis,\n",
    "but they are now close to the other values and not anymore outliers.\n",
    "The QN'ed trait, obviously, looks perfectly Normal (left plot)\n",
    "while in the original trait we see outliers on right tail.\n",
    "We also see\n",
    "the effect of sex as the two modal distribution of $y$,\n",
    "which was evened out by the regression step **before** QN was applied."
   ]
  },
  {
   "cell_type": "markdown",
   "id": "fe898516",
   "metadata": {},
   "source": [
    "### 1.2.2 Binary phenotypes\n",
    "\n",
    "How do we look for the association between a genotype and a binary disease status?\n",
    "Here the phenotype is 0-1 indicator whether an individual is a **case** (y=1; has the disease)\n",
    "or a **control** (y=0; does not have a disease).\n",
    "If we take a practical approach, we could just apply the linear regression model\n",
    "to binary outcome variable but it is not conceptually satisying\n",
    "because the error terms cannot be assumed normally distributed.\n",
    "Hence we will use a generalized linear regression model called **logistic regression**.\n",
    "To derive the model, let's first define the effect size parameter for binary outcomes."
   ]
  },
  {
   "cell_type": "markdown",
   "id": "1e5592a3",
   "metadata": {},
   "source": [
    "#### Relative risk and odds ratio\n",
    "\n",
    "To measure whether a genotype affects disease status, we consider the\n",
    "**relative risk** (RR) parameter for genotype 1\n",
    "$$\\lambda_1 = \\frac{\\textrm{Pr}(Y=1|X=1)}{\\textrm{Pr}(Y=1|X=0)}.$$\n",
    "Thus $\\lambda_1$ tells how many times larger the risk of getting the disease is\n",
    "for individuals with genotype 1 compared to individuals with genotype 0.\n",
    "If\n",
    "\n",
    " * $\\lambda_1 = 1$, there is no association to disease,\n",
    " * $\\lambda_1 > 1$, genotype 1 confers risk to disease,\n",
    " * $\\lambda_1 < 1$, genotype 1 confers protection to disease.\n",
    "\n",
    "Similarly we define relative risk $\\lambda_2$ as the factor by which genotype 2\n",
    "multiplies the disease risk of genotype 0.\n",
    "\n",
    "Relative risk is a simple to define, but it turns out not to be very\n",
    "easy to estimate in the regression setting, particularly in the typical GWAS setting.\n",
    "However, if we modify the parameter slightly from comparing risks to comparing odds,\n",
    "we will get a measure that can be estimated in practice.\n",
    "The odds corresponding to a probability value $p$\n",
    "are $p/(1-p)$, i.e. they tell how many times as probable the event is to occur than\n",
    "it is to not occur. If probability of a disease is 50%, then the odds of disease are 1,\n",
    "if $p=1\\%$ then odds are $1/99 = 0.0101$ and if $p=99\\%$ then odds are 99.\n",
    "Just like with RR we measured the *relative* increase in risk between two genotypes,\n",
    "with odds we also use relative odds, also known as **odds ratio**, between genotypes.\n",
    "So the odds ratio for genotype 1 is\n",
    "$$\\textrm{OR}_1 = \\frac{\\textrm{Pr}(Y=1|X=1)}{\\textrm{Pr}(Y=0|X=1)} :  \\frac{\\textrm{Pr}(Y=1|X=0)}{\\textrm{Pr}(Y=0|X=0)} =\n",
    "\\frac{\\textrm{Pr}(Y=1|X=1) \\textrm{Pr}(Y=0|X=0)}{\\textrm{Pr}(Y=1|X=0)\\textrm{Pr}(Y=0|X=1)}.$$\n",
    "By Bayes formula we\n",
    "can swap the roles of $Y$ and $X$ in the above formula, e.g., by writing\n",
    "$\\textrm{Pr}(Y=1|X=1) = \\textrm{Pr}(X=1|Y=1) \\textrm{Pr}(Y=1) / \\textrm{Pr}(X=1)$.\n",
    "By applying this to all 4 terms, we get\n",
    "$$\\textrm{OR}_1 = \\frac{\\textrm{Pr}(X=1|Y=1) \\textrm{Pr}(Y=1) \\textrm{Pr}(X=0)\n",
    "\\textrm{Pr}(X=0|Y=0) \\textrm{Pr}(Y=0) \\textrm{Pr}(X=1)} {\\textrm{Pr}(X=0|Y=1) \\textrm{Pr}(Y=1)\\textrm{Pr}(X=1)\n",
    "\\textrm{Pr}(X=1|Y=0) \\textrm{Pr}(Y=0) \\textrm{Pr}(X=0)} =\n",
    "\\frac{\\textrm{Pr}(X=1|Y=1)\n",
    "\\textrm{Pr}(X=0|Y=0) } {\\textrm{Pr}(X=0|Y=1)\n",
    "\\textrm{Pr}(X=1|Y=0) }.$$\n",
    "This shows that we can estimate our target odds ratio for the disease between\n",
    "different genotypes\n",
    "equally well by collecting individuals based on disease status and observing\n",
    "their genotype distributions. This is the important property why odds ratios\n",
    "are possible to measure in a typical disease GWAS that collects individuals\n",
    "by disease status and then measures the genotypes.\n",
    "\n",
    "**Example 1.4. OR and risk.**\n",
    "Suppose that we know that there is a strong risk variant for Alzheimer's disease (AD)\n",
    "with OR=3.0 (for one copy of the risk allele). Suppose that non-carriers of the\n",
    "risk allele have a lifetime risk of 15% of AD. How large is the lifetime risk\n",
    "for carriers of one or two copies of the risk variant?\n",
    "\n",
    "Let $p_0=0.15$ be the risk in non-carriers. We know that odds of carriers of one copy\n",
    "are $p_1/(1-p_1) = 3.0\\cdot p_0/(1-p_0) = 3.0\\cdot 0.15/0.85 = 0.5294$. Hence\n",
    "the risk is $p_1 = 0.5294/(1+0.5294) = 0.346$. That is, 35%.\n",
    "\n",
    "For carriers of two copies,\n",
    "$p_2/(1-p_2) = 3.0\\cdot p_1/(1-p_1) = 3.0\\cdot 0.5294 = 1.5882$ and\n",
    "$p_2 = 1.5882 / (1 + 1.5882) = 0.61363$. That is, 61%."
   ]
  },
  {
   "cell_type": "markdown",
   "id": "81fd9229",
   "metadata": {},
   "source": [
    "#### Inference for OR based on counts\n",
    "In practice, GWAS analyses for disease studies are done using regression models since\n",
    "they have a possibility to account for confounding covariates.\n",
    "However, sometimes it is also useful to be able to quickly estimate OR parameters\n",
    "and their uncertainty using count data without access to regression models.\n",
    "But remember that such estimates cannot be adjusted for covariates\n",
    "and therefore can be biased by confounding factors.\n",
    "\n",
    "Suppose we have observed the following genotype counts:\n",
    "\n",
    "group | genotype 0 | genotype 1 | genotype 2\n",
    "-|-|-|-\n",
    "cases | $S_0$ | $S_1$ | $S_2$\n",
    "controls | $R_0$ | $R_1$ | $R_2$\n",
    "\n",
    "Then the estimates for odds-ratio between genotype 1 and genotype 0, its logarithm\n",
    "and the standard error of the logOR are\n",
    "$$\\widehat{\\textrm{OR}}_1 = \\frac{S_1 R_0}{S_0 R_1},\\qquad \\log\\left(\\widehat{\\textrm{OR}}_1 \\right) =\n",
    "\\log\\left(\\frac{S_1 R_0}{S_0 R_1}\\right) \\qquad \\textrm{ and } \\qquad\n",
    "\\textrm{SE}\\left( \\log\\left(\\widehat{\\textrm{OR}}_1 \\right) \\right) = \\sqrt{\\frac{1}{R_1} + \\frac{1}{R_0} + \\frac{1}{S_1} + \\frac{1}{S_0}}.$$\n",
    "In particular, standard error can only be calculated for logOR and not for OR because\n",
    "only the sampling distribution of logOR is approximately Normal.\n",
    "\n",
    "The 95% confidence interval for logOR is, naturally,\n",
    "$(\\textrm{logOR}-1.96\\cdot \\textrm{SE},\\, \\textrm{logOR}+1.96\\cdot \\textrm{SE})$,<br>\n",
    "and 95% CI for OR is $(\\exp(\\textrm{logOR}-1.96\\cdot \\textrm{SE}),\\, \\exp(\\textrm{logOR}+1.96\\cdot \\textrm{SE}))$.<br>\n",
    "Thus, the endpoints of the 95%CI must always be computed on the log-odds scale\n",
    "and then transformed to the OR scale.\n",
    "\n",
    "Similar inference can be done for the $\\textrm{OR}_2$ parameter measuring the odds-ratio\n",
    "between genotypes 2 and 0 by substituting the counts of genotype 1 with the counts of genotype 2 in the formulas above.\n",
    "\n",
    "If any counts are very small, or even 0, the SE is not reliable.\n",
    "One can add a value of 0.5 to each of the observed counts to\n",
    "get an OR estimate even in these case, but one shouldn't rely on the SE estimate."
   ]
  },
  {
   "cell_type": "markdown",
   "id": "906e0df3",
   "metadata": {},
   "source": [
    "#### Logistic regression\n",
    "Logistic regression model takes the place of linear regression as the\n",
    "basic GWAS model when the phenotype is binary.\n",
    "It explains the logarithm of the odds of the disease by\n",
    "the genotype. The simplest model is the **additive** model:\n",
    "$$\\log\\left( \\frac{\\textrm{Pr}(Y=1|X=x)}{\\textrm{Pr}(Y=0|X=x)} \\right)\n",
    "= \\mu + x\\beta.$$\n",
    "Thus, $\\mu$ is the logarithm of odds ('log-odds') for genotype 0 and $\\beta$ is the log of\n",
    "odds ratio (logOR) between genotype 1 and 0 (and $\\exp(\\beta)$ is the corresponding odds ratio).\n",
    "Similarly $2\\beta$ is the logOR between genotypes 2 and 0.\n",
    "This model is additive on the log-odds scale and hence multiplicative on the odds scale.\n",
    "Due to this duality, it is sometimes called additive model and sometimes\n",
    "called multiplicative model, which is a source of confusion.\n",
    "In these notes, it is called the additive model.\n",
    "In R, such a logistic regression model can be fitted by `glm(y~x, family=\"binomial\")`.\n",
    "\n",
    "To try out logistic regression, we should learn how to\n",
    "simulate some case-control data according to\n",
    "the logistic regression model.\n",
    "\n",
    "**Example 1.5.**\n",
    "Let's assume that our risk allele $A$ has frequency 13% in controls,\n",
    "and that it is in HWE in controls. If the risk model is additive on log-odds scale\n",
    "with odds-ratio 1.43 per each copy of allele A, what are the genotype frequencies\n",
    "in cases?\n",
    "\n",
    "Let's denote case frequencies by $f_0, f_1, f_2$ and control frequencies\n",
    "by $q_0, q_1, q_2.$\n",
    "From formulas above, we get that\n",
    "$$f_1 = \\textrm{Pr}(A=1|Y=1) = \\textrm{OR}_1 \\frac{\\textrm{Pr}(A=1|Y=0)} {\\textrm{Pr}(A=0|Y=0) } \\textrm{Pr}(A=0|Y=1) = \\textrm{OR}_1 \\frac{q_1 f_0}{q_0},$$\n",
    "$$f_2 = \\textrm{Pr}(A=2|Y=1) = \\textrm{OR}_2 \\frac{\\textrm{Pr}(A=2|Y=0)} {\\textrm{Pr}(A=0|Y=0) } \\textrm{Pr}(A=0|Y=1) = \\textrm{OR}_2 \\frac{q_2 f_0}{q_0}.$$\n",
    "Since $f_0+f_1+f_2=1,$ we get\n",
    "$$f_0 = \\left(1 + \\textrm{OR}_1 \\frac{q_1}{q_0} +\\textrm{OR}_2 \\frac{q_2 }{q_0}\\right)^{-1}.$$\n",
    "Now we can compute the genotype frequencies in cases\n",
    "(note $\\textrm{OR}_2 = \\textrm{OR}_1^2$ under the additive model):"
   ]
  },
  {
   "cell_type": "code",
   "execution_count": 13,
   "id": "78acd86b",
   "metadata": {
    "kernel": "R",
    "tags": [
     "report_cell"
    ]
   },
   "outputs": [],
   "source": [
    "or = 1.43\n",
    "a.cntrl = 0.13\n",
    "q = c((1-a.cntrl)^2, 2*a.cntrl*(1-a.cntrl), a.cntrl^2) #HWE holds in controls\n",
    "f.0 = 1/(1 + or*q[2]/q[1] + or^2*q[3]/q[1])\n",
    "f = c(f.0, or*q[2]/q[1]*f.0, or^2*q[3]/q[1]*f.0)\n",
    "rbind(controls = q, cases = f) #print out cases and controls"
   ]
  },
  {
   "cell_type": "markdown",
   "id": "7f4edf05",
   "metadata": {},
   "source": [
    "Let's generate 2000 cases and controls from these genotype frequencies\n",
    "and estimate the genetic effect using logistic regression."
   ]
  },
  {
   "cell_type": "code",
   "execution_count": 14,
   "id": "5340bdf0",
   "metadata": {
    "kernel": "R",
    "tags": [
     "report_cell"
    ]
   },
   "outputs": [],
   "source": [
    "n = 2000\n",
    "x.cases = sample(c(0,1,2), prob = f, size = n, replace = T)\n",
    "x.controls = sample(c(0,1,2), prob = q, size = n, replace = T)\n",
    "x = c(x.cases, x.controls) #genotypes of all samples\n",
    "y = c(rep(1,n), rep(0,n)) #binary phenotype corresponding to genotypes: 1st cases, then controls\n",
    "glm.fit = glm(y ~ x, family = \"binomial\")\n",
    "summary(glm.fit)"
   ]
  },
  {
   "cell_type": "markdown",
   "id": "c0bbcd72",
   "metadata": {},
   "source": [
    "What is the estimate and 95%CI on odds ratio scale?"
   ]
  },
  {
   "cell_type": "code",
   "execution_count": 15,
   "id": "66d2f3e5",
   "metadata": {
    "kernel": "R",
    "tags": [
     "report_cell"
    ]
   },
   "outputs": [],
   "source": [
    "b = summary(glm.fit)$coeff[2,1] #estimate, beta-hat\n",
    "se = summary(glm.fit)$coeff[2,2] #standard error\n",
    "exp(c(b, b - 1.96*se, b + 1.96*se)) #endpoints always on logOR scale, then transform to OR scale"
   ]
  },
  {
   "cell_type": "markdown",
   "id": "257dec36",
   "metadata": {},
   "source": [
    "Let's compare the result from the additive logistic regression model to\n",
    "the results that we get from the raw genotype counts between the genotypes 1 and 0\n",
    "using the formulas above (see \"Inference for OR based on counts\"):"
   ]
  },
  {
   "cell_type": "code",
   "execution_count": 16,
   "id": "40decc04",
   "metadata": {
    "kernel": "R",
    "tags": [
     "report_cell"
    ]
   },
   "outputs": [],
   "source": [
    "s1 = sum(x.cases == 1); s0 = sum(x.cases == 0); r1 = sum(x.controls == 1); r0 = sum(x.controls == 0)\n",
    "or.1.counts = s1*r0/s0/r1\n",
    "se.1.counts = sqrt(sum( 1/c(s1,s0,r1,r0) ) )\n",
    "c(or.1.counts, exp(log(or.1.counts) - 1.96*se.1.counts), exp(log(or.1.counts) + 1.96*se.1.counts) )"
   ]
  },
  {
   "cell_type": "markdown",
   "id": "e018a214",
   "metadata": {},
   "source": [
    "These are a bit different from the additive model results above.\n",
    "The reason is that the additive model above\n",
    "also uses the data from individuals with genotype 2 to estimate\n",
    "the OR parameter. It turns out that if we apply the additive regression model\n",
    "only to the individuals having either genotype 0 or genotype 1, then we get\n",
    "essentially the same results\n",
    "as we get from the raw counts:"
   ]
  },
  {
   "cell_type": "code",
   "execution_count": 17,
   "id": "28ea0aa2",
   "metadata": {
    "kernel": "R",
    "tags": [
     "report_cell"
    ]
   },
   "outputs": [],
   "source": [
    "glm.fit = glm(y[x != 2] ~ x[x != 2], family = \"binomial\")\n",
    "b = summary(glm.fit)$coeff[2,1] #estimate, beta-hat\n",
    "se = summary(glm.fit)$coeff[2,2] #standard error\n",
    "exp(c( b, b - 1.96 * se, b + 1.96 * se ))"
   ]
  },
  {
   "cell_type": "markdown",
   "id": "eaabdd43",
   "metadata": {},
   "source": [
    "Remember that even though the count based inference and logistic regression inference\n",
    "based on additive model gives similar results here, they may give very different\n",
    "results when there are confounding covariates included in the regression model, and\n",
    "in such situations we trust more in the regression model results.\n",
    "We come back to this later.\n",
    "\n",
    "\n",
    "\n",
    "Analogous to the quantitative phenotypes, we can use the full model also\n",
    "for the binary data:"
   ]
  },
  {
   "cell_type": "code",
   "execution_count": 18,
   "id": "88a72e40",
   "metadata": {
    "kernel": "R",
    "tags": [
     "report_cell"
    ]
   },
   "outputs": [],
   "source": [
    "z = as.numeric( x == 2 )\n",
    "glm.full = glm( y ~ x + z, family = \"binomial\")\n",
    "summary(glm.full)"
   ]
  },
  {
   "cell_type": "markdown",
   "id": "d78fcd36",
   "metadata": {},
   "source": [
    "In this example, we have no deviation from additivity."
   ]
  },
  {
   "cell_type": "markdown",
   "id": "81861bf1",
   "metadata": {},
   "source": [
    "#### Ascertained case-control studies\n",
    "\n",
    "Suppose we are studying MS disease whose prevalence is about 1/1000.\n",
    "Even if we collect 100,000 individuals from the population, we still\n",
    "would get only about 100 cases! In ascertained case-control studies\n",
    "we enrich cases by collecting a case sample directly from the diseased people\n",
    "and similarly we collect controls either from the general population or, even better,\n",
    "from the individuals we know are disease free. (For diseases with prevalence < 1%\n",
    "there is little difference between these control ascertainment strategies.)\n",
    "Thus by a phenotype-based ascertainment\n",
    "we may have a GWAS of 10,000 individuals that is divided into\n",
    "sample of 5,000 cases and 5,000 controls. This approach gives much\n",
    "higher power than population collection of\n",
    "100 cases and ~100,000 controls. (We will do power analyses next week.)\n",
    "\n",
    "Can we analyse such ascertained case-control samples using the same logistic regression\n",
    "model as applied above? The answer is yes. The parameter $\\beta$ is the logOR\n",
    "and we showed earlier that this parameter can be estimated also\n",
    "by ascertaining individuals based on their phenotypes.\n",
    "This result also extends to the use of logistic regression.\n",
    "However,\n",
    "the parameter $\\mu$ that determines the absolute odds of disease for genotype class 0\n",
    "depends on the sampling strategy, i.e., on the proportion of cases in the data.\n",
    "Thus, in ascertained data, $\\mu$ does NOT estimate the population prevalence parameter\n",
    "of the genotype group 0.\n",
    "However, we can still apply the logistic regression model to\n",
    "the ascertained case-control sample\n",
    "and estimate the three central association statistics:\n",
    "genetic effect $\\beta$, its uncertainty (standard error),\n",
    "and P-value."
   ]
  },
  {
   "cell_type": "markdown",
   "id": "831b9a53",
   "metadata": {},
   "source": [
    "#### GWAS software\n",
    "\n",
    "As current GWAS consider 10,000s of individuals and millions of variants,\n",
    "those analyses are done with a specific software that read the specific file formats.\n",
    "Most popular software is PLINK in its recent, efficient version [2.0](https://www.cog-genomics.org/plink/2.0/).\n",
    "Another widely used software is  [SNPTEST](https://mathgen.stats.ox.ac.uk/genetics_software/snptest/snptest.html).\n",
    "\n",
    "In this course, we do not focus on the commands or input file formats\n",
    "of any particular software, since that would take already all our time\n",
    "and the software are in constant development.\n",
    "The goal of this course is to understand why each analysis is done\n",
    "and how to interpret the output, in particular from a statistical\n",
    "point of view. These skills are independent of the GWAS software."
   ]
  }
 ],
 "metadata": {
  "Rmd_chunk_options": {
   "author": "Matti Pirinen, University of Helsinki",
   "date": "Last updated: 28-Oct-2020, 1st version: 15-Jan-2019",
   "output": {
    "html_document": "default"
   },
   "title": "GWAS 1: What is a GWAS?",
   "urlcolor": "blue"
  },
  "kernelspec": {
   "display_name": "R",
   "language": "R",
   "name": "ir"
  },
  "language_info": {
   "codemirror_mode": "r",
   "file_extension": ".r",
   "mimetype": "text/x-r-source",
   "name": "R",
   "pygments_lexer": "r",
   "version": "4.2.1"
  },
  "sos": {
   "kernels": [
    [
     "SoS",
     "sos",
     "",
     ""
    ],
    [
     "R",
     "ir",
     "",
     ""
    ]
   ]
  }
 },
 "nbformat": 4,
 "nbformat_minor": 5
}
