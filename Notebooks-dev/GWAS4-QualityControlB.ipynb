{
 "cells": [
  {
   "cell_type": "markdown",
   "id": "5650c957-6893-44f5-8307-b39a9f0fce81",
   "metadata": {},
   "source": []
  },
  {
   "cell_type": "markdown",
   "id": "730c8389-5d0d-4258-8bb0-7a90f1377018",
   "metadata": {},
   "source": [
    "---\n",
    "title: \"Quality Control: Relatedness & Population Stratification\"\n",
    "author:\n",
    "    - name: Conor O'Hare\n",
    "    - name: Samuele Soraggi\n",
    "      orcid: 0000-0002-1159-5535\n",
    "      email: samuele@birc.au.dk\n",
    "    - name: Alba Refoyo Martinez\n",
    "      orcid: 0000-0002-3674-4007\n",
    "      email: alba.martinez@sund.ku.dk   \n",
    "---\n"
   ]
  },
  {
   "cell_type": "markdown",
   "id": "0e082220-ac80-4df7-9ceb-419e4fe4bde1",
   "metadata": {},
   "source": [
    "---\n",
    "format:\n",
    "  html:\n",
    "   theme: default\n",
    "   number-sections: true\n",
    "   code-fold: false\n",
    "   self-contained: false\n",
    "   toc: true\n",
    "   highlight-style: pygments\n",
    "  ipynb:\n",
    "    toc: true\n",
    "    number-sections: false\n",
    "bibliography: references/references_4.bib\n",
    "---"
   ]
  },
  {
   "cell_type": "markdown",
   "id": "9a06a928-7da8-4c80-9126-81fc5cc3d526",
   "metadata": {},
   "source": [
    "::: {.callout-note title=\"Important notes for this notebook\" icon=false}\n",
    "\n",
    "As we have already mentioned, quality control (QC) analyses are crucial to ensure the reliability and validity of the results. In this section, we will explore confounding factors in GWAS that can lead to spurious associations if not properly controlled, including: \n",
    "\n",
    "-  Relatedness  \n",
    "- Population Stratification/Structure\n",
    "\n",
    "## Learning outcomes\n",
    "\n",
    "- **Discuss** confounding factors that lead to spurious associations\n",
    "- **Detect** related individuals\n",
    "- **Identify** population substructure\n",
    "- **Correct** for population stratification \n",
    "\n",
    "## How to make this notebook work\n",
    "\n",
    "In this notebook, we will both use `R` and `bash command line` programming languages. Remember to **change the kernel** whenever you transition from one language to the other (`Kernel --> Change Kernel`) indicated by the languages' images.\n",
    "* We will first run `Bash` commands.  \n",
    "  \n",
    "<img src=\"Images/bash.png\" alt=\"Bash\" width=\"80\"> Choose the Bash kernel\n",
    "\n",
    ":::"
   ]
  },
  {
   "cell_type": "markdown",
   "id": "f5baacc8-1ac6-47ac-8bdd-45e0dc5089f6",
   "metadata": {},
   "source": [
    "## 4.1 Relatedness\n",
    "\n",
    "Relatedness refers to the presence of genetically related individuals in a study sample, which can introduce confounding factors into association analyses. Since most statistical methods assume that samples are independent, including related individuals, like siblings, violates this assumption. Addressing relatedness is crucial as a quality control step to ensure that genomes in the dataset are no more similar than expected for unrelated individuals. This process is essential to preserve the validity of the study's findings.\n",
    "\n",
    "While all humans share some genetic relatedness, the degree of relatedness varies among individuals. In genome-wide association studies (GWAS), these variations must be accounted for to avoid biasing the statistical associations between genotypes and phenotypes. **Cryptic relatedness** (genetic relatedness of individuals not expected to be in a family relationship) can interfere with the association analysis [@voight2005confounding]. \n",
    "\n",
    "In a **family-based study** (e.g., parent-offspring), you do not need to remove related pairs, but the statistical analysis should account for family relatedness. However, for a **population-based study**, we suggest using a $\\hat{\\pi}$ threshold of 0.2. $\\hat{\\pi}$ is computed as a probability P(IBD = 2) + 0.5 × P(IBD = 1), where IBD refers to \"identical-by-descent\". This measures the proportion of alleles shared between individuals due to inheritance from a common ancestor. $\\hat{\\pi}$ ranges between 0 (no relationship) to 1 (identical genomes). "
   ]
  },
  {
   "cell_type": "markdown",
   "id": "bdee8bbe-d290-4ca4-8533-a11cebacecb0",
   "metadata": {},
   "source": [
    "<img src=\"Images/bash.png\" alt=\"Bash\" width=\"40\"> We use `ln -sf` to link the data folder and create a directory for output files. "
   ]
  },
  {
   "cell_type": "code",
   "execution_count": 1,
   "id": "4a89129f-f4bf-4315-b9d6-689bd6d5a78c",
   "metadata": {
    "tags": []
   },
   "outputs": [],
   "source": [
    "ln -sf ../Data\n",
    "mkdir -p Results/GWAS4"
   ]
  },
  {
   "cell_type": "markdown",
   "id": "a6d9e47d-1f8d-43ab-873c-8a0044df8d37",
   "metadata": {},
   "source": [
    "### 4.1.1 Analysis\n",
    "\n",
    "We will use the set of independent SNPs (generated in the previous section) and the `--genome` option in PLINK for our analysis.\n",
    "\n",
    "The HapMap dataset is known to contain parent-offspring relationships. Assuming a random population sample, we will exclude all individuals above the $\\hat{\\pi}$ threshold of 0.2 (dealing with cryptic relatedness) using the commands below. Thresholds for relatedness can be changed using the `--min` and `--max` options."
   ]
  },
  {
   "cell_type": "code",
   "execution_count": 7,
   "id": "aafefbaf",
   "metadata": {
    "tags": []
   },
   "outputs": [
    {
     "name": "stdout",
     "output_type": "stream",
     "text": [
      "PLINK v1.90b6.21 64-bit (19 Oct 2020)          www.cog-genomics.org/plink/1.9/\n",
      "(C) 2005-2020 Shaun Purcell, Christopher Chang   GNU General Public License v3\n",
      "Logging to Results/GWAS4/pihat.log.\n",
      "Options in effect:\n",
      "  --bfile Results/GWAS3/HapMap_3_r3_7\n",
      "  --extract Results/GWAS3/indepSNP.prune.in\n",
      "  --genome\n",
      "  --out Results/GWAS4/pihat\n",
      "\n",
      "385567 MB RAM detected; reserving 192783 MB for main workspace.\n",
      "1073788 variants loaded from .bim file.\n",
      "161 people (77 males, 84 females) loaded from .fam.\n",
      "110 phenotype values loaded from .fam.\n",
      "--extract: 104129 variants remaining.\n",
      "Using up to 63 threads (change this with --threads).\n",
      "Before main variant filters, 110 founders and 51 nonfounders present.\n",
      "Calculating allele frequencies... done.\n",
      "Total genotyping rate is 0.998119.\n",
      "104129 variants and 161 people pass filters and QC.\n",
      "Among remaining phenotypes, 55 are cases and 55 are controls.  (51 phenotypes\n",
      "are missing.)\n",
      "IBD calculations complete.  \n",
      "Finished writing Results/GWAS4/pihat.genome .\n"
     ]
    }
   ],
   "source": [
    "plink --bfile Results/GWAS3/HapMap_3_r3_7 --extract Results/GWAS3/indepSNP.prune.in --genome --out Results/GWAS4/pihat"
   ]
  },
  {
   "cell_type": "markdown",
   "id": "926cbfcd-ae16-4d01-8d74-e425ca1d47eb",
   "metadata": {},
   "source": [
    "The table from PLINK contains various IDs in the first columns, then: \n",
    "- `RT` Relationship\n",
    "- `EZ`\tIBD sharing expected value, based on just .fam/.ped relationship\n",
    "- `Z0`\tP(IBD=0)\n",
    "- `Z1`\tP(IBD=1)\n",
    "- `Z2`\tP(IBD=2)\n",
    "- `PI_HAT`\tProportion IBD, i.e. P(IBD=2) + 0.5*P(IBD=1)\n",
    "- `PHE`\tPairwise phenotypic code (1, 0, -1 = AA, AU, and UU pairs, respectively)\n",
    "- `DST`\tIBS distance, i.e. (IBS2 + 0.5*IBS1) / (IBS0 + IBS1 + IBS2)\n",
    "- `PPC`\tIBS binomial test\n",
    "- `RATIO`  IBS0 SNP ratio (expected value 2)\n",
    "\n",
    "The specific IBD coefficients (`PI_HAT`, `Z0`, `Z1` and`Z2`) are used to infer these relationships. `PI_HAT` represents the proportion of IBD sharing, and `Z0`, `Z1`, and `Z2` represent the probabilities that a pair of individuals share 0, 1, or 2 alleles of IBD, respectively. These values together help determine the relationship category.\n",
    "\n",
    "For the relationships `RT`, you can have:\n",
    "\n",
    "- `PO` (Parent-Offspring): indicates a parent-offspring relationship. The expected IBD sharing for such a pair is 50%.\n",
    "- `FS` (Full Siblings): indicates a full sibling relationship. Full siblings are expected to share 50% of their genome IBD, but the pattern of sharing (i.e., segments shared by descent) differs from that of a parent-offspring pair.\n",
    "- `HS` (Half Siblings): indicates a half-sibling relationship, where the individuals share one parent. They are expected to share about 25% of their genome IBD.\n",
    "- `UN` (Unrelated): indicates that the pair of individuals is inferred to be unrelated. They share little to no IBD segments, which is expected for unrelated individuals in large populations.\n",
    "- `AV` (Avuncular): indicates an avuncular relationship (e.g., uncle/aunt to niece/nephew), where the expected IBD sharing is around 25%.\n",
    "- `GG` (Grandparent-Grandchild): indicates a grandparent-grandchild relationship, with expected IBD sharing of about 25%.\n",
    "- `CO` (Cousin): is used for cousin relationships, where the expected IBD sharing is about 12.5%.\n",
    "- `OT` (Other): is used for more distant relationships or complex kinship structures, and when none of the primary categories apply clearly."
   ]
  },
  {
   "cell_type": "markdown",
   "id": "375e5b23-aa9e-4db4-95b1-3109b09fdaba",
   "metadata": {},
   "source": [
    ":::{.callout-important title=\"Stop - Read - Solve\"}\n",
    "\n",
    "- What assumption in association studies is violated when individuals are related?\n",
    "- How would you recognize if the same sample is duplicated in your dataset?\n",
    "- What relationships (RT) are estimated by PLINK? Hint: check for unique values\n",
    "- Are there closely related individuals? How many individuals show close relatedness (`PI_HAT > 0.2`)?\n",
    "\n",
    "N.B. We recommend printing the first few lines of the file to identify the columns of interest. The filename is printed in the logs from the PLINK command. \n",
    "\n",
    ":::"
   ]
  },
  {
   "cell_type": "code",
   "execution_count": 3,
   "id": "ebab8c48-bca7-4667-9853-62a506b5085e",
   "metadata": {},
   "outputs": [],
   "source": [
    "# Write your code here (add more cells if needed)"
   ]
  },
  {
   "cell_type": "markdown",
   "id": "e1893edf-5412-4f14-95d1-a5391f3a575f",
   "metadata": {},
   "source": [
    ":::{.callout-tip title=\"Solution\" collapse=true}\n",
    "\n",
    "- If you have related individuals, you will lose the independence of individuals at each SNP. This is a problem because many models used in GWAS analysis do not include handling family relationships.\n",
    "- Calculating the identity-by-descent (IBD) coefficient and looking for a $\\hat{\\pi}$ close to 1.\n",
    "- We will look for unique values in column 5 (`RT`.)\n",
    "- We will examine $\\hat{\\pi}$ values in column 10. "
   ]
  },
  {
   "cell_type": "markdown",
   "id": "fb67636c-ef76-4245-82d7-de61b7edab65",
   "metadata": {},
   "source": [
    " Let's print the first few rows of `pihat.genome` and then, the unique relatioship categories in the file: "
   ]
  },
  {
   "cell_type": "code",
   "execution_count": 4,
   "id": "4f7ccdcf-e469-4f95-8b0f-7f72ca1f91bb",
   "metadata": {},
   "outputs": [
    {
     "name": "stdout",
     "output_type": "stream",
     "text": [
      "   FID1     IID1   FID2     IID2 RT    EZ      Z0      Z1      Z2  PI_HAT PHE       DST     PPC   RATIO\n",
      "   1328  NA06989   1377  NA11891 UN    NA  0.9891  0.0109  0.0000  0.0055   1  0.720373  0.4063  1.9840\n",
      "   1328  NA06989   1349  NA11843 UN    NA  0.9846  0.0154  0.0000  0.0077   0  0.718050  0.0223  1.8707\n",
      "   1328  NA06989   1330  NA12341 UN    NA  0.9649  0.0351  0.0000  0.0176   1  0.721260  0.2259  1.9501\n",
      "   1328  NA06989   1344  NA10850 UN    NA  0.9860  0.0129  0.0011  0.0075   0  0.721665  0.6441  2.0250\n"
     ]
    }
   ],
   "source": [
    "cat Results/GWAS4/pihat.genome | head -5"
   ]
  },
  {
   "cell_type": "code",
   "execution_count": 6,
   "id": "c112b46f-1847-4665-ac90-73fa002afba7",
   "metadata": {},
   "outputs": [
    {
     "name": "stdout",
     "output_type": "stream",
     "text": [
      "    222 OT\n",
      "     90 PO\n",
      "      1 RT\n",
      "  12568 UN\n"
     ]
    }
   ],
   "source": [
    "awk '{print $5}' Results/GWAS4/pihat.genome | sort | uniq -c "
   ]
  },
  {
   "cell_type": "markdown",
   "id": "352d0a0b-ece8-4529-b2fd-c0dcb96e9f48",
   "metadata": {},
   "source": [
    "We have 90 parent-offspring, 12568 unrelated, and 222 others. \n",
    "\n",
    "Now, let's calculate how many individuals have a `PI_HAT` parameter (column 10) larger than 0.2."
   ]
  },
  {
   "cell_type": "code",
   "execution_count": null,
   "id": "10099d32-f494-48da-88fd-a78cd4531217",
   "metadata": {},
   "outputs": [],
   "source": [
    "awk '{ if ($10 > 0.2) print }' Results/GWAS4/pihat.genome | wc -l"
   ]
  },
  {
   "cell_type": "markdown",
   "id": "49413042-d66d-4a27-9c3f-58b557f0ced7",
   "metadata": {},
   "source": [
    "There are 93 individuals with PI_HAT > 0.2 (94 lines minus header)."
   ]
  },
  {
   "cell_type": "markdown",
   "id": "76d81f47-21fc-4c16-b642-09efde836b6a",
   "metadata": {},
   "source": [
    ":::\n",
    "\n",
    "---------------"
   ]
  },
  {
   "cell_type": "markdown",
   "id": "fe5069db-63cc-4a1d-b2b4-1fc9732113cb",
   "metadata": {},
   "source": [
    "<img src=\"Images/R.png\" alt=\"R\" width=\"40\"> Switch to the R-GWAS kernel.\n"
   ]
  },
  {
   "cell_type": "markdown",
   "id": "0cfd0c7c-45c3-4221-801f-958c99eda2e9",
   "metadata": {},
   "source": [
    ":::{.callout-important title=\"Stop - Read - Solve\"}\n",
    "Write some R code to calculate the summary of the distribution of `PI_HAT` values (IBD sharing expected value, based on just .fam/.ped relationship) for each RT category. What do you observe?\n",
    "\n",
    "Hint: `by()` and `summary()`.\n",
    ":::"
   ]
  },
  {
   "cell_type": "code",
   "execution_count": null,
   "id": "cadf2af8-4973-4a9e-82a4-d0a41a20c0ff",
   "metadata": {},
   "outputs": [],
   "source": [
    "# Write your code here "
   ]
  },
  {
   "cell_type": "markdown",
   "id": "f00e5e4f-0423-45de-b156-aa0e430c4afb",
   "metadata": {},
   "source": [
    ":::{.callout-tip title=\"Solution\"}\n",
    "Many parent-offspring (PO) relationships have a parameter close to 0.5, and the maximum value for unrelated (UN) individuals is also unexpectedly high relatedness.\n",
    ":::"
   ]
  },
  {
   "cell_type": "markdown",
   "id": "314015fd-559d-49a0-b8df-39fcd665de61",
   "metadata": {},
   "source": [
    "Let's plot the z-values against each other to visualize related samples. You can also find the code for summary PI_HAT values. "
   ]
  },
  {
   "cell_type": "code",
   "execution_count": 3,
   "id": "884235a9",
   "metadata": {
    "tags": []
   },
   "outputs": [
    {
     "data": {
      "image/png": "[encoded data removed]",
      "text/plain": [
       "plot without title"
      ]
     },
     "metadata": {
      "image/png": {
       "height": 240,
       "width": 540
      }
     },
     "output_type": "display_data"
    },
    {
     "data": {
      "text/plain": [
       "relatedness$RT: OT\n",
       "    Min.  1st Qu.   Median     Mean  3rd Qu.     Max. \n",
       "0.000000 0.005175 0.010400 0.011772 0.017225 0.042700 \n",
       "------------------------------------------------------------ \n",
       "relatedness$RT: PO\n",
       "   Min. 1st Qu.  Median    Mean 3rd Qu.    Max. \n",
       " 0.4958  0.5000  0.5000  0.5007  0.5018  0.5060 \n",
       "------------------------------------------------------------ \n",
       "relatedness$RT: UN\n",
       "   Min. 1st Qu.  Median    Mean 3rd Qu.    Max. \n",
       "0.00000 0.00500 0.01070 0.01165 0.01730 0.49230 "
      ]
     },
     "metadata": {},
     "output_type": "display_data"
    },
    {
     "data": {
      "image/png": "[encoded data removed]",
      "text/plain": [
       "plot without title"
      ]
     },
     "metadata": {
      "image/png": {
       "height": 240,
       "width": 540
      }
     },
     "output_type": "display_data"
    }
   ],
   "source": [
    "# Generate a plot to assess the type of relationship.\n",
    "suppressMessages(suppressWarnings(library(ggplot2)))\n",
    "\n",
    "options(repr.plot.width = 9, repr.plot.height = 4)\n",
    "\n",
    "# Read data into R \n",
    "relatedness <- read.table(\"Results/GWAS4/pihat.genome\", header=T)\n",
    "\n",
    "# Relatedness plot\n",
    "plot.relatedness <- ggplot(relatedness) +\n",
    "  geom_point(aes(x=Z0, y=Z1, col=RT), size=5, alpha=.25) + \n",
    "  xlim(0,1) + \n",
    "  ylim(0,1) +\n",
    "  labs(x = \"Z0\", y = \"Z2\", title = \"Identity by descent probabilities\", col = \"Relationship\") + \n",
    "  theme_bw() +\n",
    "  theme(axis.title=element_text(size=14), axis.text=element_text(size=13), legend.text= element_text(size=13), legend.title=element_text(size=14), plot.title=element_text(size=15))\n",
    "\n",
    "show(plot.relatedness)\n",
    "\n",
    "# Relatedness histogram\n",
    "hist.relatedness <- ggplot(relatedness, aes(x=relatedness[,10])) +\n",
    "  geom_histogram(binwidth = 0.02, col = \"black\", fill=\"tomato\") + \n",
    "  labs(title = \"Histogram of relatedness (Pi Hat)\") + \n",
    "  xlab(\"Pi Hat\") + \n",
    "  ylab(\"Frequency\") + \n",
    "  theme_bw() +\n",
    "  theme(axis.title=element_text(size=14), axis.text=element_text(size=13),plot.title=element_text(size=15))\n",
    "\n",
    "show(hist.relatedness)\n",
    "\n",
    "# Summary table of PI_HAT files per RT group\n",
    "summary_by_RT <- by(relatedness$PI_HAT, relatedness$RT, summary)\n",
    "summary_by_RT\n"
   ]
  },
  {
   "cell_type": "markdown",
   "id": "732a9b40",
   "metadata": {},
   "source": [
    "There are three distinct categories of individuals based on the `RT` values: \n",
    "\n",
    "- UN (unrelated),\n",
    "- PO (parent-offspring),\n",
    "- and OT (other)\n",
    "\n",
    "The PO relationship has a 100% probability of two alleles being identical by descent, and most UN and OT samples are unrelated. However, some UN samples are probably related given the high `PI_HAT` values; their relationship might not be correctly recorded in the data.\n",
    "  \n",
    "The presence of related individuals is not a surprise, since the dataset was constructed to contain family trios and population structure to describe patterns of common genetic variation."
   ]
  },
  {
   "cell_type": "markdown",
   "id": "321ea42c-86e9-4f3c-a61b-9ab3b4f93728",
   "metadata": {},
   "source": [
    ":::{.callout-important title=\"Stop - Read - Solve\"}\n",
    "\n",
    "Use `PLINK` options to filter out related individuals, using a relatedness threshold of 0.2. Name the output `--out Results/GWAS4/pihat_exercise`. The command is similar to the one used above, but you need an extra option. Check [PLINK manual](https://www.cog-genomics.org/plink/1.9/ibd) to find the one. \n",
    "\n",
    "- **How many individuals are related and would be filtered out?**\n",
    "- **How many pairs of samples have PI_HAT values above the specified cutoff(s) are?**\n",
    "- Replot the z-values, **which relationship categories remain?**\n",
    "\n",
    "Hint:\n",
    "- Use the file `Results/GWAS4/pihat_exercise.log` to answer the first question. They are labeled as non-founders.\n",
    "- Count the lines of the new output vs. the pre-filtered one.\n",
    "- Modify the code above to plot the z-values for the `pihat_exercise.genome`.  \n",
    "\n",
    "\n",
    ":::"
   ]
  },
  {
   "cell_type": "markdown",
   "id": "c465100d-726d-4145-9365-60792b3a8afe",
   "metadata": {},
   "source": [
    "<img src=\"Images/bash.png\" alt=\"Bash\" width=\"40\"> Switch to the Bash kernel."
   ]
  },
  {
   "cell_type": "code",
   "execution_count": 5,
   "id": "7b93af6a-23c4-4dfe-a7cd-381d7107a42a",
   "metadata": {},
   "outputs": [],
   "source": [
    "# Write your code here (PLINK command)\n"
   ]
  },
  {
   "cell_type": "markdown",
   "id": "aeb8ec83-79b1-472e-9ae6-135320dcd569",
   "metadata": {},
   "source": [
    "<img src=\"Images/R.png\" alt=\"R\" width=\"40\"> Switch to the R-GWAS kernel."
   ]
  },
  {
   "cell_type": "code",
   "execution_count": null,
   "id": "2aa429e5-ce0d-4517-9f49-c2674acea551",
   "metadata": {},
   "outputs": [],
   "source": [
    "# Write your code here (R code)"
   ]
  },
  {
   "cell_type": "markdown",
   "id": "da05d98f-058a-432e-984f-0c13a90f4949",
   "metadata": {
    "tags": []
   },
   "source": [
    ":::{.callout-tip title=\"Solution\"}\n",
    "\n",
    "We need the option `--max 0.2` in PLINK so that only individuals below that threshold are used."
   ]
  },
  {
   "cell_type": "markdown",
   "id": "f63b98c5-dcb8-4fa5-85ae-800967862dc5",
   "metadata": {},
   "source": [
    "<img src=\"Images/bash.png\" alt=\"Bash\" width=\"40\"> "
   ]
  },
  {
   "cell_type": "code",
   "execution_count": 5,
   "id": "aaa83929-d0e5-427c-9115-411e280f385a",
   "metadata": {
    "tags": []
   },
   "outputs": [
    {
     "name": "stdout",
     "output_type": "stream",
     "text": [
      "PLINK v1.90b6.21 64-bit (19 Oct 2020)          www.cog-genomics.org/plink/1.9/\n",
      "(C) 2005-2020 Shaun Purcell, Christopher Chang   GNU General Public License v3\n",
      "Logging to Results/GWAS4/pihat_exercise.log.\n",
      "Options in effect:\n",
      "  --bfile Results/GWAS3/HapMap_3_r3_7\n",
      "  --extract Results/GWAS3/indepSNP.prune.in\n",
      "  --genome\n",
      "  --max 0.2\n",
      "  --out Results/GWAS4/pihat_exercise\n",
      "\n",
      "385567 MB RAM detected; reserving 192783 MB for main workspace.\n",
      "1073788 variants loaded from .bim file.\n",
      "161 people (77 males, 84 females) loaded from .fam.\n",
      "110 phenotype values loaded from .fam.\n",
      "--extract: 104129 variants remaining.\n",
      "Using up to 63 threads (change this with --threads).\n",
      "Before main variant filters, 110 founders and 51 nonfounders present.\n",
      "Calculating allele frequencies... done.\n",
      "Total genotyping rate is 0.998119.\n",
      "104129 variants and 161 people pass filters and QC.\n",
      "Among remaining phenotypes, 55 are cases and 55 are controls.  (51 phenotypes\n",
      "are missing.)\n",
      "IBD calculations complete.  \n",
      "Finished writing Results/GWAS4/pihat_exercise.genome .\n"
     ]
    }
   ],
   "source": [
    "plink --bfile Results/GWAS3/HapMap_3_r3_7 --extract Results/GWAS3/indepSNP.prune.in --genome --out Results/GWAS4/pihat_exercise --max 0.2 "
   ]
  },
  {
   "cell_type": "markdown",
   "id": "0687225c-2e12-478d-99d3-9affa994e50d",
   "metadata": {
    "tags": []
   },
   "source": [
    "Based on the log file, a total of 51 non-founders must be excluded. Now, let's examine the change in the number of lines after applying the `--max 0.2` filter. There are 93 sample pairs removed."
   ]
  },
  {
   "cell_type": "code",
   "execution_count": 3,
   "id": "c8fafa51-fd35-45f4-b8f2-caf84d0274d5",
   "metadata": {},
   "outputs": [
    {
     "name": "stdout",
     "output_type": "stream",
     "text": [
      "12881 Results/GWAS4/pihat.genome\n"
     ]
    }
   ],
   "source": [
    "wc -l Results/GWAS4/pihat.genome"
   ]
  },
  {
   "cell_type": "code",
   "execution_count": 4,
   "id": "77eb50fd-94d1-40c6-a9cf-75e8e423d528",
   "metadata": {},
   "outputs": [
    {
     "name": "stdout",
     "output_type": "stream",
     "text": [
      "12788 Results/GWAS4/pihat_exercise.genome\n"
     ]
    }
   ],
   "source": [
    "wc -l Results/GWAS4/pihat_exercise.genome"
   ]
  },
  {
   "cell_type": "markdown",
   "id": "2754d21a-fbd5-4dde-9cfe-9ee5c3a42c16",
   "metadata": {},
   "source": [
    "<img src=\"Images/R.png\" alt=\"R\" width=\"40\"> \n",
    "\n",
    "Let's plot the z-values again (repeating the plot from above)"
   ]
  },
  {
   "cell_type": "code",
   "execution_count": 4,
   "id": "3beaa1b2-3fc2-4ba4-bc63-8b7f10ddd2b2",
   "metadata": {
    "scrolled": true,
    "tags": []
   },
   "outputs": [
    {
     "data": {
      "image/png": "[encoded data removed]",
      "text/plain": [
       "plot without title"
      ]
     },
     "metadata": {
      "image/png": {
       "height": 240,
       "width": 540
      }
     },
     "output_type": "display_data"
    }
   ],
   "source": [
    "# Generate a plot to assess the type of relationship.\n",
    "suppressMessages(suppressWarnings(library(ggplot2)))\n",
    "\n",
    "options(repr.plot.width = 9, repr.plot.height = 4)\n",
    "\n",
    "# Read data into R \n",
    "relatedness <- read.table(\"Results/GWAS4/pihat_exercise.genome\", header=T)\n",
    "\n",
    "# Relatedness plot\n",
    "plot.relatedness <- ggplot(relatedness) +\n",
    "  geom_point(aes(x=Z0, y=Z1, col=RT), size=2.5) + \n",
    "  xlim(0,1) + \n",
    "  ylim(0,1) +\n",
    "  labs(x = \"Z0\", y = \"Z2\", title = \"Identity by descent probabilities\", col = \"Relationship\") + \n",
    "  theme_bw()+\n",
    "  theme(axis.title=element_text(size=14), axis.text=element_text(size=13),plot.title=element_text(size=15), legend.text = element_text(size=14),legend.title = element_text(size=14))\n",
    "\n",
    "show(plot.relatedness)"
   ]
  },
  {
   "cell_type": "markdown",
   "id": "19d7ed6f-c1b4-4e63-a75d-c6c45412395c",
   "metadata": {},
   "source": [
    "We can see there are only UN (unrelated) individuals left. "
   ]
  },
  {
   "cell_type": "markdown",
   "id": "3f58457b-6901-4c60-b8a6-33de1fa186ad",
   "metadata": {},
   "source": [
    "***"
   ]
  },
  {
   "cell_type": "markdown",
   "id": "2351a16c",
   "metadata": {},
   "source": [
    "<img src=\"Images/bash.png\" alt=\"Bash\" width=\"40\"> Switch to the Bash kernel.\n",
    "\n",
    "So far, you’ve learned how to filter individuals using `PI_HAT` thresholds. Now, we’ll demonstrate that most of the relatedness was due to parent-offspring relationships. We will achieve this by using the `--filter-founders` option to create a new filtered dataset that includes only the founders (individuals without listed parents in the data). This generates `.bed`, `.bim`, and `.fam` files, which are then used to create a `.genome` file containing relatedness values."
   ]
  },
  {
   "cell_type": "code",
   "execution_count": 2,
   "id": "e034b088",
   "metadata": {
    "tags": []
   },
   "outputs": [],
   "source": [
    "plink --bfile Results/GWAS3/HapMap_3_r3_7 --filter-founders --make-bed --out Results/GWAS4/HapMap_3_r3_8 --silent\n",
    "\n",
    "plink --bfile Results/GWAS4/HapMap_3_r3_8 --extract Results/GWAS3/indepSNP.prune.in --genome --out Results/GWAS4/pihat_founders --silent"
   ]
  },
  {
   "cell_type": "markdown",
   "id": "787f1063",
   "metadata": {},
   "source": [
    "<img src=\"Images/R.png\" alt=\"R\" width=\"40\"> Switch to the R-GWAS kernel.\n",
    "\n",
    "Let's plot the results from `Results/GWAS4/pihat_founders.genome`. "
   ]
  },
  {
   "cell_type": "code",
   "execution_count": 3,
   "id": "a966ef9c-05b1-4c24-a637-abe5999215f6",
   "metadata": {},
   "outputs": [
    {
     "data": {
      "image/png": "[encoded data removed]",
      "text/plain": [
       "plot without title"
      ]
     },
     "metadata": {
      "image/png": {
       "height": 240,
       "width": 540
      }
     },
     "output_type": "display_data"
    }
   ],
   "source": [
    "# Generate a plot to assess the type of relationship.\n",
    "suppressMessages(suppressWarnings(library(ggplot2)))\n",
    "\n",
    "options(repr.plot.width = 9, repr.plot.height = 4)\n",
    "\n",
    "# Read data into R \n",
    "relatedness <- read.table(\"Results/GWAS4/pihat_founders.genome\", header=T)\n",
    "\n",
    "# Relatedness plot\n",
    "plot.relatedness <- ggplot(relatedness) +\n",
    "  geom_point(aes(x=Z0, y=Z2, col=RT), size=2.5) + \n",
    "  xlim(0,1) + \n",
    "  ylim(0,1) +\n",
    "  labs(x = \"Z0\", y = \"Z2\", title = \"Identity by descent probabilities\", col = \"Relationship\") + \n",
    "  theme_bw()+\n",
    "  theme(axis.title=element_text(size=14), axis.text=element_text(size=13),plot.title=element_text(size=15), legend.text = element_text(size=14),legend.title = element_text(size=14))\n",
    "\n",
    "\n",
    "show(plot.relatedness)"
   ]
  },
  {
   "cell_type": "markdown",
   "id": "e48734ad-5afb-4c82-b16b-e10b8e89a778",
   "metadata": {},
   "source": [
    ":::{.callout-important title=\"Stop - Read - Solve\"}\n",
    "\n",
    "- **1. Do you observe anything unexpected in the plot?**\n",
    "- **2. Can you identify the IIDs of the sample pair?** Hint: filter for Z0 values.\n",
    "- **3. Based on the z-values, what is the most likely relationship between the pair?**\n",
    "- **4. What would you do about it?** Hint: remove one or both? which one?\n",
    "\n",
    ":::"
   ]
  },
  {
   "cell_type": "markdown",
   "id": "07cf03f8-be31-46b1-869f-48032e88cc8e",
   "metadata": {},
   "source": [
    "### *Write answer here* "
   ]
  },
  {
   "cell_type": "code",
   "execution_count": null,
   "id": "ddcb10c8-f5e0-4b21-9b17-cd38fc50d03b",
   "metadata": {},
   "outputs": [],
   "source": [
    "# R code here"
   ]
  },
  {
   "cell_type": "markdown",
   "id": "f5a2f642-c649-427a-a6da-94b6595a641b",
   "metadata": {},
   "source": [
    ":::{.callout-tip title=\"Solution\" collapse=true}\n",
    "\n",
    "- **1.** The file `pihat_founders.genome` shows that, after excluding all non-founders, one individual pair removed in the exercise remains in the HapMap data. \n",
    "- **2.** Below, we can look at the individual from the table by setting $Z_0 < 0.5$. Even if labeled as unrelated, it has high relatedness. The IIDs of the pair are NA07045 and NA12813. \n",
    "\n",
    ":::"
   ]
  },
  {
   "cell_type": "code",
   "execution_count": 3,
   "id": "e30d95c1",
   "metadata": {
    "tags": []
   },
   "outputs": [
    {
     "data": {
      "text/html": [
       "<table class=\"dataframe\">\n",
       "<caption>A data.frame: 1 × 14</caption>\n",
       "<thead>\n",
       "\t<tr><th></th><th scope=col>FID1</th><th scope=col>IID1</th><th scope=col>FID2</th><th scope=col>IID2</th><th scope=col>RT</th><th scope=col>EZ</th><th scope=col>Z0</th><th scope=col>Z1</th><th scope=col>Z2</th><th scope=col>PI_HAT</th><th scope=col>PHE</th><th scope=col>DST</th><th scope=col>PPC</th><th scope=col>RATIO</th></tr>\n",
       "\t<tr><th></th><th scope=col>&lt;int&gt;</th><th scope=col>&lt;chr&gt;</th><th scope=col>&lt;int&gt;</th><th scope=col>&lt;chr&gt;</th><th scope=col>&lt;chr&gt;</th><th scope=col>&lt;int&gt;</th><th scope=col>&lt;dbl&gt;</th><th scope=col>&lt;dbl&gt;</th><th scope=col>&lt;dbl&gt;</th><th scope=col>&lt;dbl&gt;</th><th scope=col>&lt;int&gt;</th><th scope=col>&lt;dbl&gt;</th><th scope=col>&lt;dbl&gt;</th><th scope=col>&lt;dbl&gt;</th></tr>\n",
       "</thead>\n",
       "<tbody>\n",
       "\t<tr><th scope=row>2639</th><td>13291</td><td>NA07045</td><td>1454</td><td>NA12813</td><td>UN</td><td>NA</td><td>0.2574</td><td>0.5005</td><td>0.2421</td><td>0.4923</td><td>0</td><td>0.839757</td><td>1</td><td>9.6694</td></tr>\n",
       "</tbody>\n",
       "</table>\n"
      ],
      "text/latex": [
       "A data.frame: 1 × 14\n",
       "\\begin{tabular}{r|llllllllllllll}\n",
       "  & FID1 & IID1 & FID2 & IID2 & RT & EZ & Z0 & Z1 & Z2 & PI\\_HAT & PHE & DST & PPC & RATIO\\\\\n",
       "  & <int> & <chr> & <int> & <chr> & <chr> & <int> & <dbl> & <dbl> & <dbl> & <dbl> & <int> & <dbl> & <dbl> & <dbl>\\\\\n",
       "\\hline\n",
       "\t2639 & 13291 & NA07045 & 1454 & NA12813 & UN & NA & 0.2574 & 0.5005 & 0.2421 & 0.4923 & 0 & 0.839757 & 1 & 9.6694\\\\\n",
       "\\end{tabular}\n"
      ],
      "text/markdown": [
       "\n",
       "A data.frame: 1 × 14\n",
       "\n",
       "| <!--/--> | FID1 &lt;int&gt; | IID1 &lt;chr&gt; | FID2 &lt;int&gt; | IID2 &lt;chr&gt; | RT &lt;chr&gt; | EZ &lt;int&gt; | Z0 &lt;dbl&gt; | Z1 &lt;dbl&gt; | Z2 &lt;dbl&gt; | PI_HAT &lt;dbl&gt; | PHE &lt;int&gt; | DST &lt;dbl&gt; | PPC &lt;dbl&gt; | RATIO &lt;dbl&gt; |\n",
       "|---|---|---|---|---|---|---|---|---|---|---|---|---|---|---|\n",
       "| 2639 | 13291 | NA07045 | 1454 | NA12813 | UN | NA | 0.2574 | 0.5005 | 0.2421 | 0.4923 | 0 | 0.839757 | 1 | 9.6694 |\n",
       "\n"
      ],
      "text/plain": [
       "     FID1  IID1    FID2 IID2    RT EZ Z0     Z1     Z2     PI_HAT PHE DST     \n",
       "2639 13291 NA07045 1454 NA12813 UN NA 0.2574 0.5005 0.2421 0.4923 0   0.839757\n",
       "     PPC RATIO \n",
       "2639 1   9.6694"
      ]
     },
     "metadata": {},
     "output_type": "display_data"
    }
   ],
   "source": [
    "relatedness[relatedness$Z0 < 0.5,]"
   ]
  },
  {
   "cell_type": "markdown",
   "id": "ba9aa66a-10ab-441f-9e21-b7c18e3e417d",
   "metadata": {},
   "source": [
    "- **3.** This remaining individual is likely to be a full sibling or DZ (dizygotic) twin pair based on the Z values (expected values for full siblings: z0=0.25; z1=0.50;  z2=0.25). Noteworthy, they were not given the same family identity (FID) in the HapMap data.\n",
    "- **4.** We don't need to remove both individuals from the dataset (IID1=NA07045; IID2=NA12813). It's enough to remove just one, and the individual with the highest missing rate (lowest quality) should be chosen. Let's calculate the missing rates using PLINK."
   ]
  },
  {
   "cell_type": "markdown",
   "id": "ec6762bb-8f74-4550-a43d-56603b162b86",
   "metadata": {},
   "source": [
    "***"
   ]
  },
  {
   "cell_type": "markdown",
   "id": "11be16c4-ccf3-493b-85f0-fddb72cdfbdd",
   "metadata": {},
   "source": [
    "<img src=\"Images/bash.png\" alt=\"Bash\" width=\"40\"> Switch to the Bash kernel."
   ]
  },
  {
   "cell_type": "code",
   "execution_count": null,
   "id": "7d55dc5d-2663-489e-b2bf-2637a577e716",
   "metadata": {
    "tags": []
   },
   "outputs": [],
   "source": [
    "plink --bfile Results/GWAS4/HapMap_3_r3_8 --missing --out Results/GWAS4/HapMap_3_r3_8 --silent"
   ]
  },
  {
   "cell_type": "markdown",
   "id": "cdc75b75-bcd0-4e6f-a987-cf42f19214b3",
   "metadata": {},
   "source": [
    "Then, find the two individuals from the output file using `grep` and sorting descendingly by missing rate (EZ, column 6)"
   ]
  },
  {
   "cell_type": "code",
   "execution_count": 4,
   "id": "3fa5e705-a478-4e76-91b7-8105c41c0a01",
   "metadata": {
    "tags": []
   },
   "outputs": [
    {
     "name": "stdout",
     "output_type": "stream",
     "text": [
      "  13291   NA07045          N     2560  1073788 0.002384\n",
      "   1454   NA12813          N     1956  1073788 0.001822\n"
     ]
    }
   ],
   "source": [
    "# Let's look at the output\n",
    "cat Results/GWAS4/HapMap_3_r3_8.imiss | grep -E 'NA07045|NA12813' | sort -k6,6nr"
   ]
  },
  {
   "cell_type": "markdown",
   "id": "15d38dd9-baa9-4fed-81c2-4dc8eda7643e",
   "metadata": {},
   "source": [
    "`NA07045` is the individual to be removed. Once this is removed, their offspring can still be used in analyses that don't involve trios, such as family-related studies."
   ]
  },
  {
   "cell_type": "markdown",
   "id": "aa1b8463-3555-4bf9-9dbe-ee0ceda2543b",
   "metadata": {},
   "source": [
    ":::{.callout-important title=\"Stop - Read - Solve\"}\n",
    "\n",
    "- **Plot the distribution of missing rates from `HapMap_3_r3_8`. What is the value for `NA07045`?**\n",
    "- **Remove `NA07045` from the PLINK files**\n",
    "  \n",
    "Hint: \n",
    "- Use the `imiss` file to plot a histogram of the missing scores from the file `HapMap_3_r3_8.imiss` in `R` (check previous notebooks for help). Is the score of `NA07045` amongst the higher/lower ones? You can add a vertical line in the histogram representing the value for `NA07045` using `geom_vline`. \n",
    "- Create a file with the sample ID to remove and use the `--remove` option in PLINK. \n",
    "\n",
    ":::"
   ]
  },
  {
   "cell_type": "markdown",
   "id": "43c78309-dde7-4cdd-bd93-547a03544940",
   "metadata": {},
   "source": [
    "<img src=\"Images/R.png\" alt=\"R\" width=\"40\"> Switch to the R-GWAS kernel."
   ]
  },
  {
   "cell_type": "code",
   "execution_count": null,
   "id": "fd1c7d1a-5a3b-40f4-9e6c-d12e63393cc6",
   "metadata": {},
   "outputs": [],
   "source": [
    "# Write your code here"
   ]
  },
  {
   "cell_type": "markdown",
   "id": "c959a6b9-a326-4a66-9809-7cb5df42b8d1",
   "metadata": {
    "editable": true,
    "slideshow": {
     "slide_type": ""
    },
    "tags": []
   },
   "source": [
    ":::{.callout-tip title=\"Solution\"}\n",
    "We can extract the column from the file and observe in the histogram that the individual `NA07045` has a missing rate closer to the higher values.\n",
    ":::"
   ]
  },
  {
   "cell_type": "code",
   "execution_count": 6,
   "id": "8adba97a-30f1-4fe5-a956-5b3337744491",
   "metadata": {
    "editable": true,
    "scrolled": true,
    "slideshow": {
     "slide_type": ""
    },
    "tags": []
   },
   "outputs": [
    {
     "name": "stderr",
     "output_type": "stream",
     "text": [
      "Warning message:\n",
      "“\u001b[1m\u001b[22mUsing `size` aesthetic for lines was deprecated in ggplot2 3.4.0.\n",
      "\u001b[36mℹ\u001b[39m Please use `linewidth` instead.”\n",
      "\u001b[1m\u001b[22m`stat_bin()` using `bins = 30`. Pick better value with `binwidth`.\n"
     ]
    },
    {
     "data": {
      "image/png": "[encoded data removed]",
      "text/plain": [
       "plot without title"
      ]
     },
     "metadata": {
      "image/png": {
       "height": 240,
       "width": 540
      }
     },
     "output_type": "display_data"
    }
   ],
   "source": [
    "suppressMessages(suppressWarnings(library(ggplot2)))\n",
    "\n",
    "options(repr.plot.width = 9, repr.plot.height = 4)\n",
    "\n",
    "# Read data into R \n",
    "imiss <- read.table(\"Results/GWAS4/HapMap_3_r3_8.imiss\", header=T)\n",
    "\n",
    "hist.relatedness <- ggplot(data=imiss, aes(F_MISS)) +\n",
    "  geom_histogram(col = \"black\", fill = \"tomato\") + \n",
    "  geom_vline(xintercept = 0.002384, color = \"red\", linetype = \"dashed\", size = 1) +\n",
    "  labs(title = \"Histogram of missing rates\") + \n",
    "  xlab(\"Missing rate\") + \n",
    "  ylab(\"Frequency\") + \n",
    "  theme_bw() +\n",
    "  theme(axis.title=element_text(size=14), axis.text=element_text(size=13),plot.title=element_text(size=15))\n",
    "\n",
    "show(hist.relatedness)"
   ]
  },
  {
   "cell_type": "markdown",
   "id": "73b9b8a3",
   "metadata": {},
   "source": [
    "\n",
    "<img src=\"Images/bash.png\" alt=\"Bash\" width=\"40\"> Switch to the Bash kernel.\n",
    "\n",
    "To remove the individual from the data, we create a file containing its number and ID, and provide it to PLINK with the option `--remove`"
   ]
  },
  {
   "cell_type": "code",
   "execution_count": 1,
   "id": "5007aa3f",
   "metadata": {
    "tags": []
   },
   "outputs": [],
   "source": [
    "echo \"13291  NA07045\" > Results/GWAS4/id_remove.txt"
   ]
  },
  {
   "cell_type": "code",
   "execution_count": 2,
   "id": "d08763c4",
   "metadata": {
    "tags": []
   },
   "outputs": [],
   "source": [
    "# Delete the individuals with the lowest call rate in 'related' pairs with a pihat > 0.2 \n",
    "plink --bfile Results/GWAS4/HapMap_3_r3_8 --remove Results/GWAS4/id_remove.txt --make-bed --out Results/GWAS4/HapMap_3_r3_9 --silent"
   ]
  },
  {
   "cell_type": "markdown",
   "id": "8c68e0f9-50d5-4a33-8d28-9697d1e62fcb",
   "metadata": {},
   "source": [
    "***"
   ]
  },
  {
   "cell_type": "markdown",
   "id": "510d7628",
   "metadata": {},
   "source": [
    "## 4.2 Population Stratification"
   ]
  },
  {
   "cell_type": "markdown",
   "id": "19359572",
   "metadata": {},
   "source": [
    ":::{.callout-note title=\"Some theory\"}\n",
    "\n",
    "Population stratification presents a significant source of systematic bias in GWAS, arising **when subpopulations exhibit systematic differences in allele frequencies**. Research indicates that even subtle degrees of population stratification can exist within a single ethnic population [@abdellaoui2013population]. Thus, testing and controlling for the presence of population stratification is an essential QC step.\n",
    "\n",
    "The population structure (or in other words, the ancestral relationship of the populations) is a so-called **confounding factor**. This means that it affects both the dependent and independent variables, as shown in the figure below, where both the genotype and traits are influenced by population structure (e.g., the distribution of north and south European individuals in the PCA space and the height of those individuals).\n",
    "\n",
    "![](Images/ancestryBias.png){fig-align=\"center\", width=400px}\n",
    "\n",
    "Why is a bias introduced? Population structure can influence allele frequencies and produce false positives/negatives when doing association testing. Graphically, consider the example in the figure below. Case and control have minor allele frequencies of 1/6 and 1/8 (population 1) and 1/2, 7/12 (population 2). If you remove population structure, case and control have MAFs of 3/10, and 2/5, and those new values depend on how many samples you have from each population in the two conditions, and the MAFs of each population. \n",
    "\n",
    "![](Images/popStruct.png){fig-align=\"center\", width=400px}\n",
    "\n",
    "The same problem arises in population studies without Case-control categories. Imagine having a population of randomly sampled individuals, each from a different ethnicity (the blue and red minor alleles in the example below). The final group of individuals will have a different proportion of MAFs depending on the sampling of various ethnicities.\n",
    "\n",
    "![](Images/popSampling.png){fig-align=\"center\", width=400px}\n",
    "\n",
    "There are several methods to correct for population stratification [@price2010new, price_principal_2006]. Here, we illustrate a method integrated into PLINK: the **multidimensional scaling (MDS)** approach. MDS calculates the genome-wide average proportion of shared alleles between any pair of individuals to generate quantitative indices (components) of the genetic variation for each individual. **The individual component scores can be visualized to identify groups of genetically similar individuals.** For instance, in a genetic study including subjects from Asia and Europe, MDS analysis would reveal that Asians are genetically more similar to each other than to Europeans and Africans. Figure below shows another example of MDS using HapMap, Genome diversity project, and authors' data:\n",
    "\n",
    "![Example of MDS plot of the first two MDS components scores on integrated datasets in @somers_genetic_2017. Here TWN, a past isolated population in the Netherlands, is separated from the other individuals from the same country (NDL). Sardinians, notoriously different from continental Italians, are also grouped far away from them. Central European populations colocalize as expected.](./Images/MDSexample2.png){width=500px label=fig-MDSexample}\n",
    "\n",
    "To investigate which individuals the generated component scores deviate from in the target population, plotting the scores of the dataset under investigation and a population of known ethnic structure (e.g., HapMap/1KG data) is helpful: this step is called **anchoring** [@rietveld2013gwas]. This enables the researcher to obtain ethnic information on their data and to determine possible ethnic outliers. For example, in @fig-MDSexample, if TSI (Tuscans from Italy) is the anchor population, one can hypothesize that the yellow dots might be ethnically similar (as in the example).\n",
    "\n",
    "Outliers identified based on MDS analysis should be excluded from further analyses. Following their removal, a new MDS analysis must be conducted, and its primary components are utilized as covariates in association tests to correct for any residual population stratification within the population. The number of components to include depends on the population structure and sample size (usually 10-20). \n",
    "\n",
    "The MDS from @cortellari_climatic_2021 shows a distinct goat population outlier. The second axis is dominated by this outlier, obscuring structure in the other populations. Removing the outlier reveals a clearer structure among the remaining populations.\n",
    "\n",
    "![](./Images/MDSout1.png){width=400px}  ![](./Images/MDSout2.png){width=400px}\n",
    "\n",
    ":::"
   ]
  },
  {
   "cell_type": "markdown",
   "id": "f8c226ea-be9f-4ab0-91da-7f38f8e0e17e",
   "metadata": {},
   "source": [
    ":::{.callout-important title=\"Stop - Read - Solve\"}\n",
    "\n",
    "It is also possible to correct for relatedness (family structure). **Should we also do it?**\n",
    "\n",
    ":::"
   ]
  },
  {
   "cell_type": "markdown",
   "id": "17978560",
   "metadata": {},
   "source": [
    "### 4.2.1 Analysis\n",
    "\n",
    "We aim to merge the HapMap and 1000GP datasets, using 1000GP Phase I as the anchor for HapMap. Our goal is to check if we can identify the ethnicity of the HapMap data based on the ethnicities in the 1000GP dataset. There are several steps to ensure compatibility between the datasets, so stay with us!\n",
    "\n",
    "#### 1000GP data download\n",
    "\n",
    "Here are some commands to download and convert the 1000GP data for GWAS analysis. **You don’t need to run them**, as we’ve already processed the data.\n",
    "\n",
    "- 1000 Genomes Project - Phase I: genetic information for 629 individuals from various ethnic groups (>60GB). *Phase III is now available, and we recommend using it for research purposes.*\n",
    "\n",
    "\n",
    "```{.bash}\n",
    "wget ftp://ftp-trace.ncbi.nih.gov/1000genomes/ftp/release/20100804/ALL.2of4intersection.20100804.genotypes.vcf.gz\n",
    "```\n",
    "\n",
    "The data was converted from the `vcf` file (Variant Call Format) to plink format (`bim`, `fam`, `bed`):\n",
    "\n",
    "```{.bash}\n",
    "plink --vcf ALL.2of4intersection.20100804.genotypes.vcf.gz --make-bed --out ALL.2of4intersection.20100804.genotypes\n",
    "```"
   ]
  },
  {
   "cell_type": "markdown",
   "id": "ece39f8d",
   "metadata": {},
   "source": [
    ":::{.callout-note}\n",
    "\n",
    "The 1000 Genomes data downloaded above is rather large so the commands are not executable and are shown for reference only. To save time, we’ve provided the `.bed`, `.bim`and `.fam` files in the `Data` folder.\n",
    "\n",
    ":::\n",
    "Let's unzip the files and see how many samples we have."
   ]
  },
  {
   "cell_type": "code",
   "execution_count": 5,
   "id": "26e3a83a",
   "metadata": {
    "tags": []
   },
   "outputs": [
    {
     "name": "stdout",
     "output_type": "stream",
     "text": [
      "Archive:  Data/1000genomes.zip\n",
      "  inflating: Results/GWAS4/1000genomes.genotypesA.bed  \n",
      "  inflating: Results/GWAS4/1000genomes.genotypesA.bim  \n",
      "  inflating: Results/GWAS4/1000genomes.genotypesA.fam  \n",
      "  inflating: Results/GWAS4/1000genomes.genotypesA.log  \n",
      "  inflating: Results/GWAS4/1000genomes.genotypesA.nosex  \n",
      "37 Results/GWAS4/1000genomes.genotypesA.fam\n"
     ]
    }
   ],
   "source": [
    "unzip -o Data/1000genomes.zip -d Results/GWAS4\n",
    "# count lines in fam \n",
    "wc -l Results/GWAS4/1000genomes.genotypesA.fam"
   ]
  },
  {
   "cell_type": "markdown",
   "id": "b6a8a6ed",
   "metadata": {},
   "source": [
    "We have a subset of **37 individuals**. Now, let's explore the `bim` file. "
   ]
  },
  {
   "cell_type": "code",
   "execution_count": 6,
   "id": "6d50c492",
   "metadata": {
    "tags": []
   },
   "outputs": [
    {
     "name": "stdout",
     "output_type": "stream",
     "text": [
      "1\trs112750067\t0\t10327\tC\tT\n",
      "1\t.\t0\t11508\tA\tG\n",
      "1\t.\t0\t12783\tG\tA\n",
      "1\t.\t0\t13116\tG\tT\n",
      "1\t.\t0\t14933\tA\tG\n"
     ]
    }
   ],
   "source": [
    "cat Results/GWAS4/1000genomes.genotypesA.bim | head -5"
   ]
  },
  {
   "cell_type": "markdown",
   "id": "e3393991",
   "metadata": {},
   "source": [
    "One should note that the file `1000genomes.genotypes.bim` contains SNPs without an rs-identifier (or Reference SNP cluster ID). The missing rs-identifiers (noted as `.`) are not a problem for this tutorial. However, for good practice, we will assign unique identifiers to the SNPs (using available information):"
   ]
  },
  {
   "cell_type": "code",
   "execution_count": 7,
   "id": "3d7a9271",
   "metadata": {
    "tags": []
   },
   "outputs": [],
   "source": [
    "plink --bfile Results/GWAS4/1000genomes.genotypesA --set-missing-var-ids @:#[b37]\\$1,\\$2 --make-bed --out Results/GWAS4/1000genomes.genotypesA_no_missing_IDs --silent"
   ]
  },
  {
   "cell_type": "markdown",
   "id": "f0e5e218-3e81-4871-b009-4e4e7b86579c",
   "metadata": {},
   "source": [
    "Now, let’s visualize the data to check the SNP names assigned. These are derived from the format `@:#[b37]\\$1,\\$2` in the command above, which PLINK interprets as `chromosome:locus[b37]Allele1,Allele2`: "
   ]
  },
  {
   "cell_type": "code",
   "execution_count": 8,
   "id": "bc59444d",
   "metadata": {
    "tags": []
   },
   "outputs": [
    {
     "name": "stdout",
     "output_type": "stream",
     "text": [
      "1\trs112750067\t0\t10327\tC\tT\n",
      "1\t1:11508[b37]A,G\t0\t11508\tA\tG\n",
      "1\t1:12783[b37]A,G\t0\t12783\tG\tA\n",
      "1\t1:13116[b37]G,T\t0\t13116\tG\tT\n",
      "1\t1:14933[b37]A,G\t0\t14933\tA\tG\n"
     ]
    }
   ],
   "source": [
    "# Show changes on the bim file\n",
    "cat Results/GWAS4/1000genomes.genotypesA_no_missing_IDs.bim | head -5"
   ]
  },
  {
   "cell_type": "markdown",
   "id": "83e92e86-9965-42a9-992d-975c271a78fe",
   "metadata": {},
   "source": [
    "Pretty neat, right?"
   ]
  },
  {
   "cell_type": "markdown",
   "id": "bc096e38",
   "metadata": {},
   "source": [
    "#### QC on 1000GP data\n",
    "As we covered in the GWAS3 notebook, it's important to account for missingness, sex discrepancies, and minor allele frequency. We'll apply standard QC thresholds to the 1000 GP data before merging it with HapMap data. "
   ]
  },
  {
   "cell_type": "code",
   "execution_count": 10,
   "id": "162f5bf0",
   "metadata": {
    "tags": []
   },
   "outputs": [],
   "source": [
    "plink --bfile Results/GWAS4/1000genomes.genotypesA_no_missing_IDs --geno 0.02  \\\n",
    "    --allow-no-sex --make-bed --out Results/GWAS4/1kG_MDS --silent\n",
    "\n",
    "plink --bfile Results/GWAS4/1kG_MDS --mind 0.02  \\\n",
    "    --allow-no-sex --make-bed --out Results/GWAS4/1kG_MDS2 --silent\n",
    "    \n",
    "plink --bfile Results/GWAS4/1kG_MDS2 --maf 0.05 --allow-no-sex --make-bed   \\\n",
    "    --out Results/GWAS4/1kG_MDS3 --silent"
   ]
  },
  {
   "cell_type": "markdown",
   "id": "0840d758-279f-413c-9434-83e2a1cc945f",
   "metadata": {},
   "source": [
    "#### SNPs matching between datasets"
   ]
  },
  {
   "cell_type": "markdown",
   "id": "98540514",
   "metadata": {},
   "source": [
    "N.B: Ensure that the datasets you want to merge share the same genomic build! Otherwise, you'll need to include a liftover step.\n",
    "\n",
    "\n",
    "We want to only consider SNPs that both datasets have in common.  First, extract SNP names from the HapMap data and filter the 1000GP data to include only matching SNPs.\n"
   ]
  },
  {
   "cell_type": "code",
   "execution_count": 13,
   "id": "7893d82e-6625-4904-905c-2dc4f36a7d1d",
   "metadata": {},
   "outputs": [],
   "source": [
    "#Print out SNPs from the HapMap data\n",
    "awk '{print$2}' Results/GWAS4/HapMap_3_r3_9.bim > Results/GWAS4/HapMap_SNPs.txt\n",
    "\n",
    "#Extract the HapMap SNPs from the 1000GP data\n",
    "plink --bfile Results/GWAS4/1kG_MDS3 --extract Results/GWAS4/HapMap_SNPs.txt \\\n",
    "--make-bed --out Results/GWAS4/1kG_MDS4 --silent"
   ]
  },
  {
   "cell_type": "markdown",
   "id": "d088b95e-a115-4686-9963-5dfddd931464",
   "metadata": {},
   "source": [
    "This is how part of the list of SNP names looks like:"
   ]
  },
  {
   "cell_type": "code",
   "execution_count": 14,
   "id": "a1009efb-9f10-4021-ab18-6f2357206551",
   "metadata": {},
   "outputs": [
    {
     "name": "stdout",
     "output_type": "stream",
     "text": [
      "rs3131972\n",
      "rs3131969\n",
      "rs1048488\n",
      "rs12562034\n",
      "rs12124819\n"
     ]
    }
   ],
   "source": [
    "cat Results/GWAS4/HapMap_SNPs.txt | head -5"
   ]
  },
  {
   "cell_type": "markdown",
   "id": "08556943-df17-42a8-926b-dce8bcaa557d",
   "metadata": {},
   "source": [
    "Now we take the variants from the reduced 1000GP data, and go the other way around. We extract 1000GP variants from the HapMap data. In other words, the two extraction passages will intersect the SNPs. Below is the code to use the SNPs of the 1000GP data to reduce the HapMap data."
   ]
  },
  {
   "cell_type": "code",
   "execution_count": 17,
   "id": "584c7e2c-6a8b-48cb-98f2-4ccd5ab564ab",
   "metadata": {},
   "outputs": [],
   "source": [
    "#Print out SNPs from the HapMap data\n",
    "awk '{print$2}' Results/GWAS4/1kG_MDS4.bim > Results/GWAS4/1kG_MDS4_SNPs.txt\n",
    "\n",
    "#Extract the HapMap SNPs from the 1000GP data\n",
    "plink --bfile Results/GWAS4/HapMap_3_r3_9 --extract Results/GWAS4/1kG_MDS4_SNPs.txt --recode \\\n",
    "--make-bed --out Results/GWAS4/HapMap_MDS --silent"
   ]
  },
  {
   "cell_type": "markdown",
   "id": "0b5f1c84-a452-40a3-b636-ab388003b616",
   "metadata": {},
   "source": [
    "Look at the SNP names. Now, they are matching between the two `bim` files."
   ]
  },
  {
   "cell_type": "markdown",
   "id": "bc4ce52e-8a9e-42ed-8403-f1b254db7d22",
   "metadata": {},
   "source": [
    ":::{.callout-important title=\"Stop - Read - Solve\"}\n",
    "\n",
    "**Look at the two outputs a bit more carefully. Is there any problem?**\n",
    "\n",
    "Hint: \n",
    "- compare the chromosome and position across the 2 datasets.\n",
    "- compare the two alleles \n",
    "\n",
    ":::"
   ]
  },
  {
   "cell_type": "code",
   "execution_count": 18,
   "id": "70beb88f-7099-4233-83d8-53efe75b0de4",
   "metadata": {},
   "outputs": [
    {
     "name": "stdout",
     "output_type": "stream",
     "text": [
      "1\trs3131969\t0\t744045\tA\tG\n",
      "1\trs12562034\t0\t758311\tA\tG\n",
      "1\trs4970383\t0\t828418\tA\tC\n",
      "1\trs4475691\t0\t836671\tT\tC\n",
      "1\trs1806509\t0\t843817\tC\tA\n",
      "1\trs28576697\t0\t860508\tC\tT\n",
      "1\trs3748595\t0\t877423\tA\tC\n",
      "1\trs13303118\t0\t908247\tG\tT\n",
      "1\trs1891910\t0\t922320\tA\tG\n",
      "1\trs3128097\t0\t970323\tG\tA\n"
     ]
    }
   ],
   "source": [
    "head Results/GWAS4/HapMap_MDS.bim"
   ]
  },
  {
   "cell_type": "code",
   "execution_count": 19,
   "id": "6a54e180-24d6-4cb3-ac15-b27434b40a86",
   "metadata": {},
   "outputs": [
    {
     "name": "stdout",
     "output_type": "stream",
     "text": [
      "1\trs3131969\t0\t754182\tA\tG\n",
      "1\trs12562034\t0\t768448\tA\tG\n",
      "1\trs4970383\t0\t838555\tA\tC\n",
      "1\trs4475691\t0\t846808\tT\tC\n",
      "1\trs1806509\t0\t853954\tA\tC\n",
      "1\trs28576697\t0\t870645\tC\tT\n",
      "1\trs3748595\t0\t887560\tA\tC\n",
      "1\trs13303118\t0\t918384\tT\tG\n",
      "1\trs1891910\t0\t932457\tA\tG\n",
      "1\trs3128097\t0\t980460\tG\tA\n"
     ]
    }
   ],
   "source": [
    "head Results/GWAS4/1kG_MDS4.bim"
   ]
  },
  {
   "cell_type": "markdown",
   "id": "756bd409-b3c2-4494-865b-80053c608dbb",
   "metadata": {},
   "source": [
    "#### Build matching\n",
    "\n",
    "Genomic data is based on a reference genome, and our datasets use different human reference versions. Since the reference genome improves over time, SNP positions may differ between datasets from different versions.\n",
    "\n",
    "We extract SNP names and positions from the HapMap data and align the 1000GP data to match these SNPs using the `--update-map` option in PLINK."
   ]
  },
  {
   "cell_type": "code",
   "execution_count": 20,
   "id": "e7ad8313-f257-4f10-b396-34d4c03b83d7",
   "metadata": {},
   "outputs": [],
   "source": [
    "#Extract the HapMap variant coordinates\n",
    "awk '{print$2,$4}' Results/GWAS4/HapMap_MDS.map > Results/GWAS4/buildhapmap.txt"
   ]
  },
  {
   "cell_type": "markdown",
   "id": "222fc25e-adf0-486b-81b6-8d3636db3f8d",
   "metadata": {},
   "source": [
    "This is how the list of SNPs look like:"
   ]
  },
  {
   "cell_type": "code",
   "execution_count": 21,
   "id": "0af685c3-65f1-4a27-a251-d250abfe3825",
   "metadata": {},
   "outputs": [
    {
     "name": "stdout",
     "output_type": "stream",
     "text": [
      "rs3131969 744045\n",
      "rs12562034 758311\n",
      "rs4970383 828418\n",
      "rs4475691 836671\n",
      "rs1806509 843817\n"
     ]
    }
   ],
   "source": [
    "cat Results/GWAS4/buildhapmap.txt | head -5"
   ]
  },
  {
   "cell_type": "markdown",
   "id": "1f3a8904-e134-4b7b-a991-daa772d00f53",
   "metadata": {},
   "source": [
    "We run PLINK to update the 1000GP variant coordinates based on HapMap, ignoring the warning about non-ascending positions: "
   ]
  },
  {
   "cell_type": "code",
   "execution_count": 22,
   "id": "58fba51d-c89b-449f-8a45-e639a19dfa8e",
   "metadata": {},
   "outputs": [
    {
     "name": "stdout",
     "output_type": "stream",
     "text": [
      "Warning: Base-pair positions are now unsorted!\n"
     ]
    }
   ],
   "source": [
    "plink --bfile Results/GWAS4/1kG_MDS4 --update-map Results/GWAS4/buildhapmap.txt --make-bed \\\n",
    "--out Results/GWAS4/1kG_MDS5 --silent"
   ]
  },
  {
   "cell_type": "markdown",
   "id": "fe7fefe9",
   "metadata": {},
   "source": [
    "#### Merging datasets and performing MDS\n",
    "\n",
    "Before merging the HapMap and 1000 Genomes datasets, we ensure compatibility through 3 steps:\n",
    "\n",
    "1. Verify the reference genome is compatible in both datasets.\n",
    "2. Align SNP orientations (strand) across datasets.\n",
    "3. Remove SNPs that still differ after these steps.\n",
    "\n",
    "The next steps are technical but ensure the datasets correspond correctly.\n"
   ]
  },
  {
   "cell_type": "markdown",
   "id": "ecb804de-0e80-4146-9361-9a4822124622",
   "metadata": {},
   "source": [
    "**1.** We’ve matched SNP positions, but we also need to ensure the reference alleles align. Remember that most PLINK analyses **consider the A1 allele (typically the minor allele) as the reference allele**, which is logical when dealing exclusively with biallelic variants.\n",
    "\n",
    "Below, we generate a list of SNPs ID and 'reference alleles' (corresponding to A1, column 5) from 1000GP."
   ]
  },
  {
   "cell_type": "code",
   "execution_count": 1,
   "id": "97848c6a-85fb-4c1b-a515-f3120c21bf03",
   "metadata": {},
   "outputs": [],
   "source": [
    "#Extract variant coordinates and reference alleles from 1000GP data\n",
    "awk '{print$2,$5}' Results/GWAS4/1kG_MDS5.bim > Results/GWAS4/1kg_ref-list.txt"
   ]
  },
  {
   "cell_type": "markdown",
   "id": "946c213e-2fb5-4bef-9eb9-8e2d46679f7b",
   "metadata": {},
   "source": [
    "How the list looks like:"
   ]
  },
  {
   "cell_type": "code",
   "execution_count": 2,
   "id": "7c4cecdd-737c-43ce-b38c-011d074e90f7",
   "metadata": {},
   "outputs": [
    {
     "name": "stdout",
     "output_type": "stream",
     "text": [
      "rs3131969 A\n",
      "rs12562034 A\n",
      "rs4970383 A\n",
      "rs4475691 T\n",
      "rs1806509 A\n"
     ]
    }
   ],
   "source": [
    "head -5 Results/GWAS4/1kg_ref-list.txt"
   ]
  },
  {
   "cell_type": "markdown",
   "id": "42e99d2b-a887-4d20-bb66-1cf5d077d98a",
   "metadata": {},
   "source": [
    "Then, we assign them to the HapMap data `--reference-allele` option (aliases for `--a1-allele`).  We use `&> /dev/null` to redirect many warning messages away from the screen (*Warning: Impossible A1 allele assignment for variant rs11488462*). This warning flags variants with genotype mismatches. To address these warnings, we will first check for strand orientation issues before excluding any problematic variants."
   ]
  },
  {
   "cell_type": "code",
   "execution_count": 3,
   "id": "af745a46-efdb-482e-af1a-f428d5b7302a",
   "metadata": {},
   "outputs": [],
   "source": [
    "plink --bfile Results/GWAS4/HapMap_MDS --reference-allele Results/GWAS4/1kg_ref-list.txt --make-bed \\\n",
    "--out Results/GWAS4/HapMap-adj &> /dev/null"
   ]
  },
  {
   "cell_type": "markdown",
   "id": "34f5e276-9b2f-486d-83c9-fe7827b9a007",
   "metadata": {},
   "source": [
    "**2.** To resolve strand issues, we flip SNPs found in both datasets with complementary alleles (i.e. they were reported in opposite strands). We generate SNP lists (ID and alleles) for both datasets, identify unique SNPs, and visualize differences in allele reporting. If a SNP is unique but reports alleles differently, it will appear twice. Below are examples of SNPs with strand issues from the 1000GP and HapMap data:"
   ]
  },
  {
   "cell_type": "code",
   "execution_count": 4,
   "id": "33e5be15-6808-4ea3-bbdb-56192f731cd6",
   "metadata": {},
   "outputs": [],
   "source": [
    "awk '{print$2,$5,$6}' Results/GWAS4/1kG_MDS5.bim > Results/GWAS4/1kGMDS5_tmp\n",
    "awk '{print$2,$5,$6}' Results/GWAS4/HapMap-adj.bim > Results/GWAS4/HapMap-adj_tmp\n",
    "\n",
    "sort Results/GWAS4/1kGMDS5_tmp Results/GWAS4/HapMap-adj_tmp |uniq -u > Results/GWAS4/all_differences.txt"
   ]
  },
  {
   "cell_type": "code",
   "execution_count": 5,
   "id": "3e7a86f1-803e-4107-b13f-40c37ed1d35d",
   "metadata": {},
   "outputs": [
    {
     "name": "stdout",
     "output_type": "stream",
     "text": [
      "rs10006274 C T\n",
      "rs10006274 G A\n",
      "rs1008660 A G\n",
      "rs1008660 T C\n",
      "rs10088098 C T\n",
      "rs10088098 G A\n"
     ]
    }
   ],
   "source": [
    "head -6 Results/GWAS4/all_differences.txt"
   ]
  },
  {
   "cell_type": "markdown",
   "id": "d59d5c83-84fd-46a8-995a-935ea4b082ed",
   "metadata": {},
   "source": [
    "**How many of these differences are there?**"
   ]
  },
  {
   "cell_type": "code",
   "execution_count": 8,
   "id": "eb2444e5-1267-4bcd-bae8-055b3e96d4e9",
   "metadata": {},
   "outputs": [
    {
     "name": "stdout",
     "output_type": "stream",
     "text": [
      "604 Results/GWAS4/all_differences.txt\n"
     ]
    }
   ],
   "source": [
    "wc -l Results/GWAS4/all_differences.txt"
   ]
  },
  {
   "cell_type": "code",
   "execution_count": null,
   "id": "51234782-57d7-4bd4-bfc2-77f0131bc31f",
   "metadata": {},
   "outputs": [],
   "source": [
    "Some of these differences might be might be due to strand issues."
   ]
  },
  {
   "cell_type": "markdown",
   "id": "c6ea3ff9-81ab-498c-a3e0-330bcbc78b55",
   "metadata": {},
   "source": [
    "Let's look at this variant `rs10006274`. **Will it be flipped in the HapMap dataset?**\n",
    "\n",
    "The answer is yes! If we look at the reference allele in `1kg_ref-list.txt`, it shows `C`. This means the SNP is on the forward strand in 1000GP (C/T) and on the reverse strand in HapMap (G/A)."
   ]
  },
  {
   "cell_type": "code",
   "execution_count": 9,
   "id": "12dc2f26-f2e6-402b-9be1-382e47845b2c",
   "metadata": {},
   "outputs": [
    {
     "name": "stdout",
     "output_type": "stream",
     "text": [
      "rs10006274 C\n"
     ]
    }
   ],
   "source": [
    "grep rs10006274 Results/GWAS4/1kg_ref-list.txt"
   ]
  },
  {
   "cell_type": "code",
   "execution_count": 15,
   "id": "3c51a907-1301-4fc0-b4d8-5e505b6153f1",
   "metadata": {},
   "outputs": [
    {
     "name": "stdout",
     "output_type": "stream",
     "text": [
      "rs10006274 C T\n",
      "rs10006274 G A\n"
     ]
    }
   ],
   "source": [
    "grep rs10006274 Results/GWAS4/all_differences.txt"
   ]
  },
  {
   "cell_type": "markdown",
   "id": "6b1401f5-2bbb-4162-a98c-5f287dc2d847",
   "metadata": {},
   "source": [
    ":::{.callout-important title=\"Stop - Read - Solve\"}\n",
    "\n",
    "Look at these other SNPs `rs9614750` and `rs10088098`. **Which ones will have to be flipped? Is it always the same dataset that must be flipped?**\n",
    "\n",
    ":::"
   ]
  },
  {
   "cell_type": "code",
   "execution_count": 22,
   "id": "b8b0ba37-79a7-4d83-8c72-55355a101f1d",
   "metadata": {},
   "outputs": [],
   "source": [
    "# Write your code here "
   ]
  },
  {
   "cell_type": "markdown",
   "id": "0d7221cd-1406-4f6b-b057-5a72cb0a6c00",
   "metadata": {
    "tags": []
   },
   "source": [
    ":::{.callout-tip title=\"Solution\" collapse=true}\n",
    "We will first print out the SNPs from the reference file to know which line corresponds to each dataset (since we know we used the 1000 Genomes Project as the reference). If there are strand issues, the SNP will need to be flipped in the dataset that wasn't used as the reference."
   ]
  },
  {
   "cell_type": "code",
   "execution_count": 23,
   "id": "ad77cb69-bb65-4cfb-92f0-426568021ae0",
   "metadata": {},
   "outputs": [
    {
     "name": "stdout",
     "output_type": "stream",
     "text": [
      "rs9614750 A\n"
     ]
    }
   ],
   "source": [
    "grep rs9614750 Results/GWAS4/1kg_ref-list.txt "
   ]
  },
  {
   "cell_type": "code",
   "execution_count": 24,
   "id": "1b33052c-eee2-4d7d-a6ef-fbd0eaa48eda",
   "metadata": {},
   "outputs": [
    {
     "name": "stdout",
     "output_type": "stream",
     "text": [
      "rs9614750 A G\n",
      "rs9614750 C G\n"
     ]
    }
   ],
   "source": [
    "grep rs9614750 Results/GWAS4/all_differences.txt"
   ]
  },
  {
   "cell_type": "markdown",
   "id": "ce3ccaaf-fa99-4378-85f0-cc5a77eb156b",
   "metadata": {},
   "source": [
    "For `rs9614750`, the genotype is reported as `A/G` in the 1000GP data, while in HapMap, it is `C/G`. This discrepancy between the two datasets means that the SNP will need to be removed later.\n"
   ]
  },
  {
   "cell_type": "code",
   "execution_count": 25,
   "id": "dc56146a-aefa-45ae-9acd-772df3d3eac4",
   "metadata": {},
   "outputs": [
    {
     "name": "stdout",
     "output_type": "stream",
     "text": [
      "rs10088098 C\n"
     ]
    }
   ],
   "source": [
    "grep rs10088098 Results/GWAS4/1kg_ref-list.txt "
   ]
  },
  {
   "cell_type": "code",
   "execution_count": 26,
   "id": "5cabdd69-57d1-4223-a2cc-525ca87d5b3f",
   "metadata": {},
   "outputs": [
    {
     "name": "stdout",
     "output_type": "stream",
     "text": [
      "rs10088098 C T\n",
      "rs10088098 G A\n"
     ]
    }
   ],
   "source": [
    "grep rs10088098 Results/GWAS4/all_differences.txt"
   ]
  },
  {
   "cell_type": "markdown",
   "id": "d1774ade-79e0-4317-8324-105adb1686bf",
   "metadata": {},
   "source": [
    "For `rs10088098`, the genotype is reported as `C/T` in the 1000GP data, while in HapMap, it is `G/A`. This means that PLINK will flip the allele, as they are complementary."
   ]
  },
  {
   "cell_type": "markdown",
   "id": "f58853d5-e1dc-4f08-a487-d84cbd4ea5d6",
   "metadata": {},
   "source": [
    ":::\n",
    "\n",
    "---"
   ]
  },
  {
   "cell_type": "markdown",
   "id": "409cc2c4-c334-490c-9bac-1c654a9a3832",
   "metadata": {},
   "source": [
    "Now we take only the SNP names and give them to PLINK (option `--flip`), together with the reference genome (option `--reference-allele`):"
   ]
  },
  {
   "cell_type": "code",
   "execution_count": 12,
   "id": "d2bb696b-4d7b-423c-a0aa-1df7393af08b",
   "metadata": {},
   "outputs": [],
   "source": [
    "## Flip SNPs for resolving strand issues.\n",
    "# Print SNP-identifier and remove duplicates.\n",
    "awk '{print$1}' Results/GWAS4/all_differences.txt | sort -u > Results/GWAS4/flip_list.txt"
   ]
  },
  {
   "cell_type": "code",
   "execution_count": 44,
   "id": "cbda06fc-d78e-4487-ad6a-1835c0dc5ea2",
   "metadata": {},
   "outputs": [
    {
     "name": "stdout",
     "output_type": "stream",
     "text": [
      "302 Results/GWAS4/flip_list.txt\n"
     ]
    }
   ],
   "source": [
    "wc -l Results/GWAS4/flip_list.txt"
   ]
  },
  {
   "cell_type": "markdown",
   "id": "df940a85-ba06-4472-b1ef-eb36da383cd8",
   "metadata": {},
   "source": [
    "These are the SNP ID of non-corresponding SNPs (N=302) between the two files. "
   ]
  },
  {
   "cell_type": "code",
   "execution_count": 43,
   "id": "e5f8b6e7-9452-4dc2-9430-4227ecedcf82",
   "metadata": {},
   "outputs": [
    {
     "name": "stdout",
     "output_type": "stream",
     "text": [
      "rs10006274\n",
      "rs1008660\n",
      "rs10088098\n",
      "rs1011297\n",
      "rs1023098\n",
      "302 Results/GWAS4/flip_list.txt\n"
     ]
    }
   ],
   "source": [
    "head -5 Results/GWAS4/flip_list.txt"
   ]
  },
  {
   "cell_type": "markdown",
   "id": "44cba8ed-3b83-4c36-9e97-4aa094814a45",
   "metadata": {},
   "source": [
    "Apply the flipping option: "
   ]
  },
  {
   "cell_type": "code",
   "execution_count": 27,
   "id": "436c134e-9986-4218-86a0-98d8f5e3ee29",
   "metadata": {},
   "outputs": [
    {
     "name": "stdout",
     "output_type": "stream",
     "text": [
      "Warning: Impossible A1 allele assignment for variant rs2581195.\n",
      "Warning: Impossible A1 allele assignment for variant rs9614750.\n"
     ]
    }
   ],
   "source": [
    "plink --bfile Results/GWAS4/HapMap-adj --flip Results/GWAS4/flip_list.txt --reference-allele Results/GWAS4/1kg_ref-list.txt \\\n",
    "--make-bed --out Results/GWAS4/corrected_hapmap --silent"
   ]
  },
  {
   "cell_type": "markdown",
   "id": "a98f3692-398f-4742-80bc-4aafb770fb28",
   "metadata": {},
   "source": [
    ":::{.callout-important title=\"Stop - Read - Solve\"}\n",
    "There might still be problematic SNPs after flipping. \n",
    "\n",
    "- **Check if the expected allele flip occurred.** (Hint: use `grep` to find the `rs10006274` and `rs9614750` variants; then compare the alleles assignments in the HapMap file before and after flipping.)\n",
    ":::"
   ]
  },
  {
   "cell_type": "code",
   "execution_count": null,
   "id": "75f90b6d-911e-49a0-8cf1-2a09b4c63d16",
   "metadata": {},
   "outputs": [],
   "source": [
    "# Write your code here "
   ]
  },
  {
   "cell_type": "markdown",
   "id": "211a35da-2c83-4ef0-bac2-b26557b38058",
   "metadata": {},
   "source": [
    ":::{.callout-tip title=\"Solution\" collapse=true}\n",
    "PLINK attempts to flip all SNPs in the list, but an error occurs when A1 does not match the one in the reference.\n",
    ":::"
   ]
  },
  {
   "cell_type": "markdown",
   "id": "f52f2e6a-88ab-4bac-936b-705bf815b061",
   "metadata": {},
   "source": [
    "Notice how this SNP has changed as we predicted: "
   ]
  },
  {
   "cell_type": "code",
   "execution_count": 32,
   "id": "bfb8bbac-66f1-40ba-a92b-7beecc1743ff",
   "metadata": {},
   "outputs": [
    {
     "name": "stdout",
     "output_type": "stream",
     "text": [
      "4\trs10006274\t0\t124165369\tC\tT\n"
     ]
    }
   ],
   "source": [
    "grep rs10006274 Results/GWAS4/corrected_hapmap.bim "
   ]
  },
  {
   "cell_type": "code",
   "execution_count": 33,
   "id": "ffa6dcc8-a48a-4e7b-8ca5-ea18a1a04045",
   "metadata": {},
   "outputs": [
    {
     "name": "stdout",
     "output_type": "stream",
     "text": [
      "4\trs10006274\t0\t124165369\tG\tA\n"
     ]
    }
   ],
   "source": [
    "grep rs10006274 Results/GWAS4/HapMap-adj.bim"
   ]
  },
  {
   "cell_type": "markdown",
   "id": "a8c625f8-0540-43a1-a770-72bcac11d7ad",
   "metadata": {},
   "source": [
    "`rs10006274` was flipped and has the same strand orientation in both datasets (same alleles in A1 and A2). \n",
    "\n",
    "What happened to this one? PLINK attempts to resolve the mismatch by flipping the alleles but throws an error because the complementary alleles do not match the reference!"
   ]
  },
  {
   "cell_type": "code",
   "execution_count": 30,
   "id": "a120ca9c-d0e3-4f98-b531-2d70989b07ff",
   "metadata": {},
   "outputs": [
    {
     "name": "stdout",
     "output_type": "stream",
     "text": [
      "22\trs9614750\t0\t44436371\tG\tC\n"
     ]
    }
   ],
   "source": [
    "grep rs9614750 Results/GWAS4/corrected_hapmap.bim"
   ]
  },
  {
   "cell_type": "code",
   "execution_count": 31,
   "id": "26921fb5-c05a-4818-add4-fb9758238055",
   "metadata": {},
   "outputs": [
    {
     "name": "stdout",
     "output_type": "stream",
     "text": [
      "22\trs9614750\t0\t44436371\tC\tG\n"
     ]
    }
   ],
   "source": [
    "grep rs9614750 Results/GWAS4/HapMap-adj.bim "
   ]
  },
  {
   "cell_type": "markdown",
   "id": "efd0548d-e625-4e43-8c9f-4456f260e940",
   "metadata": {},
   "source": [
    ":::{.callout-note}\n",
    "You don't need to flip the 1000GP data because the reference allele (A1) in the 1000GP data already matches the strand orientation used in the HapMap data.\n",
    ":::"
   ]
  },
  {
   "cell_type": "markdown",
   "id": "3ced8d41-8c85-4657-bf1a-8b58e2eca7fe",
   "metadata": {},
   "source": [
    "**3.** After flipping SNPs, some differ in their alleles when comparing datasets to each other (e.g. SNP `rs9614750`) and such SNPs must be removed. \n",
    "\n",
    "We extract the SNPs from the corrected HapMap data and search for unique SNP (ID, A1, and A2), comparing them with those from the 1000GP data."
   ]
  },
  {
   "cell_type": "code",
   "execution_count": 45,
   "id": "1f3db957-1b52-42ea-bcf7-4f542a627600",
   "metadata": {},
   "outputs": [],
   "source": [
    "awk '{print$2,$5,$6}' Results/GWAS4/corrected_hapmap.bim > Results/GWAS4/corrected_hapmap_tmp\n",
    "\n",
    "sort Results/GWAS4/1kGMDS5_tmp Results/GWAS4/corrected_hapmap_tmp | uniq -u  > Results/GWAS4/uncorresponding_SNPs.txt"
   ]
  },
  {
   "cell_type": "markdown",
   "id": "2d8e5e0b-96c5-43f5-b980-e6e7ccc9800f",
   "metadata": {},
   "source": [
    "**How many SNP missmatches are there?**"
   ]
  },
  {
   "cell_type": "code",
   "execution_count": 50,
   "id": "3ecd7c1a-c504-4c26-9df3-117282576a3e",
   "metadata": {},
   "outputs": [
    {
     "name": "stdout",
     "output_type": "stream",
     "text": [
      "24 Results/GWAS4/uncorresponding_SNPs.txt\n"
     ]
    }
   ],
   "source": [
    "wc -l Results/GWAS4/uncorresponding_SNPs.txt"
   ]
  },
  {
   "cell_type": "markdown",
   "id": "15ded8f4-2e95-468c-bd80-274fdeb7b690",
   "metadata": {},
   "source": [
    "This corresponds to 12 unique SNP IDs with mismatched information."
   ]
  },
  {
   "cell_type": "code",
   "execution_count": 53,
   "id": "a0cd231c-0467-4d12-b37d-a9d7d0d765ec",
   "metadata": {},
   "outputs": [
    {
     "name": "stdout",
     "output_type": "stream",
     "text": [
      "rs11524965 T C\n",
      "rs11524965 T G\n",
      "rs12646999 G A\n",
      "rs12646999 G T\n",
      "rs17114359 C A\n",
      "rs17114359 C T\n",
      "rs17269854 C A\n",
      "rs17269854 C T\n",
      "rs2060424 G A\n",
      "rs2060424 G C\n"
     ]
    }
   ],
   "source": [
    "head Results/GWAS4/uncorresponding_SNPs.txt "
   ]
  },
  {
   "cell_type": "markdown",
   "id": "ab856d5a-82a6-40f9-9d96-60a1f1c84f4f",
   "metadata": {},
   "source": [
    "We extract again the SNP IDs from the file above, and exclude them using the PLINK option `--exclude` in both datasets"
   ]
  },
  {
   "cell_type": "code",
   "execution_count": 2,
   "id": "c847f8ba-c42a-4cbe-933b-a8f7b44472f4",
   "metadata": {},
   "outputs": [],
   "source": [
    "awk '{print$1}' Results/GWAS4/uncorresponding_SNPs.txt | sort -u > Results/GWAS4/SNPs_for_exclusion.txt\n",
    "\n",
    "plink --bfile Results/GWAS4/corrected_hapmap --exclude Results/GWAS4/SNPs_for_exclusion.txt \\\n",
    "--make-bed --out Results/GWAS4/HapMap_MDS3 --silent\n",
    "plink --bfile Results/GWAS4/1kG_MDS5 --exclude Results/GWAS4/SNPs_for_exclusion.txt \\\n",
    "--make-bed --out Results/GWAS4/1kG_MDS6 --silent"
   ]
  },
  {
   "cell_type": "markdown",
   "id": "de731b29-4e7b-4f2e-8f57-e9423828be9e",
   "metadata": {},
   "source": [
    "**5.** We can finally merge the data! We provide our dataset (`-bfile`) and the one to add (`--bmerge` option):"
   ]
  },
  {
   "cell_type": "code",
   "execution_count": 3,
   "id": "02eb4e5a-5904-4b27-9fab-45ca16d4f608",
   "metadata": {},
   "outputs": [],
   "source": [
    "plink --bfile Results/GWAS4/corrected_hapmap --bmerge Results/GWAS4/1kG_MDS6.bed Results/GWAS4/1kG_MDS6.bim Results/GWAS4/1kG_MDS6.fam \\\n",
    "--allow-no-sex --make-bed --out Results/GWAS4/MDS_merge --silent"
   ]
  },
  {
   "cell_type": "markdown",
   "id": "05607f1c-b5e1-4ec7-8930-fd0912557dbe",
   "metadata": {},
   "source": [
    "### Perform MDS on HapMap-CEU data anchored by 1000 Genomes data."
   ]
  },
  {
   "cell_type": "markdown",
   "id": "3cf8f6cc",
   "metadata": {},
   "source": [
    "MDS is typically performed on independent SNPs (pruned SNPs). We have previously identified such SNPs in this course, so we will extract only these SNPs for the analysis."
   ]
  },
  {
   "cell_type": "code",
   "execution_count": 11,
   "id": "07f84ea8",
   "metadata": {
    "tags": []
   },
   "outputs": [],
   "source": [
    "plink --bfile Results/GWAS4/MDS_merge --extract Results/GWAS3/indepSNP.prune.in \\\n",
    "    --genome --out Results/GWAS4/MDS_merge --silent"
   ]
  },
  {
   "cell_type": "markdown",
   "id": "40527002-38d8-4adb-84dd-02d302d672fc",
   "metadata": {},
   "source": [
    "Now, we can use PLINK to run MDS with the option `---mds-plot` specifying the number of components to calculate."
   ]
  },
  {
   "cell_type": "code",
   "execution_count": 12,
   "id": "fc3a311a-58e6-4d28-9cf0-127257a924c3",
   "metadata": {},
   "outputs": [],
   "source": [
    "# mds-plot\n",
    "plink --bfile Results/GWAS4/MDS_merge --read-genome Results/GWAS4/MDS_merge.genome \\\n",
    "    --cluster --mds-plot 10 --out Results/GWAS4/MDS_merge --silent"
   ]
  },
  {
   "cell_type": "markdown",
   "id": "e855e1ab-2177-407f-a2a3-569fedb965b3",
   "metadata": {},
   "source": [
    "For visualization purposes, we downloaded the 1000 Genomes Project (1000GP) panel, which includes individual names and their corresponding population information."
   ]
  },
  {
   "cell_type": "code",
   "execution_count": 2,
   "id": "5a3f6fea-bb10-4d5c-8909-ab682020a41c",
   "metadata": {
    "tags": []
   },
   "outputs": [],
   "source": [
    "wget ftp://ftp.1000genomes.ebi.ac.uk/vol1/ftp/release/20100804/20100804.ALL.panel -P Results/GWAS4 -q"
   ]
  },
  {
   "cell_type": "markdown",
   "id": "1ec78f9f-69a9-469c-8fc3-4381dc133665",
   "metadata": {},
   "source": [
    "To determine the population origins of HapMap individuals, we created a new file that combines the 1000GP panel information with the HapMap data, labeling the population HapMap entries as 'OWN'."
   ]
  },
  {
   "cell_type": "code",
   "execution_count": 1,
   "id": "ac3d0b03-be57-4fc2-964e-8d32f9d6a4b2",
   "metadata": {
    "tags": []
   },
   "outputs": [],
   "source": [
    "awk '{print$1,$2,\"OWN\"}' Results/GWAS4/HapMap_MDS.fam > Results/GWAS4/popfile_own.txt\n",
    "awk '{print$1,$1,$2}' Results/GWAS4/20100804.ALL.panel > Results/GWAS4/20100804.ALL.panel.txt\n",
    "\n",
    "cat <(echo \"FID IID POP\") Results/GWAS4/20100804.ALL.panel.txt Results/GWAS4/popfile_own.txt > Results/GWAS4/popfile.txt"
   ]
  },
  {
   "cell_type": "markdown",
   "id": "2196facd-2e54-4382-9cf6-32a7cbcde299",
   "metadata": {},
   "source": [
    ":::{.callout-note}\n",
    "\n",
    "The 1000 Genomes Project (1000GP) categorizes individuals into major continental groups—such as Europeans (EUR), Africans (AFR), Americans (AMR), East Asians (EAS), and South Asians (SAS)—each comprising various subpopulations. We will use this population structure information to visualize and determine the clusters our samples belong to.\n",
    "\n",
    "![](./Images/1000GP.png){width=800px}\n",
    "\n",
    ":::"
   ]
  },
  {
   "cell_type": "markdown",
   "id": "9868d96e-fe7e-41ba-a020-0a6e9b59af33",
   "metadata": {},
   "source": [
    "<img src=\"Images/R.png\" alt=\"R\" width=\"40\"> Switch to the R-GWAS kernel.\n",
    "\n",
    "Let's visualize population stratification using the multidimensional scaling (MDS) results. \n"
   ]
  },
  {
   "cell_type": "code",
   "execution_count": 11,
   "id": "eac20c80-bb26-4175-a870-660892297e46",
   "metadata": {
    "tags": []
   },
   "outputs": [
    {
     "data": {
      "image/png": "[encoded data removed]",
      "text/plain": [
       "plot without title"
      ]
     },
     "metadata": {
      "image/png": {
       "height": 360,
       "width": 720
      }
     },
     "output_type": "display_data"
    }
   ],
   "source": [
    "options(repr.plot.width = 12, repr.plot.height = 6)\n",
    "\n",
    "suppressMessages(suppressWarnings(library(ggplot2)))\n",
    "\n",
    "# Read data into R \n",
    "data <- read.table(file=\"Results/GWAS4/MDS_merge.mds\",header=TRUE)\n",
    "pop <- read.table(file=\"Results/GWAS4/popfile.txt\",header=TRUE)\n",
    "datafile <- merge(data,pop,by=c(\"FID\",\"IID\"))\n",
    "\n",
    "# Metapopulation information for the population in the 1000GP dataset\n",
    "superpop <- c(\n",
    "  \"JPT\" = \"ASN\",\n",
    "  \"ASW\" = \"AFR\",\n",
    "  \"CEU\" = \"EUR\",\n",
    "  \"CHB\" = \"ASN\",\n",
    "  \"CHD\" = \"ASN\",\n",
    "  \"YRI\" = \"AFR\",\n",
    "  \"LWK\" = \"AFR\",\n",
    "  \"TSI\" = \"EUR\",\n",
    "  \"MXL\" = \"AMR\",\n",
    "  \"GBR\" = \"EUR\",\n",
    "  \"FIN\" = \"EUR\",\n",
    "  \"CHS\" = \"ASN\",\n",
    "  \"PUR\" = \"AMR\",\n",
    "  \"OWN\" = \"UN\"\n",
    ")\n",
    "\n",
    "# add metapopulation info to the table \n",
    "datafile$SUPERPOP <- superpop[datafile$POP]\n",
    "\n",
    "# Plotting                \n",
    "scatter.mds <- ggplot(datafile, aes(x=C1, y=C2, color=SUPERPOP)) +\n",
    "  geom_point(size=5, alpha=.4) +\n",
    "  scale_color_manual(values=c(\"AFR\" = \"red\", \"AMR\" = \"springgreen4\", \"ASN\" = \"gold\", \"EUR\" = \"blue\", \"UN\" = \"grey\" )) +\n",
    "  xlab(\"MD Component 1\") + \n",
    "  ylab(\"MD Component 2\") +\n",
    "  labs(color=\"Superpop\") +\n",
    "  theme_bw() +\n",
    "  theme(axis.title = element_text(size = 14), legend.text = element_text(size = 15), \n",
    "        axis.text = element_text(size = 14), legend.title=element_text(size=15))\n",
    "  \n",
    "show(scatter.mds)"
   ]
  },
  {
   "cell_type": "markdown",
   "id": "f93bc0e6-68b5-4f68-922e-e18cd35a38b3",
   "metadata": {},
   "source": [
    "The HapMap data clusters closely with European populations such as CEU, TSI, IBS, GBR, and FIN, confirming its European composition. Additionally, the absence of distant points indicates no outliers in the HapMap dataset (grey datapoints cluster together).\n"
   ]
  },
  {
   "cell_type": "markdown",
   "id": "1a351cee",
   "metadata": {},
   "source": [
    "#### Exclude ethnic outliers\n",
    "\n",
    "Let's run the scripts to filter population stratification outliers for educational purposes (e.g. imagine a HapMap individual clusters in the lower-right corner with African populations). \n",
    "\n",
    "<img src=\"Images/bash.png\" alt=\"Bash\" width=\"40\"> Switch to the Bash kernel.\n",
    "\n",
    "To identify and exclude ethnic outliers in the HapMap dataset, select individuals falling within specific cut-off thresholds. These thresholds should be determined based on the visualization of the first two dimensions from the multidimensional scaling (MDS) analysis. \n",
    "\n",
    "**What values would you select or apply in this context, and why?** Hint: look at the plot above. \n",
    "\n",
    "Preview of the MDS results: "
   ]
  },
  {
   "cell_type": "code",
   "execution_count": 1,
   "id": "89a3b1b8-0600-4970-bbd8-26c61e593aa3",
   "metadata": {},
   "outputs": [
    {
     "name": "stdout",
     "output_type": "stream",
     "text": [
      "    FID       IID    SOL           C1           C2           C3           C4           C5           C6           C7           C8           C9          C10 \n",
      "   1328   NA06984      0   -0.0218368  -0.00620683  -0.00464884   0.00121512 -0.000413235   0.00221093    0.0104188  -0.00199382    0.0173257   -0.0131241 \n",
      "   1328   NA06989      0   -0.0208157  -0.00581126  -0.00638572   0.00503345  -0.00116741  -0.00369152    0.0120005   -0.0229035  -0.00238946    0.0381386 \n"
     ]
    }
   ],
   "source": [
    "head -3 Results/GWAS4/MDS_merge2.mds | cut -f1-6 -d$'\\t'"
   ]
  },
  {
   "cell_type": "markdown",
   "id": "80b2331a-58c4-428a-bfac-d2354c89869c",
   "metadata": {},
   "source": [
    "Based on the position of the target population's cluster in the MDS plot, we will exclude individuals with MDS component 1 values less than 0 and MDS component 2 values less than -0.05.\n"
   ]
  },
  {
   "cell_type": "markdown",
   "id": "637b5106-7e6c-4c3a-ae92-a336b899a53d",
   "metadata": {},
   "source": [
    "The selection has to be done for the individuals we want to keep, so the area to be chosen has to be mirrored into >0 and >-0.05. We provide the MDS component values in columns 4 and 5 of the file (corresponding to the first 2 components), and extract the individuals using `--keep` "
   ]
  },
  {
   "cell_type": "code",
   "execution_count": 2,
   "id": "3e022245",
   "metadata": {
    "tags": []
   },
   "outputs": [],
   "source": [
    "awk '{ if ($4 >0 || $5 >-0.05) print $1,$2 }' Results/GWAS4/MDS_merge2.mds > Results/GWAS4/EUR_MDS_merge2\n",
    "\n",
    "plink --bfile Results/GWAS4/HapMap_3_r3_9 --keep Results/GWAS4/EUR_MDS_merge2 --make-bed  \\\n",
    "--out Results/GWAS4/HapMap_3_r3_10 > /dev/null"
   ]
  },
  {
   "cell_type": "markdown",
   "id": "3a4836bc-5b88-4bbe-ac64-715d205895ba",
   "metadata": {},
   "source": [
    "#### Creating covariates for GWAS analysis\n",
    "\n",
    "The 10 MDS dimensions will be used as covariates in the association analysis in the next tutorial to correct for population stratification. The covariate file is created by removing column 3 (SOL, optional metadata) from the MDS output file."
   ]
  },
  {
   "cell_type": "code",
   "execution_count": 3,
   "id": "975054c0-85c1-4436-a340-819bffa12a5a",
   "metadata": {
    "tags": []
   },
   "outputs": [],
   "source": [
    "plink --bfile Results/GWAS4/HapMap_3_r3_10 --extract Results/GWAS3/indepSNP.prune.in --genome  \\\n",
    "--out Results/GWAS4/HapMap_3_r3_10 > /dev/null\n",
    "plink --bfile Results/GWAS4/HapMap_3_r3_10 --read-genome Results/GWAS4/HapMap_3_r3_10.genome \\\n",
    "--cluster --mds-plot 10 --out Results/GWAS4/HapMap_3_r3_10_mds > /dev/null\n",
    "\n",
    "# Change the format of the .mds file into a plink covariate file.\n",
    "awk '{print $1, $2, $4, $5, $6, $7, $8, $9, $10, $11, $12, $13}' Results/GWAS4/HapMap_3_r3_10_mds.mds > Results/GWAS4/covar_mds.txt"
   ]
  },
  {
   "cell_type": "markdown",
   "id": "8b1cf38d",
   "metadata": {},
   "source": [
    "The `covar_mds.txt` file contains the covariates to adjust for residual population stratification."
   ]
  },
  {
   "cell_type": "code",
   "execution_count": 4,
   "id": "62ac8a2d-6153-443c-be20-0906f4a3262b",
   "metadata": {},
   "outputs": [
    {
     "name": "stdout",
     "output_type": "stream",
     "text": [
      "FID IID C1 C2 C3 C4 C5 C6 C7 C8 C9 C10\n",
      "1328 NA06989 0.0193503 -0.0481539 0.053743 -8.56966e-05 0.0124037 -0.00872553 0.0146577 -0.0266013 0.0064429 -0.0149862\n",
      "1377 NA11891 0.0105154 -0.0241653 -0.00713715 -0.0276522 0.0272997 0.0044621 -0.00373271 -0.00561896 -0.0317101 0.0188078\n",
      "1349 NA11843 -0.00217144 0.0120046 -0.00508388 0.0193558 -0.00738542 0.0285001 -0.00512723 0.00271516 0.0029428 0.000145191\n",
      "1330 NA12341 -0.0124555 -0.0114929 0.0019162 -0.0252928 -0.0300722 -0.00411769 -0.0207568 -0.0122574 -0.017065 0.0353729\n"
     ]
    }
   ],
   "source": [
    "head -5 Results/GWAS4/covar_mds.txt"
   ]
  },
  {
   "cell_type": "markdown",
   "id": "0ce66796",
   "metadata": {},
   "source": [
    ":::{.callout-note title=\"Wrapping up\"}\n",
    "\n",
    "You have now successfully checked your data for relatedness population stratification. You filtered out the individuals with high relatedness and produced a summary of the population structure using the MDS projection. You will use the MDS coordinates as a proxy for the population structure you want your association testing to be corrected for.  \n",
    "\n",
    "In the next notebook on **Association Testing**, you will need the following files from the folder `Results/GWAS4/`:\n",
    "- `HapMap_3_r3_10` (the bfile, i.e., `HapMap_3_r3_10.bed`, `HapMap_3_r3_10.bim`, and `HapMap_3_r3_10.fam`)\n",
    "- `covar_mds.txt`\n",
    "which are the HapMap data and the MDS covariates highlighting the population stratification. Those are already available once you have been running this notebook.\n",
    "\n",
    "Below is a cheat sheet of our new methods of QC. Again, it is important to remember that each method of QC should be justified, which will depend on the nature of the feature you are trying to analyze.\n",
    "\n",
    "\n",
    "| Step| Command| Function| Thresholds and explanation|\n",
    "|------------------------------|------------------------|---------------------------------------------------------------------------------------------------------------------------------------------------------------------------------------------------------------------|-------------------------------------------------------------------------------------------------------------------------------------------------------------------------------------------------------------------------------------------------------------------------------------------------------------------------------------------------------------------------------------------------------------------------|\n",
    "| 6: Relatedness| --genome| Calculates identity by descent (IBD) of all sample pairs.| Use independent SNPs ( pruning) for this analysis and limit it to autosomal chromosomes only.|\n",
    "| - | --min| Sets threshold and creates a list of individuals with relatedness above  the chosen threshold. This means that subjects who are related at, for  example, pi‐hat >0.2 (i.e., second-degree relatives) can be detected. | Cryptic relatedness can interfere with the association analysis. If you  have a family‐based sample (e.g., parent‐offspring), you do not need to  remove related pairs but the statistical analysis should take family  relatedness into account. However, for a population-based sample, we suggest using a pi‐hat threshold of 0.2, which is in line with the literature (Anderson et al.,  2010; Guo et al.,  2014). |\n",
    "| 7: Population Stratification | --genome | Calculates identity by descent (IBD) of all sample pairs.| Use independent SNPs ( pruning) for this analysis and limit it to autosomal chromosomes only.|\n",
    "| - | --cluster --mds-plot k | Produces a  k‐dimensional representation of any substructure in the data, based on IBS.| K is the number of dimensions, which needs to be defined  (typically 10). This is an important step of the QC that consists of  multiple proceedings but for reasons of completeness, we briefly refer to  this step in the table. This step will be described in more detail in the section “Controlling for population stratification.”|\n",
    "\n",
    "\n",
    "\n",
    ":::\n",
    "\n",
    "# Bibliography"
   ]
  }
 ],
 "metadata": {
  "kernelspec": {
   "display_name": "Bash",
   "language": "bash",
   "name": "bash"
  },
  "language_info": {
   "codemirror_mode": "shell",
   "file_extension": ".sh",
   "mimetype": "text/x-sh",
   "name": "bash"
  }
 },
 "nbformat": 4,
 "nbformat_minor": 5
}
