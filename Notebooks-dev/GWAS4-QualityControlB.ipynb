{
 "cells": [
  {
   "cell_type": "markdown",
   "id": "5650c957-6893-44f5-8307-b39a9f0fce81",
   "metadata": {},
   "source": []
  },
  {
   "cell_type": "markdown",
   "id": "730c8389-5d0d-4258-8bb0-7a90f1377018",
   "metadata": {},
   "source": [
    "---\n",
    "title: \"Quality Control: Relatedness & Population Stratification\"\n",
    "author:\n",
    "    - name: Conor O'Hare\n",
    "    - name: Samuele Soraggi\n",
    "      orcid: 0000-0002-1159-5535\n",
    "      email: samuele@birc.au.dk\n",
    "    - name: Alba Refoyo Martinez\n",
    "      orcid: 0000-0002-3674-4007\n",
    "      email: alba.martinez@sund.ku.dk   \n",
    "---\n"
   ]
  },
  {
   "cell_type": "markdown",
   "id": "0e082220-ac80-4df7-9ceb-419e4fe4bde1",
   "metadata": {},
   "source": [
    "---\n",
    "format:\n",
    "  html:\n",
    "   theme: default\n",
    "   number-sections: true\n",
    "   code-fold: false\n",
    "   self-contained: false\n",
    "   toc: true\n",
    "   highlight-style: pygments\n",
    "  ipynb:\n",
    "    toc: true\n",
    "    number-sections: false\n",
    "bibliography: references/references_4.bib\n",
    "---"
   ]
  },
  {
   "cell_type": "markdown",
   "id": "9a06a928-7da8-4c80-9126-81fc5cc3d526",
   "metadata": {},
   "source": [
    "::: {.callout-note title=\"Important notes for this notebook\" icon=false}\n",
    "\n",
    "As we have already mentioned, quality control (QC) analyses are crucial to ensure the reliability and validity of the results. In this section, we will explore confounding factors in GWAS that can lead to spurious associations if not properly controlled, including: \n",
    "\n",
    "-  Relatedness  \n",
    "- Population Stratification/Structure\n",
    "\n",
    "## Learning outcomes\n",
    "\n",
    "- **Discuss** confounding factors that lead to spurious associations\n",
    "- **Detect** related individuals\n",
    "- **Identify** population substructure\n",
    "- **Correct** for population stratification \n",
    "\n",
    "## How to make this notebook work\n",
    "\n",
    "In this notebook, we will both use `R` and `bash command line` programming languages. Remember to **change the kernel** whenever you transition from one language to the other (`Kernel --> Change Kernel`) indicated by the languages' images.\n",
    "* We will first run `Bash` commands.  \n",
    "  \n",
    "<img src=\"Images/bash.png\" alt=\"Bash\" width=\"80\"> Choose the Bash kernel\n",
    "\n",
    ":::"
   ]
  },
  {
   "cell_type": "markdown",
   "id": "f5baacc8-1ac6-47ac-8bdd-45e0dc5089f6",
   "metadata": {},
   "source": [
    "## 4.1 Relatedness\n",
    "\n",
    "Relatedness refers to the presence of genetically related individuals in a study sample, which can introduce confounding factors into association analyses. Most statistical methods assume that samples are independent, so including related individuals, such as siblings, would violate this assumption. To address this, a common quality control step involves identifying and managing relatedness to ensure the genomes in the dataset are no more similar than expected for unrelated individuals. Properly handling relatedness is essential to maintain the validity of the study's findings.\n",
    "\n",
    "While all humans share some genetic relatedness, the degree of relatedness varies among individuals. In genome-wide association studies (GWAS), these variations must be accounted for to avoid biasing the statistical associations between genotypes and phenotypes. **Cryptic relatedness** (genetic relatedness of individuals not expected to be in a family relationship) can interfere with the association analysis [@voight2005confounding]. In a **family-based study** (e.g., parent-offspring), you do not need to remove related pairs, but the statistical analysis should account for family relatedness. However, for a **population-based study**, we suggest using a $\\hat{\\pi}$ threshold of 0.2. $\\hat{\\pi}$ computed as P(IBD = 2) + 0.5 × P(IBD = 1), where P denotes probablility. $\\hat{\\pi}$ ranges between 0 and 1, where 0 indicates no relationship and higher values indicate closer relatedness."
   ]
  },
  {
   "cell_type": "markdown",
   "id": "bdee8bbe-d290-4ca4-8533-a11cebacecb0",
   "metadata": {},
   "source": [
    "<img src=\"Images/bash.png\" alt=\"Bash\" width=\"40\"> We use `ln -sf` to link the data folder and create a directory for output files. "
   ]
  },
  {
   "cell_type": "code",
   "execution_count": 2,
   "id": "4a89129f-f4bf-4315-b9d6-689bd6d5a78c",
   "metadata": {
    "tags": []
   },
   "outputs": [],
   "source": [
    "ln -sf ../Data\n",
    "mkdir -p Results/GWAS4"
   ]
  },
  {
   "cell_type": "markdown",
   "id": "a6d9e47d-1f8d-43ab-873c-8a0044df8d37",
   "metadata": {},
   "source": [
    "### 4.1.1 Analysis\n",
    "\n",
    "We will make use of the independent SNPs for our analysis (generated in the previous section). It is also essential to check the datasets you analyze for cryptic relatedness. Assuming a random population sample, we will exclude all individuals above the $\\hat{\\pi}$ threshold of 0.2 in this tutorial. \n",
    "\n",
    "The HapMap dataset is known to contain parent-offspring relationships. The following commands will help visualise these parent-offspring relations, using the $z$ values. $z_0$ indicates the fraction of the genome with no alleles identical-by-descent (IBD) with another genome and $z_1$ with 1 allele IBD.\n",
    "\n",
    "The commands below use PLINK to calculate the relationship between individuals. A threshold on relatedness can be set with `--min` and `--max` options (it will be in the exercise afterwards)."
   ]
  },
  {
   "cell_type": "code",
   "execution_count": 3,
   "id": "aafefbaf",
   "metadata": {
    "tags": []
   },
   "outputs": [],
   "source": [
    "plink --bfile Results/GWAS3/HapMap_3_r3_7 --extract Results/GWAS3/indepSNP.prune.in --genome --out Results/GWAS4/pihat --silent"
   ]
  },
  {
   "cell_type": "markdown",
   "id": "926cbfcd-ae16-4d01-8d74-e425ca1d47eb",
   "metadata": {},
   "source": [
    "The table from PLINK contains various IDs in the first columns, then \n",
    "- `RT` Relationship\n",
    "- `EZ`\tIBD sharing expected value, based on just .fam/.ped relationship\n",
    "- `Z0`\tP(IBD=0)\n",
    "- `Z1`\tP(IBD=1)\n",
    "- `Z2`\tP(IBD=2)\n",
    "- `PI_HAT`\tProportion IBD, i.e. P(IBD=2) + 0.5*P(IBD=1)\n",
    "- `PHE`\tPairwise phenotypic code (1, 0, -1 = AA, AU, and UU pairs, respectively)\n",
    "- `DST`\tIBS distance, i.e. (IBS2 + 0.5*IBS1) / (IBS0 + IBS1 + IBS2)\n",
    "- `PPC`\tIBS binomial test\n",
    "- `RATIO` : IBS0 SNP ratio (expected value 2)\n",
    "\n",
    "The specific IBD coefficients (PI_HAT, Z0, Z1, Z2) in the output file are used to infer these relationships. PI_HAT represents the proportion of IBD sharing, and Z0, Z1, and Z2 represent the probabilities that a pair of individuals share 0, 1, or 2 alleles IBD, respectively. The combination of these values helps to classify the relationship into one of the above categories.\n",
    "\n",
    "For the relationships `RT`, you can have:\n",
    "\n",
    "- `PO` (Parent-Offspring): This indicates a parent-offspring relationship. The expected IBD sharing for such a pair is 50%.\n",
    "- `FS` (Full Siblings): This indicates a full sibling relationship. Full siblings are expected to share 50% of their genome IBD, but the pattern of sharing (i.e., segments shared by descent) differs from that of a parent-offspring pair.\n",
    "- `HS` (Half Siblings): This indicates a half sibling relationship, where the individuals share one parent. They are expected to share about 25% of their genome IBD.\n",
    "- `UN` (Unrelated): This label indicates that the pair of individuals is inferred to be unrelated. They share little to no IBD segments, which is expected for unrelated individuals in large populations.\n",
    "- `AV` (Avuncular): This indicates an avuncular relationship (e.g., uncle/aunt to niece/nephew), where the expected IBD sharing is around 25%.\n",
    "- `GG` (Grandparent-Grandchild): This label indicates a grandparent-grandchild relationship, with expected IBD sharing of about 25%.\n",
    "- `CO` (Cousin): This label is used for cousin relationships, where the expected IBD sharing is about 12.5%.\n",
    "- `OT` (Other): For more distant relationships or complex kinship structures, this label might be used when none of the primary categories apply clearly."
   ]
  },
  {
   "cell_type": "markdown",
   "id": "375e5b23-aa9e-4db4-95b1-3109b09fdaba",
   "metadata": {},
   "source": [
    ":::{.callout-important title=\"Stop - Read - Solve\"}\n",
    "\n",
    "- What assumption in association studies is violated when individuals are related?\n",
    "- How would you recognize if the same person is included twice in your dataset?\n",
    "- Are there any individuals in your dataset who are closely related?\n",
    "\n",
    ":::"
   ]
  },
  {
   "cell_type": "markdown",
   "id": "e1893edf-5412-4f14-95d1-a5391f3a575f",
   "metadata": {},
   "source": [
    ":::{.callout-tip title=\"Solution\" collapse=true}\n",
    "\n",
    "If you have related individual, you will lose the indipendence of individuals at each SNP. This is a problem, because many models used in GWAS analysis do not include handling family relationships.\n",
    "\n",
    "To find any duplicated individual in the data, simply use `uniq` on the `fam` file of the data, and count each occurrence. Then find a line with  anumber larger than 1. There is no output, so individuals are unique."
   ]
  },
  {
   "cell_type": "code",
   "execution_count": 20,
   "id": "4c6f18d5-0a27-496c-9aa2-2cb799ffef61",
   "metadata": {},
   "outputs": [
    {
     "ename": "",
     "evalue": "1",
     "output_type": "error",
     "traceback": []
    }
   ],
   "source": [
    "cut -f2 -d' ' Results/GWAS3/HapMap_3_r3_7.fam | uniq -c |  grep -v \"1 \""
   ]
  },
  {
   "cell_type": "markdown",
   "id": "fb67636c-ef76-4245-82d7-de61b7edab65",
   "metadata": {},
   "source": [
    "We can visualize the `PI_HAT` parameter, which is in column 10 of the `genome` file created by PLINK"
   ]
  },
  {
   "cell_type": "code",
   "execution_count": 21,
   "id": "4f7ccdcf-e469-4f95-8b0f-7f72ca1f91bb",
   "metadata": {},
   "outputs": [
    {
     "name": "stdout",
     "output_type": "stream",
     "text": [
      "   FID1     IID1   FID2     IID2 RT    EZ      Z0      Z1      Z2  PI_HAT PHE       DST     PPC   RATIO\n",
      "   1328  NA06989   1377  NA11891 UN    NA  0.9891  0.0109  0.0000  0.0055   1  0.720373  0.4063  1.9840\n",
      "   1328  NA06989   1349  NA11843 UN    NA  0.9846  0.0154  0.0000  0.0077   0  0.718050  0.0223  1.8707\n",
      "   1328  NA06989   1330  NA12341 UN    NA  0.9649  0.0351  0.0000  0.0176   1  0.721260  0.2259  1.9501\n",
      "   1328  NA06989   1344  NA10850 UN    NA  0.9860  0.0129  0.0011  0.0075   0  0.721665  0.6441  2.0250\n"
     ]
    }
   ],
   "source": [
    "cat Results/GWAS4/pihat.genome | head -5"
   ]
  },
  {
   "cell_type": "markdown",
   "id": "352d0a0b-ece8-4529-b2fd-c0dcb96e9f48",
   "metadata": {},
   "source": [
    "We can see which individuals have a parameter larger than 0.2. There are a lot of parent-offspring (PO) relationships which have a parameter around 0.5, plus unrelated (UN) individual which stands out as having a lot of relatedness."
   ]
  },
  {
   "cell_type": "code",
   "execution_count": 22,
   "id": "10099d32-f494-48da-88fd-a78cd4531217",
   "metadata": {},
   "outputs": [
    {
     "name": "stdout",
     "output_type": "stream",
     "text": [
      "   FID1     IID1   FID2     IID2 RT    EZ      Z0      Z1      Z2  PI_HAT PHE       DST     PPC   RATIO\n",
      "   1377  NA11891   1377  NA10865 PO   0.5  0.0015  0.9985  0.0000  0.4993   0  0.823436  1.0000 1808.0000\n",
      "   1349  NA11843   1349  NA10853 PO   0.5  0.0021  0.9901  0.0077  0.5028  -1  0.824968  1.0000 928.5000\n",
      "   1330  NA12341   1330  NA12335 PO   0.5  0.0000  1.0000  0.0000  0.5000   0  0.822813  1.0000 923.0000\n",
      "   1463  NA12877   1463  NA12890 PO   0.5  0.0000  1.0000  0.0000  0.5000   0  0.823210  1.0000 922.7500\n",
      "   1463  NA12877   1463  NA12889 PO   0.5  0.0144  0.9797  0.0059  0.4958   0  0.823374  1.0000 146.4800\n",
      "   1418  NA12275   1418  NA10836 PO   0.5  0.0024  0.9958  0.0018  0.4997  -1  0.823889  1.0000      NA\n",
      "  13291  NA06986  13291  NA06997 PO   0.5  0.0016  0.9954  0.0030  0.5007  -1  0.824182  1.0000 1837.5000\n",
      "   1418  NA12272   1418  NA10837 PO   0.5  0.0016  0.9922  0.0062  0.5023  -1  0.824750  1.0000 1829.5000\n",
      "   1424  NA10845   1424  NA11930 PO   0.5  0.0016  0.9923  0.0061  0.5022   0  0.824730  1.0000 1239.6667\n",
      "   1424  NA10845   1424  NA11931 PO   0.5  0.0000  1.0000  0.0000  0.5000  -1  0.823576  1.0000 3735.0000\n",
      "   1346  NA10852   1346  NA12045 PO   0.5  0.0020  0.9850  0.0130  0.5055  -1  0.825904  1.0000 917.5000\n",
      "  13292  NA07051  13292  NA07014 PO   0.5  0.0009  0.9883  0.0108  0.5049   0  0.825627  1.0000 3680.0000\n",
      "   1354  NA12400   1354  NA12386 PO   0.5  0.0007  0.9964  0.0029  0.5011   0  0.824264  1.0000 3685.0000\n",
      "  13281  NA12344  13281  NA12348 PO   0.5  0.0000  1.0000  0.0000  0.5000   0  0.823002  1.0000 3738.0000\n",
      "  13281  NA12344  13281  NA12347 PO   0.5  0.0012  0.9978  0.0010  0.4999   0  0.823884  1.0000 1870.5000\n",
      "   1451  NA12777   1451  NA12767 PO   0.5  0.0009  0.9906  0.0085  0.5038   0  0.825226  1.0000 1220.6667\n",
      "   1421  NA12287   1421  NA10840 PO   0.5  0.0016  0.9984  0.0000  0.4992  -1  0.823474  1.0000 1853.5000\n",
      "   1418  NA10837   1418  NA12273 PO   0.5  0.0016  0.9971  0.0014  0.4999  -1  0.823898  1.0000 3716.0000\n",
      "   1353  NA12383   1353  NA12375 PO   0.5  0.0017  0.9927  0.0055  0.5019   0  0.824619  1.0000 1235.3333\n",
      "   1330  NA12340   1330  NA12335 PO   0.5  0.0013  0.9932  0.0054  0.5020   0  0.824643  1.0000 1233.0000\n",
      "   1358  NA12708   1358  NA12718 PO   0.5  0.0017  0.9983  0.0000  0.4991  -1  0.823568  1.0000 919.5000\n",
      "   1377  NA11892   1377  NA10865 PO   0.5  0.0017  0.9936  0.0046  0.5014   0  0.824460  1.0000      NA\n",
      "   1353  NA12546   1353  NA12376 PO   0.5  0.0012  0.9934  0.0054  0.5021   0  0.824658  1.0000 3683.0000\n",
      "   1458  NA12843   1458  NA12832 PO   0.5  0.0000  1.0000  0.0000  0.5000   0  0.822445  1.0000 527.5714\n",
      "   1451  NA12766   1451  NA12776 PO   0.5  0.0000  1.0000  0.0000  0.5000  -1  0.823394  1.0000 930.5000\n",
      "   1451  NA12766   1451  NA12775 PO   0.5  0.0000  1.0000  0.0000  0.5000  -1  0.823178  1.0000 1219.0000\n",
      "   1456  NA12817   1456  NA12828 PO   0.5  0.0000  1.0000  0.0000  0.5000   0  0.823107  1.0000 919.0000\n",
      "   1456  NA12817   1456  NA12827 PO   0.5  0.0029  0.9934  0.0037  0.5004  -1  0.824173  1.0000 926.2500\n",
      "   1421  NA10840   1421  NA12286 PO   0.5  0.0000  1.0000  0.0000  0.5000  -1  0.823472  1.0000      NA\n",
      "  13291  NA06997  13291  NA07045 PO   0.5  0.0024  0.9976  0.0000  0.4988   0  0.823355  1.0000 1851.0000\n",
      "  13291  NA06997   1454  NA12813 UN    NA  0.4958  0.5042  0.0000  0.2521  -1  0.771364  1.0000  4.4773\n",
      "   1423  NA11920   1423  NA10843 PO   0.5  0.0000  1.0000  0.0000  0.5000   0  0.822377  1.0000 1849.0000\n",
      "  13291  NA07435  13291  NA06995 PO   0.5  0.0019  0.9981  0.0000  0.4991  -1  0.823513  1.0000 740.2000\n",
      "  13291  NA07045   1454  NA12813 UN    NA  0.2574  0.5005  0.2421  0.4923   0  0.839757  1.0000  9.6694\n",
      "  13291  NA07045   1454  NA12801 UN    NA  0.4591  0.5409  0.0000  0.2704   0  0.772996  1.0000  4.8723\n",
      "  13292  NA07031  13292  NA07014 PO   0.5  0.0013  0.9853  0.0134  0.5060  -1  0.826050  1.0000 1235.3333\n",
      "   1330  NA12336   1330  NA12343 PO   0.5  0.0000  1.0000  0.0000  0.5000   0  0.822698  1.0000 736.2000\n",
      "   1345  NA07349   1345  NA07347 PO   0.5  0.0000  1.0000  0.0000  0.5000   0  0.822567  1.0000 1228.3333\n",
      "   1345  NA07349   1345  NA07346 PO   0.5  0.0047  0.9924  0.0029  0.4991   0  0.823844  1.0000 457.6250\n",
      "   1451  NA12778   1451  NA12767 PO   0.5  0.0016  0.9950  0.0035  0.5009  -1  0.824267  1.0000 921.7500\n",
      "   1458  NA12832   1458  NA12842 PO   0.5  0.0000  1.0000  0.0000  0.5000  -1  0.823252  1.0000 3682.0000\n",
      "  13291  NA07037  13291  NA06995 PO   0.5  0.0000  1.0000  0.0000  0.5000  -1  0.823297  1.0000 1843.5000\n",
      "   1456  NA12829   1456  NA12818 PO   0.5  0.0000  1.0000  0.0000  0.5000  -1  0.822546  1.0000 3712.0000\n",
      "   1377  NA11894   1377  NA10864 PO   0.5  0.0012  0.9918  0.0070  0.5029   0  0.824940  1.0000 745.0000\n",
      "   1377  NA10864   1377  NA11893 PO   0.5  0.0000  1.0000  0.0000  0.5000   0  0.823259  1.0000 3655.0000\n",
      "   1456  NA12830   1456  NA12818 PO   0.5  0.0000  1.0000  0.0000  0.5000  -1  0.823044  1.0000 3671.0000\n",
      "   1423  NA11919   1423  NA10843 PO   0.5  0.0015  0.9905  0.0080  0.5033   0  0.825081  1.0000      NA\n",
      "   1353  NA12489   1353  NA12376 PO   0.5  0.0015  0.9952  0.0033  0.5009   0  0.824255  1.0000 742.4000\n",
      "   1354  NA12399   1354  NA12386 PO   0.5  0.0012  0.9948  0.0040  0.5014  -1  0.824403  1.0000 1838.5000\n",
      "   1444  NA12750   1444  NA12740 PO   0.5  0.0011  0.9942  0.0048  0.5019  -1  0.824557  1.0000 1842.0000\n",
      "   1350  NA11831   1350  NA10855 PO   0.5  0.0009  0.9991  0.0000  0.4995   0  0.823643  1.0000 3720.0000\n",
      "   1334  NA12146   1334  NA10847 PO   0.5  0.0011  0.9947  0.0043  0.5016   0  0.824465  1.0000 3711.0000\n",
      "   1347  NA11882   1347  NA10859 PO   0.5  0.0009  0.9985  0.0006  0.4998  -1  0.823832  1.0000      NA\n",
      "   1358  NA12707   1358  NA12716 PO   0.5  0.0024  0.9976  0.0000  0.4988  -1  0.823574  1.0000 3691.0000\n",
      "   1408  NA12154   1408  NA10830 PO   0.5  0.0007  0.9992  0.0001  0.4997  -1  0.823776  1.0000 1842.5000\n",
      "   1447  NA12753   1447  NA12762 PO   0.5  0.0005  0.9953  0.0042  0.5018  -1  0.824509  1.0000      NA\n",
      "   1447  NA12753   1447  NA12763 PO   0.5  0.0015  0.9959  0.0026  0.5006  -1  0.824139  1.0000 1229.3333\n",
      "   1347  NA10859   1347  NA11881 PO   0.5  0.0000  1.0000  0.0000  0.5000  -1  0.823438  1.0000 3701.0000\n",
      "   1459  NA12875   1459  NA12865 PO   0.5  0.0013  0.9921  0.0065  0.5026   0  0.824837  1.0000 1852.0000\n",
      "   1345  NA07348   1345  NA07357 PO   0.5  0.0000  1.0000  0.0000  0.5000   0  0.822746  1.0000 921.5000\n",
      "   1345  NA07348   1345  NA07345 PO   0.5  0.0000  1.0000  0.0000  0.5000   0  0.822574  1.0000 3700.0000\n",
      "   1408  NA12156   1408  NA10831 PO   0.5  0.0012  0.9988  0.0000  0.4994  -1  0.823700  1.0000 3721.0000\n",
      "   1350  NA11829   1350  NA10856 PO   0.5  0.0009  0.9991  0.0000  0.4995  -1  0.823703  1.0000 1851.5000\n",
      "   1334  NA12239   1334  NA10847 PO   0.5  0.0000  1.0000  0.0000  0.5000  -1  0.823212  1.0000 1857.0000\n",
      "   1463  NA12878   1463  NA12891 PO   0.5  0.0008  0.9992  0.0000  0.4996   0  0.823613  1.0000 1830.5000\n",
      "   1463  NA12878   1463  NA12892 PO   0.5  0.0008  0.9942  0.0050  0.5021   0  0.824625  1.0000 1834.0000\n",
      "   1350  NA10856   1350  NA11830 PO   0.5  0.0019  0.9927  0.0054  0.5018  -1  0.824591  1.0000 1837.5000\n",
      "   1447  NA12760   1447  NA12752 PO   0.5  0.0015  0.9985  0.0000  0.4993   0  0.823674  1.0000 915.2500\n",
      "   1341  NA06985   1341  NA06991 PO   0.5  0.0000  1.0000  0.0000  0.5000   0  0.822352  1.0000 463.8750\n",
      "   1420  NA12003   1420  NA10838 PO   0.5  0.0000  1.0000  0.0000  0.5000   0  0.822607  1.0000 1855.5000\n",
      "   1416  NA10835   1416  NA12248 PO   0.5  0.0011  0.9931  0.0059  0.5024  -1  0.824748  1.0000 3716.0000\n",
      "   1416  NA10835   1416  NA12249 PO   0.5  0.0015  0.9896  0.0089  0.5037   0  0.825240  1.0000 1846.0000\n",
      "   1454  NA12813   1454  NA12801 PO   0.5  0.0000  1.0000  0.0000  0.5000  -1  0.822421  1.0000 738.8000\n",
      "   1420  NA10839   1420  NA12006 PO   0.5  0.0000  1.0000  0.0000  0.5000  -1  0.823294  1.0000 3690.0000\n",
      "   1420  NA10839   1420  NA12005 PO   0.5  0.0011  0.9946  0.0043  0.5016   0  0.824471  1.0000 3695.0000\n",
      "   1375  NA10863   1375  NA12234 PO   0.5  0.0000  1.0000  0.0000  0.5000  -1  0.822573  1.0000 734.8000\n",
      "   1375  NA10863   1375  NA12264 PO   0.5  0.0000  1.0000  0.0000  0.5000  -1  0.822738  1.0000 1233.0000\n",
      "   1334  NA12145   1334  NA10846 PO   0.5  0.0000  1.0000  0.0000  0.5000   0  0.823104  1.0000 3686.0000\n",
      "   1454  NA12814   1454  NA12802 PO   0.5  0.0015  0.9978  0.0007  0.4996  -1  0.823804  1.0000 1225.6667\n",
      "   1334  NA12144   1334  NA10846 PO   0.5  0.0012  0.9957  0.0031  0.5010   0  0.824250  1.0000 3712.0000\n",
      "   1408  NA10831   1408  NA12155 PO   0.5  0.0000  1.0000  0.0000  0.5000  -1  0.822575  1.0000 924.2500\n",
      "   1340  NA07000   1340  NA07029 PO   0.5  0.0019  0.9889  0.0092  0.5037  -1  0.825260  1.0000 530.7143\n",
      "   1350  NA11832   1350  NA10855 PO   0.5  0.0039  0.9961  0.0000  0.4981  -1  0.823000  1.0000 737.0000\n",
      "   1341  NA06991   1341  NA06993 PO   0.5  0.0009  0.9931  0.0060  0.5025  -1  0.824779  1.0000 1235.3333\n",
      "   1454  NA12802   1454  NA12815 PO   0.5  0.0008  0.9941  0.0051  0.5021   0  0.824632  1.0000 3703.0000\n",
      "   1447  NA12761   1447  NA12752 PO   0.5  0.0000  1.0000  0.0000  0.5000   0  0.822417  1.0000 3694.0000\n",
      "   1340  NA06994   1340  NA07029 PO   0.5  0.0000  1.0000  0.0000  0.5000  -1  0.823388  1.0000 1862.5000\n",
      "   1362  NA11995   1362  NA10861 PO   0.5  0.0000  1.0000  0.0000  0.5000  -1  0.822390  1.0000 1852.5000\n",
      "   1459  NA12864   1459  NA12872 PO   0.5  0.0000  1.0000  0.0000  0.5000   0  0.822263  1.0000 1234.3333\n",
      "   1459  NA12864   1459  NA12873 PO   0.5  0.0000  1.0000  0.0000  0.5000  -1  0.822753  1.0000 916.7500\n",
      "   1444  NA12751   1444  NA12740 PO   0.5  0.0017  0.9923  0.0060  0.5021   0  0.824699  1.0000 1841.0000\n",
      "   1362  NA10861   1362  NA11994 PO   0.5  0.0009  0.9950  0.0041  0.5016   0  0.824453  1.0000 1853.0000\n",
      "   1454  NA12801   1454  NA12812 PO   0.5  0.0017  0.9953  0.0029  0.5006   0  0.824165  1.0000 1224.0000\n"
     ]
    }
   ],
   "source": [
    "awk '{ if ($10 > 0.2) print }' Results/GWAS4/pihat.genome"
   ]
  },
  {
   "cell_type": "markdown",
   "id": "49413042-d66d-4a27-9c3f-58b557f0ced7",
   "metadata": {},
   "source": [
    "Now this is a hell of a long list already, so we can maybe count how many lines there are to count the individuals (minus 1, the header line)"
   ]
  },
  {
   "cell_type": "code",
   "execution_count": 23,
   "id": "a2f93979-7ccb-4e34-a995-c8f745f96ce0",
   "metadata": {},
   "outputs": [
    {
     "name": "stdout",
     "output_type": "stream",
     "text": [
      "94\n"
     ]
    }
   ],
   "source": [
    "awk '{ if ($10 > 0.2) print }' Results/GWAS4/pihat.genome | wc -l"
   ]
  },
  {
   "cell_type": "markdown",
   "id": "76d81f47-21fc-4c16-b642-09efde836b6a",
   "metadata": {},
   "source": [
    ":::\n",
    "\n",
    "---------------"
   ]
  },
  {
   "cell_type": "markdown",
   "id": "fe5069db-63cc-4a1d-b2b4-1fc9732113cb",
   "metadata": {},
   "source": [
    "<img src=\"Images/R.png\" alt=\"R\" width=\"40\"> Once we have calculated the pihat values between individuals, let's plot the z-values against each other:"
   ]
  },
  {
   "cell_type": "code",
   "execution_count": 6,
   "id": "884235a9",
   "metadata": {
    "tags": []
   },
   "outputs": [
    {
     "data": {
      "image/png": "[encoded data removed]",
      "text/plain": [
       "plot without title"
      ]
     },
     "metadata": {
      "image/png": {
       "height": 240,
       "width": 540
      }
     },
     "output_type": "display_data"
    },
    {
     "data": {
      "image/png": "[encoded data removed]",
      "text/plain": [
       "plot without title"
      ]
     },
     "metadata": {
      "image/png": {
       "height": 240,
       "width": 540
      }
     },
     "output_type": "display_data"
    }
   ],
   "source": [
    "# Generate a plot to assess the type of relationship.\n",
    "suppressMessages(suppressWarnings(library(ggplot2)))\n",
    "\n",
    "options(repr.plot.width = 9, repr.plot.height = 4)\n",
    "\n",
    "# Read data into R \n",
    "relatedness <- read.table(\"Results/GWAS4/pihat.genome\", header=T)\n",
    "\n",
    "# Relatedness plot\n",
    "plot.relatedness <- ggplot(relatedness) +\n",
    "  geom_point(aes(x=Z0, y=Z1, col=RT), size=5, alpha=.25) + \n",
    "  xlim(0,1) + \n",
    "  ylim(0,1) +\n",
    "  labs(x = \"Z0\", y = \"Z2\", title = \"Identity by descent probabilities\", col = \"Relationship\") + \n",
    "  theme_bw() +\n",
    "  theme(axis.title=element_text(size=14), axis.text=element_text(size=12))\n",
    "\n",
    "# Relatedness histogram\n",
    "hist.relatedness <- ggplot(relatedness, aes(x=relatedness[,10])) +\n",
    "  geom_histogram(binwidth = 0.02, col = \"black\", fill=\"tomato\") + \n",
    "  labs(title = \"Histogram of relatedness (Pi Hat)\") + \n",
    "  xlab(\"Pi Hat\") + \n",
    "  ylab(\"Frequency\") + \n",
    "  theme_bw() +\n",
    "  theme(axis.title=element_text(size=14), axis.text=element_text(size=12))\n",
    "\n",
    "\n",
    "show(plot.relatedness)\n",
    "show(hist.relatedness)"
   ]
  },
  {
   "cell_type": "markdown",
   "id": "732a9b40",
   "metadata": {},
   "source": [
    "The generated plots show some individuals in the HapMap data labeled as Parent-Offspring. You can observe a total of three categories: \n",
    "\n",
    "- UN (unrelated),\n",
    "- PO (parent-offspring),\n",
    "- and OT (other)\n",
    "\n",
    "PO relationship has 100% prpobability of two alleles identical by descent, and mostly UN and OT samples are unrelated. Some UN samples are probably in some way related, maybe their relationship is not correctly recorded in the data.\n",
    "  \n",
    "The presence of related individuals is not a surprise, since the dataset was constructed to contain family trios and population structure to describe patterns of common genetic variation."
   ]
  },
  {
   "cell_type": "markdown",
   "id": "321ea42c-86e9-4f3c-a61b-9ab3b4f93728",
   "metadata": {},
   "source": [
    ":::{.callout-important title=\"Stop - Read - Solve\"}\n",
    "\n",
    "Use `PLINK` options to filter out related individuals, using a relateness threshold of 0.2. Name the output `--out Results/GWAS4/pihat_exercise`. The command is similar to the one used at the beginning, but you need an extra option.\n",
    "\n",
    "- How many individuals are related and filtered out? Hint: open the file `Results/GWAS4/pihat_exercise.log`. They are labeled as non-founders. \n",
    "\n",
    "Afterward, we will replot the z-values. \n",
    "\n",
    "- What relationship categories remain?\n",
    "\n",
    ":::"
   ]
  },
  {
   "cell_type": "markdown",
   "id": "c465100d-726d-4145-9365-60792b3a8afe",
   "metadata": {},
   "source": [
    "<img src=\"Images/bash.png\" alt=\"Bash\" width=\"40\">"
   ]
  },
  {
   "cell_type": "code",
   "execution_count": 2,
   "id": "7b93af6a-23c4-4dfe-a7cd-381d7107a42a",
   "metadata": {},
   "outputs": [],
   "source": [
    "# Write your code here (PLINK command)\n"
   ]
  },
  {
   "cell_type": "markdown",
   "id": "da05d98f-058a-432e-984f-0c13a90f4949",
   "metadata": {
    "tags": []
   },
   "source": [
    ":::{.callout-tip title=\"Solution\"}\n",
    "\n",
    "We need the option `--max 0.2` in PLINK so that only individuals below that threshold are used."
   ]
  },
  {
   "cell_type": "code",
   "execution_count": 1,
   "id": "aaa83929-d0e5-427c-9115-411e280f385a",
   "metadata": {
    "tags": []
   },
   "outputs": [],
   "source": [
    "plink --bfile Results/GWAS3/HapMap_3_r3_7 --extract Results/GWAS3/indepSNP.prune.in --genome --out Results/GWAS4/pihat_exercise --max 0.2 --silent"
   ]
  },
  {
   "cell_type": "markdown",
   "id": "0687225c-2e12-478d-99d3-9affa994e50d",
   "metadata": {
    "tags": []
   },
   "source": [
    "If you look at the difference in number of lines in the filtered and unfiltered list of individuals, we removed 93 samples as expected.\n",
    "  "
   ]
  },
  {
   "cell_type": "code",
   "execution_count": 5,
   "id": "c8fafa51-fd35-45f4-b8f2-caf84d0274d5",
   "metadata": {},
   "outputs": [
    {
     "name": "stdout",
     "output_type": "stream",
     "text": [
      "12881 Results/GWAS4/pihat.genome\n"
     ]
    }
   ],
   "source": [
    "wc -l Results/GWAS4/pihat.genome"
   ]
  },
  {
   "cell_type": "code",
   "execution_count": 2,
   "id": "77eb50fd-94d1-40c6-a9cf-75e8e423d528",
   "metadata": {},
   "outputs": [
    {
     "name": "stdout",
     "output_type": "stream",
     "text": [
      "12788 Results/GWAS4/pihat_exercise.genome\n"
     ]
    }
   ],
   "source": [
    "wc -l Results/GWAS4/pihat_exercise.genome"
   ]
  },
  {
   "cell_type": "markdown",
   "id": "2754d21a-fbd5-4dde-9cfe-9ee5c3a42c16",
   "metadata": {},
   "source": [
    "<img src=\"Images/R.png\" alt=\"R\" width=\"40\"> Let's plot the z-values again (repeating the plot from above)"
   ]
  },
  {
   "cell_type": "code",
   "execution_count": 1,
   "id": "3beaa1b2-3fc2-4ba4-bc63-8b7f10ddd2b2",
   "metadata": {
    "scrolled": true,
    "tags": []
   },
   "outputs": [
    {
     "data": {
      "image/png": "[encoded data removed]",
      "text/plain": [
       "plot without title"
      ]
     },
     "metadata": {
      "image/png": {
       "height": 240,
       "width": 540
      }
     },
     "output_type": "display_data"
    }
   ],
   "source": [
    "# Generate a plot to assess the type of relationship.\n",
    "suppressMessages(suppressWarnings(library(ggplot2)))\n",
    "\n",
    "options(repr.plot.width = 9, repr.plot.height = 4)\n",
    "\n",
    "# Read data into R \n",
    "relatedness <- read.table(\"Results/GWAS4/pihat_exercise.genome\", header=T)\n",
    "\n",
    "# Relatedness plot\n",
    "plot.relatedness <- ggplot(relatedness) +\n",
    "  geom_point(aes(x=Z0, y=Z1, col=RT), size=2.5) + \n",
    "  xlim(0,1) + \n",
    "  ylim(0,1) +\n",
    "  labs(x = \"Z0\", y = \"Z2\", title = \"Identity by descent probabilities\", col = \"Relationship\") + \n",
    "  theme_bw()\n",
    "\n",
    "show(plot.relatedness)"
   ]
  },
  {
   "cell_type": "markdown",
   "id": "19d7ed6f-c1b4-4e63-a75d-c6c45412395c",
   "metadata": {},
   "source": [
    "There are only UN (unrelated) individuals left. "
   ]
  },
  {
   "cell_type": "markdown",
   "id": "3f58457b-6901-4c60-b8a6-33de1fa186ad",
   "metadata": {},
   "source": [
    "***"
   ]
  },
  {
   "cell_type": "markdown",
   "id": "2351a16c",
   "metadata": {},
   "source": [
    "<img src=\"Images/bash.png\" alt=\"Bash\" width=\"40\"> Now, you have seen how to filter out through threshold the individuals in the exercise above. Below, we demonstrate that the majority of the relatedness was due to parent-offspring relationships, by exclusively including founders (individuals without parents in the dataset). This is done with the option `--filter-founders` to create `bed,bim,fam` files and then we create the `genome` file with relatedness values."
   ]
  },
  {
   "cell_type": "code",
   "execution_count": 3,
   "id": "e034b088",
   "metadata": {
    "tags": []
   },
   "outputs": [],
   "source": [
    "plink --bfile Results/GWAS3/HapMap_3_r3_7 --filter-founders --make-bed --out Results/GWAS4/HapMap_3_r3_8 --silent\n",
    "\n",
    "plink --bfile Results/GWAS4/HapMap_3_r3_8 --extract Results/GWAS3/indepSNP.prune.in --genome --out Results/GWAS4/pihat_founders --silent"
   ]
  },
  {
   "cell_type": "markdown",
   "id": "787f1063",
   "metadata": {},
   "source": [
    "<img src=\"Images/R.png\" alt=\"R\" width=\"40\"> We will now plot the results by using the `--filter-founders` option in PLINK. \n"
   ]
  },
  {
   "cell_type": "code",
   "execution_count": 2,
   "id": "a966ef9c-05b1-4c24-a637-abe5999215f6",
   "metadata": {},
   "outputs": [
    {
     "data": {
      "image/png": "[encoded data removed]",
      "text/plain": [
       "plot without title"
      ]
     },
     "metadata": {
      "image/png": {
       "height": 240,
       "width": 540
      }
     },
     "output_type": "display_data"
    }
   ],
   "source": [
    "# Generate a plot to assess the type of relationship.\n",
    "suppressMessages(suppressWarnings(library(ggplot2)))\n",
    "\n",
    "options(repr.plot.width = 9, repr.plot.height = 4)\n",
    "\n",
    "# Read data into R \n",
    "relatedness <- read.table(\"Results/GWAS4/pihat_founders.genome\", header=T)\n",
    "\n",
    "# Relatedness plot\n",
    "plot.relatedness <- ggplot(relatedness) +\n",
    "  geom_point(aes(x=Z0, y=Z2, col=RT), size=2.5) + \n",
    "  xlim(0,1) + \n",
    "  ylim(0,1) +\n",
    "  labs(x = \"Z0\", y = \"Z2\", title = \"Identity by descent probabilities\", col = \"Relationship\") + \n",
    "  theme_bw()\n",
    "\n",
    "show(plot.relatedness)"
   ]
  },
  {
   "cell_type": "markdown",
   "id": "e48734ad-5afb-4c82-b16b-e10b8e89a778",
   "metadata": {},
   "source": [
    ":::{.callout-important title=\"Stop - Read - Solve\"}\n",
    "\n",
    "Is there anything unexpected that you observe in the plot? \n",
    "\n",
    ":::"
   ]
  },
  {
   "cell_type": "markdown",
   "id": "f5a2f642-c649-427a-a6da-94b6595a641b",
   "metadata": {},
   "source": [
    ":::{.callout-tip title=\"Solution\" collapse=true}\n",
    "\n",
    "The file `pihat_founders.genome` shows that, after excluding all non-founders, one individual pair removed in the exercise remains in the HapMap data. Even if labeled as unrelated, it had a high relatedness.\n",
    "\n",
    ":::"
   ]
  },
  {
   "cell_type": "markdown",
   "id": "ba9aa66a-10ab-441f-9e21-b7c18e3e417d",
   "metadata": {},
   "source": [
    "This remaining individual is likely to be a full sibling or DZ (dizygotic) twin pair based on the Z values (expected values for full siblings: z0=0.25; z1=0.50;  z2=0.25). Noteworthy, they were not given the same family identity (FID) in the HapMap data. Below, we can look at the individual from the table by setting $Z_0 < 0.5$."
   ]
  },
  {
   "cell_type": "code",
   "execution_count": 3,
   "id": "e30d95c1",
   "metadata": {
    "tags": []
   },
   "outputs": [
    {
     "data": {
      "text/html": [
       "<table class=\"dataframe\">\n",
       "<caption>A data.frame: 1 × 14</caption>\n",
       "<thead>\n",
       "\t<tr><th></th><th scope=col>FID1</th><th scope=col>IID1</th><th scope=col>FID2</th><th scope=col>IID2</th><th scope=col>RT</th><th scope=col>EZ</th><th scope=col>Z0</th><th scope=col>Z1</th><th scope=col>Z2</th><th scope=col>PI_HAT</th><th scope=col>PHE</th><th scope=col>DST</th><th scope=col>PPC</th><th scope=col>RATIO</th></tr>\n",
       "\t<tr><th></th><th scope=col>&lt;int&gt;</th><th scope=col>&lt;chr&gt;</th><th scope=col>&lt;int&gt;</th><th scope=col>&lt;chr&gt;</th><th scope=col>&lt;chr&gt;</th><th scope=col>&lt;int&gt;</th><th scope=col>&lt;dbl&gt;</th><th scope=col>&lt;dbl&gt;</th><th scope=col>&lt;dbl&gt;</th><th scope=col>&lt;dbl&gt;</th><th scope=col>&lt;int&gt;</th><th scope=col>&lt;dbl&gt;</th><th scope=col>&lt;dbl&gt;</th><th scope=col>&lt;dbl&gt;</th></tr>\n",
       "</thead>\n",
       "<tbody>\n",
       "\t<tr><th scope=row>2639</th><td>13291</td><td>NA07045</td><td>1454</td><td>NA12813</td><td>UN</td><td>NA</td><td>0.2574</td><td>0.5005</td><td>0.2421</td><td>0.4923</td><td>0</td><td>0.839757</td><td>1</td><td>9.6694</td></tr>\n",
       "</tbody>\n",
       "</table>\n"
      ],
      "text/latex": [
       "A data.frame: 1 × 14\n",
       "\\begin{tabular}{r|llllllllllllll}\n",
       "  & FID1 & IID1 & FID2 & IID2 & RT & EZ & Z0 & Z1 & Z2 & PI\\_HAT & PHE & DST & PPC & RATIO\\\\\n",
       "  & <int> & <chr> & <int> & <chr> & <chr> & <int> & <dbl> & <dbl> & <dbl> & <dbl> & <int> & <dbl> & <dbl> & <dbl>\\\\\n",
       "\\hline\n",
       "\t2639 & 13291 & NA07045 & 1454 & NA12813 & UN & NA & 0.2574 & 0.5005 & 0.2421 & 0.4923 & 0 & 0.839757 & 1 & 9.6694\\\\\n",
       "\\end{tabular}\n"
      ],
      "text/markdown": [
       "\n",
       "A data.frame: 1 × 14\n",
       "\n",
       "| <!--/--> | FID1 &lt;int&gt; | IID1 &lt;chr&gt; | FID2 &lt;int&gt; | IID2 &lt;chr&gt; | RT &lt;chr&gt; | EZ &lt;int&gt; | Z0 &lt;dbl&gt; | Z1 &lt;dbl&gt; | Z2 &lt;dbl&gt; | PI_HAT &lt;dbl&gt; | PHE &lt;int&gt; | DST &lt;dbl&gt; | PPC &lt;dbl&gt; | RATIO &lt;dbl&gt; |\n",
       "|---|---|---|---|---|---|---|---|---|---|---|---|---|---|---|\n",
       "| 2639 | 13291 | NA07045 | 1454 | NA12813 | UN | NA | 0.2574 | 0.5005 | 0.2421 | 0.4923 | 0 | 0.839757 | 1 | 9.6694 |\n",
       "\n"
      ],
      "text/plain": [
       "     FID1  IID1    FID2 IID2    RT EZ Z0     Z1     Z2     PI_HAT PHE DST     \n",
       "2639 13291 NA07045 1454 NA12813 UN NA 0.2574 0.5005 0.2421 0.4923 0   0.839757\n",
       "     PPC RATIO \n",
       "2639 1   9.6694"
      ]
     },
     "metadata": {},
     "output_type": "display_data"
    }
   ],
   "source": [
    "relatedness[relatedness$Z0 < 0.5,]"
   ]
  },
  {
   "cell_type": "markdown",
   "id": "344a99be",
   "metadata": {},
   "source": [
    "We do not need to remove both individuals from the dataset (IID1= NA07045; IID2=NA12813). It suffices to remove only one, and the individual chosen for removal should have the highest missing rate. First we need to calculate missing rates with PLINK"
   ]
  },
  {
   "cell_type": "code",
   "execution_count": 1,
   "id": "175214a8",
   "metadata": {
    "tags": []
   },
   "outputs": [],
   "source": [
    "plink --bfile Results/GWAS4/HapMap_3_r3_8 --missing --out Results/GWAS4/HapMap_3_r3_8 > /dev/null "
   ]
  },
  {
   "cell_type": "markdown",
   "id": "cdc75b75-bcd0-4e6f-a987-cf42f19214b3",
   "metadata": {},
   "source": [
    "then we look at the two individuals from the output file using `grep` and sorting descendingly by missing rate (column 6)"
   ]
  },
  {
   "cell_type": "code",
   "execution_count": 2,
   "id": "3fa5e705-a478-4e76-91b7-8105c41c0a01",
   "metadata": {
    "tags": []
   },
   "outputs": [
    {
     "name": "stdout",
     "output_type": "stream",
     "text": [
      "  13291   NA07045          N     2560  1073788 0.002384\n",
      "   1454   NA12813          N     1956  1073788 0.001822\n"
     ]
    }
   ],
   "source": [
    "# Let's look at the output\n",
    "cat Results/GWAS4/HapMap_3_r3_8.imiss | grep -E 'NA07045|NA12813' | sort -k6,6nr"
   ]
  },
  {
   "cell_type": "markdown",
   "id": "15d38dd9-baa9-4fed-81c2-4dc8eda7643e",
   "metadata": {},
   "source": [
    "`NA07045` is the individual to be removed. Once this is removed, the offspring can be used only in analysis not involving trios (such as family-related analysis), but it still can be used for other studies."
   ]
  },
  {
   "cell_type": "markdown",
   "id": "aa1b8463-3555-4bf9-9dbe-ee0ceda2543b",
   "metadata": {},
   "source": [
    ":::{.callout-important title=\"Stop - Read - Solve\"}\n",
    "\n",
    "Use the `imiss` file to plot a histogram of the missing scores in `R` (you can use one of the previous notebooks for help) from the file `HapMap_3_r3_8.imiss`. Is the score of `NA07045` amongst the higher ones?\n",
    "\n",
    ":::"
   ]
  },
  {
   "cell_type": "markdown",
   "id": "c959a6b9-a326-4a66-9809-7cb5df42b8d1",
   "metadata": {
    "editable": true,
    "slideshow": {
     "slide_type": ""
    },
    "tags": []
   },
   "source": [
    ":::{.callout-tip title=\"Solution\"}\n",
    "\n",
    "We can simply extract the column from the file, and we can see in the histogram how the `NA07045` individual has a missing rate tending to the higher values in the plot.\n",
    "\n",
    ":::"
   ]
  },
  {
   "cell_type": "code",
   "execution_count": 1,
   "id": "8adba97a-30f1-4fe5-a956-5b3337744491",
   "metadata": {
    "editable": true,
    "scrolled": true,
    "slideshow": {
     "slide_type": ""
    },
    "tags": []
   },
   "outputs": [
    {
     "name": "stderr",
     "output_type": "stream",
     "text": [
      "Warning message:\n",
      "“\u001b[1m\u001b[22mUsing `size` aesthetic for lines was deprecated in ggplot2 3.4.0.\n",
      "\u001b[36mℹ\u001b[39m Please use `linewidth` instead.”\n",
      "\u001b[1m\u001b[22m`stat_bin()` using `bins = 30`. Pick better value with `binwidth`.\n"
     ]
    },
    {
     "data": {
      "image/png": "[encoded data removed]",
      "text/plain": [
       "plot without title"
      ]
     },
     "metadata": {
      "image/png": {
       "height": 240,
       "width": 540
      }
     },
     "output_type": "display_data"
    }
   ],
   "source": [
    "suppressMessages(suppressWarnings(library(ggplot2)))\n",
    "\n",
    "options(repr.plot.width = 9, repr.plot.height = 4)\n",
    "\n",
    "# Read data into R \n",
    "imiss <- read.table(\"Results/GWAS4/HapMap_3_r3_8.imiss\", header=T)\n",
    "\n",
    "hist.relatedness <- ggplot(data=imiss, aes(F_MISS)) +\n",
    "  geom_histogram(col = \"black\", fill = \"tomato\") + \n",
    "  geom_vline(xintercept = 0.002384, color = \"red\", linetype = \"dashed\", size = 1) +\n",
    "  labs(title = \"Histogram of missing rates\") + \n",
    "  xlab(\"Missing rate\") + \n",
    "  ylab(\"Frequency\") + \n",
    "  theme_bw()\n",
    "\n",
    "show(hist.relatedness)"
   ]
  },
  {
   "cell_type": "markdown",
   "id": "73b9b8a3",
   "metadata": {},
   "source": [
    "---\n",
    "\n",
    "<img src=\"Images/bash.png\" alt=\"Bash\" width=\"40\">  To remove the individual from the data, we create a file containing its number and ID, and provide it to PLINK with the option `--remove`"
   ]
  },
  {
   "cell_type": "code",
   "execution_count": 1,
   "id": "5007aa3f",
   "metadata": {
    "tags": []
   },
   "outputs": [],
   "source": [
    "echo \"13291  NA07045\" > Results/GWAS4/parent_remove.txt"
   ]
  },
  {
   "cell_type": "code",
   "execution_count": 2,
   "id": "d08763c4",
   "metadata": {
    "tags": []
   },
   "outputs": [],
   "source": [
    "# Delete the individuals with the lowest call rate in 'related' pairs with a pihat > 0.2 \n",
    "plink --bfile Results/GWAS4/HapMap_3_r3_8 --remove Results/GWAS4/parent_remove.txt --make-bed --out Results/GWAS4/HapMap_3_r3_9 --silent"
   ]
  },
  {
   "cell_type": "markdown",
   "id": "510d7628",
   "metadata": {},
   "source": [
    "## 4.2 Population Stratification"
   ]
  },
  {
   "cell_type": "markdown",
   "id": "19359572",
   "metadata": {},
   "source": [
    ":::{.callout-note title=\"Some theory\"}\n",
    "\n",
    "Population stratification presents a significant source of systematic bias in GWAS, arising **when subpopulations exhibit systematic differences in allele frequencies** (e.g., the distribution of north and south European individuals in the PCA space and the height of those individuals). Research indicates that even subtle degrees of population stratification can exist within a single ethnic population [@abdellaoui2013population]. Thus, testing and controlling for the presence of population stratification is an essential QC step.\n",
    "The population structure (or in other words, the ancestral relationship of the populations) is a so-called **confounding factor**. This means that it influences both the dependent and independent variables, as in the figure below, where both the genotype and the traits are influenced by the presence of population structure.\n",
    "\n",
    "![](Images/ancestryBias.png){fig-align=\"center\", width=400px}\n",
    "\n",
    "Why is a bias introduced? Population structure can influence allele frequencies and therefore produce false positives/negatives when doing association testing. Graphically, consider the example in the figure below. Case and control have minor allele frequencies of 1/6 and 1/8 (population 1) and 1/2, 7/12 (population 2). If you remove population structure, Case and control have MAFs of 3/10, and 2/5, and those new values depend on how many samples you have from each population in the two conditions, and what are the MAFs of each populations. \n",
    "\n",
    "![](Images/popStruct.png){fig-align=\"center\", width=400px}\n",
    "\n",
    "The same problem arises in population studies without Case-control categories. Imagine having a population of randomly sampled individuals, each from a different ethnicity (the blue and red minor alleles in the example below). The final group of individuals will have a different proportion of MAFs depending on the sampling of various ethnicities.\n",
    "\n",
    "![](Images/popSampling.png){fig-align=\"center\", width=400px}\n",
    "\n",
    "There are several methods to correct for population stratification [@price2010new, price_principal_2006]. In this tutorial, we illustrate a method integrated into PLINK: the **multidimensional scaling (MDS)** approach. MDS calculates the genome-wide average proportion of shared alleles between any pair of individuals within the sample to generate quantitative indices (components) of the genetic variation for each individual. **The individual component scores can be visualized to identify groups of genetically similar individuals.** For instance, in a genetic study including subjects from Asia and Europe, MDS analysis would reveal that Asians are genetically more similar to each other than to Europeans and Africans. Figure below shows another example of MDS using HapMap, Genome diversity project, and authors' own data:\n",
    "\n",
    "![Example of MDS plot of the first two MDS components scores on integrated datasets in @somers_genetic_2017. Here TWN, a past isolated population in the Netherlands, is separated from the other individuals from the same country (NDL). Sardinians, notoriously different from continental Italians, are also grouped far away from them. Central European populations colocalize as expected.](./Images/MDSexample2.png){width=500px label=fig-MDSexample}\n",
    "\n",
    "To investigate which individuals the generated component scores deviate from in the target population, plotting the scores of the sample under investigation and a population of known ethnic structure (e.g., HapMap/1KG data) is helpful: this step is called **anchoring** [@rietveld2013gwas]. This enables the researcher to obtain ethnic information on their sample and to determine possible ethnic outliers. For example, in @fig-MDSexample, if TSI (Tuscans from Italy) is the anchor population, one can hypothesize that the yellow dots might be ethnically similar (as they are in the example).\n",
    "\n",
    "Outliers identified based on MDS analysis should be excluded from further analyses. Following their removal, a new MDS analysis must be conducted, and its primary components are utilized as covariates in association tests to correct for any residual population stratification within the population. The number of components to include depends on the population structure and sample size, with the psychiatric genetics community typically accepting the inclusion of up to 10 MDS components, for example. Below is an MDS from @cortellari_climatic_2021, where a population of goats stands out from all the other. The MDS capture very little population structure for all the other samples on the second axis, because this is dominated by the outlier population. Removing the outlier and rerunning the MDS provides a better view of the structure within the remaining populations.\n",
    "\n",
    "![](./Images/MDSout1.png){width=400px}  ![](./Images/MDSout2.png){width=400px}\n",
    "\n",
    ":::"
   ]
  },
  {
   "cell_type": "markdown",
   "id": "f8c226ea-be9f-4ab0-91da-7f38f8e0e17e",
   "metadata": {},
   "source": [
    ":::{.callout-important title=\"Stop - Read - Solve\"}\n",
    "\n",
    "It is also possible to correct for relatedness (family structure). Should we do it in our study?\n",
    "\n",
    ":::"
   ]
  },
  {
   "cell_type": "markdown",
   "id": "17978560",
   "metadata": {},
   "source": [
    "### 4.2.1 Analysis\n",
    "\n",
    "We want to look at the HapMap and 1000GP data merged into one dataset, anchoring HapMap against 1000GP. As a result, we want to see if the HapMap data's ethnicity can be detected by looking at the 1000GP's data ethnicities. There are a lot of steps to unpack to make the two datasets compatible, so hold tight!\n",
    "\n",
    "#### 1000GP data download\n",
    "\n",
    "Below, we show some commands to download the 1000GP data and convert it into the file formats for GWAS analysis. You do not need to run those commands as we already did it before and it takes some time.\n",
    "\n",
    "First, we need to download the 1000 Genomes genetic data for our HapMap data to be anchored against. This file from the 1000 Genomes contains genetic data of 629 individuals from different ethnic backgrounds.\n",
    "Note, this file is quite large (>60 gigabyte). You can do so with the following bash command:"
   ]
  },
  {
   "cell_type": "markdown",
   "id": "24b6c522-21ae-44f1-a35c-df04e3a5df21",
   "metadata": {
    "tags": []
   },
   "source": [
    "```{.bash}\n",
    "wget ftp://ftp-trace.ncbi.nih.gov/1000genomes/ftp/release/20100804/ALL.2of4intersection.20100804.genotypes.vcf.gz"
   ]
  },
  {
   "cell_type": "markdown",
   "id": "a43453aa",
   "metadata": {},
   "source": [
    "The data can then be converted from the `vcf` file (Variant Call Format) into format readable with plink (`bim`,`fam`, `bed`):"
   ]
  },
  {
   "cell_type": "markdown",
   "id": "13d71b59-ee33-4896-ac22-4601088d9510",
   "metadata": {
    "tags": []
   },
   "source": [
    "```{.bash}\n",
    "plink --vcf ALL.2of4intersection.20100804.genotypes.vcf.gz --make-bed --out ALL.2of4intersection.20100804.genotypes\n",
    "```"
   ]
  },
  {
   "cell_type": "markdown",
   "id": "ece39f8d",
   "metadata": {},
   "source": [
    ":::{.callout-note}\n",
    "\n",
    "The 1000 Genomes data downloaded above is rather large and we have commented out those commands, so that they are shown as reference, and will not actually run when you execute them. To save time, we have supplied the `.bed`, `.bim`and `.fam` files in the `Data` folder.\n",
    "\n",
    ":::\n",
    "\n",
    "Let's unzip the files and see how many samples we have. There should be 37."
   ]
  },
  {
   "cell_type": "code",
   "execution_count": 3,
   "id": "26e3a83a",
   "metadata": {
    "tags": []
   },
   "outputs": [
    {
     "name": "stdout",
     "output_type": "stream",
     "text": [
      "Archive:  Data/1000genomes.zip\n",
      "  inflating: Results/GWAS4/1000genomes.genotypesA.bed  \n",
      "  inflating: Results/GWAS4/1000genomes.genotypesA.bim  \n",
      "  inflating: Results/GWAS4/1000genomes.genotypesA.fam  \n",
      "  inflating: Results/GWAS4/1000genomes.genotypesA.log  \n",
      "  inflating: Results/GWAS4/1000genomes.genotypesA.nosex  \n",
      "37 Results/GWAS4/1000genomes.genotypesA.fam\n"
     ]
    }
   ],
   "source": [
    "unzip -o Data/1000genomes.zip -d Results/GWAS4\n",
    "wc -l Results/GWAS4/1000genomes.genotypesA.fam"
   ]
  },
  {
   "cell_type": "markdown",
   "id": "b6a8a6ed",
   "metadata": {},
   "source": [
    "One should note that the file `1000genomes.genotypes.bim` contains SNPs without an rs-identifier (or Reference SNP cluster ID): "
   ]
  },
  {
   "cell_type": "code",
   "execution_count": 5,
   "id": "6d50c492",
   "metadata": {
    "tags": []
   },
   "outputs": [
    {
     "name": "stdout",
     "output_type": "stream",
     "text": [
      "1\trs112750067\t0\t10327\tC\tT\n",
      "1\t.\t0\t11508\tA\tG\n",
      "1\t.\t0\t12783\tG\tA\n",
      "1\t.\t0\t13116\tG\tT\n",
      "1\t.\t0\t14933\tA\tG\n"
     ]
    }
   ],
   "source": [
    "cat Results/GWAS4/1000genomes.genotypesA.bim | head -5"
   ]
  },
  {
   "cell_type": "markdown",
   "id": "e3393991",
   "metadata": {},
   "source": [
    "The missing rs-identifiers in the 1000 Genomes data are not a problem for this tutorial. However, for good practice, we will assign unique indentifiers to the SNPs with a missing rs-identifier (the SNPs with id `.`):"
   ]
  },
  {
   "cell_type": "code",
   "execution_count": 6,
   "id": "3d7a9271",
   "metadata": {
    "tags": []
   },
   "outputs": [],
   "source": [
    "plink --bfile Results/GWAS4/1000genomes.genotypesA --set-missing-var-ids @:#[b37]\\$1,\\$2 --make-bed --out Results/GWAS4/1000genomes.genotypesA_no_missing_IDs --silent"
   ]
  },
  {
   "cell_type": "markdown",
   "id": "f0e5e218-3e81-4871-b009-4e4e7b86579c",
   "metadata": {},
   "source": [
    "Now we can visualize the data again and see which names have been assigned to the SNPs. Those come from the bunch of symbol `@:#[b37]\\$1,\\$2` in the command above, which is read by plink as `chromosome:locus[b37]Allele1,Allele2`. Look at what you have got with the renaming, and you will see what it means in practice:"
   ]
  },
  {
   "cell_type": "code",
   "execution_count": 7,
   "id": "bc59444d",
   "metadata": {
    "tags": []
   },
   "outputs": [
    {
     "name": "stdout",
     "output_type": "stream",
     "text": [
      "1\trs112750067\t0\t10327\tC\tT\n",
      "1\t1:11508[b37]A,G\t0\t11508\tA\tG\n",
      "1\t1:12783[b37]A,G\t0\t12783\tG\tA\n",
      "1\t1:13116[b37]G,T\t0\t13116\tG\tT\n",
      "1\t1:14933[b37]A,G\t0\t14933\tA\tG\n"
     ]
    }
   ],
   "source": [
    "# Show changes on the bim file\n",
    "cat Results/GWAS4/1000genomes.genotypesA_no_missing_IDs.bim | head -5"
   ]
  },
  {
   "cell_type": "markdown",
   "id": "83e92e86-9965-42a9-992d-975c271a78fe",
   "metadata": {},
   "source": [
    "Pretty neat, right?"
   ]
  },
  {
   "cell_type": "markdown",
   "id": "bc096e38",
   "metadata": {},
   "source": [
    "#### QC on 1000GP data\n",
    "\n",
    "Before we merge the 1000 Genomes and HapMap datasets, we need to apply some QC on our 1000 Genomes data. As we previously in the GWAS3 notebook, we need to take into consideration missingness, sex discrepancy, and minor allele frequency. We put some standard thresholds and run everything below"
   ]
  },
  {
   "cell_type": "code",
   "execution_count": 8,
   "id": "162f5bf0",
   "metadata": {
    "tags": []
   },
   "outputs": [],
   "source": [
    "plink --bfile Results/GWAS4/1000genomes.genotypesA_no_missing_IDs --geno 0.02  \\\n",
    "    --allow-no-sex --make-bed --out Results/GWAS4/1kG_MDS --silent\n",
    "\n",
    "plink --bfile Results/GWAS4/1kG_MDS --mind 0.02  \\\n",
    "    --allow-no-sex --make-bed --out Results/GWAS4/1kG_MDS2 --silent\n",
    "    \n",
    "plink --bfile Results/GWAS4/1kG_MDS2 --maf 0.05 --allow-no-sex --make-bed  --out Results/GWAS4/1kG_MDS3 --silent"
   ]
  },
  {
   "cell_type": "markdown",
   "id": "0840d758-279f-413c-9434-83e2a1cc945f",
   "metadata": {},
   "source": [
    "#### SNPs matching between datasets"
   ]
  },
  {
   "cell_type": "markdown",
   "id": "98540514",
   "metadata": {},
   "source": [
    "We want to only consider SNPs that both datasets have in common. \n",
    "\n",
    "So for each dataset, we extract those that are present in the other. Furthermore, they must have the same genomic build so that they can be merged later\n",
    "\n",
    "First, we extract SNP names from the HapMap data, and reduce the 1000GP data so that only those SNPs are considered, when present."
   ]
  },
  {
   "cell_type": "code",
   "execution_count": 9,
   "id": "7893d82e-6625-4904-905c-2dc4f36a7d1d",
   "metadata": {},
   "outputs": [],
   "source": [
    "#Print out SNPs from the HapMap data\n",
    "awk '{print$2}' Results/GWAS4/HapMap_3_r3_9.bim > Results/GWAS4/HapMap_SNPs.txt\n",
    "\n",
    "#Extract the HapMap SNPs from the 1000GP data\n",
    "plink --bfile Results/GWAS4/1kG_MDS3 --extract Results/GWAS4/HapMap_SNPs.txt \\\n",
    "--make-bed --out Results/GWAS4/1kG_MDS4 > /dev/null"
   ]
  },
  {
   "cell_type": "markdown",
   "id": "d088b95e-a115-4686-9963-5dfddd931464",
   "metadata": {},
   "source": [
    "This is how part of the list of SNP names looks like:"
   ]
  },
  {
   "cell_type": "code",
   "execution_count": 10,
   "id": "a1009efb-9f10-4021-ab18-6f2357206551",
   "metadata": {},
   "outputs": [
    {
     "name": "stdout",
     "output_type": "stream",
     "text": [
      "rs3131972\n",
      "rs3131969\n",
      "rs1048488\n",
      "rs12562034\n",
      "rs12124819\n"
     ]
    }
   ],
   "source": [
    "cat Results/GWAS4/HapMap_SNPs.txt | head -5"
   ]
  },
  {
   "cell_type": "markdown",
   "id": "08556943-df17-42a8-926b-dce8bcaa557d",
   "metadata": {},
   "source": [
    "Now we take the variants from the reduced 1000GP data, and go the other way around. We extract 1000GP variants from the HapMap data. In other words, the two extraction passages will intersect the SNPs. Below is the code to use the SNPs of the 1000GP data to reduce the HapMap data."
   ]
  },
  {
   "cell_type": "code",
   "execution_count": 11,
   "id": "584c7e2c-6a8b-48cb-98f2-4ccd5ab564ab",
   "metadata": {},
   "outputs": [],
   "source": [
    "#Print out SNPs from the HapMap data\n",
    "awk '{print$2}' Results/GWAS4/1kG_MDS4.bim > Results/GWAS4/1kG_MDS4_SNPs.txt\n",
    "\n",
    "#Extract the HapMap SNPs from the 1000GP data\n",
    "plink --bfile Results/GWAS4/HapMap_3_r3_9 --extract Results/GWAS4/1kG_MDS4_SNPs.txt --recode \\\n",
    "--make-bed --out Results/GWAS4/HapMap_MDS --silent"
   ]
  },
  {
   "cell_type": "markdown",
   "id": "0b5f1c84-a452-40a3-b636-ab388003b616",
   "metadata": {},
   "source": [
    "Look at the SNP names. Now they are matching between the two `bim` files."
   ]
  },
  {
   "cell_type": "markdown",
   "id": "bc4ce52e-8a9e-42ed-8403-f1b254db7d22",
   "metadata": {},
   "source": [
    ":::{.callout-important title=\"Stop - Read - Solve\"}\n",
    "\n",
    "Look the two outputs a bit more carefully? What is the problem?\n",
    "\n",
    ":::"
   ]
  },
  {
   "cell_type": "code",
   "execution_count": 13,
   "id": "70beb88f-7099-4233-83d8-53efe75b0de4",
   "metadata": {},
   "outputs": [
    {
     "name": "stdout",
     "output_type": "stream",
     "text": [
      "1\trs3131969\t0\t744045\tA\tG\n",
      "1\trs12562034\t0\t758311\tA\tG\n",
      "1\trs4970383\t0\t828418\tA\tC\n",
      "1\trs4475691\t0\t836671\tT\tC\n",
      "1\trs1806509\t0\t843817\tC\tA\n",
      "1\trs28576697\t0\t860508\tC\tT\n",
      "1\trs3748595\t0\t877423\tA\tC\n",
      "1\trs13303118\t0\t908247\tG\tT\n",
      "1\trs1891910\t0\t922320\tA\tG\n",
      "1\trs3128097\t0\t970323\tG\tA\n"
     ]
    }
   ],
   "source": [
    "head Results/GWAS4/HapMap_MDS.bim"
   ]
  },
  {
   "cell_type": "code",
   "execution_count": 14,
   "id": "6a54e180-24d6-4cb3-ac15-b27434b40a86",
   "metadata": {},
   "outputs": [
    {
     "name": "stdout",
     "output_type": "stream",
     "text": [
      "1\trs3131969\t0\t754182\tA\tG\n",
      "1\trs12562034\t0\t768448\tA\tG\n",
      "1\trs4970383\t0\t838555\tA\tC\n",
      "1\trs4475691\t0\t846808\tT\tC\n",
      "1\trs1806509\t0\t853954\tA\tC\n",
      "1\trs28576697\t0\t870645\tC\tT\n",
      "1\trs3748595\t0\t887560\tA\tC\n",
      "1\trs13303118\t0\t918384\tT\tG\n",
      "1\trs1891910\t0\t932457\tA\tG\n",
      "1\trs3128097\t0\t980460\tG\tA\n"
     ]
    }
   ],
   "source": [
    "head Results/GWAS4/1kG_MDS4.bim"
   ]
  },
  {
   "cell_type": "markdown",
   "id": "756bd409-b3c2-4494-865b-80053c608dbb",
   "metadata": {},
   "source": [
    "#### Build matching\n",
    "\n",
    "Genomics data is created starting from a reference genome. The two datasets we are using have been created with two different versions of the human reference. This is not uncommon, as the human reference genome gets better and better over time, and is updated periodically on the online archives. But this also implies that the SPNs will be at different positions when comparing datasets arising from different reference genomes.\n",
    "\n",
    "Here, we extract the SNP names and their positions along the genome for the HapMap data, and match the 1000GP data to the extracted SNPs, using the `--update-map` option in PLINK."
   ]
  },
  {
   "cell_type": "code",
   "execution_count": 15,
   "id": "e7ad8313-f257-4f10-b396-34d4c03b83d7",
   "metadata": {},
   "outputs": [],
   "source": [
    "#Extract the HapMap variant coordinates\n",
    "awk '{print$2,$4}' Results/GWAS4/HapMap_MDS.map > Results/GWAS4/buildhapmap.txt"
   ]
  },
  {
   "cell_type": "markdown",
   "id": "222fc25e-adf0-486b-81b6-8d3636db3f8d",
   "metadata": {},
   "source": [
    "This is how the list of SNPs look like:"
   ]
  },
  {
   "cell_type": "code",
   "execution_count": 18,
   "id": "0af685c3-65f1-4a27-a251-d250abfe3825",
   "metadata": {},
   "outputs": [
    {
     "name": "stdout",
     "output_type": "stream",
     "text": [
      "rs3131969 744045\n",
      "rs12562034 758311\n",
      "rs4970383 828418\n",
      "rs4475691 836671\n",
      "rs1806509 843817\n"
     ]
    }
   ],
   "source": [
    "cat Results/GWAS4/buildhapmap.txt | head -5"
   ]
  },
  {
   "cell_type": "markdown",
   "id": "1f3a8904-e134-4b7b-a991-daa772d00f53",
   "metadata": {},
   "source": [
    "Now we execute PLINK (there is a warning because positions are not all in ascending orders after changing their positions, but no worries) and update the variants coordinates of the 1000GP data based on the HapMap variants coordinates"
   ]
  },
  {
   "cell_type": "code",
   "execution_count": 17,
   "id": "58fba51d-c89b-449f-8a45-e639a19dfa8e",
   "metadata": {},
   "outputs": [
    {
     "name": "stdout",
     "output_type": "stream",
     "text": [
      "Warning: Base-pair positions are now unsorted!\n"
     ]
    }
   ],
   "source": [
    "plink --bfile Results/GWAS4/1kG_MDS4 --update-map Results/GWAS4/buildhapmap.txt --make-bed \\\n",
    "--out Results/GWAS4/1kG_MDS5 --silent"
   ]
  },
  {
   "cell_type": "markdown",
   "id": "fe7fefe9",
   "metadata": {},
   "source": [
    "#### Merging datasets and performing MDS\n",
    "\n",
    "Now, it is finally time for the last steps before merging the HapMap and 1000 Genomes datasets.\n",
    "\n",
    "Before merging 1000 Genomes data with the HapMap data we want to make sure that the files are mergeable. For this, we conduct 3 steps:\n",
    "\n",
    "1) Ensure the reference genome is similar in the HapMap and the 1000 Genomes Project datasets.  \n",
    "2) Resolve strand issues, i.e. give SNPs the same orientation across datasets.  \n",
    "3) Remove the SNPs which after the previous two steps still differ between datasets.  \n",
    "\n",
    "The following steps may maybe quite technical in terms of commands, but we simply compare the two data sets and make sure they correspond:"
   ]
  },
  {
   "cell_type": "markdown",
   "id": "ecb804de-0e80-4146-9361-9a4822124622",
   "metadata": {},
   "source": [
    "**1.** We have previously matched the SNP positions in the two datasets, but we should also have the same reference alleles to be sure there is concordance of reference genomes. Below, we generate a list of SNPs and reference alleles from 1000GP data, which we then assign to the HapMap data with the `--reference-allele` option"
   ]
  },
  {
   "cell_type": "code",
   "execution_count": 18,
   "id": "97848c6a-85fb-4c1b-a515-f3120c21bf03",
   "metadata": {},
   "outputs": [],
   "source": [
    "#Extract variant coordinates and reference alleles from 1000GP data\n",
    "awk '{print$2,$5}' Results/GWAS4/1kG_MDS5.bim > Results/GWAS4/1kg_ref-list.txt"
   ]
  },
  {
   "cell_type": "markdown",
   "id": "946c213e-2fb5-4bef-9eb9-8e2d46679f7b",
   "metadata": {},
   "source": [
    "How the list looks like:"
   ]
  },
  {
   "cell_type": "code",
   "execution_count": 19,
   "id": "7c4cecdd-737c-43ce-b38c-011d074e90f7",
   "metadata": {},
   "outputs": [
    {
     "name": "stdout",
     "output_type": "stream",
     "text": [
      "rs3131969 A\n",
      "rs12562034 A\n",
      "rs4970383 A\n",
      "rs4475691 T\n",
      "rs1806509 A\n"
     ]
    }
   ],
   "source": [
    "head -5 Results/GWAS4/1kg_ref-list.txt"
   ]
  },
  {
   "cell_type": "markdown",
   "id": "42e99d2b-a887-4d20-bb66-1cf5d077d98a",
   "metadata": {},
   "source": [
    "We can now run PLINK to assign the reference alleles to the HapMap dataset. We use `&> /dev/null` to redirect a lot of warning messages away from the screen"
   ]
  },
  {
   "cell_type": "code",
   "execution_count": 21,
   "id": "af745a46-efdb-482e-af1a-f428d5b7302a",
   "metadata": {},
   "outputs": [],
   "source": [
    "plink --bfile Results/GWAS4/HapMap_MDS --reference-allele Results/GWAS4/1kg_ref-list.txt --make-bed \\\n",
    "--out Results/GWAS4/HapMap-adj &> /dev/null"
   ]
  },
  {
   "cell_type": "markdown",
   "id": "34f5e276-9b2f-486d-83c9-fe7827b9a007",
   "metadata": {},
   "source": [
    "**2.** To resolve strand issues, we need to eventually flip SNPs which are found in both datasets and have complementary alleles. This would mean that such SNPs have been reported on the forward and the reverse strand (or viceversa). We need to identify those SNPs and then flip them in one of the two datasets. We generate lists of SNP names and alleles for the 1000GP and HapMap data, and visualize the SNPs which are unique. A SNP which is unique but reports alleles differently will show twice. Below you can see three example SNPs from the two files (the first SNP being from 1000GP data, and the second from HapMap data, which is also the data from which we have the reference alleles)."
   ]
  },
  {
   "cell_type": "code",
   "execution_count": 22,
   "id": "33e5be15-6808-4ea3-bbdb-56192f731cd6",
   "metadata": {},
   "outputs": [],
   "source": [
    "awk '{print$2,$5,$6}' Results/GWAS4/1kG_MDS5.bim > Results/GWAS4/1kGMDS5_tmp\n",
    "awk '{print$2,$5,$6}' Results/GWAS4/HapMap-adj.bim > Results/GWAS4/HapMap-adj_tmp\n",
    "sort Results/GWAS4/1kGMDS5_tmp Results/GWAS4/HapMap-adj_tmp |uniq -u > Results/GWAS4/all_differences.txt"
   ]
  },
  {
   "cell_type": "code",
   "execution_count": 23,
   "id": "3e7a86f1-803e-4107-b13f-40c37ed1d35d",
   "metadata": {},
   "outputs": [
    {
     "name": "stdout",
     "output_type": "stream",
     "text": [
      "rs10006274 C T\n",
      "rs10006274 G A\n",
      "rs1008660 A G\n",
      "rs1008660 T C\n",
      "rs10088098 C T\n",
      "rs10088098 G A\n"
     ]
    }
   ],
   "source": [
    "head -6 Results/GWAS4/all_differences.txt"
   ]
  },
  {
   "cell_type": "markdown",
   "id": "c6ea3ff9-81ab-498c-a3e0-330bcbc78b55",
   "metadata": {},
   "source": [
    "Consider the reference genome for the 1000GP data, and look specifically at the first locus reported above. The reference shows allele C (code below). This means that, when reporting C/T, the SNP is reported on the forward strand in the 1000GP data, while in the HapMap data, the SNP is reported on the reverse strand with G/T."
   ]
  },
  {
   "cell_type": "code",
   "execution_count": 29,
   "id": "12dc2f26-f2e6-402b-9be1-382e47845b2c",
   "metadata": {},
   "outputs": [
    {
     "name": "stdout",
     "output_type": "stream",
     "text": [
      "rs10006274 C\n"
     ]
    }
   ],
   "source": [
    "grep rs10006274 Results/GWAS4/1kg_ref-list.txt"
   ]
  },
  {
   "cell_type": "markdown",
   "id": "6b1401f5-2bbb-4162-a98c-5f287dc2d847",
   "metadata": {},
   "source": [
    ":::{.callout-important title=\"Stop - Read - Solve\"}\n",
    "\n",
    "Look at the other two SNPs `rs1008660` and `rs10088098`. Is it always the same dataset which must be flipped? \n",
    "\n",
    ":::"
   ]
  },
  {
   "cell_type": "markdown",
   "id": "0d7221cd-1406-4f6b-b057-5a72cb0a6c00",
   "metadata": {
    "tags": []
   },
   "source": [
    ":::{.callout-tip title=\"Solution\" collapse=true}\n",
    "\n",
    "If we print out the SNPs from the reference, we find out that `rs1008660` is `T`, which is reported as `T/C` in the 1000GP data. This means that such SNP will not be flipped. Thus HapMap and 1000GP data will differ at that SNP, which will need to be removed later."
   ]
  },
  {
   "cell_type": "code",
   "execution_count": 30,
   "id": "ad77cb69-bb65-4cfb-92f0-426568021ae0",
   "metadata": {},
   "outputs": [
    {
     "name": "stdout",
     "output_type": "stream",
     "text": [
      "rs1008660 T\n",
      "rs10086609 C\n",
      "rs10086608 A\n"
     ]
    }
   ],
   "source": [
    "cat Results/GWAS4/1kg_ref-list.txt | grep rs1008660"
   ]
  },
  {
   "cell_type": "code",
   "execution_count": 31,
   "id": "dc56146a-aefa-45ae-9acd-772df3d3eac4",
   "metadata": {},
   "outputs": [
    {
     "name": "stdout",
     "output_type": "stream",
     "text": [
      "rs10088098 C\n"
     ]
    }
   ],
   "source": [
    "cat Results/GWAS4/1kg_ref-list.txt | grep rs10088098"
   ]
  },
  {
   "cell_type": "markdown",
   "id": "f58853d5-e1dc-4f08-a487-d84cbd4ea5d6",
   "metadata": {},
   "source": [
    ":::\n",
    "\n",
    "---"
   ]
  },
  {
   "cell_type": "markdown",
   "id": "409cc2c4-c334-490c-9bac-1c654a9a3832",
   "metadata": {},
   "source": [
    "Now we take only the SNP names and give them to PLINK (option `--flip`), together with the reference genome (option `--reference-allele`)"
   ]
  },
  {
   "cell_type": "code",
   "execution_count": 32,
   "id": "d2bb696b-4d7b-423c-a0aa-1df7393af08b",
   "metadata": {},
   "outputs": [],
   "source": [
    "## Flip SNPs for resolving strand issues.\n",
    "# Print SNP-identifier and remove duplicates.\n",
    "awk '{print$1}' Results/GWAS4/all_differences.txt | sort -u > Results/GWAS4/flip_list.txt"
   ]
  },
  {
   "cell_type": "markdown",
   "id": "df940a85-ba06-4472-b1ef-eb36da383cd8",
   "metadata": {},
   "source": [
    "These are some of the SNP names"
   ]
  },
  {
   "cell_type": "code",
   "execution_count": 33,
   "id": "e5f8b6e7-9452-4dc2-9430-4227ecedcf82",
   "metadata": {},
   "outputs": [
    {
     "name": "stdout",
     "output_type": "stream",
     "text": [
      "rs10006274\n",
      "rs1008660\n",
      "rs10088098\n",
      "rs1011297\n",
      "rs1023098\n"
     ]
    }
   ],
   "source": [
    "head -5 Results/GWAS4/flip_list.txt"
   ]
  },
  {
   "cell_type": "markdown",
   "id": "44cba8ed-3b83-4c36-9e97-4aa094814a45",
   "metadata": {},
   "source": [
    "Apply the flipping"
   ]
  },
  {
   "cell_type": "code",
   "execution_count": 34,
   "id": "436c134e-9986-4218-86a0-98d8f5e3ee29",
   "metadata": {},
   "outputs": [],
   "source": [
    "plink --bfile Results/GWAS4/HapMap-adj --flip Results/GWAS4/flip_list.txt --reference-allele Results/GWAS4/1kg_ref-list.txt \\\n",
    "--make-bed --out Results/GWAS4/corrected_hapmap &> /dev/null"
   ]
  },
  {
   "cell_type": "markdown",
   "id": "f52f2e6a-88ab-4bac-936b-705bf815b061",
   "metadata": {},
   "source": [
    "Notice how this SNP has changed"
   ]
  },
  {
   "cell_type": "code",
   "execution_count": 35,
   "id": "bfb8bbac-66f1-40ba-a92b-7beecc1743ff",
   "metadata": {},
   "outputs": [
    {
     "name": "stdout",
     "output_type": "stream",
     "text": [
      "4\trs10006274\t0\t124165369\tC\tT\n"
     ]
    }
   ],
   "source": [
    "cat Results/GWAS4/corrected_hapmap.bim | grep rs10006274"
   ]
  },
  {
   "cell_type": "code",
   "execution_count": 36,
   "id": "ffa6dcc8-a48a-4e7b-8ca5-ea18a1a04045",
   "metadata": {},
   "outputs": [
    {
     "name": "stdout",
     "output_type": "stream",
     "text": [
      "4\trs10006274\t0\t124165369\tG\tA\n"
     ]
    }
   ],
   "source": [
    "cat Results/GWAS4/HapMap-adj.bim | grep rs10006274"
   ]
  },
  {
   "cell_type": "markdown",
   "id": "a8c625f8-0540-43a1-a770-72bcac11d7ad",
   "metadata": {},
   "source": [
    "But not this one, as we predicted!"
   ]
  },
  {
   "cell_type": "code",
   "execution_count": 38,
   "id": "a120ca9c-d0e3-4f98-b531-2d70989b07ff",
   "metadata": {},
   "outputs": [
    {
     "name": "stdout",
     "output_type": "stream",
     "text": [
      "7\trs1008660\t0\t141791880\tT\tC\n",
      "8\trs10086609\t0\t91925330\tC\tG\n",
      "8\trs10086608\t0\t128556704\tA\tG\n"
     ]
    }
   ],
   "source": [
    "cat Results/GWAS4/corrected_hapmap.bim | grep rs1008660"
   ]
  },
  {
   "cell_type": "code",
   "execution_count": 37,
   "id": "26921fb5-c05a-4818-add4-fb9758238055",
   "metadata": {},
   "outputs": [
    {
     "name": "stdout",
     "output_type": "stream",
     "text": [
      "7\trs1008660\t0\t141791880\tA\tG\n",
      "8\trs10086609\t0\t91925330\tC\tG\n",
      "8\trs10086608\t0\t128556704\tA\tG\n"
     ]
    }
   ],
   "source": [
    "cat Results/GWAS4/HapMap-adj.bim | grep rs1008660"
   ]
  },
  {
   "cell_type": "markdown",
   "id": "efd0548d-e625-4e43-8c9f-4456f260e940",
   "metadata": {},
   "source": [
    ":::{.callout-note}\n",
    "\n",
    "You can try to flip the 1000GP data as well, but this is not necessary, since this should already be made accordingly to the reference genome, and the orientations have been made to match on the HapMap data.\n",
    "\n",
    ":::"
   ]
  },
  {
   "cell_type": "markdown",
   "id": "3ced8d41-8c85-4657-bf1a-8b58e2eca7fe",
   "metadata": {},
   "source": [
    "**3.** After flipping SNPs, some of them will have now same orientation but different alleles when comparing datasets to each other (e.g. SNP `rs1008660`). Such SNPs have to be removed to avoid inferring data structure that is not there. Below, we get the SNPs from the corrected HapMap data, and visualize the unique SNP names together with the ones from the 1000GP data."
   ]
  },
  {
   "cell_type": "code",
   "execution_count": 39,
   "id": "1f3db957-1b52-42ea-bcf7-4f542a627600",
   "metadata": {},
   "outputs": [],
   "source": [
    "awk '{print$2,$5,$6}' Results/GWAS4/corrected_hapmap.bim > Results/GWAS4/corrected_hapmap_tmp\n",
    "\n",
    "sort Results/GWAS4/1kGMDS5_tmp Results/GWAS4/corrected_hapmap_tmp | uniq -u  > Results/GWAS4/uncorresponding_SNPs.txt"
   ]
  },
  {
   "cell_type": "markdown",
   "id": "2d8e5e0b-96c5-43f5-b980-e6e7ccc9800f",
   "metadata": {},
   "source": [
    "we can read twice has a different allele representation after flipping"
   ]
  },
  {
   "cell_type": "code",
   "execution_count": 40,
   "id": "3ecd7c1a-c504-4c26-9df3-117282576a3e",
   "metadata": {},
   "outputs": [
    {
     "name": "stdout",
     "output_type": "stream",
     "text": [
      "rs11524965 T C\n",
      "rs11524965 T G\n",
      "rs12646999 G A\n",
      "rs12646999 G T\n",
      "rs17114359 C A\n",
      "rs17114359 C T\n"
     ]
    }
   ],
   "source": [
    "head -6 Results/GWAS4/uncorresponding_SNPs.txt"
   ]
  },
  {
   "cell_type": "markdown",
   "id": "ab856d5a-82a6-40f9-9d96-60a1f1c84f4f",
   "metadata": {},
   "source": [
    "We extract only the SNP names from the file above, and exclude those using the PLINK option `--exclude` on both datasets"
   ]
  },
  {
   "cell_type": "code",
   "execution_count": 41,
   "id": "c847f8ba-c42a-4cbe-933b-a8f7b44472f4",
   "metadata": {},
   "outputs": [],
   "source": [
    "awk '{print$1}' Results/GWAS4/uncorresponding_SNPs.txt | sort -u > Results/GWAS4/SNPs_for_exclusion.txt\n",
    "\n",
    "plink --bfile Results/GWAS4/corrected_hapmap --exclude Results/GWAS4/SNPs_for_exclusion.txt \\\n",
    "--make-bed --out Results/GWAS4/HapMap_MDS3 --silent\n",
    "plink --bfile Results/GWAS4/1kG_MDS5 --exclude Results/GWAS4/SNPs_for_exclusion.txt \\\n",
    "--make-bed --out Results/GWAS4/1kG_MDS6 --silent"
   ]
  },
  {
   "cell_type": "markdown",
   "id": "de731b29-4e7b-4f2e-8f57-e9423828be9e",
   "metadata": {},
   "source": [
    "**5.** We merge the data and look at MDS. We provide the dataset to begin with (`--bmerge` option), and the one to add (`-bfile`)."
   ]
  },
  {
   "cell_type": "code",
   "execution_count": 42,
   "id": "02eb4e5a-5904-4b27-9fab-45ca16d4f608",
   "metadata": {},
   "outputs": [],
   "source": [
    "plink --bfile Results/GWAS4/corrected_hapmap --bmerge Results/GWAS4/1kG_MDS6.bed Results/GWAS4/1kG_MDS6.bim Results/GWAS4/1kG_MDS6.fam \\\n",
    "--allow-no-sex --make-bed --out Results/GWAS4/MDS_merge --silent"
   ]
  },
  {
   "cell_type": "markdown",
   "id": "3cf8f6cc",
   "metadata": {},
   "source": [
    "MDS is usually used on SNPs that are independent of each other. We already have this list from earlier in this course, so we extract only these SNPs."
   ]
  },
  {
   "cell_type": "code",
   "execution_count": 43,
   "id": "07f84ea8",
   "metadata": {
    "tags": []
   },
   "outputs": [],
   "source": [
    "plink --bfile Results/GWAS4/MDS_merge --extract Results/GWAS3/indepSNP.prune.in \\\n",
    "    --genome --out Results/GWAS4/MDS_merge2 --silent"
   ]
  },
  {
   "cell_type": "markdown",
   "id": "40527002-38d8-4adb-84dd-02d302d672fc",
   "metadata": {},
   "source": [
    "Now we can use PLINK to run MDS with the option `---mds-plot` giving the number of components to calculate."
   ]
  },
  {
   "cell_type": "code",
   "execution_count": 44,
   "id": "fc3a311a-58e6-4d28-9cf0-127257a924c3",
   "metadata": {},
   "outputs": [],
   "source": [
    "# mds-plot\n",
    "plink --bfile Results/GWAS4/MDS_merge2 --read-genome Results/GWAS4/MDS_merge2.genome \\\n",
    "    --cluster --mds-plot 10 --out Results/GWAS4/MDS_merge2 --silent"
   ]
  },
  {
   "cell_type": "markdown",
   "id": "e855e1ab-2177-407f-a2a3-569fedb965b3",
   "metadata": {},
   "source": [
    "We download the panel of individual names and population from the 1000GP. This contains population names from which each individual comes from."
   ]
  },
  {
   "cell_type": "code",
   "execution_count": 45,
   "id": "5a3f6fea-bb10-4d5c-8909-ab682020a41c",
   "metadata": {
    "tags": []
   },
   "outputs": [],
   "source": [
    "wget ftp://ftp.1000genomes.ebi.ac.uk/vol1/ftp/release/20100804/20100804.ALL.panel -P Results/GWAS4 -q"
   ]
  },
  {
   "cell_type": "markdown",
   "id": "1ec78f9f-69a9-469c-8fc3-4381dc133665",
   "metadata": {},
   "source": [
    "We merge the 1000GP population names with the ones for the HapMap data, which we label `OWN`, assuming we are trying to determine which population the HapMap individuals come from"
   ]
  },
  {
   "cell_type": "code",
   "execution_count": 46,
   "id": "ac3d0b03-be57-4fc2-964e-8d32f9d6a4b2",
   "metadata": {
    "tags": []
   },
   "outputs": [],
   "source": [
    "awk '{print$1,$2,\"OWN\"}' Results/GWAS4/HapMap_MDS.fam > Results/GWAS4/racefile_own.txt\n",
    "awk '{print$1,$1,$2}' Results/GWAS4/20100804.ALL.panel > Results/GWAS4/20100804.ALL.panel.txt\n",
    "\n",
    "cat <(echo \"FID IID race\") Results/GWAS4/20100804.ALL.panel.txt Results/GWAS4/racefile_own.txt > Results/GWAS4/racefile.txt"
   ]
  },
  {
   "cell_type": "markdown",
   "id": "9868d96e-fe7e-41ba-a020-0a6e9b59af33",
   "metadata": {},
   "source": [
    "<img src=\"Images/R.png\" alt=\"R\" width=\"40\"> After all the many steps above we can visualize population stratification using multidimensional scaling (MDS) technique. The 1000GP used as anchor is mixed with the HapMap data around the central european (CEU), Tuscany (TSI), Spanish Iberian (IBS), British (GBR) and finnish (FIN) populations. This confirms what we know, i.e. that HapMap data is composed of european individuals. We can also see that there are not points located far away from all the others, meaning there are not outliers in the HapMap data."
   ]
  },
  {
   "cell_type": "code",
   "execution_count": 3,
   "id": "eac20c80-bb26-4175-a870-660892297e46",
   "metadata": {
    "tags": []
   },
   "outputs": [
    {
     "data": {
      "image/png": "[encoded data removed]",
      "text/plain": [
       "plot without title"
      ]
     },
     "metadata": {
      "image/png": {
       "height": 360,
       "width": 720
      }
     },
     "output_type": "display_data"
    }
   ],
   "source": [
    "options(repr.plot.width = 12, repr.plot.height = 6)\n",
    "\n",
    "suppressMessages(suppressWarnings(library(ggplot2)))\n",
    "\n",
    "# Read data into R \n",
    "data <- read.table(file=\"Results/GWAS4/MDS_merge2.mds\",header=TRUE)\n",
    "race <- read.table(file=\"Results/GWAS4/racefile.txt\",header=TRUE)\n",
    "datafile <- merge(data,race,by=c(\"FID\",\"IID\"))\n",
    "\n",
    "scatter.mds <- ggplot(datafile, aes(x=C1, y=C2, color=race)) +\n",
    "  geom_point(size=5, alpha=.4) +\n",
    "  xlab(\"MD Component 1\") + \n",
    "  ylab(\"MD Component 2\") +\n",
    "  labs(color=\"Population\") +\n",
    "  theme_bw() +\n",
    "  theme(axis.title = element_text(size = 14), legend.text = element_text(size = 14), \n",
    "        axis.text = element_text(size = 14), legend.title=element_text(size=14))\n",
    "  \n",
    "show(scatter.mds)"
   ]
  },
  {
   "cell_type": "markdown",
   "id": "2196facd-2e54-4382-9cf6-32a7cbcde299",
   "metadata": {},
   "source": [
    ":::{.callout-note}\n",
    "\n",
    "The 1000GP is organized in large populations (europeans, africans, chinese, ...) for which there are subpopulations as seen in the previous figure. You can see all populations listed in the table below.\n",
    "\n",
    "![](./Images/1000GP.png){width=800px}\n",
    "\n",
    ":::"
   ]
  },
  {
   "cell_type": "markdown",
   "id": "1a351cee",
   "metadata": {},
   "source": [
    "#### Exclude ethnic outliers\n",
    "\n",
    "Even though we have not found outliers in the MDS plot, let's assume there was an outlier in the lower left corner of the plot, and that we want to remove it.\n",
    "\n",
    "<img src=\"Images/bash.png\" alt=\"Bash\" width=\"40\"> The script below remove any individual falling in the MDS plot area such that MD component 1 < 0 and MD component 2 <-0.05. The MDS file looks like below (first 3 rows), and it shows MDS components from the fourth column"
   ]
  },
  {
   "cell_type": "code",
   "execution_count": 1,
   "id": "89a3b1b8-0600-4970-bbd8-26c61e593aa3",
   "metadata": {},
   "outputs": [
    {
     "name": "stdout",
     "output_type": "stream",
     "text": [
      "    FID       IID    SOL           C1           C2           C3           C4           C5           C6           C7           C8           C9          C10 \n",
      "   1328   NA06984      0   -0.0218368  -0.00620683  -0.00464884   0.00121512 -0.000413235   0.00221093    0.0104188  -0.00199382    0.0173257   -0.0131241 \n",
      "   1328   NA06989      0   -0.0208157  -0.00581126  -0.00638572   0.00503345  -0.00116741  -0.00369152    0.0120005   -0.0229035  -0.00238946    0.0381386 \n"
     ]
    }
   ],
   "source": [
    "head -3 Results/GWAS4/MDS_merge2.mds | cut -f1-6 -d$'\\t'"
   ]
  },
  {
   "cell_type": "markdown",
   "id": "637b5106-7e6c-4c3a-ae92-a336b899a53d",
   "metadata": {},
   "source": [
    "The selection has to be done for the individuals we want to keep, so the area to be chosen has to be mirrored into >0 and >-0.05. We provide the MDS component values in column 4 and 5 of the file, and extract the individuals using `--keep` "
   ]
  },
  {
   "cell_type": "code",
   "execution_count": 2,
   "id": "3e022245",
   "metadata": {
    "tags": []
   },
   "outputs": [],
   "source": [
    "awk '{ if ($4 >0 || $5 >-0.05) print $1,$2 }' Results/GWAS4/MDS_merge2.mds > Results/GWAS4/EUR_MDS_merge2\n",
    "\n",
    "plink --bfile Results/GWAS4/HapMap_3_r3_9 --keep Results/GWAS4/EUR_MDS_merge2 --make-bed  \\\n",
    "--out Results/GWAS4/HapMap_3_r3_10 > /dev/null"
   ]
  },
  {
   "cell_type": "markdown",
   "id": "3a4836bc-5b88-4bbe-ac64-715d205895ba",
   "metadata": {},
   "source": [
    "#### Creating covariates for GWAS analysis\n",
    "\n",
    "Now, we run again MDS on the data from which ethnic outliers have been excluded. The steps below are the same already used for calculating MDS. In addition, we want to create a covariate file for PLINK. This is needed to correct for population stratification in our data in the next tutorial notebook, when the covariates will be included in the regression. The covariate file is simply the MDS output file, from which we need to remove column 3 (SOL, which is a piece of optional metadata information)."
   ]
  },
  {
   "cell_type": "code",
   "execution_count": 3,
   "id": "975054c0-85c1-4436-a340-819bffa12a5a",
   "metadata": {
    "tags": []
   },
   "outputs": [],
   "source": [
    "plink --bfile Results/GWAS4/HapMap_3_r3_10 --extract Results/GWAS3/indepSNP.prune.in --genome  \\\n",
    "--out Results/GWAS4/HapMap_3_r3_10 > /dev/null\n",
    "plink --bfile Results/GWAS4/HapMap_3_r3_10 --read-genome Results/GWAS4/HapMap_3_r3_10.genome \\\n",
    "--cluster --mds-plot 10 --out Results/GWAS4/HapMap_3_r3_10_mds > /dev/null\n",
    "\n",
    "# Change the format of the .mds file into a plink covariate file.\n",
    "awk '{print $1, $2, $4, $5, $6, $7, $8, $9, $10, $11, $12, $13}' Results/GWAS4/HapMap_3_r3_10_mds.mds > Results/GWAS4/covar_mds.txt"
   ]
  },
  {
   "cell_type": "markdown",
   "id": "8b1cf38d",
   "metadata": {},
   "source": [
    "The values in `covar_mds.txt` will be used as covariates to adjust for remaining population stratification in the third tutorial, where we will perform a genome-wide association analysis. Look at the file preview below with the ten components of the MDS projection:"
   ]
  },
  {
   "cell_type": "code",
   "execution_count": 5,
   "id": "62ac8a2d-6153-443c-be20-0906f4a3262b",
   "metadata": {},
   "outputs": [
    {
     "name": "stdout",
     "output_type": "stream",
     "text": [
      "FID IID C1 C2 C3 C4 C5 C6 C7 C8 C9 C10\n",
      "1328 NA06989 0.0193503 -0.0481539 0.053743 -8.56966e-05 0.0124037 -0.00872553 0.0146577 -0.0266013 0.0064429 -0.0149862\n",
      "1377 NA11891 0.0105154 -0.0241653 -0.00713715 -0.0276522 0.0272997 0.0044621 -0.00373271 -0.00561896 -0.0317101 0.0188078\n",
      "1349 NA11843 -0.00217144 0.0120046 -0.00508388 0.0193558 -0.00738542 0.0285001 -0.00512723 0.00271516 0.0029428 0.000145191\n",
      "1330 NA12341 -0.0124555 -0.0114929 0.0019162 -0.0252928 -0.0300722 -0.00411769 -0.0207568 -0.0122574 -0.017065 0.0353729\n"
     ]
    }
   ],
   "source": [
    "head -5 Results/GWAS4/covar_mds.txt"
   ]
  },
  {
   "cell_type": "markdown",
   "id": "0ce66796",
   "metadata": {},
   "source": [
    ":::{.callout-note title=\"Wrapping up\"}\n",
    "\n",
    "You have now successfully checked your data for relatedness population stratification. You filtered out the individuals with high relatedness and produced a summary of the population structure using the MDS projection. You will use the MDS coordinates as a proxy for the population structure you want your association testing to be corrected for.  \n",
    "\n",
    "In the next notebook on **Association Testing**, you will need the following files from the folder `Results/GWAS4/`:\n",
    "- `HapMap_3_r3_10` (the bfile, i.e., `HapMap_3_r3_10.bed`, `HapMap_3_r3_10.bim`, and `HapMap_3_r3_10.fam`)\n",
    "- `covar_mds.txt`\n",
    "which are the HapMap data and the MDS covariates highlighting the population stratification. Those are already available once you have been running this notebook.\n",
    "\n",
    "Below is a cheat sheet of our new methods of QC. Again, it is important to remember that each method of QC should be justified, which will depend on the nature of the feature you are trying to analyze.\n",
    "\n",
    "\n",
    "| Step| Command| Function| Thresholds and explanation|\n",
    "|------------------------------|------------------------|---------------------------------------------------------------------------------------------------------------------------------------------------------------------------------------------------------------------|-------------------------------------------------------------------------------------------------------------------------------------------------------------------------------------------------------------------------------------------------------------------------------------------------------------------------------------------------------------------------------------------------------------------------|\n",
    "| 6: Relatedness| --genome| Calculates identity by descent (IBD) of all sample pairs.| Use independent SNPs ( pruning) for this analysis and limit it to autosomal chromosomes only.|\n",
    "| - | --min| Sets threshold and creates a list of individuals with relatedness above  the chosen threshold. This means that subjects who are related at, for  example, pi‐hat >0.2 (i.e., second-degree relatives) can be detected. | Cryptic relatedness can interfere with the association analysis. If you  have a family‐based sample (e.g., parent‐offspring), you do not need to  remove related pairs but the statistical analysis should take family  relatedness into account. However, for a population-based sample, we suggest using a pi‐hat threshold of 0.2, which is in line with the literature (Anderson et al.,  2010; Guo et al.,  2014). |\n",
    "| 7: Population Stratification | --genome | Calculates identity by descent (IBD) of all sample pairs.| Use independent SNPs ( pruning) for this analysis and limit it to autosomal chromosomes only.|\n",
    "| - | --cluster --mds-plot k | Produces a  k‐dimensional representation of any substructure in the data, based on IBS.| K is the number of dimensions, which needs to be defined  (typically 10). This is an important step of the QC that consists of  multiple proceedings but for reasons of completeness, we briefly refer to  this step in the table. This step will be described in more detail in the section “Controlling for population stratification.”|\n",
    "\n",
    "\n",
    "\n",
    ":::\n",
    "\n",
    "# Bibliography"
   ]
  }
 ],
 "metadata": {
  "kernelspec": {
   "display_name": "Bash",
   "language": "bash",
   "name": "bash"
  },
  "language_info": {
   "codemirror_mode": "shell",
   "file_extension": ".sh",
   "mimetype": "text/x-sh",
   "name": "bash"
  }
 },
 "nbformat": 4,
 "nbformat_minor": 5
}
