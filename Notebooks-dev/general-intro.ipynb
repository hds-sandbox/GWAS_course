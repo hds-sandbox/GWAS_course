{
 "cells": [
  {
   "cell_type": "markdown",
   "id": "f3c82863-83ce-4a31-ab3d-cfdebb87936f",
   "metadata": {},
   "source": [
    "---\n",
    "title: \"Getting Started with the GWAS Module\"\n",
    "author:\n",
    "    - name: Conor O'Hare\n",
    "    - name: Samuele Soraggi\n",
    "      orcid: 0000-0002-1159-5535\n",
    "      email: samuele@birc.au.dk\n",
    "    - name: Alba Refoyo Martinez\n",
    "      orcid: 0000-0002-3674-4007\n",
    "      email: alba.martinez@sund.ku.dk     \n",
    "---"
   ]
  },
  {
   "cell_type": "markdown",
   "id": "71155ac8-351b-431c-9f49-6615e56066b1",
   "metadata": {},
   "source": [
    "---\n",
    "format:\n",
    "  html:\n",
    "   number-sections: true\n",
    "   toc: true\n",
    "  ipynb:\n",
    "    toc: true\n",
    "    number-sections: false\n",
    "---"
   ]
  },
  {
   "cell_type": "markdown",
   "id": "70bc21a6-51be-450f-b87d-266492418d9e",
   "metadata": {},
   "source": [
    "In this course, we will use JupyterLab, an open-source interactive development environment (IDE) for working with Jupyter Notebooks. If you’re not familiar with this interface, check out the [JupyterLab Documentation](https://jupyterlab.readthedocs.io/en/latest/getting_started/overview.html). It includes numerous screenshots and videos showcasing the cool features of JupyterLab.\n",
    "\n",
    "In particular, we suggest reviewing:\n",
    "- [Working (manage) files](https://jupyterlab.readthedocs.io/en/latest/user/files.html)\n",
    "- [How to edit files](https://jupyterlab.readthedocs.io/en/latest/user/file_editor.html)\n",
    "- [How to use Terminals](https://jupyterlab.readthedocs.io/en/latest/user/terminal.html)\n",
    "- [Maning kernels and terminals](https://jupyterlab.readthedocs.io/en/latest/user/running.html)\n",
    "\n",
    "## General note on how to make the notebooks work\n",
    "\n",
    "* We will primarily use `R` and `bash command line` programming languages, where `R` is used for statistical analysis of the output from various tools running in `bash`.\n",
    "* Since we use multiple coding languages, you need to **choose a kernel every time we shift from one language to another**. A kernel contains a programming language and the necessary packages to run the course material. To choose a kernel, go to the menu at the top of the page, select `Kernel --> Change Kernel`, and then select the preferred one.\n",
    "* We will shift between two kernels, and along the notebook, you will see a picture indicating when to change the kernel. The two pictures are shown below:\n",
    "<center>\n",
    "<img src=\"Images/bash.png\" alt=\"Bash\" width=\"80\"> Choose the Bash kernel\n",
    "<img src=\"Images/R.png\" alt=\"R\" width=\"80\"> Choose the R-GWAS kernel\n",
    "</center>\n",
    "\n",
    "* You can run the code in each cell (grey background) by clicking the run cell sign in the toolbar, or simply by pressing <kbd>Shift</kbd>+<kbd>Enter</kbd>. When the code is done running, a small green check mark will appear on the left side.\n",
    "* You need to **run the cells sequentially** to execute the analysis. Please do not run a cell until the one above is done running, and do not skip any cells. \n",
    "* Textual descriptions accompany the code to help you understand what is happening. Please try not to focus on understanding the code itself in too much detail, but rather focus on the explanations and commands' output.  \n",
    "* You can create new code cells by pressing `+` in the Menu bar above or by pressing <kbd>B</kbd> after selecting a cell.\n",
    " \n"
   ]
  },
  {
   "cell_type": "markdown",
   "id": "ffef1bb1-71db-4db5-a645-72a7727edb83",
   "metadata": {},
   "source": [
    ":::{.callout-warning}\n",
    "- If a cell fails to run, verify the kernel in use, shown in the top-right corner.\n",
    "- You don't know the answer to the exercises? You can use Generative AI to help with the code. It can assist you when the tutorial alone isn't enough or if you want to explore additional concepts beyond the exercise.\n",
    "\n",
    ":::"
   ]
  },
  {
   "cell_type": "code",
   "execution_count": null,
   "id": "a7e5a285-3aaa-46bf-8986-0704b979b606",
   "metadata": {
    "vscode": {
     "languageId": "r"
    }
   },
   "outputs": [],
   "source": []
  }
 ],
 "metadata": {
  "kernelspec": {
   "display_name": "R-GWAS",
   "language": "R",
   "name": "rgwas"
  },
  "language_info": {
   "codemirror_mode": "r",
   "file_extension": ".r",
   "mimetype": "text/x-r-source",
   "name": "R",
   "pygments_lexer": "r",
   "version": "4.4.2"
  }
 },
 "nbformat": 4,
 "nbformat_minor": 5
}
