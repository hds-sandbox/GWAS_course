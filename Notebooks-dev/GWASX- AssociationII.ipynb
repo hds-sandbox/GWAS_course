{
 "cells": [
  {
   "cell_type": "code",
   "execution_count": null,
   "id": "bb49a685-b48e-4ef6-8a1c-ec0d89da7164",
   "metadata": {},
   "outputs": [],
   "source": [
    "---\n",
    "title: \"Association testing\"\n",
    "format:\n",
    "  html:\n",
    "    code-fold: false\n",
    "    toc: true\n",
    "  ipynb:\n",
    "    toc: true\n",
    "    number-sections: false\n",
    "bibliography: references/references_5.bib\n",
    "---"
   ]
  },
  {
   "cell_type": "markdown",
   "id": "ac338aaf-cb78-4ee7-9259-d8a16e259ba4",
   "metadata": {},
   "source": [
    "# Association testing II\n",
    "\n",
    "::: {.callout-note title=\"Important notes for this notebook\" icon=false}\n",
    "\n",
    "## Learning outcomes\n",
    "\n",
    "- Assess whether population stratification influences your association test.\n",
    "\n",
    "## How to make this notebook work\n",
    "\n",
    "* In this notebook, we will use both `R` and `bash command line` programming languages. Remember to **change the kernel** whenever you transition from one language to the other (`Kernel --> Change Kernel`) indicated by the languages' images. We will first run `Bash` commands.  \n",
    "  \n",
    "<img src=\"Images/bash.png\" alt=\"Bash\" width=\"80\"> Choose the Bash kernel\n",
    " \n",
    ":::"
   ]
  },
  {
   "cell_type": "code",
   "execution_count": null,
   "id": "dd063ca8-44eb-4c6b-b6b1-9072ff6c0fc6",
   "metadata": {},
   "outputs": [],
   "source": []
  }
 ],
 "metadata": {
  "kernelspec": {
   "display_name": "Python 3 ",
   "language": "python",
   "name": "python3"
  },
  "language_info": {
   "codemirror_mode": {
    "name": "ipython",
    "version": 3
   },
   "file_extension": ".py",
   "mimetype": "text/x-python",
   "name": "python",
   "nbconvert_exporter": "python",
   "pygments_lexer": "ipython3",
   "version": "3.12.8"
  }
 },
 "nbformat": 4,
 "nbformat_minor": 5
}
