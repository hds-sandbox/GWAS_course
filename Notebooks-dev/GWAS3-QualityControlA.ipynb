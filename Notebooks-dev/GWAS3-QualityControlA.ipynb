{
 "cells": [
  {
   "cell_type": "markdown",
   "id": "b792dd32",
   "metadata": {},
   "source": [
    "---\n",
    "title: \"Quality Control: initial steps\"\n",
    "author:\n",
    "    - name: Conor O'Hare\n",
    "    - name: Samuele Soraggi\n",
    "      orcid: 0000-0002-1159-5535\n",
    "      email: samuele@birc.au.dk\n",
    "    - name: Alba Refoyo Martinez\n",
    "      orcid: 0000-0002-3674-4007\n",
    "      email: alba.martinez@sund.ku.dk     \n",
    "---"
   ]
  },
  {
   "cell_type": "markdown",
   "id": "e943e656-5a39-40bf-aa48-5d0f67065936",
   "metadata": {},
   "source": [
    "---\n",
    "format:\n",
    "  html:\n",
    "   theme: default\n",
    "   number-sections: true\n",
    "   code-fold: false\n",
    "   self-contained: false\n",
    "   toc: true\n",
    "   highlight-style: pygments\n",
    "  ipynb:\n",
    "    toc: true\n",
    "    number-sections: false\n",
    "---"
   ]
  },
  {
   "cell_type": "markdown",
   "id": "6e18e4f9-6f1a-43b6-a867-6946f915c780",
   "metadata": {},
   "source": [
    "::: {.callout-note title=\"Important notes for this notebook\" icon=false}\n",
    "\n",
    "After gathering your data and genotyping, there are many checks one can do to determine the quality of the data. PLINK will generate a number of standard summary statistics that are useful for quality control (e.g. missing genotype rate, minor allele frequency, and Hardy-Weinberg equilibrium failures). These can also be used as thresholds for subsequent analyses, as will be shown in this section.\n",
    "\n",
    "## Learning outcomes\n",
    "\n",
    "- **distinguish** the various QC steps\n",
    "- **discuss and choose** thresholds on plink\n",
    "- **implement** basic QC in `plink` and statistical plots in `R`\n",
    "- **hypothesize** the effects of various `plink` commands and **verify** your hypothesis using the analysis in `R`\n",
    "\n",
    "\n",
    "## How to make this notebook work\n",
    "\n",
    "* In this notebook we will use primarily `R` and `bash command line` programming languages, where `R` is used for statistical analysis of the output from various tools running in `bash`\n",
    "* Since we use multiple coding languages, you need to choose a kernel every time we shift from one language to another. A kernel contains a programming language and the necessary packages to run the course material. To choose a kernel, go on the menu on the top of the page and select `Kernel --> Change Kernel`, and then select the preferred one.\n",
    "* We will shift between two kernels, and along the code in this notebook you will see a picture telling you to change kernel. The two pictures are below:\n",
    "\n",
    "<center>\n",
    "<img src=\"Images/bash.png\" alt=\"Bash\" width=\"80\"> Choose the Bash kernel\n",
    "<img src=\"Images/R.png\" alt=\"R\" width=\"80\"> Choose the R-GWAS kernel\n",
    "</center>\n",
    "\n",
    "* You can run the code in each cell by clicking on the run cell sign in the toolbar, or simply by pressing <kbd>Shift</kbd>+<kbd>Enter</kbd>. When the code is done running, a small green check sign will appear on the left side.\n",
    "* You need to run the cells in sequential order to execute the analysis. Please do not run a cell until the one above is done running, and do not skip any cells\n",
    "* The code goes along with textual descriptions to help you understand what happens. Please try not to focus on understanding the code itself in too much detail - but rather try to focus on the explanations and on the output of the commands \n",
    "*   You can create new code cells by pressing `+` in the Menu bar above or by pressing <kbd>B</kbd> after you select a cell. \n",
    "\n",
    ":::"
   ]
  },
  {
   "cell_type": "markdown",
   "id": "779e65c1-04f8-4a2d-8d0e-8190e5ccd7e0",
   "metadata": {},
   "source": [
    "The next step in any GWAS is to examine the data for potential problems. You don’t want to carry out a GWAS, think you have an exciting result, then discover that it was all just an artifact of bad data. \n",
    "\n",
    "After gathering your data and genotyping, there are many checks one can do to determine the quality of the data. PLINK will generate a number of standard summary statistics that are useful for quality control (e.g. missing genotype rate, minor allele frequency, and Hardy-Weinberg equilibrium failures). These can also be used as thresholds for subsequent analyses, as will be shown in this section.\n",
    "\n",
    "For this tutorial, we will look at the following topics: \n",
    "\n",
    "1) Individual Missingness  \n",
    "2) Sex discrepency  \n",
    "3) Minor Allele Frequency (MAF)  \n",
    "4) Hardy-Weinburg Equilibrium (HWE)  \n",
    "5) Heterozygosity Rate  \n",
    "\n",
    "In the next section, which is a continuation of quality control, we will look at:\n",
    "\n",
    "6) Relatedness  \n",
    "7) Population Stratification/Structure  "
   ]
  },
  {
   "cell_type": "markdown",
   "id": "eb8e451f",
   "metadata": {},
   "source": [
    "# Individual and SNP Missingness\n",
    "\n",
    "\n",
    "## Missingness per SNP\n",
    "\n",
    "Overall, the SNP genotyping platform is very reliable and delivers stable results when it comes to determining genotypes. Of course, it is not flawless. One of the most frequent problems is that some of the SNPs are just not well genotyped in the entire population. These should be removed to improve the overall data quality.\n",
    "\n",
    "Of course, we cannot remove every SNP that has any missing value, as this way we would purge the entirety of our data. As a comproimse, we define thresholds instead. The thing about these thresholds is that no rule would firmly set which ones to use. So you are free to define them as long as you remain within \"reasonable\" bounds. To find out what \"reasonable\" means, it is perhaps a good idea to study the literature for your species of interest. For humans, we typically begin with a threshold of 0.2. That is, we remove SNPs where  20% or more of that SNP are not genotyped in our population.\n",
    "\n",
    "## Missingness per individual\n",
    "\n",
    "The reliability of SNP chips is also high when it comes to individual genotypes. In some cases, however, some of the individuals contain a large number of missing SNPs. The reason could be low DNA sample quality, wrong chip type used (e.g. cattle chip for deer samples), or other technical issues. Regardless of the reason, you should delete the worst offenders from your data set, not to compromise the overall quality of your results.\n",
    "\n",
    "\n",
    "## Example\n",
    "\n",
    "Have a look at the following toy example:"
   ]
  },
  {
   "cell_type": "markdown",
   "id": "1dbeebaf",
   "metadata": {},
   "source": [
    "|   /   | SNP1 | SNP2 | SNP3 | SNP4 | SNP5 |\n",
    "|------|------|------|------|------|------|\n",
    "| IND1 | 22   | 00   | 11   | 12   | 22   |\n",
    "| IND2 | 22   | 00   | 11   | 12   | 22   |\n",
    "| IND3 | 11   | 12   | 11   | 22   | 21   |\n",
    "| IND4 | 00   | 00   | 11   | 11   | 22   |\n",
    "| IND5 | 22   | 00   | 11   | 22   | 22   |"
   ]
  },
  {
   "cell_type": "markdown",
   "id": "5a326c71",
   "metadata": {
    "tags": []
   },
   "source": [
    "We have a data set of five individuals, each of them genotyped for five SNPs. The genotypes themselves are in numerical coding, 11 and 22 being the two homozygous, 12 the heterozygous, and 00 coded as missing.\n",
    "\n",
    "Let's say we want to remove SNPs with >= 40% missingness. In this example, only SNP2 exceeds this threshold, with 80% missingness. So it is removed from the data set. \n",
    "\n",
    "Now we apply the >= 40% missingess theshold to the individuals, which removes IND4 from the data set, as there is missing genotype information for 2/5 = 40% SNPs. \n",
    "\n",
    "In practice, you want to remove the SNPs based on missingess before the individuals. This is simply because we generally have a lot more SNPs than individuals, and would thus lose less information by removing SNPs than individuals, which can be achieved by removing the \"bad\" SNPs first, leaving a lower rate of missingess for all the individuals.\n",
    "\n",
    "## Commands\n",
    "\n",
    "We can deal with missingness in PLINK with two functions: \n",
    "\n",
    "* `--geno`: This will remove SNPs with a specified proportion of missingness (e.g. `--geno 0.01` will remove SNPs with 1% missingness.\n",
    "* `--mind`: This will remove individuals with a specified proportion of missingness (e.g. `--mind 0.01` will remove individuals with 1% missingness.\n",
    "\n",
    "We now implement our first QC method in PLINK:"
   ]
  },
  {
   "cell_type": "markdown",
   "id": "057b6404-862e-467e-bdf7-c5d9bbe5b086",
   "metadata": {},
   "source": [
    "<img src=\"Images/bash.png\" alt=\"Bash\" width=\"40\"> We link the data folder to easily access it and create a folder for files in output from the used commands"
   ]
  },
  {
   "cell_type": "code",
   "execution_count": 1,
   "id": "5dea98b7-c4dd-4d62-a5e6-b041486b511d",
   "metadata": {
    "tags": []
   },
   "outputs": [],
   "source": [
    "ln -sf ../Data\n",
    "mkdir -p Results/GWAS3"
   ]
  },
  {
   "cell_type": "markdown",
   "id": "7356fd7e-93b6-46e2-b71a-206c2bcdb21a",
   "metadata": {},
   "source": [
    "and run plink"
   ]
  },
  {
   "cell_type": "code",
   "execution_count": 2,
   "id": "f206a476",
   "metadata": {
    "tags": []
   },
   "outputs": [
    {
     "name": "stdout",
     "output_type": "stream",
     "text": [
      "PLINK v1.90b6.21 64-bit (19 Oct 2020)          www.cog-genomics.org/plink/1.9/\n",
      "(C) 2005-2020 Shaun Purcell, Christopher Chang   GNU General Public License v3\n",
      "Logging to Results/GWAS3/data.log.\n",
      "Options in effect:\n",
      "  --bfile Data/HapMap_3_r3_1\n",
      "  --missing\n",
      "  --out Results/GWAS3/data\n",
      "\n",
      "385572 MB RAM detected; reserving 192786 MB for main workspace.\n",
      "1457897 variants loaded from .bim file.\n",
      "165 people (80 males, 85 females) loaded from .fam.\n",
      "112 phenotype values loaded from .fam.\n",
      "Using 1 thread (no multithreaded calculations invoked).\n",
      "Before main variant filters, 112 founders and 53 nonfounders present.\n",
      "Calculating allele frequencies... 10111213141516171819202122232425262728293031323334353637383940414243444546474849505152535455565758596061626364656667686970717273747576777879808182838485868788899091929394959697989 done.\n",
      "Warning: 225 het. haploid genotypes present (see Results/GWAS3/data.hh ); many\n",
      "commands treat these as missing.\n",
      "Total genotyping rate is 0.997378.\n",
      "--missing: Sample missing data report written to Results/GWAS3/data.imiss, and\n",
      "variant-based missing data report written to Results/GWAS3/data.lmiss.\n"
     ]
    }
   ],
   "source": [
    "### Step 1 - Missingness ###\n",
    "\n",
    "# Investigate missingness per individual and per SNP and make histograms.\n",
    "# Note: the '> /dev/null' command is to suppress output. We do this for purely aesthetic reasons, but you can \n",
    "# remove it to read more about what PLINK is doing \n",
    "plink --bfile Data/HapMap_3_r3_1 --missing --out Results/GWAS3/data"
   ]
  },
  {
   "cell_type": "markdown",
   "id": "ec9b1284",
   "metadata": {},
   "source": [
    "Immediately we can see that our total genotyping rate for our sample is 0.997378. Furthermore, there will be two output files from this command: `plink.imiss` and `plink.lmiss`, in the directory `Results/GWAS3/`. These files show respectively the proportion of missing SNPs per individual and the proportion of missing individuals per SNP. \n",
    "\n",
    "<img src=\"Images/R.png\" alt=\"R\" width=\"40\"> We can visualise the missingness in individuals and SNPs using histograms in `R`:"
   ]
  },
  {
   "cell_type": "code",
   "execution_count": 1,
   "id": "904776e1-2135-41c4-a356-1bd0b298cf82",
   "metadata": {},
   "outputs": [
    {
     "data": {
      "image/png": "[encoded data removed]",
      "text/plain": [
       "plot without title"
      ]
     },
     "metadata": {},
     "output_type": "display_data",
     "source": "R display func"
    },
    {
     "name": "stderr",
     "output_type": "stream",
     "text": [
      "Saving 6.67 x 6.67 in image\n",
      "Saving 6.67 x 6.67 in image\n"
     ]
    },
    {
     "data": {
      "image/png": "[encoded data removed]",
      "text/plain": [
       "plot without title"
      ]
     },
     "metadata": {},
     "output_type": "display_data",
     "source": "R display func"
    }
   ],
   "source": [
    "library(ggplot2)\n",
    "options(repr.plot.width = 9, repr.plot.height = 4)\n",
    "\n",
    "# Read data into R \n",
    "indmiss <- read.table(file=\"Results/GWAS3/data.imiss\", header=TRUE)\n",
    "snpmiss <- read.table(file=\"Results/GWAS3/data.lmiss\", header=TRUE)\n",
    "\n",
    "# plink.imiss histogram\n",
    "hist.imiss <- ggplot(indmiss, aes(x=indmiss[,6])) +\n",
    "  geom_histogram(binwidth = 0.001, col = \"black\", fill=\"tomato\") + \n",
    "  labs(title = \"Frequency of missingness rates in individuals\") + \n",
    "  xlab(\"Frequency\") + \n",
    "  ylab(\"Missingness in Individuals\") + \n",
    "  theme_bw()\n",
    "\n",
    "# plink.lmiss histogram\n",
    "hist.lmiss <- ggplot(snpmiss, aes(x=snpmiss[,5])) +\n",
    "  geom_histogram(binwidth = 0.005, col = \"black\", fill=\"tomato\") + \n",
    "  labs(title = \"Frequency of missingness rates in SNPs\") + \n",
    "  xlab(\"Frequency\") + \n",
    "  ylab(\"Missingness in SNPs\") + \n",
    "  theme_bw()\n",
    "\n",
    "show(hist.imiss)\n",
    "show(hist.lmiss)\n",
    "\n",
    "# Save plots \n",
    "ggsave(plot=hist.imiss, filename=\"Results/GWAS3/histimiss.png\")\n",
    "ggsave(plot=hist.lmiss, filename=\"Results/GWAS3/histlmiss.png\")"
   ]
  },
  {
   "cell_type": "markdown",
   "id": "6cd0f40c",
   "metadata": {},
   "source": [
    "Histograms are also saved in your results directory as `histimiss.png`and `histlmiss.png`. We can make a few observations. First, note that there are very few individuals with no missingness at all. This is likely given that there only needs to be one SNP that is genotyped badly across all samples. Fortunately, this is not the case, and as we can see in the second histogram, the largest missingness percentage for a SNP is around 0.05 (that is, 5%). All in all, the histogram can offer some indication as to how much a certain missingness filter will impact the size of your remaining data. \n",
    "\n",
    "<img src=\"Images/bash.png\" alt=\"Bash\" width=\"40\">  We will now use PLINK along with our missingness filters to QC the data. We outline the command below removing samples with more than 20% missingness (option `--mind`) and SNPs with more than 2% missingness (option `--geno`). The `--out` option defines a prefix for the output file, and `--make-bed` denotes an output in `.bed` format. PLINK is very verbose, so look at the text it prints out when running the command to see what it is doing.\n",
    "\n",
    "***"
   ]
  },
  {
   "cell_type": "code",
   "execution_count": 5,
   "id": "4939169b",
   "metadata": {
    "tags": []
   },
   "outputs": [],
   "source": [
    "# Delete SNPs and individuals with high levels of missingness\n",
    "\n",
    "# The following two QC commands will not remove any SNPs or individuals. However, it is good practice \n",
    "# to start the QC with these non-stringent thresholds.  \n",
    "\n",
    "# Delete SNPs with missingness >0.2.\n",
    "#plink --bfile Data/HapMap_3_r3_1 --geno 0.2 --make-bed --out Results/GWAS3/HapMap_3_r3_2 > /dev/null\n",
    "\n",
    "# Delete individuals with missingness >0.2.\n",
    "#plink --bfile Results/GWAS3/HapMap_3_r3_2 --mind 0.2 --make-bed --out Results/GWAS3/HapMap_3_r3_3 > /dev/null\n",
    "\n",
    "# Delete SNPs with missingness >0.02.\n",
    "#plink --bfile Results/GWAS3/HapMap_3_r3_3 --geno 0.02 --make-bed --out Results/GWAS3/HapMap_3_r3_4 > /dev/null\n",
    "\n",
    "# Delete individuals with missingness >0.02.\n",
    "#plink --bfile Results/GWAS3/HapMap_3_r3_4 --mind 0.02 --make-bed --out Results/GWAS3/HapMap_3_r3_5 > /dev/null"
   ]
  },
  {
   "cell_type": "code",
   "execution_count": 2,
   "id": "5077d592-61cd-4b33-8691-e0a77f06b326",
   "metadata": {
    "tags": []
   },
   "outputs": [
    {
     "name": "stdout",
     "output_type": "stream",
     "text": [
      "PLINK v1.90b6.21 64-bit (19 Oct 2020)          www.cog-genomics.org/plink/1.9/\n",
      "(C) 2005-2020 Shaun Purcell, Christopher Chang   GNU General Public License v3\n",
      "Logging to Results/GWAS3/HapMap_3_r3_2.log.\n",
      "Options in effect:\n",
      "  --bfile Data/HapMap_3_r3_1\n",
      "  --geno .02\n",
      "  --make-bed\n",
      "  --mind .2\n",
      "  --out Results/GWAS3/HapMap_3_r3_2\n",
      "\n",
      "385572 MB RAM detected; reserving 192786 MB for main workspace.\n",
      "1457897 variants loaded from .bim file.\n",
      "165 people (80 males, 85 females) loaded from .fam.\n",
      "112 phenotype values loaded from .fam.\n",
      "0 people removed due to missing genotype data (--mind).\n",
      "Using 1 thread (no multithreaded calculations invoked).\n",
      "Before main variant filters, 112 founders and 53 nonfounders present.\n",
      "Calculating allele frequencies... 10111213141516171819202122232425262728293031323334353637383940414243444546474849505152535455565758596061626364656667686970717273747576777879808182838485868788899091929394959697989 done.\n",
      "Warning: 225 het. haploid genotypes present (see Results/GWAS3/HapMap_3_r3_2.hh\n",
      "); many commands treat these as missing.\n",
      "Total genotyping rate is 0.997378.\n",
      "27454 variants removed due to missing genotype data (--geno).\n",
      "1430443 variants and 165 people pass filters and QC.\n",
      "Among remaining phenotypes, 56 are cases and 56 are controls.  (53 phenotypes\n",
      "are missing.)\n",
      "--make-bed to Results/GWAS3/HapMap_3_r3_2.bed + Results/GWAS3/HapMap_3_r3_2.bim\n",
      "+ Results/GWAS3/HapMap_3_r3_2.fam ... 101112131415161718192021222324252627282930313233343536373839404142434445464748495051525354555657585960616263646566676869707172737475767778798081828384858687888990919293949596979899done.\n"
     ]
    }
   ],
   "source": [
    "# Delete SNPs and individuals with high levels of missingness\n",
    "\n",
    "# The following two QC commands will not remove any SNPs or individuals. However, it is good practice \n",
    "# to start the QC with these non-stringent thresholds.  \n",
    "\n",
    "# Delete samples with missing call freq >0.2 and SNPs with missingness >0.02\n",
    "plink --bfile Data/HapMap_3_r3_1 --mind .2 --geno .02 --make-bed --out Results/GWAS3/HapMap_3_r3_2"
   ]
  },
  {
   "cell_type": "markdown",
   "id": "a06ceb36",
   "metadata": {},
   "source": [
    "***\n",
    "\n",
    "# Sex Discrepancy\n",
    "\n",
    "One check that is worth running is a check if the indicated genders are correct. You can check this using PLINK to calculate the inbreeding coefficient on the X chromosome under the assumption that it is an autosomal chromosome. The reason why this is interesting is that, for technical reasons PLINK represents haploid chromosomes, such as X for males, as homozygotes. So assuming the X is an autosomal chromosome will make the males look very inbred on the X where as the woman won't (since they are diploid on the X chromosome). This means that the inbreeding coefficient estimates you get will be close to 1 for men and close to 0 for women.\n",
    "\n",
    "## Commands\n",
    "\n",
    "This gender check can be performed in PLINK using the `--check-sex` option. The results are outputted in the file `plink.sexcheck` (in the results folder) in which the gender is in column `PEDSEX` (1 means male and 2 means female) and the inbreeding coefficient is in column `F`).\n",
    "\n",
    "Generally, Males should have an X chromosome homozygosity estimate >0.8 and females should have a value <0.2. So we could simply remove any individuals where homozygosity estimate (F) does not match their specified sex."
   ]
  },
  {
   "cell_type": "code",
   "execution_count": 4,
   "id": "bc02622c",
   "metadata": {
    "tags": []
   },
   "outputs": [
    {
     "name": "stdout",
     "output_type": "stream",
     "text": [
      "PLINK v1.90b6.21 64-bit (19 Oct 2020)          www.cog-genomics.org/plink/1.9/\n",
      "(C) 2005-2020 Shaun Purcell, Christopher Chang   GNU General Public License v3\n",
      "Logging to Results/GWAS3/HapMap_3_r3_2.log.\n",
      "Options in effect:\n",
      "  --bfile Results/GWAS3/HapMap_3_r3_2\n",
      "  --check-sex\n",
      "  --out Results/GWAS3/HapMap_3_r3_2\n",
      "\n",
      "385572 MB RAM detected; reserving 192786 MB for main workspace.\n",
      "1430443 variants loaded from .bim file.\n",
      "165 people (80 males, 85 females) loaded from .fam.\n",
      "112 phenotype values loaded from .fam.\n",
      "Using 1 thread (no multithreaded calculations invoked).\n",
      "Before main variant filters, 112 founders and 53 nonfounders present.\n",
      "Calculating allele frequencies... 10111213141516171819202122232425262728293031323334353637383940414243444546474849505152535455565758596061626364656667686970717273747576777879808182838485868788899091929394959697989 done.\n",
      "Warning: 179 het. haploid genotypes present (see Results/GWAS3/HapMap_3_r3_2.hh\n",
      "); many commands treat these as missing.\n",
      "Total genotyping rate is 0.997899.\n",
      "1430443 variants and 165 people pass filters and QC.\n",
      "Among remaining phenotypes, 56 are cases and 56 are controls.  (53 phenotypes\n",
      "are missing.)\n",
      "--check-sex: 23424 Xchr and 0 Ychr variant(s) scanned, 1 problem detected.\n",
      "Report written to Results/GWAS3/HapMap_3_r3_2.sexcheck .\n"
     ]
    }
   ],
   "source": [
    "### Step 2 - Sex Discrepency ####\n",
    "\n",
    "# Subjects who were a priori determined as females must have a F value of <0.2, \n",
    "# and subjects who were a priori determined as males must have a F value >0.8. \n",
    "# This F value is based on the X chromosome inbreeding (homozygosity) estimate.\n",
    "# Subjects who do not fulfil these requirements are flagged \"PROBLEM\" by PLINK.\n",
    "\n",
    "plink --bfile Results/GWAS3/HapMap_3_r3_2 --check-sex --out Results/GWAS3/HapMap_3_r3_2"
   ]
  },
  {
   "cell_type": "markdown",
   "id": "8fb8b86b",
   "metadata": {},
   "source": [
    "<img src=\"Images/R.png\" alt=\"R\" width=\"40\">   We can visualise the results of the sex check by plotting three histograms for the F values in males, females and all samples:"
   ]
  },
  {
   "cell_type": "code",
   "execution_count": 6,
   "id": "2c5ca99e",
   "metadata": {
    "tags": []
   },
   "outputs": [
    {
     "name": "stdout",
     "output_type": "stream",
     "text": [
      "Warning message:\n",
      "package ‘ggplot2’ was built under R version 4.1.3 \n",
      "Saving 7 x 7 in image\n",
      "`stat_bin()` using `bins = 30`. Pick better value with `binwidth`.\n",
      "Saving 7 x 7 in image\n",
      "`stat_bin()` using `bins = 30`. Pick better value with `binwidth`.\n",
      "Saving 7 x 7 in image\n",
      "`stat_bin()` using `bins = 30`. Pick better value with `binwidth`.\n"
     ]
    }
   ],
   "source": [
    "# Generate plots to visualize the sex-check results.\n",
    "#Rscript --no-save Data/gender_check.R > /dev/null"
   ]
  },
  {
   "cell_type": "code",
   "execution_count": 5,
   "id": "8ca49591-e1f1-4766-9dc9-3bf66670ba92",
   "metadata": {},
   "outputs": [
    {
     "name": "stderr",
     "output_type": "stream",
     "text": [
      "`stat_bin()` using `bins = 30`. Pick better value with `binwidth`.\n",
      "`stat_bin()` using `bins = 30`. Pick better value with `binwidth`.\n"
     ]
    },
    {
     "data": {
      "image/png": "[encoded data removed]",
      "text/plain": [
       "plot without title"
      ]
     },
     "metadata": {},
     "output_type": "display_data",
     "source": "R display func"
    },
    {
     "name": "stderr",
     "output_type": "stream",
     "text": [
      "`stat_bin()` using `bins = 30`. Pick better value with `binwidth`.\n"
     ]
    },
    {
     "data": {
      "image/png": "[encoded data removed]",
      "text/plain": [
       "plot without title"
      ]
     },
     "metadata": {},
     "output_type": "display_data",
     "source": "R display func"
    },
    {
     "name": "stderr",
     "output_type": "stream",
     "text": [
      "Saving 6.67 x 6.67 in image\n",
      "`stat_bin()` using `bins = 30`. Pick better value with `binwidth`.\n",
      "Saving 6.67 x 6.67 in image\n",
      "`stat_bin()` using `bins = 30`. Pick better value with `binwidth`.\n",
      "Saving 6.67 x 6.67 in image\n",
      "`stat_bin()` using `bins = 30`. Pick better value with `binwidth`.\n"
     ]
    },
    {
     "data": {
      "image/png": "[encoded data removed]",
      "text/plain": [
       "plot without title"
      ]
     },
     "metadata": {},
     "output_type": "display_data",
     "source": "R display func"
    }
   ],
   "source": [
    "#| label: fig-F\n",
    "#| fig-cap: \"inbreeding coefficients for all genders and for males/females separately.\"\n",
    "\n",
    "library(ggplot2)\n",
    "options(repr.plot.width = 9, repr.plot.height = 4)\n",
    "\n",
    "# Read data into R\n",
    "gender <- read.table(\"Results/GWAS3/HapMap_3_r3_2.sexcheck\", header=T,as.is=T)\n",
    "male <- subset(gender, gender$PEDSEX==1)\n",
    "female <- subset(gender, gender$PEDSEX==2)\n",
    "\n",
    "# plink.imiss histogram\n",
    "hist.gender <- ggplot(gender, aes(x=gender[,6])) +\n",
    "  geom_histogram(col = \"black\", fill=\"tomato\") + \n",
    "  labs(title = \"Values of F for all sexes\") + \n",
    "  xlab(\"F\") + \n",
    "  theme_bw()\n",
    "\n",
    "# plink.imiss histogram\n",
    "hist.male <- ggplot(male, aes(x=male[,6])) +\n",
    "  geom_histogram(col = \"black\", fill=\"tomato\") + \n",
    "  labs(title = \"Values of F for Male\") + \n",
    "  xlab(\"F\") + \n",
    "  theme_bw()\n",
    "\n",
    "\n",
    "# plink.imiss histogram\n",
    "hist.female <- ggplot(female, aes(x=female[,6])) +\n",
    "  geom_histogram(col = \"black\", fill=\"tomato\") + \n",
    "  labs(title = \"Values of F for Female\") + \n",
    "  xlab(\"F\") + \n",
    "  theme_bw()\n",
    "\n",
    "show(hist.gender)\n",
    "show(hist.male)\n",
    "show(hist.female)\n",
    "\n",
    "# Save plots \n",
    "ggsave(plot=hist.gender, filename=\"Results/GWAS3/histgender.png\")\n",
    "ggsave(plot=hist.male, filename=\"Results/GWAS3/histmale.png\")\n",
    "ggsave(plot=hist.female, filename=\"Results/GWAS3/histfemale.png\")"
   ]
  },
  {
   "cell_type": "markdown",
   "id": "054fc475",
   "metadata": {},
   "source": [
    "The inbreeding coefficient plot of @fig-F indicates that there is one woman with a sex discrepancy, with an F value of 0.99. When using other datasets often a few discrepancies will be found. \n",
    "\n",
    "We have two options when dealing with sex discrepency. One is to simply remove any individual with sex discrepency. In our case, this would involve removing the female with an F value of 0.99. \n",
    "\n",
    "<img src=\"Images/bash.png\" alt=\"bash\" width=\"40\">   Removal can be done with the command below. We use `grep` to find the lines containin `PROBLEM` in the sexcheck file. The output is sent to another command (using the so-called pipe symbol `|`) called `awk`. `awk` prints out the first two columns of each line from `grep` into the file `sex_discrepancy.txt` through the symbol `>`, which redirects the output somewhere else than the screen itself."
   ]
  },
  {
   "cell_type": "code",
   "execution_count": 2,
   "id": "57f544c6",
   "metadata": {
    "tags": []
   },
   "outputs": [],
   "source": [
    "# 1) Delete individuals with sex discrepancy.\n",
    "\n",
    "# Generate a list of individuals with the status PROBLEM\n",
    "grep \"PROBLEM\" Results/GWAS3/HapMap_3_r3_2.sexcheck | awk '{print$1,$2}'> Results/GWAS3/sex_discrepancy.txt"
   ]
  },
  {
   "cell_type": "markdown",
   "id": "66aa4ebf-7ffe-4f96-a6db-6b2c151d0aca",
   "metadata": {},
   "source": [
    "Using `cat` you can show the file, where you see only one individual."
   ]
  },
  {
   "cell_type": "code",
   "execution_count": 4,
   "id": "3e151a47-8fc2-4931-823f-40e2732b076b",
   "metadata": {},
   "outputs": [
    {
     "name": "stdout",
     "output_type": "stream",
     "text": [
      "1349 NA10854\n"
     ]
    }
   ],
   "source": [
    "cat Results/GWAS3/sex_discrepancy.txt"
   ]
  },
  {
   "cell_type": "markdown",
   "id": "700b47a6",
   "metadata": {},
   "source": [
    "For long files, you can simply count the number of lines in the file with `wc`"
   ]
  },
  {
   "cell_type": "code",
   "execution_count": 6,
   "id": "a9ca1c0b",
   "metadata": {
    "tags": []
   },
   "outputs": [
    {
     "name": "stdout",
     "output_type": "stream",
     "text": [
      "1 Results/GWAS3/sex_discrepancy.txt\n"
     ]
    }
   ],
   "source": [
    "# Read the list of individuals with the status PROBLEM\n",
    "wc -l Results/GWAS3/sex_discrepancy.txt"
   ]
  },
  {
   "cell_type": "markdown",
   "id": "c2b73cb8",
   "metadata": {},
   "source": [
    "The file can be provided to PLINK for removal using the option `--remove`:"
   ]
  },
  {
   "cell_type": "code",
   "execution_count": 7,
   "id": "5c10a26c",
   "metadata": {
    "tags": []
   },
   "outputs": [
    {
     "name": "stdout",
     "output_type": "stream",
     "text": [
      "PLINK v1.90b6.21 64-bit (19 Oct 2020)          www.cog-genomics.org/plink/1.9/\n",
      "(C) 2005-2020 Shaun Purcell, Christopher Chang   GNU General Public License v3\n",
      "Logging to Results/GWAS3/HapMap_3_r3_3.log.\n",
      "Options in effect:\n",
      "  --bfile Results/GWAS3/HapMap_3_r3_2\n",
      "  --make-bed\n",
      "  --out Results/GWAS3/HapMap_3_r3_3\n",
      "  --remove Results/GWAS3/sex_discrepancy.txt\n",
      "\n",
      "385572 MB RAM detected; reserving 192786 MB for main workspace.\n",
      "1430443 variants loaded from .bim file.\n",
      "165 people (80 males, 85 females) loaded from .fam.\n",
      "112 phenotype values loaded from .fam.\n",
      "--remove: 164 people remaining.\n",
      "Using 1 thread (no multithreaded calculations invoked).\n",
      "Before main variant filters, 112 founders and 52 nonfounders present.\n",
      "Calculating allele frequencies... 10111213141516171819202122232425262728293031323334353637383940414243444546474849505152535455565758596061626364656667686970717273747576777879808182838485868788899091929394959697989 done.\n",
      "Warning: 179 het. haploid genotypes present (see Results/GWAS3/HapMap_3_r3_3.hh\n",
      "); many commands treat these as missing.\n",
      "Total genotyping rate in remaining samples is 0.99798.\n",
      "1430443 variants and 164 people pass filters and QC.\n",
      "Among remaining phenotypes, 56 are cases and 56 are controls.  (52 phenotypes\n",
      "are missing.)\n",
      "--make-bed to Results/GWAS3/HapMap_3_r3_3.bed + Results/GWAS3/HapMap_3_r3_3.bim\n",
      "+ Results/GWAS3/HapMap_3_r3_3.fam ... 101112131415161718192021222324252627282930313233343536373839404142434445464748495051525354555657585960616263646566676869707172737475767778798081828384858687888990919293949596979899done.\n"
     ]
    }
   ],
   "source": [
    "# Remove the list of individuals with the status PROBLEM.\n",
    "plink --bfile Results/GWAS3/HapMap_3_r3_2 --remove Results/GWAS3/sex_discrepancy.txt --make-bed --out Results/GWAS3/HapMap_3_r3_3"
   ]
  },
  {
   "cell_type": "markdown",
   "id": "32882b66",
   "metadata": {},
   "source": [
    "Another method is to impute the sex codes based on the SNP data, which is done with the command `--impute-sex`. We are not executing the command below and will keep only the dataset where we filtered out the wrong gender. PLINK finds out automatically how to impute wrong genders, so you need just to type the extra option into it."
   ]
  },
  {
   "cell_type": "code",
   "execution_count": 8,
   "id": "b6417d5d",
   "metadata": {
    "tags": []
   },
   "outputs": [],
   "source": [
    "#plink --bfile Results/GWAS3/HapMap_3_r3_2 --impute-sex --make-bed --out Results/GWAS3/HapMap_3_r3_3"
   ]
  },
  {
   "cell_type": "markdown",
   "id": "d5990d70",
   "metadata": {},
   "source": [
    "# Minor Allele Frequency (MAF)\n",
    "\n",
    "Excluding SNPs on the basis of minor allele frequency is somewhat controversial. In a sense, it has little to do with quality control – there is no reason to think there are any errors in the data. The main justification is statistical:\n",
    "\n",
    "If MAF is low, power is low (i.e. don’t spend multiple testing corrections on tests that are unlikely to find anything anyway). Some statistical methods perform badly with low MAF (e.g. the chi-squared-test).\n",
    "\n",
    "An appropriate cutoff definitely depends on sample size – the larger the sample, the greater your ability to include rare SNPs.\n",
    "\n",
    "## Command\n",
    "\n",
    "Limitations on the minor allele frequencies are done in a similar way to previous commands. If you want to get rid only of the fixed SNPs, you specify a MAF threshold of 0, which can be done by the command `--maf 0`. One should limit MAF analysis to autosomal chromosomes only.\n",
    "\n",
    "First, we generate a subset of our data to only contain autosomal chromosomes. This is done by printing the SNP identifiers out of chromosomes 1 to 22 with `awk`, whose output is sent to file `snp_1_22.txt`. Then, PLINK can extract those SNPs using the option `--extract`."
   ]
  },
  {
   "cell_type": "code",
   "execution_count": 11,
   "id": "80174ebb",
   "metadata": {
    "tags": []
   },
   "outputs": [
    {
     "name": "stdout",
     "output_type": "stream",
     "text": [
      "PLINK v1.90b6.21 64-bit (19 Oct 2020)          www.cog-genomics.org/plink/1.9/\n",
      "(C) 2005-2020 Shaun Purcell, Christopher Chang   GNU General Public License v3\n",
      "Logging to Results/GWAS3/HapMap_3_r3_4.log.\n",
      "Options in effect:\n",
      "  --bfile Results/GWAS3/HapMap_3_r3_3\n",
      "  --extract Results/GWAS3/snp_1_22.txt\n",
      "  --make-bed\n",
      "  --out Results/GWAS3/HapMap_3_r3_4\n",
      "\n",
      "385572 MB RAM detected; reserving 192786 MB for main workspace.\n",
      "1430443 variants loaded from .bim file.\n",
      "164 people (80 males, 84 females) loaded from .fam.\n",
      "112 phenotype values loaded from .fam.\n",
      "--extract: 1398544 variants remaining.\n",
      "Using 1 thread (no multithreaded calculations invoked).\n",
      "Before main variant filters, 112 founders and 52 nonfounders present.\n",
      "Calculating allele frequencies... 10111213141516171819202122232425262728293031323334353637383940414243444546474849505152535455565758596061626364656667686970717273747576777879808182838485868788899091929394959697989 done.\n",
      "Total genotyping rate is 0.998052.\n",
      "1398544 variants and 164 people pass filters and QC.\n",
      "Among remaining phenotypes, 56 are cases and 56 are controls.  (52 phenotypes\n",
      "are missing.)\n",
      "--make-bed to Results/GWAS3/HapMap_3_r3_4.bed + Results/GWAS3/HapMap_3_r3_4.bim\n",
      "+ Results/GWAS3/HapMap_3_r3_4.fam ... 101112131415161718192021222324252627282930313233343536373839404142434445464748495051525354555657585960616263646566676869707172737475767778798081828384858687888990919293949596979899done.\n"
     ]
    }
   ],
   "source": [
    "awk '{ if ($1 >= 1 && $1 <= 22) print $2 }' Results/GWAS3/HapMap_3_r3_3.bim > Results/GWAS3/snp_1_22.txt\n",
    "plink --bfile Results/GWAS3/HapMap_3_r3_3 --extract Results/GWAS3/snp_1_22.txt --make-bed --out Results/GWAS3/HapMap_3_r3_4"
   ]
  },
  {
   "cell_type": "markdown",
   "id": "dcb8be79",
   "metadata": {},
   "source": [
    "Now that we have a set of files with autosomal chromosomes only, we should have a look at the summary statistics for the minor allele frequency, and plot the values on a histogram. We use PLINK to print out the MAF with the option `--freq`."
   ]
  },
  {
   "cell_type": "code",
   "execution_count": 12,
   "id": "d7fe20f4",
   "metadata": {
    "tags": []
   },
   "outputs": [
    {
     "name": "stdout",
     "output_type": "stream",
     "text": [
      "PLINK v1.90b6.21 64-bit (19 Oct 2020)          www.cog-genomics.org/plink/1.9/\n",
      "(C) 2005-2020 Shaun Purcell, Christopher Chang   GNU General Public License v3\n",
      "Logging to Results/GWAS3/MAF_check.log.\n",
      "Options in effect:\n",
      "  --bfile Results/GWAS3/HapMap_3_r3_4\n",
      "  --freq\n",
      "  --out Results/GWAS3/MAF_check\n",
      "\n",
      "385572 MB RAM detected; reserving 192786 MB for main workspace.\n",
      "1398544 variants loaded from .bim file.\n",
      "164 people (80 males, 84 females) loaded from .fam.\n",
      "112 phenotype values loaded from .fam.\n",
      "Using 1 thread (no multithreaded calculations invoked).\n",
      "Before main variant filters, 112 founders and 52 nonfounders present.\n",
      "Calculating allele frequencies... 10111213141516171819202122232425262728293031323334353637383940414243444546474849505152535455565758596061626364656667686970717273747576777879808182838485868788899091929394959697989 done.\n",
      "Total genotyping rate is 0.998052.\n",
      "--freq: Allele frequencies (founders only) written to\n",
      "Results/GWAS3/MAF_check.frq .\n"
     ]
    }
   ],
   "source": [
    "# Generate a plot of the MAF distribution.\n",
    "plink --bfile Results/GWAS3/HapMap_3_r3_4 --freq --out Results/GWAS3/MAF_check"
   ]
  },
  {
   "cell_type": "markdown",
   "id": "530c817e-ccb1-491b-9ad2-5ce36e2d5538",
   "metadata": {},
   "source": [
    "<img src=\"Images/R.png\" alt=\"R\" width=\"40\"> And we plot with `R` the MAF histogram. We zoom also into the histogram to observe the lowest side of the horizontal axis."
   ]
  },
  {
   "cell_type": "code",
   "execution_count": 1,
   "id": "c8e23649-69c5-4bc1-a4c3-5f47c113f947",
   "metadata": {
    "tags": []
   },
   "outputs": [
    {
     "name": "stderr",
     "output_type": "stream",
     "text": [
      "`stat_bin()` using `bins = 30`. Pick better value with `binwidth`.\n",
      "Warning message:\n",
      "“Removed 929441 rows containing non-finite values (stat_bin).”Warning message:\n",
      "“Removed 1 rows containing missing values (geom_bar).”"
     ]
    },
    {
     "data": {
      "image/png": "[encoded data removed]",
      "text/plain": [
       "plot without title"
      ]
     },
     "metadata": {},
     "output_type": "display_data",
     "source": "R display func"
    },
    {
     "name": "stderr",
     "output_type": "stream",
     "text": [
      "Saving 6.67 x 6.67 in image\n",
      "`stat_bin()` using `bins = 30`. Pick better value with `binwidth`.\n"
     ]
    },
    {
     "data": {
      "image/png": "[encoded data removed]",
      "text/plain": [
       "plot without title"
      ]
     },
     "metadata": {},
     "output_type": "display_data",
     "source": "R display func"
    }
   ],
   "source": [
    "#| label: fig-MAF\n",
    "#| fig-cap: \"MAF plot for the autosomal SNPs only. Note the zoomed interval (0, 0.1)\"\n",
    "\n",
    "library(ggplot2)\n",
    "options(repr.plot.width = 9, repr.plot.height = 4)\n",
    "\n",
    "# Read data into R \n",
    "maf_freq <- read.table(\"Results/GWAS3/MAF_check.frq\", header =TRUE, as.is=T)\n",
    "\n",
    "# maf_freq histogram\n",
    "hist.maf <- ggplot(maf_freq, aes(x=maf_freq[,5])) +\n",
    "  geom_histogram(col = \"black\", fill=\"tomato\") + \n",
    "  labs(title = \"MAF distribution\") + \n",
    "  xlab(\"MAF\") + \n",
    "  ylab(\"Frequency\") +\n",
    "  theme_bw()\n",
    "\n",
    "hist.maf.zoom <- ggplot(maf_freq, aes(x=maf_freq[,5])) +\n",
    "  geom_histogram(col = \"black\", fill=\"tomato\", bins = 10) + \n",
    "  labs(title = \"Zoom into MAF distribution up to value 0.1\") + \n",
    "  xlab(\"MAF\") + \n",
    "  ylab(\"Frequency\") +\n",
    "  xlim(-.01, 0.1) +\n",
    "  theme_bw()\n",
    "\n",
    "\n",
    "show(hist.maf)\n",
    "show(hist.maf.zoom)\n",
    "\n",
    "# Save plots \n",
    "ggsave(plot=hist.maf, filename=\"Results/GWAS3/histmaf.png\")"
   ]
  },
  {
   "cell_type": "markdown",
   "id": "0b5a7c8d",
   "metadata": {},
   "source": [
    "<img src=\"Images/bash.png\" alt=\"bash\" width=\"40\"> As stated above, your MAF threshold depends on sample size, though a conventional MAF threshold for a regular GWAS is between 0.01 or 0.05. Here it could make sense to chose 0.02, but to be sure we include only SNPs will apply an MAF threshold of 0.05 (that is, remove SNPs where the Minor Allele Frequency is 5% or less). The threshold is given with the option `--maf`:"
   ]
  },
  {
   "cell_type": "code",
   "execution_count": 1,
   "id": "465be532",
   "metadata": {
    "tags": []
   },
   "outputs": [
    {
     "name": "stdout",
     "output_type": "stream",
     "text": [
      "PLINK v1.90b6.21 64-bit (19 Oct 2020)          www.cog-genomics.org/plink/1.9/\n",
      "(C) 2005-2020 Shaun Purcell, Christopher Chang   GNU General Public License v3\n",
      "Logging to Results/GWAS3/HapMap_3_r3_5.log.\n",
      "Options in effect:\n",
      "  --bfile Results/GWAS3/HapMap_3_r3_4\n",
      "  --maf 0.05\n",
      "  --make-bed\n",
      "  --out Results/GWAS3/HapMap_3_r3_5\n",
      "\n",
      "385572 MB RAM detected; reserving 192786 MB for main workspace.\n",
      "1398544 variants loaded from .bim file.\n",
      "164 people (80 males, 84 females) loaded from .fam.\n",
      "112 phenotype values loaded from .fam.\n",
      "Using 1 thread (no multithreaded calculations invoked).\n",
      "Before main variant filters, 112 founders and 52 nonfounders present.\n",
      "Calculating allele frequencies... 10111213141516171819202122232425262728293031323334353637383940414243444546474849505152535455565758596061626364656667686970717273747576777879808182838485868788899091929394959697989 done.\n",
      "Total genotyping rate is 0.998052.\n",
      "325318 variants removed due to minor allele threshold(s)\n",
      "(--maf/--max-maf/--mac/--max-mac).\n",
      "1073226 variants and 164 people pass filters and QC.\n",
      "Among remaining phenotypes, 56 are cases and 56 are controls.  (52 phenotypes\n",
      "are missing.)\n",
      "--make-bed to Results/GWAS3/HapMap_3_r3_5.bed + Results/GWAS3/HapMap_3_r3_5.bim\n",
      "+ Results/GWAS3/HapMap_3_r3_5.fam ... 101112131415161718192021222324252627282930313233343536373839404142434445464748495051525354555657585960616263646566676869707172737475767778798081828384858687888990919293949596979899done.\n"
     ]
    }
   ],
   "source": [
    "# Remove SNPs with a low MAF frequency.\n",
    "plink --bfile Results/GWAS3/HapMap_3_r3_4 --maf 0.05 --make-bed --out Results/GWAS3/HapMap_3_r3_5"
   ]
  },
  {
   "cell_type": "markdown",
   "id": "124b254e",
   "metadata": {},
   "source": [
    "We can see from the output that 1073226 SNPs are left in our QC'd dataset. \n",
    "\n",
    "It is worth noting that no matter what the sample size, monomorphic SNPs (i.e., SNPs that show no genetic variation whatsoever in the sample) are usually problematic and should always be removed. Some code crashes when monomorphic SNPs are included; even if this weren’t the case, these SNPs cannot possibly be informative in a genome-wide association study."
   ]
  },
  {
   "cell_type": "markdown",
   "id": "804137f3",
   "metadata": {},
   "source": [
    "# Hardy-Weinberg Equilibrium (HWE)"
   ]
  },
  {
   "cell_type": "markdown",
   "id": "3450fe19",
   "metadata": {},
   "source": [
    "The Hardy-Weinberg rule from population genetics states that genetic variation (thus allele and genotype frequencies) in a population will remain constant unless certain disturbing elements are introduced. This also means that when we know the allele frequencies for $p$ and $q$, the genotype frequencies will be defined as $p^2$, $2pq$, and $q^2$.\n",
    "\n",
    "Let's say the frequency of allele A ($p$ in the equation)is 0.4, and that of allele B (q in the equation) is 0.6. This means for the H-W scenario the genotype frequencies will be 0.16 for AA, 0.48 for AB, and 0.36 for BB. This also means that in a population of e.g. 1000 individuals with the mentioned allele frequencies we expect to see 160 AA, 480 AB, and 360 BB individuals. Of course, we rarely see exact H-W distributions in real populations. The question then becomes, what is the extent of the difference between the expected H-W proportions in each SNP, and the observed proportions in the reality? There are typically two reasons why a SNP is not in HWE:\n",
    "\n",
    "* There was a genotyping error for this SNP\n",
    "* Mating is not random\n",
    "\n",
    "In the real world, mating is of course not random, making it difficult to exclude SNPs on the basis of HWE. The usual recommendation is to exclude a SNP only if HWE is hugely violated (e.g., p-value p<10−10 for a statistical test of whether the data follow a binomial distribution)."
   ]
  },
  {
   "cell_type": "markdown",
   "id": "13184de9",
   "metadata": {},
   "source": [
    "## Command\n",
    "\n",
    "We can use the option `--hardy` to generate H-W p-values (as well as observed and expected heterozygosity). We use also `awk` to select SNPs with HWE p-value below 0.0001, which are strongly deviating from H-W equilibrium."
   ]
  },
  {
   "cell_type": "code",
   "execution_count": 1,
   "id": "67839627",
   "metadata": {
    "scrolled": true,
    "tags": []
   },
   "outputs": [
    {
     "name": "stdout",
     "output_type": "stream",
     "text": [
      "PLINK v1.90b6.21 64-bit (19 Oct 2020)          www.cog-genomics.org/plink/1.9/\n",
      "(C) 2005-2020 Shaun Purcell, Christopher Chang   GNU General Public License v3\n",
      "Logging to Results/GWAS3/HapMap_3_r3_5.log.\n",
      "Options in effect:\n",
      "  --bfile Results/GWAS3/HapMap_3_r3_5\n",
      "  --hardy\n",
      "  --out Results/GWAS3/HapMap_3_r3_5\n",
      "\n",
      "385572 MB RAM detected; reserving 192786 MB for main workspace.\n",
      "1073226 variants loaded from .bim file.\n",
      "164 people (80 males, 84 females) loaded from .fam.\n",
      "112 phenotype values loaded from .fam.\n",
      "Using 1 thread (no multithreaded calculations invoked).\n",
      "Before main variant filters, 112 founders and 52 nonfounders present.\n",
      "Calculating allele frequencies... 10111213141516171819202122232425262728293031323334353637383940414243444546474849505152535455565758596061626364656667686970717273747576777879808182838485868788899091929394959697989 done.\n",
      "Total genotyping rate is 0.998039.\n",
      "--hardy: Writing Hardy-Weinberg report (founders only) to\n",
      "Results/GWAS3/HapMap_3_r3_5.hwe ... 101112131415161718192021222324252627282930313233343536373839404142434445464748495051525354555657585960616263646566676869707172737475767778798081828384858687888990919293949596979899done.\n"
     ]
    }
   ],
   "source": [
    "plink --bfile Results/GWAS3/HapMap_3_r3_5 --hardy --out Results/GWAS3/HapMap_3_r3_5\n",
    "\n",
    "awk '{ if ($9 <0.00001) print $0 }' Results/GWAS3/HapMap_3_r3_5.hwe > Results/GWAS3/HapMap_3_r3_5.deviating.hwe"
   ]
  },
  {
   "cell_type": "markdown",
   "id": "204571e2-90a7-4615-baf3-ef1d237dfb01",
   "metadata": {},
   "source": [
    "<img src=\"Images/R.png\" alt=\"R\" width=\"40\"> Now we plot a histogram of the HWE p-values and zoom in for the deviating p-values. We first read in the data and look at the table from the HWE test in PLINK. When you use the `--hardy` option in PLINK, the columns in the output file typically include the following:\n",
    "\n",
    "- CHR: Chromosome number.\n",
    "- SNP: SNP identifier (rsID).\n",
    "- TEST: Type of HWE test performed. This will usually be \"UNAFF\" for the test on controls if your data has case/control status.\n",
    "- A1: First allele (reference allele).\n",
    "- A2: Second allele (alternate allele).\n",
    "- GENO: Genotype counts in the format \"HOM1/HET/HOM2\", where HOM1 is the count of homozygous for the first allele, HET is the count of heterozygous, and HOM2 is the - count of homozygous for the second allele.\n",
    "- O(HET): Observed heterozygote frequency.\n",
    "- E(HET): Expected heterozygote frequency.\n",
    "- P: Hardy-Weinberg equilibrium exact test p-value.\n",
    "  \n",
    "we change the factors in the column `TEST` to have nicer names in the plots, and save them in the column Phenotype."
   ]
  },
  {
   "cell_type": "code",
   "execution_count": 3,
   "id": "abe983c3-2cde-453c-9f32-118e2fcca040",
   "metadata": {},
   "outputs": [
    {
     "name": "stderr",
     "output_type": "stream",
     "text": [
      "\n",
      "Attaching package: ‘dplyr’\n",
      "\n",
      "The following objects are masked from ‘package:stats’:\n",
      "\n",
      "    filter, lag\n",
      "\n",
      "The following objects are masked from ‘package:base’:\n",
      "\n",
      "    intersect, setdiff, setequal, union\n",
      "\n"
     ]
    }
   ],
   "source": [
    "# Read data into R \n",
    "library(dplyr)\n",
    "\n",
    "hwe <- read.table(file=\"Results/GWAS3/HapMap_3_r3_5.hwe\", header=TRUE)\n",
    "hwe_zoom <- read.table(file=\"Results/GWAS3/HapMap_3_r3_5.deviating.hwe\", header=FALSE)\n",
    "colnames(hwe_zoom) <- colnames(hwe)\n",
    "hwe$Phenotype <- recode(hwe$TEST, \"ALL\"=\"All\", \"UNAFF\"=\"Control\", \"AFF\"=\"Non-Control\")\n",
    "hwe_zoom$Phenotype <- recode(hwe_zoom$TEST, \"ALL\"=\"All\", \"UNAFF\"=\"Control\", \"AFF\"=\"Non-Control\")"
   ]
  },
  {
   "cell_type": "markdown",
   "id": "12f7b311-1049-47fb-bedd-f616625538dd",
   "metadata": {},
   "source": [
    "Here you can see the first rows of the two tables"
   ]
  },
  {
   "cell_type": "code",
   "execution_count": 4,
   "id": "74418d2d-22de-4162-8144-5e5360f211be",
   "metadata": {},
   "outputs": [
    {
     "data": {
      "text/html": [
       "<table>\n",
       "<thead><tr><th scope=col>CHR</th><th scope=col>SNP</th><th scope=col>TEST</th><th scope=col>A1</th><th scope=col>A2</th><th scope=col>GENO</th><th scope=col>O.HET.</th><th scope=col>E.HET.</th><th scope=col>P</th><th scope=col>Phenotype</th></tr></thead>\n",
       "<tbody>\n",
       "\t<tr><td>1          </td><td>rs3131972  </td><td>ALL        </td><td>A          </td><td>G          </td><td>2/33/77    </td><td>0.2946     </td><td>0.2758     </td><td>0.7324     </td><td>All        </td></tr>\n",
       "\t<tr><td>1          </td><td>rs3131972  </td><td>AFF        </td><td>A          </td><td>G          </td><td>1/19/36    </td><td>0.3393     </td><td>0.3047     </td><td>0.6670     </td><td>Non-Control</td></tr>\n",
       "\t<tr><td>1          </td><td>rs3131972  </td><td>UNAFF      </td><td>A          </td><td>G          </td><td>1/14/41    </td><td>0.2500     </td><td>0.2449     </td><td>1.0000     </td><td>Control    </td></tr>\n",
       "\t<tr><td>1          </td><td>rs3131969  </td><td>ALL        </td><td>A          </td><td>G          </td><td>2/26/84    </td><td>0.2321     </td><td>0.2320     </td><td>1.0000     </td><td>All        </td></tr>\n",
       "\t<tr><td>1          </td><td>rs3131969  </td><td>AFF        </td><td>A          </td><td>G          </td><td>1/17/38    </td><td>0.3036     </td><td>0.2817     </td><td>1.0000     </td><td>Non-Control</td></tr>\n",
       "\t<tr><td>1          </td><td>rs3131969  </td><td>UNAFF      </td><td>A          </td><td>G          </td><td>1/9/46     </td><td>0.1607     </td><td>0.1771     </td><td>0.4189     </td><td>Control    </td></tr>\n",
       "</tbody>\n",
       "</table>\n"
      ],
      "text/latex": [
       "\\begin{tabular}{r|llllllllll}\n",
       " CHR & SNP & TEST & A1 & A2 & GENO & O.HET. & E.HET. & P & Phenotype\\\\\n",
       "\\hline\n",
       "\t 1           & rs3131972   & ALL         & A           & G           & 2/33/77     & 0.2946      & 0.2758      & 0.7324      & All        \\\\\n",
       "\t 1           & rs3131972   & AFF         & A           & G           & 1/19/36     & 0.3393      & 0.3047      & 0.6670      & Non-Control\\\\\n",
       "\t 1           & rs3131972   & UNAFF       & A           & G           & 1/14/41     & 0.2500      & 0.2449      & 1.0000      & Control    \\\\\n",
       "\t 1           & rs3131969   & ALL         & A           & G           & 2/26/84     & 0.2321      & 0.2320      & 1.0000      & All        \\\\\n",
       "\t 1           & rs3131969   & AFF         & A           & G           & 1/17/38     & 0.3036      & 0.2817      & 1.0000      & Non-Control\\\\\n",
       "\t 1           & rs3131969   & UNAFF       & A           & G           & 1/9/46      & 0.1607      & 0.1771      & 0.4189      & Control    \\\\\n",
       "\\end{tabular}\n"
      ],
      "text/markdown": [
       "\n",
       "CHR | SNP | TEST | A1 | A2 | GENO | O.HET. | E.HET. | P | Phenotype | \n",
       "|---|---|---|---|---|---|\n",
       "| 1           | rs3131972   | ALL         | A           | G           | 2/33/77     | 0.2946      | 0.2758      | 0.7324      | All         | \n",
       "| 1           | rs3131972   | AFF         | A           | G           | 1/19/36     | 0.3393      | 0.3047      | 0.6670      | Non-Control | \n",
       "| 1           | rs3131972   | UNAFF       | A           | G           | 1/14/41     | 0.2500      | 0.2449      | 1.0000      | Control     | \n",
       "| 1           | rs3131969   | ALL         | A           | G           | 2/26/84     | 0.2321      | 0.2320      | 1.0000      | All         | \n",
       "| 1           | rs3131969   | AFF         | A           | G           | 1/17/38     | 0.3036      | 0.2817      | 1.0000      | Non-Control | \n",
       "| 1           | rs3131969   | UNAFF       | A           | G           | 1/9/46      | 0.1607      | 0.1771      | 0.4189      | Control     | \n",
       "\n",
       "\n"
      ],
      "text/plain": [
       "  CHR SNP       TEST  A1 A2 GENO    O.HET. E.HET. P      Phenotype  \n",
       "1 1   rs3131972 ALL   A  G  2/33/77 0.2946 0.2758 0.7324 All        \n",
       "2 1   rs3131972 AFF   A  G  1/19/36 0.3393 0.3047 0.6670 Non-Control\n",
       "3 1   rs3131972 UNAFF A  G  1/14/41 0.2500 0.2449 1.0000 Control    \n",
       "4 1   rs3131969 ALL   A  G  2/26/84 0.2321 0.2320 1.0000 All        \n",
       "5 1   rs3131969 AFF   A  G  1/17/38 0.3036 0.2817 1.0000 Non-Control\n",
       "6 1   rs3131969 UNAFF A  G  1/9/46  0.1607 0.1771 0.4189 Control    "
      ]
     },
     "metadata": {},
     "output_type": "display_data"
    },
    {
     "data": {
      "text/html": [
       "<table>\n",
       "<thead><tr><th scope=col>CHR</th><th scope=col>SNP</th><th scope=col>TEST</th><th scope=col>A1</th><th scope=col>A2</th><th scope=col>GENO</th><th scope=col>O.HET.</th><th scope=col>E.HET.</th><th scope=col>P</th><th scope=col>Phenotype</th></tr></thead>\n",
       "<tbody>\n",
       "\t<tr><td>3          </td><td>rs7623291  </td><td>ALL        </td><td>T          </td><td>C          </td><td>22/28/62   </td><td>0.2500     </td><td>0.4362     </td><td>8.938e-06  </td><td>All        </td></tr>\n",
       "\t<tr><td>7          </td><td>rs34238522 </td><td>ALL        </td><td>C          </td><td>T          </td><td>0/64/48    </td><td>0.5714     </td><td>0.4082     </td><td>3.515e-06  </td><td>All        </td></tr>\n",
       "\t<tr><td>8          </td><td>rs3102841  </td><td>ALL        </td><td>C          </td><td>A          </td><td>8/78/23    </td><td>0.7156     </td><td>0.4905     </td><td>1.899e-06  </td><td>All        </td></tr>\n",
       "\t<tr><td>9          </td><td>rs354831   </td><td>ALL        </td><td>C          </td><td>T          </td><td>12/18/82   </td><td>0.1607     </td><td>0.3047     </td><td>6.339e-06  </td><td>All        </td></tr>\n",
       "\t<tr><td>9          </td><td>rs10990625 </td><td>ALL        </td><td>C          </td><td>T          </td><td>23/28/61   </td><td>0.2500     </td><td>0.4424     </td><td>9.391e-06  </td><td>All        </td></tr>\n",
       "\t<tr><td>9          </td><td>rs10990625 </td><td>AFF        </td><td>C          </td><td>T          </td><td>15/8/33    </td><td>0.1429     </td><td>0.4483     </td><td>3.574e-07  </td><td>Non-Control</td></tr>\n",
       "</tbody>\n",
       "</table>\n"
      ],
      "text/latex": [
       "\\begin{tabular}{r|llllllllll}\n",
       " CHR & SNP & TEST & A1 & A2 & GENO & O.HET. & E.HET. & P & Phenotype\\\\\n",
       "\\hline\n",
       "\t 3           & rs7623291   & ALL         & T           & C           & 22/28/62    & 0.2500      & 0.4362      & 8.938e-06   & All        \\\\\n",
       "\t 7           & rs34238522  & ALL         & C           & T           & 0/64/48     & 0.5714      & 0.4082      & 3.515e-06   & All        \\\\\n",
       "\t 8           & rs3102841   & ALL         & C           & A           & 8/78/23     & 0.7156      & 0.4905      & 1.899e-06   & All        \\\\\n",
       "\t 9           & rs354831    & ALL         & C           & T           & 12/18/82    & 0.1607      & 0.3047      & 6.339e-06   & All        \\\\\n",
       "\t 9           & rs10990625  & ALL         & C           & T           & 23/28/61    & 0.2500      & 0.4424      & 9.391e-06   & All        \\\\\n",
       "\t 9           & rs10990625  & AFF         & C           & T           & 15/8/33     & 0.1429      & 0.4483      & 3.574e-07   & Non-Control\\\\\n",
       "\\end{tabular}\n"
      ],
      "text/markdown": [
       "\n",
       "CHR | SNP | TEST | A1 | A2 | GENO | O.HET. | E.HET. | P | Phenotype | \n",
       "|---|---|---|---|---|---|\n",
       "| 3           | rs7623291   | ALL         | T           | C           | 22/28/62    | 0.2500      | 0.4362      | 8.938e-06   | All         | \n",
       "| 7           | rs34238522  | ALL         | C           | T           | 0/64/48     | 0.5714      | 0.4082      | 3.515e-06   | All         | \n",
       "| 8           | rs3102841   | ALL         | C           | A           | 8/78/23     | 0.7156      | 0.4905      | 1.899e-06   | All         | \n",
       "| 9           | rs354831    | ALL         | C           | T           | 12/18/82    | 0.1607      | 0.3047      | 6.339e-06   | All         | \n",
       "| 9           | rs10990625  | ALL         | C           | T           | 23/28/61    | 0.2500      | 0.4424      | 9.391e-06   | All         | \n",
       "| 9           | rs10990625  | AFF         | C           | T           | 15/8/33     | 0.1429      | 0.4483      | 3.574e-07   | Non-Control | \n",
       "\n",
       "\n"
      ],
      "text/plain": [
       "  CHR SNP        TEST A1 A2 GENO     O.HET. E.HET. P         Phenotype  \n",
       "1 3   rs7623291  ALL  T  C  22/28/62 0.2500 0.4362 8.938e-06 All        \n",
       "2 7   rs34238522 ALL  C  T  0/64/48  0.5714 0.4082 3.515e-06 All        \n",
       "3 8   rs3102841  ALL  C  A  8/78/23  0.7156 0.4905 1.899e-06 All        \n",
       "4 9   rs354831   ALL  C  T  12/18/82 0.1607 0.3047 6.339e-06 All        \n",
       "5 9   rs10990625 ALL  C  T  23/28/61 0.2500 0.4424 9.391e-06 All        \n",
       "6 9   rs10990625 AFF  C  T  15/8/33  0.1429 0.4483 3.574e-07 Non-Control"
      ]
     },
     "metadata": {},
     "output_type": "display_data"
    }
   ],
   "source": [
    "#| label: fig-HWEtables\n",
    "#| fig-cap: \"HWE tables from PLINK\"\n",
    "\n",
    "head(hwe)\n",
    "head(hwe_zoom)"
   ]
  },
  {
   "cell_type": "markdown",
   "id": "5fa26f9f-c6a3-4479-bd30-9f8dcbd60e72",
   "metadata": {},
   "source": [
    "Now we plot the histograms. We isolate each phenotype to see if there are any significant differences in p-value distribution between them."
   ]
  },
  {
   "cell_type": "code",
   "execution_count": 5,
   "id": "48e8396f-5b57-472c-b347-2b3a7879c277",
   "metadata": {
    "scrolled": true,
    "tags": []
   },
   "outputs": [
    {
     "name": "stderr",
     "output_type": "stream",
     "text": [
      "`stat_bin()` using `bins = 30`. Pick better value with `binwidth`.\n"
     ]
    },
    {
     "data": {
      "image/png": "[encoded data removed]",
      "text/plain": [
       "plot without title"
      ]
     },
     "metadata": {},
     "output_type": "display_data",
     "source": "R display func"
    },
    {
     "name": "stderr",
     "output_type": "stream",
     "text": [
      "Saving 6.67 x 6.67 in image\n",
      "`stat_bin()` using `bins = 30`. Pick better value with `binwidth`.\n",
      "Saving 6.67 x 6.67 in image\n"
     ]
    },
    {
     "data": {
      "image/png": "[encoded data removed]",
      "text/plain": [
       "plot without title"
      ]
     },
     "metadata": {},
     "output_type": "display_data",
     "source": "R display func"
    }
   ],
   "source": [
    "#| label: fig-HWE\n",
    "#| fig-cap: \"HWE p-values calculated with PLINK and zoom for the SNPs deviating from HWE. We can spot some deviations from HWE in the zoomed plot. Note that the p+values for the phenotype `All` is not the merging of the barplots from the other two phenotypes!\"\n",
    "\n",
    "library(ggplot2)\n",
    "options(repr.plot.width = 9, repr.plot.height = 4)\n",
    "\n",
    "# maf_freq histogram\n",
    "hist.hwe <- ggplot(hwe, aes(x=hwe[,9])) +\n",
    "  geom_histogram(col = \"black\", fill=\"tomato\") + \n",
    "  labs(title = \"HWE distribution\") + \n",
    "  xlab(\"HWE p-value\") + \n",
    "  ylab(\"Frequency\") +\n",
    "  facet_wrap(~Phenotype) +\n",
    "  theme_bw()\n",
    "\n",
    "# maf_freq histogram\n",
    "hist.hwe_below_threshold <- ggplot(hwe_zoom, aes(x=hwe_zoom[,9])) +\n",
    "  geom_histogram(binwidth = 0.0000015, col = \"black\", fill=\"tomato\") + \n",
    "  labs(title = \"HWE distribution for strongly deviating SNPs only\") + \n",
    "  xlab(\"HWE p-value\") + \n",
    "  ylab(\"Frequency\") +\n",
    "  facet_wrap(~Phenotype) +\n",
    "  theme_bw()\n",
    "\n",
    "show(hist.hwe)\n",
    "show(hist.hwe_below_threshold)\n",
    "\n",
    "# Save plots \n",
    "ggsave(plot=hist.hwe, filename=\"Results/GWAS3/histhwe.png\")\n",
    "ggsave(plot=hist.hwe_below_threshold, filename=\"Results/GWAS3/histhwe_below_threshold.png\")"
   ]
  },
  {
   "cell_type": "markdown",
   "id": "0b3ea338",
   "metadata": {},
   "source": [
    "<img src=\"Images/bash.png\" alt=\"bash\" width=\"40\">  Almost all of our SNPs are in HWE, as determined by their test to see if the alleles follow a binomial distribution. However, we can spot a few extreme deviations in our zoomed plot. We can remove these with the given threshold in PLINK, using the option `--hwe`.  Note that `--hwe` filters only on controls, so remember to add `include-nonctrl` to the command if you want to apply the threshold as well on non-control. In the two steps below we filter only controls with threshold `1e-6` and then all phenotypes with threshold `1e-10`"
   ]
  },
  {
   "cell_type": "code",
   "execution_count": 2,
   "id": "f64ffce1",
   "metadata": {
    "tags": []
   },
   "outputs": [
    {
     "name": "stdout",
     "output_type": "stream",
     "text": [
      "PLINK v1.90b6.21 64-bit (19 Oct 2020)          www.cog-genomics.org/plink/1.9/\n",
      "(C) 2005-2020 Shaun Purcell, Christopher Chang   GNU General Public License v3\n",
      "Logging to Results/GWAS3/HapMap_3_r3_5_onlycontrols.log.\n",
      "Options in effect:\n",
      "  --bfile Results/GWAS3/HapMap_3_r3_5\n",
      "  --hwe 1e-6\n",
      "  --make-bed\n",
      "  --out Results/GWAS3/HapMap_3_r3_5_onlycontrols\n",
      "\n",
      "385572 MB RAM detected; reserving 192786 MB for main workspace.\n",
      "1073226 variants loaded from .bim file.\n",
      "164 people (80 males, 84 females) loaded from .fam.\n",
      "112 phenotype values loaded from .fam.\n",
      "Using 1 thread (no multithreaded calculations invoked).\n",
      "Before main variant filters, 112 founders and 52 nonfounders present.\n",
      "Calculating allele frequencies... 10111213141516171819202122232425262728293031323334353637383940414243444546474849505152535455565758596061626364656667686970717273747576777879808182838485868788899091929394959697989 done.\n",
      "Total genotyping rate is 0.998039.\n",
      "--hwe: 0 variants removed due to Hardy-Weinberg exact test.\n",
      "1073226 variants and 164 people pass filters and QC.\n",
      "Among remaining phenotypes, 56 are cases and 56 are controls.  (52 phenotypes\n",
      "are missing.)\n",
      "--make-bed to Results/GWAS3/HapMap_3_r3_5_onlycontrols.bed +\n",
      "Results/GWAS3/HapMap_3_r3_5_onlycontrols.bim +\n",
      "Results/GWAS3/HapMap_3_r3_5_onlycontrols.fam ... 101112131415161718192021222324252627282930313233343536373839404142434445464748495051525354555657585960616263646566676869707172737475767778798081828384858687888990919293949596979899done.\n"
     ]
    }
   ],
   "source": [
    "plink --bfile Results/GWAS3/HapMap_3_r3_5 --hwe 1e-6 --make-bed --out Results/GWAS3/HapMap_3_r3_5_onlycontrols"
   ]
  },
  {
   "cell_type": "code",
   "execution_count": 3,
   "id": "5151da4b",
   "metadata": {
    "tags": []
   },
   "outputs": [
    {
     "name": "stdout",
     "output_type": "stream",
     "text": [
      "PLINK v1.90b6.21 64-bit (19 Oct 2020)          www.cog-genomics.org/plink/1.9/\n",
      "(C) 2005-2020 Shaun Purcell, Christopher Chang   GNU General Public License v3\n",
      "Logging to Results/GWAS3/HapMap_3_r3_6.log.\n",
      "Options in effect:\n",
      "  --bfile Results/GWAS3/HapMap_3_r3_5_onlycontrols\n",
      "  --hwe 1e-10 include-nonctrl\n",
      "  --make-bed\n",
      "  --out Results/GWAS3/HapMap_3_r3_6\n",
      "\n",
      "385572 MB RAM detected; reserving 192786 MB for main workspace.\n",
      "1073226 variants loaded from .bim file.\n",
      "164 people (80 males, 84 females) loaded from .fam.\n",
      "112 phenotype values loaded from .fam.\n",
      "Using 1 thread (no multithreaded calculations invoked).\n",
      "Before main variant filters, 112 founders and 52 nonfounders present.\n",
      "Calculating allele frequencies... 10111213141516171819202122232425262728293031323334353637383940414243444546474849505152535455565758596061626364656667686970717273747576777879808182838485868788899091929394959697989 done.\n",
      "Total genotyping rate is 0.998039.\n",
      "--hwe: 0 variants removed due to Hardy-Weinberg exact test.\n",
      "1073226 variants and 164 people pass filters and QC.\n",
      "Among remaining phenotypes, 56 are cases and 56 are controls.  (52 phenotypes\n",
      "are missing.)\n",
      "--make-bed to Results/GWAS3/HapMap_3_r3_6.bed + Results/GWAS3/HapMap_3_r3_6.bim\n",
      "+ Results/GWAS3/HapMap_3_r3_6.fam ... 101112131415161718192021222324252627282930313233343536373839404142434445464748495051525354555657585960616263646566676869707172737475767778798081828384858687888990919293949596979899done.\n"
     ]
    }
   ],
   "source": [
    "plink --bfile Results/GWAS3/HapMap_3_r3_5_onlycontrols --hwe 1e-10 include-nonctrl --make-bed --out Results/GWAS3/HapMap_3_r3_6"
   ]
  },
  {
   "cell_type": "markdown",
   "id": "6f60a633",
   "metadata": {},
   "source": [
    "# Heterozygosity Rate\n",
    "\n",
    "A somewhat similar idea to HWE, but applied to individuals instead of SNPs (if an individual had a ton of A/B calls but no A/A or B/B calls, or vice versa, that would indicate something was wrong):\n",
    "\n",
    "## Command\n",
    "\n",
    "PLINK has no summary statistic for heterozygosity of individuals. Instead, we will first prune the dataset, checking heterozygosity on a set of SNPs which are not highly correlated. We do this because highly correlated regions reduce the power of our analysis. to generate a list of non-(highly)correlated SNPs, we exclude (`--exclude`) high inversion regions (already saved in `Data/inversion.txt`) and prune the SNPs using the option `--indep-pairwise`. The parameters `50 5 0.2` stand respectively for: the window size, the number of SNPs to shift the window at each step, and the multiple correlation coefficient for a SNP being regressed on all other SNPs simultaneously."
   ]
  },
  {
   "cell_type": "code",
   "execution_count": 3,
   "id": "6cb3ed80",
   "metadata": {
    "tags": []
   },
   "outputs": [
    {
     "name": "stdout",
     "output_type": "stream",
     "text": [
      "PLINK v1.90b6.21 64-bit (19 Oct 2020)          www.cog-genomics.org/plink/1.9/\n",
      "(C) 2005-2020 Shaun Purcell, Christopher Chang   GNU General Public License v3\n",
      "Logging to Results/GWAS3/indepSNP.log.\n",
      "Options in effect:\n",
      "  --bfile Results/GWAS3/HapMap_3_r3_6\n",
      "  --exclude Data/inversion.txt\n",
      "  --indep-pairwise 50 5 0.2\n",
      "  --out Results/GWAS3/indepSNP\n",
      "  --range\n",
      "\n",
      "Note: --range flag deprecated.  Use e.g. \"--extract range <filename>\".\n",
      "385572 MB RAM detected; reserving 192786 MB for main workspace.\n",
      "1073226 variants loaded from .bim file.\n",
      "164 people (80 males, 84 females) loaded from .fam.\n",
      "112 phenotype values loaded from .fam.\n",
      "--exclude range: 9893 variants excluded.\n",
      "--exclude range: 1063333 variants remaining.\n",
      "Using 1 thread (no multithreaded calculations invoked).\n",
      "Before main variant filters, 112 founders and 52 nonfounders present.\n",
      "Calculating allele frequencies... 10111213141516171819202122232425262728293031323334353637383940414243444546474849505152535455565758596061626364656667686970717273747576777879808182838485868788899091929394959697989 done.\n",
      "Total genotyping rate is 0.998034.\n",
      "1063333 variants and 164 people pass filters and QC.\n",
      "Among remaining phenotypes, 56 are cases and 56 are controls.  (52 phenotypes\n",
      "are missing.)\n",
      "Pruned 79323 variants from chromosome 1, leaving 8397.\n",
      "Pruned 81833 variants from chromosome 2, leaving 7965.\n",
      "Pruned 67905 variants from chromosome 3, leaving 6957.\n",
      "Pruned 59914 variants from chromosome 4, leaving 6215.\n",
      "Pruned 62681 variants from chromosome 5, leaving 6336.\n",
      "Pruned 59440 variants from chromosome 6, leaving 6092.\n",
      "Pruned 53506 variants from chromosome 7, leaving 5598.\n",
      "Pruned 51227 variants from chromosome 8, leaving 5025.\n",
      "Pruned 45349 variants from chromosome 9, leaving 4983.\n",
      "Pruned 51843 variants from chromosome 10, leaving 5382.\n",
      "Pruned 50263 variants from chromosome 11, leaving 5021.\n",
      "Pruned 47315 variants from chromosome 12, leaving 5250.\n",
      "Pruned 36460 variants from chromosome 13, leaving 4030.\n",
      "Pruned 31645 variants from chromosome 14, leaving 3499.\n",
      "Pruned 28604 variants from chromosome 15, leaving 3404.\n",
      "Pruned 30134 variants from chromosome 16, leaving 3685.\n",
      "Pruned 24471 variants from chromosome 17, leaving 3366.\n",
      "Pruned 28242 variants from chromosome 18, leaving 3413.\n",
      "Pruned 16854 variants from chromosome 19, leaving 2808.\n",
      "Pruned 24897 variants from chromosome 20, leaving 3051.\n",
      "Pruned 13769 variants from chromosome 21, leaving 1713.\n",
      "Pruned 13514 variants from chromosome 22, leaving 1954.\n",
      "Pruning complete.  959189 of 1063333 variants removed.\n",
      "Marker lists written to Results/GWAS3/indepSNP.prune.in and\n",
      "Results/GWAS3/indepSNP.prune.out .\n"
     ]
    }
   ],
   "source": [
    "plink --bfile Results/GWAS3/HapMap_3_r3_6 --exclude Data/inversion.txt --range --indep-pairwise 50 5 0.2 --out Results/GWAS3/indepSNP"
   ]
  },
  {
   "cell_type": "markdown",
   "id": "6fbd312e",
   "metadata": {},
   "source": [
    "With this pruned list, we measure the heterozygosity rates of the individuals in the remaining independent SNPs."
   ]
  },
  {
   "cell_type": "code",
   "execution_count": 4,
   "id": "a551b42f",
   "metadata": {
    "tags": []
   },
   "outputs": [
    {
     "name": "stdout",
     "output_type": "stream",
     "text": [
      "PLINK v1.90b6.21 64-bit (19 Oct 2020)          www.cog-genomics.org/plink/1.9/\n",
      "(C) 2005-2020 Shaun Purcell, Christopher Chang   GNU General Public License v3\n",
      "Logging to Results/GWAS3/R_check.log.\n",
      "Options in effect:\n",
      "  --bfile Results/GWAS3/HapMap_3_r3_6\n",
      "  --extract Results/GWAS3/indepSNP.prune.in\n",
      "  --het\n",
      "  --out Results/GWAS3/R_check\n",
      "\n",
      "385572 MB RAM detected; reserving 192786 MB for main workspace.\n",
      "1073226 variants loaded from .bim file.\n",
      "164 people (80 males, 84 females) loaded from .fam.\n",
      "112 phenotype values loaded from .fam.\n",
      "--extract: 104144 variants remaining.\n",
      "Using 1 thread (no multithreaded calculations invoked).\n",
      "Before main variant filters, 112 founders and 52 nonfounders present.\n",
      "Calculating allele frequencies... 10111213141516171819202122232425262728293031323334353637383940414243444546474849505152535455565758596061626364656667686970717273747576777879808182838485868788899091929394959697989 done.\n",
      "Total genotyping rate is 0.998028.\n",
      "104144 variants and 164 people pass filters and QC.\n",
      "Among remaining phenotypes, 56 are cases and 56 are controls.  (52 phenotypes\n",
      "are missing.)\n",
      "--het: 104144 variants scanned, report written to Results/GWAS3/R_check.het .\n"
     ]
    }
   ],
   "source": [
    "plink --bfile Results/GWAS3/HapMap_3_r3_6 --extract Results/GWAS3/indepSNP.prune.in --het --out Results/GWAS3/R_check"
   ]
  },
  {
   "cell_type": "markdown",
   "id": "b41b19b1-ba6b-439e-86b4-25c6b0b26f22",
   "metadata": {},
   "source": [
    "<img src=\"Images/R.png\" alt=\"R\" width=\"40\"> Here we plot the distribution of heterozygosity rates. We first have a look at the heterozigosity table. When you use the `--het` option in PLINK, the output table has the columns:\n",
    "\n",
    "- FID: Family ID of the individual.\n",
    "- IID: Individual ID within the family.\n",
    "- O(HOM): Observed number of homozygous genotypes.\n",
    "- E(HOM): Expected number of homozygous genotypes under Hardy-Weinberg equilibrium.\n",
    "- N(NM): Number of non-missing autosomal genotypes.\n",
    "- F: Inbreeding coefficient (F), which is calculated as \n",
    "$$\\tfrac{(E(HOM)−O(HOM))}{N(NM)}."
   ]
  },
  {
   "cell_type": "code",
   "execution_count": 3,
   "id": "1c961837-0788-43d5-a5b0-6f65e147f7a6",
   "metadata": {},
   "outputs": [
    {
     "data": {
      "text/html": [
       "<table>\n",
       "<thead><tr><th scope=col>FID</th><th scope=col>IID</th><th scope=col>O.HOM.</th><th scope=col>E.HOM.</th><th scope=col>N.NM.</th><th scope=col>F</th></tr></thead>\n",
       "<tbody>\n",
       "\t<tr><td>1328      </td><td>NA06989   </td><td>67039     </td><td>67470     </td><td>103911    </td><td>-0.0117200</td></tr>\n",
       "\t<tr><td>1377      </td><td>NA11891   </td><td>66847     </td><td>66840     </td><td>102970    </td><td> 0.0001494</td></tr>\n",
       "\t<tr><td>1349      </td><td>NA11843   </td><td>67262     </td><td>67560     </td><td>104071    </td><td>-0.0082900</td></tr>\n",
       "\t<tr><td>1330      </td><td>NA12341   </td><td>66654     </td><td>67400     </td><td>103826    </td><td>-0.0205100</td></tr>\n",
       "\t<tr><td>1444      </td><td>NA12739   </td><td>66687     </td><td>66560     </td><td>102519    </td><td> 0.0036020</td></tr>\n",
       "\t<tr><td>1344      </td><td>NA10850   </td><td>67421     </td><td>67520     </td><td>104001    </td><td>-0.0027780</td></tr>\n",
       "</tbody>\n",
       "</table>\n"
      ],
      "text/latex": [
       "\\begin{tabular}{r|llllll}\n",
       " FID & IID & O.HOM. & E.HOM. & N.NM. & F\\\\\n",
       "\\hline\n",
       "\t 1328       & NA06989    & 67039      & 67470      & 103911     & -0.0117200\\\\\n",
       "\t 1377       & NA11891    & 66847      & 66840      & 102970     &  0.0001494\\\\\n",
       "\t 1349       & NA11843    & 67262      & 67560      & 104071     & -0.0082900\\\\\n",
       "\t 1330       & NA12341    & 66654      & 67400      & 103826     & -0.0205100\\\\\n",
       "\t 1444       & NA12739    & 66687      & 66560      & 102519     &  0.0036020\\\\\n",
       "\t 1344       & NA10850    & 67421      & 67520      & 104001     & -0.0027780\\\\\n",
       "\\end{tabular}\n"
      ],
      "text/markdown": [
       "\n",
       "FID | IID | O.HOM. | E.HOM. | N.NM. | F | \n",
       "|---|---|---|---|---|---|\n",
       "| 1328       | NA06989    | 67039      | 67470      | 103911     | -0.0117200 | \n",
       "| 1377       | NA11891    | 66847      | 66840      | 102970     |  0.0001494 | \n",
       "| 1349       | NA11843    | 67262      | 67560      | 104071     | -0.0082900 | \n",
       "| 1330       | NA12341    | 66654      | 67400      | 103826     | -0.0205100 | \n",
       "| 1444       | NA12739    | 66687      | 66560      | 102519     |  0.0036020 | \n",
       "| 1344       | NA10850    | 67421      | 67520      | 104001     | -0.0027780 | \n",
       "\n",
       "\n"
      ],
      "text/plain": [
       "  FID  IID     O.HOM. E.HOM. N.NM.  F         \n",
       "1 1328 NA06989 67039  67470  103911 -0.0117200\n",
       "2 1377 NA11891 66847  66840  102970  0.0001494\n",
       "3 1349 NA11843 67262  67560  104071 -0.0082900\n",
       "4 1330 NA12341 66654  67400  103826 -0.0205100\n",
       "5 1444 NA12739 66687  66560  102519  0.0036020\n",
       "6 1344 NA10850 67421  67520  104001 -0.0027780"
      ]
     },
     "metadata": {},
     "output_type": "display_data"
    }
   ],
   "source": [
    "het <- read.table(\"Results/GWAS3/R_check.het\", head=TRUE)\n",
    "head(het)"
   ]
  },
  {
   "cell_type": "markdown",
   "id": "2da1e4dd-fb02-49e0-8932-65291c1c6d06",
   "metadata": {},
   "source": [
    "We calculate by hand the heterozigosity rates so we can plot them (they are not inthe table by default). The formula for the rates is \n",
    "$$\\tfrac{N(NM)-O(HOM)}{N(NM)}"
   ]
  },
  {
   "cell_type": "code",
   "execution_count": 2,
   "id": "80d47e15-ca66-44b2-b27a-da477b9d5648",
   "metadata": {},
   "outputs": [
    {
     "name": "stderr",
     "output_type": "stream",
     "text": [
      "Saving 6.67 x 6.67 in image\n"
     ]
    },
    {
     "data": {
      "image/png": "[encoded data removed]",
      "text/plain": [
       "plot without title"
      ]
     },
     "metadata": {},
     "output_type": "display_data",
     "source": "R display func"
    }
   ],
   "source": [
    "#| label: fig-HET\n",
    "#| fig-cap: \"Barplot of heterozigosity rates.\"\n",
    "\n",
    "library(ggplot2)\n",
    "options(repr.plot.width = 9, repr.plot.height = 4)\n",
    "\n",
    "het$HET_RATE = (het$\"N.NM.\" - het$\"O.HOM.\")/het$\"N.NM.\"\n",
    "\n",
    "# plink.imiss histogram\n",
    "hist.het <- ggplot(het, aes(x=HET_RATE)) +\n",
    "  geom_histogram(binwidth = 0.001, col = \"black\", fill=\"tomato\") + \n",
    "  labs(title = \"Heterozygosity Rates\") + \n",
    "  xlab(\"Heterozygosity Rate\") + \n",
    "  ylab(\"Frequency\") + \n",
    "  theme_bw()\n",
    "\n",
    "\n",
    "show(hist.het)\n",
    "\n",
    "# Save plots \n",
    "ggsave(plot=hist.het, filename=\"Results/GWAS3/heterozygosity.png\")"
   ]
  },
  {
   "cell_type": "markdown",
   "id": "1be72c26",
   "metadata": {},
   "source": [
    "As a rule of thumb, we want to remove individuals who deviate more than 3 standard deviations from the heterozygosity rate mean. For data manipulation we recommend using the `bash` command line. However, when performing statistical calculations, `R` is more convenient, hence the use of `R` for this step. We create a file subsetting the heterozigosity table based on 3 standard deviations away from the mean, so that it can be used for removal by PLINK. We add a column with the standardized values of heterozigosities as well in the table."
   ]
  },
  {
   "cell_type": "code",
   "execution_count": 1,
   "id": "963e0a29",
   "metadata": {
    "tags": []
   },
   "outputs": [
    {
     "name": "stderr",
     "output_type": "stream",
     "text": [
      "\n",
      "Attaching package: ‘dplyr’\n",
      "\n",
      "The following objects are masked from ‘package:stats’:\n",
      "\n",
      "    filter, lag\n",
      "\n",
      "The following objects are masked from ‘package:base’:\n",
      "\n",
      "    intersect, setdiff, setequal, union\n",
      "\n"
     ]
    }
   ],
   "source": [
    "library(dplyr)\n",
    "\n",
    "het <- read.table(\"Results/GWAS3/R_check.het\", head=TRUE)\n",
    "het$HET_RATE = (het$\"N.NM.\" - het$\"O.HOM.\")/het$\"N.NM.\"\n",
    "\n",
    "het_fail <- subset(het, (het$HET_RATE < mean(het$HET_RATE)-3*sd(het$HET_RATE)) | \n",
    "                    (het$HET_RATE > mean(het$HET_RATE)+3*sd(het$HET_RATE)))\n",
    "\n",
    "het_fail$HET_DST <- (het_fail$HET_RATE-mean(het$HET_RATE))/sd(het$HET_RATE);\n",
    "\n",
    "write.table(het_fail, \"Results/GWAS3/fail-het-qc.txt\", row.names=FALSE, quote=FALSE)"
   ]
  },
  {
   "cell_type": "markdown",
   "id": "5cd9abe3",
   "metadata": {},
   "source": [
    "<img src=\"Images/bash.png\" alt=\"bash\" width=\"40\"> The output of this command is `fail-het-qc.txt`. We can lcount how many individuals are picked up as having a heterozygosity rate deviating more than 3 SD's from the mean). We can count 3 lines (one is the header), meaning there are two individuals to be filtered out."
   ]
  },
  {
   "cell_type": "code",
   "execution_count": 1,
   "id": "ce3bd7ba",
   "metadata": {
    "tags": []
   },
   "outputs": [
    {
     "name": "stdout",
     "output_type": "stream",
     "text": [
      "3 Results/GWAS3/fail-het-qc.txt\n"
     ]
    }
   ],
   "source": [
    "wc -l Results/GWAS3/fail-het-qc.txt"
   ]
  },
  {
   "cell_type": "markdown",
   "id": "54fd408e-4b31-4fb4-9106-080c85e41f41",
   "metadata": {},
   "source": [
    "To use the file in PLINK, we need only the first two columns (Family ID and Individual ID), which you can see below."
   ]
  },
  {
   "cell_type": "code",
   "execution_count": 2,
   "id": "ffe3b148-7c59-4f7b-ad72-87e44359e73a",
   "metadata": {},
   "outputs": [
    {
     "name": "stdout",
     "output_type": "stream",
     "text": [
      "FID IID O.HOM. E.HOM. N.NM. F HET_RATE HET_DST\n",
      "1330 NA12342 68049 67240 103571 0.02229 0.342972453679119 -3.66711854374478\n",
      "1459 NA12874 68802 67560 104068 0.0339 0.338874582004074 -5.04839854982741\n"
     ]
    }
   ],
   "source": [
    "cat Results/GWAS3/fail-het-qc.txt"
   ]
  },
  {
   "cell_type": "markdown",
   "id": "1fe4f0c2",
   "metadata": {},
   "source": [
    "We use `awk` to print out the first two columns in the file `het-fail-ind.txt` and use the option `--remove` to filter out the individuals with PLINK."
   ]
  },
  {
   "cell_type": "code",
   "execution_count": 4,
   "id": "d35701f1",
   "metadata": {
    "tags": []
   },
   "outputs": [
    {
     "name": "stdout",
     "output_type": "stream",
     "text": [
      "PLINK v1.90b6.21 64-bit (19 Oct 2020)          www.cog-genomics.org/plink/1.9/\n",
      "(C) 2005-2020 Shaun Purcell, Christopher Chang   GNU General Public License v3\n",
      "Logging to Results/GWAS3/HapMap_3_r3_7.log.\n",
      "Options in effect:\n",
      "  --bfile Results/GWAS3/HapMap_3_r3_6\n",
      "  --make-bed\n",
      "  --out Results/GWAS3/HapMap_3_r3_7\n",
      "  --remove Results/GWAS3/het-fail-ind.txt\n",
      "\n",
      "385572 MB RAM detected; reserving 192786 MB for main workspace.\n",
      "1073226 variants loaded from .bim file.\n",
      "164 people (80 males, 84 females) loaded from .fam.\n",
      "112 phenotype values loaded from .fam.\n",
      "--remove: 162 people remaining.\n",
      "Using 1 thread (no multithreaded calculations invoked).\n",
      "Before main variant filters, 110 founders and 52 nonfounders present.\n",
      "Calculating allele frequencies... 10111213141516171819202122232425262728293031323334353637383940414243444546474849505152535455565758596061626364656667686970717273747576777879808182838485868788899091929394959697989 done.\n",
      "Total genotyping rate in remaining samples is 0.998063.\n",
      "1073226 variants and 162 people pass filters and QC.\n",
      "Among remaining phenotypes, 55 are cases and 55 are controls.  (52 phenotypes\n",
      "are missing.)\n",
      "--make-bed to Results/GWAS3/HapMap_3_r3_7.bed + Results/GWAS3/HapMap_3_r3_7.bim\n",
      "+ Results/GWAS3/HapMap_3_r3_7.fam ... 101112131415161718192021222324252627282930313233343536373839404142434445464748495051525354555657585960616263646566676869707172737475767778798081828384858687888990919293949596979899done.\n"
     ]
    }
   ],
   "source": [
    "awk '{print$1, $2}' Results/GWAS3/fail-het-qc.txt > Results/GWAS3/het-fail-ind.txt\n",
    "\n",
    "plink --bfile Results/GWAS3/HapMap_3_r3_6 --remove Results/GWAS3/het-fail-ind.txt --make-bed --out Results/GWAS3/HapMap_3_r3_7"
   ]
  },
  {
   "cell_type": "markdown",
   "id": "57b62761",
   "metadata": {},
   "source": [
    "# Wrapping up\n",
    "\n",
    "In this tutorial we have been trying out a lot of quality control options in PLINK and calculated various statistics, which we visualized using `R`. In the next notebook you will find even more examples of how you verify the quality of your data.\n",
    "\n",
    "# Bibliography"
   ]
  },
  {
   "cell_type": "markdown",
   "id": "e41d6001",
   "metadata": {},
   "source": [
    "| Step                                   | Command          | Function                                                                                                                                                 | Thresholds and explanation                                                                                                                                                                                                                                                                                                                                                                        |\n",
    "|----------------------------------------|------------------|----------------------------------------------------------------------------------------------------------------------------------------------------------|---------------------------------------------------------------------------------------------------------------------------------------------------------------------------------------------------------------------------------------------------------------------------------------------------------------------------------------------------------------------------------------------------|\n",
    "| 1: Missingness of SNPs and individuals | --geno           | Excludes SNPs that are missing in a large proportion of the subjects. In this step, SNPs with low genotype calls are removed.                            | We recommend to first filter SNPs and individuals based on a relaxed  threshold (0.2; >20%), as this will filter out SNPs and individuals  with very high levels of missingness. Then a filter with a more  stringent threshold can be applied (0.02).                                                                                                                                            |\n",
    "|                                        | --mind           | Excludes individuals who have high rates of genotype missingness. In this step, individual with low genotype calls are removed.                          | Note, SNP filtering should be performed before individual filtering.                                                                                                                                                                                                                                                                                                                              |\n",
    "| 2: Sex discrepancy                     | --check-sex      | Checks for discrepancies between sex of the individuals recorded in the  dataset and their sex based on X chromosome heterozygosity/homozygosity  rates. | Can indicate sample mix‐ups. If many subjects have this discrepancy, the data should be checked carefully. Males should have an X chromosome  homozygosity estimate >0.8 and females should have a value <0.2.                                                                                                                                                                                    |\n",
    "| 3: Minor allele frequency (MAF)        | --maf            | Includes only SNPs above the set MAF threshold.                                                                                                          | SNPs with a low MAF are rare, therefore power is lacking for detecting SNP‐phenotype associations. These SNPs are also more prone to genotyping errors.  The MAF threshold should depend on your sample size,  larger samples can use lower MAF thresholds. Respectively, for large (N = 100.000) vs. moderate samples (N = 10000),  0.01 and 0.05 are commonly used as MAF threshold.            |\n",
    "| 4: Hardy-Weinberg equilibrium (HWE)    | --hwe            | Excludes markers which deviate from Hardy–Weinberg equilibrium.                                                                                          | Common indicator of genotyping error, may also indicate evolutionary selection.  For binary traits we suggest to exclude: HWE pvalue <1e−10 in cases and <1e−6 in controls. Less strict case  threshold avoids discarding disease‐associated SNPs under selection.  For quantitative traits, we recommend HWE p value <1e‐6. |\n",
    "| 5: Heterozygosity                      | (example script) | Excludes individuals with high or low heterozygosity rates                                                                                               | Deviations can indicate sample contamination, inbreeding.  We suggest removing individuals who deviate ±3 SD from the samples' heterozygosity rate mean.                                                                                                                                                                                                                                          |"
   ]
  }
 ],
 "metadata": {
  "Rmd_chunk_options": {
   "author": "Matti Pirinen, University of Helsinki",
   "date": "Updated: 29-10-2020; 1st ver: 23-Jan-2019.",
   "output": {
    "html_document": "default"
   },
   "title": "GWAS 4: Bayesian inference",
   "urlcolor": "blue"
  },
  "kernelspec": {
   "display_name": "Bash",
   "language": "bash",
   "name": "bash"
  },
  "language_info": {
   "codemirror_mode": "shell",
   "file_extension": ".sh",
   "mimetype": "text/x-sh",
   "name": "bash"
  },
  "sos": {
   "kernels": [
    [
     "SoS",
     "sos",
     "",
     ""
    ],
    [
     "R",
     "ir",
     "",
     ""
    ]
   ]
  }
 },
 "nbformat": 4,
 "nbformat_minor": 5
}
