{
 "cells": [
  {
   "cell_type": "markdown",
   "id": "d518493f-9760-4f75-80a1-814ba2fd1d39",
   "metadata": {},
   "source": [
    "---\n",
    "title: \"Quality Control: initial steps\"\n",
    "author:\n",
    "    - name: Conor O'Hare\n",
    "    - name: Samuele Soraggi\n",
    "      orcid: 0000-0002-1159-5535\n",
    "      email: samuele@birc.au.dk\n",
    "    - name: Alba Refoyo Martinez\n",
    "      orcid: 0000-0002-3674-4007\n",
    "      email: alba.martinez@sund.ku.dk     \n",
    "---"
   ]
  },
  {
   "cell_type": "raw",
   "id": "e9307aa0-3352-4163-8f6b-6416d4ec3b5b",
   "metadata": {},
   "source": [
    "---\n",
    "format:\n",
    "  html:\n",
    "   theme: default\n",
    "   number-sections: true\n",
    "   code-fold: false\n",
    "   self-contained: false\n",
    "   toc: true\n",
    "   highlight-style: pygments\n",
    "  ipynb:\n",
    "    toc: true\n",
    "    number-sections: false\n",
    "bibliography: references/references_3.bib\n",
    "---"
   ]
  },
  {
   "cell_type": "markdown",
   "id": "2ddbf12e-aeaf-4558-a75d-1d2330023464",
   "metadata": {},
   "source": [
    "::: {.callout-note title=\"Important notes for this notebook\" icon=false}\n",
    "\n",
    "After gathering your data and genotyping, there are many checks to do to determine the quality of the data. It is crucial to **perform quality control before** carrying out any GWAS, otherwise, there is the risk that some of the associations are spurious.\n",
    "\n",
    "## Learning outcomes\n",
    "\n",
    "- **Distinguish** the various QC steps\n",
    "- **Discuss and choose** thresholds on plink\n",
    "- **Implement** basic QC in `plink` and statistical plots in `R`\n",
    "- **Hypothesize** the effects of various `plink` commands and **verify** your hypothesis using the analysis in `R`\n",
    "\n",
    "\n",
    "## How to make this notebook work\n",
    "\n",
    "* In this notebook, we will use both `R` and `bash command line` programming languages. Remember to **change the kernel** whenever you transition from one language to the other (`Kernel --> Change Kernel`) indicated by the languages' images. We will first run `Bash` commands.  \n",
    "  \n",
    "<img src=\"Images/bash.png\" alt=\"Bash\" width=\"80\"> Choose the Bash kernel\n",
    "\n",
    ":::"
   ]
  },
  {
   "cell_type": "markdown",
   "id": "779e65c1-04f8-4a2d-8d0e-8190e5ccd7e0",
   "metadata": {},
   "source": [
    "The next critical step in any GWAS involves **scrutinizing the data for potential issues**. It's crucial to ensure that the results are not merely artifacts of poor data quality discovered after the analysis. \n",
    "\n",
    "After gathering your data and genotyping, there are many checks one can do to determine the quality of the data. PLINK provides several summary statistics for quality control (e.g. missing genotype rate, minor allele frequency, and Hardy-Weinberg equilibrium failures) which will serve as thresholds for subsequent analyses. \n",
    "\n",
    "For this tutorial, we will look at the following topics: \n",
    "\n",
    "1) Individual Missingness  \n",
    "2) Sex discrepancy  \n",
    "3) Minor Allele Frequency (MAF)  \n",
    "4) Hardy-Weinberg Equilibrium (HWE)  \n",
    "5) Heterozygosity Rate\n"
   ]
  },
  {
   "cell_type": "markdown",
   "id": "eb8e451f",
   "metadata": {},
   "source": [
    "# Individual and SNP Missingness\n",
    "\n",
    "## Missingness per SNP\n",
    "\n",
    "Overall, the SNP genotyping platform is very reliable and delivers stable results when it comes to determining genotypes. Of course, it is not flawless. One of the most frequent problems is that some of the SNPs are just not well-genotyped in the entire population. These should be removed to improve the overall data quality.\n",
    "\n",
    "Certainly, we can't remove every SNP with any missing values, as that would result in losing a significant portion of our data. Instead, we adopt defined **thresholds**. However, determining these thresholds isn't governed by strict rules. You have the flexibility to set them within \"reasonable\" limits. To find out what constitutes \"reasonable,\" consulting relevant literature for your species of interest is advisable. For humans, a common starting point is a threshold of 0.2, meaning we exclude SNPs where 20% or more of the genotypes are missing in our population.\n",
    "\n",
    "## Missingness per individual\n",
    "\n",
    "The reliability of SNP chips is also high when it comes to individual genotypes. In some cases, however, some of the individuals contain a large number of missing SNPs. The reason could be low DNA sample quality, the wrong chip type used (e.g. cattle chip for deer samples), or other technical issues. Regardless of the reason, you should remove the worst offenders from your data set, to not compromise the overall quality of your results."
   ]
  },
  {
   "cell_type": "markdown",
   "id": "1dbeebaf",
   "metadata": {},
   "source": [
    ":::{.callout-important title=\"Stop - Read - Solve\"}\n",
    "\n",
    "Have a look at the following toy example:\n",
    "\n",
    "|   /   | SNP1 | SNP2 | SNP3 | SNP4 | SNP5 |\n",
    "|------|------|------|------|------|------|\n",
    "| IND1 | 22   | 00   | 11   | 12   | 22   |\n",
    "| IND2 | 22   | 00   | 11   | 12   | 22   |\n",
    "| IND3 | 11   | 12   | 11   | 22   | 21   |\n",
    "| IND4 | 00   | 00   | 11   | 11   | 00   |\n",
    "| IND5 | 22   | 00   | 11   | 22   | 22   |\n",
    "\n",
    "Here, we have a data set of five individuals, each of them genotyped for five SNPs. The genotypes themselves are in numerical coding, 11 and 22 being the two homozygous, 12 the heterozygous, and 00 coded as missing. We want to apply two filters: one for the variants, and one for the individuals.\n",
    "\n",
    "- First remove variants with >= 40% missingness\n",
    "- Then remove individuals with >= 40% missingness\n",
    "\n",
    "Which variants and individuals are we removing?"
   ]
  },
  {
   "cell_type": "markdown",
   "id": "5a326c71",
   "metadata": {
    "tags": []
   },
   "source": [
    "\n",
    "In practice, you want to **remove the SNPs based on missingness before the individuals**. This is simply because we generally have a lot more SNPs than individuals, and would thus lose less information by removing SNPs than individuals. This will remove \"bad\" SNPs first, leaving a lower rate of missingness for all the individuals.\n",
    "\n",
    ":::{.callout-tip title=\"Solution\" collapse=\"true\"}\n",
    "\n",
    "**Variant-level threshold**: In this example, we would only remove SNP2 since it exceeds this threshold, with 80% missingness (4 out of 5 missing values).\n",
    "\n",
    "**Individual-level threshold**: IND4 is removed from the data set, as there is missing genotype information for 2/4 = 50% SNPs (after filtering out SNP2). \n",
    "\n",
    ":::\n",
    "\n",
    "\n",
    "## First run of the PLINK tool\n",
    "\n",
    "Using PLINK, we can address missing data using two functions; one operates at the variant level and the other at the individual level:\n",
    "\n",
    "* `--geno`: This will remove SNPs with a specified proportion of missingness (e.g. `--geno 0.01` will remove SNPs with 1% missingness).\n",
    "* `--mind`: This will remove individuals with a specified proportion of missingness (e.g. `--mind 0.01` will remove individuals with 1% missingness).\n",
    "\n",
    "A common threshold for --mind and --geno ranges from 1% to 5% to ensure quality and robustness. Higher thresholds may be acceptable if the study has a large sample size and missingness is not widespread. Those filters must run one at a time in PLINK.\n",
    "\n",
    "We now implement our first QC method in PLINK:"
   ]
  },
  {
   "cell_type": "markdown",
   "id": "a25cf9d2-c1f8-471e-a6bf-9b92888e4d3a",
   "metadata": {
    "tags": []
   },
   "source": [
    "<img src=\"Images/bash.png\" alt=\"Bash\" width=\"40\"> We link the data folder to easily access it by using the `ln -sf` command and create a folder for the output files (`Results/GWAS3`) "
   ]
  },
  {
   "cell_type": "code",
   "execution_count": 1,
   "id": "5dea98b7-c4dd-4d62-a5e6-b041486b511d",
   "metadata": {
    "tags": []
   },
   "outputs": [],
   "source": [
    "ln -sf ../Data\n",
    "mkdir -p Results/GWAS3"
   ]
  },
  {
   "cell_type": "markdown",
   "id": "7356fd7e-93b6-46e2-b71a-206c2bcdb21a",
   "metadata": {},
   "source": [
    "PLINK program uses options implemented using the `--` symbol to perform different functions or access files. We will use the option `--bfile` for data (filename without extension), `--missing` for missing data summary, and `--out` for output prefixes. This helps us analyze data missingness."
   ]
  },
  {
   "cell_type": "code",
   "execution_count": 2,
   "id": "f206a476",
   "metadata": {
    "tags": []
   },
   "outputs": [
    {
     "name": "stdout",
     "output_type": "stream",
     "text": [
      "PLINK v1.90b6.21 64-bit (19 Oct 2020)          www.cog-genomics.org/plink/1.9/\n",
      "(C) 2005-2020 Shaun Purcell, Christopher Chang   GNU General Public License v3\n",
      "Logging to Results/GWAS3/data.log.\n",
      "Options in effect:\n",
      "  --bfile Data/HapMap_3_r3_1\n",
      "  --missing\n",
      "  --out Results/GWAS3/data\n",
      "\n",
      "385567 MB RAM detected; reserving 192783 MB for main workspace.\n",
      "1457897 variants loaded from .bim file.\n",
      "165 people (80 males, 85 females) loaded from .fam.\n",
      "112 phenotype values loaded from .fam.\n",
      "Using 1 thread (no multithreaded calculations invoked).\n",
      "Before main variant filters, 112 founders and 53 nonfounders present.\n",
      "Calculating allele frequencies... done.\n",
      "Warning: 225 het. haploid genotypes present (see Results/GWAS3/data.hh ); many\n",
      "commands treat these as missing.\n",
      "Total genotyping rate is 0.997378.\n",
      "--missing: Sample missing data report written to Results/GWAS3/data.imiss, and\n",
      "variant-based missing data report written to Results/GWAS3/data.lmiss.\n"
     ]
    }
   ],
   "source": [
    "plink --bfile Data/HapMap_3_r3_1 --missing --out Results/GWAS3/data"
   ]
  },
  {
   "cell_type": "markdown",
   "id": "a640936d-5e42-4846-b58a-8ac6eaeaa473",
   "metadata": {},
   "source": [
    ":::{.callout-important title=\"Stop - Read - Solve\"}\n",
    "\n",
    "PLINK prints a lot of information. Make sure you read it. \n",
    "\n",
    "1. Which file formats are read by PLINK to understand the data?\n",
    "2. What is the percentage of valid genotype data?\n",
    "3. What is the count of females and males?\n",
    "4. What files are generated as output from the command?\n",
    "\n",
    ":::"
   ]
  },
  {
   "cell_type": "markdown",
   "id": "cdf762fa-d9e1-4855-a2de-333a36be8ed3",
   "metadata": {},
   "source": [
    ":::{.callout-tip title=\"Solution\"}\n",
    "1. PLINK reads two files in the format *.fam* and *.bim* for this task. As explained in the notebook GWAS2, these files contain data for individuals and variants, respectively.\n",
    "2. Immediately we can see that the total genotyping rate for our sample is 0.997378.\n",
    "3. It counts 80 males and 85 females\n",
    "4. It prints the name of the two output files from this command: `data.imiss` and `data.lmiss`, in the directory `Results/GWAS3/`. These files show the proportion of **missing SNPs per individual** and the proportion of **missing individuals per SNP**, respectively.\n",
    "\n",
    ":::\n",
    "\n",
    "We can see a preview of the files to understand their structure. The first individuals of the `imiss` file do not seem to miss phenotypes (column `MISS_PHENO`) and have some proportion of missing genotypes (column `F_MISS`). Similarly, some variants in the `lmiss` file have missing data."
   ]
  },
  {
   "cell_type": "code",
   "execution_count": 4,
   "id": "e64cb902-6e5b-472c-a760-2f84a52f2d58",
   "metadata": {},
   "outputs": [
    {
     "name": "stdout",
     "output_type": "stream",
     "text": [
      "    FID       IID MISS_PHENO   N_MISS   N_GENO   F_MISS\n",
      "   1328   NA06989          N     4203  1457897 0.002883\n",
      "   1377   NA11891          N    20787  1457897  0.01426\n",
      "   1349   NA11843          N     1564  1457897 0.001073\n",
      "   1330   NA12341          N     6218  1457897 0.004265\n"
     ]
    }
   ],
   "source": [
    "head -5 Results/GWAS3/data.imiss"
   ]
  },
  {
   "cell_type": "code",
   "execution_count": 5,
   "id": "4714af05-3e55-4b63-8c0d-1416379b54ed",
   "metadata": {},
   "outputs": [
    {
     "name": "stdout",
     "output_type": "stream",
     "text": [
      " CHR         SNP   N_MISS   N_GENO   F_MISS\n",
      "   1   rs2185539        0      165        0\n",
      "   1  rs11510103        4      165  0.02424\n",
      "   1  rs11240767        0      165        0\n",
      "   1   rs3131972        0      165        0\n"
     ]
    }
   ],
   "source": [
    "head -5 Results/GWAS3/data.lmiss"
   ]
  },
  {
   "cell_type": "markdown",
   "id": "2737a489-31b5-4fa4-8b60-dba2b8b1c2bc",
   "metadata": {},
   "source": [
    "<img src=\"Images/R.png\" alt=\"R\" width=\"40\"> We can use the output files of PLINK to visualize the distribution of the missingness in individuals and SNPs using histograms in `R`. The package used here for visualization is `ggplot2`. Each plot has various elements which are put together with the `+` symbol. Look below at the `R` code and the output."
   ]
  },
  {
   "cell_type": "code",
   "execution_count": 3,
   "id": "904776e1-2135-41c4-a356-1bd0b298cf82",
   "metadata": {
    "tags": []
   },
   "outputs": [
    {
     "data": {
      "image/png": "[encoded data removed]",
      "text/plain": [
       "plot without title"
      ]
     },
     "metadata": {
      "image/png": {
       "height": 240,
       "width": 540
      }
     },
     "output_type": "display_data"
    },
    {
     "data": {
      "image/png": "[encoded data removed]",
      "text/plain": [
       "plot without title"
      ]
     },
     "metadata": {
      "image/png": {
       "height": 240,
       "width": 540
      }
     },
     "output_type": "display_data"
    }
   ],
   "source": [
    "suppressWarnings(library(ggplot2))\n",
    "options(repr.plot.width = 9, repr.plot.height = 4)\n",
    "\n",
    "# Read data into R \n",
    "indmiss <- read.table(file=\"Results/GWAS3/data.imiss\", header=TRUE)\n",
    "snpmiss <- read.table(file=\"Results/GWAS3/data.lmiss\", header=TRUE)\n",
    "\n",
    "#lmiss histogram\n",
    "hist.lmiss <- ggplot(snpmiss, aes(x=snpmiss[,5])) +\n",
    "    geom_histogram(binwidth = 0.005, col = \"black\", fill=\"tomato\") + \n",
    "    labs(title = \"Frequency of missingness rates in SNPs\") + \n",
    "    xlab(\"Frequency\") + \n",
    "    ylab(\"Missingness in SNPs\") + \n",
    "    theme_bw() +\n",
    "    theme(axis.title=element_text(size=13), axis.text=element_text(size=13), plot.title=element_text(size=15))\n",
    "\n",
    "\n",
    "#imiss histogram\n",
    "hist.imiss <- ggplot(indmiss, aes(x=indmiss[,6])) +\n",
    "    geom_histogram(binwidth = 0.001, col = \"black\", fill=\"tomato\") + \n",
    "    labs(title = \"Frequency of missingness rates in individuals\") + \n",
    "    xlab(\"Frequency\") + \n",
    "    ylab(\"Missingness in Individuals\") + \n",
    "    theme_bw() +\n",
    "    theme(axis.title=element_text(size=13), axis.text=element_text(size=13), plot.title=element_text(size=15))\n",
    "\n",
    "#show histograms\n",
    "show(hist.lmiss)\n",
    "show(hist.imiss)\n",
    "\n",
    "# Save plots silently\n",
    "suppressMessages({\n",
    "ggsave(plot=hist.lmiss, filename=\"Results/GWAS3/histlmiss.png\");\n",
    "ggsave(plot=hist.imiss, filename=\"Results/GWAS3/histimiss.png\");\n",
    "})"
   ]
  },
  {
   "cell_type": "markdown",
   "id": "6cd0f40c",
   "metadata": {},
   "source": [
    "Histograms are saved in your results directory as `histimiss.png` and `histlmiss.png`. \n",
    "\n",
    ":::{.callout-important title=\"Stop - Read - Solve\"}\n",
    "- What is the highest percentage of missingness for a SNP?\n",
    "- Are there individuals with no missing data?\n",
    "\n",
    ":::\n",
    "\n",
    "\n",
    ":::{.callout-tip title=\"Solution\"}\n",
    "Here are a few observations we can make. Firstly, it's clear that very few individuals have no missing data at all. One interpretation could be that one or a few SNPs are poorly genotyped across all samples. Fortunately, this isn't the case here, otherwise the first plot would show many more SNPs with high missing frequency. As shown in the SNP-based histogram, the highest percentage of missing data for a SNP is around 0.05 (5%). Overall, the histogram provides insight into how applying a missingness filter will affect the size of your remaining data.\n",
    ":::\n",
    "\n",
    "<img src=\"Images/bash.png\" alt=\"Bash\" width=\"40\">  Next, we will use PLINK to filter the data using missingness thresholds to ensure data quality.\n",
    "\n",
    "We choose a 2% missingness threshold for both individuals and SNP, as only a few outliers exceed this rate (this threshold does not need to be the same for SNPs and individuals). Below, we provide the command to remove samples (`--mind`) and SNPs (`--geno`) above this threshold. The `--out` option defines the output prefix, and `--make-bed` denotes the output format. PLINK provides detailed output during execution, so check the printed text to monitor progress."
   ]
  },
  {
   "cell_type": "code",
   "execution_count": 1,
   "id": "5077d592-61cd-4b33-8691-e0a77f06b326",
   "metadata": {
    "tags": []
   },
   "outputs": [
    {
     "name": "stdout",
     "output_type": "stream",
     "text": [
      "PLINK v1.90b6.21 64-bit (19 Oct 2020)          www.cog-genomics.org/plink/1.9/\n",
      "(C) 2005-2020 Shaun Purcell, Christopher Chang   GNU General Public License v3\n",
      "Logging to Results/GWAS3/HapMap_3_r3_2.log.\n",
      "Options in effect:\n",
      "  --bfile Data/HapMap_3_r3_1\n",
      "  --geno .02\n",
      "  --make-bed\n",
      "  --mind .02\n",
      "  --out Results/GWAS3/HapMap_3_r3_2\n",
      "\n",
      "385567 MB RAM detected; reserving 192783 MB for main workspace.\n",
      "1457897 variants loaded from .bim file.\n",
      "165 people (80 males, 85 females) loaded from .fam.\n",
      "112 phenotype values loaded from .fam.\n",
      "1 person removed due to missing genotype data (--mind).\n",
      "ID written to Results/GWAS3/HapMap_3_r3_2.irem .\n",
      "Using 1 thread (no multithreaded calculations invoked).\n",
      "Before main variant filters, 112 founders and 52 nonfounders present.\n",
      "Calculating allele frequencies... 10111213141516171819202122232425262728293031323334353637383940414243444546474849505152535455565758596061626364656667686970717273747576777879808182838485868788899091929394959697989 done.\n",
      "Warning: 225 het. haploid genotypes present (see Results/GWAS3/HapMap_3_r3_2.hh\n",
      "); many commands treat these as missing.\n",
      "Total genotyping rate in remaining samples is 0.997486.\n",
      "26686 variants removed due to missing genotype data (--geno).\n",
      "1431211 variants and 164 people pass filters and QC.\n",
      "Among remaining phenotypes, 56 are cases and 56 are controls.  (52 phenotypes\n",
      "are missing.)\n",
      "--make-bed to Results/GWAS3/HapMap_3_r3_2.bed + Results/GWAS3/HapMap_3_r3_2.bim\n",
      "+ Results/GWAS3/HapMap_3_r3_2.fam ... 101112131415161718192021222324252627282930313233343536373839404142434445464748495051525354555657585960616263646566676869707172737475767778798081828384858687888990919293949596979899done.\n"
     ]
    }
   ],
   "source": [
    "# Delete samples with missing call freq > 2% and SNPs with missingness > 2%\n",
    "plink --bfile Data/HapMap_3_r3_1 --mind .02 --geno .02 --make-bed --out Results/GWAS3/HapMap_3_r3_2"
   ]
  },
  {
   "cell_type": "markdown",
   "id": "cdd29854-6cb1-4f12-9e59-28b4668d3e49",
   "metadata": {},
   "source": [
    ":::{.callout-important title=\"Stop - Read - Solve\"}\n",
    "\n",
    "What happened during filtering?\n",
    "\n",
    "- How many individuals and variants were removed?\n",
    "- Can you preview the output files? \n",
    "\n",
    ":::"
   ]
  },
  {
   "cell_type": "markdown",
   "id": "62ae7663-15b9-46ba-b2a2-735caeccc978",
   "metadata": {},
   "source": [
    ":::{.callout-tip title=\"Solution\" collapse=\"true\"}\n",
    "\n",
    ":::\n",
    "\n",
    "Only 1 individual has been removed, while 26686 variants where above the filtering threshold.\n",
    "We can see a preview of the output files: those are again a set of `fam`, `bim` and `bed` file including only the data passing the filters. For the first two formats we can use `head`, while for the `bed` file we need also `xxd` because of the binary nature of the file."
   ]
  },
  {
   "cell_type": "code",
   "execution_count": 2,
   "id": "95d017ba-4ad1-4787-b1d1-901c99a57acc",
   "metadata": {},
   "outputs": [
    {
     "name": "stdout",
     "output_type": "stream",
     "text": [
      "1328 NA06989 0 0 2 2\n",
      "1377 NA11891 0 0 1 2\n",
      "1349 NA11843 0 0 1 1\n",
      "1330 NA12341 0 0 2 2\n",
      "1344 NA10850 0 NA12058 2 -9\n"
     ]
    }
   ],
   "source": [
    "head -5 Results/GWAS3/HapMap_3_r3_2.fam"
   ]
  },
  {
   "cell_type": "code",
   "execution_count": 3,
   "id": "14273355-f7d3-46d7-aee3-d0e26680ac72",
   "metadata": {},
   "outputs": [
    {
     "name": "stdout",
     "output_type": "stream",
     "text": [
      "1\trs2185539\t0\t556738\tT\tC\n",
      "1\trs11240767\t0\t718814\tT\tC\n",
      "1\trs3131972\t0\t742584\tA\tG\n",
      "1\trs3131969\t0\t744045\tA\tG\n",
      "1\trs1048488\t0\t750775\tC\tT\n"
     ]
    }
   ],
   "source": [
    "head -5 Results/GWAS3/HapMap_3_r3_2.bim"
   ]
  },
  {
   "cell_type": "code",
   "execution_count": 4,
   "id": "ad7f12e6-a432-4a9c-a87b-5b5798584e6b",
   "metadata": {},
   "outputs": [
    {
     "name": "stdout",
     "output_type": "stream",
     "text": [
      "00000000: 01101100 00011011 00000001 11111111 11111111 11111111  l.....\n",
      "00000006: 11111111 11111111 11111111 11111111 11111111 11111111  ......\n",
      "0000000c: 11111111 11111111 11111111 11111111 11111111 11111111  ......\n",
      "00000012: 11111111 11111111 11111111 11111111 11111111 11111111  ......\n",
      "00000018: 11111111 11111111 11111111 11111111 11111111 11111111  ......\n"
     ]
    }
   ],
   "source": [
    "xxd -b Results/GWAS3/HapMap_3_r3_2.bed | head -5"
   ]
  },
  {
   "cell_type": "markdown",
   "id": "a06ceb36",
   "metadata": {},
   "source": [
    "***\n",
    "# Sex Discrepancy\n",
    "\n",
    "One useful check is verifying if the indicated genders are correct. Using PLINK, you can calculate the inbreeding coefficient on the X chromosome under the assumption that it is an autosomal chromosome. This approach is insightful because PLINK treats haploid chromosomes (like the X chromosome in males) as homozygotes due to technical reasons. Consequently, assuming the X chromosome is autosomal makes males appear highly inbred on the X, whereas females do not (since they have two X chromosomes). As a result, the inbreeding coefficient estimates will be close to 1 for males and 0 for females.\n",
    "\n",
    "## PLINK Commands\n",
    "\n",
    "This gender check can be performed in PLINK using the `--check-sex` option. The results are outputted in the file with extension `.sexcheck` (in the `Results/GWAS4` folder) in which the gender is in column `PEDSEX` (1 means male and 2 means female) and the inbreeding coefficient is in column `F`). \n",
    "\n",
    "Generally, males should have an X chromosome homozygosity estimate >0.8 and females should have a value <0.2. So we could simply remove any individuals where the homozygosity estimate (F) does not match their specified sex. Subjects who do not fulfil these requirements are flagged \"PROBLEM\" by PLINK in the output file.\n",
    "\n",
    "Note the option `--silent` to avoid long texts printed out on the screen."
   ]
  },
  {
   "cell_type": "code",
   "execution_count": 5,
   "id": "bc02622c",
   "metadata": {
    "tags": []
   },
   "outputs": [
    {
     "name": "stdout",
     "output_type": "stream",
     "text": [
      "Warning: 181 het. haploid genotypes present (see Results/GWAS3/HapMap_3_r3_2.hh\n",
      "); many commands treat these as missing.\n"
     ]
    }
   ],
   "source": [
    "plink --bfile Results/GWAS3/HapMap_3_r3_2 --check-sex --out Results/GWAS3/HapMap_3_r3_2 --silent"
   ]
  },
  {
   "cell_type": "markdown",
   "id": "8fb8b86b",
   "metadata": {},
   "source": [
    "<img src=\"Images/R.png\" alt=\"R\" width=\"40\">  We can visualise the results of the sex check by plotting three histograms for the F values in males, females, and all samples:"
   ]
  },
  {
   "cell_type": "code",
   "execution_count": 1,
   "id": "8ca49591-e1f1-4766-9dc9-3bf66670ba92",
   "metadata": {
    "tags": []
   },
   "outputs": [
    {
     "name": "stderr",
     "output_type": "stream",
     "text": [
      "\u001b[1m\u001b[22m`stat_bin()` using `bins = 30`. Pick better value with `binwidth`.\n",
      "\u001b[1m\u001b[22m`stat_bin()` using `bins = 30`. Pick better value with `binwidth`.\n"
     ]
    },
    {
     "data": {
      "image/png": "[encoded data removed]",
      "text/plain": [
       "plot without title"
      ]
     },
     "metadata": {
      "image/png": {
       "height": 240,
       "width": 540
      }
     },
     "output_type": "display_data"
    },
    {
     "name": "stderr",
     "output_type": "stream",
     "text": [
      "\u001b[1m\u001b[22m`stat_bin()` using `bins = 30`. Pick better value with `binwidth`.\n"
     ]
    },
    {
     "data": {
      "image/png": "[encoded data removed]",
      "text/plain": [
       "plot without title"
      ]
     },
     "metadata": {
      "image/png": {
       "height": 240,
       "width": 540
      }
     },
     "output_type": "display_data"
    },
    {
     "name": "stderr",
     "output_type": "stream",
     "text": [
      "\u001b[1m\u001b[22mSaving 6.67 x 6.67 in image\n",
      "\u001b[1m\u001b[22m`stat_bin()` using `bins = 30`. Pick better value with `binwidth`.\n",
      "\u001b[1m\u001b[22mSaving 6.67 x 6.67 in image\n",
      "\u001b[1m\u001b[22m`stat_bin()` using `bins = 30`. Pick better value with `binwidth`.\n",
      "\u001b[1m\u001b[22mSaving 6.67 x 6.67 in image\n",
      "\u001b[1m\u001b[22m`stat_bin()` using `bins = 30`. Pick better value with `binwidth`.\n"
     ]
    },
    {
     "data": {
      "image/png": "[encoded data removed]",
      "text/plain": [
       "plot without title"
      ]
     },
     "metadata": {
      "image/png": {
       "height": 240,
       "width": 540
      }
     },
     "output_type": "display_data"
    }
   ],
   "source": [
    "#| label: fig-F\n",
    "#| fig-cap: \"inbreeding coefficients for all genders and for males/females separately.\"\n",
    "\n",
    "suppressMessages(suppressWarnings(library(ggplot2)))\n",
    "options(repr.plot.width = 9, repr.plot.height = 4)\n",
    "\n",
    "# Read data into R\n",
    "gender <- read.table(\"Results/GWAS3/HapMap_3_r3_2.sexcheck\", header=T,as.is=T)\n",
    "male <- subset(gender, gender$PEDSEX==1)\n",
    "female <- subset(gender, gender$PEDSEX==2)\n",
    "\n",
    "# plink.imiss histogram\n",
    "hist.gender <- ggplot(gender, aes(x=gender[,6])) +\n",
    "  geom_histogram(col = \"black\", fill=\"tomato\") + \n",
    "  labs(title = \"Values of F for all sexes\") + \n",
    "  xlab(\"F\") + \n",
    "  theme_bw()\n",
    "\n",
    "# plink.imiss histogram\n",
    "hist.male <- ggplot(male, aes(x=male[,6])) +\n",
    "  geom_histogram(col = \"black\", fill=\"tomato\") + \n",
    "  labs(title = \"Values of F for Male\") + \n",
    "  xlab(\"F\") + \n",
    "  theme_bw()\n",
    "\n",
    "\n",
    "# plink.imiss histogram\n",
    "hist.female <- ggplot(female, aes(x=female[,6])) +\n",
    "  geom_histogram(col = \"black\", fill=\"tomato\") + \n",
    "  labs(title = \"Values of F for Female\") + \n",
    "  xlab(\"F\") + \n",
    "  theme_bw()\n",
    "\n",
    "show(hist.gender)\n",
    "show(hist.male)\n",
    "show(hist.female)\n",
    "\n",
    "# Save plots \n",
    "ggsave(plot=hist.gender, filename=\"Results/GWAS3/histgender.png\")\n",
    "ggsave(plot=hist.male, filename=\"Results/GWAS3/histmale.png\")\n",
    "ggsave(plot=hist.female, filename=\"Results/GWAS3/histfemale.png\")"
   ]
  },
  {
   "cell_type": "markdown",
   "id": "054fc475",
   "metadata": {},
   "source": [
    "The inbreeding coefficient plot of @fig-F indicates that there is one woman with a sex discrepancy (F value of 0.99). When using other datasets often a few discrepancies might be found. \n",
    "\n",
    "We have two options when dealing with sex discrepancy. One is to simply remove any individual with sex discrepancy. In our case, this would involve removing the female with the F value of 0.99. \n",
    "\n",
    "<img src=\"Images/bash.png\" alt=\"bash\" width=\"40\">  Removal can be done with the command below. Use `grep` to find lines in the sexcheck file that contain `PROBLEM`. Then, pipe (send) the output to the command `awk` (using the so-called pipe symbol `|`). `awk` will extract the first two columns from each line identified by the `grep` command and redirect them to the file `sex_discrepancy.txt` using the symbol `>` (redirecting the output away from the screen/terminal)."
   ]
  },
  {
   "cell_type": "code",
   "execution_count": 1,
   "id": "57f544c6",
   "metadata": {
    "tags": []
   },
   "outputs": [],
   "source": [
    "grep \"PROBLEM\" Results/GWAS3/HapMap_3_r3_2.sexcheck | awk '{print$1,$2}'> Results/GWAS3/sex_discrepancy.txt"
   ]
  },
  {
   "cell_type": "markdown",
   "id": "66aa4ebf-7ffe-4f96-a6db-6b2c151d0aca",
   "metadata": {},
   "source": [
    "Show the content of the file using `cat`:"
   ]
  },
  {
   "cell_type": "code",
   "execution_count": 2,
   "id": "3e151a47-8fc2-4931-823f-40e2732b076b",
   "metadata": {
    "tags": []
   },
   "outputs": [
    {
     "name": "stdout",
     "output_type": "stream",
     "text": [
      "1349 NA10854\n"
     ]
    }
   ],
   "source": [
    "cat Results/GWAS3/sex_discrepancy.txt"
   ]
  },
  {
   "cell_type": "markdown",
   "id": "700b47a6",
   "metadata": {},
   "source": [
    "For long files, you can simply count the number of lines in the file with `wc` (word count command)"
   ]
  },
  {
   "cell_type": "code",
   "execution_count": 3,
   "id": "a9ca1c0b",
   "metadata": {
    "tags": []
   },
   "outputs": [
    {
     "name": "stdout",
     "output_type": "stream",
     "text": [
      "1 Results/GWAS3/sex_discrepancy.txt\n"
     ]
    }
   ],
   "source": [
    "wc -l Results/GWAS3/sex_discrepancy.txt"
   ]
  },
  {
   "cell_type": "markdown",
   "id": "c2b73cb8",
   "metadata": {},
   "source": [
    "The file can be provided to PLINK for removal of sex-discrepant individuals using the option `--remove`:"
   ]
  },
  {
   "cell_type": "code",
   "execution_count": 5,
   "id": "5c10a26c",
   "metadata": {
    "tags": []
   },
   "outputs": [
    {
     "name": "stdout",
     "output_type": "stream",
     "text": [
      "Warning: 181 het. haploid genotypes present (see Results/GWAS3/HapMap_3_r3_3.hh\n",
      "); many commands treat these as missing.\n"
     ]
    }
   ],
   "source": [
    "plink --bfile Results/GWAS3/HapMap_3_r3_2 --remove Results/GWAS3/sex_discrepancy.txt --make-bed --out Results/GWAS3/HapMap_3_r3_3 --silent"
   ]
  },
  {
   "cell_type": "markdown",
   "id": "32882b66",
   "metadata": {},
   "source": [
    ":::{.callout-note}\n",
    "\n",
    "Another approach supported by PLINK is to impute the sex codes based on the SNP data, which is done with the command `--impute-sex` as shown below. \n",
    "\n",
    "```{.bash}\n",
    "plink --bfile Results/GWAS3/HapMap_3_r3_2 --impute-sex --make-bed --out Results/GWAS3/HapMap_3_r3_3\n",
    "```\n",
    "\n",
    "PLINK finds out automatically how to impute the wrong genders, so you need just to type the extra option into it. However, we will not be executing this command. Instead, we will keep only the dataset where we filtered out the wrong gender.\n",
    "\n",
    ":::"
   ]
  },
  {
   "cell_type": "markdown",
   "id": "d5990d70",
   "metadata": {},
   "source": [
    "# Minor Allele Frequency (MAF)\n",
    "\n",
    "Excluding SNPs based on minor allele frequency (MAF) is somewhat controversial. In a sense, it has little to do with quality control – there is no reason to think there are any errors in the data. The main justification is statistical:\n",
    "\n",
    "- If MAF is low, and the SNP is rare, then the power is low (i.e. don’t spend multiple testing corrections on tests that are unlikely to find anything anyway).\n",
    "- Some statistical methods perform badly with low MAF (e.g. the chi-squared-test).\n",
    "\n",
    "An appropriate cutoff definitely depends on sample size – the larger the sample, the greater your ability to include rare SNPs. Typically, researchers utilize thresholds  of 0.1 or 0.05 (@kanaka_concepts_2023).\n",
    "\n",
    "## Command\n",
    "\n",
    "Filtering data based on the minor allele frequencies is done in a similar way to previous commands. If you want to get rid only of the fixed SNPs, you specify a MAF threshold of 0, which can be done by the command `--maf 0`\n",
    "\n",
    ":::{.callout-warning}\n",
    "\n",
    "One should **limit MAF analysis to only autosomal chromosomes**, meaning you need to generate a subset of the data containing only autosomal chromosomes as done below.\n",
    "\n",
    ":::\n",
    "\n",
    "We extract the SNP identifiers from chromosomes 1 to 22 with `awk`, and redirect the output to the file `snp_1_22.txt`. Then, PLINK can extract those SNPs using the option `--extract`."
   ]
  },
  {
   "cell_type": "code",
   "execution_count": 6,
   "id": "80174ebb",
   "metadata": {
    "tags": []
   },
   "outputs": [],
   "source": [
    "awk '{ if ($1 >= 1 && $1 <= 22) print $2 }' Results/GWAS3/HapMap_3_r3_3.bim > Results/GWAS3/snp_1_22.txt\n",
    "plink --bfile Results/GWAS3/HapMap_3_r3_3 --extract Results/GWAS3/snp_1_22.txt --make-bed --out Results/GWAS3/HapMap_3_r3_4 --silent"
   ]
  },
  {
   "cell_type": "markdown",
   "id": "a5398bfa-2b0c-41cf-80fe-fcc01b8e3d8c",
   "metadata": {},
   "source": [
    ":::{.callout-important title=\"Stop - Read - Solve\"}\n",
    "\n",
    "How can you verify if only the autosomal regions are present in the output? Try to visualize the chromosomes from one of the output files.\n",
    "\n",
    ":::"
   ]
  },
  {
   "cell_type": "code",
   "execution_count": 1,
   "id": "90aaf03e-e293-48ee-8a48-e9915fb6bc30",
   "metadata": {},
   "outputs": [],
   "source": [
    "#write your code"
   ]
  },
  {
   "cell_type": "markdown",
   "id": "b08f9cf2-c934-4ac7-a777-b38f0970f89c",
   "metadata": {},
   "source": [
    ":::{.callout-tip title=\"Solution\"}\n",
    "\n",
    "SNPs are saved in the output `bim` file. The first column of this file contains the chromosome names. So we simply need to print those, extract the first column, and check the unique names (as extra, we count how many times each chromosome occur):"
   ]
  },
  {
   "cell_type": "code",
   "execution_count": 15,
   "id": "2bf6d931-1e47-4dc9-a886-560db02e2c4d",
   "metadata": {},
   "outputs": [
    {
     "name": "stdout",
     "output_type": "stream",
     "text": [
      " 117486 1\n",
      " 117527 2\n",
      "  97357 3\n",
      "  86412 4\n",
      "  88839 5\n",
      "  92059 6\n",
      "  75941 7\n",
      "  75794 8\n",
      "  64194 9\n",
      "  74392 10\n",
      "  71825 11\n",
      "  69411 12\n",
      "  52348 13\n",
      "  45631 14\n",
      "  42297 15\n",
      "  45099 16\n",
      "  38736 17\n",
      "  41147 18\n",
      "  26439 19\n",
      "  36631 20\n",
      "  19427 21\n",
      "  20314 22\n"
     ]
    }
   ],
   "source": [
    "cut -f 1 Results/GWAS3/HapMap_3_r3_4.bim | uniq -c"
   ]
  },
  {
   "cell_type": "markdown",
   "id": "b6e311af-d256-4925-958f-6aa8ea8ddc63",
   "metadata": {},
   "source": [
    ":::\n",
    "\n",
    "---"
   ]
  },
  {
   "cell_type": "markdown",
   "id": "dcb8be79",
   "metadata": {},
   "source": [
    "Now that we have a set of files with autosomal chromosomes only, we should have a look at the summary statistics for the minor allele frequency, and plot the values on a histogram. We can do this using the `--freq` option in PLINK:"
   ]
  },
  {
   "cell_type": "code",
   "execution_count": 7,
   "id": "d7fe20f4",
   "metadata": {
    "tags": []
   },
   "outputs": [],
   "source": [
    "# Generate a plot of the MAF distribution.\n",
    "plink --bfile Results/GWAS3/HapMap_3_r3_4 --freq --out Results/GWAS3/MAF_check --silent"
   ]
  },
  {
   "cell_type": "markdown",
   "id": "530c817e-ccb1-491b-9ad2-5ce36e2d5538",
   "metadata": {},
   "source": [
    "<img src=\"Images/R.png\" alt=\"R\" width=\"40\"> Let's plot the MAF histogram using `R`. The second plot, is a zoom-in version with MAF up to 0.1 to observe the low MAF values. "
   ]
  },
  {
   "cell_type": "code",
   "execution_count": null,
   "id": "c8e23649-69c5-4bc1-a4c3-5f47c113f947",
   "metadata": {
    "tags": []
   },
   "outputs": [],
   "source": [
    "#| label: fig-MAF\n",
    "#| fig-cap: \"MAF plot for the autosomal SNPs only. Note the zoomed interval (0, 0.1)\"\n",
    "\n",
    "suppressMessages(suppressWarnings(library(ggplot2)))\n",
    "options(repr.plot.width = 9, repr.plot.height = 4)\n",
    "\n",
    "# Read data into R \n",
    "maf_freq <- read.table(\"Results/GWAS3/MAF_check.frq\", header =TRUE, as.is=T)\n",
    "\n",
    "# maf_freq histogram\n",
    "hist.maf <- ggplot(maf_freq, aes(x=maf_freq[,5])) +\n",
    "  geom_histogram(col = \"black\", fill=\"tomato\") + \n",
    "  labs(title = \"MAF distribution\") + \n",
    "  xlab(\"MAF\") + \n",
    "  ylab(\"Frequency\") +\n",
    "  theme_bw()\n",
    "\n",
    "# zoom-in into X-axis\n",
    "hist.maf.zoom <- ggplot(maf_freq, aes(x=maf_freq[,5])) +\n",
    "  geom_histogram(col = \"black\", fill=\"tomato\", bins = 10) + \n",
    "  labs(title = \"Zoom into MAF distribution up to value 0.1\") + \n",
    "  xlab(\"MAF\") + \n",
    "  ylab(\"Frequency\") +\n",
    "  xlim(-.01, 0.1) +\n",
    "  theme_bw()\n",
    "\n",
    "\n",
    "show(hist.maf)\n",
    "show(hist.maf.zoom)\n",
    "\n",
    "# Save plots \n",
    "suppressMessages(ggsave(plot=hist.maf, filename=\"Results/GWAS3/histmaf.png\"))"
   ]
  },
  {
   "cell_type": "markdown",
   "id": "0b5a7c8d",
   "metadata": {},
   "source": [
    "<img src=\"Images/bash.png\" alt=\"bash\" width=\"40\"> As stated above, your MAF threshold depends on sample size, though a conventional MAF threshold for a regular GWAS is between 0.1 and 0.05. Here, to ensure the inclusion of only SNPs we will apply a MAF threshold of 0.05 (that is, remove SNPs where the MAF is 5% or less). The threshold is given with the option `--maf`:"
   ]
  },
  {
   "cell_type": "code",
   "execution_count": 1,
   "id": "465be532",
   "metadata": {
    "tags": []
   },
   "outputs": [],
   "source": [
    "# Remove SNPs with a low MAF frequency.\n",
    "plink --bfile Results/GWAS3/HapMap_3_r3_4 --maf 0.05 --make-bed --out Results/GWAS3/HapMap_3_r3_5 --silent"
   ]
  },
  {
   "cell_type": "markdown",
   "id": "d965c4bf-0cd4-441d-85db-df738d71bf1c",
   "metadata": {},
   "source": [
    ":::{.callout-important title=\"Stop - Read - Solve\"}\n",
    "\n",
    "Determine the number of SNPs remaining after applying quality control measures.\n",
    "Hint: Check the `.bim` file from the output located in `Results/GWAS3/HapMap_3_r3_5`.\n",
    "\n",
    ":::"
   ]
  },
  {
   "cell_type": "code",
   "execution_count": null,
   "id": "c06831c1-f8b7-4461-a259-e79b621ea3a1",
   "metadata": {},
   "outputs": [],
   "source": [
    "#Write your code here"
   ]
  },
  {
   "cell_type": "markdown",
   "id": "18ea1bda-20de-4ad1-b7f6-ad484caf04a1",
   "metadata": {},
   "source": [
    ":::{.callout-tip title=\"Solution\"}\n",
    "\n",
    "Simply check the number of lines of the `.bim` file"
   ]
  },
  {
   "cell_type": "code",
   "execution_count": 2,
   "id": "c3466a68-a536-4265-b80a-9c9474424410",
   "metadata": {},
   "outputs": [
    {
     "name": "stdout",
     "output_type": "stream",
     "text": [
      "1073788 Results/GWAS3/HapMap_3_r3_5.bim\n"
     ]
    }
   ],
   "source": [
    "wc -l Results/GWAS3/HapMap_3_r3_5.bim"
   ]
  },
  {
   "cell_type": "markdown",
   "id": "b56d5698-a608-45c4-ad44-6419f5c81593",
   "metadata": {},
   "source": [
    ":::\n",
    "\n",
    "---\n",
    "\n"
   ]
  },
  {
   "cell_type": "markdown",
   "id": "124b254e",
   "metadata": {},
   "source": [
    "It is worth noting that no matter what the sample size is, monomorphic SNPs (i.e., SNPs that show no genetic variation whatsoever in the sample) are usually problematic and should always be removed. Some code crashes when monomorphic SNPs are included; even if this wasn’t the case, these SNPs cannot possibly be informative in a genome-wide association study."
   ]
  },
  {
   "cell_type": "markdown",
   "id": "804137f3",
   "metadata": {},
   "source": [
    "# Hardy-Weinberg Equilibrium (HWE)"
   ]
  },
  {
   "cell_type": "markdown",
   "id": "3450fe19",
   "metadata": {},
   "source": [
    "The Hardy-Weinberg rule from population genetics states that genetic variation (thus, allele and genotype frequencies) in a population will remain constant unless certain disturbing factors are introduced. This also means that when we know the allele frequencies for $p$ and $q$, the genotype frequencies will be defined as $p^2$, $2pq$, and $q^2$.\n",
    "\n",
    "Let's say the frequency of allele A ($p$ in the equation) is 0.4, and that of allele B ($q$ in the equation) is 0.6. This means for the H-W scenario the genotype frequencies will be 0.16 for AA, 0.48 for AB, and 0.36 for BB. This also means that in a population of e.g. 1000 individuals with the mentioned allele frequencies we expect to see 160 AA, 480 AB, and 360 BB individuals. Of course, we rarely see exact H-W distributions in real populations. The question then becomes, what is the extent of the difference between the expected H-W proportions in each SNP, and the observed proportions in reality? There are typically two reasons why a SNP is not in HWE:\n",
    "\n",
    "* Genotyping error for this SNP\n",
    "* Mating is not random\n",
    "\n",
    "In the real world, mating is of course not random, making it difficult to exclude SNPs based on HWE. The usual recommendation is to exclude a SNP only if HWE is hugely violated (e.g., p-value p<10e−10 for a statistical test of whether the data follow a binomial distribution).\n",
    "\n",
    ":::{.callout-note title=\"HWE and binomial distribution\"}\n",
    "\n",
    "Why is HWE connected to the binomial distribution? What is the ground theory of HWE? You can read an understandable basic tratment of HWE at (@lachance_hardyweinberg_2016).\n",
    "\n",
    ":::"
   ]
  },
  {
   "cell_type": "markdown",
   "id": "13184de9",
   "metadata": {},
   "source": [
    "## Command\n",
    "\n",
    "We can use the option `--hardy` in PLINK to generate H-W p-values (as well as observed and expected heterozygosity). Then, we can employ `awk` to select SNPs (column 9 of the file) with HWE p-value below 0.0001, which are strongly deviating from H-W equilibrium."
   ]
  },
  {
   "cell_type": "code",
   "execution_count": 1,
   "id": "67839627",
   "metadata": {
    "scrolled": true,
    "tags": []
   },
   "outputs": [],
   "source": [
    "plink --bfile Results/GWAS3/HapMap_3_r3_5 --hardy --out Results/GWAS3/HapMap_3_r3_5 --silent\n",
    "\n",
    "awk '{ if ($9 <0.00001) print $0 }' Results/GWAS3/HapMap_3_r3_5.hwe > Results/GWAS3/HapMap_3_r3_5.deviating.hwe"
   ]
  },
  {
   "cell_type": "markdown",
   "id": "a70caceb-76c1-4f61-9f28-778c526b1ffd",
   "metadata": {},
   "source": [
    "We will look more into the content of the produced files in the following `R` code."
   ]
  },
  {
   "cell_type": "markdown",
   "id": "204571e2-90a7-4615-baf3-ef1d237dfb01",
   "metadata": {},
   "source": [
    "<img src=\"Images/R.png\" alt=\"R\" width=\"40\"> Let's plot a histogram of the HWE p-values and zoom in for the deviating p-values. To do so, we need to first read the data and look at the table from the HWE test in PLINK. \n",
    "After using `--hardy` option in PLINK, the columns in the output file typically include the following:\n",
    "\n",
    "- CHR: Chromosome number.\n",
    "- SNP: SNP identifier (rsID).\n",
    "- TEST: Type of HWE test performed. This will usually be \"UNAFF\" for the test on controls if your data has case/control status.\n",
    "- A1: First allele (reference allele).\n",
    "- A2: Second allele (alternate allele).\n",
    "- GENO: Genotype counts in the format \"HOM1/HET/HOM2\", where HOM1 is the count of homozygous for the first allele, HET is the count of heterozygous, and HOM2 is the - count of homozygous for the second allele.\n",
    "- O(HET): Observed heterozygote frequency.\n",
    "- E(HET): Expected heterozygote frequency.\n",
    "- P: Hardy-Weinberg equilibrium exact test p-value.\n",
    "  \n",
    "We will modify the values in the `TEST` column to have more readable names for the plots and save the updated values in the `Phenotype` column."
   ]
  },
  {
   "cell_type": "code",
   "execution_count": 1,
   "id": "abe983c3-2cde-453c-9f32-118e2fcca040",
   "metadata": {
    "tags": []
   },
   "outputs": [
    {
     "name": "stderr",
     "output_type": "stream",
     "text": [
      "Warning message:\n",
      "“package ‘dplyr’ was built under R version 4.3.3”\n",
      "\n",
      "Attaching package: ‘dplyr’\n",
      "\n",
      "\n",
      "The following objects are masked from ‘package:stats’:\n",
      "\n",
      "    filter, lag\n",
      "\n",
      "\n",
      "The following objects are masked from ‘package:base’:\n",
      "\n",
      "    intersect, setdiff, setequal, union\n",
      "\n",
      "\n"
     ]
    }
   ],
   "source": [
    "library(dplyr)\n",
    "\n",
    "# Read data into R using dplyr library \n",
    "hwe <- read.table(file=\"Results/GWAS3/HapMap_3_r3_5.hwe\", header=TRUE)\n",
    "hwe_zoom <- read.table(file=\"Results/GWAS3/HapMap_3_r3_5.deviating.hwe\", header=FALSE)\n",
    "colnames(hwe_zoom) <- colnames(hwe)\n",
    "hwe$Phenotype <- recode(hwe$TEST, \"ALL\"=\"All\", \"UNAFF\"=\"Control\", \"AFF\"=\"Non-Control\")\n",
    "hwe_zoom$Phenotype <- recode(hwe_zoom$TEST, \"ALL\"=\"All\", \"UNAFF\"=\"Control\", \"AFF\"=\"Non-Control\")"
   ]
  },
  {
   "cell_type": "markdown",
   "id": "12f7b311-1049-47fb-bedd-f616625538dd",
   "metadata": {},
   "source": [
    "Here, we print the first rows of the two generated tables"
   ]
  },
  {
   "cell_type": "code",
   "execution_count": 2,
   "id": "74418d2d-22de-4162-8144-5e5360f211be",
   "metadata": {
    "tags": []
   },
   "outputs": [
    {
     "data": {
      "text/html": [
       "<table class=\"dataframe\">\n",
       "<caption>A data.frame: 6 × 10</caption>\n",
       "<thead>\n",
       "\t<tr><th></th><th scope=col>CHR</th><th scope=col>SNP</th><th scope=col>TEST</th><th scope=col>A1</th><th scope=col>A2</th><th scope=col>GENO</th><th scope=col>O.HET.</th><th scope=col>E.HET.</th><th scope=col>P</th><th scope=col>Phenotype</th></tr>\n",
       "\t<tr><th></th><th scope=col>&lt;int&gt;</th><th scope=col>&lt;chr&gt;</th><th scope=col>&lt;chr&gt;</th><th scope=col>&lt;chr&gt;</th><th scope=col>&lt;chr&gt;</th><th scope=col>&lt;chr&gt;</th><th scope=col>&lt;dbl&gt;</th><th scope=col>&lt;dbl&gt;</th><th scope=col>&lt;dbl&gt;</th><th scope=col>&lt;chr&gt;</th></tr>\n",
       "</thead>\n",
       "<tbody>\n",
       "\t<tr><th scope=row>1</th><td>1</td><td>rs3131972</td><td>ALL  </td><td>A</td><td>G</td><td>2/33/77</td><td>0.2946</td><td>0.2758</td><td>0.7324</td><td>All        </td></tr>\n",
       "\t<tr><th scope=row>2</th><td>1</td><td>rs3131972</td><td>AFF  </td><td>A</td><td>G</td><td>1/19/36</td><td>0.3393</td><td>0.3047</td><td>0.6670</td><td>Non-Control</td></tr>\n",
       "\t<tr><th scope=row>3</th><td>1</td><td>rs3131972</td><td>UNAFF</td><td>A</td><td>G</td><td>1/14/41</td><td>0.2500</td><td>0.2449</td><td>1.0000</td><td>Control    </td></tr>\n",
       "\t<tr><th scope=row>4</th><td>1</td><td>rs3131969</td><td>ALL  </td><td>A</td><td>G</td><td>2/26/84</td><td>0.2321</td><td>0.2320</td><td>1.0000</td><td>All        </td></tr>\n",
       "\t<tr><th scope=row>5</th><td>1</td><td>rs3131969</td><td>AFF  </td><td>A</td><td>G</td><td>1/17/38</td><td>0.3036</td><td>0.2817</td><td>1.0000</td><td>Non-Control</td></tr>\n",
       "\t<tr><th scope=row>6</th><td>1</td><td>rs3131969</td><td>UNAFF</td><td>A</td><td>G</td><td>1/9/46 </td><td>0.1607</td><td>0.1771</td><td>0.4189</td><td>Control    </td></tr>\n",
       "</tbody>\n",
       "</table>\n"
      ],
      "text/latex": [
       "A data.frame: 6 × 10\n",
       "\\begin{tabular}{r|llllllllll}\n",
       "  & CHR & SNP & TEST & A1 & A2 & GENO & O.HET. & E.HET. & P & Phenotype\\\\\n",
       "  & <int> & <chr> & <chr> & <chr> & <chr> & <chr> & <dbl> & <dbl> & <dbl> & <chr>\\\\\n",
       "\\hline\n",
       "\t1 & 1 & rs3131972 & ALL   & A & G & 2/33/77 & 0.2946 & 0.2758 & 0.7324 & All        \\\\\n",
       "\t2 & 1 & rs3131972 & AFF   & A & G & 1/19/36 & 0.3393 & 0.3047 & 0.6670 & Non-Control\\\\\n",
       "\t3 & 1 & rs3131972 & UNAFF & A & G & 1/14/41 & 0.2500 & 0.2449 & 1.0000 & Control    \\\\\n",
       "\t4 & 1 & rs3131969 & ALL   & A & G & 2/26/84 & 0.2321 & 0.2320 & 1.0000 & All        \\\\\n",
       "\t5 & 1 & rs3131969 & AFF   & A & G & 1/17/38 & 0.3036 & 0.2817 & 1.0000 & Non-Control\\\\\n",
       "\t6 & 1 & rs3131969 & UNAFF & A & G & 1/9/46  & 0.1607 & 0.1771 & 0.4189 & Control    \\\\\n",
       "\\end{tabular}\n"
      ],
      "text/markdown": [
       "\n",
       "A data.frame: 6 × 10\n",
       "\n",
       "| <!--/--> | CHR &lt;int&gt; | SNP &lt;chr&gt; | TEST &lt;chr&gt; | A1 &lt;chr&gt; | A2 &lt;chr&gt; | GENO &lt;chr&gt; | O.HET. &lt;dbl&gt; | E.HET. &lt;dbl&gt; | P &lt;dbl&gt; | Phenotype &lt;chr&gt; |\n",
       "|---|---|---|---|---|---|---|---|---|---|---|\n",
       "| 1 | 1 | rs3131972 | ALL   | A | G | 2/33/77 | 0.2946 | 0.2758 | 0.7324 | All         |\n",
       "| 2 | 1 | rs3131972 | AFF   | A | G | 1/19/36 | 0.3393 | 0.3047 | 0.6670 | Non-Control |\n",
       "| 3 | 1 | rs3131972 | UNAFF | A | G | 1/14/41 | 0.2500 | 0.2449 | 1.0000 | Control     |\n",
       "| 4 | 1 | rs3131969 | ALL   | A | G | 2/26/84 | 0.2321 | 0.2320 | 1.0000 | All         |\n",
       "| 5 | 1 | rs3131969 | AFF   | A | G | 1/17/38 | 0.3036 | 0.2817 | 1.0000 | Non-Control |\n",
       "| 6 | 1 | rs3131969 | UNAFF | A | G | 1/9/46  | 0.1607 | 0.1771 | 0.4189 | Control     |\n",
       "\n"
      ],
      "text/plain": [
       "  CHR SNP       TEST  A1 A2 GENO    O.HET. E.HET. P      Phenotype  \n",
       "1 1   rs3131972 ALL   A  G  2/33/77 0.2946 0.2758 0.7324 All        \n",
       "2 1   rs3131972 AFF   A  G  1/19/36 0.3393 0.3047 0.6670 Non-Control\n",
       "3 1   rs3131972 UNAFF A  G  1/14/41 0.2500 0.2449 1.0000 Control    \n",
       "4 1   rs3131969 ALL   A  G  2/26/84 0.2321 0.2320 1.0000 All        \n",
       "5 1   rs3131969 AFF   A  G  1/17/38 0.3036 0.2817 1.0000 Non-Control\n",
       "6 1   rs3131969 UNAFF A  G  1/9/46  0.1607 0.1771 0.4189 Control    "
      ]
     },
     "metadata": {},
     "output_type": "display_data"
    },
    {
     "data": {
      "text/html": [
       "<table class=\"dataframe\">\n",
       "<caption>A data.frame: 6 × 10</caption>\n",
       "<thead>\n",
       "\t<tr><th></th><th scope=col>CHR</th><th scope=col>SNP</th><th scope=col>TEST</th><th scope=col>A1</th><th scope=col>A2</th><th scope=col>GENO</th><th scope=col>O.HET.</th><th scope=col>E.HET.</th><th scope=col>P</th><th scope=col>Phenotype</th></tr>\n",
       "\t<tr><th></th><th scope=col>&lt;int&gt;</th><th scope=col>&lt;chr&gt;</th><th scope=col>&lt;chr&gt;</th><th scope=col>&lt;chr&gt;</th><th scope=col>&lt;chr&gt;</th><th scope=col>&lt;chr&gt;</th><th scope=col>&lt;dbl&gt;</th><th scope=col>&lt;dbl&gt;</th><th scope=col>&lt;dbl&gt;</th><th scope=col>&lt;chr&gt;</th></tr>\n",
       "</thead>\n",
       "<tbody>\n",
       "\t<tr><th scope=row>1</th><td>3</td><td>rs7623291 </td><td>ALL</td><td>T</td><td>C</td><td>22/28/62</td><td>0.2500</td><td>0.4362</td><td>8.938e-06</td><td>All        </td></tr>\n",
       "\t<tr><th scope=row>2</th><td>7</td><td>rs34238522</td><td>ALL</td><td>C</td><td>T</td><td>0/64/48 </td><td>0.5714</td><td>0.4082</td><td>3.515e-06</td><td>All        </td></tr>\n",
       "\t<tr><th scope=row>3</th><td>8</td><td>rs3102841 </td><td>ALL</td><td>C</td><td>A</td><td>8/78/23 </td><td>0.7156</td><td>0.4905</td><td>1.899e-06</td><td>All        </td></tr>\n",
       "\t<tr><th scope=row>4</th><td>9</td><td>rs354831  </td><td>ALL</td><td>C</td><td>T</td><td>12/18/82</td><td>0.1607</td><td>0.3047</td><td>6.339e-06</td><td>All        </td></tr>\n",
       "\t<tr><th scope=row>5</th><td>9</td><td>rs10990625</td><td>ALL</td><td>C</td><td>T</td><td>23/28/61</td><td>0.2500</td><td>0.4424</td><td>9.391e-06</td><td>All        </td></tr>\n",
       "\t<tr><th scope=row>6</th><td>9</td><td>rs10990625</td><td>AFF</td><td>C</td><td>T</td><td>15/8/33 </td><td>0.1429</td><td>0.4483</td><td>3.574e-07</td><td>Non-Control</td></tr>\n",
       "</tbody>\n",
       "</table>\n"
      ],
      "text/latex": [
       "A data.frame: 6 × 10\n",
       "\\begin{tabular}{r|llllllllll}\n",
       "  & CHR & SNP & TEST & A1 & A2 & GENO & O.HET. & E.HET. & P & Phenotype\\\\\n",
       "  & <int> & <chr> & <chr> & <chr> & <chr> & <chr> & <dbl> & <dbl> & <dbl> & <chr>\\\\\n",
       "\\hline\n",
       "\t1 & 3 & rs7623291  & ALL & T & C & 22/28/62 & 0.2500 & 0.4362 & 8.938e-06 & All        \\\\\n",
       "\t2 & 7 & rs34238522 & ALL & C & T & 0/64/48  & 0.5714 & 0.4082 & 3.515e-06 & All        \\\\\n",
       "\t3 & 8 & rs3102841  & ALL & C & A & 8/78/23  & 0.7156 & 0.4905 & 1.899e-06 & All        \\\\\n",
       "\t4 & 9 & rs354831   & ALL & C & T & 12/18/82 & 0.1607 & 0.3047 & 6.339e-06 & All        \\\\\n",
       "\t5 & 9 & rs10990625 & ALL & C & T & 23/28/61 & 0.2500 & 0.4424 & 9.391e-06 & All        \\\\\n",
       "\t6 & 9 & rs10990625 & AFF & C & T & 15/8/33  & 0.1429 & 0.4483 & 3.574e-07 & Non-Control\\\\\n",
       "\\end{tabular}\n"
      ],
      "text/markdown": [
       "\n",
       "A data.frame: 6 × 10\n",
       "\n",
       "| <!--/--> | CHR &lt;int&gt; | SNP &lt;chr&gt; | TEST &lt;chr&gt; | A1 &lt;chr&gt; | A2 &lt;chr&gt; | GENO &lt;chr&gt; | O.HET. &lt;dbl&gt; | E.HET. &lt;dbl&gt; | P &lt;dbl&gt; | Phenotype &lt;chr&gt; |\n",
       "|---|---|---|---|---|---|---|---|---|---|---|\n",
       "| 1 | 3 | rs7623291  | ALL | T | C | 22/28/62 | 0.2500 | 0.4362 | 8.938e-06 | All         |\n",
       "| 2 | 7 | rs34238522 | ALL | C | T | 0/64/48  | 0.5714 | 0.4082 | 3.515e-06 | All         |\n",
       "| 3 | 8 | rs3102841  | ALL | C | A | 8/78/23  | 0.7156 | 0.4905 | 1.899e-06 | All         |\n",
       "| 4 | 9 | rs354831   | ALL | C | T | 12/18/82 | 0.1607 | 0.3047 | 6.339e-06 | All         |\n",
       "| 5 | 9 | rs10990625 | ALL | C | T | 23/28/61 | 0.2500 | 0.4424 | 9.391e-06 | All         |\n",
       "| 6 | 9 | rs10990625 | AFF | C | T | 15/8/33  | 0.1429 | 0.4483 | 3.574e-07 | Non-Control |\n",
       "\n"
      ],
      "text/plain": [
       "  CHR SNP        TEST A1 A2 GENO     O.HET. E.HET. P         Phenotype  \n",
       "1 3   rs7623291  ALL  T  C  22/28/62 0.2500 0.4362 8.938e-06 All        \n",
       "2 7   rs34238522 ALL  C  T  0/64/48  0.5714 0.4082 3.515e-06 All        \n",
       "3 8   rs3102841  ALL  C  A  8/78/23  0.7156 0.4905 1.899e-06 All        \n",
       "4 9   rs354831   ALL  C  T  12/18/82 0.1607 0.3047 6.339e-06 All        \n",
       "5 9   rs10990625 ALL  C  T  23/28/61 0.2500 0.4424 9.391e-06 All        \n",
       "6 9   rs10990625 AFF  C  T  15/8/33  0.1429 0.4483 3.574e-07 Non-Control"
      ]
     },
     "metadata": {},
     "output_type": "display_data"
    }
   ],
   "source": [
    "#| label: fig-HWEtables\n",
    "#| fig-cap: \"HWE tables from PLINK\"\n",
    "\n",
    "head(hwe)\n",
    "head(hwe_zoom)"
   ]
  },
  {
   "cell_type": "markdown",
   "id": "5fa26f9f-c6a3-4479-bd30-9f8dcbd60e72",
   "metadata": {},
   "source": [
    "Now, we can plot the histograms. We isolate each \"phenotype\" to see if there are any significant differences in p-value distribution between them."
   ]
  },
  {
   "cell_type": "code",
   "execution_count": 3,
   "id": "48e8396f-5b57-472c-b347-2b3a7879c277",
   "metadata": {
    "scrolled": true,
    "tags": []
   },
   "outputs": [
    {
     "name": "stderr",
     "output_type": "stream",
     "text": [
      "\u001b[1m\u001b[22m`stat_bin()` using `bins = 30`. Pick better value with `binwidth`.\n"
     ]
    },
    {
     "data": {
      "image/png": "[encoded data removed]",
      "text/plain": [
       "plot without title"
      ]
     },
     "metadata": {
      "image/png": {
       "height": 240,
       "width": 540
      }
     },
     "output_type": "display_data"
    },
    {
     "data": {
      "image/png": "[encoded data removed]",
      "text/plain": [
       "plot without title"
      ]
     },
     "metadata": {
      "image/png": {
       "height": 240,
       "width": 540
      }
     },
     "output_type": "display_data"
    }
   ],
   "source": [
    "#| label: fig-HWE\n",
    "#| fig-cap: \"HWE p-values calculated with PLINK and zoom for the SNPs deviating from HWE. We can spot some deviations from HWE in the zoomed plot. Note that the p+values for the phenotype `All` is not the merging of the barplots from the other two phenotypes!\"\n",
    "suppressMessages(suppressWarnings(library(ggplot2)))\n",
    "options(repr.plot.width = 9, repr.plot.height = 4)\n",
    "\n",
    "# maf_freq histogram\n",
    "hist.hwe <- ggplot(hwe, aes(x=hwe[,9])) +\n",
    "  geom_histogram(col = \"black\", fill=\"tomato\") + \n",
    "  labs(title = \"HWE distribution\") + \n",
    "  xlab(\"HWE p-value\") + \n",
    "  ylab(\"Frequency\") +\n",
    "  facet_wrap(~Phenotype) +\n",
    "  theme_bw()\n",
    "\n",
    "# maf_freq histogram\n",
    "hist.hwe_below_threshold <- ggplot(hwe_zoom, aes(x=hwe_zoom[,9])) +\n",
    "  geom_histogram(binwidth = 0.0000015, col = \"black\", fill=\"tomato\") + \n",
    "  labs(title = \"HWE distribution for strongly deviating SNPs only\") + \n",
    "  xlab(\"HWE p-value\") + \n",
    "  ylab(\"Frequency\") +\n",
    "  facet_wrap(~Phenotype) +\n",
    "  theme_bw()\n",
    "\n",
    "show(hist.hwe)\n",
    "show(hist.hwe_below_threshold)\n",
    "\n",
    "# Save plots \n",
    "suppressMessages({\n",
    "ggsave(plot=hist.hwe, filename=\"Results/GWAS3/histhwe.png\");\n",
    "ggsave(plot=hist.hwe_below_threshold, filename=\"Results/GWAS3/histhwe_below_threshold.png\");})"
   ]
  },
  {
   "cell_type": "markdown",
   "id": "0b3ea338",
   "metadata": {},
   "source": [
    "<img src=\"Images/bash.png\" alt=\"bash\" width=\"40\">  Almost all of our SNPs are in HWE, as determined by testing whether the alleles follow a binomial distribution. However, in our zoomed-in plot, we can spot a few extreme deviations. We can remove these outliers using the option `--hwe` in PLINK with the specified threshold. Note that `--hwe` filters only on controls, so if you want to apply the threshold to non-controls as well, include the `include-nonctrl` in the command. In the two steps below, we filter only controls with threshold `1e-6` and then all phenotypes with threshold `1e-10`:"
   ]
  },
  {
   "cell_type": "code",
   "execution_count": 1,
   "id": "f64ffce1",
   "metadata": {
    "tags": []
   },
   "outputs": [],
   "source": [
    "plink --bfile Results/GWAS3/HapMap_3_r3_5 --hwe 1e-6 --make-bed --out Results/GWAS3/HapMap_3_r3_5_onlycontrols --silent"
   ]
  },
  {
   "cell_type": "code",
   "execution_count": 2,
   "id": "5151da4b",
   "metadata": {
    "tags": []
   },
   "outputs": [],
   "source": [
    "plink --bfile Results/GWAS3/HapMap_3_r3_5_onlycontrols --hwe 1e-10 include-nonctrl --make-bed --out Results/GWAS3/HapMap_3_r3_6 --silent"
   ]
  },
  {
   "cell_type": "markdown",
   "id": "6f60a633",
   "metadata": {},
   "source": [
    "# Heterozygosity Rate\n",
    "\n",
    "A somewhat similar idea to HWE, but applied to individuals instead of SNPs (if an individual had a ton of A/B calls but no A/A or B/B calls, or vice versa, that would indicate something was wrong):\n",
    "\n",
    "## Command\n",
    "\n",
    "PLINK has no summary statistic for heterozygosity of individuals. Instead, we will first prune the dataset, checking heterozygosity on a **set of SNPs which are not highly correlated**. We do this because highly correlated regions reduce the power of our analysis. To generate a list of non-(highly)correlated SNPs, we exclude (`--exclude`) high inversion regions (already saved in `Data/inversion.txt`) and prune the SNPs using the option `--indep-pairwise`. The parameters `50 5 0.2` stand respectively for: the window size, the number of SNPs to shift the window at each step, and the multiple correlation coefficient for a SNP being regressed on all other SNPs simultaneously."
   ]
  },
  {
   "cell_type": "code",
   "execution_count": 5,
   "id": "6cb3ed80",
   "metadata": {
    "tags": []
   },
   "outputs": [],
   "source": [
    "plink --bfile Results/GWAS3/HapMap_3_r3_6 --exclude Data/inversion.txt --range --indep-pairwise 50 5 0.2 --out Results/GWAS3/indepSNP --silent"
   ]
  },
  {
   "cell_type": "markdown",
   "id": "6fbd312e",
   "metadata": {},
   "source": [
    "With this pruned list, we measure the heterozygosity rates of the individuals in the remaining independent SNPs."
   ]
  },
  {
   "cell_type": "code",
   "execution_count": 6,
   "id": "a551b42f",
   "metadata": {
    "tags": []
   },
   "outputs": [],
   "source": [
    "plink --bfile Results/GWAS3/HapMap_3_r3_6 --extract Results/GWAS3/indepSNP.prune.in --het --out Results/GWAS3/R_check --silent"
   ]
  },
  {
   "cell_type": "markdown",
   "id": "b41b19b1-ba6b-439e-86b4-25c6b0b26f22",
   "metadata": {},
   "source": [
    "<img src=\"Images/R.png\" alt=\"R\" width=\"40\"> Now, let's plot the distribution of heterozygosity rates. Again, we will first have a look at the heterozygosity table. When using the `--het` option in PLINK, the output table has the following columns:\n",
    "\n",
    "- FID: Family ID of the individual.\n",
    "- IID: Individual ID within the family.\n",
    "- O(HOM): Observed number of homozygous genotypes.\n",
    "- E(HOM): Expected number of homozygous genotypes under Hardy-Weinberg equilibrium.\n",
    "- N(NM): Number of non-missing autosomal genotypes.\n",
    "- F: Inbreeding coefficient (F), which is calculated as \n",
    "$$\\tfrac{(E(HOM)−O(HOM))}{N(NM)}."
   ]
  },
  {
   "cell_type": "code",
   "execution_count": 3,
   "id": "1c961837-0788-43d5-a5b0-6f65e147f7a6",
   "metadata": {
    "tags": []
   },
   "outputs": [
    {
     "data": {
      "text/html": [
       "<table class=\"dataframe\">\n",
       "<caption>A data.frame: 6 × 6</caption>\n",
       "<thead>\n",
       "\t<tr><th></th><th scope=col>FID</th><th scope=col>IID</th><th scope=col>O.HOM.</th><th scope=col>E.HOM.</th><th scope=col>N.NM.</th><th scope=col>F</th></tr>\n",
       "\t<tr><th></th><th scope=col>&lt;int&gt;</th><th scope=col>&lt;chr&gt;</th><th scope=col>&lt;int&gt;</th><th scope=col>&lt;dbl&gt;</th><th scope=col>&lt;int&gt;</th><th scope=col>&lt;dbl&gt;</th></tr>\n",
       "</thead>\n",
       "<tbody>\n",
       "\t<tr><th scope=row>1</th><td>1328</td><td>NA06989</td><td>66999</td><td>67450</td><td>103892</td><td>-0.0125100</td></tr>\n",
       "\t<tr><th scope=row>2</th><td>1377</td><td>NA11891</td><td>66840</td><td>66820</td><td>102941</td><td> 0.0005092</td></tr>\n",
       "\t<tr><th scope=row>3</th><td>1349</td><td>NA11843</td><td>67243</td><td>67550</td><td>104055</td><td>-0.0085140</td></tr>\n",
       "\t<tr><th scope=row>4</th><td>1330</td><td>NA12341</td><td>66648</td><td>67390</td><td>103809</td><td>-0.0203700</td></tr>\n",
       "\t<tr><th scope=row>5</th><td>1344</td><td>NA10850</td><td>67411</td><td>67510</td><td>103988</td><td>-0.0028170</td></tr>\n",
       "\t<tr><th scope=row>6</th><td>1328</td><td>NA06984</td><td>66938</td><td>67230</td><td>103577</td><td>-0.0081300</td></tr>\n",
       "</tbody>\n",
       "</table>\n"
      ],
      "text/latex": [
       "A data.frame: 6 × 6\n",
       "\\begin{tabular}{r|llllll}\n",
       "  & FID & IID & O.HOM. & E.HOM. & N.NM. & F\\\\\n",
       "  & <int> & <chr> & <int> & <dbl> & <int> & <dbl>\\\\\n",
       "\\hline\n",
       "\t1 & 1328 & NA06989 & 66999 & 67450 & 103892 & -0.0125100\\\\\n",
       "\t2 & 1377 & NA11891 & 66840 & 66820 & 102941 &  0.0005092\\\\\n",
       "\t3 & 1349 & NA11843 & 67243 & 67550 & 104055 & -0.0085140\\\\\n",
       "\t4 & 1330 & NA12341 & 66648 & 67390 & 103809 & -0.0203700\\\\\n",
       "\t5 & 1344 & NA10850 & 67411 & 67510 & 103988 & -0.0028170\\\\\n",
       "\t6 & 1328 & NA06984 & 66938 & 67230 & 103577 & -0.0081300\\\\\n",
       "\\end{tabular}\n"
      ],
      "text/markdown": [
       "\n",
       "A data.frame: 6 × 6\n",
       "\n",
       "| <!--/--> | FID &lt;int&gt; | IID &lt;chr&gt; | O.HOM. &lt;int&gt; | E.HOM. &lt;dbl&gt; | N.NM. &lt;int&gt; | F &lt;dbl&gt; |\n",
       "|---|---|---|---|---|---|---|\n",
       "| 1 | 1328 | NA06989 | 66999 | 67450 | 103892 | -0.0125100 |\n",
       "| 2 | 1377 | NA11891 | 66840 | 66820 | 102941 |  0.0005092 |\n",
       "| 3 | 1349 | NA11843 | 67243 | 67550 | 104055 | -0.0085140 |\n",
       "| 4 | 1330 | NA12341 | 66648 | 67390 | 103809 | -0.0203700 |\n",
       "| 5 | 1344 | NA10850 | 67411 | 67510 | 103988 | -0.0028170 |\n",
       "| 6 | 1328 | NA06984 | 66938 | 67230 | 103577 | -0.0081300 |\n",
       "\n"
      ],
      "text/plain": [
       "  FID  IID     O.HOM. E.HOM. N.NM.  F         \n",
       "1 1328 NA06989 66999  67450  103892 -0.0125100\n",
       "2 1377 NA11891 66840  66820  102941  0.0005092\n",
       "3 1349 NA11843 67243  67550  104055 -0.0085140\n",
       "4 1330 NA12341 66648  67390  103809 -0.0203700\n",
       "5 1344 NA10850 67411  67510  103988 -0.0028170\n",
       "6 1328 NA06984 66938  67230  103577 -0.0081300"
      ]
     },
     "metadata": {},
     "output_type": "display_data"
    }
   ],
   "source": [
    "het <- read.table(\"Results/GWAS3/R_check.het\", head=TRUE)\n",
    "head(het)"
   ]
  },
  {
   "cell_type": "markdown",
   "id": "2da1e4dd-fb02-49e0-8932-65291c1c6d06",
   "metadata": {},
   "source": [
    "We are going to calculate by hand the heterozygosity rates so we can plot them (not by default in the table). The formula for the rates is $N(NM)-O(HOM)/N(NM)$"
   ]
  },
  {
   "cell_type": "code",
   "execution_count": 4,
   "id": "80d47e15-ca66-44b2-b27a-da477b9d5648",
   "metadata": {
    "tags": []
   },
   "outputs": [
    {
     "data": {
      "image/png": "[encoded data removed]",
      "text/plain": [
       "plot without title"
      ]
     },
     "metadata": {
      "image/png": {
       "height": 240,
       "width": 540
      }
     },
     "output_type": "display_data"
    }
   ],
   "source": [
    "#| label: fig-HET\n",
    "#| fig-cap: \"Barplot of heterozigosity rates.\"\n",
    "\n",
    "suppressMessages(suppressWarnings(library(ggplot2)))\n",
    "options(repr.plot.width = 9, repr.plot.height = 4)\n",
    "\n",
    "het$HET_RATE = (het$\"N.NM.\" - het$\"O.HOM.\")/het$\"N.NM.\"\n",
    "\n",
    "# plink.imiss histogram\n",
    "hist.het <- ggplot(het, aes(x=HET_RATE)) +\n",
    "  geom_histogram(binwidth = 0.001, col = \"black\", fill=\"tomato\") + \n",
    "  labs(title = \"Heterozygosity Rates\") + \n",
    "  xlab(\"Heterozygosity Rate\") + \n",
    "  ylab(\"Frequency\") + \n",
    "  theme_bw()\n",
    "\n",
    "\n",
    "show(hist.het)\n",
    "\n",
    "# Save plots \n",
    "suppressMessages(ggsave(plot=hist.het, filename=\"Results/GWAS3/heterozygosity.png\"))"
   ]
  },
  {
   "cell_type": "markdown",
   "id": "1be72c26",
   "metadata": {},
   "source": [
    "As a rule of thumb, we want to remove individuals who deviate more than 3 standard deviations (sd) from the heterozygosity rate mean. For data manipulation, we recommend using the `bash` command line. However, when performing statistical calculations, `R` is more convenient, hence the use of `R` for this step. \n",
    "\n",
    "Let's create a file subsetting the heterozygosity table based on 3 standard deviations away from the mean so that it can be used for removal by PLINK. We also add a column `HET_DST` to the table, containing the standardized values of heterozygosities."
   ]
  },
  {
   "cell_type": "code",
   "execution_count": 5,
   "id": "963e0a29",
   "metadata": {
    "tags": []
   },
   "outputs": [],
   "source": [
    "library(dplyr)\n",
    "\n",
    "het <- read.table(\"Results/GWAS3/R_check.het\", head=TRUE)\n",
    "het$HET_RATE = (het$\"N.NM.\" - het$\"O.HOM.\")/het$\"N.NM.\"\n",
    "\n",
    "het_fail <- subset(het, (het$HET_RATE < mean(het$HET_RATE)-3*sd(het$HET_RATE)) | \n",
    "                    (het$HET_RATE > mean(het$HET_RATE)+3*sd(het$HET_RATE)))\n",
    "\n",
    "het_fail$HET_DST <- (het_fail$HET_RATE-mean(het$HET_RATE))/sd(het$HET_RATE);\n",
    "\n",
    "write.table(het_fail, \"Results/GWAS3/fail-het-qc.txt\", row.names=FALSE, quote=FALSE)"
   ]
  },
  {
   "cell_type": "markdown",
   "id": "5cd9abe3",
   "metadata": {},
   "source": [
    "The output of this command is `fail-het-qc.txt`. "
   ]
  },
  {
   "cell_type": "markdown",
   "id": "a6419bd6-18d3-426f-b90e-8f34c1899375",
   "metadata": {},
   "source": [
    ":::{.callout-important title=\"Stop - Read - Solve\"}\n",
    "\n",
    "Let's check how many individuals are picked up as having a heterozygosity rate deviating more than 3 SD's from the mean. \n",
    "\n",
    "Hint: `wc -l` counts only the lines in the file (incl. header)\n",
    "\n",
    ":::"
   ]
  },
  {
   "cell_type": "code",
   "execution_count": null,
   "id": "e63bbd7f-001e-47d3-a888-c57aac1ac518",
   "metadata": {},
   "outputs": [],
   "source": [
    "#Write your code here"
   ]
  },
  {
   "cell_type": "markdown",
   "id": "cc985570-9f2a-4a20-ad44-5b770a6b9270",
   "metadata": {
    "tags": []
   },
   "source": [
    ":::{.callout-tip title=\"Solution\" collapse=\"true\"}\n",
    "\n",
    "`wc -l Results/GWAS3/fail-het-qc.txt`\n",
    "\n",
    "We can count 3 lines (one is the header), meaning there are two individuals to be filtered out. To use the file in PLINK, we need only the first two columns (Family ID and Individual ID) as shown below\n",
    "\n",
    ":::"
   ]
  },
  {
   "cell_type": "markdown",
   "id": "85712881-1b5d-4fd4-ae62-425a947b125a",
   "metadata": {},
   "source": [
    "Here is how the file looks like. We need the first two columns to create the list of individuals to remove from the data."
   ]
  },
  {
   "cell_type": "code",
   "execution_count": 2,
   "id": "ffe3b148-7c59-4f7b-ad72-87e44359e73a",
   "metadata": {
    "tags": []
   },
   "outputs": [
    {
     "name": "stdout",
     "output_type": "stream",
     "text": [
      "FID IID O.HOM. E.HOM. N.NM. F HET_RATE HET_DST\n",
      "1330 NA12342 68056 67220 103550 0.0229 0.34277160791888 -3.74231467217876\n",
      "1459 NA12874 68786 67550 104050 0.03379 0.338913983661701 -5.03987173113217\n"
     ]
    }
   ],
   "source": [
    "cat Results/GWAS3/fail-het-qc.txt"
   ]
  },
  {
   "cell_type": "markdown",
   "id": "1fe4f0c2",
   "metadata": {},
   "source": [
    "We use `awk` to print out the first two columns in the file `het-fail-ind.txt` and use the option `--remove` to filter out the individuals with PLINK."
   ]
  },
  {
   "cell_type": "code",
   "execution_count": 4,
   "id": "d35701f1",
   "metadata": {
    "tags": []
   },
   "outputs": [],
   "source": [
    "awk '{print$1, $2}' Results/GWAS3/fail-het-qc.txt > Results/GWAS3/het-fail-ind.txt\n",
    "\n",
    "plink --bfile Results/GWAS3/HapMap_3_r3_6 --remove Results/GWAS3/het-fail-ind.txt --make-bed --out Results/GWAS3/HapMap_3_r3_7 --silent"
   ]
  },
  {
   "cell_type": "markdown",
   "id": "8dfdfc59-9156-4c61-a4ea-dce61885e864",
   "metadata": {},
   "source": [
    "After all filtering is done, we are left with 161 individuals and a total of 1073788 SNPs"
   ]
  },
  {
   "cell_type": "code",
   "execution_count": 7,
   "id": "9ad08550-3bd3-4048-993b-48ca21b1502e",
   "metadata": {},
   "outputs": [
    {
     "name": "stdout",
     "output_type": "stream",
     "text": [
      "1073788 Results/GWAS3/HapMap_3_r3_7.bim\n"
     ]
    }
   ],
   "source": [
    "wc -l Results/GWAS3/HapMap_3_r3_7.bim"
   ]
  },
  {
   "cell_type": "code",
   "execution_count": 8,
   "id": "d3d90ff9-65f3-4986-926c-247fc53f9c49",
   "metadata": {},
   "outputs": [
    {
     "name": "stdout",
     "output_type": "stream",
     "text": [
      "161 Results/GWAS3/HapMap_3_r3_7.fam\n"
     ]
    }
   ],
   "source": [
    "wc -l Results/GWAS3/HapMap_3_r3_7.fam"
   ]
  },
  {
   "cell_type": "markdown",
   "id": "6495aa66-6993-419c-bcbb-5745e1ffaeac",
   "metadata": {},
   "source": [
    "Look back at the very first run of PLINK. We had 1457897 SNPs and 165 individuals. We filtered out around 1/3 of all SNPs!"
   ]
  },
  {
   "cell_type": "markdown",
   "id": "033ed09a-c7b1-4494-a233-6c30544514d9",
   "metadata": {},
   "source": [
    ":::{.callout-important title=\"Challenge yourself: first quality control on mice data\"}\n",
    "\n",
    "We continue working with the mice data. Now we want to do a quality control workflow as we did before. Try to repeat all the steps, excluding the sex discrepancies, which cannot be done due to the missing sex chromosomes in the data:\n",
    "\n",
    "1 - Missingness analysis and filtering, both per SNP and per individual. **Note**\n",
    "\n",
    "2 - Minor Allele Frequency. **Note:** No need to extract chromosomes 1 to 22, since you already have only the first four.\n",
    "\n",
    "3 - Hardy-Weinberg Equilibrium. **Note:** in this data there are is case-control, so you don't need to rename the columns `hwe$Phenotype` and `hwe_zoom$Phenotype`. Similarly, avoid using `include-nonctrl` in PLINK. This means also that in the R code you want to avoid the line with `facet_wrap` separating the group Phenotype for plotting.\n",
    "\n",
    "4 - Heterozigosity rate. **Note:** here we do not have a list of regions with many inversions, so avoid using `--exclude Data/inversion.txt --range` in PLINK.\n",
    "\n",
    "**General notes for the exercise:**\n",
    "\n",
    "- Copy-paste all the commands you need from the tutorial, but remember to carefully check that the file names and options are correct to be used in your data.\n",
    "- Use proper file names for the output of PLINK when filtering and creating new `bed/bim/fam` files. For example, when you apply the various filterings, create a new output name prefix instead of keeping use `mice`. Start from `mice`, then create `mice_miss`, `mice_miss_maf`, `mice_miss_maf_hwe`, `mice_miss_maf_hwe_het`, so that you can trace back all your work to each analysis step.\n",
    "- Feel free to play with the code for creating plots and change colours, values, or making the plots better.\n",
    "- Make use of Generative AI to get help for the code if you think it is not enough to use what provided in the tutorial, or if you want to explore something beyond the exercise.\n",
    "\n",
    ":::"
   ]
  },
  {
   "cell_type": "markdown",
   "id": "0121169c-87de-484c-95ed-12a78ad1f963",
   "metadata": {
    "tags": []
   },
   "source": [
    ":::{.callout-tip title=\"Solution\" collapse=\"true\"}\n",
    "\n",
    "1 - **Filtering excessive missing values.** first of all we begin by producing the sample-wise and variant-wise missing reports in format `.imiss` and `.lmiss`. Note that sex will not be considered at all by PLINK as mentioned in the warning."
   ]
  },
  {
   "cell_type": "code",
   "execution_count": 1,
   "id": "a2dad7c5-ca9b-465a-b1e9-b05cc38a1006",
   "metadata": {
    "scrolled": true,
    "tags": []
   },
   "outputs": [
    {
     "name": "stdout",
     "output_type": "stream",
     "text": [
      "Warning: Ignoring phenotypes of missing-sex samples.  If you don't want those\n",
      "phenotypes to be ignored, use the --allow-no-sex flag.\n"
     ]
    }
   ],
   "source": [
    "plink --bfile Data/mice --missing --out Results/GWAS3/mice --silent"
   ]
  },
  {
   "cell_type": "markdown",
   "id": "24d26d42-87e2-4959-815f-c4d9e8c3bd02",
   "metadata": {},
   "source": [
    "Now we look at the histograms. The only thing needed to change in the code, compared to the tutorial, is the name of the two missingness reports."
   ]
  },
  {
   "cell_type": "code",
   "execution_count": 1,
   "id": "a329bd84-2160-434d-93f9-fdbc06ef1449",
   "metadata": {
    "tags": []
   },
   "outputs": [
    {
     "name": "stderr",
     "output_type": "stream",
     "text": [
      "Warning message:\n",
      "“package ‘ggplot2’ was built under R version 4.3.3”\n"
     ]
    },
    {
     "data": {
      "image/png": "[encoded data removed]",
      "text/plain": [
       "plot without title"
      ]
     },
     "metadata": {
      "image/png": {
       "height": 240,
       "width": 540
      }
     },
     "output_type": "display_data"
    },
    {
     "data": {
      "image/png": "[encoded data removed]",
      "text/plain": [
       "plot without title"
      ]
     },
     "metadata": {
      "image/png": {
       "height": 240,
       "width": 540
      }
     },
     "output_type": "display_data"
    }
   ],
   "source": [
    "library(ggplot2)\n",
    "options(repr.plot.width = 9, repr.plot.height = 4)\n",
    "\n",
    "# Read data into R \n",
    "indmiss <- read.table(file=\"Results/GWAS3/mice.imiss\", header=TRUE)\n",
    "snpmiss <- read.table(file=\"Results/GWAS3/mice.lmiss\", header=TRUE)\n",
    "\n",
    "#imiss histogram\n",
    "hist.imiss <- ggplot(indmiss, aes(x=indmiss[,6])) +\n",
    "  geom_histogram(binwidth = 0.001, col = \"black\", fill=\"tomato\") + \n",
    "  labs(title = \"Frequency of missingness rates in individuals\") + \n",
    "  xlab(\"Frequency\") + \n",
    "  ylab(\"Missingness in Individuals\") + \n",
    "  theme_bw()\n",
    "\n",
    "#lmiss histogram\n",
    "hist.lmiss <- ggplot(snpmiss, aes(x=snpmiss[,5])) +\n",
    "  geom_histogram(binwidth = 0.005, col = \"black\", fill=\"tomato\") + \n",
    "  labs(title = \"Frequency of missingness rates in SNPs\") + \n",
    "  xlab(\"Frequency\") + \n",
    "  ylab(\"Missingness in SNPs\") + \n",
    "  theme_bw()\n",
    "\n",
    "#show histograms\n",
    "show(hist.imiss)\n",
    "show(hist.lmiss)"
   ]
  },
  {
   "cell_type": "markdown",
   "id": "3126e6c5-e8de-4813-a32e-c823bcf2df9f",
   "metadata": {},
   "source": [
    "The histograms do not show any high missingness for the variants (second plot), while there are a few individuals which we should filter out. Below, we filter only individuals with missingness above 2%, without choosing any variant filter. The new `bed,bim,fam` files have prefix `mice_miss`"
   ]
  },
  {
   "cell_type": "code",
   "execution_count": 3,
   "id": "7602f03e-1537-46b7-b972-99e62a682c43",
   "metadata": {},
   "outputs": [
    {
     "name": "stdout",
     "output_type": "stream",
     "text": [
      "Warning: Ignoring phenotypes of missing-sex samples.  If you don't want those\n",
      "phenotypes to be ignored, use the --allow-no-sex flag.\n"
     ]
    }
   ],
   "source": [
    "plink --bfile Data/mice --mind .02 --make-bed --out Results/GWAS3/mice_miss --silent"
   ]
  },
  {
   "cell_type": "markdown",
   "id": "dd1cbb55-740c-4e3b-b7a7-847cd7ece669",
   "metadata": {},
   "source": [
    "- 2. **Minimum Allele Frequency**. Let's calculate the MAF values using `--freq`: "
   ]
  },
  {
   "cell_type": "code",
   "execution_count": 4,
   "id": "fb3110dc-623d-4994-a228-c8e7672b33c9",
   "metadata": {
    "tags": []
   },
   "outputs": [],
   "source": [
    "# Generate a plot of the MAF distribution.\n",
    "plink --bfile Results/GWAS3/mice_miss --freq --out Results/GWAS3/mice_miss --silent"
   ]
  },
  {
   "cell_type": "markdown",
   "id": "36eca1a1-380f-4d5e-b6cf-ff6efb40ca8c",
   "metadata": {},
   "source": [
    "<img src=\"Images/R.png\" alt=\"R\" width=\"40\"> Let's plot the MAF histogram using `R`. The second plot, is a zoom-in version with MAF up to 0.1 to observe the low MAF values. "
   ]
  },
  {
   "cell_type": "code",
   "execution_count": 3,
   "id": "39ca0d17-fdf2-45ac-966c-cefb591e82ed",
   "metadata": {
    "tags": []
   },
   "outputs": [
    {
     "name": "stderr",
     "output_type": "stream",
     "text": [
      "Warning message:\n",
      "“package ‘ggplot2’ was built under R version 4.3.3”\n",
      "\u001b[1m\u001b[22m`stat_bin()` using `bins = 30`. Pick better value with `binwidth`.\n",
      "Warning message:\n",
      "“\u001b[1m\u001b[22mRemoved 2611 rows containing non-finite outside the scale range (`stat_bin()`).”\n",
      "Warning message:\n",
      "“\u001b[1m\u001b[22mRemoved 2 rows containing missing values or values outside the scale range\n",
      "(`geom_bar()`).”\n"
     ]
    },
    {
     "data": {
      "image/png": "[encoded data removed]",
      "text/plain": [
       "plot without title"
      ]
     },
     "metadata": {
      "image/png": {
       "height": 240,
       "width": 540
      }
     },
     "output_type": "display_data"
    },
    {
     "data": {
      "image/png": "[encoded data removed]",
      "text/plain": [
       "plot without title"
      ]
     },
     "metadata": {
      "image/png": {
       "height": 240,
       "width": 540
      }
     },
     "output_type": "display_data"
    }
   ],
   "source": [
    "#| label: fig-MAF\n",
    "#| fig-cap: \"MAF plot for the autosomal SNPs only. Note the zoomed interval (0, 0.1)\"\n",
    "\n",
    "library(ggplot2)\n",
    "options(repr.plot.width = 9, repr.plot.height = 4)\n",
    "\n",
    "# Read data into R \n",
    "maf_freq <- read.table(\"Results/GWAS3/mice_miss.frq\", header =TRUE, as.is=T)\n",
    "\n",
    "# maf_freq histogram\n",
    "hist.maf <- ggplot(maf_freq, aes(x=maf_freq[,5])) +\n",
    "  geom_histogram(col = \"black\", fill=\"tomato\") + \n",
    "  labs(title = \"MAF distribution\") + \n",
    "  xlab(\"MAF\") + \n",
    "  ylab(\"Frequency\") +\n",
    "  theme_bw()\n",
    "\n",
    "# zoom-in into X-axis\n",
    "hist.maf.zoom <- ggplot(maf_freq, aes(x=maf_freq[,5])) +\n",
    "  geom_histogram(col = \"black\", fill=\"tomato\", bins = 10) + \n",
    "  labs(title = \"Zoom into MAF distribution up to value 0.1\") + \n",
    "  xlab(\"MAF\") + \n",
    "  ylab(\"Frequency\") +\n",
    "  xlim(-.01, 0.1) +\n",
    "  theme_bw()\n",
    "\n",
    "\n",
    "show(hist.maf)\n",
    "show(hist.maf.zoom)"
   ]
  },
  {
   "cell_type": "markdown",
   "id": "c414e8ab-8c8c-4d67-9ed2-2f2369c753a6",
   "metadata": {},
   "source": [
    "There are two minor peaks in the histograms above, one at 0.05 and 0.1. Choosing 0.1 would remove over a hundred extra SNPs, while 0.05 should remove around less than 200. We can for example choose 0.05, but 0.1 is acceptable as well as it is another threshold often applied in literature."
   ]
  },
  {
   "cell_type": "code",
   "execution_count": 1,
   "id": "06d1d241-7df4-44df-81a1-c5fe18dbae21",
   "metadata": {
    "tags": []
   },
   "outputs": [],
   "source": [
    "# Remove SNPs with a low MAF frequency.\n",
    "plink --bfile Results/GWAS3/mice_miss --maf 0.05 --make-bed --out Results/GWAS3/mice_miss_maf --silent"
   ]
  },
  {
   "cell_type": "markdown",
   "id": "4349a750-c680-40b6-963e-35781e156098",
   "metadata": {},
   "source": [
    "- 3. **Hardy Weinberg Equilibrium**. Here we need again to apply the option `hardy` to calculate observed and expected heterozigous frequencies and p-values for the binomial test. Note how column `TEST` considers all individuals ( `ALL(NP)` stands for `ALL Not Pruned`)."
   ]
  },
  {
   "cell_type": "code",
   "execution_count": 2,
   "id": "2bc14887-cb9e-43db-95a0-62ce7959e45d",
   "metadata": {},
   "outputs": [],
   "source": [
    "plink --bfile Results/GWAS3/mice_miss_maf --hardy --out Results/GWAS3/mice_miss_maf --silent\n",
    "\n",
    "awk '{ if ($9 <0.00001) print $0 }' Results/GWAS3/mice_miss_maf.hwe > Results/GWAS3/mice_miss_maf.deviating.hwe"
   ]
  },
  {
   "cell_type": "code",
   "execution_count": 3,
   "id": "eb9a21b0-e40a-4deb-9b43-18366da60c78",
   "metadata": {},
   "outputs": [
    {
     "name": "stdout",
     "output_type": "stream",
     "text": [
      " CHR                  SNP     TEST   A1   A2                 GENO   O(HET)   E(HET)            P \n",
      "   1            rs3683945  ALL(NP)    A    G         358/1002/572   0.5186   0.4939      0.03035\n",
      "   1            rs3707673  ALL(NP)    G    A         359/1003/572   0.5186   0.4939      0.03048\n",
      "   1            rs6269442  ALL(NP)    A    G          252/887/791   0.4596    0.461       0.8824\n",
      "   1            rs6336442  ALL(NP)    A    G         358/1003/572   0.5189   0.4939      0.02714\n",
      "   1           rs13475700  ALL(NP)    A    C          33/442/1458   0.2287   0.2283            1\n",
      "   1            rs3658242  ALL(NP)    A    T         359/1003/572   0.5186   0.4939      0.03048\n",
      "   1           rs13475701  ALL(NP)    C    G          33/481/1417   0.2491   0.2432       0.3045\n",
      "   1            rs6198069  ALL(NP)    A    G          186/802/945   0.4149   0.4229       0.4197\n",
      "   1            rs3659303  ALL(NP)    A    G         360/1001/571   0.5181    0.494      0.03419\n"
     ]
    }
   ],
   "source": [
    "head Results/GWAS3/mice_miss_maf.hwe"
   ]
  },
  {
   "cell_type": "markdown",
   "id": "07e61acb-8cef-4a88-8b24-d27d650b1b5f",
   "metadata": {},
   "source": [
    "There are 355 variants to remove with a p-value below 0.00001"
   ]
  },
  {
   "cell_type": "code",
   "execution_count": 5,
   "id": "749fbae8-57d8-4749-9fdd-2f24dc38f402",
   "metadata": {},
   "outputs": [
    {
     "name": "stdout",
     "output_type": "stream",
     "text": [
      "356 Results/GWAS3/mice_miss_maf.deviating.hwe\n"
     ]
    }
   ],
   "source": [
    "wc -l Results/GWAS3/mice_miss_maf.deviating.hwe"
   ]
  },
  {
   "cell_type": "markdown",
   "id": "a7914d15-b236-40a3-b052-8210f72eeccc",
   "metadata": {},
   "source": [
    "Now we create histograms to look at the p-values from the tables above. We do not need to use the case-control renaming and plotting categories."
   ]
  },
  {
   "cell_type": "code",
   "execution_count": 1,
   "id": "0d8914c6-39e8-4fde-8c0b-9ff0f03e2591",
   "metadata": {
    "tags": []
   },
   "outputs": [
    {
     "name": "stderr",
     "output_type": "stream",
     "text": [
      "Warning message:\n",
      "“package ‘dplyr’ was built under R version 4.3.3”\n",
      "\n",
      "Attaching package: ‘dplyr’\n",
      "\n",
      "\n",
      "The following objects are masked from ‘package:stats’:\n",
      "\n",
      "    filter, lag\n",
      "\n",
      "\n",
      "The following objects are masked from ‘package:base’:\n",
      "\n",
      "    intersect, setdiff, setequal, union\n",
      "\n",
      "\n"
     ]
    }
   ],
   "source": [
    "library(dplyr)\n",
    "\n",
    "# Read data into R using dplyr library \n",
    "hwe <- read.table(file=\"Results/GWAS3/mice_miss_maf.hwe\", header=TRUE)\n",
    "hwe_zoom <- read.table(file=\"Results/GWAS3/mice_miss_maf.deviating.hwe\", header=FALSE)\n",
    "colnames(hwe_zoom) <- colnames(hwe)"
   ]
  },
  {
   "cell_type": "markdown",
   "id": "426d9be2-604e-45d3-b735-eb9a15a00f4e",
   "metadata": {},
   "source": [
    "Here, we print the first rows of the two generated tables"
   ]
  },
  {
   "cell_type": "code",
   "execution_count": 2,
   "id": "d0e528a1-46a9-41cf-bad2-b9572ef73281",
   "metadata": {
    "tags": []
   },
   "outputs": [
    {
     "data": {
      "text/html": [
       "<table class=\"dataframe\">\n",
       "<caption>A data.frame: 6 × 9</caption>\n",
       "<thead>\n",
       "\t<tr><th></th><th scope=col>CHR</th><th scope=col>SNP</th><th scope=col>TEST</th><th scope=col>A1</th><th scope=col>A2</th><th scope=col>GENO</th><th scope=col>O.HET.</th><th scope=col>E.HET.</th><th scope=col>P</th></tr>\n",
       "\t<tr><th></th><th scope=col>&lt;int&gt;</th><th scope=col>&lt;chr&gt;</th><th scope=col>&lt;chr&gt;</th><th scope=col>&lt;chr&gt;</th><th scope=col>&lt;chr&gt;</th><th scope=col>&lt;chr&gt;</th><th scope=col>&lt;dbl&gt;</th><th scope=col>&lt;dbl&gt;</th><th scope=col>&lt;dbl&gt;</th></tr>\n",
       "</thead>\n",
       "<tbody>\n",
       "\t<tr><th scope=row>1</th><td>1</td><td>rs3683945 </td><td>ALL(NP)</td><td>A</td><td>G</td><td>358/1002/572</td><td>0.5186</td><td>0.4939</td><td>0.03035</td></tr>\n",
       "\t<tr><th scope=row>2</th><td>1</td><td>rs3707673 </td><td>ALL(NP)</td><td>G</td><td>A</td><td>359/1003/572</td><td>0.5186</td><td>0.4939</td><td>0.03048</td></tr>\n",
       "\t<tr><th scope=row>3</th><td>1</td><td>rs6269442 </td><td>ALL(NP)</td><td>A</td><td>G</td><td>252/887/791 </td><td>0.4596</td><td>0.4610</td><td>0.88240</td></tr>\n",
       "\t<tr><th scope=row>4</th><td>1</td><td>rs6336442 </td><td>ALL(NP)</td><td>A</td><td>G</td><td>358/1003/572</td><td>0.5189</td><td>0.4939</td><td>0.02714</td></tr>\n",
       "\t<tr><th scope=row>5</th><td>1</td><td>rs13475700</td><td>ALL(NP)</td><td>A</td><td>C</td><td>33/442/1458 </td><td>0.2287</td><td>0.2283</td><td>1.00000</td></tr>\n",
       "\t<tr><th scope=row>6</th><td>1</td><td>rs3658242 </td><td>ALL(NP)</td><td>A</td><td>T</td><td>359/1003/572</td><td>0.5186</td><td>0.4939</td><td>0.03048</td></tr>\n",
       "</tbody>\n",
       "</table>\n"
      ],
      "text/latex": [
       "A data.frame: 6 × 9\n",
       "\\begin{tabular}{r|lllllllll}\n",
       "  & CHR & SNP & TEST & A1 & A2 & GENO & O.HET. & E.HET. & P\\\\\n",
       "  & <int> & <chr> & <chr> & <chr> & <chr> & <chr> & <dbl> & <dbl> & <dbl>\\\\\n",
       "\\hline\n",
       "\t1 & 1 & rs3683945  & ALL(NP) & A & G & 358/1002/572 & 0.5186 & 0.4939 & 0.03035\\\\\n",
       "\t2 & 1 & rs3707673  & ALL(NP) & G & A & 359/1003/572 & 0.5186 & 0.4939 & 0.03048\\\\\n",
       "\t3 & 1 & rs6269442  & ALL(NP) & A & G & 252/887/791  & 0.4596 & 0.4610 & 0.88240\\\\\n",
       "\t4 & 1 & rs6336442  & ALL(NP) & A & G & 358/1003/572 & 0.5189 & 0.4939 & 0.02714\\\\\n",
       "\t5 & 1 & rs13475700 & ALL(NP) & A & C & 33/442/1458  & 0.2287 & 0.2283 & 1.00000\\\\\n",
       "\t6 & 1 & rs3658242  & ALL(NP) & A & T & 359/1003/572 & 0.5186 & 0.4939 & 0.03048\\\\\n",
       "\\end{tabular}\n"
      ],
      "text/markdown": [
       "\n",
       "A data.frame: 6 × 9\n",
       "\n",
       "| <!--/--> | CHR &lt;int&gt; | SNP &lt;chr&gt; | TEST &lt;chr&gt; | A1 &lt;chr&gt; | A2 &lt;chr&gt; | GENO &lt;chr&gt; | O.HET. &lt;dbl&gt; | E.HET. &lt;dbl&gt; | P &lt;dbl&gt; |\n",
       "|---|---|---|---|---|---|---|---|---|---|\n",
       "| 1 | 1 | rs3683945  | ALL(NP) | A | G | 358/1002/572 | 0.5186 | 0.4939 | 0.03035 |\n",
       "| 2 | 1 | rs3707673  | ALL(NP) | G | A | 359/1003/572 | 0.5186 | 0.4939 | 0.03048 |\n",
       "| 3 | 1 | rs6269442  | ALL(NP) | A | G | 252/887/791  | 0.4596 | 0.4610 | 0.88240 |\n",
       "| 4 | 1 | rs6336442  | ALL(NP) | A | G | 358/1003/572 | 0.5189 | 0.4939 | 0.02714 |\n",
       "| 5 | 1 | rs13475700 | ALL(NP) | A | C | 33/442/1458  | 0.2287 | 0.2283 | 1.00000 |\n",
       "| 6 | 1 | rs3658242  | ALL(NP) | A | T | 359/1003/572 | 0.5186 | 0.4939 | 0.03048 |\n",
       "\n"
      ],
      "text/plain": [
       "  CHR SNP        TEST    A1 A2 GENO         O.HET. E.HET. P      \n",
       "1 1   rs3683945  ALL(NP) A  G  358/1002/572 0.5186 0.4939 0.03035\n",
       "2 1   rs3707673  ALL(NP) G  A  359/1003/572 0.5186 0.4939 0.03048\n",
       "3 1   rs6269442  ALL(NP) A  G  252/887/791  0.4596 0.4610 0.88240\n",
       "4 1   rs6336442  ALL(NP) A  G  358/1003/572 0.5189 0.4939 0.02714\n",
       "5 1   rs13475700 ALL(NP) A  C  33/442/1458  0.2287 0.2283 1.00000\n",
       "6 1   rs3658242  ALL(NP) A  T  359/1003/572 0.5186 0.4939 0.03048"
      ]
     },
     "metadata": {},
     "output_type": "display_data"
    },
    {
     "data": {
      "text/html": [
       "<table class=\"dataframe\">\n",
       "<caption>A data.frame: 6 × 9</caption>\n",
       "<thead>\n",
       "\t<tr><th></th><th scope=col>CHR</th><th scope=col>SNP</th><th scope=col>TEST</th><th scope=col>A1</th><th scope=col>A2</th><th scope=col>GENO</th><th scope=col>O.HET.</th><th scope=col>E.HET.</th><th scope=col>P</th></tr>\n",
       "\t<tr><th></th><th scope=col>&lt;int&gt;</th><th scope=col>&lt;chr&gt;</th><th scope=col>&lt;chr&gt;</th><th scope=col>&lt;chr&gt;</th><th scope=col>&lt;chr&gt;</th><th scope=col>&lt;chr&gt;</th><th scope=col>&lt;dbl&gt;</th><th scope=col>&lt;dbl&gt;</th><th scope=col>&lt;dbl&gt;</th></tr>\n",
       "</thead>\n",
       "<tbody>\n",
       "\t<tr><th scope=row>1</th><td>1</td><td>rs13475729</td><td>ALL(NP)</td><td>G</td><td>A</td><td>46/339/1549</td><td>0.1753</td><td>0.1980</td><td>3.014e-06</td></tr>\n",
       "\t<tr><th scope=row>2</th><td>1</td><td>rs13475730</td><td>ALL(NP)</td><td>G</td><td>A</td><td>46/339/1547</td><td>0.1755</td><td>0.1982</td><td>3.079e-06</td></tr>\n",
       "\t<tr><th scope=row>3</th><td>1</td><td>rs3654377 </td><td>ALL(NP)</td><td>G</td><td>A</td><td>46/339/1549</td><td>0.1753</td><td>0.1980</td><td>3.014e-06</td></tr>\n",
       "\t<tr><th scope=row>4</th><td>1</td><td>rs3655978 </td><td>ALL(NP)</td><td>A</td><td>G</td><td>46/339/1545</td><td>0.1756</td><td>0.1984</td><td>3.146e-06</td></tr>\n",
       "\t<tr><th scope=row>5</th><td>1</td><td>rs13475731</td><td>ALL(NP)</td><td>A</td><td>G</td><td>46/339/1548</td><td>0.1754</td><td>0.1981</td><td>3.046e-06</td></tr>\n",
       "\t<tr><th scope=row>6</th><td>1</td><td>rs3670630 </td><td>ALL(NP)</td><td>A</td><td>C</td><td>46/339/1545</td><td>0.1756</td><td>0.1984</td><td>3.146e-06</td></tr>\n",
       "</tbody>\n",
       "</table>\n"
      ],
      "text/latex": [
       "A data.frame: 6 × 9\n",
       "\\begin{tabular}{r|lllllllll}\n",
       "  & CHR & SNP & TEST & A1 & A2 & GENO & O.HET. & E.HET. & P\\\\\n",
       "  & <int> & <chr> & <chr> & <chr> & <chr> & <chr> & <dbl> & <dbl> & <dbl>\\\\\n",
       "\\hline\n",
       "\t1 & 1 & rs13475729 & ALL(NP) & G & A & 46/339/1549 & 0.1753 & 0.1980 & 3.014e-06\\\\\n",
       "\t2 & 1 & rs13475730 & ALL(NP) & G & A & 46/339/1547 & 0.1755 & 0.1982 & 3.079e-06\\\\\n",
       "\t3 & 1 & rs3654377  & ALL(NP) & G & A & 46/339/1549 & 0.1753 & 0.1980 & 3.014e-06\\\\\n",
       "\t4 & 1 & rs3655978  & ALL(NP) & A & G & 46/339/1545 & 0.1756 & 0.1984 & 3.146e-06\\\\\n",
       "\t5 & 1 & rs13475731 & ALL(NP) & A & G & 46/339/1548 & 0.1754 & 0.1981 & 3.046e-06\\\\\n",
       "\t6 & 1 & rs3670630  & ALL(NP) & A & C & 46/339/1545 & 0.1756 & 0.1984 & 3.146e-06\\\\\n",
       "\\end{tabular}\n"
      ],
      "text/markdown": [
       "\n",
       "A data.frame: 6 × 9\n",
       "\n",
       "| <!--/--> | CHR &lt;int&gt; | SNP &lt;chr&gt; | TEST &lt;chr&gt; | A1 &lt;chr&gt; | A2 &lt;chr&gt; | GENO &lt;chr&gt; | O.HET. &lt;dbl&gt; | E.HET. &lt;dbl&gt; | P &lt;dbl&gt; |\n",
       "|---|---|---|---|---|---|---|---|---|---|\n",
       "| 1 | 1 | rs13475729 | ALL(NP) | G | A | 46/339/1549 | 0.1753 | 0.1980 | 3.014e-06 |\n",
       "| 2 | 1 | rs13475730 | ALL(NP) | G | A | 46/339/1547 | 0.1755 | 0.1982 | 3.079e-06 |\n",
       "| 3 | 1 | rs3654377  | ALL(NP) | G | A | 46/339/1549 | 0.1753 | 0.1980 | 3.014e-06 |\n",
       "| 4 | 1 | rs3655978  | ALL(NP) | A | G | 46/339/1545 | 0.1756 | 0.1984 | 3.146e-06 |\n",
       "| 5 | 1 | rs13475731 | ALL(NP) | A | G | 46/339/1548 | 0.1754 | 0.1981 | 3.046e-06 |\n",
       "| 6 | 1 | rs3670630  | ALL(NP) | A | C | 46/339/1545 | 0.1756 | 0.1984 | 3.146e-06 |\n",
       "\n"
      ],
      "text/plain": [
       "  CHR SNP        TEST    A1 A2 GENO        O.HET. E.HET. P        \n",
       "1 1   rs13475729 ALL(NP) G  A  46/339/1549 0.1753 0.1980 3.014e-06\n",
       "2 1   rs13475730 ALL(NP) G  A  46/339/1547 0.1755 0.1982 3.079e-06\n",
       "3 1   rs3654377  ALL(NP) G  A  46/339/1549 0.1753 0.1980 3.014e-06\n",
       "4 1   rs3655978  ALL(NP) A  G  46/339/1545 0.1756 0.1984 3.146e-06\n",
       "5 1   rs13475731 ALL(NP) A  G  46/339/1548 0.1754 0.1981 3.046e-06\n",
       "6 1   rs3670630  ALL(NP) A  C  46/339/1545 0.1756 0.1984 3.146e-06"
      ]
     },
     "metadata": {},
     "output_type": "display_data"
    }
   ],
   "source": [
    "#| label: fig-HWEtables\n",
    "#| fig-cap: \"HWE tables from PLINK\"\n",
    "\n",
    "head(hwe)\n",
    "head(hwe_zoom)"
   ]
  },
  {
   "cell_type": "markdown",
   "id": "d1059a98-22e2-4307-a912-c6538ced9c73",
   "metadata": {},
   "source": [
    "Now, we can plot the histograms. We isolate each \"phenotype\" to see if there are any significant differences in p-value distribution between them."
   ]
  },
  {
   "cell_type": "code",
   "execution_count": 3,
   "id": "896a61b9-37e6-4d27-8a84-5993c21d2480",
   "metadata": {
    "scrolled": true,
    "tags": []
   },
   "outputs": [
    {
     "name": "stderr",
     "output_type": "stream",
     "text": [
      "\u001b[1m\u001b[22m`stat_bin()` using `bins = 30`. Pick better value with `binwidth`.\n"
     ]
    },
    {
     "data": {
      "image/png": "[encoded data removed]",
      "text/plain": [
       "plot without title"
      ]
     },
     "metadata": {
      "image/png": {
       "height": 240,
       "width": 540
      }
     },
     "output_type": "display_data"
    },
    {
     "data": {
      "image/png": "[encoded data removed]",
      "text/plain": [
       "plot without title"
      ]
     },
     "metadata": {
      "image/png": {
       "height": 240,
       "width": 540
      }
     },
     "output_type": "display_data"
    }
   ],
   "source": [
    "#| label: fig-HWE\n",
    "#| fig-cap: \"HWE p-values calculated with PLINK and zoom for the SNPs deviating from HWE. We can spot some deviations from HWE in the zoomed plot. Note that the p+values for the phenotype `All` is not the merging of the barplots from the other two phenotypes!\"\n",
    "suppressMessages(suppressWarnings(library(ggplot2)))\n",
    "options(repr.plot.width = 9, repr.plot.height = 4)\n",
    "\n",
    "# maf_freq histogram\n",
    "hist.hwe <- ggplot(hwe, aes(x=hwe[,9])) +\n",
    "  geom_histogram(col = \"black\", fill=\"tomato\") + \n",
    "  labs(title = \"HWE distribution\") + \n",
    "  xlab(\"HWE p-value\") + \n",
    "  ylab(\"Frequency\") +\n",
    "  theme_bw()\n",
    "\n",
    "# maf_freq histogram\n",
    "hist.hwe_below_threshold <- ggplot(hwe_zoom, aes(x=hwe_zoom[,9])) +\n",
    "  geom_histogram(binwidth = 0.0000015, col = \"black\", fill=\"tomato\") + \n",
    "  labs(title = \"HWE distribution for strongly deviating SNPs only\") + \n",
    "  xlab(\"HWE p-value\") + \n",
    "  ylab(\"Frequency\") +\n",
    "  theme_bw()\n",
    "\n",
    "show(hist.hwe)\n",
    "show(hist.hwe_below_threshold)"
   ]
  },
  {
   "cell_type": "markdown",
   "id": "416e36bc-9553-4613-8958-878b3fd3611f",
   "metadata": {},
   "source": [
    "We choose the threshold 1e-5 and create the new filtered data"
   ]
  },
  {
   "cell_type": "code",
   "execution_count": 1,
   "id": "0433c1e3-7f53-4b0c-9d53-b77a952207e4",
   "metadata": {
    "tags": []
   },
   "outputs": [],
   "source": [
    "plink --bfile Results/GWAS3/mice_miss_maf --hwe 1e-5 --make-bed --out Results/GWAS3/mice_miss_maf_hwe --silent"
   ]
  },
  {
   "cell_type": "markdown",
   "id": "51acb942-13ae-47e6-a207-781cb616f3ec",
   "metadata": {},
   "source": [
    "4 - **Heterozigosity rate.** Now we look at genotype calls at each individual's level. First, we create a list of SNPs for which there is lower correlation, so to avoid linkage disequilibrium."
   ]
  },
  {
   "cell_type": "code",
   "execution_count": 3,
   "id": "a4d189ef-366d-494a-9c87-6ab72e1f5ae3",
   "metadata": {
    "tags": []
   },
   "outputs": [],
   "source": [
    "plink --bfile Results/GWAS3/mice_miss_maf_hwe --indep-pairwise 50 5 0.2 --out Results/GWAS3/mice_indepSNP --silent"
   ]
  },
  {
   "cell_type": "markdown",
   "id": "d5211d28-4a61-4e95-92cd-ae018b8171b8",
   "metadata": {},
   "source": [
    "With this pruned list, we measure the heterozygosity rates of the individuals in the remaining independent SNPs."
   ]
  },
  {
   "cell_type": "code",
   "execution_count": 4,
   "id": "48664bbc-b18f-48a8-a8a7-8ee09dd61780",
   "metadata": {
    "tags": []
   },
   "outputs": [],
   "source": [
    "plink --bfile Results/GWAS3/mice_miss_maf_hwe --extract Results/GWAS3/mice_indepSNP.prune.in --het --out Results/GWAS3/mice_R_check --silent"
   ]
  },
  {
   "cell_type": "markdown",
   "id": "9847e5a8-7a58-403c-953a-cbd7df29dd51",
   "metadata": {},
   "source": [
    "How does the table with the SNPs look like?"
   ]
  },
  {
   "cell_type": "code",
   "execution_count": 5,
   "id": "ffd91a05-022e-47e5-aac2-4c58f2aedace",
   "metadata": {
    "tags": []
   },
   "outputs": [
    {
     "name": "stdout",
     "output_type": "stream",
     "text": [
      "         FID          IID       O(HOM)       E(HOM)        N(NM)            F\n",
      "  A048005080   A048005080          112        109.5          184      0.03357\n",
      "  A048006063   A048006063          111        109.5          184      0.02015\n",
      "  A048006555   A048006555          105        109.5          184     -0.06039\n",
      "  A048007096   A048007096           94        109.5          184       -0.208\n"
     ]
    }
   ],
   "source": [
    "head -5 Results/GWAS3/mice_R_check.het"
   ]
  },
  {
   "cell_type": "markdown",
   "id": "4c535cba-e264-4044-a275-19d19511bb33",
   "metadata": {},
   "source": [
    "We are going to calculate by hand the heterozygosity rates so we can plot them (not by default in the table). The formula for the rates is $N(NM)-O(HOM)/N(NM)$"
   ]
  },
  {
   "cell_type": "code",
   "execution_count": 1,
   "id": "d43cacad-b29b-41f5-b37a-886f5b59608a",
   "metadata": {
    "tags": []
   },
   "outputs": [
    {
     "name": "stderr",
     "output_type": "stream",
     "text": [
      "Warning message:\n",
      "“package ‘ggplot2’ was built under R version 4.3.3”\n"
     ]
    },
    {
     "data": {
      "image/png": "[encoded data removed]",
      "text/plain": [
       "plot without title"
      ]
     },
     "metadata": {
      "image/png": {
       "height": 240,
       "width": 540
      }
     },
     "output_type": "display_data"
    }
   ],
   "source": [
    "#| label: fig-HET\n",
    "#| fig-cap: \"Barplot of heterozigosity rates.\"\n",
    "\n",
    "library(ggplot2)\n",
    "options(repr.plot.width = 9, repr.plot.height = 4)\n",
    "\n",
    "het <- read.table(\"Results/GWAS3/mice_R_check.het\", head=TRUE)\n",
    "\n",
    "het$HET_RATE = (het$\"N.NM.\" - het$\"O.HOM.\")/het$\"N.NM.\"\n",
    "\n",
    "# plink.imiss histogram\n",
    "hist.het <- ggplot(het, aes(x=HET_RATE)) +\n",
    "  geom_histogram(binwidth = 0.01, col = \"black\", fill=\"tomato\") + \n",
    "  labs(title = \"Heterozygosity Rates\") + \n",
    "  xlab(\"Heterozygosity Rate\") + \n",
    "  ylab(\"Frequency\") + \n",
    "  theme_bw()\n",
    "\n",
    "\n",
    "show(hist.het)"
   ]
  },
  {
   "cell_type": "markdown",
   "id": "de917a59-e503-4526-a9a2-87c320886ec3",
   "metadata": {},
   "source": [
    "We reapply the filter to individuals with heterozigosity rate 3 standard deviations away from the mean"
   ]
  },
  {
   "cell_type": "code",
   "execution_count": 2,
   "id": "e4a64644-a2de-44c0-b0d8-d0808f27b998",
   "metadata": {
    "scrolled": true,
    "tags": []
   },
   "outputs": [
    {
     "name": "stderr",
     "output_type": "stream",
     "text": [
      "Warning message:\n",
      "“package ‘dplyr’ was built under R version 4.3.3”\n",
      "\n",
      "Attaching package: ‘dplyr’\n",
      "\n",
      "\n",
      "The following objects are masked from ‘package:stats’:\n",
      "\n",
      "    filter, lag\n",
      "\n",
      "\n",
      "The following objects are masked from ‘package:base’:\n",
      "\n",
      "    intersect, setdiff, setequal, union\n",
      "\n",
      "\n"
     ]
    }
   ],
   "source": [
    "library(dplyr)\n",
    "\n",
    "het <- read.table(\"Results/GWAS3/mice_R_check.het\", head=TRUE)\n",
    "het$HET_RATE = (het$\"N.NM.\" - het$\"O.HOM.\")/het$\"N.NM.\"\n",
    "\n",
    "het_fail <- subset(het, (het$HET_RATE < mean(het$HET_RATE)-3*sd(het$HET_RATE)) | \n",
    "                    (het$HET_RATE > mean(het$HET_RATE)+3*sd(het$HET_RATE)))\n",
    "\n",
    "het_fail$HET_DST <- (het_fail$HET_RATE-mean(het$HET_RATE))/sd(het$HET_RATE);\n",
    "\n",
    "write.table(het_fail, \"Results/GWAS3/mice-fail-het-qc.txt\", row.names=FALSE, quote=FALSE)"
   ]
  },
  {
   "cell_type": "markdown",
   "id": "a4d7dc60-d84e-434d-86c2-56fe273c41cb",
   "metadata": {},
   "source": [
    "the resulting table contains a few outlying individuals:"
   ]
  },
  {
   "cell_type": "code",
   "execution_count": 1,
   "id": "b88676d9-210d-40f2-aa61-25fe8a217cf0",
   "metadata": {
    "scrolled": true,
    "tags": []
   },
   "outputs": [
    {
     "name": "stdout",
     "output_type": "stream",
     "text": [
      "9 Results/GWAS3/mice-fail-het-qc.txt\n"
     ]
    }
   ],
   "source": [
    "wc -l Results/GWAS3/mice-fail-het-qc.txt"
   ]
  },
  {
   "cell_type": "markdown",
   "id": "0c69e10c-d04e-4fc0-bed5-bcaf0cc72500",
   "metadata": {},
   "source": [
    "We use `awk` to print out the first two columns in the file `het-fail-ind.txt` and use the option `--remove` to filter out the individuals with PLINK."
   ]
  },
  {
   "cell_type": "code",
   "execution_count": 2,
   "id": "469e12de-fd29-45ad-9536-93d7a1162d7c",
   "metadata": {
    "tags": []
   },
   "outputs": [],
   "source": [
    "awk '{print$1, $2}' Results/GWAS3/mice-fail-het-qc.txt > Results/GWAS3/mice-het-fail-ind.txt\n",
    "\n",
    "plink --bfile Results/GWAS3/mice_miss_maf_hwe --remove Results/GWAS3/mice-het-fail-ind.txt --make-bed --out Results/GWAS3/mice_QCA --silent"
   ]
  },
  {
   "cell_type": "markdown",
   "id": "ee91376e-a6b9-4ebe-acf7-0304ffcf9648",
   "metadata": {},
   "source": [
    "What are we left with? 1926 samples with 2439 variants"
   ]
  },
  {
   "cell_type": "code",
   "execution_count": 4,
   "id": "a6b8965a-2f63-46de-91b7-13269c611542",
   "metadata": {},
   "outputs": [
    {
     "name": "stdout",
     "output_type": "stream",
     "text": [
      "1926 Results/GWAS3/mice_QCA.fam\n",
      "2439 Results/GWAS3/mice_QCA.bim\n"
     ]
    }
   ],
   "source": [
    "wc -l Results/GWAS3/mice_QCA.fam\n",
    "wc -l Results/GWAS3/mice_QCA.bim"
   ]
  },
  {
   "cell_type": "markdown",
   "id": "c825651b-bd0c-49b4-9cc3-5af89adb3bcd",
   "metadata": {},
   "source": [
    ":::\n",
    "\n",
    "---"
   ]
  },
  {
   "cell_type": "markdown",
   "id": "57b62761",
   "metadata": {},
   "source": [
    ":::{.callout-note title=\"Wrapping up\"}\n",
    "\n",
    "In this tutorial, we have tried several quality control approaches in PLINK and calculated various statistics, which we visualized using `R`. In the next notebook, you will find even more examples of how you verify the quality of your data.\n",
    "\n",
    "A table with a small recap of the options used in filtering with PLINK\n",
    "\n",
    "| Step | Command | Function | Thresholds and explanation |\n",
    "|---|---|---|---|\n",
    "| 1: Missingness of SNPs | `--geno`| Excludes SNPs that are missing in a large proportion of the subjects. In this step, SNPs with low genotype calls are removed| We recommend first filtering SNPs and individuals based on a relaxed  threshold (0.2; >20%), as this will filter out SNPs and individuals  with very high levels of missingness. Then a filter with a more  stringent threshold can be applied (0.02)|\n",
    "| 2: Missingness of individuals | `--mind`| Excludes individuals who have high rates of genotype missingness. In this step, individuals with low genotype calls are removed | Note, SNP filtering should be performed before individual filtering |\n",
    "| 3: Sex discrepancy | `--check-sex`| Checks for discrepancies between the sex of the individuals recorded in the  dataset and their sex based on X chromosome heterozygosity/homozygosity  rates | Can indicate sample mix‐ups. If many subjects have this discrepancy, the data should be checked carefully. Males should have an X chromosome  homozygosity estimate >0.8 and females should have a value <0.2 |\n",
    "| 4: Minor allele frequency (MAF) | `--maf` | Includes only SNPs above the set MAF threshold| SNPs with a low MAF are rare, therefore power is lacking for detecting SNP‐phenotype associations. These SNPs are also more prone to genotyping errors.  The MAF threshold should depend on your sample size,  larger samples can use lower MAF thresholds. Respectively, for large (N = 100.000) vs. moderate samples (N = 10000),  0.01 and 0.05 are commonly used as MAF thresholds|\n",
    "| 5: Hardy-Weinberg equilibrium (HWE) | `--hwe` | Excludes markers which deviate from Hardy–Weinberg equilibrium | Common indicator of genotyping error, may also indicate evolutionary selection.  For binary traits, we suggest excluding: HWE p-value <1e−10 in cases and <1e−6 in controls. A less strict case threshold avoids discarding disease‐associated SNPs under selection.  For quantitative traits, we recommend HWE p-value <1e‐6. |\n",
    "| 6: Heterozygosity | `R` code + `--remove` option in PLINK | Excludes individuals with high or low heterozygosity rates | Deviations can indicate sample contamination and inbreeding.  We suggest removing individuals who deviate ±3 SD from the samples' heterozygosity rate mean |\n",
    "\n",
    ":::\n",
    "\n",
    "# Bibliography"
   ]
  },
  {
   "cell_type": "code",
   "execution_count": null,
   "id": "1a05f766-ad5f-40f6-b115-5a7a33f28bb9",
   "metadata": {},
   "outputs": [],
   "source": []
  }
 ],
 "metadata": {
  "Rmd_chunk_options": {
   "author": "Matti Pirinen, University of Helsinki",
   "date": "Updated: 29-10-2020; 1st ver: 23-Jan-2019.",
   "output": {
    "html_document": "default"
   },
   "title": "GWAS 4: Bayesian inference",
   "urlcolor": "blue"
  },
  "kernelspec": {
   "display_name": "R-GWAS",
   "language": "R",
   "name": "rgwas"
  },
  "language_info": {
   "codemirror_mode": "r",
   "file_extension": ".r",
   "mimetype": "text/x-r-source",
   "name": "R",
   "pygments_lexer": "r",
   "version": "4.4.2"
  },
  "sos": {
   "kernels": [
    [
     "SoS",
     "sos",
     "",
     ""
    ],
    [
     "R",
     "ir",
     "",
     ""
    ]
   ]
  }
 },
 "nbformat": 4,
 "nbformat_minor": 5
}
