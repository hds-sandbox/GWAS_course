{
 "cells": [
  {
   "cell_type": "markdown",
   "id": "d518493f-9760-4f75-80a1-814ba2fd1d39",
   "metadata": {},
   "source": [
    "---\n",
    "title: \"Quality Control: initial steps\"\n",
    "author:\n",
    "    - name: Conor O'Hare\n",
    "    - name: Samuele Soraggi\n",
    "      orcid: 0000-0002-1159-5535\n",
    "      email: samuele@birc.au.dk\n",
    "    - name: Alba Refoyo Martinez\n",
    "      orcid: 0000-0002-3674-4007\n",
    "      email: alba.martinez@sund.ku.dk     \n",
    "---"
   ]
  },
  {
   "cell_type": "markdown",
   "id": "e943e656-5a39-40bf-aa48-5d0f67065936",
   "metadata": {},
   "source": [
    "---\n",
    "format:\n",
    "  html:\n",
    "   theme: default\n",
    "   number-sections: true\n",
    "   code-fold: false\n",
    "   self-contained: false\n",
    "   toc: true\n",
    "   highlight-style: pygments\n",
    "  ipynb:\n",
    "    toc: true\n",
    "    number-sections: false\n",
    "bibliography: references/references_3.bib\n",
    "---"
   ]
  },
  {
   "cell_type": "markdown",
   "id": "2ddbf12e-aeaf-4558-a75d-1d2330023464",
   "metadata": {},
   "source": [
    "::: {.callout-note title=\"Important notes for this notebook\" icon=false}\n",
    "\n",
    "After gathering your data and genotyping, there are many checks one can do to determine the quality of the data. It is crucial to **perform quality control before** carrying out any GWAS, otherwise, there is the risk that some of the associations are spurious.\n",
    "\n",
    "## Learning outcomes\n",
    "\n",
    "- **Distinguish** the various QC steps\n",
    "- **Discuss and choose** thresholds on plink\n",
    "- **Implement** basic QC in `plink` and statistical plots in `R`\n",
    "- **Hypothesize** the effects of various `plink` commands and **verify** your hypothesis using the analysis in `R`\n",
    "\n",
    "\n",
    "## How to make this notebook work\n",
    "\n",
    "* In this notebook, we will primarily use `R` and `bash command line` programming languages, where `R` is used for statistical analysis of the output from various tools running in `bash`.\n",
    "* Since we use multiple coding languages, you need to choose a kernel every time we shift from one language to another. A kernel contains a programming language and the necessary packages to run the course material. To choose a kernel, go to the menu at the top of the page, select `Kernel --> Change Kernel`, and then select the preferred one.\n",
    "* We will shift between two kernels, and along the notebook, you will see a picture indicating when to change the kernel. The two pictures are shown below:\n",
    "<center>\n",
    "<img src=\"Images/bash.png\" alt=\"Bash\" width=\"80\"> Choose the Bash kernel\n",
    "<img src=\"Images/R.png\" alt=\"R\" width=\"80\"> Choose the R-GWAS kernel\n",
    "</center>\n",
    "\n",
    "* You can run the code in each cell by clicking the run cell sign in the toolbar, or simply by pressing <kbd>Shift</kbd>+<kbd>Enter</kbd>. When the code is done running, a small green check mark will appear on the left side.\n",
    "* You need to run the cells in sequential order to execute the analysis. Please do not run a cell until the one above is done running, and do not skip any cells. \n",
    "* The code is accompanied by textual descriptions to help you understand what is happening. Please try not to focus on understanding the code itself in too much detail, but rather focus on the explanations and the output of the commands.  \n",
    "* You can create new code cells by pressing `+` in the Menu bar above or by pressing <kbd>B</kbd> after selecting a cell.\n",
    " \n",
    ":::"
   ]
  },
  {
   "cell_type": "markdown",
   "id": "779e65c1-04f8-4a2d-8d0e-8190e5ccd7e0",
   "metadata": {},
   "source": [
    "The next critical step in any GWAS involves **scrutinizing the data for potential issues**. It's crucial to ensure that the results are not merely artifacts of poor data quality discovered after the analysis. \n",
    "\n",
    "After gathering your data and genotyping, there are many checks one can do to determine the quality of the data. PLINK, one of the most popular software, generates several standard summary statistics that are useful for quality control (e.g. missing genotype rate, minor allele frequency, and Hardy-Weinberg equilibrium failures). These can also be used as thresholds for subsequent analyses, as will be shown in this section.\n",
    "\n",
    "For this tutorial, we will look at the following topics: \n",
    "\n",
    "1) Individual Missingness  \n",
    "2) Sex discrepancy  \n",
    "3) Minor Allele Frequency (MAF)  \n",
    "4) Hardy-Weinburg Equilibrium (HWE)  \n",
    "5) Heterozygosity Rate  \n",
    "\n",
    "In the next section, which is a continuation of quality control, we will look at:\n",
    "\n",
    "6) Relatedness  \n",
    "7) Population Stratification/Structure  "
   ]
  },
  {
   "cell_type": "markdown",
   "id": "eb8e451f",
   "metadata": {},
   "source": [
    "# Individual and SNP Missingness\n",
    "\n",
    "## Missingness per SNP\n",
    "\n",
    "Overall, the SNP genotyping platform is very reliable and delivers stable results when it comes to determining genotypes. Of course, it is not flawless. One of the most frequent problems is that some of the SNPs are just not well-genotyped in the entire population. These should be removed to improve the overall data quality.\n",
    "\n",
    "Certainly, we can't remove every SNP with any missing values, as that would result in losing a significant portion of our data. Instead, we adopt defined **thresholds**. However, determining these thresholds isn't governed by strict rules. You have the flexibility to set them within \"reasonable\" limits. To find out what constitutes \"reasonable,\" consulting relevant literature for your species of interest is advisable. For humans, a common starting point is a threshold of 0.2, meaning we exclude SNPs where 20% or more of the genotypes are missing in our population.\n",
    "\n",
    "## Missingness per individual\n",
    "\n",
    "The reliability of SNP chips is also high when it comes to individual genotypes. In some cases, however, some of the individuals contain a large number of missing SNPs. The reason could be low DNA sample quality, the wrong chip type used (e.g. cattle chip for deer samples), or other technical issues. Regardless of the reason, you should remove the worst offenders from your data set, to not compromise the overall quality of your results."
   ]
  },
  {
   "cell_type": "markdown",
   "id": "1dbeebaf",
   "metadata": {},
   "source": [
    ":::{.callout-important title=\"Stop - Read - Solve\"}\n",
    "\n",
    "Have a look at the following toy example:\n",
    "\n",
    "|   /   | SNP1 | SNP2 | SNP3 | SNP4 | SNP5 |\n",
    "|------|------|------|------|------|------|\n",
    "| IND1 | 22   | 00   | 11   | 12   | 22   |\n",
    "| IND2 | 22   | 00   | 11   | 12   | 22   |\n",
    "| IND3 | 11   | 12   | 11   | 22   | 21   |\n",
    "| IND4 | 00   | 00   | 11   | 11   | 00   |\n",
    "| IND5 | 22   | 00   | 11   | 22   | 22   |\n",
    "\n",
    "Here, we have a data set of five individuals, each of them genotyped for five SNPs. The genotypes themselves are in numerical coding, 11 and 22 being the two homozygous, 12 the heterozygous, and 00 coded as missing. We want to apply two filters: one for the variants, and one for the individuals.\n",
    "\n",
    "- First remove variants with >= 40% missingness\n",
    "- Then remove individuals with >= 40% missingness\n",
    "\n",
    "Which variants and individuals are we removing?"
   ]
  },
  {
   "cell_type": "markdown",
   "id": "5a326c71",
   "metadata": {
    "tags": []
   },
   "source": [
    ":::{.callout-tip title=\"Solution\" collapse=\"true\"}\n",
    "\n",
    "**Variant-level threshold**: In this example, we would only remove SNP2 since it exceeds this threshold, with 80% missingness (4 out of 5 missing values).\n",
    "\n",
    "**Individual-level threshold**: IND4 is removed from the data set, as there is missing genotype information for 2/4 = 50% SNPs (after filtering out SNP2). \n",
    "\n",
    ":::\n",
    "\n",
    "In practice, you want to **remove the SNPs based on missingness before the individuals**. This is simply because we generally have a lot more SNPs than individuals, and would thus lose less information by removing SNPs than individuals. This will remove \"bad\" SNPs first, leaving a lower rate of missingness for all the individuals.\n",
    "\n",
    "## The PLINK tool\n",
    "\n",
    "Using PLINK, we can address missing data using two functions; one operates at the variant level, and the other at the individual level:\n",
    "\n",
    "* `--geno`: This will remove SNPs with a specified proportion of missingness (e.g. `--geno 0.01` will remove SNPs with 1% missingness.\n",
    "* `--mind`: This will remove individuals with a specified proportion of missingness (e.g. `--mind 0.01` will remove individuals with 1% missingness.\n",
    "\n",
    "A common threshold for --mind and --geno ranges from 1% to 5% to ensure quality and robustness. Higher thresholds may be acceptable if the study has a large sample size and missingness is not widespread. Those filters must run one at a time in PLINK.\n",
    "\n",
    "We now implement our first QC method in PLINK:"
   ]
  },
  {
   "cell_type": "markdown",
   "id": "a25cf9d2-c1f8-471e-a6bf-9b92888e4d3a",
   "metadata": {
    "tags": []
   },
   "source": [
    "<img src=\"Images/bash.png\" alt=\"Bash\" width=\"40\"> We link the data folder to easily access it by using the `ln -sf` command and create a folder for the output files (`Results/GWAS3`) "
   ]
  },
  {
   "cell_type": "code",
   "execution_count": 1,
   "id": "5dea98b7-c4dd-4d62-a5e6-b041486b511d",
   "metadata": {
    "tags": []
   },
   "outputs": [],
   "source": [
    "ln -sf ../Data\n",
    "mkdir -p Results/GWAS3"
   ]
  },
  {
   "cell_type": "markdown",
   "id": "7356fd7e-93b6-46e2-b71a-206c2bcdb21a",
   "metadata": {},
   "source": [
    "and run plink"
   ]
  },
  {
   "cell_type": "code",
   "execution_count": 2,
   "id": "f206a476",
   "metadata": {
    "tags": []
   },
   "outputs": [
    {
     "name": "stdout",
     "output_type": "stream",
     "text": [
      "PLINK v1.90b6.21 64-bit (19 Oct 2020)          www.cog-genomics.org/plink/1.9/\n",
      "(C) 2005-2020 Shaun Purcell, Christopher Chang   GNU General Public License v3\n",
      "Logging to Results/GWAS3/data.log.\n",
      "Options in effect:\n",
      "  --bfile Data/HapMap_3_r3_1\n",
      "  --missing\n",
      "  --out Results/GWAS3/data\n",
      "\n",
      "385567 MB RAM detected; reserving 192783 MB for main workspace.\n",
      "1457897 variants loaded from .bim file.\n",
      "165 people (80 males, 85 females) loaded from .fam.\n",
      "112 phenotype values loaded from .fam.\n",
      "Using 1 thread (no multithreaded calculations invoked).\n",
      "Before main variant filters, 112 founders and 53 nonfounders present.\n",
      "Calculating allele frequencies... 10111213141516171819202122232425262728293031323334353637383940414243444546474849505152535455565758596061626364656667686970717273747576777879808182838485868788899091929394959697989 done.\n",
      "Warning: 225 het. haploid genotypes present (see Results/GWAS3/data.hh ); many\n",
      "commands treat these as missing.\n",
      "Total genotyping rate is 0.997378.\n",
      "--missing: Sample missing data report written to Results/GWAS3/data.imiss, and\n",
      "variant-based missing data report written to Results/GWAS3/data.lmiss.\n"
     ]
    }
   ],
   "source": [
    "### Step 1 - Missingness ###\n",
    "\n",
    "# Investigate missingness per individual and per SNP and make histograms.\n",
    "# Note: the '> /dev/null' command is to suppress output. We do this for purely aesthetic reasons, but you can \n",
    "# remove it to read more about what PLINK is doing \n",
    "plink --bfile Data/HapMap_3_r3_1 --missing --out Results/GWAS3/data"
   ]
  },
  {
   "cell_type": "markdown",
   "id": "a640936d-5e42-4846-b58a-8ac6eaeaa473",
   "metadata": {},
   "source": [
    ":::{.callout-important title=\"Stop - Read - Solve\"}\n",
    "\n",
    "PLINK prints a lot of information.\n",
    "\n",
    "- Which file formats are being read by PLINK to understand the data?\n",
    "- What is the percentage of valid genotype data?\n",
    "- Which files are there as output of the command?\n",
    "\n",
    ":::"
   ]
  },
  {
   "cell_type": "markdown",
   "id": "cdf762fa-d9e1-4855-a2de-333a36be8ed3",
   "metadata": {},
   "source": [
    ":::{.callout-tip title=\"Solution\"}\n",
    "\n",
    "PLINK reads two files in format *.fam* and *.bim* for this task. As explained in the notebook GWAS2, these files contain data for individuals and variants, respectively.\n",
    "\n",
    "Immediately we can see that the total genotyping rate for our sample is 0.997378. \n",
    "\n",
    "Furthermore, there will be two output files from this command: `data.imiss` and `data.lmiss`, in the directory `Results/GWAS3/`. These files show respectively the proportion of **missing SNPs per individual** and the proportion of **missing individuals per SNP**. \n",
    "\n",
    ":::\n",
    "\n",
    "We can see a preview of the files to understand their structure. The first individuals of the `imiss` file do not seem to miss phenotypes (column `MISS_PHENO`) and have some proportion of missing genotypes (column `F_MISS`). Similarly, some variants in the `lmiss` file have missing data."
   ]
  },
  {
   "cell_type": "code",
   "execution_count": 13,
   "id": "e64cb902-6e5b-472c-a760-2f84a52f2d58",
   "metadata": {},
   "outputs": [
    {
     "name": "stdout",
     "output_type": "stream",
     "text": [
      "    FID       IID MISS_PHENO   N_MISS   N_GENO   F_MISS\n",
      "   1328   NA06989          N     4203  1457897 0.002883\n",
      "   1377   NA11891          N    20787  1457897  0.01426\n",
      "   1349   NA11843          N     1564  1457897 0.001073\n",
      "   1330   NA12341          N     6218  1457897 0.004265\n"
     ]
    }
   ],
   "source": [
    "cat Results/GWAS3/data.imiss | head -5"
   ]
  },
  {
   "cell_type": "code",
   "execution_count": 12,
   "id": "4714af05-3e55-4b63-8c0d-1416379b54ed",
   "metadata": {},
   "outputs": [
    {
     "name": "stdout",
     "output_type": "stream",
     "text": [
      " CHR         SNP   N_MISS   N_GENO   F_MISS\n",
      "   1   rs2185539        0      165        0\n",
      "   1  rs11510103        4      165  0.02424\n",
      "   1  rs11240767        0      165        0\n",
      "   1   rs3131972        0      165        0\n"
     ]
    }
   ],
   "source": [
    "cat Results/GWAS3/data.lmiss | head -5"
   ]
  },
  {
   "cell_type": "markdown",
   "id": "2737a489-31b5-4fa4-8b60-dba2b8b1c2bc",
   "metadata": {},
   "source": [
    "<img src=\"Images/R.png\" alt=\"R\" width=\"40\"> We can use the output files of PLINK to visualize the distribution of the missingness in individuals and SNPs using histograms in `R`:"
   ]
  },
  {
   "cell_type": "code",
   "execution_count": 11,
   "id": "904776e1-2135-41c4-a356-1bd0b298cf82",
   "metadata": {
    "tags": []
   },
   "outputs": [
    {
     "data": {
      "image/png": "[encoded data removed]",
      "text/plain": [
       "plot without title"
      ]
     },
     "metadata": {
      "image/png": {
       "height": 240,
       "width": 540
      }
     },
     "output_type": "display_data"
    },
    {
     "data": {
      "image/png": "[encoded data removed]",
      "text/plain": [
       "plot without title"
      ]
     },
     "metadata": {
      "image/png": {
       "height": 240,
       "width": 540
      }
     },
     "output_type": "display_data"
    }
   ],
   "source": [
    "library(ggplot2)\n",
    "options(repr.plot.width = 9, repr.plot.height = 4)\n",
    "\n",
    "# Read data into R \n",
    "indmiss <- read.table(file=\"Results/GWAS3/data.imiss\", header=TRUE)\n",
    "snpmiss <- read.table(file=\"Results/GWAS3/data.lmiss\", header=TRUE)\n",
    "\n",
    "#imiss histogram\n",
    "hist.imiss <- ggplot(indmiss, aes(x=indmiss[,6])) +\n",
    "  geom_histogram(binwidth = 0.001, col = \"black\", fill=\"tomato\") + \n",
    "  labs(title = \"Frequency of missingness rates in individuals\") + \n",
    "  xlab(\"Frequency\") + \n",
    "  ylab(\"Missingness in Individuals\") + \n",
    "  theme_bw()\n",
    "\n",
    "#lmiss histogram\n",
    "hist.lmiss <- ggplot(snpmiss, aes(x=snpmiss[,5])) +\n",
    "  geom_histogram(binwidth = 0.005, col = \"black\", fill=\"tomato\") + \n",
    "  labs(title = \"Frequency of missingness rates in SNPs\") + \n",
    "  xlab(\"Frequency\") + \n",
    "  ylab(\"Missingness in SNPs\") + \n",
    "  theme_bw()\n",
    "\n",
    "#show histograms\n",
    "show(hist.imiss)\n",
    "show(hist.lmiss)\n",
    "\n",
    "# Save plots silently\n",
    "suppressMessages({\n",
    "ggsave(plot=hist.imiss, filename=\"Results/GWAS3/histimiss.png\");\n",
    "ggsave(plot=hist.lmiss, filename=\"Results/GWAS3/histlmiss.png\");\n",
    "})"
   ]
  },
  {
   "cell_type": "markdown",
   "id": "6cd0f40c",
   "metadata": {},
   "source": [
    "Histograms are saved in your results directory as `histimiss.png` and `histlmiss.png`. \n",
    "\n",
    "Here are a few observations we can make. Firstly, it's clear that very few individuals have no missing data at all. One interpretation could be that one or a few SNPs are poorly genotyped across all samples. Fortunately, this isn't the case here, otherwise the second plot would show some SNPs with high missing frequency. As shown in the second histogram, the highest percentage of missing data for a SNP is around 0.05 (5%). Overall, the histogram provides insight into how applying a missingness filter will affect the size of your remaining data.\n",
    "\n",
    "<img src=\"Images/bash.png\" alt=\"Bash\" width=\"40\">  We will now use PLINK with our missingness filters for data quality control. We choose as thresholds for missingness of individuals and SNP the value 2%, since only few outlying cases have higher frequency (this threshold does not need to be the same for SNPs and individuals). Below, we provide the command to remove samples with more than 2% missingness (option `--mind`) and SNPs with more than 2% missingness (option `--geno`). The `--out` option defines a prefix for the output file, and `--make-bed` denotes an output in `.bed` format. PLINK is very verbose during execution, so look at the text it prints out when running the command to monitor what it is doing.\n",
    "\n"
   ]
  },
  {
   "cell_type": "code",
   "execution_count": 3,
   "id": "5077d592-61cd-4b33-8691-e0a77f06b326",
   "metadata": {
    "tags": []
   },
   "outputs": [
    {
     "name": "stdout",
     "output_type": "stream",
     "text": [
      "PLINK v1.90b6.21 64-bit (19 Oct 2020)          www.cog-genomics.org/plink/1.9/\n",
      "(C) 2005-2020 Shaun Purcell, Christopher Chang   GNU General Public License v3\n",
      "Logging to Results/GWAS3/HapMap_3_r3_2.log.\n",
      "Options in effect:\n",
      "  --bfile Data/HapMap_3_r3_1\n",
      "  --geno .02\n",
      "  --make-bed\n",
      "  --mind .02\n",
      "  --out Results/GWAS3/HapMap_3_r3_2\n",
      "\n",
      "385567 MB RAM detected; reserving 192783 MB for main workspace.\n",
      "1457897 variants loaded from .bim file.\n",
      "165 people (80 males, 85 females) loaded from .fam.\n",
      "112 phenotype values loaded from .fam.\n",
      "1 person removed due to missing genotype data (--mind).\n",
      "ID written to Results/GWAS3/HapMap_3_r3_2.irem .\n",
      "Using 1 thread (no multithreaded calculations invoked).\n",
      "Before main variant filters, 112 founders and 52 nonfounders present.\n",
      "Calculating allele frequencies... 10111213141516171819202122232425262728293031323334353637383940414243444546474849505152535455565758596061626364656667686970717273747576777879808182838485868788899091929394959697989 done.\n",
      "Warning: 225 het. haploid genotypes present (see Results/GWAS3/HapMap_3_r3_2.hh\n",
      "); many commands treat these as missing.\n",
      "Total genotyping rate in remaining samples is 0.997486.\n",
      "26686 variants removed due to missing genotype data (--geno).\n",
      "1431211 variants and 164 people pass filters and QC.\n",
      "Among remaining phenotypes, 56 are cases and 56 are controls.  (52 phenotypes\n",
      "are missing.)\n",
      "--make-bed to Results/GWAS3/HapMap_3_r3_2.bed + Results/GWAS3/HapMap_3_r3_2.bim\n",
      "+ Results/GWAS3/HapMap_3_r3_2.fam ... 101112131415161718192021222324252627282930313233343536373839404142434445464748495051525354555657585960616263646566676869707172737475767778798081828384858687888990919293949596979899done.\n"
     ]
    }
   ],
   "source": [
    "# Delete samples with missing call freq > 2% and SNPs with missingness > 2%\n",
    "plink --bfile Data/HapMap_3_r3_1 --mind .02 --geno .02 --make-bed --out Results/GWAS3/HapMap_3_r3_2"
   ]
  },
  {
   "cell_type": "markdown",
   "id": "cdd29854-6cb1-4f12-9e59-28b4668d3e49",
   "metadata": {},
   "source": [
    ":::{.callout-important title=\"Stop - Read - Solve\"}\n",
    "\n",
    "Things have happened when filtering.\n",
    "\n",
    "- How many individuals and variants were removed?\n",
    "- Can you produce a preview of the output files? \n",
    "\n",
    ":::"
   ]
  },
  {
   "cell_type": "markdown",
   "id": "62ae7663-15b9-46ba-b2a2-735caeccc978",
   "metadata": {},
   "source": [
    ":::{.callout-tip title=\"Solution\"}\n",
    "\n",
    ":::\n",
    "\n",
    "Only 1 individual has been removed, while 26686 where above the filtering threshold.\n",
    "We can see a preview of the output files: those are again a set of `fam`, `bim` and `bed` file including only the data passing the filters. For the first two formats we can use `cat`, while for the `bed` file we need `xxd` because of the binary nature of the file."
   ]
  },
  {
   "cell_type": "code",
   "execution_count": 10,
   "id": "95d017ba-4ad1-4787-b1d1-901c99a57acc",
   "metadata": {},
   "outputs": [
    {
     "name": "stdout",
     "output_type": "stream",
     "text": [
      "1328 NA06989 0 0 2 2\n",
      "1377 NA11891 0 0 1 2\n",
      "1349 NA11843 0 0 1 1\n",
      "1330 NA12341 0 0 2 2\n",
      "1344 NA10850 0 NA12058 2 -9\n"
     ]
    }
   ],
   "source": [
    "cat Results/GWAS3/HapMap_3_r3_2.fam | head -5"
   ]
  },
  {
   "cell_type": "code",
   "execution_count": 11,
   "id": "14273355-f7d3-46d7-aee3-d0e26680ac72",
   "metadata": {},
   "outputs": [
    {
     "name": "stdout",
     "output_type": "stream",
     "text": [
      "1\trs2185539\t0\t556738\tT\tC\n",
      "1\trs11240767\t0\t718814\tT\tC\n",
      "1\trs3131972\t0\t742584\tA\tG\n",
      "1\trs3131969\t0\t744045\tA\tG\n",
      "1\trs1048488\t0\t750775\tC\tT\n"
     ]
    }
   ],
   "source": [
    "cat Results/GWAS3/HapMap_3_r3_2.bim | head -5"
   ]
  },
  {
   "cell_type": "code",
   "execution_count": 6,
   "id": "ad7f12e6-a432-4a9c-a87b-5b5798584e6b",
   "metadata": {},
   "outputs": [
    {
     "name": "stdout",
     "output_type": "stream",
     "text": [
      "00000000: 01101100 00011011 00000001 11111111 11111111 11111111  l.....\n",
      "00000006: 11111111 11111111 11111111 11111111 11111111 11111111  ......\n",
      "0000000c: 11111111 11111111 11111111 11111111 11111111 11111111  ......\n",
      "00000012: 11111111 11111111 11111111 11111111 11111111 11111111  ......\n",
      "00000018: 11111111 11111111 11111111 11111111 11111111 11111111  ......\n"
     ]
    }
   ],
   "source": [
    "xxd -b Results/GWAS3/HapMap_3_r3_2.bed | head -5"
   ]
  },
  {
   "cell_type": "markdown",
   "id": "a06ceb36",
   "metadata": {},
   "source": [
    "***\n",
    "# Sex Discrepancy\n",
    "\n",
    "One useful check is verifying if the indicated genders are correct. Using PLINK, you can calculate the inbreeding coefficient on the X chromosome under the assumption that it is an autosomal chromosome. This approach is insightful because PLINK treats haploid chromosomes (like the X chromosome in males) as homozygotes due to technical reasons. Consequently, assuming the X chromosome is autosomal makes males appear highly inbred on the X, whereas females do not (since they have two X chromosomes). As a result, the inbreeding coefficient estimates will be close to 1 for males and 0 for females.\n",
    "\n",
    "## PLINK Commands\n",
    "\n",
    "This gender check can be performed in PLINK using the `--check-sex` option. The results are outputted in the file with extension `.sexcheck` (in the `Results/GWAS4` folder) in which the gender is in column `PEDSEX` (1 means male and 2 means female) and the inbreeding coefficient is in column `F`). \n",
    "\n",
    "Generally, males should have an X chromosome homozygosity estimate >0.8 and females should have a value <0.2. So we could simply remove any individuals where the homozygosity estimate (F) does not match their specified sex. Subjects who do not fulfil these requirements are flagged \"PROBLEM\" by PLINK in the output file.\n",
    "\n",
    "Note the option `--silent` to avoid long texts printed out on the screen."
   ]
  },
  {
   "cell_type": "code",
   "execution_count": 10,
   "id": "bc02622c",
   "metadata": {
    "tags": []
   },
   "outputs": [
    {
     "name": "stdout",
     "output_type": "stream",
     "text": [
      "Warning: 181 het. haploid genotypes present (see Results/GWAS3/HapMap_3_r3_2.hh\n",
      "); many commands treat these as missing.\n"
     ]
    }
   ],
   "source": [
    "### Step 2 - Sex Discrepency ####\n",
    "plink --bfile Results/GWAS3/HapMap_3_r3_2 --check-sex --out Results/GWAS3/HapMap_3_r3_2 --silent"
   ]
  },
  {
   "cell_type": "markdown",
   "id": "8fb8b86b",
   "metadata": {},
   "source": [
    "<img src=\"Images/R.png\" alt=\"R\" width=\"40\">  We can visualise the results of the sex check by plotting three histograms for the F values in males, females, and all samples:"
   ]
  },
  {
   "cell_type": "code",
   "execution_count": 1,
   "id": "8ca49591-e1f1-4766-9dc9-3bf66670ba92",
   "metadata": {
    "tags": []
   },
   "outputs": [
    {
     "name": "stderr",
     "output_type": "stream",
     "text": [
      "\u001b[1m\u001b[22m`stat_bin()` using `bins = 30`. Pick better value with `binwidth`.\n",
      "\u001b[1m\u001b[22m`stat_bin()` using `bins = 30`. Pick better value with `binwidth`.\n"
     ]
    },
    {
     "data": {
      "image/png": "[encoded data removed]",
      "text/plain": [
       "plot without title"
      ]
     },
     "metadata": {
      "image/png": {
       "height": 240,
       "width": 540
      }
     },
     "output_type": "display_data"
    },
    {
     "name": "stderr",
     "output_type": "stream",
     "text": [
      "\u001b[1m\u001b[22m`stat_bin()` using `bins = 30`. Pick better value with `binwidth`.\n"
     ]
    },
    {
     "data": {
      "image/png": "[encoded data removed]",
      "text/plain": [
       "plot without title"
      ]
     },
     "metadata": {
      "image/png": {
       "height": 240,
       "width": 540
      }
     },
     "output_type": "display_data"
    },
    {
     "name": "stderr",
     "output_type": "stream",
     "text": [
      "\u001b[1m\u001b[22mSaving 6.67 x 6.67 in image\n",
      "\u001b[1m\u001b[22m`stat_bin()` using `bins = 30`. Pick better value with `binwidth`.\n",
      "\u001b[1m\u001b[22mSaving 6.67 x 6.67 in image\n",
      "\u001b[1m\u001b[22m`stat_bin()` using `bins = 30`. Pick better value with `binwidth`.\n",
      "\u001b[1m\u001b[22mSaving 6.67 x 6.67 in image\n",
      "\u001b[1m\u001b[22m`stat_bin()` using `bins = 30`. Pick better value with `binwidth`.\n"
     ]
    },
    {
     "data": {
      "image/png": "[encoded data removed]",
      "text/plain": [
       "plot without title"
      ]
     },
     "metadata": {
      "image/png": {
       "height": 240,
       "width": 540
      }
     },
     "output_type": "display_data"
    }
   ],
   "source": [
    "#| label: fig-F\n",
    "#| fig-cap: \"inbreeding coefficients for all genders and for males/females separately.\"\n",
    "\n",
    "suppressMessages(suppressWarnings(library(ggplot2)))\n",
    "options(repr.plot.width = 9, repr.plot.height = 4)\n",
    "\n",
    "# Read data into R\n",
    "gender <- read.table(\"Results/GWAS3/HapMap_3_r3_2.sexcheck\", header=T,as.is=T)\n",
    "male <- subset(gender, gender$PEDSEX==1)\n",
    "female <- subset(gender, gender$PEDSEX==2)\n",
    "\n",
    "# plink.imiss histogram\n",
    "hist.gender <- ggplot(gender, aes(x=gender[,6])) +\n",
    "  geom_histogram(col = \"black\", fill=\"tomato\") + \n",
    "  labs(title = \"Values of F for all sexes\") + \n",
    "  xlab(\"F\") + \n",
    "  theme_bw()\n",
    "\n",
    "# plink.imiss histogram\n",
    "hist.male <- ggplot(male, aes(x=male[,6])) +\n",
    "  geom_histogram(col = \"black\", fill=\"tomato\") + \n",
    "  labs(title = \"Values of F for Male\") + \n",
    "  xlab(\"F\") + \n",
    "  theme_bw()\n",
    "\n",
    "\n",
    "# plink.imiss histogram\n",
    "hist.female <- ggplot(female, aes(x=female[,6])) +\n",
    "  geom_histogram(col = \"black\", fill=\"tomato\") + \n",
    "  labs(title = \"Values of F for Female\") + \n",
    "  xlab(\"F\") + \n",
    "  theme_bw()\n",
    "\n",
    "show(hist.gender)\n",
    "show(hist.male)\n",
    "show(hist.female)\n",
    "\n",
    "# Save plots \n",
    "ggsave(plot=hist.gender, filename=\"Results/GWAS3/histgender.png\")\n",
    "ggsave(plot=hist.male, filename=\"Results/GWAS3/histmale.png\")\n",
    "ggsave(plot=hist.female, filename=\"Results/GWAS3/histfemale.png\")"
   ]
  },
  {
   "cell_type": "markdown",
   "id": "054fc475",
   "metadata": {},
   "source": [
    "The inbreeding coefficient plot of @fig-F indicates that there is one woman with a sex discrepancy (F value of 0.99). When using other datasets often a few discrepancies might be found. \n",
    "\n",
    "We have two options when dealing with sex discrepancy. One is to simply remove any individual with sex discrepancy. In our case, this would involve removing the female with the F value of 0.99. \n",
    "\n",
    "<img src=\"Images/bash.png\" alt=\"bash\" width=\"40\">  Removal can be done with the command below. Use `grep` to find lines in the sexcheck file that contain `PROBLEM`. Then, pipe (send) the output to the command `awk` (using the so-called pipe symbol `|`). `awk` will extract the first two columns from each line identified by the `grep` command and redirect them to the file `sex_discrepancy.txt` using the symbol `>` (redirecting the output away from the screen/terminal)."
   ]
  },
  {
   "cell_type": "code",
   "execution_count": 1,
   "id": "57f544c6",
   "metadata": {
    "tags": []
   },
   "outputs": [],
   "source": [
    "grep \"PROBLEM\" Results/GWAS3/HapMap_3_r3_2.sexcheck | awk '{print$1,$2}'> Results/GWAS3/sex_discrepancy.txt"
   ]
  },
  {
   "cell_type": "markdown",
   "id": "66aa4ebf-7ffe-4f96-a6db-6b2c151d0aca",
   "metadata": {},
   "source": [
    "Show the content of the file using `cat`:"
   ]
  },
  {
   "cell_type": "code",
   "execution_count": 1,
   "id": "3e151a47-8fc2-4931-823f-40e2732b076b",
   "metadata": {
    "tags": []
   },
   "outputs": [
    {
     "name": "stdout",
     "output_type": "stream",
     "text": [
      "1349 NA10854\n"
     ]
    }
   ],
   "source": [
    "cat Results/GWAS3/sex_discrepancy.txt"
   ]
  },
  {
   "cell_type": "markdown",
   "id": "700b47a6",
   "metadata": {},
   "source": [
    "For long files, you can simply count the number of lines in the file with `wc` (word count command)"
   ]
  },
  {
   "cell_type": "code",
   "execution_count": 2,
   "id": "a9ca1c0b",
   "metadata": {
    "tags": []
   },
   "outputs": [
    {
     "name": "stdout",
     "output_type": "stream",
     "text": [
      "1 Results/GWAS3/sex_discrepancy.txt\n"
     ]
    }
   ],
   "source": [
    "# Read the list of individuals with the status PROBLEM, -l: counts only the lines (other arguments can help to count words or characters instead).\n",
    "wc -l Results/GWAS3/sex_discrepancy.txt"
   ]
  },
  {
   "cell_type": "markdown",
   "id": "c2b73cb8",
   "metadata": {},
   "source": [
    "The file can be provided to PLINK for removal of sex-discrepant individuals using the option `--remove`:"
   ]
  },
  {
   "cell_type": "code",
   "execution_count": 3,
   "id": "5c10a26c",
   "metadata": {
    "tags": []
   },
   "outputs": [
    {
     "name": "stdout",
     "output_type": "stream",
     "text": [
      "PLINK v1.90b6.21 64-bit (19 Oct 2020)          www.cog-genomics.org/plink/1.9/\n",
      "(C) 2005-2020 Shaun Purcell, Christopher Chang   GNU General Public License v3\n",
      "Logging to Results/GWAS3/HapMap_3_r3_3.log.\n",
      "Options in effect:\n",
      "  --bfile Results/GWAS3/HapMap_3_r3_2\n",
      "  --make-bed\n",
      "  --out Results/GWAS3/HapMap_3_r3_3\n",
      "  --remove Results/GWAS3/sex_discrepancy.txt\n",
      "\n",
      "385567 MB RAM detected; reserving 192783 MB for main workspace.\n",
      "1431211 variants loaded from .bim file.\n",
      "164 people (79 males, 85 females) loaded from .fam.\n",
      "112 phenotype values loaded from .fam.\n",
      "--remove: 163 people remaining.\n",
      "Using 1 thread (no multithreaded calculations invoked).\n",
      "Before main variant filters, 112 founders and 51 nonfounders present.\n",
      "Calculating allele frequencies... 10111213141516171819202122232425262728293031323334353637383940414243444546474849505152535455565758596061626364656667686970717273747576777879808182838485868788899091929394959697989 done.\n",
      "Warning: 181 het. haploid genotypes present (see Results/GWAS3/HapMap_3_r3_3.hh\n",
      "); many commands treat these as missing.\n",
      "Total genotyping rate in remaining samples is 0.998078.\n",
      "1431211 variants and 163 people pass filters and QC.\n",
      "Among remaining phenotypes, 56 are cases and 56 are controls.  (51 phenotypes\n",
      "are missing.)\n",
      "--make-bed to Results/GWAS3/HapMap_3_r3_3.bed + Results/GWAS3/HapMap_3_r3_3.bim\n",
      "+ Results/GWAS3/HapMap_3_r3_3.fam ... 101112131415161718192021222324252627282930313233343536373839404142434445464748495051525354555657585960616263646566676869707172737475767778798081828384858687888990919293949596979899done.\n"
     ]
    }
   ],
   "source": [
    "# Remove the list of individuals with the status PROBLEM.\n",
    "plink --bfile Results/GWAS3/HapMap_3_r3_2 --remove Results/GWAS3/sex_discrepancy.txt --make-bed --out Results/GWAS3/HapMap_3_r3_3"
   ]
  },
  {
   "cell_type": "markdown",
   "id": "32882b66",
   "metadata": {},
   "source": [
    ":::{.callout-note}\n",
    "\n",
    "Another approach supported by PLINK is to impute the sex codes based on the SNP data, which is done with the command `--impute-sex` as shown below. \n",
    "\n",
    "```{.bash}\n",
    "plink --bfile Results/GWAS3/HapMap_3_r3_2 --impute-sex --make-bed --out Results/GWAS3/HapMap_3_r3_3\n",
    "```\n",
    "\n",
    "PLINK finds out automatically how to impute the wrong genders, so you need just to type the extra option into it. However, we will not be executing this command. Instead, we will keep only the dataset where we filtered out the wrong gender.\n",
    "\n",
    ":::"
   ]
  },
  {
   "cell_type": "markdown",
   "id": "d5990d70",
   "metadata": {},
   "source": [
    "# Minor Allele Frequency (MAF)\n",
    "\n",
    "Excluding SNPs based on minor allele frequency (MAF) is somewhat controversial. In a sense, it has little to do with quality control – there is no reason to think there are any errors in the data. The main justification is statistical:\n",
    "\n",
    "- If MAF is low, and the SNP is rare, then the power is low (i.e. don’t spend multiple testing corrections on tests that are unlikely to find anything anyway).\n",
    "- Some statistical methods perform badly with low MAF (e.g. the chi-squared-test).\n",
    "\n",
    "An appropriate cutoff definitely depends on sample size – the larger the sample, the greater your ability to include rare SNPs. Typically, researchers utilize thresholds  of 0.1 or 0.05 (@kanaka_concepts_2023).\n",
    "\n",
    "## Command\n",
    "\n",
    "Filtering data based on the minor allele frequencies is done in a similar way to previous commands. If you want to get rid only of the fixed SNPs, you specify a MAF threshold of 0, which can be done by the command `--maf 0`\n",
    "\n",
    ":::{.callout-warning}\n",
    "\n",
    "One should **limit MAF analysis to only autosomal chromosomes**, meaning you need to generate a subset of the data containing only autosomal chromosomes as done below.\n",
    "\n",
    ":::\n",
    "\n",
    "We extracting the SNP identifiers from chromosomes 1 to 22 with `awk`, and redirect the output to the file `snp_1_22.txt`. Then, PLINK can extract those SNPs using the option `--extract`."
   ]
  },
  {
   "cell_type": "code",
   "execution_count": 4,
   "id": "80174ebb",
   "metadata": {
    "tags": []
   },
   "outputs": [],
   "source": [
    "awk '{ if ($1 >= 1 && $1 <= 22) print $2 }' Results/GWAS3/HapMap_3_r3_3.bim > Results/GWAS3/snp_1_22.txt\n",
    "plink --bfile Results/GWAS3/HapMap_3_r3_3 --extract Results/GWAS3/snp_1_22.txt --make-bed --out Results/GWAS3/HapMap_3_r3_4 --silent"
   ]
  },
  {
   "cell_type": "markdown",
   "id": "a5398bfa-2b0c-41cf-80fe-fcc01b8e3d8c",
   "metadata": {},
   "source": [
    ":::{.callout-important title=\"Stop - Read - Solve\"}\n",
    "\n",
    "How can you verify if only the autosomal regions are present in the output? Try to visualize the chromosomes from one of the output files.\n",
    "\n",
    ":::"
   ]
  },
  {
   "cell_type": "markdown",
   "id": "b08f9cf2-c934-4ac7-a777-b38f0970f89c",
   "metadata": {},
   "source": [
    ":::{.callout-tip title=\"Solution\"}\n",
    "\n",
    ":::\n",
    "\n",
    "SNPs are saved in the output `bim` file. The first column of this file contains the chromosome names. So we simply need to print those, extract the first column, and check the unique names (as extra, we count how many times each chromosome occur):"
   ]
  },
  {
   "cell_type": "code",
   "execution_count": 15,
   "id": "2bf6d931-1e47-4dc9-a886-560db02e2c4d",
   "metadata": {},
   "outputs": [
    {
     "name": "stdout",
     "output_type": "stream",
     "text": [
      " 117486 1\n",
      " 117527 2\n",
      "  97357 3\n",
      "  86412 4\n",
      "  88839 5\n",
      "  92059 6\n",
      "  75941 7\n",
      "  75794 8\n",
      "  64194 9\n",
      "  74392 10\n",
      "  71825 11\n",
      "  69411 12\n",
      "  52348 13\n",
      "  45631 14\n",
      "  42297 15\n",
      "  45099 16\n",
      "  38736 17\n",
      "  41147 18\n",
      "  26439 19\n",
      "  36631 20\n",
      "  19427 21\n",
      "  20314 22\n"
     ]
    }
   ],
   "source": [
    "cut -f 1 Results/GWAS3/HapMap_3_r3_4.bim | uniq -c"
   ]
  },
  {
   "cell_type": "markdown",
   "id": "b6e311af-d256-4925-958f-6aa8ea8ddc63",
   "metadata": {},
   "source": [
    "---"
   ]
  },
  {
   "cell_type": "markdown",
   "id": "dcb8be79",
   "metadata": {},
   "source": [
    "Now that we have a set of files with autosomal chromosomes only, we should have a look at the summary statistics for the minor allele frequency, and plot the values on a histogram. We can do this using the `--freq` option in PLINK:"
   ]
  },
  {
   "cell_type": "code",
   "execution_count": 16,
   "id": "d7fe20f4",
   "metadata": {
    "tags": []
   },
   "outputs": [],
   "source": [
    "# Generate a plot of the MAF distribution.\n",
    "plink --bfile Results/GWAS3/HapMap_3_r3_4 --freq --out Results/GWAS3/MAF_check --silent"
   ]
  },
  {
   "cell_type": "markdown",
   "id": "530c817e-ccb1-491b-9ad2-5ce36e2d5538",
   "metadata": {},
   "source": [
    "<img src=\"Images/R.png\" alt=\"R\" width=\"40\"> Let's plot the MAF histogram using `R`. The second plot, is a zoom-in version with MAF up to 0.1 to observe the low MAF values. "
   ]
  },
  {
   "cell_type": "code",
   "execution_count": 2,
   "id": "c8e23649-69c5-4bc1-a4c3-5f47c113f947",
   "metadata": {
    "tags": []
   },
   "outputs": [
    {
     "name": "stderr",
     "output_type": "stream",
     "text": [
      "\u001b[1m\u001b[22m`stat_bin()` using `bins = 30`. Pick better value with `binwidth`.\n",
      "Warning message:\n",
      "“\u001b[1m\u001b[22mRemoved 929934 rows containing non-finite outside the scale range\n",
      "(`stat_bin()`).”\n",
      "Warning message:\n",
      "“\u001b[1m\u001b[22mRemoved 2 rows containing missing values or values outside the scale range\n",
      "(`geom_bar()`).”\n"
     ]
    },
    {
     "data": {
      "image/png": "[encoded data removed]",
      "text/plain": [
       "plot without title"
      ]
     },
     "metadata": {
      "image/png": {
       "height": 240,
       "width": 540
      }
     },
     "output_type": "display_data"
    },
    {
     "data": {
      "image/png": "[encoded data removed]",
      "text/plain": [
       "plot without title"
      ]
     },
     "metadata": {
      "image/png": {
       "height": 240,
       "width": 540
      }
     },
     "output_type": "display_data"
    }
   ],
   "source": [
    "#| label: fig-MAF\n",
    "#| fig-cap: \"MAF plot for the autosomal SNPs only. Note the zoomed interval (0, 0.1)\"\n",
    "\n",
    "suppressMessages(suppressWarnings(library(ggplot2)))\n",
    "options(repr.plot.width = 9, repr.plot.height = 4)\n",
    "\n",
    "# Read data into R \n",
    "maf_freq <- read.table(\"Results/GWAS3/MAF_check.frq\", header =TRUE, as.is=T)\n",
    "\n",
    "# maf_freq histogram\n",
    "hist.maf <- ggplot(maf_freq, aes(x=maf_freq[,5])) +\n",
    "  geom_histogram(col = \"black\", fill=\"tomato\") + \n",
    "  labs(title = \"MAF distribution\") + \n",
    "  xlab(\"MAF\") + \n",
    "  ylab(\"Frequency\") +\n",
    "  theme_bw()\n",
    "\n",
    "# zoom-in into X-axis\n",
    "hist.maf.zoom <- ggplot(maf_freq, aes(x=maf_freq[,5])) +\n",
    "  geom_histogram(col = \"black\", fill=\"tomato\", bins = 10) + \n",
    "  labs(title = \"Zoom into MAF distribution up to value 0.1\") + \n",
    "  xlab(\"MAF\") + \n",
    "  ylab(\"Frequency\") +\n",
    "  xlim(-.01, 0.1) +\n",
    "  theme_bw()\n",
    "\n",
    "\n",
    "show(hist.maf)\n",
    "show(hist.maf.zoom)\n",
    "\n",
    "# Save plots \n",
    "suppressMessages(ggsave(plot=hist.maf, filename=\"Results/GWAS3/histmaf.png\"))"
   ]
  },
  {
   "cell_type": "markdown",
   "id": "0b5a7c8d",
   "metadata": {},
   "source": [
    "<img src=\"Images/bash.png\" alt=\"bash\" width=\"40\"> As stated above, your MAF threshold depends on sample size, though a conventional MAF threshold for a regular GWAS is between 0.1 and 0.05. Here, to ensure the inclusion of only SNPs we will apply a MAF threshold of 0.05 (that is, remove SNPs where the MAF is 5% or less). The threshold is given with the option `--maf`:"
   ]
  },
  {
   "cell_type": "code",
   "execution_count": 1,
   "id": "465be532",
   "metadata": {
    "tags": []
   },
   "outputs": [],
   "source": [
    "# Remove SNPs with a low MAF frequency.\n",
    "plink --bfile Results/GWAS3/HapMap_3_r3_4 --maf 0.05 --make-bed --out Results/GWAS3/HapMap_3_r3_5 --silent"
   ]
  },
  {
   "cell_type": "markdown",
   "id": "124b254e",
   "metadata": {},
   "source": [
    "We can see from the output that 1073226 SNPs are left in our QC'd dataset. \n",
    "\n",
    "It is worth noting that no matter what the sample size is, monomorphic SNPs (i.e., SNPs that show no genetic variation whatsoever in the sample) are usually problematic and should always be removed. Some code crashes when monomorphic SNPs are included; even if this wasn’t the case, these SNPs cannot possibly be informative in a genome-wide association study."
   ]
  },
  {
   "cell_type": "markdown",
   "id": "804137f3",
   "metadata": {},
   "source": [
    "# Hardy-Weinberg Equilibrium (HWE)"
   ]
  },
  {
   "cell_type": "markdown",
   "id": "3450fe19",
   "metadata": {},
   "source": [
    "The Hardy-Weinberg rule from population genetics states that genetic variation (thus, allele and genotype frequencies) in a population will remain constant unless certain disturbing factors are introduced. This also means that when we know the allele frequencies for $p$ and $q$, the genotype frequencies will be defined as $p^2$, $2pq$, and $q^2$.\n",
    "\n",
    "Let's say the frequency of allele A ($p$ in the equation) is 0.4, and that of allele B ($q$ in the equation) is 0.6. This means for the H-W scenario the genotype frequencies will be 0.16 for AA, 0.48 for AB, and 0.36 for BB. This also means that in a population of e.g. 1000 individuals with the mentioned allele frequencies we expect to see 160 AA, 480 AB, and 360 BB individuals. Of course, we rarely see exact H-W distributions in real populations. The question then becomes, what is the extent of the difference between the expected H-W proportions in each SNP, and the observed proportions in reality? There are typically two reasons why a SNP is not in HWE:\n",
    "\n",
    "* Genotyping error for this SNP\n",
    "* Mating is not random\n",
    "\n",
    "In the real world, mating is of course not random, making it difficult to exclude SNPs based on HWE. The usual recommendation is to exclude a SNP only if HWE is hugely violated (e.g., p-value p<10e−10 for a statistical test of whether the data follow a binomial distribution).\n",
    "\n",
    ":::{.callout-note title=\"HWE and binomial distribution\"}\n",
    "\n",
    "Why is HWE connected to the binomial distribution? What is the ground theory of HWE? You can read an understandable basic tratment of HWE at (@lachance_hardyweinberg_2016).\n",
    "\n",
    ":::"
   ]
  },
  {
   "cell_type": "markdown",
   "id": "13184de9",
   "metadata": {},
   "source": [
    "## Command\n",
    "\n",
    "We can use the option `--hardy` in PLINK to generate H-W p-values (as well as observed and expected heterozygosity). Then, we can employ `awk` to select SNPs (column 9 of the file) with HWE p-value below 0.0001, which are strongly deviating from H-W equilibrium."
   ]
  },
  {
   "cell_type": "code",
   "execution_count": 2,
   "id": "67839627",
   "metadata": {
    "scrolled": true,
    "tags": []
   },
   "outputs": [],
   "source": [
    "plink --bfile Results/GWAS3/HapMap_3_r3_5 --hardy --out Results/GWAS3/HapMap_3_r3_5 --silent\n",
    "\n",
    "awk '{ if ($9 <0.00001) print $0 }' Results/GWAS3/HapMap_3_r3_5.hwe > Results/GWAS3/HapMap_3_r3_5.deviating.hwe"
   ]
  },
  {
   "cell_type": "markdown",
   "id": "a70caceb-76c1-4f61-9f28-778c526b1ffd",
   "metadata": {},
   "source": [
    "We will look more into the content of the produced files in the following `R` code."
   ]
  },
  {
   "cell_type": "markdown",
   "id": "204571e2-90a7-4615-baf3-ef1d237dfb01",
   "metadata": {},
   "source": [
    "<img src=\"Images/R.png\" alt=\"R\" width=\"40\"> Let's plot a histogram of the HWE p-values and zoom in for the deviating p-values. To do so, we need to first read the data and look at the table from the HWE test in PLINK. \n",
    "After using `--hardy` option in PLINK, the columns in the output file typically include the following:\n",
    "\n",
    "- CHR: Chromosome number.\n",
    "- SNP: SNP identifier (rsID).\n",
    "- TEST: Type of HWE test performed. This will usually be \"UNAFF\" for the test on controls if your data has case/control status.\n",
    "- A1: First allele (reference allele).\n",
    "- A2: Second allele (alternate allele).\n",
    "- GENO: Genotype counts in the format \"HOM1/HET/HOM2\", where HOM1 is the count of homozygous for the first allele, HET is the count of heterozygous, and HOM2 is the - count of homozygous for the second allele.\n",
    "- O(HET): Observed heterozygote frequency.\n",
    "- E(HET): Expected heterozygote frequency.\n",
    "- P: Hardy-Weinberg equilibrium exact test p-value.\n",
    "  \n",
    "We will modify the values in the `TEST` column to have more readable names for the plots and save the updated values in the `Phenotype` column."
   ]
  },
  {
   "cell_type": "code",
   "execution_count": 1,
   "id": "abe983c3-2cde-453c-9f32-118e2fcca040",
   "metadata": {
    "tags": []
   },
   "outputs": [],
   "source": [
    "suppressWarnings(suppressMessages(library(dplyr)))\n",
    "\n",
    "# Read data into R using dplyr library \n",
    "hwe <- read.table(file=\"Results/GWAS3/HapMap_3_r3_5.hwe\", header=TRUE)\n",
    "hwe_zoom <- read.table(file=\"Results/GWAS3/HapMap_3_r3_5.deviating.hwe\", header=FALSE)\n",
    "colnames(hwe_zoom) <- colnames(hwe)\n",
    "hwe$Phenotype <- recode(hwe$TEST, \"ALL\"=\"All\", \"UNAFF\"=\"Control\", \"AFF\"=\"Non-Control\")\n",
    "hwe_zoom$Phenotype <- recode(hwe_zoom$TEST, \"ALL\"=\"All\", \"UNAFF\"=\"Control\", \"AFF\"=\"Non-Control\")"
   ]
  },
  {
   "cell_type": "markdown",
   "id": "12f7b311-1049-47fb-bedd-f616625538dd",
   "metadata": {},
   "source": [
    "Here, we print the first rows of the two generated tables"
   ]
  },
  {
   "cell_type": "code",
   "execution_count": 2,
   "id": "74418d2d-22de-4162-8144-5e5360f211be",
   "metadata": {
    "tags": []
   },
   "outputs": [
    {
     "data": {
      "text/html": [
       "<table class=\"dataframe\">\n",
       "<caption>A data.frame: 6 × 10</caption>\n",
       "<thead>\n",
       "\t<tr><th></th><th scope=col>CHR</th><th scope=col>SNP</th><th scope=col>TEST</th><th scope=col>A1</th><th scope=col>A2</th><th scope=col>GENO</th><th scope=col>O.HET.</th><th scope=col>E.HET.</th><th scope=col>P</th><th scope=col>Phenotype</th></tr>\n",
       "\t<tr><th></th><th scope=col>&lt;int&gt;</th><th scope=col>&lt;chr&gt;</th><th scope=col>&lt;chr&gt;</th><th scope=col>&lt;chr&gt;</th><th scope=col>&lt;chr&gt;</th><th scope=col>&lt;chr&gt;</th><th scope=col>&lt;dbl&gt;</th><th scope=col>&lt;dbl&gt;</th><th scope=col>&lt;dbl&gt;</th><th scope=col>&lt;chr&gt;</th></tr>\n",
       "</thead>\n",
       "<tbody>\n",
       "\t<tr><th scope=row>1</th><td>1</td><td>rs3131972</td><td>ALL  </td><td>A</td><td>G</td><td>2/33/77</td><td>0.2946</td><td>0.2758</td><td>0.7324</td><td>All        </td></tr>\n",
       "\t<tr><th scope=row>2</th><td>1</td><td>rs3131972</td><td>AFF  </td><td>A</td><td>G</td><td>1/19/36</td><td>0.3393</td><td>0.3047</td><td>0.6670</td><td>Non-Control</td></tr>\n",
       "\t<tr><th scope=row>3</th><td>1</td><td>rs3131972</td><td>UNAFF</td><td>A</td><td>G</td><td>1/14/41</td><td>0.2500</td><td>0.2449</td><td>1.0000</td><td>Control    </td></tr>\n",
       "\t<tr><th scope=row>4</th><td>1</td><td>rs3131969</td><td>ALL  </td><td>A</td><td>G</td><td>2/26/84</td><td>0.2321</td><td>0.2320</td><td>1.0000</td><td>All        </td></tr>\n",
       "\t<tr><th scope=row>5</th><td>1</td><td>rs3131969</td><td>AFF  </td><td>A</td><td>G</td><td>1/17/38</td><td>0.3036</td><td>0.2817</td><td>1.0000</td><td>Non-Control</td></tr>\n",
       "\t<tr><th scope=row>6</th><td>1</td><td>rs3131969</td><td>UNAFF</td><td>A</td><td>G</td><td>1/9/46 </td><td>0.1607</td><td>0.1771</td><td>0.4189</td><td>Control    </td></tr>\n",
       "</tbody>\n",
       "</table>\n"
      ],
      "text/latex": [
       "A data.frame: 6 × 10\n",
       "\\begin{tabular}{r|llllllllll}\n",
       "  & CHR & SNP & TEST & A1 & A2 & GENO & O.HET. & E.HET. & P & Phenotype\\\\\n",
       "  & <int> & <chr> & <chr> & <chr> & <chr> & <chr> & <dbl> & <dbl> & <dbl> & <chr>\\\\\n",
       "\\hline\n",
       "\t1 & 1 & rs3131972 & ALL   & A & G & 2/33/77 & 0.2946 & 0.2758 & 0.7324 & All        \\\\\n",
       "\t2 & 1 & rs3131972 & AFF   & A & G & 1/19/36 & 0.3393 & 0.3047 & 0.6670 & Non-Control\\\\\n",
       "\t3 & 1 & rs3131972 & UNAFF & A & G & 1/14/41 & 0.2500 & 0.2449 & 1.0000 & Control    \\\\\n",
       "\t4 & 1 & rs3131969 & ALL   & A & G & 2/26/84 & 0.2321 & 0.2320 & 1.0000 & All        \\\\\n",
       "\t5 & 1 & rs3131969 & AFF   & A & G & 1/17/38 & 0.3036 & 0.2817 & 1.0000 & Non-Control\\\\\n",
       "\t6 & 1 & rs3131969 & UNAFF & A & G & 1/9/46  & 0.1607 & 0.1771 & 0.4189 & Control    \\\\\n",
       "\\end{tabular}\n"
      ],
      "text/markdown": [
       "\n",
       "A data.frame: 6 × 10\n",
       "\n",
       "| <!--/--> | CHR &lt;int&gt; | SNP &lt;chr&gt; | TEST &lt;chr&gt; | A1 &lt;chr&gt; | A2 &lt;chr&gt; | GENO &lt;chr&gt; | O.HET. &lt;dbl&gt; | E.HET. &lt;dbl&gt; | P &lt;dbl&gt; | Phenotype &lt;chr&gt; |\n",
       "|---|---|---|---|---|---|---|---|---|---|---|\n",
       "| 1 | 1 | rs3131972 | ALL   | A | G | 2/33/77 | 0.2946 | 0.2758 | 0.7324 | All         |\n",
       "| 2 | 1 | rs3131972 | AFF   | A | G | 1/19/36 | 0.3393 | 0.3047 | 0.6670 | Non-Control |\n",
       "| 3 | 1 | rs3131972 | UNAFF | A | G | 1/14/41 | 0.2500 | 0.2449 | 1.0000 | Control     |\n",
       "| 4 | 1 | rs3131969 | ALL   | A | G | 2/26/84 | 0.2321 | 0.2320 | 1.0000 | All         |\n",
       "| 5 | 1 | rs3131969 | AFF   | A | G | 1/17/38 | 0.3036 | 0.2817 | 1.0000 | Non-Control |\n",
       "| 6 | 1 | rs3131969 | UNAFF | A | G | 1/9/46  | 0.1607 | 0.1771 | 0.4189 | Control     |\n",
       "\n"
      ],
      "text/plain": [
       "  CHR SNP       TEST  A1 A2 GENO    O.HET. E.HET. P      Phenotype  \n",
       "1 1   rs3131972 ALL   A  G  2/33/77 0.2946 0.2758 0.7324 All        \n",
       "2 1   rs3131972 AFF   A  G  1/19/36 0.3393 0.3047 0.6670 Non-Control\n",
       "3 1   rs3131972 UNAFF A  G  1/14/41 0.2500 0.2449 1.0000 Control    \n",
       "4 1   rs3131969 ALL   A  G  2/26/84 0.2321 0.2320 1.0000 All        \n",
       "5 1   rs3131969 AFF   A  G  1/17/38 0.3036 0.2817 1.0000 Non-Control\n",
       "6 1   rs3131969 UNAFF A  G  1/9/46  0.1607 0.1771 0.4189 Control    "
      ]
     },
     "metadata": {},
     "output_type": "display_data"
    },
    {
     "data": {
      "text/html": [
       "<table class=\"dataframe\">\n",
       "<caption>A data.frame: 6 × 10</caption>\n",
       "<thead>\n",
       "\t<tr><th></th><th scope=col>CHR</th><th scope=col>SNP</th><th scope=col>TEST</th><th scope=col>A1</th><th scope=col>A2</th><th scope=col>GENO</th><th scope=col>O.HET.</th><th scope=col>E.HET.</th><th scope=col>P</th><th scope=col>Phenotype</th></tr>\n",
       "\t<tr><th></th><th scope=col>&lt;int&gt;</th><th scope=col>&lt;chr&gt;</th><th scope=col>&lt;chr&gt;</th><th scope=col>&lt;chr&gt;</th><th scope=col>&lt;chr&gt;</th><th scope=col>&lt;chr&gt;</th><th scope=col>&lt;dbl&gt;</th><th scope=col>&lt;dbl&gt;</th><th scope=col>&lt;dbl&gt;</th><th scope=col>&lt;chr&gt;</th></tr>\n",
       "</thead>\n",
       "<tbody>\n",
       "\t<tr><th scope=row>1</th><td>3</td><td>rs7623291 </td><td>ALL</td><td>T</td><td>C</td><td>22/28/62</td><td>0.2500</td><td>0.4362</td><td>8.938e-06</td><td>All        </td></tr>\n",
       "\t<tr><th scope=row>2</th><td>7</td><td>rs34238522</td><td>ALL</td><td>C</td><td>T</td><td>0/64/48 </td><td>0.5714</td><td>0.4082</td><td>3.515e-06</td><td>All        </td></tr>\n",
       "\t<tr><th scope=row>3</th><td>8</td><td>rs3102841 </td><td>ALL</td><td>C</td><td>A</td><td>8/78/23 </td><td>0.7156</td><td>0.4905</td><td>1.899e-06</td><td>All        </td></tr>\n",
       "\t<tr><th scope=row>4</th><td>9</td><td>rs354831  </td><td>ALL</td><td>C</td><td>T</td><td>12/18/82</td><td>0.1607</td><td>0.3047</td><td>6.339e-06</td><td>All        </td></tr>\n",
       "\t<tr><th scope=row>5</th><td>9</td><td>rs10990625</td><td>ALL</td><td>C</td><td>T</td><td>23/28/61</td><td>0.2500</td><td>0.4424</td><td>9.391e-06</td><td>All        </td></tr>\n",
       "\t<tr><th scope=row>6</th><td>9</td><td>rs10990625</td><td>AFF</td><td>C</td><td>T</td><td>15/8/33 </td><td>0.1429</td><td>0.4483</td><td>3.574e-07</td><td>Non-Control</td></tr>\n",
       "</tbody>\n",
       "</table>\n"
      ],
      "text/latex": [
       "A data.frame: 6 × 10\n",
       "\\begin{tabular}{r|llllllllll}\n",
       "  & CHR & SNP & TEST & A1 & A2 & GENO & O.HET. & E.HET. & P & Phenotype\\\\\n",
       "  & <int> & <chr> & <chr> & <chr> & <chr> & <chr> & <dbl> & <dbl> & <dbl> & <chr>\\\\\n",
       "\\hline\n",
       "\t1 & 3 & rs7623291  & ALL & T & C & 22/28/62 & 0.2500 & 0.4362 & 8.938e-06 & All        \\\\\n",
       "\t2 & 7 & rs34238522 & ALL & C & T & 0/64/48  & 0.5714 & 0.4082 & 3.515e-06 & All        \\\\\n",
       "\t3 & 8 & rs3102841  & ALL & C & A & 8/78/23  & 0.7156 & 0.4905 & 1.899e-06 & All        \\\\\n",
       "\t4 & 9 & rs354831   & ALL & C & T & 12/18/82 & 0.1607 & 0.3047 & 6.339e-06 & All        \\\\\n",
       "\t5 & 9 & rs10990625 & ALL & C & T & 23/28/61 & 0.2500 & 0.4424 & 9.391e-06 & All        \\\\\n",
       "\t6 & 9 & rs10990625 & AFF & C & T & 15/8/33  & 0.1429 & 0.4483 & 3.574e-07 & Non-Control\\\\\n",
       "\\end{tabular}\n"
      ],
      "text/markdown": [
       "\n",
       "A data.frame: 6 × 10\n",
       "\n",
       "| <!--/--> | CHR &lt;int&gt; | SNP &lt;chr&gt; | TEST &lt;chr&gt; | A1 &lt;chr&gt; | A2 &lt;chr&gt; | GENO &lt;chr&gt; | O.HET. &lt;dbl&gt; | E.HET. &lt;dbl&gt; | P &lt;dbl&gt; | Phenotype &lt;chr&gt; |\n",
       "|---|---|---|---|---|---|---|---|---|---|---|\n",
       "| 1 | 3 | rs7623291  | ALL | T | C | 22/28/62 | 0.2500 | 0.4362 | 8.938e-06 | All         |\n",
       "| 2 | 7 | rs34238522 | ALL | C | T | 0/64/48  | 0.5714 | 0.4082 | 3.515e-06 | All         |\n",
       "| 3 | 8 | rs3102841  | ALL | C | A | 8/78/23  | 0.7156 | 0.4905 | 1.899e-06 | All         |\n",
       "| 4 | 9 | rs354831   | ALL | C | T | 12/18/82 | 0.1607 | 0.3047 | 6.339e-06 | All         |\n",
       "| 5 | 9 | rs10990625 | ALL | C | T | 23/28/61 | 0.2500 | 0.4424 | 9.391e-06 | All         |\n",
       "| 6 | 9 | rs10990625 | AFF | C | T | 15/8/33  | 0.1429 | 0.4483 | 3.574e-07 | Non-Control |\n",
       "\n"
      ],
      "text/plain": [
       "  CHR SNP        TEST A1 A2 GENO     O.HET. E.HET. P         Phenotype  \n",
       "1 3   rs7623291  ALL  T  C  22/28/62 0.2500 0.4362 8.938e-06 All        \n",
       "2 7   rs34238522 ALL  C  T  0/64/48  0.5714 0.4082 3.515e-06 All        \n",
       "3 8   rs3102841  ALL  C  A  8/78/23  0.7156 0.4905 1.899e-06 All        \n",
       "4 9   rs354831   ALL  C  T  12/18/82 0.1607 0.3047 6.339e-06 All        \n",
       "5 9   rs10990625 ALL  C  T  23/28/61 0.2500 0.4424 9.391e-06 All        \n",
       "6 9   rs10990625 AFF  C  T  15/8/33  0.1429 0.4483 3.574e-07 Non-Control"
      ]
     },
     "metadata": {},
     "output_type": "display_data"
    }
   ],
   "source": [
    "#| label: fig-HWEtables\n",
    "#| fig-cap: \"HWE tables from PLINK\"\n",
    "\n",
    "head(hwe)\n",
    "head(hwe_zoom)"
   ]
  },
  {
   "cell_type": "markdown",
   "id": "5fa26f9f-c6a3-4479-bd30-9f8dcbd60e72",
   "metadata": {},
   "source": [
    "Now, we can plot the histograms. We isolate each \"phenotype\" to see if there are any significant differences in p-value distribution between them."
   ]
  },
  {
   "cell_type": "code",
   "execution_count": 4,
   "id": "48e8396f-5b57-472c-b347-2b3a7879c277",
   "metadata": {
    "scrolled": true,
    "tags": []
   },
   "outputs": [
    {
     "name": "stderr",
     "output_type": "stream",
     "text": [
      "\u001b[1m\u001b[22m`stat_bin()` using `bins = 30`. Pick better value with `binwidth`.\n"
     ]
    },
    {
     "data": {
      "image/png": "[encoded data removed]",
      "text/plain": [
       "plot without title"
      ]
     },
     "metadata": {
      "image/png": {
       "height": 240,
       "width": 540
      }
     },
     "output_type": "display_data"
    },
    {
     "data": {
      "image/png": "[encoded data removed]",
      "text/plain": [
       "plot without title"
      ]
     },
     "metadata": {
      "image/png": {
       "height": 240,
       "width": 540
      }
     },
     "output_type": "display_data"
    }
   ],
   "source": [
    "#| label: fig-HWE\n",
    "#| fig-cap: \"HWE p-values calculated with PLINK and zoom for the SNPs deviating from HWE. We can spot some deviations from HWE in the zoomed plot. Note that the p+values for the phenotype `All` is not the merging of the barplots from the other two phenotypes!\"\n",
    "suppressMessages(suppressWarnings(library(ggplot2)))\n",
    "options(repr.plot.width = 9, repr.plot.height = 4)\n",
    "\n",
    "# maf_freq histogram\n",
    "hist.hwe <- ggplot(hwe, aes(x=hwe[,9])) +\n",
    "  geom_histogram(col = \"black\", fill=\"tomato\") + \n",
    "  labs(title = \"HWE distribution\") + \n",
    "  xlab(\"HWE p-value\") + \n",
    "  ylab(\"Frequency\") +\n",
    "  facet_wrap(~Phenotype) +\n",
    "  theme_bw()\n",
    "\n",
    "# maf_freq histogram\n",
    "hist.hwe_below_threshold <- ggplot(hwe_zoom, aes(x=hwe_zoom[,9])) +\n",
    "  geom_histogram(binwidth = 0.0000015, col = \"black\", fill=\"tomato\") + \n",
    "  labs(title = \"HWE distribution for strongly deviating SNPs only\") + \n",
    "  xlab(\"HWE p-value\") + \n",
    "  ylab(\"Frequency\") +\n",
    "  facet_wrap(~Phenotype) +\n",
    "  theme_bw()\n",
    "\n",
    "show(hist.hwe)\n",
    "show(hist.hwe_below_threshold)\n",
    "\n",
    "# Save plots \n",
    "suppressMessages({\n",
    "ggsave(plot=hist.hwe, filename=\"Results/GWAS3/histhwe.png\");\n",
    "ggsave(plot=hist.hwe_below_threshold, filename=\"Results/GWAS3/histhwe_below_threshold.png\");})"
   ]
  },
  {
   "cell_type": "markdown",
   "id": "0b3ea338",
   "metadata": {},
   "source": [
    "<img src=\"Images/bash.png\" alt=\"bash\" width=\"40\">  Almost all of our SNPs are in HWE, as determined by testing whether the alleles follow a binomial distribution. However, in our zoomed-in plot, we can spot a few extreme deviations. We can remove these outliers using the option `--hwe` in PLINK with the specified threshold. Note that `--hwe` filters only on controls, so if you want to apply the threshold to non-controls as well, include the `include-nonctrl` in the command. In the two steps below, we filter only controls with threshold `1e-6` and then all phenotypes with threshold `1e-10`:"
   ]
  },
  {
   "cell_type": "code",
   "execution_count": 1,
   "id": "f64ffce1",
   "metadata": {
    "tags": []
   },
   "outputs": [],
   "source": [
    "plink --bfile Results/GWAS3/HapMap_3_r3_5 --hwe 1e-6 --make-bed --out Results/GWAS3/HapMap_3_r3_5_onlycontrols --silent"
   ]
  },
  {
   "cell_type": "code",
   "execution_count": 3,
   "id": "5151da4b",
   "metadata": {
    "tags": []
   },
   "outputs": [],
   "source": [
    "plink --bfile Results/GWAS3/HapMap_3_r3_5_onlycontrols --hwe 1e-10 include-nonctrl --make-bed --out Results/GWAS3/HapMap_3_r3_6 --silent"
   ]
  },
  {
   "cell_type": "markdown",
   "id": "6f60a633",
   "metadata": {},
   "source": [
    "# Heterozygosity Rate\n",
    "\n",
    "A somewhat similar idea to HWE, but applied to individuals instead of SNPs (if an individual had a ton of A/B calls but no A/A or B/B calls, or vice versa, that would indicate something was wrong):\n",
    "\n",
    "## Command\n",
    "\n",
    "PLINK has no summary statistic for heterozygosity of individuals. Instead, we will first prune the dataset, checking heterozygosity on a **set of SNPs which are not highly correlated**. We do this because highly correlated regions reduce the power of our analysis. To generate a list of non-(highly)correlated SNPs, we exclude (`--exclude`) high inversion regions (already saved in `Data/inversion.txt`) and prune the SNPs using the option `--indep-pairwise`. The parameters `50 5 0.2` stand respectively for: the window size, the number of SNPs to shift the window at each step, and the multiple correlation coefficient for a SNP being regressed on all other SNPs simultaneously."
   ]
  },
  {
   "cell_type": "code",
   "execution_count": 5,
   "id": "6cb3ed80",
   "metadata": {
    "tags": []
   },
   "outputs": [],
   "source": [
    "plink --bfile Results/GWAS3/HapMap_3_r3_6 --exclude Data/inversion.txt --range --indep-pairwise 50 5 0.2 --out Results/GWAS3/indepSNP --silent"
   ]
  },
  {
   "cell_type": "markdown",
   "id": "6fbd312e",
   "metadata": {},
   "source": [
    "With this pruned list, we measure the heterozygosity rates of the individuals in the remaining independent SNPs."
   ]
  },
  {
   "cell_type": "code",
   "execution_count": 6,
   "id": "a551b42f",
   "metadata": {
    "tags": []
   },
   "outputs": [],
   "source": [
    "plink --bfile Results/GWAS3/HapMap_3_r3_6 --extract Results/GWAS3/indepSNP.prune.in --het --out Results/GWAS3/R_check --silent"
   ]
  },
  {
   "cell_type": "markdown",
   "id": "b41b19b1-ba6b-439e-86b4-25c6b0b26f22",
   "metadata": {},
   "source": [
    "<img src=\"Images/R.png\" alt=\"R\" width=\"40\"> Now, let's plot the distribution of heterozygosity rates. Again, we will first have a look at the heterozygosity table. When using the `--het` option in PLINK, the output table has the following columns:\n",
    "\n",
    "- FID: Family ID of the individual.\n",
    "- IID: Individual ID within the family.\n",
    "- O(HOM): Observed number of homozygous genotypes.\n",
    "- E(HOM): Expected number of homozygous genotypes under Hardy-Weinberg equilibrium.\n",
    "- N(NM): Number of non-missing autosomal genotypes.\n",
    "- F: Inbreeding coefficient (F), which is calculated as \n",
    "$$\\tfrac{(E(HOM)−O(HOM))}{N(NM)}."
   ]
  },
  {
   "cell_type": "code",
   "execution_count": 3,
   "id": "1c961837-0788-43d5-a5b0-6f65e147f7a6",
   "metadata": {
    "tags": []
   },
   "outputs": [
    {
     "data": {
      "text/html": [
       "<table class=\"dataframe\">\n",
       "<caption>A data.frame: 6 × 6</caption>\n",
       "<thead>\n",
       "\t<tr><th></th><th scope=col>FID</th><th scope=col>IID</th><th scope=col>O.HOM.</th><th scope=col>E.HOM.</th><th scope=col>N.NM.</th><th scope=col>F</th></tr>\n",
       "\t<tr><th></th><th scope=col>&lt;int&gt;</th><th scope=col>&lt;chr&gt;</th><th scope=col>&lt;int&gt;</th><th scope=col>&lt;dbl&gt;</th><th scope=col>&lt;int&gt;</th><th scope=col>&lt;dbl&gt;</th></tr>\n",
       "</thead>\n",
       "<tbody>\n",
       "\t<tr><th scope=row>1</th><td>1328</td><td>NA06989</td><td>66999</td><td>67450</td><td>103892</td><td>-0.0125100</td></tr>\n",
       "\t<tr><th scope=row>2</th><td>1377</td><td>NA11891</td><td>66840</td><td>66820</td><td>102941</td><td> 0.0005092</td></tr>\n",
       "\t<tr><th scope=row>3</th><td>1349</td><td>NA11843</td><td>67243</td><td>67550</td><td>104055</td><td>-0.0085140</td></tr>\n",
       "\t<tr><th scope=row>4</th><td>1330</td><td>NA12341</td><td>66648</td><td>67390</td><td>103809</td><td>-0.0203700</td></tr>\n",
       "\t<tr><th scope=row>5</th><td>1344</td><td>NA10850</td><td>67411</td><td>67510</td><td>103988</td><td>-0.0028170</td></tr>\n",
       "\t<tr><th scope=row>6</th><td>1328</td><td>NA06984</td><td>66938</td><td>67230</td><td>103577</td><td>-0.0081300</td></tr>\n",
       "</tbody>\n",
       "</table>\n"
      ],
      "text/latex": [
       "A data.frame: 6 × 6\n",
       "\\begin{tabular}{r|llllll}\n",
       "  & FID & IID & O.HOM. & E.HOM. & N.NM. & F\\\\\n",
       "  & <int> & <chr> & <int> & <dbl> & <int> & <dbl>\\\\\n",
       "\\hline\n",
       "\t1 & 1328 & NA06989 & 66999 & 67450 & 103892 & -0.0125100\\\\\n",
       "\t2 & 1377 & NA11891 & 66840 & 66820 & 102941 &  0.0005092\\\\\n",
       "\t3 & 1349 & NA11843 & 67243 & 67550 & 104055 & -0.0085140\\\\\n",
       "\t4 & 1330 & NA12341 & 66648 & 67390 & 103809 & -0.0203700\\\\\n",
       "\t5 & 1344 & NA10850 & 67411 & 67510 & 103988 & -0.0028170\\\\\n",
       "\t6 & 1328 & NA06984 & 66938 & 67230 & 103577 & -0.0081300\\\\\n",
       "\\end{tabular}\n"
      ],
      "text/markdown": [
       "\n",
       "A data.frame: 6 × 6\n",
       "\n",
       "| <!--/--> | FID &lt;int&gt; | IID &lt;chr&gt; | O.HOM. &lt;int&gt; | E.HOM. &lt;dbl&gt; | N.NM. &lt;int&gt; | F &lt;dbl&gt; |\n",
       "|---|---|---|---|---|---|---|\n",
       "| 1 | 1328 | NA06989 | 66999 | 67450 | 103892 | -0.0125100 |\n",
       "| 2 | 1377 | NA11891 | 66840 | 66820 | 102941 |  0.0005092 |\n",
       "| 3 | 1349 | NA11843 | 67243 | 67550 | 104055 | -0.0085140 |\n",
       "| 4 | 1330 | NA12341 | 66648 | 67390 | 103809 | -0.0203700 |\n",
       "| 5 | 1344 | NA10850 | 67411 | 67510 | 103988 | -0.0028170 |\n",
       "| 6 | 1328 | NA06984 | 66938 | 67230 | 103577 | -0.0081300 |\n",
       "\n"
      ],
      "text/plain": [
       "  FID  IID     O.HOM. E.HOM. N.NM.  F         \n",
       "1 1328 NA06989 66999  67450  103892 -0.0125100\n",
       "2 1377 NA11891 66840  66820  102941  0.0005092\n",
       "3 1349 NA11843 67243  67550  104055 -0.0085140\n",
       "4 1330 NA12341 66648  67390  103809 -0.0203700\n",
       "5 1344 NA10850 67411  67510  103988 -0.0028170\n",
       "6 1328 NA06984 66938  67230  103577 -0.0081300"
      ]
     },
     "metadata": {},
     "output_type": "display_data"
    }
   ],
   "source": [
    "het <- read.table(\"Results/GWAS3/R_check.het\", head=TRUE)\n",
    "head(het)"
   ]
  },
  {
   "cell_type": "markdown",
   "id": "2da1e4dd-fb02-49e0-8932-65291c1c6d06",
   "metadata": {},
   "source": [
    "We are going to calculate by hand the heterozygosity rates so we can plot them (not by default in the table). The formula for the rates is $ N(NM)-O(HOM)/N(NM) $"
   ]
  },
  {
   "cell_type": "code",
   "execution_count": 4,
   "id": "80d47e15-ca66-44b2-b27a-da477b9d5648",
   "metadata": {
    "tags": []
   },
   "outputs": [
    {
     "data": {
      "image/png": "[encoded data removed]",
      "text/plain": [
       "plot without title"
      ]
     },
     "metadata": {
      "image/png": {
       "height": 240,
       "width": 540
      }
     },
     "output_type": "display_data"
    }
   ],
   "source": [
    "#| label: fig-HET\n",
    "#| fig-cap: \"Barplot of heterozigosity rates.\"\n",
    "\n",
    "suppressMessages(suppressWarnings(library(ggplot2)))\n",
    "options(repr.plot.width = 9, repr.plot.height = 4)\n",
    "\n",
    "het$HET_RATE = (het$\"N.NM.\" - het$\"O.HOM.\")/het$\"N.NM.\"\n",
    "\n",
    "# plink.imiss histogram\n",
    "hist.het <- ggplot(het, aes(x=HET_RATE)) +\n",
    "  geom_histogram(binwidth = 0.001, col = \"black\", fill=\"tomato\") + \n",
    "  labs(title = \"Heterozygosity Rates\") + \n",
    "  xlab(\"Heterozygosity Rate\") + \n",
    "  ylab(\"Frequency\") + \n",
    "  theme_bw()\n",
    "\n",
    "\n",
    "show(hist.het)\n",
    "\n",
    "# Save plots \n",
    "suppressMessages(ggsave(plot=hist.het, filename=\"Results/GWAS3/heterozygosity.png\"))"
   ]
  },
  {
   "cell_type": "markdown",
   "id": "1be72c26",
   "metadata": {},
   "source": [
    "As a rule of thumb, we want to remove individuals who deviate more than 3 standard deviations (sd) from the heterozygosity rate mean. For data manipulation, we recommend using the `bash` command line. However, when performing statistical calculations, `R` is more convenient, hence the use of `R` for this step. \n",
    "\n",
    "Let's create a file subsetting the heterozygosity table based on 3 standard deviations away from the mean so that it can be used for removal by PLINK. We also add a column `HET_DST` to the table, containing the standardized values of heterozygosities."
   ]
  },
  {
   "cell_type": "code",
   "execution_count": 5,
   "id": "963e0a29",
   "metadata": {
    "tags": []
   },
   "outputs": [],
   "source": [
    "suppressMessages(suppressWarnings(library(dplyr)))\n",
    "\n",
    "het <- read.table(\"Results/GWAS3/R_check.het\", head=TRUE)\n",
    "het$HET_RATE = (het$\"N.NM.\" - het$\"O.HOM.\")/het$\"N.NM.\"\n",
    "\n",
    "het_fail <- subset(het, (het$HET_RATE < mean(het$HET_RATE)-3*sd(het$HET_RATE)) | \n",
    "                    (het$HET_RATE > mean(het$HET_RATE)+3*sd(het$HET_RATE)))\n",
    "\n",
    "het_fail$HET_DST <- (het_fail$HET_RATE-mean(het$HET_RATE))/sd(het$HET_RATE);\n",
    "\n",
    "write.table(het_fail, \"Results/GWAS3/fail-het-qc.txt\", row.names=FALSE, quote=FALSE)"
   ]
  },
  {
   "cell_type": "markdown",
   "id": "5cd9abe3",
   "metadata": {},
   "source": [
    "<img src=\"Images/bash.png\" alt=\"bash\" width=\"40\"> The output of this command is `fail-het-qc.txt`. Let's check how many individuals are picked up as having a heterozygosity rate deviating more than 3 SD's from the mean. \n",
    "wc -l:  Counts only the lines in the file (incl. header)"
   ]
  },
  {
   "cell_type": "code",
   "execution_count": 1,
   "id": "ce3bd7ba",
   "metadata": {
    "tags": []
   },
   "outputs": [
    {
     "name": "stdout",
     "output_type": "stream",
     "text": [
      "3 Results/GWAS3/fail-het-qc.txt\n"
     ]
    }
   ],
   "source": [
    "wc -l Results/GWAS3/fail-het-qc.txt"
   ]
  },
  {
   "cell_type": "markdown",
   "id": "54fd408e-4b31-4fb4-9106-080c85e41f41",
   "metadata": {},
   "source": [
    "We can count 3 lines (one is the header), meaning there are two individuals to be filtered out. To use the file in PLINK, we need only the first two columns (Family ID and Individual ID) as shown below"
   ]
  },
  {
   "cell_type": "code",
   "execution_count": 2,
   "id": "ffe3b148-7c59-4f7b-ad72-87e44359e73a",
   "metadata": {
    "tags": []
   },
   "outputs": [
    {
     "name": "stdout",
     "output_type": "stream",
     "text": [
      "FID IID O.HOM. E.HOM. N.NM. F HET_RATE HET_DST\n",
      "1330 NA12342 68056 67220 103550 0.0229 0.34277160791888 -3.74231467217876\n",
      "1459 NA12874 68786 67550 104050 0.03379 0.338913983661701 -5.03987173113217\n"
     ]
    }
   ],
   "source": [
    "cat Results/GWAS3/fail-het-qc.txt"
   ]
  },
  {
   "cell_type": "markdown",
   "id": "1fe4f0c2",
   "metadata": {},
   "source": [
    "We use `awk` to print out the first two columns in the file `het-fail-ind.txt` and use the option `--remove` to filter out the individuals with PLINK."
   ]
  },
  {
   "cell_type": "code",
   "execution_count": 4,
   "id": "d35701f1",
   "metadata": {
    "tags": []
   },
   "outputs": [],
   "source": [
    "awk '{print$1, $2}' Results/GWAS3/fail-het-qc.txt > Results/GWAS3/het-fail-ind.txt\n",
    "\n",
    "plink --bfile Results/GWAS3/HapMap_3_r3_6 --remove Results/GWAS3/het-fail-ind.txt --make-bed --out Results/GWAS3/HapMap_3_r3_7 --silent"
   ]
  },
  {
   "cell_type": "markdown",
   "id": "57b62761",
   "metadata": {},
   "source": [
    "# Wrapping up\n",
    "\n",
    "In this tutorial, we have tried several quality control approaches in PLINK and calculated various statistics, which we visualized using `R`. In the next notebook, you will find even more examples of how you verify the quality of your data.\n",
    "\n",
    "# Bibliography"
   ]
  },
  {
   "cell_type": "markdown",
   "id": "e41d6001",
   "metadata": {},
   "source": [
    "| Step | Command | Function | Thresholds and explanation |\n",
    "|----------------------------------------|------------------|----------------------------------------------------------------------------------------------------------------------------------------------------------|---------------------------------------------------------------------------------------------------------------------------------------------------------------------------------------------------------------------------------------------------------------------------------------------------------------------------------------------------------------------------------------------------|\n",
    "| 1: Missingness of SNPs and individuals | --geno| Excludes SNPs that are missing in a large proportion of the subjects. In this step, SNPs with low genotype calls are removed| We recommend first filtering SNPs and individuals based on a relaxed  threshold (0.2; >20%), as this will filter out SNPs and individuals  with very high levels of missingness. Then a filter with a more  stringent threshold can be applied (0.02)|\n",
    "| | --mind| Excludes individuals who have high rates of genotype missingness. In this step, individuals with low genotype calls are removed | Note, SNP filtering should be performed before individual filtering |\n",
    "| 2: Sex discrepancy | --check-sex| Checks for discrepancies between the sex of the individuals recorded in the  dataset and their sex based on X chromosome heterozygosity/homozygosity  rates | Can indicate sample mix‐ups. If many subjects have this discrepancy, the data should be checked carefully. Males should have an X chromosome  homozygosity estimate >0.8 and females should have a value <0.2 |\n",
    "| 3: Minor allele frequency (MAF) | --maf | Includes only SNPs above the set MAF threshold| SNPs with a low MAF are rare, therefore power is lacking for detecting SNP‐phenotype associations. These SNPs are also more prone to genotyping errors.  The MAF threshold should depend on your sample size,  larger samples can use lower MAF thresholds. Respectively, for large (N = 100.000) vs. moderate samples (N = 10000),  0.01 and 0.05 are commonly used as MAF thresholds|\n",
    "| 4: Hardy-Weinberg equilibrium (HWE) | --hwe | Excludes markers which deviate from Hardy–Weinberg equilibrium | Common indicator of genotyping error, may also indicate evolutionary selection.  For binary traits, we suggest excluding: HWE p-value <1e−10 in cases and <1e−6 in controls. A less strict case threshold avoids discarding disease‐associated SNPs under selection.  For quantitative traits, we recommend HWE p-value <1e‐6. |\n",
    "| 5: Heterozygosity | (example script) | Excludes individuals with high or low heterozygosity rates | Deviations can indicate sample contamination and inbreeding.  We suggest removing individuals who deviate ±3 SD from the samples' heterozygosity rate mean |"
   ]
  }
 ],
 "metadata": {
  "Rmd_chunk_options": {
   "author": "Matti Pirinen, University of Helsinki",
   "date": "Updated: 29-10-2020; 1st ver: 23-Jan-2019.",
   "output": {
    "html_document": "default"
   },
   "title": "GWAS 4: Bayesian inference",
   "urlcolor": "blue"
  },
  "kernelspec": {
   "display_name": "Bash",
   "language": "bash",
   "name": "bash"
  },
  "language_info": {
   "codemirror_mode": "shell",
   "file_extension": ".sh",
   "mimetype": "text/x-sh",
   "name": "bash"
  },
  "sos": {
   "kernels": [
    [
     "SoS",
     "sos",
     "",
     ""
    ],
    [
     "R",
     "ir",
     "",
     ""
    ]
   ]
  }
 },
 "nbformat": 4,
 "nbformat_minor": 5
}
