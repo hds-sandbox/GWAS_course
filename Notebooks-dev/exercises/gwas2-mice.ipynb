{
 "cells": [
  {
   "cell_type": "markdown",
   "id": "fe06445f-3895-4f51-8027-a3bb56932985",
   "metadata": {},
   "source": [
    "# Mice data exercise\n",
    "\n",
    "**1. Find out how many individuals and how many SNPs there are in the mice data. Which chromosomes are considered in the data? Is it possible to check it for sex discrepancy?**\n",
    "\n",
    "There are 1940 individuals and 2984 SNPs. There is only data from chromosomes 1-4. You cannot look for chromosome X inbreeding\n",
    "\n",
    "**2. Are there any parents in the `fam` file? Hint: the `fam` file has just a backspace as a separator and is not tab-separated. This needs the specific option `-d' '` for the `cut` command.**\n",
    "\n",
    "No parents' information. \n",
    "\n",
    "**4. Is there any data for sex and phenotype in the `.fam` file? Is this data from a case-control study or a sample-based study?**\n",
    "\n",
    "No information in the fam file.\n",
    "\n",
    "**6. How can you find the minimum and maximum value of the phenotype (last column) using only the command line?**\n",
    "\n",
    "The minimum value is -4.13 and the maximum is 3.60. \n"
   ]
  },
  {
   "cell_type": "code",
   "execution_count": null,
   "id": "a8c5239b-49f3-47d2-a87f-4ddee6696d60",
   "metadata": {},
   "outputs": [],
   "source": [
    "# Number of individuals \n",
    "wc -l Data/mice.fam"
   ]
  },
  {
   "cell_type": "code",
   "execution_count": null,
   "id": "98f6909a-3eba-4c7c-b229-c3d7d5089c0a",
   "metadata": {},
   "outputs": [],
   "source": [
    "# Number of variants\n",
    "wc -l Data/mice.bim"
   ]
  },
  {
   "cell_type": "code",
   "execution_count": null,
   "id": "84c5dc05-d291-40d8-902f-4e6142fa2a70",
   "metadata": {},
   "outputs": [],
   "source": [
    "# Chromosomes info\n",
    "cut -f1 Data/mice.bim | sort | uniq -c "
   ]
  },
  {
   "cell_type": "code",
   "execution_count": null,
   "id": "15a1d193-1637-4e9a-9ce5-d303a7a743bb",
   "metadata": {},
   "outputs": [],
   "source": [
    "# Mother and father info \n",
    "cut -f3 -d\" \" Data/mice.fam | sort | uniq -c \n",
    "cut -f4 -d\" \" Data/mice.fam | sort | uniq -c "
   ]
  },
  {
   "cell_type": "code",
   "execution_count": null,
   "id": "d1789db1-095d-4bc0-a1d7-97f7a366654b",
   "metadata": {},
   "outputs": [],
   "source": [
    "# View .fam file \n",
    "head -n 5 Data/mice.fam "
   ]
  },
  {
   "cell_type": "code",
   "execution_count": null,
   "id": "4b348d58-84a8-4b86-b26a-ae089893aeb8",
   "metadata": {},
   "outputs": [],
   "source": [
    "# sex \n",
    "cut -f6 -d\" \" Data/mice.fam | sort | uniq -c "
   ]
  },
  {
   "cell_type": "code",
   "execution_count": null,
   "id": "5c645c9d-ee73-43af-8798-9a16bd5492c7",
   "metadata": {},
   "outputs": [],
   "source": [
    "# phenotype \n",
    "cut -f6 -d\" \" Data/mice.fam | sort | uniq -c "
   ]
  },
  {
   "cell_type": "code",
   "execution_count": 5,
   "id": "1a2b213e-46a1-4c8a-8a05-6468208fb351",
   "metadata": {},
   "outputs": [
    {
     "name": "stdout",
     "output_type": "stream",
     "text": [
      "-4.124257\n"
     ]
    }
   ],
   "source": [
    "# phenotype lowest value\n",
    "cut -f3 -d\" \" Data/mice.pheno | sort -n | head -n1"
   ]
  },
  {
   "cell_type": "code",
   "execution_count": 6,
   "id": "4dbdba8b-45d7-4f92-a2e4-ce5942b3dec6",
   "metadata": {},
   "outputs": [
    {
     "name": "stdout",
     "output_type": "stream",
     "text": [
      "3.594109\n"
     ]
    }
   ],
   "source": [
    "# phenotype highest value\n",
    "cut -f3 -d\" \" Data/mice.pheno | sort -n | tail -n1"
   ]
  },
  {
   "cell_type": "code",
   "execution_count": null,
   "id": "c6f006ce-31e9-4ab2-ba5c-69269a00fca0",
   "metadata": {},
   "outputs": [],
   "source": []
  }
 ],
 "metadata": {
  "kernelspec": {
   "display_name": "Bash",
   "language": "bash",
   "name": "bash"
  },
  "language_info": {
   "codemirror_mode": "shell",
   "file_extension": ".sh",
   "mimetype": "text/x-sh",
   "name": "bash"
  }
 },
 "nbformat": 4,
 "nbformat_minor": 5
}
