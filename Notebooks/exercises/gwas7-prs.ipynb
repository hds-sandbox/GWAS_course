{
 "cells": [
  {
   "cell_type": "markdown",
   "id": "f1f7d3b5-4108-49ab-86ae-7f122d855ff2",
   "metadata": {},
   "source": [
    "# PRSice exercise\n",
    "\n",
    "Explore the base GWAS and compute polygenic scores for height in Europeans using PRSice2. \n",
    "\n",
    "<img src=\"../Images/bash.png\" alt=\"R\" width=\"40\"> Bash kernel.\n"
   ]
  },
  {
   "cell_type": "code",
   "execution_count": null,
   "id": "03046a6d-0950-434c-a29d-b47aa43ea69d",
   "metadata": {
    "vscode": {
     "languageId": "r"
    }
   },
   "outputs": [],
   "source": [
    "ln -sf ../../Data\n",
    "ln -sf ../Results"
   ]
  },
  {
   "cell_type": "markdown",
   "id": "74f79b95-c338-4a26-8c36-c87044d97484",
   "metadata": {},
   "source": [
    "<img src=\"../Images/R.png\" alt=\"R\" width=\"40\"> R kernel."
   ]
  },
  {
   "cell_type": "code",
   "execution_count": null,
   "id": "557ca4a2-7d58-469d-9889-9b61946c3117",
   "metadata": {
    "vscode": {
     "languageId": "r"
    }
   },
   "outputs": [],
   "source": [
    "# Setup to avoid long messages and plot on screen\n",
    "options(warn=-1)\n",
    "options(jupyter.plot_mimetypes = 'image/png')\n",
    "\n",
    "# Load GWAS package qqman\n",
    "suppressMessages(library(\"qqman\"))\n",
    "\n",
    "# Manhattan plot using --logistic results\n",
    "height_eur <- read.table(\"./Data/Height.QC.gz\", head=TRUE)\n",
    "manhattan(height_eur, main = \"Manhattan plot height GWAS\", cex.axis=1.1)\n",
    "\n",
    "## QQ plot \n",
    "qq(height_eur$P, main = \"Q-Q plot\")\n"
   ]
  },
  {
   "cell_type": "markdown",
   "id": "426080e0-45fa-4102-9aa5-6fb6a52bbc2f",
   "metadata": {},
   "source": [
    "Does the plot surprise you? You can notice extreme deviations in the QQ-plot and an overwhelming number of significant variants. To refine your analysis and avoid false positives, you should perform MAF and INFO filtering to exclude rare variants and poorly imputed or uncertain variants that could lead to false associations.\n",
    "\n",
    "<img src=\"../Images/bash.png\" alt=\"Bash\" width=\"40\"> Bash kernel. \n",
    "\n",
    "You need to perform the PRS analysis on the simulated dataset in the following way:"
   ]
  },
  {
   "cell_type": "code",
   "execution_count": null,
   "id": "cfdab610-f718-43d7-8080-2504794caded",
   "metadata": {
    "vscode": {
     "languageId": "r"
    }
   },
   "outputs": [],
   "source": [
    "PRSice --base ./Data/Height.QC.gz \\\n",
    "    --target ./Data/EUR.QC \\\n",
    "    --binary-target F \\\n",
    "    --pheno ./Data/EUR.height \\\n",
    "    --cov ./Data/EUR.covariate \\\n",
    "    --base-maf MAF:0.01 \\\n",
    "    --base-info INFO:0.8 \\\n",
    "    --stat BETA \\\n",
    "    --out Results/GWAS7/EUR.PRSice"
   ]
  },
  {
   "cell_type": "markdown",
   "id": "b06b3022-7bff-45f9-beef-e5357c585856",
   "metadata": {},
   "source": [
    "By looking at the output file `.summary`, we can conclude that:\n",
    "\n",
    "- Best-fit P-value is ~0.4\n",
    "- Phenotypic variation explained by the best-fitting model is ~0.16"
   ]
  },
  {
   "cell_type": "code",
   "execution_count": null,
   "id": "a7e98775-8632-4326-a735-88bccfabb445",
   "metadata": {
    "vscode": {
     "languageId": "r"
    }
   },
   "outputs": [],
   "source": [
    "cat Results/GWAS7/EUR.PRSice.summary"
   ]
  },
  {
   "cell_type": "markdown",
   "id": "b8c620c7-95be-4d48-b39d-2a96f434d818",
   "metadata": {},
   "source": [
    "<img src=\"../Images/R.png\" alt=\"R\" width=\"40\"> R kernel.\n",
    "\n",
    "Below is an example of how you could create a plot in R to visualize height PGS differences across sex:"
   ]
  },
  {
   "cell_type": "code",
   "execution_count": null,
   "id": "697e022d-0e51-40b0-b60f-49308bb43e99",
   "metadata": {
    "vscode": {
     "languageId": "r"
    }
   },
   "outputs": [],
   "source": [
    "library(ggplot2)\n",
    "\n",
    "# Read in the files\n",
    "prs <- read.table(\"./Results/GWAS7/EUR.PRSice.best\", header=T)\n",
    "height <- read.table(\"./Data/EUR.height\", header=T)\n",
    "sex <- read.table(\"./Data/EUR.cov\", header=T)\n",
    "\n",
    "# Rename the sex\n",
    "sex$Sex <- as.factor(sex$Sex)\n",
    "levels(sex$Sex) <- c(\"Male\", \"Female\")\n",
    "\n",
    "# Merge the files\n",
    "dat <- merge(merge(prs, height), sex)\n",
    "\n",
    "# Start plotting\n",
    "ggplot(dat, aes(x=PRS, y=Height, color=Sex))+\n",
    "    geom_point()+\n",
    "    theme_bw()+\n",
    "    labs(x=\"Polygenic Score\", y=\"Height\") +\n",
    "    theme(axis.text=element_text(size=12), axis.title=element_text(size=12), legend.text=element_text(size=12),legend.title=element_text(size=14))"
   ]
  }
 ],
 "metadata": {
  "kernelspec": {
   "display_name": "R",
   "language": "R",
   "name": "ir"
  },
  "language_info": {
   "codemirror_mode": "r",
   "file_extension": ".r",
   "mimetype": "text/x-r-source",
   "name": "R",
   "pygments_lexer": "r",
   "version": "4.2.2"
  }
 },
 "nbformat": 4,
 "nbformat_minor": 5
}
