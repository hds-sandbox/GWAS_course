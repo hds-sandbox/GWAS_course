{
 "cells": [
  {
   "cell_type": "markdown",
   "id": "fe06445f-3895-4f51-8027-a3bb56932985",
   "metadata": {},
   "source": [
    "# Mice data exercise\n",
    "\n",
    "Perform the following filtering analysis:\n",
    "\n",
    "- **1. Missingness and filtering, both at the variant- and individual-level.**\n",
    "- **2. Minor Allele Frequency filtering.**\n",
    "- **3. Hardy-Weinberg Equilibrium.**\n",
    "- **4. Heterozygosity rate.**\n",
    "\n",
    "<img src=\"../Images/bash.png\" alt=\"bash\" width=\"40\">  Switch to the Bash kernel.\n"
   ]
  },
  {
   "cell_type": "code",
   "execution_count": null,
   "id": "5b66ff95-1ae2-49f8-9023-4ab65434e824",
   "metadata": {},
   "outputs": [],
   "source": [
    "ln -sf ../../Data\n",
    "ln -sf ../Results"
   ]
  },
  {
   "cell_type": "markdown",
   "id": "93465f7b-05a8-4b33-8f9e-5596da2403ee",
   "metadata": {},
   "source": [
    "# **1. Filtering excessive missing values.** \n",
    "\n",
    "First of all, we begin by producing the sample-wise and variant-wise missing reports in the format `.imiss` and `.lmiss`. Note that sex will not be considered at all by PLINK as mentioned in the warning."
   ]
  },
  {
   "cell_type": "code",
   "execution_count": null,
   "id": "7ee3f7cd-fb2c-421e-bd75-ea5245e9d457",
   "metadata": {},
   "outputs": [],
   "source": [
    "plink --bfile Data/mice --missing --out Results/GWAS3/mice --silent"
   ]
  },
  {
   "cell_type": "markdown",
   "id": "202b5ae5-7bab-45d9-a351-a102c5482c19",
   "metadata": {},
   "source": [
    "<img src=\"../Images/R.png\" alt=\"R\" width=\"40\">  Switch to the R-GWAS kernel.\n",
    " \n",
    "Now we look at the histograms. The only thing needed to change in the code, compared to the tutorial, is the name of the two missingness reports."
   ]
  },
  {
   "cell_type": "code",
   "execution_count": null,
   "id": "1771c8b4-483d-4e06-8009-bbdad147350e",
   "metadata": {},
   "outputs": [],
   "source": [
    "library(ggplot2)\n",
    "options(repr.plot.width = 9, repr.plot.height = 4)\n",
    "\n",
    "# Read data into R \n",
    "indmiss <- read.table(file=\"Results/GWAS3/mice.imiss\", header=TRUE)\n",
    "snpmiss <- read.table(file=\"Results/GWAS3/mice.lmiss\", header=TRUE)\n",
    "\n",
    "#imiss histogram\n",
    "hist.imiss <- ggplot(indmiss, aes(x=indmiss[,6])) +\n",
    "  geom_histogram(binwidth = 0.001, col = \"black\", fill=\"tomato\") + \n",
    "  labs(title = \"Frequency of missingness rates in individuals\") + \n",
    "  xlab(\"Frequency\") + \n",
    "  ylab(\"Missingness in Individuals\") + \n",
    "  theme_bw()+\n",
    "  theme(axis.title=element_text(size=13), axis.text=element_text(size=13), plot.title=element_text(size=15))\n",
    "\n",
    "#lmiss histogram\n",
    "hist.lmiss <- ggplot(snpmiss, aes(x=snpmiss[,5])) +\n",
    "  geom_histogram(binwidth = 0.005, col = \"black\", fill=\"tomato\") + \n",
    "  labs(title = \"Frequency of missingness rates in SNPs\") + \n",
    "  xlab(\"Frequency\") + \n",
    "  ylab(\"Missingness in SNPs\") + \n",
    "  theme_bw()+\n",
    "  theme(axis.title=element_text(size=13), axis.text=element_text(size=13), plot.title=element_text(size=15))\n",
    "\n",
    "#show histograms\n",
    "show(hist.imiss)\n",
    "show(hist.lmiss)"
   ]
  },
  {
   "cell_type": "markdown",
   "id": "78679e19-8d37-4c23-a98c-ac7183813812",
   "metadata": {},
   "source": [
    "The histograms do not show any high missingness for the variants (second plot), while there are a few individuals that we should filter out. Below, we filter only individuals with missingness above 2%, without choosing any variant filter. The new `bed, bim, fam` files have the prefix `mice_miss`"
   ]
  },
  {
   "cell_type": "code",
   "execution_count": null,
   "id": "c241ee5b-8274-4e42-a06a-4561376f077b",
   "metadata": {},
   "outputs": [],
   "source": [
    "plink --bfile Data/mice --mind .02 --make-bed --out Results/GWAS3/mice_miss --silent"
   ]
  },
  {
   "cell_type": "markdown",
   "id": "b80b4081-4f6d-49bf-a0eb-404637b10f11",
   "metadata": {},
   "source": [
    "# **2. Minimum Allele Frequency**. \n",
    "Let's calculate the MAF values using `--freq`: "
   ]
  },
  {
   "cell_type": "code",
   "execution_count": null,
   "id": "62b7b14d-3fb9-448f-b7ee-6de8b8466c73",
   "metadata": {},
   "outputs": [],
   "source": [
    "# Generate a plot of the MAF distribution.\n",
    "plink --bfile Results/GWAS3/mice_miss --freq --out Results/GWAS3/mice_miss --silent"
   ]
  },
  {
   "cell_type": "markdown",
   "id": "3cda85dd-3cbd-4edd-8a54-e7b1d258e645",
   "metadata": {},
   "source": [
    "<img src=\"../Images/R.png\" alt=\"R\" width=\"40\">  Switch to the R-GWAS kernel.\n",
    "\n",
    "Let's plot the MAF histogram using `R`. The second plot, is a zoom-in version with MAF up to 0.1 to observe the low MAF values. "
   ]
  },
  {
   "cell_type": "code",
   "execution_count": null,
   "id": "9025eaff-b187-48cd-9613-a27e375f545f",
   "metadata": {},
   "outputs": [],
   "source": [
    "#| label: fig-MAF\n",
    "#| fig-cap: \"MAF plot for the autosomal SNPs only. Note the zoomed interval (0, 0.1)\"\n",
    "\n",
    "library(ggplot2)\n",
    "options(repr.plot.width = 9, repr.plot.height = 4)\n",
    "\n",
    "# Read data into R \n",
    "maf_freq <- read.table(\"Results/GWAS3/mice_miss.frq\", header =TRUE, as.is=T)\n",
    "\n",
    "# maf_freq histogram\n",
    "hist.maf <- ggplot(maf_freq, aes(x=maf_freq[,5])) +\n",
    "  geom_histogram(col = \"black\", fill=\"tomato\", bins=50) + \n",
    "  labs(title = \"MAF distribution\") + \n",
    "  xlab(\"MAF\") + \n",
    "  ylab(\"Frequency\") +\n",
    "  theme_bw()+\n",
    "  theme(axis.title=element_text(size=13), axis.text=element_text(size=13), plot.title=element_text(size=15))\n",
    "\n",
    "# zoom-in into X-axis\n",
    "hist.maf.zoom <- ggplot(maf_freq, aes(x=maf_freq[,5])) +\n",
    "  geom_histogram(col = \"black\", fill=\"tomato\", bins = 10) + \n",
    "  labs(title = \"Zoom into MAF distribution up to value 0.1\") + \n",
    "  xlab(\"MAF\") + \n",
    "  ylab(\"Frequency\") +\n",
    "  xlim(-.01, 0.1) +\n",
    "  theme_bw()+\n",
    "  theme(axis.title=element_text(size=13), axis.text=element_text(size=13), plot.title=element_text(size=15))\n",
    "\n",
    "\n",
    "show(hist.maf)\n",
    "show(hist.maf.zoom)"
   ]
  },
  {
   "cell_type": "markdown",
   "id": "080435d6-72b7-4623-9221-4c2e68f95efc",
   "metadata": {},
   "source": [
    "There are two minor peaks in the histograms above, one at 0.05 and 0.1. Choosing 0.1 would remove over a hundred extra SNPs, while 0.05 should remove around less than 200. We can for example choose 0.05, but 0.1 is acceptable as well as it is another threshold often applied in literature."
   ]
  },
  {
   "cell_type": "code",
   "execution_count": null,
   "id": "a54d801c-3f83-48a0-8062-c3dfd905a669",
   "metadata": {},
   "outputs": [],
   "source": [
    "# Remove SNPs with a low MAF frequency.\n",
    "plink --bfile Results/GWAS3/mice_miss --maf 0.05 --make-bed --out Results/GWAS3/mice_miss_maf --silent"
   ]
  },
  {
   "cell_type": "markdown",
   "id": "e5c57e34-f36d-4a77-8fd9-02942465007c",
   "metadata": {},
   "source": [
    "# **3. Hardy Weinberg Equilibrium**. \n",
    "\n",
    "Here we need again to apply the option `hardy` to calculate observed and expected heterozigous frequencies and p-values for the binomial test. Note how column `TEST` considers all individuals ( `ALL(NP)` stands for `ALL Not Pruned`)."
   ]
  },
  {
   "cell_type": "code",
   "execution_count": null,
   "id": "dfd98cba-760f-4e8a-b5a4-77172a838cbb",
   "metadata": {},
   "outputs": [],
   "source": [
    "plink --bfile Results/GWAS3/mice_miss_maf --hardy --out Results/GWAS3/mice_miss_maf --silent\n",
    "\n",
    "awk '{ if ($9 <0.00001) print $0 }' Results/GWAS3/mice_miss_maf.hwe > Results/GWAS3/mice_miss_maf.deviating.hwe"
   ]
  },
  {
   "cell_type": "code",
   "execution_count": null,
   "id": "581e5901-778b-48d7-8b5b-acb429c41b18",
   "metadata": {},
   "outputs": [],
   "source": [
    "head Results/GWAS3/mice_miss_maf.hwe "
   ]
  },
  {
   "cell_type": "code",
   "execution_count": null,
   "id": "ef759ed6-4079-4f0a-9f1e-a97fa19ba15d",
   "metadata": {},
   "outputs": [],
   "source": [
    "wc -l Results/GWAS3/mice_miss_maf.deviating.hwe"
   ]
  },
  {
   "cell_type": "markdown",
   "id": "1b66747a-8219-425d-b848-66d3e53db839",
   "metadata": {},
   "source": [
    "There are 355 variants to remove with a p-value below 0.00001"
   ]
  },
  {
   "cell_type": "markdown",
   "id": "01289ffc-ace6-4d1a-8c46-6e4eb4672eb5",
   "metadata": {},
   "source": [
    "<img src=\"../Images/R.png\" alt=\"R\" width=\"40\">  Switch to the R-GWAS kernel.\n",
    "\n",
    "Now we create histograms to look at the p-values from the tables above. We do not need to use the case-control renaming and plotting categories."
   ]
  },
  {
   "cell_type": "code",
   "execution_count": null,
   "id": "f77ae110-627f-40f7-bbd6-86d25a75b4a0",
   "metadata": {},
   "outputs": [],
   "source": [
    "suppressMessages(suppressWarnings(library(dplyr)))\n",
    "\n",
    "# Read data into R using dplyr library \n",
    "hwe <- read.table(file=\"Results/GWAS3/mice_miss_maf.hwe\", header=TRUE)\n",
    "hwe_zoom <- read.table(file=\"Results/GWAS3/mice_miss_maf.deviating.hwe\", header=FALSE)\n",
    "colnames(hwe_zoom) <- colnames(hwe)"
   ]
  },
  {
   "cell_type": "markdown",
   "id": "7b5b0bb3-2640-4027-b2fa-572f53ffa8e3",
   "metadata": {},
   "source": [
    "Here, we print the first rows of the two generated tables"
   ]
  },
  {
   "cell_type": "code",
   "execution_count": null,
   "id": "5b4b232c-d0f0-4eda-83be-8c2d6bb49a22",
   "metadata": {},
   "outputs": [],
   "source": [
    "#| label: fig-HWEtables\n",
    "#| fig-cap: \"HWE tables from PLINK\"\n",
    "\n",
    "head(hwe)\n",
    "head(hwe_zoom)"
   ]
  },
  {
   "cell_type": "markdown",
   "id": "fafd77f7-b183-48bb-be16-68a23999d62f",
   "metadata": {},
   "source": [
    "Now, we can plot the histograms"
   ]
  },
  {
   "cell_type": "code",
   "execution_count": null,
   "id": "392e7206-ce72-4c53-972b-bacb9321f430",
   "metadata": {},
   "outputs": [],
   "source": [
    "#| label: fig-HWE\n",
    "#| fig-cap: \"HWE p-values calculated with PLINK and zoom for the SNPs deviating from HWE.\"\n",
    "suppressMessages(suppressWarnings(library(ggplot2)))\n",
    "options(repr.plot.width = 9, repr.plot.height = 4)\n",
    "\n",
    "# maf_freq histogram\n",
    "hist.hwe <- ggplot(hwe, aes(x=hwe[,9])) +\n",
    "  geom_histogram(col = \"black\", fill=\"tomato\", bins=50) + \n",
    "  labs(title = \"HWE distribution\") + \n",
    "  xlab(\"HWE p-value\") + \n",
    "  ylab(\"Frequency\") +\n",
    "  theme_bw()+\n",
    "  theme(axis.title=element_text(size=13), axis.text=element_text(size=13), plot.title=element_text(size=15))\n",
    "\n",
    "# maf_freq histogram\n",
    "hist.hwe_below_threshold <- ggplot(hwe_zoom, aes(x=hwe_zoom[,9])) +\n",
    "  geom_histogram(binwidth = 0.0000015, col = \"black\", fill=\"tomato\") + \n",
    "  labs(title = \"HWE distribution for strongly deviating SNPs only\") + \n",
    "  xlab(\"HWE p-value\") + \n",
    "  ylab(\"Frequency\") +\n",
    "  theme_bw()+\n",
    "  theme(axis.title=element_text(size=13), axis.text=element_text(size=13), plot.title=element_text(size=15))\n",
    "\n",
    "show(hist.hwe)\n",
    "show(hist.hwe_below_threshold)"
   ]
  },
  {
   "cell_type": "markdown",
   "id": "484e2078-f93d-4505-806a-f612b2824152",
   "metadata": {},
   "source": [
    "We choose the threshold 1e-5 and create the new filtered data files:"
   ]
  },
  {
   "cell_type": "code",
   "execution_count": null,
   "id": "245f5391-ab69-4831-a8b2-9a9ff79d880a",
   "metadata": {},
   "outputs": [],
   "source": [
    "plink --bfile Results/GWAS3/mice_miss_maf --hwe 1e-5 --make-bed --out Results/GWAS3/mice_miss_maf_hwe --silent"
   ]
  },
  {
   "cell_type": "markdown",
   "id": "6d271506-af0c-46a3-8cce-2c04398ff026",
   "metadata": {},
   "source": [
    "# **4. Heterozigosity rate.** \n",
    "Now we look at genotype calls at each individual's level. First, we create a list of SNPs for which there is lower correlation, so to avoid linkage disequilibrium."
   ]
  },
  {
   "cell_type": "code",
   "execution_count": null,
   "id": "3fe6ba21-493f-4a9d-bb78-a5aa9d3f797b",
   "metadata": {},
   "outputs": [],
   "source": [
    "plink --bfile Results/GWAS3/mice_miss_maf_hwe --indep-pairwise 50 5 0.2 --out Results/GWAS3/mice_indepSNP --silent"
   ]
  },
  {
   "cell_type": "markdown",
   "id": "d6b2c900-9db5-42e4-b8e8-24e2e36ce627",
   "metadata": {},
   "source": [
    "With this pruned list, we measure the heterozygosity rates of the individuals in the remaining independent SNPs."
   ]
  },
  {
   "cell_type": "code",
   "execution_count": null,
   "id": "ace205e0-9fa0-4a3b-810e-1347d1123426",
   "metadata": {},
   "outputs": [],
   "source": [
    "plink --bfile Results/GWAS3/mice_miss_maf_hwe \\\n",
    "    --extract Results/GWAS3/mice_indepSNP.prune.in \\\n",
    "    --het \\\n",
    "    --out Results/GWAS3/mice_R_check \\\n",
    "    --silent"
   ]
  },
  {
   "cell_type": "markdown",
   "id": "43e10e1c-921f-4aaf-ba69-aae462d870c3",
   "metadata": {},
   "source": [
    "How does the table with the SNPs look like?"
   ]
  },
  {
   "cell_type": "code",
   "execution_count": null,
   "id": "8da725d2-5429-4e01-8b23-7e1765c2d83f",
   "metadata": {},
   "outputs": [],
   "source": [
    "head -5 Results/GWAS3/mice_R_check.het"
   ]
  },
  {
   "cell_type": "markdown",
   "id": "f6b232e7-e7ae-492d-b20a-578e61d214db",
   "metadata": {},
   "source": [
    "<img src=\"../Images/R.png\" alt=\"R\" width=\"40\">  Switch to the R-GWAS kernel.\n",
    "\n",
    "We are going to calculate by hand the heterozygosity rates so we can plot them (not by default in the table). The formula for the rates is $N(NM)-O(HOM)/N(NM)$"
   ]
  },
  {
   "cell_type": "code",
   "execution_count": null,
   "id": "d447870c-d991-4b69-a99c-bebc28440b23",
   "metadata": {},
   "outputs": [],
   "source": [
    "#| label: fig-HET\n",
    "#| fig-cap: \"Barplot of heterozigosity rates.\"\n",
    "\n",
    "library(ggplot2)\n",
    "options(repr.plot.width = 9, repr.plot.height = 4)\n",
    "\n",
    "het <- read.table(\"Results/GWAS3/mice_R_check.het\", head=TRUE)\n",
    "\n",
    "het$HET_RATE = (het$\"N.NM.\" - het$\"O.HOM.\")/het$\"N.NM.\"\n",
    "\n",
    "# plink.imiss histogram\n",
    "hist.het <- ggplot(het, aes(x=HET_RATE)) +\n",
    "  geom_histogram(binwidth = 0.01, col = \"black\", fill=\"tomato\") + \n",
    "  labs(title = \"Heterozygosity Rates\") + \n",
    "  xlab(\"Heterozygosity Rate\") + \n",
    "  ylab(\"Frequency\") + \n",
    "  theme_bw()\n",
    "\n",
    "\n",
    "show(hist.het)"
   ]
  },
  {
   "cell_type": "markdown",
   "id": "0be46150-d5ba-45de-9756-a94ab15b7644",
   "metadata": {},
   "source": [
    "We use the same filter for all individuals as applied to the other dataset (heterozigosity rate 3 standard deviations away from the mean)"
   ]
  },
  {
   "cell_type": "code",
   "execution_count": null,
   "id": "3de97d24-489e-49dc-acda-6c91c8e4e4a3",
   "metadata": {},
   "outputs": [],
   "source": [
    "suppressMessages(suppressWarnings(library(dplyr)))\n",
    "\n",
    "het <- read.table(\"Results/GWAS3/mice_R_check.het\", head=TRUE)\n",
    "het$HET_RATE = (het$\"N.NM.\" - het$\"O.HOM.\")/het$\"N.NM.\"\n",
    "\n",
    "het_fail <- subset(het, (het$HET_RATE < mean(het$HET_RATE)-3*sd(het$HET_RATE)) | \n",
    "                    (het$HET_RATE > mean(het$HET_RATE)+3*sd(het$HET_RATE)))\n",
    "\n",
    "het_fail$HET_DST <- (het_fail$HET_RATE-mean(het$HET_RATE))/sd(het$HET_RATE);\n",
    "\n",
    "write.table(het_fail, \"Results/GWAS3/mice-fail-het-qc.txt\", row.names=FALSE, quote=FALSE)"
   ]
  },
  {
   "cell_type": "markdown",
   "id": "cefb7c57-fff6-4af0-8345-520c6b9db1e1",
   "metadata": {},
   "source": [
    "The resulting table contains a few outlying individuals:"
   ]
  },
  {
   "cell_type": "code",
   "execution_count": null,
   "id": "f7f0a5e4-09ff-4991-ae80-5ec570a594fe",
   "metadata": {},
   "outputs": [],
   "source": [
    "wc -l Results/GWAS3/mice-fail-het-qc.txt"
   ]
  },
  {
   "cell_type": "markdown",
   "id": "0f5d95c9-76b1-4165-b47b-2acd57fc3809",
   "metadata": {},
   "source": [
    "We use `awk` to print out the first two columns in the file `het-fail-ind.txt` and use the option `--remove` to filter out the individuals with PLINK."
   ]
  },
  {
   "cell_type": "code",
   "execution_count": null,
   "id": "e7191cba-f371-4f12-afd9-12aef073adeb",
   "metadata": {},
   "outputs": [],
   "source": [
    "awk '{print$1, $2}' Results/GWAS3/mice-fail-het-qc.txt > Results/GWAS3/mice-het-fail-ind.txt\n",
    "\n",
    "plink --bfile Results/GWAS3/mice_miss_maf_hwe \\\n",
    "    --remove Results/GWAS3/mice-het-fail-ind.txt \\\n",
    "    --make-bed \\\n",
    "    --out Results/GWAS3/mice_QCA \\\n",
    "    --silent"
   ]
  },
  {
   "cell_type": "markdown",
   "id": "5dfc0756-72c2-45ec-9806-b066171007a9",
   "metadata": {},
   "source": [
    "We can count again samples and variants"
   ]
  },
  {
   "cell_type": "code",
   "execution_count": null,
   "id": "3ddd4abc-5d22-45f0-bcb8-17341c7cd84c",
   "metadata": {},
   "outputs": [],
   "source": [
    "wc -l Results/GWAS3/mice_QCA.fam\n",
    "wc -l Results/GWAS3/mice_QCA.bim"
   ]
  }
 ],
 "metadata": {
  "kernelspec": {
   "display_name": "Bash",
   "language": "bash",
   "name": "bash"
  },
  "language_info": {
   "codemirror_mode": "shell",
   "file_extension": ".sh",
   "mimetype": "text/x-sh",
   "name": "bash"
  }
 },
 "nbformat": 4,
 "nbformat_minor": 5
}
