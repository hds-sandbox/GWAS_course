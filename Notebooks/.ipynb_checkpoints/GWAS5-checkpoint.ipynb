{
 "cells": [
  {
   "cell_type": "code",
   "execution_count": 1,
   "id": "c938f9a4",
   "metadata": {
    "Rmd_chunk_options": "setup, include=FALSE",
    "jupyter": {
     "output_hidden": true,
     "source_hidden": true
    },
    "kernel": "R",
    "tags": [
     "scratch"
    ]
   },
   "outputs": [],
   "source": [
    "knitr::opts_chunk$set(echo = TRUE)\n",
    "set.seed(19)"
   ]
  },
  {
   "cell_type": "markdown",
   "id": "ec9fac1a",
   "metadata": {},
   "source": [
    "This document is licensed under a [Creative Commons Attribution-ShareAlike 4.0 International License](https://creativecommons.org/licenses/by-sa/4.0/).\n",
    "\n",
    "The slide set referred to in this document is \"GWAS 5\"."
   ]
  },
  {
   "cell_type": "markdown",
   "id": "a7d69d3c",
   "metadata": {},
   "source": [
    "## 5.1 Genetic relatedness"
   ]
  },
  {
   "cell_type": "markdown",
   "id": "6fa14dfd",
   "metadata": {},
   "source": [
    "All humans are genetically related to each other, but the level of relatedness\n",
    "varies between pairs of individuals.\n",
    "These differences in the levels of relatedness\n",
    "need to be accounted for in GWAS, since otherwise they could bias the statistical\n",
    "association between genotypes and phenotypes. Here, we define what is relatedness\n",
    "and how it is estimated, and later in the course we'll talk more about why and how\n",
    "we use estimates of relatedness and population stucture in GWAS.\n",
    "\n",
    "\n",
    "See slides (3-6) that summarize the process that generates variation in the relatedness\n",
    "among humans (or other diploid species).\n",
    "\n",
    "A review of the relatedness estimates: [Speed & Balding 2015, Relatedness in the post-genomic era:\n",
    "is it still useful?](https://www.nature.com/articles/nrg3821)."
   ]
  },
  {
   "cell_type": "markdown",
   "id": "fb66bd30",
   "metadata": {},
   "source": [
    "### 5.1.1 Defining relatedness\n",
    "Consider two genomes $G_1$ and $G_2$.\n",
    "Suppose that we could determine, for each genomic position $x$,\n",
    "the number of generations $t(x;G_1,G_2)$\n",
    "that have passed since the most recent common\n",
    "ancestor (MRCA) genome of both $G_1$ and $G_2$ at site $x$ was alive.\n",
    "From such information, we could define a relatedness value between $G_1$\n",
    "and $G_2$ as the average time of MRCAs over some selected set of $L$ loci. (Slide 5)\n",
    "\n",
    "The relatedness measures used in practice try to capture part of this perfect relatedness\n",
    "information, although not in terms of the number of generations since MRCA,\n",
    "but rather as a relative measure compared to the other pairs of genomes in the study population.\n",
    "This shortcut is made because estimating time to MRCA would require\n",
    "multiple assumptions about population genetic history,\n",
    "which are difficult to verify, and would involve demanding computation.\n",
    "Instead, some simple relatedness statistics used in GWAS\n",
    "can be easily computed for millions of pairs of individuals,\n",
    "and we will study these next.\n",
    "\n",
    "Terms\n",
    "\n",
    "* **Identical-by-state (IBS).** Two genomes are IBS at locus $x$\n",
    "if they have identical DNA sequence at locus $x$.\n",
    "Locus can be one or more nucelotides long. The observed\n",
    "IBS distribution for a pair of individuals\n",
    "is described by three values $(\\textrm{IBS}_0, \\textrm{IBS}_1, \\textrm{IBS}_2)$\n",
    "that tell which proportion of the genome between these individuals\n",
    "is of IBS 0,1 or 2, respectively. (Slide 7)\n",
    "\n",
    "* **Identical-by-descent (IBD).** Two genomes are IBD($t$) at locus $x$,\n",
    "if they have inherited identical DNA sequence at locus $x$ from a common ancestor\n",
    "who has lived at most $t$ generations ago. This is a well-defined\n",
    "concept, if pedigree information for a few generations is available.\n",
    "Typically in GWAS data, no such info is available, and the concept of IBD\n",
    "is used without explicitly defining what is the reference timeframe $t$.\n",
    "Then it is expected that a reasonable definition of the reference level is implicitly\n",
    "implied by the method that is used for estimating whether genomes are IBD.\n",
    "Most often, IBD is defined by assuming that population allele frequencies are known\n",
    "and that there is IBD sharing between a pair of individuals if the pair shares\n",
    "more allele IBS than would be expected from a random pair from the population.\n",
    "IBD implies IBS but not vice versa. (Slide 7.)\n",
    "The IBD distribution for a pair of individuals\n",
    "is described by three values $(\\textrm{IBD}_0, \\textrm{IBD}_1, \\textrm{IBD}_2)$\n",
    "that tell which proportion of the genome is estimated to be of IBD 0,1 or 2,\n",
    "respectively. The known pedigree relationships (like full-sibs) determine only\n",
    "the **expected value** of IBD sharing; the realized IBD sharing has variation\n",
    "within any other relationship category except parent-offspring. (Slides 8-10).\n",
    "\n",
    "* **Kinship coefficient** $\\phi_{ij}$ is the probability that one allele sampled\n",
    "from individual $i$ and one allele sampled from the same locus from individual $j$\n",
    "are IBD.\n",
    "\n",
    "* **Inbreeding coefficient** $f_i=\\phi_{MF} = 2\\phi_{ii}-1$, where $M$ and $F$ are\n",
    "the mother and father of $i$. It describes how closely the two genomes\n",
    "of an individual $i$ are related. *Outbred* means not inbred.\n",
    "\n",
    "* **Relatedness coefficient** $r_{ij} = 2\\phi_{ij}.$ Assuming no inbreeding,\n",
    "$r_{ij}$ can be interpreted as\n",
    "the proportion of the genome that is shared between $i$ and $j$.\n",
    "\n",
    "In practical applications, make always clear in mind\n",
    "whether you are considering kinship or relatedness coefficients as the values differ\n",
    "by a factor of 2.\n",
    "Here are some\n",
    "[values for relatives](https://en.wikipedia.org/wiki/Coefficient_of_relationship#Human_relationships).\n",
    "\n",
    "If the purpose is to assign individuals into categories according to close relationships,\n",
    "a commonly-used inference procedure of the [KING](http://people.virginia.edu/~wc9c/KING/manual.html)\n",
    "software is based on the powers of $\\frac{1}{2}$. According to it,\n",
    "a pair is inferred to be a $k$th degree relative pair based on the following cut points\n",
    "for the estimated $r_{ij}$ or $\\phi_{ij}$ values:\n",
    "\n",
    "  |degree| $r_{ij}$ within | $\\phi_{ij}$ within |\n",
    "  |------|-----------------|--------------------|\n",
    "  |mono twins| $>\\frac{1}{2^{0.5}} = 0.707$ | $> \\frac{1}{2^{1.5}} = 0.354$|\n",
    "  |1st deg.| $(\\frac{1}{2^{1.5}},\\frac{1}{2^{0.5}}) = (0.354, 0.707)$ | $(\\frac{1}{2^{2.5}},\\frac{1}{2^{1.5}}) = (0.177, 0.354)$|\n",
    "  |2nd deg.| $(\\frac{1}{2^{2.5}},\\frac{1}{2^{1.5}}) = (0.177, 0.354)$ | $(\\frac{1}{2^{3.5}},\\frac{1}{2^{2.5}}) = (0.088, 0.177)$|\n",
    "  |3rd deg.| $(\\frac{1}{2^{3.5}},\\frac{1}{2^{2.5}}) = (0.088, 0.177)$ | $(\\frac{1}{2^{4.5}},\\frac{1}{2^{3.5}}) = (0.044, 0.088)$|\n",
    "  |unrelated| $<\\frac{1}{2^{3.5}}=0.088$ | $<\\frac{1}{2^{4.5}}=0.044$ |\n",
    "\n",
    "Note that the expected value of relatedness for each category is the lower bound multiplied by\n",
    "$\\sqrt{2} = 2^{0.5}$ and is simultaneously also the upper bound divided by $\\sqrt{2}$."
   ]
  },
  {
   "cell_type": "markdown",
   "id": "c5217c19",
   "metadata": {},
   "source": [
    "### 5.1.2 Estimating relatedness\n",
    "\n",
    "\n",
    "**Example 5.1.**\n",
    "Let's generate genotype data for 5 pairs of full siblings,\n",
    "5 pairs of half-siblings and 10 unrelated individuals,\n",
    "from a single population using $p=10000$ SNPs whose MAF range from 0.2 to 0.5.\n",
    "We will then demonstrate different relatedness estimates on these data by showing\n",
    "the 30x30 relatedness matrix of the individuals.\n",
    "\n",
    "Let's put the within family data generation into\n",
    "its own function that allows generating pairs of offspring that share\n",
    "2 parents (full-sibs), 1 parent (half-sibs) or 0 parent (unrelated)."
   ]
  },
  {
   "cell_type": "code",
   "execution_count": 2,
   "id": "7682f8bf",
   "metadata": {
    "kernel": "R",
    "tags": [
     "report_cell"
    ]
   },
   "outputs": [],
   "source": [
    "offspring.geno <- function(n.families, n.snps, fs = rep(0.5,n.snps), n.shared.parents=2){\n",
    "  #INPUT:\n",
    "  # n.families, number of families where each family produces two offspring (>0)\n",
    "  # n.snps, number of independent SNPs used in simulation (>0)\n",
    "  # fs, vector of allele 1 freqs for SNPs, length == n.snps, values >0 & <1\n",
    "  # n.shared.parents, 0,1,2 shared parents for the two offspring in each family\n",
    "  #OUTPUT:\n",
    "  # X, the genotypes of (2*n.families) offspring, (2*n.families) x n.snps matrix with 0,1,2 entries\n",
    "\n",
    "  stopifnot(n.families > 0)\n",
    "  stopifnot(n.snps > 0)\n",
    "  stopifnot(all(fs > 0 & fs < 1) & length(fs) == n.snps)\n",
    "  stopifnot(n.shared.parents %in% 0:2)\n",
    "\n",
    "  if(n.shared.parents == 2) parents = list(c(1,2), c(1,2)) #parents[[1]] are the parents of offspring 1\n",
    "  if(n.shared.parents == 1) parents = list(c(1,2), c(3,2))\n",
    "  if(n.shared.parents == 0) parents = list(c(1,2), c(3,4))\n",
    "  n.parents = 4 - n.shared.parents #4, 3 or 2 for values of n.shared.parent of 0, 1 or 2\n",
    "\n",
    "  X = matrix(0, nrow = 2*n.families, ncol = n.snps)\n",
    "  for(ii in 1:n.families){ #each \"family\" means a pair of offspring that share 'n.shared.parents'\n",
    "    x.parents = t(replicate(2*n.parents, rbinom(n.snps, size = 1, prob = fs) )) #2*n.parents parental genomes\n",
    "    for(offs in 1:2){ #for two offspring within \"family\"\n",
    "      #phase is the indicator of whether offs inherits each parents' 1st allele or not\n",
    "      phase = t(replicate(2, rbinom(n.snps, size = 1, prob = 0.5))) #phase has one row for each parent\n",
    "        for(i.parent in 1:2){\n",
    "          for(ph in 0:1){\n",
    "            loci = (phase[i.parent,] == ph) #which loci from i.parent have phase ph?\n",
    "            #add to current offs' genotype i.parent's allele from the correct phase\n",
    "            X[2*(ii-1) + offs, loci] =\n",
    "              X[2*(ii-1) + offs, loci] + x.parents[2*parents[[offs]][i.parent] - ph, loci]\n",
    "          }\n",
    "        }\n",
    "    }\n",
    "  }\n",
    "  return (X)\n",
    "}"
   ]
  },
  {
   "cell_type": "markdown",
   "id": "068a1cbf",
   "metadata": {},
   "source": [
    "And now the simulation of 30 samples x 10000 SNPs genotype matrix `X`."
   ]
  },
  {
   "cell_type": "code",
   "execution_count": 3,
   "id": "f9180e01",
   "metadata": {
    "kernel": "R",
    "tags": [
     "report_cell"
    ]
   },
   "outputs": [],
   "source": [
    "p = 10000 #SNPs\n",
    "fs = runif(p, 0.2, 0.5) #MAF at each SNP is Uniform(0.2, 0.5)\n",
    "\n",
    "X = rbind(offspring.geno(n.families = 5, n.snps = p, fs = fs, n.shared.parents = 0),\n",
    "             offspring.geno(n.families = 5, n.snps = p, fs = fs, n.shared.parents = 1),\n",
    "             offspring.geno(n.families = 5, n.snps = p, fs = fs, n.shared.parents = 2))\n",
    "\n",
    "X = X[,apply(X,2,var) > 0] #remove possible monomorphic variants"
   ]
  },
  {
   "cell_type": "markdown",
   "id": "08ae333e",
   "metadata": {},
   "source": [
    "#### IBS estimator\n",
    "It is straightforward\n",
    "to count the proportion of loci where a pair of individuals share 0,1 or 2 alleles IBS.\n",
    "These IBS values already make a distinction between different levels of relatedness\n",
    "and a plot of, say, IBS0 against IBS2 shows often a clear structure.\n",
    "However, the absolute amount of IBS sharing depends heavily on allele frequencies\n",
    "in the population and methods that estimate kinship or relatedness coefficients\n",
    "typically aim for estimating IBD.\n",
    "\n",
    "We generate each IBSz-matrix by multiplication over possible sharing patterns:\n",
    "There are three possible ways to have IBS2: either sharing genotype 2 or genotype 1 or genotype 0.\n",
    "And there are two ways to be IBS1: one individual must be heterozygous while the other must be\n",
    "one of the homozygotes. Finally, the overall IBS estimate is IBS2 + 0.5 * IBS1."
   ]
  },
  {
   "cell_type": "code",
   "execution_count": 4,
   "id": "e87a52e3",
   "metadata": {
    "kernel": "R",
    "tags": [
     "report_cell"
    ]
   },
   "outputs": [],
   "source": [
    "n.cols = 50 #number of colors\n",
    "IBS.2 = ( (X==2) %*% t(X==2) + (X==1) %*% t(X==1) + (X==0) %*% t(X==0) )/p #prop. of loci with same genotypes\n",
    "IBS.1 = ( (X==1) %*% t(X==0 | X==2) + (X==0 | X==2) %*% t(X==1) )/p #prop. of loci with one allele shared\n",
    "IBS = IBS.2 + 0.5*IBS.1 #prop. of genome IBS\n",
    "layout(matrix(c(1,2), nrow = 1), width = c(9,1)) #plotting area divided into 9/10 and 1/10 wide regions\n",
    "par(mar = c(2,2,3,1)) #plot IBS matrix using image\n",
    "image(IBS, col = topo.colors(n.cols), breaks = seq(min(IBS), max(IBS), length = n.cols + 1),\n",
    "      asp = 1, xaxt = \"n\", yaxt = \"n\", bty = \"n\",\n",
    "      main = paste(\"Avg. IBS from\",ncol(X),\"SNPs\"))\n",
    "par(mar = c(2,1,3,1)) #plot scale for colors\n",
    "plot.window(xlim = c(0,1), ylim = c(0,n.cols))\n",
    "points(x = rep(1, n.cols + 1), y = (0:n.cols), col = topo.colors(n.cols + 1), pch = 15, cex = 2)\n",
    "axis(4, at = c(0, n.cols / 2, n.cols),\n",
    "     labels = c(round(min(IBS),2), round((min(IBS) + max(IBS))/2,2), round(max(IBS),2)) )"
   ]
  },
  {
   "cell_type": "markdown",
   "id": "e41ffb49",
   "metadata": {},
   "source": [
    "The numerical values of this IBS plot depend on the population\n",
    "allele frequencies and are not as easily\n",
    "mapped to the known relationship categories as with IBD based measures for which,\n",
    "for example, $r\\sim50\\%$ for full sibs and $r\\sim25\\%$ for half sibs.\n",
    "Additionally, it seems that separation of the half-sibs from unrelateds in IBS\n",
    "matrix is not very clear."
   ]
  },
  {
   "cell_type": "markdown",
   "id": "c6cf0345",
   "metadata": {},
   "source": [
    "#### Correlation estimator ([GCTA](https://cnsgenomics.com/software/gcta/)'s Genetic relationship matrix)\n",
    "Let's look at how a standard measure of correlation applied to\n",
    "a large number $p$ of variants can be interpreted as an estimate of IBD.\n",
    "\n",
    "Consider a locus $l$\n",
    "where frequency of allele 1 is $f_l$ and denote by $A_{hl}\\in\\{0,1\\}$\n",
    "the (random variable describing) allele of genome $h$ at locus $l$.\n",
    "Under the assumption that all genomes in the sample come from\n",
    "the same homogeneous population, we have that\n",
    "$\\textrm{E}(A_{hl})=f_l$ and $\\textrm{Var}(A_{hl}) = f_l(1-f_l)$ for all $h$.\n",
    "Denote by $r_{hk}$ the (unknown) probability that genomes $h$ and $k$ are IBD\n",
    "at a locus. We have\n",
    "$$ P(A_{hl} = 1 = A_{kl}\\, |\\, f_l, r_{hk}) = r_{hk}\\, f_l + (1-r_{hk})\\,f_l^2,$$\n",
    "where the first term describes the case where $h$ and $k$ are IBD at $l$ (with probability $r_{hk}$)\n",
    "and happen to share the same copy of allele 1 (with probability $f_l$), and the second term\n",
    "describes the case where $h$ and $k$ are not IBD at $l$ (prob. $1-r_{hk}$) and\n",
    "happen to carry independent copies of allele 1 (prob. $f_l^2$).\n",
    "We can solve for\n",
    "$$r_{hk} = \\frac{P(A_{hl} = 1 = A_{kl} )-f_l^2}{f_l(1-f_l)}\n",
    "= \\frac{\\textrm{E}(A_{hl} A_{kl})-\\textrm{E}(A_{hl})\\textrm{E}(A_{kl}) }{\n",
    "\\sqrt{\\textrm{Var}(A_{hl})\\textrm{Var}(A_{kl})}}=\\textrm{cor}(A_{hl},A_{kl}).\n",
    "$$\n",
    "Thus, for genomes, their IBD proportion can be estimated by\n",
    "the correlation of their allele states.\n",
    "\n",
    "Let $G_{il} = A_{i_1l} + A_{i_2l} \\in \\{0,1,2\\}$\n",
    "be the genotype of individual $i$ at locus $l$ and assume HWE: $\\textrm{Var}(G_{il})=2f_l(1-f_l)$.\n",
    "$$\n",
    "\\textrm{cor}(G_{il},G_{jl}) = \\frac{\\textrm{Cov}(A_{i_1l} + A_{i_2l}, A_{j_1l} + A_{j_2l})}{2f_l(1-f_l)}=\\frac{(r_{i_1j_1} +r_{i_1j_2} +r_{i_2j_1} +r_{i_2j_2})f_l(1-f_l)}{2f_l(1-f_l)}=\\frac{4\\phi_{ij}}{2}=2\\phi_{ij} = r_{ij}.\n",
    "$$\n",
    "Thus, also for genotypes, correlation can be used to estimate\n",
    "the IBD sharing of the individuals.\n",
    "\n",
    "We use all available SNPs (after some pruning we'll talk more later)\n",
    "to estimate the pairwise correlations using formula\n",
    "$$\n",
    "\\widehat{r_{ij}} = \\frac{1}{p} \\sum_{l=1}^p \\widehat{\\textrm{cor}}(G_{il},G_{jl})\n",
    "= \\frac{1}{p} \\sum_{l=1}^p \\frac{\\left(g_{il}-2\\,\\widehat{f_l}\\right) \\left(g_{jl}-2\\,\\widehat{f_l}\\right)}{2\\,\\widehat{f_l}\\left(1-\\widehat{f_l}\\right) },\n",
    "$$\n",
    "where $g_{il}\\in\\{0,1,2\\}$ is the observed genotype of $i$ and\n",
    "$\\widehat{f_l}$ is the allele 1 frequency estimate from the sample, both at locus $l$.\n",
    "\n",
    "For $n$ individuals,\n",
    "these pairwise relatedness coefficients form an $n\\times n$\n",
    "**genetic relationship matrix** (GRM) for which we use notation **GRM-cor** to\n",
    "emphasise that it is the correlation based GRM.\n",
    "This GRM-cor has been widely used in conjuction with linear mixed models software\n",
    "[GCTA](http://cnsgenomics.com/software/gcta/#Overview).\n",
    "Also [PLINK](https://www.cog-genomics.org/plink/2.0/)\n",
    "has an efficent implementation for computing GRM-cor.\n",
    "\n",
    "The interpretation of negative values for $\\widehat{r_{ij}}$ is that those pairs\n",
    "are less related than an expected pair of unrelated (no-IBD sharing) individuals.\n",
    "This is possible, for example, if there is population structure in the data because\n",
    "then the individuals from different populations can look less related than\n",
    "the theoretical construction of a pair of \"unrelated individuals\" based on\n",
    "the allele frequency data from the combined sample.\n",
    "A related, and possibly more severe, problem is that when the sample is not from\n",
    "a single homogeneous population, then individuals from the same\n",
    "population seem more related than they actually are (for example 3rd degree relatives\n",
    "can look like 2nd degree relatives). Thus, correlation estimator,\n",
    "or any other estimator that defines the reference level of IBD based on the sample's\n",
    "allele frequencies, is not robust to population structure.\n",
    "\n",
    "Note also a possible numerical instability of the estimator at SNPs where MAF is close to 0.\n",
    "Then the denominator $\\widehat{f_l}(1-\\widehat{f_l}) \\approx 0$,\n",
    "and therefore a pair of carriers of the rare allele\n",
    "will get a huge positive contribution to their relatedness estimate from the rare allele.\n",
    "For example, if $\\widehat{f_l} = 0.001$, then a pair of individuals who share the minor allele\n",
    "will get a huge contribution of\n",
    "$(1-0.002)^2/(2\\cdot 0.001 \\cdot 0.999) = +498.5$ to their relatedness estimate,\n",
    "whereas individuals who share the common genotype 0, will get only a tiny contribution of\n",
    "$+0.002$ and a pair who have different genotypes 0 and 1\n",
    "will get contribution of only $-1.00.$\n",
    "Intuitively, it feels correct to assume that individuals who share a rare allele indeed are\n",
    "likely to have recent IBD sharing at that locus, but the unboundedness of the estimator\n",
    "with rare alleles seems a technical problem that leads to a huge variance of the estimator.\n",
    "Therefore, we typically restrict GRM-cor estimator\n",
    "to common variants (say MAF>5%).\n",
    "\n",
    "Let's make GRM-cor from our current data set."
   ]
  },
  {
   "cell_type": "code",
   "execution_count": 5,
   "id": "c06cb46e",
   "metadata": {
    "kernel": "R",
    "tags": [
     "report_cell"
    ]
   },
   "outputs": [],
   "source": [
    "X.scaled = scale(X) #standardize each SNP at columns of X\n",
    "GRM = (X.scaled %*% t(X.scaled))/p #correlation matrix of individuals based on standardized SNPs\n",
    "\n",
    "layout(matrix(c(1,2), nrow = 1), width = c(9,1))\n",
    "par(mar = c(2,2,3,1)) #margins for matrix\n",
    "image(GRM, col = topo.colors(n.cols), breaks = seq(min(GRM),max(GRM), length = n.cols + 1),\n",
    "      asp = 1, xaxt = \"n\", yaxt = \"n\", bty = \"n\",\n",
    "      main = paste(\"GRM from\",ncol(X),\"SNPs\"))\n",
    "par(mar = c(2,1,3,1)) #margins for scale\n",
    "plot.window(xlim = c(0,1), ylim = c(0,n.cols))\n",
    "points(x = rep(1,n.cols +1 ), y = (0:n.cols), col = topo.colors(n.cols + 1), pch = 15, cex = 2)\n",
    "axis(4, at = c(0, n.cols/2, n.cols),\n",
    "     labels = c(round(min(GRM),2), round((min(GRM)+max(GRM))/2,2), round(max(GRM),2)) )"
   ]
  },
  {
   "cell_type": "markdown",
   "id": "a862844a",
   "metadata": {},
   "source": [
    "Let's print out which pairs seem like full sibs, $0.4 < r_{ij} < 0.6$\n",
    "or half sibs, $0.15 < r_{ij} < 0.35.$"
   ]
  },
  {
   "cell_type": "code",
   "execution_count": 6,
   "id": "2dd03f80",
   "metadata": {
    "kernel": "R",
    "tags": [
     "report_cell"
    ]
   },
   "outputs": [],
   "source": [
    "full.sibs = which( GRM > 0.4 & GRM < 0.6, arr.ind = T) #each pair twice here since R is symmetric\n",
    "full.sibs = full.sibs[full.sibs[,1] < full.sibs[,2], ] #pick only pairs where 1st index < 2nd index\n",
    "rbind(full = as.vector(t(full.sibs)))\n",
    "half.sibs = which( GRM > 0.15 & GRM < 0.35, arr.ind = T)\n",
    "half.sibs = half.sibs[half.sibs[,1] < half.sibs[,2], ]\n",
    "rbind(half = as.vector(t(half.sibs)))"
   ]
  },
  {
   "cell_type": "markdown",
   "id": "bba3bbab",
   "metadata": {},
   "source": [
    "Seems correct."
   ]
  },
  {
   "cell_type": "markdown",
   "id": "2bbf7f54",
   "metadata": {},
   "source": [
    "#### PLINK's $\\widehat{\\pi}$ (\"pi-hat\")\n",
    "A widely used IBD estimate is $\\widehat{\\pi}$ of the PLINK software.\n",
    "It was developed by [Purcell et al. (2007) (p.565-566)](https://www.ncbi.nlm.nih.gov/pmc/articles/PMC1950838/pdf/AJHGv81p559.pdf).\n",
    "\n",
    "PLINK uses a method-of-moments approach to estimate the\n",
    "probability of sharing 0, 1, or 2 alleles IBD for any two\n",
    "individuals from the same homogeneous, random-mating\n",
    "population. It is based on the fact that at any one locus,\n",
    "by the law of total probability, for $k=,0,1,2,$\n",
    "$$\n",
    "P(\\textrm{IBS}=k) = P(\\textrm{IBS}=k\\, |\\, \\textrm{IBD}=0)P(\\textrm{IBD} =0) + P(\\textrm{IBS}=k \\,|\\, \\textrm{IBD}=1)P(\\textrm{IBD} =1) + P(\\textrm{IBS}=k \\,|\\, \\textrm{IBD}=2)P(\\textrm{IBD} =2).\n",
    "$$\n",
    "This is a system of three equations $(k=0,1,2)$, and if we substitute the left hand side with\n",
    "the observed IBS status and if we can estimate conditional probabilities\n",
    "$P(\\textrm{IBS}=k\\, |\\, \\textrm{IBD}=z)$ for all $k,z \\in\\{0,1,2\\}$, then we can solve\n",
    "for the three unknowns $\\textrm{IBD}z = P(\\textrm{IBD} = z), z=0,1,2.$\n",
    "\n",
    "Assuming homogeneous population with known\n",
    "population allele frequencies, it is straightforward to derive the  IBS probabilities\n",
    "given the IBD state, using the same logic as with the correlation estimate above\n",
    "(i.e., alleles can be IBS either because they are IBD or because they are not IBD but\n",
    "they are sampled from the population frequencies and happen to be IBS).\n",
    "Thus, the conditional probabilities can be computed for each locus, given the\n",
    "allele frequency estimates at that locus.\n",
    "\n",
    "Finally, PLINK averages the equations across the loci leaving 3\n",
    "equations where IBSk on the left hand side is the proportion of IBS=k across genome,\n",
    "and the conditional probabilities of (IBDk | IBSz) are also averages across the genome.\n",
    "Then IBDz can be solved from these 3 equations for z=0,1,2.\n",
    "\n",
    "PLINK uses these IBD estimates to compute, for each pair $i$ and $j$,\n",
    "$$ \\widehat{\\pi}_{ij} = \\frac{1}{2} \\textrm{IBD1}_{ij} + \\textrm{IBD2}_{ij}.$$\n",
    "It is an estimate of $r_{ij}$, that is, the proportion of genome shared IBD.\n",
    "\n",
    "Since $\\widehat{\\pi}_{ij}$ is based on the allele frequencies from the sample,\n",
    "its interpretation as a measure of IBD sharing has the same problems as the correlation\n",
    "estimate. In particular, if the population is not homogeneous,\n",
    "the values are biased compared to the expectations under the\n",
    "known relationship categories."
   ]
  },
  {
   "cell_type": "markdown",
   "id": "0890189c",
   "metadata": {},
   "source": [
    "#### KING\n",
    "IBD relatedness estimators explained above assume that individuals come from\n",
    "homogeneous population. [KING](http://people.virginia.edu/~wc9c/KING/manual.html) by [Manichaikul et al. 2010](http://people.virginia.edu/~wc9c/publications/pdf/BI26_2867.pdf) is a relatedness\n",
    "estimation method that is more robust to population structure and is very efficiently implemented.\n",
    "It derives a kinship estimate for a pair of individuals *without*\n",
    "reference to the population allele frequencies.\n",
    "Instead, it gets the relatedness\n",
    "information from the difference between the counts of loci where both individuals are\n",
    "heterozygotes ($N_{1,1}$) and counts of loci where they are different homozygotes ($N_{2,0}$),\n",
    "normalized by the sum of the heterozygous loci of the individuals:\n",
    "$$\n",
    "\\widehat{\\phi_{ij}} = \\frac{N_{1,1} - N_{2,0}}{N_{1}^{(i)} + N_{1}^{(j)}}.\n",
    "$$\n",
    "Let's apply KING estimate to the current dataset with the full-sibs, half-sibs\n",
    "and unrelateds, and let's multiply KING's kinship estimate by 2 to get from the KING's default\n",
    "kinship scale to the scale of relatedness coefficient $r$."
   ]
  },
  {
   "cell_type": "code",
   "execution_count": 7,
   "id": "46adc8ab",
   "metadata": {
    "kernel": "R",
    "tags": [
     "report_cell"
    ]
   },
   "outputs": [],
   "source": [
    "denominator = matrix(rep(rowSums(X==1), nrow(X)), nrow = nrow(X), byrow = T) +\n",
    "              matrix(rep(rowSums(X==1), nrow(X)), nrow = nrow(X), byrow = F)\n",
    "king.r = 2*((X==1) %*% t(X==1) - 2*((X==0) %*% t(X==2) + (X==2) %*% t(X==0)) ) / denominator\n",
    "#(suppressing commands of matrix printing from output)"
   ]
  },
  {
   "cell_type": "code",
   "execution_count": 8,
   "id": "4490793d",
   "metadata": {
    "Rmd_chunk_options": "echo = FALSE",
    "kernel": "R",
    "tags": [
     "report_cell"
    ]
   },
   "outputs": [],
   "source": [
    "layout(matrix(c(1,2), nrow = 1), width = c(9,1))\n",
    "par(mar = c(2,2,3,1))\n",
    "image(king.r, col = topo.colors(n.cols), breaks = seq(min(king.r),max(king.r),length = n.cols + 1),\n",
    "      asp = 1, xaxt = \"n\", yaxt = \"n\", bty = \"n\",\n",
    "      main = paste(\"KING (r) from\",ncol(X),\"SNPs\")) #plot matrix using image\n",
    "par(mar = c(2,1,3,1))\n",
    "plot.window(xlim = c(0,1), ylim = c(0,n.cols))\n",
    "points(x=rep(1,n.cols + 1), y = (0:n.cols), col = topo.colors(n.cols + 1), pch = 15, cex = 2)\n",
    "axis(4, at = c(0,n.cols / 2,n.cols),\n",
    "     labels = c(round(min(king.r),2),round((min(king.r)+max(king.r))/2,2),round(max(king.r),2)) )"
   ]
  },
  {
   "cell_type": "markdown",
   "id": "fd0f8eba",
   "metadata": {},
   "source": [
    "Looks correct. We'll later come back to the difference between KING and GRM-cor when there is\n",
    "some population structure in the data.\n",
    "\n",
    "KING was [recently used](https://www.nature.com/articles/s41586-018-0579-z.pdf) to\n",
    "estimate relatedness for all 1.2e+11 pairs from the UK Biobank data (~500,000 samples)(Slide 12)."
   ]
  },
  {
   "cell_type": "markdown",
   "id": "afa4fad6",
   "metadata": {},
   "source": [
    "#### IBD segments\n",
    "Genome is inherited in chunks and therefore individuals sharing an allele\n",
    "IBD at a locus are also likely to share a larger region IBD around that locus.\n",
    "Most accurate relatedness estimates come from methods that can model\n",
    "this spatial structure of IBD segments. Those methods are usually computationally\n",
    "intensive and not applicable to GWAS data sets with $10^4$ or $10^5$ individuals\n",
    "and we don't study them on this course.\n",
    "A recent study by\n",
    "[Ramstetter et al. 2017](http://www.genetics.org/content/207/1/75)\n",
    "lists and compare many of those methods."
   ]
  },
  {
   "cell_type": "markdown",
   "id": "473b8c9a",
   "metadata": {},
   "source": [
    "### 5.1.3 Use of IBD estimates in quality control\n",
    "(From Purcell et al. 2007.)\n",
    "\n",
    "IBD  sharing  estimates  can  be  used for  QC and to indicate and diagnose errors\n",
    "in records or genotype data, including  sample swaps,  sample duplications,  and\n",
    "sample contamination events, as well as misspecified or undetected familial relationships.\n",
    "For example, values of IBD2 near 1\n",
    "indicate duplicated samples (or monozygotic twins).\n",
    "\n",
    "If DNA from some individual(s) contaminates other\n",
    "samples, this can lead to a distinctive pattern of contaminated\n",
    "samples showing high IBD with all other individuals.\n",
    "This is because contamination induces false heterozygote calls\n",
    "(e.g., AA pooled with CC may well be genotyped as AC), and heterozygotes\n",
    "cannot ever be IBS=0 with any other SNP genotype,\n",
    "which artificially inflates the IBD estimates.\n",
    "Furthermore, contaminated samples will show strong,\n",
    "negative inbreeding coefficients, indicating more heterozygotes than expected.\n",
    "This is why excessive heterozygocity is a QC criterion in GWAS data.\n",
    "\n",
    "See also slides 16-17 for an application of relatedness estimates in QC."
   ]
  },
  {
   "cell_type": "markdown",
   "id": "0eddf19a",
   "metadata": {},
   "source": [
    "### 5.1.4 Uses of relatedness estimates outside GWAS\n",
    "Several companies offer direct-to-customer service to analyze customer's DNA,\n",
    "and over 15 million people have already subscribed to such services globally.\n",
    "One of the uses is to reveal\n",
    "genetic relatives based on the estimated IBD sharing among the customers.\n",
    "The purpose of uniting distant relatives is nice, but\n",
    "the power of genetics can also cause complicated situations,\n",
    "as described in this Vox News article [\"With genetic testing, I gave my parents the gift of divorce\"](https://www.vox.com/2014/9/9/5975653/with-genetic-testing-i-gave-my-parents-the-gift-of-divorce-23andme).\n",
    "\n",
    "The rapid growth of the public databases, where voluntary individuals\n",
    "have uploaded their genetic data and other information (such as age and location),\n",
    "have already been used to identify from a database a relative of an external DNA sample\n",
    "(e.g. from a crime scene), which has led to a complete identification of\n",
    "the external DNA sample. A famous example is the case of the Golden State Killer in CA, US,\n",
    "where in April 2018 a suspect was arrested for murders and rapes commited in 1970s and 1980s.\n",
    "The police got the lead by uploading the DNA found from a crime scene to a GEDmatch database\n",
    "and identified 10-20 3rd degree cousins whose additional information helped to\n",
    "identify the suspect. [How lucky were the police? by Edge and Coop](https://gcbias.org/2018/05/07/how-lucky-was-the-genetic-investigation-in-the-golden-state-killer-case/).\n",
    "A recent Science paper by [Erlich et al. 2018](http://science.sciencemag.org/content/early/2018/10/10/science.aau4832/tab-article-info) summarizes this approach and its profound future prospects (Slides 13-15):\n",
    "\n",
    "\n",
    "    \"Consumer genomics databases have reached the scale of millions of individuals. Recently, law enforcement\n",
    "    authorities have exploited some of these databases to identify suspects via distant familial relatives.\n",
    "    Using genomic data of 1.28 million individuals tested with consumer genomics, we investigated the power\n",
    "    of this technique. We project that about 60% of the searches for individuals of European-descent will\n",
    "    result in a third cousin or closer match, which can allow their identification using demographic identifiers.\n",
    "    Moreover, the technique could implicate nearly any US-individual of European-descent in the near future.\n",
    "    We demonstrate that the technique can also identify research participants of a public sequencing project.\n",
    "    Based on these results, we propose a potential mitigation strategy and policy implications to human\n",
    "    subject research.\""
   ]
  },
  {
   "cell_type": "markdown",
   "id": "3017cea2",
   "metadata": {},
   "source": [
    "## 5.2 Population structure"
   ]
  },
  {
   "cell_type": "markdown",
   "id": "23157c50",
   "metadata": {},
   "source": [
    "Several relatedness estimation methods considered above were base on the\n",
    "assumption of *homogeneous* population, i.e., a population without *genetic structure*.\n",
    "Genetic population structure is present in the sample,\n",
    "if the sample can be divided into groups\n",
    "in such a way that individuals from one group are\n",
    "more genetically similar among themselves\n",
    "than with individuals from different groups."
   ]
  },
  {
   "cell_type": "markdown",
   "id": "d449355b",
   "metadata": {},
   "source": [
    "### 5.2.1 Sources of population structure\n",
    "Most common variants among the humans are shared across the world,\n",
    "in the sense that those common alleles are present all around the world.\n",
    "Still, even the common variants carry information about the\n",
    "geographic location of their carrier since their allele frequencies are different\n",
    "in different areas. (Slides 19-20.)"
   ]
  },
  {
   "cell_type": "markdown",
   "id": "b0b8c364",
   "metadata": {},
   "source": [
    "#### Example 5.2. Genetic drift\n",
    "Suppose that a population with $100$ individuals is living in a particular area.\n",
    "Suppose that half of the population migrates to a new area and the two subpopulations\n",
    "do not have any contact with each other anymore, and in particular, do not\n",
    "have any genetic exhange in the following generations.\n",
    "Let's visualize how the allele frequency of a particular variant evolves\n",
    "in the two populations as a function of generations they have been separated.\n",
    "The assumption is that at time 0 the allele frequency is the same in\n",
    "both populations, and, in each of the following generations,\n",
    "the offspring alleles are randomly sampled from the existing alleles\n",
    "with replacement (one individual can have none, one or multiple offspring).\n",
    "This sampling means that Hardy-Weinberg equilibrium holds in each subpopulation.\n",
    "There are 50 individuals in each population,\n",
    "so 100 alleles in each population. The population size is assumed constant."
   ]
  },
  {
   "cell_type": "code",
   "execution_count": 9,
   "id": "92625517",
   "metadata": {
    "kernel": "R",
    "tags": [
     "report_cell"
    ]
   },
   "outputs": [],
   "source": [
    "n = 100 #alleles in each generation of each subpopulation\n",
    "f0 = 0.5 #starting allele frequency\n",
    "K = 100 #number of generations in simulation\n",
    "npop = 10 #Let's make 10 rather than just 2 pops to illustrate more general behavior\n",
    "f = matrix(NA, ncol = K+1, nrow = npop) #results of allele freqs across pops and generations\n",
    "for(pop in 1:npop){\n",
    "  a = rbinom(n,1,f0) #starting configuration of alleles\n",
    "  f[pop,1] = mean(a) #allele frequency at generation 0\n",
    "  for(ii in 1:K){\n",
    "    a = sample(a, size = n, replace = T) #resample generation ii\n",
    "    f[pop,1+ii] = mean(a) #allele frequency at generation ii (index ii+1 since generation 0 is at index 1)\n",
    "  }\n",
    "}\n",
    "plot(NULL, xlab = \"generation\", ylab = \"allele frequency\",\n",
    "     main = paste(\"n =\",n), xlim = c(0,K), ylim = c(0,1))\n",
    "for(pop in 1:npop){lines(0:K, f[pop,], lwd = 1.4, col = topo.colors(npop)[pop])}"
   ]
  },
  {
   "cell_type": "markdown",
   "id": "8bad1a6a",
   "metadata": {},
   "source": [
    "The figure shows ten possible evolutions for our subpopulations.\n",
    "We see that each population starts near the common allele frequency value\n",
    "(here 0.5), but as the time goes by, some populations differ strongly\n",
    "in their allele frequency. If we were to genotype\n",
    "individuals from generation 80 at this variant, we could tell,\n",
    "for example, that heterozygotes are\n",
    "definitely from one of the 5 populations not yet fixed to either allele\n",
    "and we could tell which are the possibilities for each homozygote individual.\n",
    "Thus, pure random variation in allele frequencies between generations generates\n",
    "marked allele frequency differences between populations over time.\n",
    "This is called **genetic drift**.\n",
    "\n",
    "The amount of genetic drift is strongly dependent on the population size.\n",
    "Statistician might think that each new generation tries to \"estimate\" its parents'\n",
    "generation allele frequency by sampling alleles from parents' generation and\n",
    "by computing their frequencies,\n",
    "and the precision of this estimate decreases as the sample size decreases.\n",
    "\n",
    "Let's repeat similar analysis but with 10 times larger population size.\n",
    "(And let's not repeat the code in the output, just the updated Figure.)"
   ]
  },
  {
   "cell_type": "code",
   "execution_count": 10,
   "id": "f40a4a18",
   "metadata": {
    "Rmd_chunk_options": "echo=F",
    "kernel": "R",
    "tags": [
     "report_cell"
    ]
   },
   "outputs": [],
   "source": [
    "n = 1000 #alleles in each generation of each subpopulation\n",
    "f0 = 0.5 #starting allele frequency\n",
    "K = 100 #number of generation in simulation\n",
    "npop = 10 #Let's make 10 rather than just 2 pops to illustrate more general behavior\n",
    "f = matrix(NA, ncol = K+1, nrow = npop) #results of allele freqs across pops and generations\n",
    "for(pop in 1:npop){\n",
    "  a = rbinom(n,1,f0) #starting configuration of alleles\n",
    "  f[pop,1] = mean(a) #allele frequency at generation 0\n",
    "  for(ii in 1:K){\n",
    "    a = sample(a, size=n, replace=T) #resample generation ii\n",
    "    f[pop,1+ii] = mean(a) #allele frequency at generation ii (index ii+1 since generation 0 is at index 1)\n",
    "  }\n",
    "}\n",
    "plot(0, col = \"white\", xlab = \"generation\", ylab = \"allele frequency\",\n",
    "     main=paste(\"n =\",n), xlim = c(0,K), ylim = c(0,1))\n",
    "for(pop in 1:npop){lines(0:K,f[pop,],lwd=1.4, col=topo.colors(npop)[pop])}"
   ]
  },
  {
   "cell_type": "markdown",
   "id": "5ef1eec1",
   "metadata": {},
   "source": [
    "Within the same time span, the larger populations were much less affected by the genetic\n",
    "drift. This phenomenon also explains why some human populations are more strongly diverged\n",
    "genetically from their neighbours than some other, geographically equally distant\n",
    "populations. The Finnish population is an example of a population\n",
    "with a relatively strong genetic isolation\n",
    "among the European populations, to a large part due to a relatively small\n",
    "historical \"founder population\" size in Finland.\n",
    "Consequently, the overall genetic background in Finland is less heterogeneous than\n",
    "in many other European populations (which make some genetic analyses simpler in Finland),\n",
    "and due to a strong historical genetic drift effect in Finland, some\n",
    "functional, and possibly harmful, alleles have survived in the Finnish population\n",
    "with much higher frequency than elsewhere (say, e.g., 1% in Finland and 0.01% elsewhere)\n",
    "even though selection effect might be against them.\n",
    "We already know what a huge difference\n",
    "such a frequency difference has in terms of statistical power\n",
    "to discover the phenotype associations!\n",
    "These are reasons why international players [focus](http://www.finngen.fi/en)\n",
    "on Finland when it comes to genetics research.\n",
    "\n",
    "\n",
    "Above we saw that already a single variant shows\n",
    "informative genetic population structure between groups that were separated\n",
    "for a while.\n",
    "And when we combine 100,000s of variants across the genome, we can expect to\n",
    "see quite a clear structure, if we just have tools to pick it up."
   ]
  },
  {
   "cell_type": "markdown",
   "id": "049d0d30",
   "metadata": {},
   "source": [
    "### 5.2.2 Principal component analysis (PCA)\n",
    "Suppose we have $n$ individuals\n",
    "measured on $p$ SNPs. Thus our data matrix is\n",
    "an $n \\times p$ matrix $\\mathbf{X}$.\n",
    "We would like to summarize the main structure of these data\n",
    "with respect to the individuals by using only much less than\n",
    "$p$ dimensions. Such **dimension reduction** is most intuitive, if it ends in two or one dimensions\n",
    "since then we can easily see the results ourselves by\n",
    "simply plotting the individuals in their new 2 or 1 dimensional coordinates.\n",
    "\n",
    "Imagine each individual as a point in $p$-dimensional space\n",
    "where each dimension corresponds to\n",
    "a SNP and the individual's coordinate on the axis is the genotype at that SNP.\n",
    "If we draw one line through the $p$-dimensional space and project each point\n",
    "on that line, then we can  represent each individual by using only one value,\n",
    "the individual's coordinate on the chosen line.\n",
    "Now each individual is represented by one value instead of original $p$ values\n",
    "so we have done efficient dimension reduction from $p$ to 1.\n",
    "Is this useful? Only if we can choose that one line\n",
    "in such a way that it will capture a useful amount of the information\n",
    "in the data. In PCA, first defined in 1901 by K. Pearson,\n",
    "our criterion to choose the line is that the individuals'\n",
    "projections on the line should have **the largest variance possible**, among\n",
    "all possible lines that we could draw through the $p$-dimensional space.\n",
    "\n",
    "Let's make an example data of 2 SNPs where we have 50\n",
    "individuals from two populations.\n",
    "In a blue population, the allele 1 frequencies are 5% and 95% at the two SNPs,\n",
    "and in a red population they are the opposite: 95% and 5%.\n",
    "We don't expect that either SNP alone would completely separate\n",
    "the two populations but maybe PCA is able to combine more of their information\n",
    "and present it in one dimension to show the population structure from the data\n",
    "better than either of the SNPs alone. Let's draw a picture."
   ]
  },
  {
   "cell_type": "code",
   "execution_count": 11,
   "id": "57ecea9f",
   "metadata": {
    "Rmd_chunk_options": "fig.width=5",
    "kernel": "R",
    "tags": [
     "report_cell"
    ]
   },
   "outputs": [],
   "source": [
    "set.seed(20)\n",
    "npop = 2\n",
    "cols = c(\"blue\",\"red\")\n",
    "f = matrix(c(0.05,0.95,0.95,0.05), byrow = T, ncol = npop)\n",
    "p = nrow(f) #number of SNPs\n",
    "n = rep(50, npop) #number of samples from each population\n",
    "pop = rep(1:npop, n) #from which population each individual comes\n",
    "X = c() #empty genotype data matrix\n",
    "for(ii in 1:p){\n",
    "  x = c() #empty genotype vector for SNP ii\n",
    "  for(jj in 1:npop){\n",
    "    x = c(x, rbinom(n[jj], size = 2, f[ii,jj]) ) #add genotypes of pop jj to x\n",
    "  }\n",
    "  X = cbind(X,x) #add SNP x as a new column to genotype matrix X\n",
    "}\n",
    "jitt.1 = runif(n[1], -0.03, 0.03) #add some noise to coordinates in plot to avoid overlap\n",
    "jitt.2 = runif(n[2], -0.03, 0.03)\n",
    "plot(X[,1] + jitt.1, X[,2] + jitt.2,\n",
    "     col = cols[pop], xlab = \"SNP1\", ylab = \"SNP2\")"
   ]
  },
  {
   "cell_type": "markdown",
   "id": "2d5ba888",
   "metadata": {},
   "source": [
    "We have clear patterns in 2d-SNP space where the red population\n",
    "is mainly at the lower right\n",
    "and the blue at the upper left corner.\n",
    "But neither SNP alone can separate the two populations and if we colored\n",
    "all dots black we would not see a clear population separation on this plot.\n",
    "Let's see which is the line on which\n",
    "the projections of these points have the largest variance.\n",
    "We get than from PCA computed by `prcomp()`."
   ]
  },
  {
   "cell_type": "code",
   "execution_count": 12,
   "id": "8be8dcd9",
   "metadata": {
    "Rmd_chunk_options": "fig.width=5",
    "kernel": "R",
    "tags": [
     "report_cell"
    ]
   },
   "outputs": [],
   "source": [
    "X = scale(X) #always standardize each variant before PCA\n",
    "pca = prcomp(X) #do PCA; we look later what this function returns\n",
    "plot(X[,1] + jitt.1, X[,2] + jitt.2, asp = 1, #Plot the points, now after scaling\n",
    "     col = cols[pop], xlab = \"SNP1 (stnd'd)\",\n",
    "     ylab = \"SNP2 (stnd'd)\")\n",
    "abline(a = 0, b = pca$rotation[2,1]/pca$rotation[1,1]) #add the PC1 line"
   ]
  },
  {
   "cell_type": "markdown",
   "id": "00b9dbad",
   "metadata": {},
   "source": [
    "If we now project all points on that PC1-line, as is done in `pca$x[,1]`\n",
    "(and use just random y-coordinates for visualization) we have:"
   ]
  },
  {
   "cell_type": "code",
   "execution_count": 13,
   "id": "2c81565d",
   "metadata": {
    "kernel": "R",
    "tags": [
     "report_cell"
    ]
   },
   "outputs": [],
   "source": [
    "plot(pca$x[, 1], runif(sum(n), -1, 1), col = cols[pop], yaxt = \"n\", xlab = \"PC1\", ylab = \"\")"
   ]
  },
  {
   "cell_type": "markdown",
   "id": "152964c4",
   "metadata": {},
   "source": [
    "The direction picked by the PC1 also happens to separate the\n",
    "two populations. So even with only two SNPs, neither of which alone\n",
    "separates the populations, PCA can combine their information to\n",
    "capture the main structure of the data,\n",
    "which here matches the existence of the two populations.\n",
    "\n",
    "Although the 2-SNP example above is just a toy demonstration,\n",
    "it gives us a good reason to\n",
    "expect that when we use 100,000s of SNPs, the PCs, i.e., the directions\n",
    "of the largest genetic variation in the data, will capture population\n",
    "structure, if such exists.\n",
    "\n",
    "Terms:\n",
    "\n",
    "* **Principal components** of the genetic data are the linear 1D-subspaces\n",
    "of the original genotype space that have the following properties:\n",
    "The 1st PC explains the maximum variance possible by any linear 1D-subspace.\n",
    "For any $k>1$, the $k^{th}$ PC explains the maximum variance possible\n",
    "by any linear 1D-subspace conditional on being orthogonal to all preceeding PCs.\n",
    "The number of PCs is $\\min\\{n,p\\}.$\n",
    "\n",
    "* **Scores** or principal component scores are the coordinates of the individuals\n",
    "when they have been projected on the PC. They are computed using PC loadings\n",
    "and the individuals' (standardized) genotypes. In object returned by\n",
    "`prcomp()`, the scores are in matrix `x`, so, e.g., the scores on PC 6 are in\n",
    "vector `pca$x[,6]`.\n",
    "\n",
    "* **Loadings** are the coefficients that determine how scores are computed from the\n",
    "(standardized) genotypes. Each PC $k$ has a loading vector\n",
    "$\\mathbf{l}_k = (l_{k1},\\ldots,l_{kp})^T$ and the score of individual $i$ on PC $k$\n",
    "is $$\\textrm{score}_{ik} = \\mathbf{l}_k^T \\mathbf{x}_i = \\sum_{m=1}^p l_{km}x_{im},$$\n",
    "where $x_{im}$ is the standardized SNP genotype of $i$ at SNP $m$.\n",
    "Note that when we have the loadings at hand, we can project also any external\n",
    "individual on the existing PCs generated by our reference data set.\n",
    "Loadings from `prcomp()` object `pca` are in matrix `pca$rotation`.\n",
    "\n",
    "\n",
    "**Example 5.3.**\n",
    "Let's generate data from three poulations P1,P2,P3 of which P1 and P2\n",
    "are more closely related with each other and more distant from P3.\n",
    "A standard measure of differentiation\n",
    "is Fst value that describes how large a proportion of genetic variation\n",
    "is present between populations compared to within populations.\n",
    "For example, we have Fst ~ 0.003 between Eastern and Western Finland\n",
    "and ~ 0.10 between populations from different continents.\n",
    "The Balding-Nichols model\n",
    "to generate allele frequencies for two populations with Fst value of\n",
    "$F$ samples a background allele frequency $f$,\n",
    "for example, from a Uniform distribution, and then samples\n",
    "the subpopulation allele frequencies as independent\n",
    "samples from the distribution\n",
    "$$\\textrm{Beta}\\left(\\frac{1-F}{F}f, \\frac{1-F}{F}(1-f)\\right ).$$\n",
    "Let's generate data so that Fst between P1 and P2 is 0.003 and Fst between\n",
    "P3 and the shared ancestral population of P1 and P2 is 0.05.\n",
    "(We might be looking at differences between\n",
    "Eastern (P1) and Western Finns (P2) and Northern Africans (P3).)\n",
    "Let's sample $n=100$ individuals from each population using $p = 3000$ SNPs\n",
    "and show PCs 1-2."
   ]
  },
  {
   "cell_type": "code",
   "execution_count": 14,
   "id": "e82429f2",
   "metadata": {
    "Rmd_chunk_options": "fig.width = 9, fig.height = 3",
    "kernel": "R",
    "tags": [
     "report_cell"
    ]
   },
   "outputs": [],
   "source": [
    "n = 100 #per population\n",
    "p = 3000 #SNPs\n",
    "fst.12 = 0.003\n",
    "fst.12.3 = 0.05\n",
    "f = runif(p, 0.1, 0.5) #common SNPs in background population\n",
    "f.3 = rbeta(p, (1-fst.12.3)/fst.12.3*f, (1-fst.12.3)/fst.12.3*(1-f))\n",
    "f.12 = rbeta(p, (1-fst.12.3)/fst.12.3*f, (1-fst.12.3)/fst.12.3*(1-f)) #P1&P2's shared ancestor\n",
    "f.1 = rbeta(p, (1-fst.12)/fst.12*f.12, (1-fst.12)/fst.12*(1-f.12))\n",
    "f.2 = rbeta(p, (1-fst.12)/fst.12*f.12, (1-fst.12)/fst.12*(1-f.12))\n",
    "#Let's check that f.1 and f.2 looks similar compared to f.1 and f.3 or f.2 and f.3\n",
    "par(mfrow = c(1,3))\n",
    "plot(f.1,f.2, main = paste(\"Fst\", fst.12), xlim = c(0,1), ylim = c(0,1), pch = 3)\n",
    "plot(f.1,f.3, main = paste(\"Fst >\", fst.12.3), xlim = c(0,1), ylim = c(0,1), pch = 3)\n",
    "plot(f.2,f.3, main = paste(\"Fst >\", fst.12.3), xlim = c(0,1), ylim = c(0,1), pch = 3)"
   ]
  },
  {
   "cell_type": "markdown",
   "id": "f0bcbc21",
   "metadata": {},
   "source": [
    "Let's then generate the genotype data and do PCA."
   ]
  },
  {
   "cell_type": "code",
   "execution_count": 15,
   "id": "fe28d316",
   "metadata": {
    "Rmd_chunk_options": "fig.width=5",
    "kernel": "R",
    "tags": [
     "report_cell"
    ]
   },
   "outputs": [],
   "source": [
    "x = cbind(\n",
    "    replicate(n, rbinom(p, size = 2, p = f.1)), #generate n inds from P1\n",
    "    replicate(n, rbinom(p, size = 2, p = f.2)), # from P2\n",
    "    replicate(n, rbinom(p, size = 2, p = f.3))) # from P3\n",
    "x = t(x) #each replicate (=ind) is now in a column, but we want inds to rows and SNPs to cols\n",
    "pca = prcomp(x, scale = T) #do PCA\n",
    "cols = rep( c(\"cyan\",\"skyblue\",\"magenta\"), each = n) #color for each ind according to pop\n",
    "plot(pca$x[,1], pca$x[,2], col = cols, xlab = \"PC1\", ylab = \"PC2\")"
   ]
  },
  {
   "cell_type": "markdown",
   "id": "af99236d",
   "metadata": {},
   "source": [
    "We see that 1st PC picks P3 apart from P1&P2, but does not separate P1 and P2,\n",
    "whereas PC2 starts to separate P1 and P2. Separation would become clear if we added\n",
    "a few thousand more SNPs or if we increased Fst between P1 and P2 (left as exercise).\n",
    "\n",
    "**Example 5.4.**\n",
    "Let's also do PCA with real allele frequency data from 1000 Genomes project.\n",
    "Let's read in a frequency file (that is based on the files from [IMPUTE2\n",
    "webpage](https://mathgen.stats.ox.ac.uk/impute/data_download_1000G_phase1_integrated_SHAPEIT2_16-06-14.html)) and see what's in it."
   ]
  },
  {
   "cell_type": "code",
   "execution_count": 16,
   "id": "dca31439",
   "metadata": {
    "kernel": "R",
    "tags": [
     "report_cell"
    ]
   },
   "outputs": [],
   "source": [
    "af = read.table(\"http://www.mv.helsinki.fi/home/mjxpirin/GWAS_course/material/afreq_1000G_phase1_chr15-22.txt\",\n",
    "                as.is = T, header = T)\n",
    "dim(af)\n",
    "af[1,]"
   ]
  },
  {
   "cell_type": "markdown",
   "id": "c84a90e4",
   "metadata": {},
   "source": [
    "We have allele 1 frequency info for 5,266 SNPs in 14 populations.\n",
    "The SNPs have been chosen from chromosomes 15-22 and are at least 100,000 bps apart\n",
    "to avoid linkage disequilibrium blocks. Additionally, the global MAF of all these\n",
    "are > 5%, but some of them they may very rare in any one population.\n",
    "\n",
    "* ASW [AFR] (61) - African Ancestry in Southwest US\n",
    "* CEU [EUR] (85) - Utah residents (CEPH) with Northern and Western European ancestry\n",
    "* CHB [ASN] (97) - Han Chinese in Beijing, China\n",
    "* CHS [ASN] (100) - Southern Han Chinese\n",
    "* CLM [AMR] (60) - Colombian in Medellin, Colombia\n",
    "* FIN [EUR] (93) - Finnish from Finland\n",
    "* GBR [EUR] (89) - British from England and Scotland\n",
    "* IBS [EUR] (14) - Iberian population in Spain\n",
    "* JPT [ASN] (89) - Japanese in Toyko, Japan\n",
    "* LWK [AFR] (97) - Luhya in Webuye, Kenya\n",
    "* MXL [AMR] (66) - Mexican Ancestry in Los Angeles, CA\n",
    "* PUR [AMR] (55) - Puerto Rican in Puerto Rico\n",
    "* TSI [EUR] (98) - Toscani in Italia\n",
    "* YRI [AFR] (88) - Yoruba in Ibadan, Nigeria\n",
    "\n",
    "Note that sample sizes for some populations (IBS in particular) is small so\n",
    "we won't use them.\n",
    "Let's demonstrate a European PCA using GBR, TSI, CEU and FIN.\n",
    "We simply simulate some number of individuals ($n=50$) from each population\n",
    "and do PCA. (We could use the original individual level 1000 Genomes data as well,\n",
    "but that requires large files, so here we just work with the allele frequencies\n",
    "and simulate our individuals from them.)"
   ]
  },
  {
   "cell_type": "code",
   "execution_count": 17,
   "id": "bfb0ea60",
   "metadata": {
    "kernel": "R",
    "tags": [
     "report_cell"
    ]
   },
   "outputs": [],
   "source": [
    "p = nrow(af) #number of SNPs\n",
    "n = 50 #samples per population\n",
    "pop.labs = c(\"GBR\",\"TSI\",\"CEU\",\"FIN\")\n",
    "pop = rep(1:length(pop.labs), each=n)\n",
    "x = c()\n",
    "for(ii in 1:length(pop.labs)){\n",
    "  x = rbind(x, t(replicate(n, rbinom(p, size = 2, prob = af[,pop.labs[ii]]) ) ) )\n",
    "}\n",
    "x = x[, apply(x, 2, var) > 0 ] #remove monomorphic variants\n",
    "pca = prcomp(x, scale = T)\n",
    "plot(pca$x[,1], pca$x[,2], col = pop, pch = 19, xlab = \"PC1\", ylab= \"PC2\",\n",
    "     main = \"Simulation from 1000 Genomes Phase 1\")\n",
    "legend(\"topright\", leg = pop.labs, col = 1:length(pop.labs), pch = 19, cex = 1)"
   ]
  },
  {
   "cell_type": "markdown",
   "id": "5eb92177",
   "metadata": {},
   "source": [
    "Looks like PC1 picks North-South direction and PC2 separates Central Europeans and\n",
    "British from Finns and Italians."
   ]
  },
  {
   "cell_type": "code",
   "execution_count": 18,
   "id": "3b0408a7",
   "metadata": {
    "kernel": "R",
    "tags": [
     "report_cell"
    ]
   },
   "outputs": [],
   "source": [
    "plot(pca$x[,1], pca$x[,3], col = pop, pch = 19, xlab = \"PC1\", ylab= \"PC3\",\n",
    "     main = \"Simulation from 1000 Genomes Phase 1\")"
   ]
  },
  {
   "cell_type": "markdown",
   "id": "59ae400d",
   "metadata": {},
   "source": [
    "And PC3 then separates GBR and CEU.\n",
    "\n",
    "\n",
    "\n",
    "Time to see some colorful pictures that PCA has produced with real data (slides 21-25)."
   ]
  },
  {
   "cell_type": "markdown",
   "id": "81cef294",
   "metadata": {},
   "source": [
    "#### How does PCA work?\n",
    "Technically, PCA is the eigenvalue decomposition of the correlation based\n",
    "genetic relatedness matrix (GRM)\n",
    "that we discussed earlier, in the sense that the eigenvectors of GRM\n",
    "are the scores on the PCs (1st eigenvector corresponds to 1st PC etc.)\n",
    "This means that GRM can be seen as being built up from PCs,\n",
    "one by one, as shown on slide 27.\n",
    "\n",
    "[Visualization of PCA](http://setosa.io/ev/principal-component-analysis/).\n",
    "\n",
    "[Tutorial on PCA by Jon Shlens](https://arxiv.org/pdf/1404.1100.pdf)\n",
    "is an excellent tutorial, but unfortunately\n",
    "it uses the rows and columns of data\n",
    "matrix the other way as we are using so\n",
    "the data matrix is given as $p \\times n$ matrix,\n",
    "and $p$ (the number of variables) is called $m$."
   ]
  },
  {
   "cell_type": "markdown",
   "id": "c2daa3f6",
   "metadata": {},
   "source": [
    "#### How to carry out PCA?\n",
    "Most GWAS software packages can do PCA. Typically, the steps are like done by\n",
    "[Kerminen 2015](https://helda.helsinki.fi/handle/10138/155656):\n",
    "\n",
    "* Identify suitable set of individuals by excluding one individual\n",
    "from each pair of closely related individuals. (Close relatives can drive\n",
    "some leading PCs and hence mix up the analysis if the purpose is to find population\n",
    "structure, as we will see soon.)\n",
    "\n",
    "* Identify a suitable set of SNPs, typically MAF>5% and strict LD-pruning is applied\n",
    "(we'll talk about pruning next week). Remove also the known regions of\n",
    "high-LD ([Price et al. 2008](https://www.sciencedirect.com/science/article/pii/S0002929708003534)).\n",
    "\n",
    "* Make sure that the method is using mean-centered genotypes;\n",
    "often the SNPs are further satandardized to have variance 1 in the sample.\n",
    "Note: Also GRM uses standardized genotypes as it\n",
    "is based on the genotype correlation.\n",
    "\n",
    "* Plot the loadings along the genome to observe if there are some regions\n",
    "with much larger contributions than the genome average. Spikes somewhere in genome\n",
    "indicate that those regions are driving the PC, and that is most likely because\n",
    "of inadequate pruning in that region (See Figure 9 in [Kerminen 2015](https://helda.helsinki.fi/handle/10138/155656)).\n",
    "\n",
    "* Visualize the PCs, e.g., by plotting two PCs against each other. Observe if there are\n",
    "outliers that seem to drive some of the leading (say 20) PCs, and possibly remove\n",
    "those outliers, and do PCA anew.\n",
    "They could be individuals with some quality problems or with genetic ancestry\n",
    "that is different from the rest of the sample, which can be a problem in GWAS\n",
    "as we'll discuss soon. If you have geographic location info about your samples,\n",
    "color each PC-plot with expected genographic populations. If PC picks up populations\n",
    "it is likely to be correctly done, if not, need to look more.\n",
    "\n",
    "* Project the excluded relatives on the PCs.\n",
    "Some relatives may have been excluded while generating the PCs, but they will have valid\n",
    "scores on the PCs when projected using the loadings computed when those relatives\n",
    "were excluded."
   ]
  },
  {
   "cell_type": "markdown",
   "id": "400ee2f0",
   "metadata": {},
   "source": [
    "#### Example 5.5. Why to exclude relatives from PCA?\n",
    "Let's make a data set that has 10 individuals from each of populations 1 and 2.\n",
    "The Fst between populations is 0.01 and the data includes\n",
    "one pair of full sibs from population 1,\n",
    "while the other individuals are unrelated within each population.\n",
    "Let's see how the 1st and the 2nd PC behave."
   ]
  },
  {
   "cell_type": "code",
   "execution_count": 19,
   "id": "f1b39554",
   "metadata": {
    "Rmd_chunk_options": "fig.width=5",
    "kernel": "R",
    "tags": [
     "report_cell"
    ]
   },
   "outputs": [],
   "source": [
    "set.seed(20)\n",
    "p = 10000 #SNPs\n",
    "fst.12 = 0.01\n",
    "cols = c(\"black\",\"limegreen\")\n",
    "f = runif(p, 0.2,0.5) #common SNPs in background population\n",
    "f.1 = rbeta(p, (1-fst.12)/fst.12*f, (1-fst.12)/fst.12*(1-f))\n",
    "f.2 = rbeta(p, (1-fst.12)/fst.12*f, (1-fst.12)/fst.12*(1-f))\n",
    "\n",
    "X = rbind(offspring.geno(n.families = 1, n.snps = p, fs = f.1, n.shared.parents = 2), #full-sibs from 1\n",
    "          offspring.geno(n.families = 4, n.snps = p, fs = f.1, n.shared.parents = 0), #unrel from 1\n",
    "          offspring.geno(n.families = 5, n.snps = p, fs = f.2, n.shared.parents = 0)) #unrel from 2\n",
    "pop = c(rep(1,2*5), rep(2,2*5)) #population labels: 10x Pop1 and 10x Pop2.\n",
    "\n",
    "X = X[, apply(X, 2, var) > 0] #remove monomorphic variants before scaling\n",
    "pca = prcomp(X, scale = T) #do PCA\n",
    "plot(pca$x[,1], pca$x[,2], asp = 1, col = cols[pop], xlab = \"PC1\", ylab = \"PC2\", pch = 19)"
   ]
  },
  {
   "cell_type": "markdown",
   "id": "69369300",
   "metadata": {},
   "source": [
    "Thus, the 1st PC picks the relative pair and not the population structure. Only the 2nd\n",
    "PC picks the population structure. This is not what we want in GWAS, where we want to\n",
    "adjust for relatedness in other ways and use PCA to get an idea of the population structure.\n",
    "Let's do the PCA by first removing one of the sibs, and then projecting him/her back among the\n",
    "others in PC plot."
   ]
  },
  {
   "cell_type": "code",
   "execution_count": 20,
   "id": "e3fbd528",
   "metadata": {
    "Rmd_chunk_options": "fig.width=5",
    "kernel": "R",
    "tags": [
     "report_cell"
    ]
   },
   "outputs": [],
   "source": [
    "X.unrel = X[-1,] #remove row 1\n",
    "pca = prcomp(X.unrel, scale = T)\n",
    "plot(pca$x[,1], pca$x[,2], asp = 1, col = cols[pop[-1]], xlab = \"PC1\", ylab = \"PC2\",\n",
    "     main = \"Unrelated PCA\", pch = 19)\n",
    "#project back individual 1 to the PCs spanned by the 19 other individuals\n",
    "pca.1 = predict(pca, newdata = matrix(X[1,], nrow = 1)) #projects newdata to PCs defined in 'pca'\n",
    "points(pca.1[1], pca.1[2], col = \"violet\", pch = 19, cex = 1.2) #ind 1 on PCs"
   ]
  },
  {
   "cell_type": "markdown",
   "id": "66c2a6a4",
   "metadata": {},
   "source": [
    "We see that the excluded sibling (in violet)\n",
    "is projected among his/her population, and now PCs\n",
    "are not affected by any close relationships.\n",
    "\n",
    "Note that when projecting samples using `predict()` on an object from prcomp,\n",
    "the new data must be in same units as the original data that was used to do PCA with `prcomp()`.\n",
    "If the original data went in to `prcomp()` as unscaled genotypes,\n",
    "then the new data must also be unscaled genotypes\n",
    "with same allele coding. And if the data were scaled first outside `prcomp()`,\n",
    "then the new data must be scaled with the same mean and sd before prediction."
   ]
  },
  {
   "cell_type": "markdown",
   "id": "5b59bf27",
   "metadata": {},
   "source": [
    "#### 5.2.3  Relatedness estimates with population structure\n",
    "\n",
    "Let's see what happens when we have both population structure and **cryptic relatedness**,\n",
    "i.e., close realtionships among study participants that are unknown to us prior to seeing\n",
    "genetic data.\n",
    "\n",
    "Suppose we have two populations separated by Fst of 0.1. We collect 4 pairs of half-sibs\n",
    "from population 1 and 1 pair of half-sibs in population 2.\n",
    "Let's use $p=10000$ SNPs as with earlier sibship simulations."
   ]
  },
  {
   "cell_type": "code",
   "execution_count": 21,
   "id": "d47bb022",
   "metadata": {
    "kernel": "R",
    "tags": [
     "report_cell"
    ]
   },
   "outputs": [],
   "source": [
    "p = 10000 #SNPs\n",
    "fst.12 = 0.1\n",
    "f = runif(p, 0.2,0.5) #common SNPs in background population\n",
    "f.1 = rbeta(p, (1-fst.12)/fst.12*f, (1-fst.12)/fst.12*(1-f))\n",
    "f.2 = rbeta(p, (1-fst.12)/fst.12*f, (1-fst.12)/fst.12*(1-f))\n",
    "\n",
    "X = rbind(offspring.geno(n.families = 4, n.snps = p, fs = f.1, n.shared.parents = 1),\n",
    "          offspring.geno(n.families = 1, n.snps = p, fs = f.2, n.shared.parents = 1))\n",
    "X = X[, apply(X, 2, var) > 0] #remove monomorphic variants before scaling\n",
    "\n",
    "#make GRM 'R'\n",
    "X.scaled = scale(X) #standardize each SNP at columns of X\n",
    "GRM = (X.scaled %*% t(X.scaled))/p #correlation matrix of individuals based on standardized SNPs\n",
    "\n",
    "#make KING-robust estimate for r:\n",
    "denominator = matrix(rep(rowSums(X==1), nrow(X)), nrow=nrow(X), byrow = T) +\n",
    "              matrix(rep(rowSums(X==1), nrow(X)), nrow=nrow(X), byrow = F)\n",
    "king.r = 2*((X==1) %*% t(X==1) - 2*((X==0) %*% t(X==2) + (X==2) %*% t(X==0)) ) / denominator"
   ]
  },
  {
   "cell_type": "markdown",
   "id": "10550692",
   "metadata": {},
   "source": [
    "Let's plot the results by dividing the relatedness coefficients into categories of\n",
    "monozygotic twins, 1st, 2nd, 3rd degree relatives and unrelated.\n",
    "Let's also print the relatedness\n",
    "values for five pairs of half sibs (who belong to the category of 2nd deg relatives)."
   ]
  },
  {
   "cell_type": "code",
   "execution_count": 22,
   "id": "dbd0b187",
   "metadata": {
    "kernel": "R",
    "tags": [
     "report_cell"
    ]
   },
   "outputs": [],
   "source": [
    "n.cols = 5 #make 5 categories of relatives\n",
    "brk = c(-1,0.088,0.177,0.354,0.707,1.5) #KING's breakpoints for unrelated, 3rd, 2nd, 1st, monozygotes\n",
    "labs = c(\"unrel\",\"3rd\",\"2nd\",\"1st\",\"same\")\n",
    "\n",
    "layout(matrix(c(1,2), nrow  = 1), width = c(9,1)) #plotting area has matrix and color scale\n",
    "par(mar = c(2,2,3,1))\n",
    "image(GRM, col = topo.colors(n.cols), breaks = brk,\n",
    "      asp = 1, xaxt = \"n\", yaxt = \"n\", bty = \"n\",\n",
    "      main = paste(\"GRM from\",ncol(X),\"SNPs\")) #plot matrix using image\n",
    "par(mar = c(2,1,5,1))\n",
    "plot.window(xlim = c(0,1), ylim = c(0,n.cols))\n",
    "points( x = rep(1,n.cols), y = (1:n.cols), col = topo.colors(n.cols), pch = 15, cex = 2)\n",
    "axis(4, at = 1:n.cols, labels = labs)\n",
    "c(GRM[1,2], GRM[3,4], GRM[5,6], GRM[7,8], GRM[9,10]) #plot the relatedness values of half-sibs"
   ]
  },
  {
   "cell_type": "markdown",
   "id": "1a58bcf3",
   "metadata": {},
   "source": [
    "We see that only the pair from Pop2 has its $r_{ij}$ estimated corresponding to\n",
    "a value expected for the 2nd deg relatives. Other pairs have less GRM-cor relatedness\n",
    "in this sample because the strong population difference make them look like they were\n",
    "sharing more IBD than they actually do within their own population.\n",
    "\n",
    "What about KING? (Suppressing code.)"
   ]
  },
  {
   "cell_type": "code",
   "execution_count": 23,
   "id": "49a3be27",
   "metadata": {
    "Rmd_chunk_options": "echo=FALSE",
    "jupyter": {
     "output_hidden": false,
     "source_hidden": true
    },
    "kernel": "R",
    "tags": [
     "report_output"
    ]
   },
   "outputs": [],
   "source": [
    "layout(matrix(c(1,2), nrow=1), width=c(9,1))\n",
    "par(mar=c(2,2,3,1))\n",
    "image(king.r, col = topo.colors(n.cols), breaks = brk,\n",
    "      asp = 1, xaxt = \"n\", yaxt = \"n\", bty = \"n\",\n",
    "      main = paste(\"KING (r) from\",ncol(X),\"SNPs\")) #plot matrix using image\n",
    "par(mar=c(2,1,5,1))\n",
    "plot.window( xlim = c(0,1), ylim = c(0,n.cols) )\n",
    "points(x = rep(1,n.cols), y = (1:n.cols), col = topo.colors(n.cols), pch = 15, cex = 2)\n",
    "axis(4, at = 1:n.cols, labels = labs)\n",
    "c(king.r[1,2],king.r[3,4],king.r[5,6],king.r[7,8],king.r[9,10])"
   ]
  },
  {
   "cell_type": "markdown",
   "id": "545ed5b4",
   "metadata": {},
   "source": [
    "KING gets the half-sibs correct and $r_{ij}$ values are around 25% as expected.\n",
    "It indeed seems robust to this kind of a population structure."
   ]
  },
  {
   "cell_type": "markdown",
   "id": "f56c2cd5",
   "metadata": {},
   "source": [
    "#### 5.2.4 Fine-scale genetic structure\n",
    "Those interested in current level of fine-scale genetic structure that\n",
    "can be extracted from genetic data can see results from\n",
    "\n",
    "* Estonia [(Pankratov et al. 2020).](https://www.nature.com/articles/s41431-020-0699-4)\n",
    "\n",
    "* France [(Saint Pierre et al. 2020).](https://www.nature.com/articles/s41431-020-0584-1)\n",
    "\n",
    "* Netherlands [(Byrne et al. 2020).](https://www.nature.com/articles/s41467-020-18418-4)\n",
    "\n",
    "* Scotland [(Gilbert et al. 2019)](https://www.pnas.org/content/116/38/19064)\n",
    "\n",
    "* Spain [(Bycroft et al. 2019).](https://www.nature.com/articles/s41467-018-08272-w)\n",
    "\n",
    "* Finland [(Kerminen et al. 2017).](https://www.fimm.fi/en/research/projects/finnpopgen)\n",
    "\n",
    "* Ireland [(Gilbert et al. 2017).](https://www.nature.com/articles/s41598-017-17124-4)\n",
    "\n",
    "* UK [(Leslie et al. Nature 2015).](https://www.nature.com/articles/nature14230)\n",
    "\n",
    "These are not done by PCA, but by an [approach](https://journals.plos.org/plosgenetics/article?id=10.1371/journal.pgen.1002453)\n",
    "that estimates genome segment sharing."
   ]
  }
 ],
 "metadata": {
  "Rmd_chunk_options": {
   "author": "Matti Pirinen, University of Helsinki",
   "date": "Last updated: 30-Oct-2020, 1st version: 30-Jan-2019.",
   "output": {
    "html_document": "default"
   },
   "title": "GWAS 5: Relatedness and population structure",
   "urlcolor": "blue"
  },
  "kernelspec": {
   "display_name": "R",
   "language": "R",
   "name": "ir"
  },
  "language_info": {
   "codemirror_mode": "r",
   "file_extension": ".r",
   "mimetype": "text/x-r-source",
   "name": "R",
   "pygments_lexer": "r",
   "version": "4.2.1"
  },
  "sos": {
   "kernels": [
    [
     "SoS",
     "sos",
     "",
     ""
    ],
    [
     "R",
     "ir",
     "",
     ""
    ]
   ]
  }
 },
 "nbformat": 4,
 "nbformat_minor": 5
}
