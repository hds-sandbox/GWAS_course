{
 "cells": [
  {
   "cell_type": "markdown",
   "id": "0e082220-ac80-4df7-9ceb-419e4fe4bde1",
   "metadata": {},
   "source": [
    "---\n",
    "title: \"Quality Control: Strand and mapping correction, anchoring and population covariates\"\n",
    "format:\n",
    "  html:\n",
    "    code-fold: false\n",
    "    toc: true\n",
    "  ipynb:\n",
    "    toc: true\n",
    "    number-sections: false\n",
    "bibliography: references/references_4.bib\n",
    "---"
   ]
  },
  {
   "cell_type": "markdown",
   "id": "9a06a928-7da8-4c80-9126-81fc5cc3d526",
   "metadata": {},
   "source": [
    "::: {.callout-note title=\"Important notes for this notebook\" icon=false}\n",
    "\n",
    "In this section, we will explore how to match strands and reference mapping to merge HapMap and 1000GP data. Then, we will use population information from one dataset to decide if there are ethnic outliers in the other. Finally, we will generate population covariates useful for association testing.\n",
    "## Learning outcomes\n",
    "\n",
    "- **Evaluate** when and how to apply strand and mapping correction\n",
    "- **Discuss** confounding factors that lead to spurious associations\n",
    "- **Identify** population substructure and filter out outliers\n",
    "- **Correct** for population stratification \n",
    "\n",
    "## How to make this notebook work\n",
    "\n",
    "In this notebook, we will use both `R` and `bash command line` programming languages. Remember to **change the kernel** whenever you transition from one language to the other (`Kernel --> Change Kernel`) indicated by the languages' images.\n",
    "\n",
    "* We will first run `Bash` commands.  \n",
    "  \n",
    "<img src=\"Images/bash.png\" alt=\"Bash\" width=\"80\"> Choose the Bash kernel\n",
    "\n",
    ":::"
   ]
  },
  {
   "cell_type": "markdown",
   "id": "510d7628",
   "metadata": {},
   "source": [
    "# Merging, anchoring and making covariates"
   ]
  },
  {
   "cell_type": "markdown",
   "id": "19359572",
   "metadata": {},
   "source": [
    "Population stratification presents a significant source of systematic bias in GWAS, arising **when subpopulations exhibit systematic differences in allele frequencies**. Research indicates that even subtle degrees of population stratification can exist within a single ethnic population [@abdellaoui2013population]. Thus, testing and controlling for the presence of population stratification is an essential QC step.\n",
    "\n",
    "The population structure (or in other words, the ancestral relationship of the populations) is a so-called **confounding factor**. This means that it affects both the dependent and independent variables, as shown in the figure below, where both the genotype and traits are influenced by population structure (e.g., the distribution of north and south European individuals in the PCA space and the height of those individuals).\n",
    "\n",
    "![](Images/ancestryBias.png){fig-align=\"center\" width=400px}\n",
    "\n",
    "Why is a bias introduced? Population structure can influence allele frequencies and produce false positives/negatives when doing association testing. Graphically, consider the example in the figure below. Case and control for population 1 and 2 have specific MAFs. Removing the barrier between populations will change MAFs drastically for the two confitions.\n",
    "\n",
    "![](Images/popStruct.png){fig-align=\"center\" width=400px}\n",
    "\n",
    "The same problem arises in population studies without Case-control categories. Imagine having a population of randomly sampled individuals, each from a different ethnicity (the blue and red minor alleles in the example below). The final group of individuals will have a different proportion of MAFs depending on the sampling of various ethnicities.\n",
    "\n",
    "![](Images/popSampling.png){fig-align=\"center\" width=400px}\n",
    "\n",
    "There are several methods to correct for population stratification [@price2010new, @price_principal_2006]. Here, we illustrate a method integrated into PLINK: the **multidimensional scaling (MDS)** approach. MDS calculates the genome-wide average proportion of shared alleles between any pair of individuals to generate quantitative indices (components) of the genetic variation for each individual. **The individual component scores can be visualized to identify groups of genetically similar individuals.** For instance, in a genetic study including subjects from Asia and Europe, MDS analysis would reveal that Asians are genetically more similar to each other than to Europeans and Africans. The figure below shows another example of MDS using HapMap, Genome diversity project, and authors' data:\n",
    "\n",
    "![Example of MDS plot of the first two MDS components scores on integrated datasets in @somers_genetic_2017. Here TWN, a past isolated population in the Netherlands, is separated from the other individuals from the same country (NDL). Sardinians, notoriously different from continental Italians, are also grouped far away from them. Central European populations colocalize as expected.](./Images/MDSexample2.png){width=500px label=fig-MDSexample}\n",
    "\n",
    "\n",
    "## Anchoring\n",
    "\n",
    "To investigate which individuals the generated component scores deviate from in the target population, plotting the scores of the dataset under investigation and a population of known ethnic structure (e.g., HapMap/1KG data) is helpful: this step is called **anchoring** [@rietveld2013gwas]. This enables the researcher to obtain ethnic information on their data and to determine possible ethnic outliers. For example, in the figure above, if TSI (Tuscans from Italy) is the anchor population, one can hypothesize that the yellow dots might be ethnically similar (as in the example).\n",
    "\n",
    "## Outlier removal\n",
    "\n",
    "Outliers identified based on MDS analysis should be excluded from further analyses. Following their removal, a new MDS analysis must be conducted, and its primary components are utilized as covariates in association tests to correct for any residual population stratification within the population. The number of components to include depends on the population structure and sample size (usually 10-20). \n",
    "\n",
    "The MDS from @cortellari_climatic_2021 shows a distinct goat population outlier. The second axis is dominated by this outlier, obscuring structure in the other populations. Removing the outlier reveals a clearer structure among the remaining populations.\n",
    "\n",
    "![](./Images/MDSout.png){fig-align=\"center\" width=700px}\n"
   ]
  },
  {
   "cell_type": "markdown",
   "id": "17978560",
   "metadata": {},
   "source": [
    "# Analysis\n",
    "\n",
    "We aim to merge the HapMap and 1000GP datasets, using 1000GP Phase I as the anchor for HapMap. Our goal is to check if we can identify the ethnicity of the HapMap data based on the ethnicities in the 1000GP dataset. There are several steps to ensure compatibility between the datasets, so stay with us!\n",
    "\n",
    "## 1000GP data download\n",
    "\n",
    "Here are some commands to download and convert the 1000GP data for GWAS analysis. **You don’t need to run them**, as we’ve already processed the data.\n",
    "\n",
    "- 1000 Genomes Project - Phase I: genetic information for 629 individuals from various ethnic groups (>60GB). *Phase III is now available, and we recommend using it for research purposes.*\n",
    "\n",
    "\n",
    "```{.bash}\n",
    "wget ftp://ftp-trace.ncbi.nih.gov/1000genomes/ftp/release/20100804/ALL.2of4intersection.20100804.genotypes.vcf.gz\n",
    "```\n",
    "\n",
    "The data was converted from the `vcf` file (Variant Call Format) to plink format (`bim`, `fam`, `bed`):\n",
    "\n",
    "```{.bash}\n",
    "plink2 --vcf ALL.2of4intersection.20100804.genotypes.vcf.gz --make-bed --out ALL.2of4intersection.20100804.genotypes\n",
    "```"
   ]
  },
  {
   "cell_type": "markdown",
   "id": "ece39f8d",
   "metadata": {},
   "source": [
    ":::{.callout-note}\n",
    "\n",
    "The 1000 Genomes data downloaded above is rather large so the commands are not executable and are shown for reference only. To save time, we’ve provided the `.bed`, `.bim`and `.fam` files in the `Data` folder.\n",
    "\n",
    ":::\n",
    "\n",
    "Let's unzip the files and see how many samples we have."
   ]
  },
  {
   "cell_type": "code",
   "execution_count": null,
   "id": "26e3a83a",
   "metadata": {
    "tags": []
   },
   "outputs": [],
   "source": [
    "unzip -o Data/1000genomes.zip -d Results/GWAS4\n",
    "# count lines in fam \n",
    "wc -l Results/GWAS4/1000genomes.genotypesA.fam"
   ]
  },
  {
   "cell_type": "markdown",
   "id": "b6a8a6ed",
   "metadata": {},
   "source": [
    "We have a subset of **37 individuals**. Now, let's explore the `bim` file. "
   ]
  },
  {
   "cell_type": "code",
   "execution_count": null,
   "id": "6d50c492",
   "metadata": {
    "tags": []
   },
   "outputs": [],
   "source": [
    "cat Results/GWAS4/1000genomes.genotypesA.bim | head -5"
   ]
  },
  {
   "cell_type": "markdown",
   "id": "e3393991",
   "metadata": {},
   "source": [
    "One should note that the file `1000genomes.genotypes.bim` contains SNPs without an rs-identifier (or Reference SNP cluster ID). The missing rs-identifiers (noted as `.`) are not a problem for this tutorial. However, for good practice, we will assign unique identifiers to the SNPs (using available information):"
   ]
  },
  {
   "cell_type": "code",
   "execution_count": null,
   "id": "3d7a9271",
   "metadata": {
    "tags": []
   },
   "outputs": [],
   "source": [
    "plink --bfile Results/GWAS4/1000genomes.genotypesA \\\n",
    "    --set-missing-var-ids @:#[b37]\\$1,\\$2 \\\n",
    "    --make-bed \\\n",
    "    --out Results/GWAS4/1000genomes.genotypesA_no_missing_IDs \\\n",
    "    --silent"
   ]
  },
  {
   "cell_type": "markdown",
   "id": "f0e5e218-3e81-4871-b009-4e4e7b86579c",
   "metadata": {},
   "source": [
    "Now, let’s visualize the data to check the SNP names assigned. These are derived from the format `@:#[b37]\\$1,\\$2` in the command above, which PLINK interprets as `chromosome:locus[b37]Allele1,Allele2`: "
   ]
  },
  {
   "cell_type": "code",
   "execution_count": null,
   "id": "bc59444d",
   "metadata": {
    "tags": []
   },
   "outputs": [],
   "source": [
    "# Show changes on the bim file\n",
    "cat Results/GWAS4/1000genomes.genotypesA_no_missing_IDs.bim | head -5"
   ]
  },
  {
   "cell_type": "markdown",
   "id": "83e92e86-9965-42a9-992d-975c271a78fe",
   "metadata": {},
   "source": [
    "Pretty neat, right?"
   ]
  },
  {
   "cell_type": "markdown",
   "id": "bc096e38",
   "metadata": {},
   "source": [
    "## QC on 1000GP data\n",
    "As we covered in the GWAS3 notebook, it's important to account for missingness, sex discrepancies, and minor allele frequency. We'll apply standard QC thresholds to the 1000 GP data before merging it with HapMap data. "
   ]
  },
  {
   "cell_type": "code",
   "execution_count": null,
   "id": "162f5bf0",
   "metadata": {
    "tags": []
   },
   "outputs": [],
   "source": [
    "plink --bfile Results/GWAS4/1000genomes.genotypesA_no_missing_IDs \\\n",
    "    --geno 0.02 \\\n",
    "    --make-bed \\\n",
    "    --out Results/GWAS4/1kG_MDS --silent\n",
    "\n",
    "plink --bfile Results/GWAS4/1kG_MDS \\\n",
    "    --mind 0.02 \\\n",
    "    --make-bed \\\n",
    "    --out Results/GWAS4/1kG_MDS2 --silent\n",
    "    \n",
    "plink --bfile Results/GWAS4/1kG_MDS2 \\\n",
    "    --maf 0.05 \\\n",
    "    --make-bed  \\\n",
    "    --out Results/GWAS4/1kG_MDS3 --silent"
   ]
  },
  {
   "cell_type": "markdown",
   "id": "0840d758-279f-413c-9434-83e2a1cc945f",
   "metadata": {},
   "source": [
    "## SNPs matching between datasets"
   ]
  },
  {
   "cell_type": "markdown",
   "id": "98540514",
   "metadata": {},
   "source": [
    "N.B: Ensure that the datasets you want to merge share the same genomic build! Otherwise, you'll need to include a liftover step.\n",
    "\n",
    "\n",
    "We want to only consider SNPs that both datasets have in common.  First, extract SNP names from the HapMap data and filter the 1000GP data to include only matching SNPs.\n"
   ]
  },
  {
   "cell_type": "code",
   "execution_count": null,
   "id": "7893d82e-6625-4904-905c-2dc4f36a7d1d",
   "metadata": {},
   "outputs": [],
   "source": [
    "#Print out SNPs from the HapMap data\n",
    "awk '{print$2}' Results/GWAS4/HapMap_3_r3_9.bim > Results/GWAS4/HapMap_SNPs.txt\n",
    "\n",
    "#Extract the HapMap SNPs from the 1000GP data\n",
    "plink --bfile Results/GWAS4/1kG_MDS3 \\\n",
    "    --extract Results/GWAS4/HapMap_SNPs.txt \\\n",
    "    --make-bed \\\n",
    "    --out Results/GWAS4/1kG_MDS4"
   ]
  },
  {
   "cell_type": "markdown",
   "id": "d088b95e-a115-4686-9963-5dfddd931464",
   "metadata": {},
   "source": [
    "This is how part of the list of SNP names looks like:"
   ]
  },
  {
   "cell_type": "code",
   "execution_count": null,
   "id": "a1009efb-9f10-4021-ab18-6f2357206551",
   "metadata": {},
   "outputs": [],
   "source": [
    "cat Results/GWAS4/HapMap_SNPs.txt | head -5"
   ]
  },
  {
   "cell_type": "markdown",
   "id": "08556943-df17-42a8-926b-dce8bcaa557d",
   "metadata": {},
   "source": [
    "Now we take the variants from the reduced 1000GP data, and go the other way around. We extract 1000GP variants from the HapMap data. In other words, the two extraction passages will intersect the SNPs. Below is the code to use the SNPs of the 1000GP data to reduce the HapMap data."
   ]
  },
  {
   "cell_type": "code",
   "execution_count": null,
   "id": "584c7e2c-6a8b-48cb-98f2-4ccd5ab564ab",
   "metadata": {},
   "outputs": [],
   "source": [
    "#Print out SNPs from the HapMap data\n",
    "awk '{print$2}' Results/GWAS4/1kG_MDS4.bim > Results/GWAS4/1kG_MDS4_SNPs.txt\n",
    "\n",
    "#Extract the HapMap SNPs from the 1000GP data\n",
    "plink --bfile Results/GWAS4/HapMap_3_r3_9 \\\n",
    "    --extract Results/GWAS4/1kG_MDS4_SNPs.txt \\\n",
    "    --make-bed \\\n",
    "    --out Results/GWAS4/HapMap_MDS"
   ]
  },
  {
   "cell_type": "markdown",
   "id": "bc4ce52e-8a9e-42ed-8403-f1b254db7d22",
   "metadata": {},
   "source": [
    ":::{.callout-important title=\"Stop - Read - Solve\"}\n",
    "\n",
    "**Look at the two outputs below a bit more carefully. The names are all matching. Is there any other problem?**\n",
    "\n",
    ":::"
   ]
  },
  {
   "cell_type": "code",
   "execution_count": null,
   "id": "70beb88f-7099-4233-83d8-53efe75b0de4",
   "metadata": {},
   "outputs": [],
   "source": [
    "head Results/GWAS4/HapMap_MDS.bim"
   ]
  },
  {
   "cell_type": "code",
   "execution_count": null,
   "id": "337e9c32-7776-4c9a-95ef-87fd1d8e044c",
   "metadata": {},
   "outputs": [],
   "source": [
    "head Results/GWAS4/1kG_MDS4.bim"
   ]
  },
  {
   "cell_type": "markdown",
   "id": "756bd409-b3c2-4494-865b-80053c608dbb",
   "metadata": {},
   "source": [
    "## Build matching\n",
    "\n",
    "Genomic data is based on a reference genome, and our datasets use different human reference versions. Since the reference genome improves over time, SNP positions may differ between datasets from different versions.\n",
    "\n",
    "We extract SNP names and positions from the HapMap data and align the 1000GP data to match these SNPs using the `--update-map` option in PLINK."
   ]
  },
  {
   "cell_type": "code",
   "execution_count": null,
   "id": "e7ad8313-f257-4f10-b396-34d4c03b83d7",
   "metadata": {},
   "outputs": [],
   "source": [
    "#Extract the HapMap variant coordinates\n",
    "awk '{print$2,$4}' Results/GWAS4/HapMap_MDS.bim > Results/GWAS4/buildhapmap.txt"
   ]
  },
  {
   "cell_type": "markdown",
   "id": "222fc25e-adf0-486b-81b6-8d3636db3f8d",
   "metadata": {},
   "source": [
    "This is how the list of SNPs look like:"
   ]
  },
  {
   "cell_type": "code",
   "execution_count": null,
   "id": "0af685c3-65f1-4a27-a251-d250abfe3825",
   "metadata": {},
   "outputs": [],
   "source": [
    "cat Results/GWAS4/buildhapmap.txt | head -5"
   ]
  },
  {
   "cell_type": "markdown",
   "id": "1f3a8904-e134-4b7b-a991-daa772d00f53",
   "metadata": {},
   "source": [
    "We run PLINK to update the 1000GP variant coordinates based on HapMap, ignoring the warning about unsorted positions: "
   ]
  },
  {
   "cell_type": "code",
   "execution_count": null,
   "id": "58fba51d-c89b-449f-8a45-e639a19dfa8e",
   "metadata": {},
   "outputs": [],
   "source": [
    "plink --bfile Results/GWAS4/1kG_MDS4 \\\n",
    "    --update-map Results/GWAS4/buildhapmap.txt \\\n",
    "    --make-bed \\\n",
    "    --out Results/GWAS4/1kG_MDS5"
   ]
  },
  {
   "cell_type": "markdown",
   "id": "fe7fefe9",
   "metadata": {},
   "source": [
    "## Merging datasets and performing MDS\n",
    "\n",
    "Before merging the HapMap and 1000 Genomes datasets, we ensure compatibility through 3 steps:\n",
    "\n",
    "1. Verify the reference genome is compatible in both datasets.\n",
    "2. Align SNP orientations (strand) across datasets.\n",
    "3. Remove SNPs that still differ after these steps.\n",
    "\n",
    "The next steps are technical but ensure the datasets correspond correctly.\n"
   ]
  },
  {
   "cell_type": "markdown",
   "id": "ecb804de-0e80-4146-9361-9a4822124622",
   "metadata": {},
   "source": [
    "**1.** We’ve matched SNP positions, but we also need to ensure the reference alleles align. Remember that most PLINK analyses **consider the A1 allele (typically the minor allele) as the reference allele**, which is logical when dealing exclusively with biallelic variants.\n",
    "\n",
    "Below, we generate a list of SNPs ID and 'reference alleles' (corresponding to A1, column 5 of the `.bim` file) from 1000GP."
   ]
  },
  {
   "cell_type": "code",
   "execution_count": null,
   "id": "97848c6a-85fb-4c1b-a515-f3120c21bf03",
   "metadata": {},
   "outputs": [],
   "source": [
    "#Extract variant coordinates and reference alleles from 1000GP data\n",
    "awk '{print$2,$5}' Results/GWAS4/1kG_MDS5.bim > Results/GWAS4/1kg_ref-list.txt"
   ]
  },
  {
   "cell_type": "markdown",
   "id": "946c213e-2fb5-4bef-9eb9-8e2d46679f7b",
   "metadata": {},
   "source": [
    "How the list looks like:"
   ]
  },
  {
   "cell_type": "code",
   "execution_count": null,
   "id": "7c4cecdd-737c-43ce-b38c-011d074e90f7",
   "metadata": {},
   "outputs": [],
   "source": [
    "head -5 Results/GWAS4/1kg_ref-list.txt"
   ]
  },
  {
   "cell_type": "markdown",
   "id": "42e99d2b-a887-4d20-bb66-1cf5d077d98a",
   "metadata": {},
   "source": [
    "Then, we assign them to the HapMap data `--ref-allele` option. Note a lot fo warnings in A1 allele assignment. This is usually because you have a strand issue, where the data uses a complement"
   ]
  },
  {
   "cell_type": "code",
   "execution_count": null,
   "id": "af745a46-efdb-482e-af1a-f428d5b7302a",
   "metadata": {
    "scrolled": true
   },
   "outputs": [],
   "source": [
    "plink --bfile Results/GWAS4/HapMap_MDS  \\\n",
    "    --make-bed \\\n",
    "    --reference-allele Results/GWAS4/1kg_ref-list.txt  \\\n",
    "    --out Results/GWAS4/HapMap-adj "
   ]
  },
  {
   "cell_type": "markdown",
   "id": "34f5e276-9b2f-486d-83c9-fe7827b9a007",
   "metadata": {},
   "source": [
    "**2.** To resolve strand issues, we flip SNPs found in both datasets with complementary alleles (i.e. they were reported in opposite strands). We generate SNP lists (ID and alleles) for both datasets, identify unique SNPs, and visualize differences in allele reporting. If a SNP is unique but reports alleles differently, it will appear twice. Below are examples of SNPs with strand issues from the 1000GP and HapMap data:"
   ]
  },
  {
   "cell_type": "code",
   "execution_count": null,
   "id": "33e5be15-6808-4ea3-bbdb-56192f731cd6",
   "metadata": {},
   "outputs": [],
   "source": [
    "#print SNP and A1 A2 alleles on files for the two datasets\n",
    "awk '{print$2,$5,$6}' Results/GWAS4/1kG_MDS5.bim > Results/GWAS4/1kGMDS5_tmp\n",
    "awk '{print$2,$5,$6}' Results/GWAS4/HapMap-adj.bim > Results/GWAS4/HapMap-adj_tmp\n",
    "\n",
    "#sort by SNP name to see SNPs with complementary alleles\n",
    "sort Results/GWAS4/1kGMDS5_tmp Results/GWAS4/HapMap-adj_tmp | uniq -u > Results/GWAS4/all_differences.txt"
   ]
  },
  {
   "cell_type": "code",
   "execution_count": null,
   "id": "3e7a86f1-803e-4107-b13f-40c37ed1d35d",
   "metadata": {},
   "outputs": [],
   "source": [
    "head -6 Results/GWAS4/all_differences.txt"
   ]
  },
  {
   "cell_type": "markdown",
   "id": "d59d5c83-84fd-46a8-995a-935ea4b082ed",
   "metadata": {},
   "source": [
    "**How many of these differences are there?** We can count 604 lines, so 302 SNPs"
   ]
  },
  {
   "cell_type": "code",
   "execution_count": null,
   "id": "eb2444e5-1267-4bcd-bae8-055b3e96d4e9",
   "metadata": {},
   "outputs": [],
   "source": [
    "wc -l Results/GWAS4/all_differences.txt"
   ]
  },
  {
   "cell_type": "markdown",
   "id": "51234782-57d7-4bd4-bfc2-77f0131bc31f",
   "metadata": {},
   "source": [
    "Some of these differences might be might be due to strand issues."
   ]
  },
  {
   "cell_type": "markdown",
   "id": "c6ea3ff9-81ab-498c-a3e0-330bcbc78b55",
   "metadata": {},
   "source": [
    "Let's look at this variant `rs10006274`. **Will it be flipped in the HapMap dataset?**\n",
    "\n",
    "The answer is yes! If we look at the reference allele in `1kg_ref-list.txt`, it shows `C`. This means the SNP is on the forward strand in 1000GP (C/T) and on the reverse strand in HapMap (G/A)."
   ]
  },
  {
   "cell_type": "code",
   "execution_count": null,
   "id": "12dc2f26-f2e6-402b-9be1-382e47845b2c",
   "metadata": {},
   "outputs": [],
   "source": [
    "grep rs10006274 Results/GWAS4/1kg_ref-list.txt"
   ]
  },
  {
   "cell_type": "code",
   "execution_count": null,
   "id": "3c51a907-1301-4fc0-b4d8-5e505b6153f1",
   "metadata": {},
   "outputs": [],
   "source": [
    "grep rs10006274 Results/GWAS4/all_differences.txt"
   ]
  },
  {
   "cell_type": "markdown",
   "id": "6b1401f5-2bbb-4162-a98c-5f287dc2d847",
   "metadata": {},
   "source": [
    ":::{.callout-important title=\"Stop - Read - Solve\"}\n",
    "\n",
    "Look at these other SNPs: `rs9614750` and `rs10088098`. \n",
    "\n",
    "- **Which ones will have to be flipped?**\n",
    "- **Is it always the same dataset that must be flipped?**\n",
    "\n",
    ":::"
   ]
  },
  {
   "cell_type": "code",
   "execution_count": null,
   "id": "b8b0ba37-79a7-4d83-8c72-55355a101f1d",
   "metadata": {},
   "outputs": [],
   "source": [
    "# Write your code here "
   ]
  },
  {
   "cell_type": "markdown",
   "id": "0d7221cd-1406-4f6b-b057-5a72cb0a6c00",
   "metadata": {
    "tags": []
   },
   "source": [
    ":::{.callout-tip title=\"Solution\" collapse=\"true\"}\n",
    "We will first print out the SNPs from the reference file to know which line corresponds to each dataset (since we know we used the 1000 Genomes Project as the reference). If there are strand issues, the SNP will need to be flipped in the dataset that wasn't used as the reference.\n"
   ]
  },
  {
   "cell_type": "code",
   "execution_count": null,
   "id": "ad77cb69-bb65-4cfb-92f0-426568021ae0",
   "metadata": {},
   "outputs": [],
   "source": [
    "grep rs9614750 Results/GWAS4/1kg_ref-list.txt "
   ]
  },
  {
   "cell_type": "code",
   "execution_count": null,
   "id": "1b33052c-eee2-4d7d-a6ef-fbd0eaa48eda",
   "metadata": {},
   "outputs": [],
   "source": [
    "grep rs9614750 Results/GWAS4/all_differences.txt"
   ]
  },
  {
   "cell_type": "markdown",
   "id": "ce3ccaaf-fa99-4378-85f0-cc5a77eb156b",
   "metadata": {},
   "source": [
    "For `rs9614750`, the genotype is reported as `A/G` in the 1000GP data, while in HapMap, it is `C/G`. This discrepancy between the two datasets means that the SNP will need to be removed later.\n"
   ]
  },
  {
   "cell_type": "code",
   "execution_count": null,
   "id": "dc56146a-aefa-45ae-9acd-772df3d3eac4",
   "metadata": {},
   "outputs": [],
   "source": [
    "grep rs10088098 Results/GWAS4/1kg_ref-list.txt "
   ]
  },
  {
   "cell_type": "code",
   "execution_count": null,
   "id": "5cabdd69-57d1-4223-a2cc-525ca87d5b3f",
   "metadata": {},
   "outputs": [],
   "source": [
    "grep rs10088098 Results/GWAS4/all_differences.txt"
   ]
  },
  {
   "cell_type": "markdown",
   "id": "d1774ade-79e0-4317-8324-105adb1686bf",
   "metadata": {},
   "source": [
    "For `rs10088098`, the genotype is reported as `C/T` in the 1000GP data, while in HapMap, it is `G/A`. This means that PLINK will flip the allele, as they are complementary."
   ]
  },
  {
   "cell_type": "markdown",
   "id": "f58853d5-e1dc-4f08-a487-d84cbd4ea5d6",
   "metadata": {},
   "source": [
    ":::\n",
    "\n",
    "---"
   ]
  },
  {
   "cell_type": "markdown",
   "id": "409cc2c4-c334-490c-9bac-1c654a9a3832",
   "metadata": {},
   "source": [
    "Now we take only the SNP names and give them to PLINK (option `--flip`), together with the reference genome (option `--reference-allele`):"
   ]
  },
  {
   "cell_type": "code",
   "execution_count": null,
   "id": "d2bb696b-4d7b-423c-a0aa-1df7393af08b",
   "metadata": {},
   "outputs": [],
   "source": [
    "## Flip SNPs for resolving strand issues.\n",
    "# Print SNP-identifier and remove duplicates.\n",
    "awk '{print$1}' Results/GWAS4/all_differences.txt | sort -u > Results/GWAS4/flip_list.txt"
   ]
  },
  {
   "cell_type": "code",
   "execution_count": null,
   "id": "cbda06fc-d78e-4487-ad6a-1835c0dc5ea2",
   "metadata": {},
   "outputs": [],
   "source": [
    "wc -l Results/GWAS4/flip_list.txt"
   ]
  },
  {
   "cell_type": "markdown",
   "id": "df940a85-ba06-4472-b1ef-eb36da383cd8",
   "metadata": {},
   "source": [
    "These are the SNP ID of non-corresponding SNPs (N=302) between the two files. "
   ]
  },
  {
   "cell_type": "code",
   "execution_count": null,
   "id": "e5f8b6e7-9452-4dc2-9430-4227ecedcf82",
   "metadata": {},
   "outputs": [],
   "source": [
    "head -5 Results/GWAS4/flip_list.txt"
   ]
  },
  {
   "cell_type": "markdown",
   "id": "44cba8ed-3b83-4c36-9e97-4aa094814a45",
   "metadata": {},
   "source": [
    "Apply the flipping option: "
   ]
  },
  {
   "cell_type": "code",
   "execution_count": null,
   "id": "436c134e-9986-4218-86a0-98d8f5e3ee29",
   "metadata": {},
   "outputs": [],
   "source": [
    "plink --bfile Results/GWAS4/HapMap-adj \\\n",
    "    --flip Results/GWAS4/flip_list.txt \\\n",
    "    --reference-allele Results/GWAS4/1kg_ref-list.txt \\\n",
    "    --make-bed \\\n",
    "    --out Results/GWAS4/corrected_hapmap \\\n",
    "    --silent"
   ]
  },
  {
   "cell_type": "markdown",
   "id": "a98f3692-398f-4742-80bc-4aafb770fb28",
   "metadata": {},
   "source": [
    ":::{.callout-important title=\"Stop - Read - Solve\"}\n",
    "There might still be problematic SNPs after flipping. \n",
    "\n",
    "- **Check if the expected allele flip occurred.**\n",
    "\n",
    "Hint: use `grep` to find the `rs10006274` and `rs9614750` variants; then compare the alleles assignments in the HapMap file before and after flipping.\n",
    "\n",
    ":::"
   ]
  },
  {
   "cell_type": "code",
   "execution_count": null,
   "id": "75f90b6d-911e-49a0-8cf1-2a09b4c63d16",
   "metadata": {},
   "outputs": [],
   "source": [
    "# Write your code here "
   ]
  },
  {
   "cell_type": "markdown",
   "id": "211a35da-2c83-4ef0-bac2-b26557b38058",
   "metadata": {},
   "source": [
    ":::{.callout-tip title=\"Solution\" collapse=\"true\"}\n",
    "PLINK attempts to flip all SNPs in the list, but an error occurs when A1 does not match the one in the reference.\n"
   ]
  },
  {
   "cell_type": "markdown",
   "id": "f52f2e6a-88ab-4bac-936b-705bf815b061",
   "metadata": {},
   "source": [
    "Notice how this SNP has changed as we predicted: "
   ]
  },
  {
   "cell_type": "code",
   "execution_count": null,
   "id": "bfb8bbac-66f1-40ba-a92b-7beecc1743ff",
   "metadata": {},
   "outputs": [],
   "source": [
    "grep rs10006274 Results/GWAS4/corrected_hapmap.bim"
   ]
  },
  {
   "cell_type": "code",
   "execution_count": null,
   "id": "ffa6dcc8-a48a-4e7b-8ca5-ea18a1a04045",
   "metadata": {},
   "outputs": [],
   "source": [
    "grep rs10006274 Results/GWAS4/HapMap-adj.bim"
   ]
  },
  {
   "cell_type": "markdown",
   "id": "a8c625f8-0540-43a1-a770-72bcac11d7ad",
   "metadata": {},
   "source": [
    "`rs10006274` was flipped and has the same strand orientation in both datasets (same alleles in A1 and A2). \n",
    "\n",
    "What happened to this one? PLINK attempts to resolve the mismatch by flipping the alleles but throws an error because the complementary alleles do not match the reference!"
   ]
  },
  {
   "cell_type": "code",
   "execution_count": null,
   "id": "a120ca9c-d0e3-4f98-b531-2d70989b07ff",
   "metadata": {},
   "outputs": [],
   "source": [
    "grep rs9614750 Results/GWAS4/corrected_hapmap.bim"
   ]
  },
  {
   "cell_type": "code",
   "execution_count": null,
   "id": "26921fb5-c05a-4818-add4-fb9758238055",
   "metadata": {},
   "outputs": [],
   "source": [
    "grep rs9614750 Results/GWAS4/HapMap-adj.bim"
   ]
  },
  {
   "cell_type": "markdown",
   "id": "79a80955-e6c4-488d-ada7-91657832d138",
   "metadata": {},
   "source": [
    ":::\n",
    "\n",
    "---"
   ]
  },
  {
   "cell_type": "markdown",
   "id": "efd0548d-e625-4e43-8c9f-4456f260e940",
   "metadata": {},
   "source": [
    ":::{.callout-note}\n",
    "You don't need to flip the 1000GP data because the reference allele (A1) in the 1000GP data already matches the strand orientation used in the HapMap data.\n",
    "\n",
    ":::"
   ]
  },
  {
   "cell_type": "markdown",
   "id": "3ced8d41-8c85-4657-bf1a-8b58e2eca7fe",
   "metadata": {},
   "source": [
    "**3.** After flipping SNPs, some differ in their alleles when comparing datasets to each other (e.g. SNP `rs9614750`) and such SNPs must be removed. \n",
    "\n",
    "We extract the SNPs from the corrected HapMap data and search for unique SNP (ID, A1, and A2), comparing them with those from the 1000GP data."
   ]
  },
  {
   "cell_type": "code",
   "execution_count": null,
   "id": "1f3db957-1b52-42ea-bcf7-4f542a627600",
   "metadata": {},
   "outputs": [],
   "source": [
    "awk '{print$2,$5,$6}' Results/GWAS4/corrected_hapmap.bim > Results/GWAS4/corrected_hapmap_tmp\n",
    "\n",
    "sort Results/GWAS4/1kGMDS5_tmp Results/GWAS4/corrected_hapmap_tmp | uniq -u  > Results/GWAS4/uncorresponding_SNPs.txt"
   ]
  },
  {
   "cell_type": "markdown",
   "id": "2d8e5e0b-96c5-43f5-b980-e6e7ccc9800f",
   "metadata": {},
   "source": [
    "**How many SNP mismatches are there?**"
   ]
  },
  {
   "cell_type": "code",
   "execution_count": null,
   "id": "3ecd7c1a-c504-4c26-9df3-117282576a3e",
   "metadata": {},
   "outputs": [],
   "source": [
    "wc -l Results/GWAS4/uncorresponding_SNPs.txt"
   ]
  },
  {
   "cell_type": "markdown",
   "id": "15ded8f4-2e95-468c-bd80-274fdeb7b690",
   "metadata": {},
   "source": [
    "This corresponds to 12 unique SNP IDs with mismatched information."
   ]
  },
  {
   "cell_type": "code",
   "execution_count": null,
   "id": "a0cd231c-0467-4d12-b37d-a9d7d0d765ec",
   "metadata": {},
   "outputs": [],
   "source": [
    "head Results/GWAS4/uncorresponding_SNPs.txt "
   ]
  },
  {
   "cell_type": "markdown",
   "id": "ab856d5a-82a6-40f9-9d96-60a1f1c84f4f",
   "metadata": {},
   "source": [
    "We extract again the SNP IDs from the file above, and exclude them using the PLINK option `--exclude` in both datasets"
   ]
  },
  {
   "cell_type": "code",
   "execution_count": null,
   "id": "c847f8ba-c42a-4cbe-933b-a8f7b44472f4",
   "metadata": {},
   "outputs": [],
   "source": [
    "awk '{print$1}' Results/GWAS4/uncorresponding_SNPs.txt | sort -u > Results/GWAS4/SNPs_for_exclusion.txt\n",
    "\n",
    "plink --bfile Results/GWAS4/corrected_hapmap \\\n",
    "    --exclude Results/GWAS4/SNPs_for_exclusion.txt \\\n",
    "    --make-bed \\\n",
    "    --out Results/GWAS4/HapMap_MDS3 \\\n",
    "    --silent\n",
    "    \n",
    "plink --bfile Results/GWAS4/1kG_MDS5 \\\n",
    "    --exclude Results/GWAS4/SNPs_for_exclusion.txt \\\n",
    "    --make-bed \\\n",
    "    --out Results/GWAS4/1kG_MDS6 \\\n",
    "    --silent"
   ]
  },
  {
   "cell_type": "markdown",
   "id": "de731b29-4e7b-4f2e-8f57-e9423828be9e",
   "metadata": {},
   "source": [
    "**5.** We can finally merge the data! We provide our dataset (`-bfile`) and the one to add (`--bmerge` option):"
   ]
  },
  {
   "cell_type": "code",
   "execution_count": null,
   "id": "02eb4e5a-5904-4b27-9fab-45ca16d4f608",
   "metadata": {},
   "outputs": [],
   "source": [
    "plink --bfile Results/GWAS4/corrected_hapmap \\\n",
    "    --bmerge Results/GWAS4/1kG_MDS6.bed Results/GWAS4/1kG_MDS6.bim Results/GWAS4/1kG_MDS6.fam \\\n",
    "    --allow-no-sex \\\n",
    "    --make-bed \\\n",
    "    --out Results/GWAS4/MDS_merge \\\n",
    "    --silent"
   ]
  },
  {
   "cell_type": "markdown",
   "id": "05607f1c-b5e1-4ec7-8930-fd0912557dbe",
   "metadata": {},
   "source": [
    "### Perform MDS on HapMap-CEU data anchored by 1000 Genomes data."
   ]
  },
  {
   "cell_type": "markdown",
   "id": "3cf8f6cc",
   "metadata": {},
   "source": [
    "MDS is typically performed on independent SNPs (pruned SNPs). We have previously identified such SNPs in this course, so we will extract only these SNPs for the analysis."
   ]
  },
  {
   "cell_type": "code",
   "execution_count": null,
   "id": "07f84ea8",
   "metadata": {
    "tags": []
   },
   "outputs": [],
   "source": [
    "plink --bfile Results/GWAS4/MDS_merge \\\n",
    "    --extract Results/GWAS3/indepSNP.prune.in \\\n",
    "    --genome \\\n",
    "    --out Results/GWAS4/MDS_merge \\\n",
    "    --silent"
   ]
  },
  {
   "cell_type": "markdown",
   "id": "40527002-38d8-4adb-84dd-02d302d672fc",
   "metadata": {},
   "source": [
    "Now, we can use PLINK to run MDS with the option `---mds-plot` specifying the number of components to calculate."
   ]
  },
  {
   "cell_type": "code",
   "execution_count": null,
   "id": "fc3a311a-58e6-4d28-9cf0-127257a924c3",
   "metadata": {},
   "outputs": [],
   "source": [
    "# mds-plot\n",
    "plink --bfile Results/GWAS4/MDS_merge \\\n",
    "    --read-genome Results/GWAS4/MDS_merge.genome \\\n",
    "    --cluster \\\n",
    "    --mds-plot 10 \\\n",
    "    --out Results/GWAS4/MDS_merge \\\n",
    "    --silent"
   ]
  },
  {
   "cell_type": "markdown",
   "id": "e855e1ab-2177-407f-a2a3-569fedb965b3",
   "metadata": {},
   "source": [
    "For visualization purposes, we downloaded the 1000 Genomes Project (1000GP) panel, which includes individual names and their corresponding population information."
   ]
  },
  {
   "cell_type": "code",
   "execution_count": null,
   "id": "5a3f6fea-bb10-4d5c-8909-ab682020a41c",
   "metadata": {
    "tags": []
   },
   "outputs": [],
   "source": [
    "wget ftp://ftp.1000genomes.ebi.ac.uk/vol1/ftp/release/20100804/20100804.ALL.panel -P Results/GWAS4 -q"
   ]
  },
  {
   "cell_type": "markdown",
   "id": "1ec78f9f-69a9-469c-8fc3-4381dc133665",
   "metadata": {},
   "source": [
    "To determine the population origins of HapMap individuals, we created a new file that combines the 1000GP panel information with the HapMap data, labeling the population HapMap entries as 'OWN'."
   ]
  },
  {
   "cell_type": "code",
   "execution_count": null,
   "id": "ac3d0b03-be57-4fc2-964e-8d32f9d6a4b2",
   "metadata": {
    "tags": []
   },
   "outputs": [],
   "source": [
    "awk '{print$1,$2,\"OWN\"}' Results/GWAS4/HapMap_MDS.fam > Results/GWAS4/popfile_own.txt\n",
    "awk '{print$1,$1,$2}' Results/GWAS4/20100804.ALL.panel > Results/GWAS4/20100804.ALL.panel.txt\n",
    "\n",
    "cat <(echo \"FID IID POP\") Results/GWAS4/20100804.ALL.panel.txt Results/GWAS4/popfile_own.txt > Results/GWAS4/popfile.txt"
   ]
  },
  {
   "cell_type": "markdown",
   "id": "2196facd-2e54-4382-9cf6-32a7cbcde299",
   "metadata": {},
   "source": [
    ":::{.callout-note}\n",
    "\n",
    "The 1000 Genomes Project (1000GP) categorizes individuals into major continental groups—such as Europeans (EUR), Africans (AFR), Americans (AMR), East Asians (EAS), and South Asians (SAS)—each comprising various subpopulations. We will use this population structure information to visualize and determine the clusters our samples belong to.\n",
    "\n",
    "![](./Images/1000GP.png){width=800px}\n",
    "\n",
    ":::"
   ]
  },
  {
   "cell_type": "markdown",
   "id": "9868d96e-fe7e-41ba-a020-0a6e9b59af33",
   "metadata": {},
   "source": [
    "<img src=\"Images/R.png\" alt=\"R\" width=\"40\"> Switch to the R kernel.\n",
    "\n",
    "Let's visualize population stratification using the multidimensional scaling (MDS) results. \n"
   ]
  },
  {
   "cell_type": "code",
   "execution_count": null,
   "id": "eac20c80-bb26-4175-a870-660892297e46",
   "metadata": {
    "tags": []
   },
   "outputs": [],
   "source": [
    "options(repr.plot.width = 12, repr.plot.height = 6)\n",
    "\n",
    "suppressMessages(suppressWarnings(library(ggplot2)))\n",
    "\n",
    "# Read data into R \n",
    "data <- read.table(file=\"Results/GWAS4/MDS_merge.mds\",header=TRUE)\n",
    "pop <- read.table(file=\"Results/GWAS4/popfile.txt\",header=TRUE)\n",
    "datafile <- merge(data,pop,by=c(\"FID\",\"IID\"))\n",
    "\n",
    "# Metapopulation information for the population in the 1000GP dataset\n",
    "superpop <- c(\n",
    "  \"JPT\" = \"ASN\",\n",
    "  \"ASW\" = \"AFR\",\n",
    "  \"CEU\" = \"EUR\",\n",
    "  \"CHB\" = \"ASN\",\n",
    "  \"CHD\" = \"ASN\",\n",
    "  \"YRI\" = \"AFR\",\n",
    "  \"LWK\" = \"AFR\",\n",
    "  \"TSI\" = \"EUR\",\n",
    "  \"MXL\" = \"AMR\",\n",
    "  \"GBR\" = \"EUR\",\n",
    "  \"FIN\" = \"EUR\",\n",
    "  \"CHS\" = \"ASN\",\n",
    "  \"PUR\" = \"AMR\",\n",
    "  \"OWN\" = \"UN\"\n",
    ")\n",
    "\n",
    "# add metapopulation info to the table \n",
    "datafile$SUPERPOP <- superpop[datafile$POP]\n",
    "\n",
    "# Plotting                \n",
    "scatter.mds <- ggplot(datafile, aes(x=C1, y=C2, color=SUPERPOP)) +\n",
    "  geom_point(size=5, alpha=.4) +\n",
    "  scale_color_manual(values=c(\"AFR\" = \"red\", \"AMR\" = \"springgreen4\", \"ASN\" = \"gold\", \"EUR\" = \"blue\", \"UN\" = \"grey\" )) +\n",
    "  xlab(\"MD Component 1\") + \n",
    "  ylab(\"MD Component 2\") +\n",
    "  labs(color=\"Superpop\") +\n",
    "  theme_bw() +\n",
    "  theme(axis.title = element_text(size = 14), legend.text = element_text(size = 15), \n",
    "        axis.text = element_text(size = 14), legend.title=element_text(size=15))\n",
    "  \n",
    "show(scatter.mds)"
   ]
  },
  {
   "cell_type": "markdown",
   "id": "f93bc0e6-68b5-4f68-922e-e18cd35a38b3",
   "metadata": {},
   "source": [
    "The HapMap data clusters closely with European populations such as CEU, TSI, IBS, GBR, and FIN, confirming its European composition. Additionally, the absence of distant points indicates no outliers in the HapMap dataset (grey datapoints cluster together).\n"
   ]
  },
  {
   "cell_type": "markdown",
   "id": "1a351cee",
   "metadata": {},
   "source": [
    "#### Exclude ethnic outliers\n",
    "\n",
    "To control for population structure, individuals that deviate substantially from their genetically inferred ancestry cluster are often excluded. A common approach is to calculate genetic principal components (PCs) and compute each individual's Mahalanobis or Euclidean distance from the center of their assigned cluster; individuals beyond a predefined threshold (e.g., >4 standard deviations) are considered population outliers and removed from downstream analysis.\n",
    "\n",
    "Now, imagine we want to consider only European individuals for a specific analysis where we want only such a homogeneous population. Then the rest of the individuals would be considered outliers. \n",
    "\n",
    ":::{.callout-important title=\"Stop - Read - Solve\"}\n",
    "Based on the PCA plot, visually inspect the distribution of individuals along the top principal components and determine approximate threshold values beyond which samples should be considered outliers and excluded. **What cutoff values would you apply in this context, and why?**\n",
    ":::\n"
   ]
  },
  {
   "cell_type": "markdown",
   "id": "a28245a8-513e-44e2-a29c-39f184131dc9",
   "metadata": {},
   "source": [
    ":::{.callout-tip title=\"Solution\" collapse=\"true\"}\n",
    "\n",
    "Based on the position of the target population's cluster in the MDS plot, we will exclude individuals that fall outside the European cluster in the PCA.\n",
    "\n",
    "<img src=\"Images/bash.png\" alt=\"Bash\" width=\"40\"> Switch to the Bash kernel. Let's see how the MDS table is structured:\n"
   ]
  },
  {
   "cell_type": "code",
   "execution_count": null,
   "id": "89a3b1b8-0600-4970-bbd8-26c61e593aa3",
   "metadata": {},
   "outputs": [],
   "source": [
    "head -3 Results/GWAS4/MDS_merge.mds | cut -f1-6 -d$'\\t'"
   ]
  },
  {
   "cell_type": "markdown",
   "id": "637b5106-7e6c-4c3a-ae92-a336b899a53d",
   "metadata": {},
   "source": [
    "The first three columns denote samples, while *C1, C2, ...* are MDS components. We will select the individuals we want to keep based on coordinates *C1, C2*, so the area to be chosen has to be C1<0 and C2<0.05. Thus we take the values in columns 4 and 5 of the file , and extract the individuals using PLINK with the option `--keep`. "
   ]
  },
  {
   "cell_type": "code",
   "execution_count": null,
   "id": "3e022245",
   "metadata": {
    "tags": []
   },
   "outputs": [],
   "source": [
    "#print samples to keep in a file\n",
    "awk '{ if ($4 <0 && $5<0.05) print $1,$2 }' Results/GWAS4/MDS_merge.mds > Results/GWAS4/EUR_MDS_merge\n",
    "\n",
    "#use the keep --option\n",
    "plink --bfile Results/GWAS4/MDS_merge \\\n",
    "    --keep Results/GWAS4/EUR_MDS_merge \\\n",
    "    --make-bed  \\\n",
    "    --out Results/GWAS4/EUR_MDS_merge"
   ]
  },
  {
   "cell_type": "markdown",
   "id": "2a3e381d-7010-4168-9166-7b21c307e962",
   "metadata": {},
   "source": [
    "How many people are we left with? see the output message above or find the log file"
   ]
  },
  {
   "cell_type": "code",
   "execution_count": null,
   "id": "586984f7-2176-47d8-ac5a-5ed57527dffe",
   "metadata": {},
   "outputs": [],
   "source": [
    "grep \"remaining\" Results/GWAS4/EUR_MDS_merge.log"
   ]
  },
  {
   "cell_type": "markdown",
   "id": "50aab187-03db-4925-8bbb-ffc9f9b88b19",
   "metadata": {},
   "source": [
    ":::\n",
    "\n",
    "---"
   ]
  },
  {
   "cell_type": "markdown",
   "id": "3a4836bc-5b88-4bbe-ac64-715d205895ba",
   "metadata": {},
   "source": [
    "#### Creating covariates for GWAS analysis\n",
    "\n",
    "The 10 MDS dimensions will be used as covariates in the association analysis in the next tutorial to correct for population stratification. The covariate file is created by removing column 3 (`SOL`, optional metadata) from the MDS output file.\n",
    "\n",
    ":::{.callout-important title=\"Stop - Read - Solve\"}\n",
    "**Why are we computing the covariates again?**\n",
    ":::"
   ]
  },
  {
   "cell_type": "markdown",
   "id": "40caea78-ce15-4eb9-ad54-e47e22ef2420",
   "metadata": {},
   "source": [
    ":::{.callout-tip title=\"Solution\" collapse=\"true\"}\n",
    "\n",
    "The data has been filtered, and the remaining samples will have a very tight MDS structure, since they were projected in relationship to other very different samples. Now we might want to capture some substructure in the CEU population instead.\n",
    "\n",
    ":::\n"
   ]
  },
  {
   "cell_type": "markdown",
   "id": "442dc1b1-d340-447d-99ee-3e87d7ba0807",
   "metadata": {},
   "source": [
    "This time we will not use MDS projection, but the PCA implemented in PLINK2. In our dataset this will not change much (actually it might be a bit slower, because it also recalculates the relatedness matrix and normalizes it), but for large datasets PCA is faster, and you can also use an approximated PCA which is even faster on many thousands of samples ([all details here in the manual](https://www.cog-genomics.org/plink/2.0/strat)). The default is to calculate ten components, but you can for example choose more as we fo here. `biallelic-var-wts` ensures PLINK2 does not apply its own filtering to our data."
   ]
  },
  {
   "cell_type": "code",
   "execution_count": null,
   "id": "0abd5a00-4797-406c-b73c-b1ebfaaba15d",
   "metadata": {
    "tags": []
   },
   "outputs": [],
   "source": [
    "plink2 --bfile Results/GWAS4/EUR_MDS_merge \\\n",
    "    --pca 20 biallelic-var-wts \\\n",
    "    --out Results/GWAS4/EUR_MDS_merge"
   ]
  },
  {
   "cell_type": "markdown",
   "id": "d80c8456-138d-4f9a-a74e-69212c49a4d0",
   "metadata": {},
   "source": [
    "The output file looks like this, where the PCA components start from the third columns"
   ]
  },
  {
   "cell_type": "code",
   "execution_count": null,
   "id": "afa25e6e-48c1-4198-b379-71d869dadff7",
   "metadata": {},
   "outputs": [],
   "source": [
    "head Results/GWAS4/EUR_MDS_merge.eigenvec"
   ]
  },
  {
   "cell_type": "markdown",
   "id": "88a434d7-8d56-4bf9-bfe5-6315665559e4",
   "metadata": {},
   "source": [
    "<img src=\"Images/R.png\" alt=\"Bash\" width=\"40\"> Switch to the R kernel. Let's print the PCA again."
   ]
  },
  {
   "cell_type": "code",
   "execution_count": null,
   "id": "9575b0c5-ba59-4320-b13d-2db74bad5ead",
   "metadata": {},
   "outputs": [],
   "source": [
    "library(ggplot2)\n",
    "library(data.table)  # For fast data reading\n",
    "\n",
    "# Load the PCA eigenvector file\n",
    "pca_data <- fread(\"Results/GWAS4/EUR_MDS_merge.eigenvec\", header = TRUE)\n",
    "\n",
    "# Preview the data\n",
    "head(pca_data)\n",
    "dim(pca_data)"
   ]
  },
  {
   "cell_type": "markdown",
   "id": "a33c6a39-9e08-43bf-8760-321f0d52c785",
   "metadata": {},
   "source": [
    "We can see some substructure, where most individuals are tightly clustered together."
   ]
  },
  {
   "cell_type": "code",
   "execution_count": null,
   "id": "9d0404e9-41d5-4e2c-b74d-0e3100d1bf4a",
   "metadata": {},
   "outputs": [],
   "source": [
    "ggplot(pca_data, aes(x = PC1, y = PC2)) +\n",
    "  geom_point(size = 2, alpha = 0.8) +\n",
    "  labs(title = \"PCA of GWAS CEU data\",\n",
    "       x = \"PC1\",\n",
    "       y = \"PC2\") +\n",
    "  theme_minimal() +\n",
    "  theme(legend.position = \"right\")\n"
   ]
  },
  {
   "cell_type": "markdown",
   "id": "06e6a1a0-7ba4-44d1-84b3-5514fefa6d81",
   "metadata": {},
   "source": [
    "<img src=\"Images/bash.png\" alt=\"Bash\" width=\"40\"> Switch to the Bash kernel.\n",
    "\n",
    "To make the file usable as a covariate we remove the very first character # from the column name of the PCA output:"
   ]
  },
  {
   "cell_type": "code",
   "execution_count": null,
   "id": "c0310f6a-c35c-45fd-86a8-c57b67c857e1",
   "metadata": {
    "tags": []
   },
   "outputs": [],
   "source": [
    "sed 's/^#//' Results/GWAS4/EUR_MDS_merge.eigenvec > Results/GWAS4/covar_pca.txt"
   ]
  },
  {
   "cell_type": "markdown",
   "id": "8b1cf38d",
   "metadata": {},
   "source": [
    "The `covar_pca.txt` now looks like this"
   ]
  },
  {
   "cell_type": "code",
   "execution_count": null,
   "id": "62ac8a2d-6153-443c-be20-0906f4a3262b",
   "metadata": {},
   "outputs": [],
   "source": [
    "head -5 Results/GWAS4/covar_pca.txt"
   ]
  },
  {
   "cell_type": "markdown",
   "id": "c6083ac0-784e-4f78-ac0c-ddd7ef000835",
   "metadata": {},
   "source": [
    "instead of"
   ]
  },
  {
   "cell_type": "code",
   "execution_count": null,
   "id": "192293f5-3e49-4766-a03b-9a829d21bdb9",
   "metadata": {},
   "outputs": [],
   "source": [
    "head -5 Results/GWAS4/EUR_MDS_merge.eigenvec"
   ]
  },
  {
   "cell_type": "markdown",
   "id": "0ce66796",
   "metadata": {},
   "source": [
    ":::{.callout-note title=\"Wrapping up\"}\n",
    "\n",
    "You have now successfully checked your data for relatedness population stratification. You filtered out the individuals with high relatedness and produced a summary of the population structure using the MDS projection. You will use the MDS coordinates as a proxy for the population structure you want your association testing to be corrected for.  \n",
    "\n",
    "In the next notebook on **Association Testing**, you will need the following files from the folder `Results/GWAS4/`:\n",
    "\n",
    "- `EUR_MDS_merge` PLINK file set\n",
    "- `covar_pca.txt`\n",
    "  \n",
    "which are the HapMap data and the MDS covariates, highlighting population stratification within the European cluster. Those are already available once you have been running this notebook.\n",
    "\n",
    "Below is a cheat sheet of our new methods of QC.\n",
    "\n",
    "\n",
    "| Step| Command| Function| Thresholds and explanation|\n",
    "|------------------------------|------------------------|---------------------------------------------------------------------------------------------------------------------------------------------------------------------------------------------------------------------|-------------------------------------------------------------------------------------------------------------------------------------------------------------------------------------------------------------------------------------------------------------------------------------------------------------------------------------------------------------------------------------------------------------------------|\n",
    "| 7: Population Stratification | `--cluster --mds-plot k` (PLINK) | Produces a  k‐dimensional representation of any substructure in the data, based on IBS.| K is the number of dimensions, which needs to be defined  (typically 10). This is an important step in the QC process that consists of multiple procedures; however, for the sake of completeness, we briefly refer to  this step in the table. This step will be described in more detail in the section “Controlling for population stratification.” |\n",
    "| - | `--pca k biallelic-var-wts` (PLINK2) | produces a PCA projection with `k` principal components, based on the normalized genetic relationship matrix.  `biallelic-var-wts` ensures that PLINK2's own filtering is not applied. | - |\n",
    "\n",
    ":::\n",
    "\n",
    "# Bibliography"
   ]
  },
  {
   "cell_type": "code",
   "execution_count": null,
   "id": "1133029f-9f4e-4380-a04c-0594d5a34c8f",
   "metadata": {},
   "outputs": [],
   "source": []
  }
 ],
 "metadata": {
  "kernelspec": {
   "display_name": "Bash",
   "language": "bash",
   "name": "bash"
  },
  "language_info": {
   "codemirror_mode": "shell",
   "file_extension": ".sh",
   "mimetype": "text/x-sh",
   "name": "bash"
  }
 },
 "nbformat": 4,
 "nbformat_minor": 5
}
