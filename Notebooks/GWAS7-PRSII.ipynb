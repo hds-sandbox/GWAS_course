{
 "cells": [
  {
   "cell_type": "markdown",
   "id": "26a9e083-2461-4b32-9e6d-da2f4ece7bb3",
   "metadata": {},
   "source": [
    "---\n",
    "format:\n",
    "  html:\n",
    "    code-fold: false\n",
    "    toc: true\n",
    "  ipynb:\n",
    "    toc: true\n",
    "    number-sections: false\n",
    "bibliography: references/references_5.bib\n",
    "---"
   ]
  },
  {
   "cell_type": "markdown",
   "id": "ac338aaf-cb78-4ee7-9259-d8a16e259ba4",
   "metadata": {},
   "source": [
    "# Polygenic scores II \n",
    "\n",
    "::: {.callout-note title=\"Important notes for this notebook\" icon=false}\n",
    "\n",
    "In this notebook, we have data for a toy quantitative trait, so you'll need to perform a basic polygenic risk score analysis and explore the results in a manner similar to what we did in the previous notebook.\n",
    "\n",
    "## Learning outcomes\n",
    "\n",
    "- **Discuss and choose** the PRS equation \n",
    "- **Discuss** PRS scores and biases\n",
    "\n",
    "## How to make this notebook work\n",
    "\n",
    "* We will use both `R` and `bash command line` programming languages. Remember to **change the kernel** whenever you transition from one language to the other (`Kernel --> Change Kernel`) indicated by the languages' images. We will first run `Bash` commands.  \n",
    "  \n",
    "<img src=\"Images/bash.png\" alt=\"Bash\" width=\"80\"> Choose the Bash kernel\n",
    " \n",
    ":::"
   ]
  },
  {
   "cell_type": "markdown",
   "id": "af49ccdd-4b4d-44b4-83ba-f579a5420df4",
   "metadata": {},
   "source": [
    "# PRSice analysis II \n",
    "\n",
    "We will be working with a new preprocessed simulated dataset that has already undergone quality control. Our analysis includes summary statistics from a powerful base GWAS (in this case, for height) and a target dataset consisting of European individuals in PLINK format. In this tutorial, we will incorporate covariates and principal components (PCs) in the polygenic score calculation. \n",
    "\n",
    "Let's create a folder for the output files. "
   ]
  },
  {
   "cell_type": "code",
   "execution_count": 1,
   "id": "db774569-7628-425f-bac2-eb24c509279a",
   "metadata": {},
   "outputs": [],
   "source": [
    "mkdir -p Results/GWAS7\n",
    "\n",
    "# Create two links to data and software\n",
    "ln -sf ../Data"
   ]
  },
  {
   "cell_type": "markdown",
   "id": "dcac484e-ab5e-4f56-b739-f82ff621db58",
   "metadata": {},
   "source": [
    ":::{.callout-important title=\"Stop - Read - Solve\"}\n",
    "\n",
    "You have already run the PRSice software for binary traits. Now, it's your turn to do the same for height. What type of phenotype is this? \n",
    "\n",
    "The data: \n",
    "\n",
    "- **Height.QC.gz**: post-QC summary statistics\n",
    "- **EUR.QC.**: prefix of plink files for the target sample\n",
    "- **EUR.height**: file containing measurements \n",
    "- **EUR.covariate**: this file contains the principal components and sex as covariates. Since PRSice only accepts a single covariate file, you may need to merge the *.cov and *.eigenvec files if you used PLINK for quality control.\n",
    "\n",
    "Please, apply the following filter to the base GWAS: \n",
    "\n",
    "- Filter out SNPs with MAF < 0.01 in the GWAS summary statistics, using the information in the `MAF` column\n",
    "- Filter out SNPs with INFO < 0.8 in the GWAS summary statistics, using the information in the `INFO` column\n",
    "\n",
    "**Adjust the code from the previous notebooks to run PRSice software on the new dataset**. Check out the user manual if you need extra help: https://choishingwan.github.io/PRSice/. \n",
    "\n",
    "We recommend using the `qqman` library in R to visualize the **Manhattan plot** and **QQ-plot**  of the base GWAS results to assess the distribution of association signals before computing the PRS.\n",
    "\n",
    ":::\n"
   ]
  },
  {
   "cell_type": "code",
   "execution_count": null,
   "id": "150eb3ab-6bdb-4ca9-bc85-93748cdb89ab",
   "metadata": {},
   "outputs": [],
   "source": [
    "# Write R code here\n",
    "# Setup to avoid long messages and plot on screen\n",
    "options(warn=-1)\n",
    "options(jupyter.plot_mimetypes = 'image/png')\n",
    "\n",
    "# Load GWAS package qqman\n",
    "suppressMessages(library(\"qqman\"))\n"
   ]
  },
  {
   "cell_type": "code",
   "execution_count": null,
   "id": "354e0c57-88f1-4aa8-a58b-998254bb29e9",
   "metadata": {},
   "outputs": [],
   "source": [
    "# Write PRSice command here"
   ]
  },
  {
   "cell_type": "markdown",
   "id": "8b4ece35-852e-4546-8886-b137c3f9dd0f",
   "metadata": {},
   "source": [
    ":::{.callout-important title=\"Stop - Read - Solve\"}\n",
    "Once you have the PRS results, answer the following questions: \n",
    "\n",
    "- Which P-value threshold generated the \"best-fit\" PRS?\n",
    "- How much phenotypic variation does the \"best-fit\" PRS explain?\n",
    "\n",
    "Hint: Check the `<PREFIX>.summary` file. \n",
    "\n",
    ":::"
   ]
  },
  {
   "cell_type": "code",
   "execution_count": null,
   "id": "7b29b47d-6677-4c84-9e1b-f5e17f3e98a2",
   "metadata": {},
   "outputs": [],
   "source": [
    "# Write your answer here"
   ]
  },
  {
   "cell_type": "markdown",
   "id": "c19177a2-e3fb-44d8-8b6d-41bbd97916a5",
   "metadata": {},
   "source": [
    ":::{.callout-important title=\"Stop - Read - Solve\"}\n",
    "Since height differs across sexes, let's focus on visualizing the relationship between the \"best-fit\" PRS and the phenotype of interest, colored according to sex.\n",
    ":::"
   ]
  },
  {
   "cell_type": "code",
   "execution_count": null,
   "id": "e48d3d70-80ed-4bb0-ba40-380339dbb6fe",
   "metadata": {},
   "outputs": [],
   "source": [
    "# Write your code for plotting here "
   ]
  },
  {
   "cell_type": "markdown",
   "id": "b4090700-2bde-4582-9765-2ef35424f1e5",
   "metadata": {},
   "source": [
    "::: {.callout-tip}\n",
    "# Click to view answers\n",
    "<i class=\"bi bi-journal-code\"></i> [prs2-solutions.ipynb](exercises/gwas7-prs.ipynb)\n",
    "\n",
    ":::"
   ]
  },
  {
   "cell_type": "markdown",
   "id": "07543191-9592-4bbf-b3d0-96525054e0b8",
   "metadata": {},
   "source": [
    "Do you want to explore other post-GWAS analyses? Visit this [GitHub repository](https://github.com/eskederks/eMAGMA-tutorial) for a step-by-step guide on eMAGMA, a framework that converts GWAS summary statistics into gene-level statistics by assigning risk variants to putative genes using tissue-specific eQTL information."
   ]
  }
 ],
 "metadata": {
  "kernelspec": {
   "display_name": "Bash",
   "language": "bash",
   "name": "bash"
  },
  "language_info": {
   "codemirror_mode": "shell",
   "file_extension": ".sh",
   "mimetype": "text/x-sh",
   "name": "bash"
  }
 },
 "nbformat": 4,
 "nbformat_minor": 5
}
