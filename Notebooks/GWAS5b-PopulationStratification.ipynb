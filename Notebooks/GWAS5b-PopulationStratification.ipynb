{
 "cells": [
  {
   "cell_type": "markdown",
   "id": "6cff8c18-a94d-4d93-a673-8607d963fd56",
   "metadata": {},
   "source": [
    "---\n",
    "title: \"Population stratification\"\n",
    "format:\n",
    "  html:\n",
    "    code-fold: false\n",
    "    toc: true\n",
    "  ipynb:\n",
    "    toc: true\n",
    "    number-sections: false\n",
    "bibliography: references/references_7.bib\n",
    "---"
   ]
  },
  {
   "cell_type": "markdown",
   "id": "b704d1bb-3dc9-4705-a3ef-22fa1dda47c1",
   "metadata": {},
   "source": [
    "::: {.callout-note title=\"Important notes for this notebook\" icon=false}\n",
    "\n",
    "As we’ve discussed, removing population structure is crucial, as residual population stratification—highlighted by [@sohail2019polygenic]—can even be detected in published GWAS. This can lead to biased effect size estimates, impacting polygenic risk scores and other downstream analyses. In this notebook, we will further explore one way of detecting population stratification in GWAS. Since we were uncertain whether we were being too strict when correcting for population structure, or if the GWAS lacked sufficient power, this analysis will help us clarify if we can trust our results. \n",
    "\n",
    "## Learning outcomes\n",
    "\n",
    "- Identify potential population stratification in our GWAS output. \n",
    "\n",
    "## How to make this notebook work\n",
    "\n",
    "* In this notebook, we will use both `R` and `bash command line` programming languages. Remember to **change the kernel** whenever you transition from one language to the other (`Kernel --> Change Kernel`) indicated by the languages' images. We will first run `Bash` commands.  \n",
    "  \n",
    "<img src=\"Images/bash.png\" alt=\"Bash\" width=\"80\"> Choose the Bash kernel\n",
    " \n",
    ":::\n",
    "\n"
   ]
  },
  {
   "cell_type": "markdown",
   "id": "e11012dc-2b1c-4c1b-a375-b8fde5a0a882",
   "metadata": {},
   "source": [
    "### Correlation between PC loadings and effect sizes\n",
    "We followed a similar approach from [@sohail2019polygenic] to examine GWAS stratification along different PCA axes of population structure. We began by performing a PCA on the genotype data from the 1000 Genomes Project used in the previous notebook. Then, we computed the correlation between the first 10 PCA loadings and the effect size estimates from the GWAS conducted on the Hapmap data. We visualized these PC-specific correlations to explore patterns of stratification along different axes of genetic variation. Additionally, it would be very useful to consider allele frequency differences across different populations when analyzing such stratification.\n",
    "\n",
    "We use PLINK's `--pca var-wts` command on the set of independent variants (`indepSNP.prune.in`) to obtain the PC loadings."
   ]
  },
  {
   "cell_type": "code",
   "execution_count": null,
   "id": "356bce29-20f8-4bca-842c-3c4ca3cf5559",
   "metadata": {},
   "outputs": [],
   "source": [
    "plink --bfile Results/GWAS4/1kG_MDS6  \\\n",
    "    --extract Results/GWAS3/indepSNP.prune.in \\\n",
    "    --pca 10 var-wts \\\n",
    "    --out Results/GWAS4/PCA_1kg \\\n",
    "    --silent"
   ]
  },
  {
   "cell_type": "markdown",
   "id": "ca66915c-714b-4db0-a4ed-9bee1f84d470",
   "metadata": {},
   "source": [
    "<img src=\"Images/R.png\" alt=\"R\" width=\"40\"> Switch to the R kernel.\n",
    "\n",
    "Now we will plot the correlation between the loadings and the effect sizes for both association results from the previous notebooks. \n",
    "\n",
    "#### A. Summary statistics from `--assoc` test"
   ]
  },
  {
   "cell_type": "code",
   "execution_count": null,
   "id": "ca04bc63-8c6b-46d4-8a06-d4e23e2daedb",
   "metadata": {},
   "outputs": [],
   "source": [
    "library(ggplot2)\n",
    "\n",
    "# load the data \n",
    "results_as <- read.table(\"Results/GWAS5/assoc_results.assoc\", head=TRUE)\n",
    "data <- read.table(file=\"Results/GWAS4/PCA_1kg.eigenvec.var\",header=FALSE)\n",
    "colnames(data) <- c(\"CHROM\", \"ID\", \"a1\", \"a2\", \n",
    "                    paste0(\"PC\", 1:10))  # PC1 to PC10\n",
    "# merge data \n",
    "merged_tab <- merge(results_as, data, by=2)\n",
    "# compute correlations \n",
    "correlations <- apply(merged_tab[, 14:23], 2, function(x) cor(merged_tab$OR, x, method=\"pearson\", use=\"complete.obs\"))\n",
    "\n",
    "dataCor <- data.frame(\n",
    "  pc = 1:10,\n",
    "  corr = correlations)\n",
    "\n",
    "\n",
    "ggplot(as.data.frame(dataCor), aes(pc, corr)) +\n",
    "    ylab(expression(rho(PC, OR))) +\n",
    "    geom_bar(stat='identity', position='dodge', col='black')+\n",
    "    xlab('PC') + \n",
    "    ylim(c(-0.1,0.1)) +\n",
    "    scale_x_continuous(breaks=seq(1,10,1), expand=c(0,0.1))+\n",
    "    theme(panel.grid.minor=element_blank(), panel.background = element_blank(),\n",
    "            axis.line = element_line(), axis.text= element_text(size=12),\n",
    "          axis.title= element_text(size=12))\n"
   ]
  },
  {
   "cell_type": "markdown",
   "id": "eb56de67-59fa-416a-9c37-291b81a23d8e",
   "metadata": {},
   "source": [
    "#### B. Summary statistics from `--logistic` test\n",
    "\n",
    "Let's calculate Pearson correlations using the logistic model results."
   ]
  },
  {
   "cell_type": "code",
   "execution_count": null,
   "id": "3b1447d5-aced-4d74-8fb8-6de8cf03e0af",
   "metadata": {},
   "outputs": [],
   "source": [
    "# load results logistic model \n",
    "results_log <- read.table(\"Results/GWAS5/logistic_results.assoc_2.logistic\", head=TRUE)\n",
    "\n",
    "\n",
    "merged_log <- merge(results_log, data, by=2)\n",
    "# compute correlations \n",
    "correlationsLog <- apply(merged_log[, 13:22], 2, function(x) cor(merged_log$OR, x, method=\"pearson\", use=\"complete.obs\"))\n",
    "\n",
    "dataCorLog <- data.frame(\n",
    "  pc = 1:10,\n",
    "  corr = correlationsLog)\n",
    "\n",
    "\n",
    "ggplot(as.data.frame(dataCorLog), aes(pc, corr)) +\n",
    "    ylab(expression(rho(PC, OR))) +\n",
    "    geom_bar(stat='identity', position='dodge', col='black')+\n",
    "    xlab('PC') + \n",
    "    ylim(c(-0.1,0.1)) +\n",
    "    scale_x_continuous(breaks=seq(1,10,1), expand=c(0,0.1))+\n",
    "    theme(panel.grid.minor=element_blank(), panel.background = element_blank(),\n",
    "            axis.line = element_line(), axis.text= element_text(size=12),\n",
    "          axis.title= element_text(size=12))\n",
    "\n"
   ]
  },
  {
   "cell_type": "markdown",
   "id": "2573a50c-7e62-4cc9-972c-ef985aded13a",
   "metadata": {},
   "source": [
    "There should be no correlation if we had corrected for population structure, as the effect size estimates wouldn’t be influenced by that. In contrast, for the model that doesn’t account for covariates, the correlations are higher than those observed in the logistic model. These correlations may help explain why the logistic model, which accounts for covariates, did not produce significant peaks in the Manhattan plot. Therefore, the lack of significant associations might not be due to being overly cautious but could rather indicate the true absence of strong signals. Further investigation is needed to better understand these results.\n",
    "\n",
    "For interpretation, coloring the bar plot results based on the correlation between the PCs and the allele frequency difference between the populations represented in your target sample would help highlight any patterns or trends.\n"
   ]
  },
  {
   "cell_type": "markdown",
   "id": "af7d7eb5-4f16-4e17-9c8b-17ced2509286",
   "metadata": {},
   "source": [
    ":::{.callout-note title=\"Other take-home messages\"}\n",
    "\n",
    "- Population structure can be addressed using **principal components (PCs) and mixed models**, though never perfectly. If your effect size estimates correlate with a PC, it is advisable to run a linear mixed model (e.g., BOLT-LMM). However, be cautious—these approaches mitigate, but do not entirely eliminate, the risk of residual confounding.\n",
    "  \n",
    "- Controlling for population structure is crucial because **residual population stratification can introduce spurious associations**. Researchers might perform meta-analyses to increase statistical power by combining data from multiple studies. However, population structure bias is unlikely to be consistent across studies. If not properly accounted for, this bias can distort results, leading to false associations rather than true genetic signals.\n",
    "\n",
    ":::"
   ]
  }
 ],
 "metadata": {
  "kernelspec": {
   "display_name": "Bash",
   "language": "bash",
   "name": "bash"
  },
  "language_info": {
   "codemirror_mode": "shell",
   "file_extension": ".sh",
   "mimetype": "text/x-sh",
   "name": "bash"
  }
 },
 "nbformat": 4,
 "nbformat_minor": 5
}
