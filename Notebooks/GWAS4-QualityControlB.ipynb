{
 "cells": [
  {
   "cell_type": "markdown",
   "id": "0e082220-ac80-4df7-9ceb-419e4fe4bde1",
   "metadata": {},
   "source": [
    "---\n",
    "title: \"Quality Control: Relatedness\"\n",
    "format:\n",
    "  html:\n",
    "    code-fold: false\n",
    "    toc: true\n",
    "  ipynb:\n",
    "    toc: true\n",
    "    number-sections: false\n",
    "bibliography: references/references_4.bib\n",
    "---"
   ]
  },
  {
   "cell_type": "markdown",
   "id": "9a06a928-7da8-4c80-9126-81fc5cc3d526",
   "metadata": {},
   "source": [
    "::: {.callout-note title=\"Important notes for this notebook\" icon=false}\n",
    "\n",
    "As we have already mentioned, quality control (QC) analyses are crucial to ensure the reliability and validity of the results. In this section, we will explore **relatedness**, exploring some ways of estimating it, and how it can be used to check suality of the data.\"\n",
    "\n",
    "## Learning outcomes\n",
    "\n",
    "- **Discuss** Identity by descent and  its estimators in PLINK and PLINK2\n",
    "- **Detect and categorize** related individuals\n",
    "- **Identify and speculate** what can cause unusual relatedness\n",
    "\n",
    "## How to make this notebook work\n",
    "\n",
    "In this notebook, we will both use `R` and `bash command line` programming languages. Remember to **change the kernel** whenever you transition from one language to the other (`Kernel --> Change Kernel`) indicated by the languages' images.\n",
    "* We will first run `Bash` commands.  \n",
    "  \n",
    "<img src=\"Images/bash.png\" alt=\"Bash\" width=\"80\"> Choose the Bash kernel\n",
    "\n",
    ":::"
   ]
  },
  {
   "cell_type": "markdown",
   "id": "f5baacc8-1ac6-47ac-8bdd-45e0dc5089f6",
   "metadata": {},
   "source": [
    "Relatedness refers to the presence of genetically related individuals in a study sample, which can introduce confounding factors into association analyses. Since most statistical methods assume that samples are independent, including related individuals, like siblings, violates this assumption. Addressing relatedness is crucial as a quality control step to ensure that genomes in the dataset are no more similar than expected for unrelated individuals. This process is essential to preserve the validity of the study's findings.\n",
    "\n",
    "While all humans share some genetic relatedness, the degree of relatedness varies among individuals. In genome-wide association studies (GWAS), these variations must be accounted for to avoid biasing the statistical associations between genotypes and phenotypes. **Cryptic relatedness** (genetic relatedness of individuals not expected to be in a family relationship) can interfere with the association analysis [@voight2005confounding]. \n",
    "\n",
    "In a **family-based study** (e.g., parent-offspring), you do not need to remove related pairs, but the statistical analysis should account for family relatedness. However, for a **population-based study**, we suggest using the KING estimator [@KING2010] with a threshold of 0.06.\n",
    "\n",
    "Differently from the IBD estimator (called pi_hat $\\hat{\\pi}$), which assumes that individuals come from homogeneous population, KING derives a kinship estimate for a pair of individuals without reference to the population allele frequencies. Instead, it gets the relatedness information from the difference between the counts of loci where both individuals are heterozygotes and counts of loci where they are different homozygotes, normalized by the sum of the heterozygous loci of the individuals. This makes KING robust to population structure and useful to check genotyping quality.\n",
    "\n",
    "Thus, values for KING are\n",
    "\n",
    "- 0.25 for parent-child or full siblings: they share exactly 50% of their alleles by descent (IBD). For full siblings it can vary slightly (e.g. recombination events).\n",
    "- 0.125 for half siblings: they have 25% IBD (one parent is common).\n",
    "- 0.065 for 1st cousins: IBD is 12.5% since they share one set of grandparents and not parents.\n",
    "\n",
    "KING values need to be multiplied by 2 to match the corresponding IBD probability"
   ]
  },
  {
   "cell_type": "markdown",
   "id": "bdee8bbe-d290-4ca4-8533-a11cebacecb0",
   "metadata": {},
   "source": [
    "<img src=\"Images/bash.png\" alt=\"Bash\" width=\"40\"> \n",
    "\n",
    "We use `ln -sf` to link the data folder and create a directory for output files. "
   ]
  },
  {
   "cell_type": "code",
   "execution_count": null,
   "id": "4a89129f-f4bf-4315-b9d6-689bd6d5a78c",
   "metadata": {
    "tags": []
   },
   "outputs": [],
   "source": [
    "ln -sf ../Data\n",
    "mkdir -p Results/GWAS4"
   ]
  },
  {
   "cell_type": "markdown",
   "id": "a6d9e47d-1f8d-43ab-873c-8a0044df8d37",
   "metadata": {},
   "source": [
    "### Analysis with PLINK\n",
    "\n",
    "We will use the set of independent SNPs (generated in the previous section) and the `--make-king-table` option in PLINK2 for our analysis, so that we generate pairwise KING estimators. Note that we use version 2 of PLINK because this one has implemented the KING estimator.\n",
    "\n",
    "The HapMap dataset is known to contain parent-offspring relationships. We will check the KING estimator values and exclude all individuals above a chosen threshold (to remove at least related individuals)."
   ]
  },
  {
   "cell_type": "code",
   "execution_count": null,
   "id": "aafefbaf",
   "metadata": {
    "tags": []
   },
   "outputs": [],
   "source": [
    "plink2 --bfile Results/GWAS3/HapMap_3_r3_7 \\\n",
    "       --extract Results/GWAS3/indepSNP.prune.in --make-king-table \\\n",
    "       --out Results/GWAS4/KING"
   ]
  },
  {
   "cell_type": "markdown",
   "id": "926cbfcd-ae16-4d01-8d74-e425ca1d47eb",
   "metadata": {},
   "source": [
    "The table from PLINK2 contains various things: \n",
    "\n",
    "- `FID1`: Family ID of the first individual.\n",
    "- `IID1`: Individual ID of the first individual.\n",
    "- `FID2`: Family ID of the second individual.\n",
    "- `IID2`: Individual ID of the second individual.\n",
    "- `NSNP`: The number of SNPs used to calculate the kinship between the two individuals.\n",
    "- `HETHET`: The number of heterozygous sites used in the kinship calculation (often useful for checking genotyping quality).\n",
    "- `IBS0`: The number of identical-by-state (IBS) 0 SNPs, which are variants where the two individuals do not share the same allele.\n",
    "- `KINSHIP`: The kinship coefficient (or pihat) between the two individuals, which is the proportion of alleles shared by descent."
   ]
  },
  {
   "cell_type": "markdown",
   "id": "375e5b23-aa9e-4db4-95b1-3109b09fdaba",
   "metadata": {},
   "source": [
    ":::{.callout-important title=\"Stop - Read - Solve\"}\n",
    "\n",
    "- What assumption in association studies is violated when individuals are related?\n",
    "- How would you recognize if the same sample is duplicated in your dataset?\n",
    "- Are there closely related individuals? How many individuals show close relatedness (`KING > 0.2`)?\n",
    "- What relationships are found by PLINK?\n",
    "\n",
    ":::"
   ]
  },
  {
   "cell_type": "code",
   "execution_count": null,
   "id": "ebab8c48-bca7-4667-9853-62a506b5085e",
   "metadata": {},
   "outputs": [],
   "source": [
    "# Write your code here (add more cells if needed)"
   ]
  },
  {
   "cell_type": "markdown",
   "id": "e1893edf-5412-4f14-95d1-a5391f3a575f",
   "metadata": {},
   "source": [
    ":::{.callout-tip title=\"Solution\" collapse=\"true\"}\n",
    "\n",
    "- If you have related individuals, you will lose the independence of individuals at each SNP. This is a problem because many models used in GWAS analysis do not include handling family relationships.\n",
    "- Calculating the KING coefficient and looking for a value close to 0.5.\n",
    "- We will look for unique values in column 8 (`KINSHIP`), rounding to two decimals\n",
    "- We will examine `KINSHIP` values in column 8. \n",
    "\n"
   ]
  },
  {
   "cell_type": "markdown",
   "id": "fb67636c-ef76-4245-82d7-de61b7edab65",
   "metadata": {},
   "source": [
    " Let's print the first few rows of `KING.kin0` and then, the unique relatioship categories in the file: "
   ]
  },
  {
   "cell_type": "code",
   "execution_count": null,
   "id": "4f7ccdcf-e469-4f95-8b0f-7f72ca1f91bb",
   "metadata": {},
   "outputs": [],
   "source": [
    "cat Results/GWAS4/KING.kin0 | head -5"
   ]
  },
  {
   "cell_type": "markdown",
   "id": "352d0a0b-ece8-4529-b2fd-c0dcb96e9f48",
   "metadata": {},
   "source": [
    "Now, let's calculate how many samples are in a pair with KING `KINSHIP` parameter (column 8) larger than 0.06, 0.12, 0.2 (to account for small variations in relevant thresholds). Note that the file contains one individual of a pair, so some samples might be shown many times. Thus we make those samples unique."
   ]
  },
  {
   "cell_type": "code",
   "execution_count": null,
   "id": "10099d32-f494-48da-88fd-a78cd4531217",
   "metadata": {},
   "outputs": [],
   "source": [
    "awk '{ if ($8 > 0.06) print $2}' Results/GWAS4/KING.kin0 | sort | uniq | wc -l"
   ]
  },
  {
   "cell_type": "code",
   "execution_count": null,
   "id": "313d8ba7-0737-416d-9c0e-68c77c5ead06",
   "metadata": {},
   "outputs": [],
   "source": [
    "awk '{ if ($8 > 0.12) print $2}' Results/GWAS4/KING.kin0 | sort | uniq | wc -l"
   ]
  },
  {
   "cell_type": "code",
   "execution_count": null,
   "id": "10f99282-4c98-4c45-befd-24e48503e1c7",
   "metadata": {},
   "outputs": [],
   "source": [
    "awk '{ if ($8 > 0.2) print $2}' Results/GWAS4/KING.kin0 | sort | uniq | wc -l"
   ]
  },
  {
   "cell_type": "code",
   "execution_count": null,
   "id": "d107029f-aead-4013-879a-9015d9ccbf6e",
   "metadata": {},
   "outputs": [],
   "source": [
    "echo There are $(awk '{ if ($8 > 0.2) print $2}' Results/GWAS4/KING.kin0 | sort | uniq | wc -l) individuals with KINSHIP larger than all thresholds. So we might have lots of half siblings, cousins and siblings mixed in the data."
   ]
  },
  {
   "cell_type": "markdown",
   "id": "b8dc1603-25db-464d-921e-897c30185d28",
   "metadata": {},
   "source": [
    "There are potentially some family ties!"
   ]
  },
  {
   "cell_type": "markdown",
   "id": "76d81f47-21fc-4c16-b642-09efde836b6a",
   "metadata": {},
   "source": [
    ":::\n",
    "\n",
    "---------------"
   ]
  },
  {
   "cell_type": "markdown",
   "id": "fe5069db-63cc-4a1d-b2b4-1fc9732113cb",
   "metadata": {},
   "source": [
    "<img src=\"Images/R.png\" alt=\"R\" width=\"40\"> Switch to the R-GWAS kernel.\n"
   ]
  },
  {
   "cell_type": "markdown",
   "id": "0cfd0c7c-45c3-4221-801f-958c99eda2e9",
   "metadata": {},
   "source": [
    ":::{.callout-important title=\"Stop - Read - Solve\"}\n",
    "\n",
    "Write some R code to calculate the summary of the distribution of `KINSHIP` values. What do you observe?\n",
    "\n",
    "hint: use the `hist()` command.\n",
    ":::"
   ]
  },
  {
   "cell_type": "code",
   "execution_count": null,
   "id": "cadf2af8-4973-4a9e-82a4-d0a41a20c0ff",
   "metadata": {},
   "outputs": [],
   "source": [
    "# Write your code here "
   ]
  },
  {
   "cell_type": "markdown",
   "id": "f00e5e4f-0423-45de-b156-aa0e430c4afb",
   "metadata": {},
   "source": [
    ":::{.callout-tip title=\"Solution\" collapse=\"true\"}\n",
    "We read in the matrix with the KING kinship values\n"
   ]
  },
  {
   "cell_type": "code",
   "execution_count": null,
   "id": "3533da70-e492-4bb1-a0fb-c8c86fff0191",
   "metadata": {
    "tags": []
   },
   "outputs": [],
   "source": [
    "# Generate a plot to assess the type of relationship.\n",
    "suppressMessages(suppressWarnings(library(ggplot2)))\n",
    "\n",
    "options(repr.plot.width = 9, repr.plot.height = 4)\n",
    "\n",
    "# Read data into R \n",
    "relatedness <- read.table(\"Results/GWAS4/KING.kin0\", header=TRUE, comment.char = '|')\n",
    "\n",
    "head(relatedness)"
   ]
  },
  {
   "cell_type": "markdown",
   "id": "95a26b41-913c-4de3-afd7-87ae68d13102",
   "metadata": {},
   "source": [
    "Now we look at how many pairs have specific relatedness values. You can see there are around 100 pairs of cousins/half siblings/siblings. Those correspond to the 76 unique samples observed before."
   ]
  },
  {
   "cell_type": "code",
   "execution_count": null,
   "id": "1c350e8d-3672-40ff-8f6b-432eb1808dd7",
   "metadata": {
    "tags": []
   },
   "outputs": [],
   "source": [
    "hist.king <- ggplot(relatedness, aes(x=relatedness[,8])) +\n",
    "  geom_histogram(binwidth = 0.02, col = \"black\", fill=\"tomato\") + \n",
    "  labs(title = \"Histogram of relatedness (KING)\") + \n",
    "  xlab(\"KING kinship\") + \n",
    "  ylab(\"Log Frequency\") + \n",
    "  theme_bw() +\n",
    "  scale_y_log10() +\n",
    "  theme(axis.title=element_text(size=14), \n",
    "        axis.text=element_text(size=13),\n",
    "        plot.title=element_text(size=15)) \n",
    "\n",
    "#Extract coordinates of the plot\n",
    "bin_data <- ggplot_build(hist.king)$data[[1]]\n",
    "\n",
    "#Adding text labels to  each bar, \n",
    "#accounting for log scale\n",
    "hist.king + \n",
    "  geom_text(data = bin_data, \n",
    "            aes(x = xmin + (xmax - xmin) / 2, \n",
    "                y = log10(count+1),  # Apply log10\n",
    "                label = count), \n",
    "                vjust = -5, #Vertical adjustment of text\n",
    "                size = 4, \n",
    "                color = \"black\")"
   ]
  },
  {
   "cell_type": "markdown",
   "id": "5660ad97-c3eb-4b28-ad58-d247b2ee5b4d",
   "metadata": {},
   "source": [
    ":::\n",
    "\n",
    "---"
   ]
  },
  {
   "cell_type": "markdown",
   "id": "8534a2dc-d763-479a-8bf5-14f4736a28d4",
   "metadata": {},
   "source": [
    "We can also plot the number of SNPs used to calculate relatedness VS the KING relatedness itself. Pairs with very low number of SNPs and anomalous KING estimator might simply contain badly genotyped sample(s). This is not at all our case."
   ]
  },
  {
   "cell_type": "code",
   "execution_count": null,
   "id": "a5689287-f4b7-4612-956a-37439e17307e",
   "metadata": {
    "tags": []
   },
   "outputs": [],
   "source": [
    "# Relatedness plot\n",
    "plot.relatedness <- ggplot(relatedness) +\n",
    "  geom_point(aes(x=NSNP, y=KINSHIP), size=5, alpha=.25) + \n",
    "  ylim(-.1,.4) +\n",
    "  labs(x = \"Number of SNPs used\", y = \"KING kinship\", title = \"Check for genotyping quality\") + \n",
    "  theme_bw() +\n",
    "  theme(axis.title=element_text(size=14), \n",
    "        axis.text=element_text(size=13), \n",
    "        legend.text= element_text(size=13), \n",
    "        legend.title=element_text(size=14), \n",
    "        plot.title=element_text(size=15))\n",
    "\n",
    "show(plot.relatedness)"
   ]
  },
  {
   "cell_type": "markdown",
   "id": "321ea42c-86e9-4f3c-a61b-9ab3b4f93728",
   "metadata": {},
   "source": [
    ":::{.callout-important title=\"Stop - Read - Solve\"}\n",
    "Use `PLINK` options to filter out related individuals, using a relatedness threshold of 0.1. \n",
    "\n",
    "- First of all you need to create a file with the IDs of the samples to remove. You can use the command `awk` as we did before in this exercise.\n",
    "\n",
    "- Afterwards you need PLINK with the option `--remove` to use the file with IDs. Name the output `--out Results/GWAS4/king_exercise`.\n",
    "\n",
    ":::"
   ]
  },
  {
   "cell_type": "markdown",
   "id": "c465100d-726d-4145-9365-60792b3a8afe",
   "metadata": {},
   "source": [
    "<img src=\"Images/bash.png\" alt=\"Bash\" width=\"40\"> Switch to the Bash kernel."
   ]
  },
  {
   "cell_type": "code",
   "execution_count": null,
   "id": "7b93af6a-23c4-4dfe-a7cd-381d7107a42a",
   "metadata": {},
   "outputs": [],
   "source": [
    "# Write your code here (PLINK command)\n"
   ]
  },
  {
   "cell_type": "markdown",
   "id": "da05d98f-058a-432e-984f-0c13a90f4949",
   "metadata": {
    "tags": []
   },
   "source": [
    ":::{.callout-tip title=\"Solution\" collapse=\"true\"}\n",
    "\n",
    "We use `awk` to print IDs to remove and then the option `--remove` of PLINK. \n"
   ]
  },
  {
   "cell_type": "markdown",
   "id": "f63b98c5-dcb8-4fa5-85ae-800967862dc5",
   "metadata": {},
   "source": [
    "<img src=\"Images/bash.png\" alt=\"Bash\" width=\"40\"> We print out all family and sample IDs for which the column KINSHIP (column 8) is >0.1. Note we print both samples in the pair with high relatedness, using the `awk` command twice."
   ]
  },
  {
   "cell_type": "code",
   "execution_count": null,
   "id": "b053e19e-6ba7-4d3d-a196-28c17677cf50",
   "metadata": {},
   "outputs": [],
   "source": [
    "awk '{ if ($8 > 0.1) print $1, $2 }' Results/GWAS4/KING.kin0 > Results/GWAS4/filter_king.txt"
   ]
  },
  {
   "cell_type": "markdown",
   "id": "2546923e-194a-47cf-a37e-dd803706dd2d",
   "metadata": {},
   "source": [
    "Now each sample is identified uniquely ba family and sample ID. Some samples are repeated more than once because we have selected the first sample in related pairs, so same samples appear more than once. We use the option `--remove` to produce a new set of `plink` files. We will be warned about sample repetitions because we have been having some duplicates from the KINSHIP pairs"
   ]
  },
  {
   "cell_type": "code",
   "execution_count": null,
   "id": "aaa83929-d0e5-427c-9115-411e280f385a",
   "metadata": {
    "tags": []
   },
   "outputs": [],
   "source": [
    "plink --bfile Results/GWAS3/HapMap_3_r3_7 \\\n",
    "    --make-bed \\\n",
    "    --remove Results/GWAS4/filter_king.txt \\\n",
    "    --out Results/GWAS4/king_exercise"
   ]
  },
  {
   "cell_type": "markdown",
   "id": "0687225c-2e12-478d-99d3-9affa994e50d",
   "metadata": {
    "tags": []
   },
   "source": [
    "Let's grab from the log file what we have left of the data. `grep` finds a specific word in a text file."
   ]
  },
  {
   "cell_type": "code",
   "execution_count": null,
   "id": "3d62e56c-3b01-4517-89c3-1be6d151dc61",
   "metadata": {},
   "outputs": [],
   "source": [
    "grep people Results/GWAS4/king_exercise.log"
   ]
  },
  {
   "cell_type": "markdown",
   "id": "3f58457b-6901-4c60-b8a6-33de1fa186ad",
   "metadata": {},
   "source": [
    ":::\n",
    "\n",
    "***"
   ]
  },
  {
   "cell_type": "markdown",
   "id": "2351a16c",
   "metadata": {},
   "source": [
    "<img src=\"Images/bash.png\" alt=\"Bash\" width=\"40\"> Switch to the Bash kernel.\n",
    "\n",
    "So far, you’ve learned how to filter individuals using KING kinship thresholds. Now, we’ll demonstrate that most of the relatedness was due to parent-offspring relationships. We will achieve this by using the `--filter-founders` option to create a new filtered dataset that includes only the founders (individuals without listed parents in the data). This generates `.bed`, `.bim`, and `.fam` files, which are then used to create a `.kin0` file containing relatedness values. Note again we use `plink2` to create the KING matrix."
   ]
  },
  {
   "cell_type": "code",
   "execution_count": null,
   "id": "e034b088",
   "metadata": {
    "tags": []
   },
   "outputs": [],
   "source": [
    "plink --bfile Results/GWAS3/HapMap_3_r3_7 \\\n",
    "    --filter-founders \\\n",
    "    --make-bed \\\n",
    "    --out Results/GWAS4/HapMap_3_r3_8 \\\n",
    "    --silent\n",
    "\n",
    "plink2 --bfile Results/GWAS4/HapMap_3_r3_8 \\\n",
    "    --extract Results/GWAS3/indepSNP.prune.in \\\n",
    "    --make-king-table \\\n",
    "    --out Results/GWAS4/KING_founders"
   ]
  },
  {
   "cell_type": "markdown",
   "id": "787f1063",
   "metadata": {},
   "source": [
    "<img src=\"Images/R.png\" alt=\"R\" width=\"40\"> Switch to the R kernel.\n",
    "\n",
    "Let's plot the results from the `KING_founders.kin0` file. We can see how there is only 1 pair with high kinship amongst the founders."
   ]
  },
  {
   "cell_type": "code",
   "execution_count": null,
   "id": "c2a5e584-f675-49fa-928b-91766977c643",
   "metadata": {
    "tags": []
   },
   "outputs": [],
   "source": [
    "suppressMessages(suppressWarnings(library(ggplot2)))\n",
    "\n",
    "relatedness <- read.table(\"Results/GWAS4/KING_founders.kin0\", header=TRUE, comment.char = '|')\n",
    "\n",
    "hist.king <- ggplot(relatedness, aes(x=relatedness[,8])) +\n",
    "  geom_histogram(binwidth = 0.02, col = \"black\", fill=\"tomato\") + \n",
    "  labs(title = \"Histogram of relatedness (KING) in founders-only data\") + \n",
    "  xlab(\"KING kinship\") + \n",
    "  ylab(\"Log Frequency\") + \n",
    "  theme_bw() +\n",
    "  scale_y_log10() +\n",
    "  theme(axis.title=element_text(size=14), \n",
    "        axis.text=element_text(size=13),\n",
    "        plot.title=element_text(size=15)) \n",
    "\n",
    "#Extract coordinates of the plot\n",
    "bin_data <- ggplot_build(hist.king)$data[[1]]\n",
    "\n",
    "#Adding text labels to  each bar, \n",
    "#accounting for log scale\n",
    "hist.king + \n",
    "  geom_text(data = bin_data, \n",
    "            aes(x = xmin + (xmax - xmin) / 2, \n",
    "                y = log10(count+1),  # Apply log10\n",
    "                label = count), \n",
    "                vjust = -10, #Vertical adjustment of text\n",
    "                size = 4, \n",
    "                color = \"black\")"
   ]
  },
  {
   "cell_type": "markdown",
   "id": "e48734ad-5afb-4c82-b16b-e10b8e89a778",
   "metadata": {},
   "source": [
    ":::{.callout-important title=\"Stop - Read - Solve\"}\n",
    "\n",
    "- **1. Do you observe anything unexpected in the plot?**\n",
    "- **2. Can you identify the IIDs of the sample pair?** Hint: filter for KINSHIP values.\n",
    "- **3. Based on the KINSHIP, what is the most likely relationship between the pair?**\n",
    "- **4. What would you do about it?** Hint: remove one or both in the pair?\n",
    "\n",
    ":::"
   ]
  },
  {
   "cell_type": "code",
   "execution_count": null,
   "id": "862d2e88-6982-4485-82a0-724cd6c29fca",
   "metadata": {},
   "outputs": [],
   "source": [
    "# Write your answer here"
   ]
  },
  {
   "cell_type": "code",
   "execution_count": null,
   "id": "ddcb10c8-f5e0-4b21-9b17-cd38fc50d03b",
   "metadata": {},
   "outputs": [],
   "source": [
    "# R code here"
   ]
  },
  {
   "cell_type": "markdown",
   "id": "f5a2f642-c649-427a-a6da-94b6595a641b",
   "metadata": {},
   "source": [
    ":::{.callout-tip title=\"Solution\" collapse=\"true\"}\n",
    "\n",
    "- **1.** The file `KING_founders.kin0` shows that, after excluding all non-founders, one individual pair removed in the exercise remains in the HapMap data. \n",
    "- **2.** Below, we can look at the individual from the table by setting KINSHIP > 0.2. Even if labeled as unrelated, it has high relatedness. The IIDs of the pair are NA07045 and NA12813. \n"
   ]
  },
  {
   "cell_type": "code",
   "execution_count": null,
   "id": "e30d95c1",
   "metadata": {
    "tags": []
   },
   "outputs": [],
   "source": [
    "relatedness[relatedness$KINSHIP > 0.2,]"
   ]
  },
  {
   "cell_type": "markdown",
   "id": "ba9aa66a-10ab-441f-9e21-b7c18e3e417d",
   "metadata": {},
   "source": [
    "- **3.** This remaining individual is likely to be related with sibling relationship, even though they were not given the same family identity (FID) in the HapMap data.\n",
    "- **4.** We don't need to remove both individuals from the dataset (IID1=NA07045; IID2=NA12813). It's enough to remove just one, and the individual with the highest missing rate (lowest quality) could be chosen. Let's calculate the missing rates using PLINK."
   ]
  },
  {
   "cell_type": "markdown",
   "id": "ec6762bb-8f74-4550-a43d-56603b162b86",
   "metadata": {},
   "source": [
    ":::\n",
    "\n",
    "***"
   ]
  },
  {
   "cell_type": "markdown",
   "id": "11be16c4-ccf3-493b-85f0-fddb72cdfbdd",
   "metadata": {},
   "source": [
    "<img src=\"Images/bash.png\" alt=\"Bash\" width=\"40\"> Switch to the Bash kernel."
   ]
  },
  {
   "cell_type": "code",
   "execution_count": null,
   "id": "7d55dc5d-2663-489e-b2bf-2637a577e716",
   "metadata": {
    "tags": []
   },
   "outputs": [],
   "source": [
    "plink --bfile Results/GWAS4/HapMap_3_r3_8 \\\n",
    "    --missing \\\n",
    "    --out Results/GWAS4/HapMap_3_r3_8 \\\n",
    "    --silent"
   ]
  },
  {
   "cell_type": "markdown",
   "id": "cdc75b75-bcd0-4e6f-a987-cf42f19214b3",
   "metadata": {},
   "source": [
    "Then, find the two individuals from the output file using `grep` and sorting descendingly by missing rate (EZ, column 6)"
   ]
  },
  {
   "cell_type": "code",
   "execution_count": null,
   "id": "3fa5e705-a478-4e76-91b7-8105c41c0a01",
   "metadata": {
    "tags": []
   },
   "outputs": [],
   "source": [
    "# Let's look at the output\n",
    "cat Results/GWAS4/HapMap_3_r3_8.imiss | grep -E 'NA07045|NA12813' | sort -k6,6nr"
   ]
  },
  {
   "cell_type": "markdown",
   "id": "15d38dd9-baa9-4fed-81c2-4dc8eda7643e",
   "metadata": {},
   "source": [
    "`NA07045` is the individual to be removed. Once this is removed, their offspring can still be used in analyses that don't involve trios, such as family-related studies."
   ]
  },
  {
   "cell_type": "markdown",
   "id": "aa1b8463-3555-4bf9-9dbe-ee0ceda2543b",
   "metadata": {},
   "source": [
    ":::{.callout-important title=\"Stop - Read - Solve\"}\n",
    "\n",
    "- **Plot the distribution of missing rates from `HapMap_3_r3_8`. What is the value for `NA07045`?**\n",
    "- **Remove `NA07045` from the PLINK files**\n",
    "  \n",
    "Hint: \n",
    "\n",
    "- Use the `.imiss` file to plot a histogram of the missing scores from the file `HapMap_3_r3_8.imiss` in `R` (check previous notebooks for help). Is the score of `NA07045` amongst the higher/lower ones? You can add a vertical line in the histogram representing the value for `NA07045` using `geom_vline`. \n",
    "- Create a file with the sample ID to remove and use the `--remove` option in PLINK. \n",
    "\n",
    ":::"
   ]
  },
  {
   "cell_type": "markdown",
   "id": "43c78309-dde7-4cdd-bd93-547a03544940",
   "metadata": {},
   "source": [
    "<img src=\"Images/R.png\" alt=\"R\" width=\"40\"> Switch to the R kernel."
   ]
  },
  {
   "cell_type": "code",
   "execution_count": null,
   "id": "fd1c7d1a-5a3b-40f4-9e6c-d12e63393cc6",
   "metadata": {},
   "outputs": [],
   "source": [
    "# Write your code here"
   ]
  },
  {
   "cell_type": "markdown",
   "id": "c959a6b9-a326-4a66-9809-7cb5df42b8d1",
   "metadata": {
    "editable": true,
    "slideshow": {
     "slide_type": ""
    },
    "tags": []
   },
   "source": [
    ":::{.callout-tip title=\"Solution\" collapse=\"true\"}\n",
    "We can extract the column from the file and observe in the histogram that the individual `NA07045` has a missing rate closer to the bulk of other samples.\n"
   ]
  },
  {
   "cell_type": "code",
   "execution_count": null,
   "id": "8adba97a-30f1-4fe5-a956-5b3337744491",
   "metadata": {
    "editable": true,
    "scrolled": true,
    "slideshow": {
     "slide_type": ""
    },
    "tags": []
   },
   "outputs": [],
   "source": [
    "suppressMessages(suppressWarnings(library(ggplot2)))\n",
    "\n",
    "options(repr.plot.width = 9, repr.plot.height = 4)\n",
    "\n",
    "# Read data into R \n",
    "smiss <- read.table(\"Results/GWAS4/HapMap_3_r3_8.imiss\", header=T)\n",
    "\n",
    "head(smiss)\n",
    "\n",
    "hist.relatedness <- ggplot(data=smiss, aes(F_MISS)) +\n",
    "  geom_histogram(col = \"black\", fill = \"tomato\") + \n",
    "  geom_vline(xintercept = 0.002384, color = \"red\", linetype = \"dashed\", linewidth = 1) +\n",
    "  labs(title = \"Histogram of missing rates\") + \n",
    "  xlab(\"Missing rate\") + \n",
    "  ylab(\"Frequency\") + \n",
    "  theme_bw() +\n",
    "  theme(axis.title=element_text(size=14), axis.text=element_text(size=13),plot.title=element_text(size=15))\n",
    "\n",
    "show(hist.relatedness)"
   ]
  },
  {
   "cell_type": "markdown",
   "id": "73b9b8a3",
   "metadata": {},
   "source": [
    "\n",
    "<img src=\"Images/bash.png\" alt=\"Bash\" width=\"40\"> Switch to the Bash kernel.\n",
    "\n",
    "To remove the individual from the data, we create a file containing its number and ID, and provide it to PLINK with the option `--remove`"
   ]
  },
  {
   "cell_type": "code",
   "execution_count": null,
   "id": "5007aa3f",
   "metadata": {
    "tags": []
   },
   "outputs": [],
   "source": [
    "echo \"13291  NA07045\" > Results/GWAS4/id_remove.txt"
   ]
  },
  {
   "cell_type": "code",
   "execution_count": null,
   "id": "d08763c4",
   "metadata": {
    "tags": []
   },
   "outputs": [],
   "source": [
    "plink --bfile Results/GWAS4/HapMap_3_r3_8 \\\n",
    "    --remove Results/GWAS4/id_remove.txt \\\n",
    "    --make-bed \\\n",
    "    --out Results/GWAS4/HapMap_3_r3_9 \\\n",
    "    --silent"
   ]
  },
  {
   "cell_type": "markdown",
   "id": "95ccbad6-9151-4686-b5e6-d12d0d31a56b",
   "metadata": {},
   "source": [
    ":::{.callout-important title=\"Challenge yourself: relatedness in mice data\"}\n",
    "\n",
    "Use the mice data you filtered in the exercise of GWAS3, or if you do not have it, use the initial mice data.\n",
    "\n",
    "1 - Calculate the kinship matrix and plot the values on the histogram.\n",
    "\n",
    "2 - Why do you get those values in the plot? What could be happening? Remember those are mice!\n",
    "\n",
    "3 - Now try instead to use `plink` with the option `--genome`. This calculates the IBD estimator called pi_hat. You need `--bfile` for the input data and `--out` for the name of the output table.\n",
    "\n",
    "4 - Plot again the histogram using the table (column PI_HAT). Now you should have values bounded between (0,1) on the x axis.\n",
    "\n",
    "5 - Values around 0.25 are second-degree relationships (half siblings), around 0.5 are parent-child and siblings. Usually, a pi_hat much above 0.5 is trace of duplicates, or inbreeding (the second is likely our case, or we would have really bad data with too many duplicates). We have also some sample pairs with a pi_hat=1. What could the respective samples be?\n",
    "\n",
    ":::"
   ]
  },
  {
   "cell_type": "code",
   "execution_count": null,
   "id": "fd2799f0-80d4-4c54-9dfb-85340a069dd8",
   "metadata": {},
   "outputs": [],
   "source": [
    "#Write your code here or create a copy of this notebook to work on"
   ]
  },
  {
   "cell_type": "markdown",
   "id": "c76dc96a-0ea7-4fc5-a77d-2045f85863ea",
   "metadata": {},
   "source": [
    "::: {.callout-tip}\n",
    "\n",
    "# Click to view answers\n",
    "<i class=\"bi bi-journal-code\"></i> [GWAS4 relatedness solution](exercises/gwas4-mice.ipynb)\n",
    "\n",
    ":::"
   ]
  },
  {
   "cell_type": "markdown",
   "id": "0ce66796",
   "metadata": {},
   "source": [
    ":::{.callout-note title=\"Wrapping up\"}\n",
    "\n",
    "You have now successfully checked your data for relatedness. You filtered out the individuals with high relatedness and can continue in the next notebook to check population structure.\n",
    "\n",
    "In the next notebook on **Association Testing**, you will need the following files from the folder `Results/GWAS4/`:\n",
    "- `HapMap_3_r3_10` (the bfile, i.e., `HapMap_3_r3_10.bed`, `HapMap_3_r3_10.bim`, and `HapMap_3_r3_10.fam`)\n",
    "- `covar_mds.txt`\n",
    "which are the HapMap data and the MDS covariates highlighting the population stratification. Those are already available once you have been running this notebook.\n",
    "\n",
    "Below is a cheat sheet of our new methods from this notebook. Again, it is important to remember that each method of QC should be justified, which will depend on the nature of the feature you are trying to analyze.\n",
    "\n",
    "\n",
    "| Step| Command| Function| Thresholds and explanation|\n",
    "|------------------------------|------------------------|---------------------------------------------------------------------------------------------------------------------------------------------------------------------------------------------------------------------|-------------------------------------------------------------------------------------------------------------------------------------------------------------------------------------------------------------------------------------------------------------------------------------------------------------------------------------------------------------------------------------------------------------------------|\n",
    "| 6: Relatedness | `--make-king-table` (PLINK2)| Calculates KING kinship of all sample pairs. The KING kinship is more reliable in presence of population structure.| Use independent SNPs (pruning) for this analysis and limit it to autosomal chromosomes only.|\n",
    "| - | `--genome` (PLINK)| Calculates the pi_hat IBD estimator of all sample pairs. It is made to be bound between 0 and 1, but can in some extreme cases go out of this interval. It can be useful as a second check when having very weird KING values ((see our mice exercise)[exercise/gwas4-mice.ipynb]).| Use independent SNPs (pruning) for this analysis and limit it to autosomal chromosomes only.|\n",
    "| - | `awk` + `--remove` | Sets threshold and creates a list of individuals with relatedness above the chosen threshold (`awk` command). This means that subjects who are related at, for example, KINSHIP > 0.1 (i.e., half siblings, or siblings, or parent-child) can be detected, or PI_HAT>.25 (matching the mentioned KING relationships). | Cryptic relatedness can interfere with the association analysis. If you  have a family‐based sample (e.g., parent‐offspring), you do not need to remove related pairs but the statistical analysis should take family relatedness into account. However, for a population-based sample, we suggest using a KINSHIP threshold of 0.06, which is in line with the literature using IBD kinship thresholds (Anderson et al.,  2010; Guo et al.,  2014). |\n",
    "\n",
    ":::\n",
    "\n",
    "# Bibliography"
   ]
  }
 ],
 "metadata": {
  "kernelspec": {
   "display_name": "Bash",
   "language": "bash",
   "name": "bash"
  },
  "language_info": {
   "codemirror_mode": "shell",
   "file_extension": ".sh",
   "mimetype": "text/x-sh",
   "name": "bash"
  }
 },
 "nbformat": 4,
 "nbformat_minor": 5
}
