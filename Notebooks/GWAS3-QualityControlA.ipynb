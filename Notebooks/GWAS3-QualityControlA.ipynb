{
 "cells": [
  {
   "cell_type": "markdown",
   "id": "e9307aa0-3352-4163-8f6b-6416d4ec3b5b",
   "metadata": {
    "vscode": {
     "languageId": "raw"
    }
   },
   "source": [
    "---\n",
    "title: \"Quality Control: initial steps\" \n",
    "format:\n",
    "  html:\n",
    "    code-fold: false\n",
    "    toc: true\n",
    "  ipynb:\n",
    "    toc: true\n",
    "    number-sections: false\n",
    "bibliography: references/references_3.bib\n",
    "---"
   ]
  },
  {
   "cell_type": "markdown",
   "id": "2ddbf12e-aeaf-4558-a75d-1d2330023464",
   "metadata": {},
   "source": [
    ":::{.callout-note title=\"Important notes for this notebook\" icon=false}\n",
    "\n",
    "After gathering your data and genotyping, there are many checks to do to determine the quality of the data. It is crucial to **perform quality control before** carrying out any GWAS, otherwise, there is the risk that some of the associations are spurious.\n",
    "\n",
    "## Learning outcomes\n",
    "\n",
    "- **Distinguish** the various QC steps\n",
    "- **Discuss and choose** thresholds on plink\n",
    "- **Implement** basic QC in `plink` and statistical plots in `R`\n",
    "- **Hypothesize** the effects of various `plink` commands and **verify** your hypothesis using the analysis in `R`\n",
    "\n",
    "\n",
    "## How to make this notebook work\n",
    "\n",
    "* In this notebook, we will use both `R` and `bash command line` programming languages. Remember to **change the kernel** whenever you transition from one language to the other (`Kernel --> Change Kernel`) indicated by the languages' images. We will first run `Bash` commands.  \n",
    "  \n",
    "<img src=\"Images/bash.png\" alt=\"Bash\" width=\"80\"> Choose the Bash kernel\n",
    "\n",
    ":::"
   ]
  },
  {
   "cell_type": "markdown",
   "id": "779e65c1-04f8-4a2d-8d0e-8190e5ccd7e0",
   "metadata": {},
   "source": [
    "The next critical step in any GWAS involves **scrutinizing the data for potential issues**. It's crucial to ensure that the results are not merely artifacts of poor data quality discovered after the analysis. \n",
    "\n",
    "After gathering your data and genotyping, there are many checks one can do to determine the quality of the data. PLINK provides several summary statistics for quality control (e.g. missing genotype rate, minor allele frequency, and Hardy-Weinberg equilibrium failures) which will serve as thresholds for subsequent analyses. \n",
    "\n",
    "For this tutorial, we will look at the following quality-related topics: \n",
    "\n",
    "1) Individual Missingness  \n",
    "2) Sex discrepancy  \n",
    "3) Minor Allele Frequency (MAF)  \n",
    "4) Hardy-Weinberg Equilibrium (HWE)  \n",
    "5) Heterozygosity Rate\n"
   ]
  },
  {
   "cell_type": "markdown",
   "id": "eb8e451f",
   "metadata": {},
   "source": [
    "# Individual and SNP Missingness\n",
    "\n",
    "## Missingness per SNP\n",
    "\n",
    "Overall, the SNP genotyping platform is very reliable and delivers stable results when it comes to determining genotypes. Of course, it is not flawless. One of the most frequent problems is that some of the SNPs are just not well-genotyped in the entire population. These should be removed to improve the overall data quality.\n",
    "\n",
    "Certainly, we can't remove every SNP with any missing values, as that would result in losing a significant portion of our data. Instead, we adopt some **thresholds**. However, determining these thresholds isn't governed by strict rules. You have the flexibility to set them within \"reasonable\" limits. To find out what constitutes \"reasonable,\" consulting relevant literature for your species of interest is advisable. For humans, a common starting point is a threshold of 0.2, meaning we exclude SNPs where 20% or more of the genotypes are missing in our population.\n",
    "\n",
    "## Missingness per individual\n",
    "\n",
    "The reliability of SNP chips is also high when it comes to individual genotypes. In some cases, however, some of the individuals contain a large number of missing SNPs. The reason could be low DNA sample quality, the wrong chip type used (e.g. cattle chip for deer samples), or other technical issues. Regardless of the reason, you should remove the worst offenders from your data set, to not compromise the overall quality of your results."
   ]
  },
  {
   "cell_type": "markdown",
   "id": "1dbeebaf",
   "metadata": {},
   "source": [
    ":::{.callout-important title=\"Stop - Read - Solve\"}\n",
    "\n",
    "Have a look at the following toy example:\n",
    "\n",
    "|   /   | SNP1 | SNP2 | SNP3 | SNP4 | SNP5 |\n",
    "|------|------|------|------|------|------|\n",
    "| IND1 | 22   | 00   | 11   | 12   | 22   |\n",
    "| IND2 | 22   | 00   | 11   | 12   | 22   |\n",
    "| IND3 | 11   | 12   | 11   | 22   | 21   |\n",
    "| IND4 | 00   | 00   | 11   | 11   | 00   |\n",
    "| IND5 | 22   | 00   | 11   | 22   | 22   |\n",
    "\n",
    "Here, we have a data set of five individuals, each of them genotyped for five SNPs. The genotypes themselves are in numerical coding, 11 and 22 being the two homozygous, 12 the heterozygous, and 00 coded as missing. We want to apply two filters: one for the variants, and one for the individuals.\n",
    "\n",
    "- First remove variants with >= 40% missingness\n",
    "- Then remove individuals with >= 40% missingness\n",
    "\n",
    "Which variants and individuals are we removing?\n",
    "\n",
    ":::"
   ]
  },
  {
   "cell_type": "markdown",
   "id": "5a326c71",
   "metadata": {
    "tags": []
   },
   "source": [
    "\n",
    "In practice, you want to **remove the SNPs based on missingness before the individuals**. This is simply because we generally have a lot more SNPs than individuals, and would thus lose less information by removing SNPs than individuals. This will remove \"bad\" SNPs first, leaving a lower rate of missingness for all the individuals.\n",
    "\n",
    ":::{.callout-tip title=\"Solution\" collapse=\"true\"}\n",
    "\n",
    "**Variant-level threshold**: In this example, we would only remove SNP2 since it exceeds this threshold, with 80% missingness (4 out of 5 missing values).\n",
    "\n",
    "**Individual-level threshold**: IND4 is removed from the data set, as there is missing genotype information for 2/4 = 50% SNPs (after filtering out SNP2). \n",
    "\n",
    ":::\n",
    "\n",
    "\n",
    "## First run of the PLINK tool\n",
    "\n",
    ":::{.callout-note title=\"The plink syntax\"}\n",
    "Before using `plink`, let's see how its syntax is. Usual PLINK commands are written in this basic form:\n",
    "\n",
    "```\n",
    "plink --bfile INPUT --out OUTPUT\n",
    "```\n",
    "\n",
    "with the additional option `--make-bed` if you need to generate a modified version of the input data, such as in \n",
    "\n",
    "```\n",
    "plink --bfile INPUT --make-bed --out OUTPUT\n",
    "```\n",
    "\n",
    "which will create an OUTPUT equal to the input, because you have no other options added.\n",
    "\n",
    "Note that **INPUT and OUTPUT have no extension**, as this will be added by `plink`. For example, INPUT means you have the files `INPUT.bim`, `INPUT.bed`, `INPUT.fam`, and eventually other extensions needed by extra options. The same holds for the OUTPUT. **The software always tells you which file extension has created and which it needs, in case it misses some files.**\n",
    "\n",
    "You will see how we add different options along the tutorials. Often we use the option `--silent` to avoid printing messages all the time. Feel free to remove it to know which files are created.\n",
    "\n",
    ":::\n",
    "\n",
    "\n",
    "Using PLINK, we can address missing data using two functions; one operates at the variant level and the other at the individual level:\n",
    "\n",
    "* `--geno`: This will remove SNPs with a specified proportion of missingness (e.g. `--geno 0.01` will remove SNPs above 1% missingness).\n",
    "* `--mind`: This will remove individuals with a specified proportion of missingness (e.g. `--mind 0.01` will remove individuals above 1% missingness).\n",
    "\n",
    "A common threshold for --mind and --geno ranges from 1% to 5% to ensure quality and robustness. Higher thresholds may be acceptable if the study has a large sample size and missingness is not widespread.\n",
    "\n",
    "Let's implement our first QC method in PLINK."
   ]
  },
  {
   "cell_type": "markdown",
   "id": "a25cf9d2-c1f8-471e-a6bf-9b92888e4d3a",
   "metadata": {
    "tags": []
   },
   "source": [
    "<img src=\"Images/bash.png\" alt=\"Bash\" width=\"40\"> We use `ln -sf` to link the data folder and create a folder for output files (`Results/GWAS3`) "
   ]
  },
  {
   "cell_type": "code",
   "execution_count": null,
   "id": "5dea98b7-c4dd-4d62-a5e6-b041486b511d",
   "metadata": {
    "tags": []
   },
   "outputs": [],
   "source": [
    "ln -sf ../Data\n",
    "mkdir -p Results/GWAS3"
   ]
  },
  {
   "cell_type": "markdown",
   "id": "7356fd7e-93b6-46e2-b71a-206c2bcdb21a",
   "metadata": {},
   "source": [
    "PLINK program uses options implemented using the `--` symbol to perform different functions or access files. We will use the option `--bfile` for data (filename without extension), `--missing` for missing data summary, and `--out` for output prefixes. This helps us analyze data missingness."
   ]
  },
  {
   "cell_type": "code",
   "execution_count": null,
   "id": "f206a476",
   "metadata": {
    "tags": []
   },
   "outputs": [],
   "source": [
    "plink --bfile Data/HapMap_3_r3_1 --missing --out Results/GWAS3/data"
   ]
  },
  {
   "cell_type": "markdown",
   "id": "a640936d-5e42-4846-b58a-8ac6eaeaa473",
   "metadata": {},
   "source": [
    ":::{.callout-important title=\"Stop - Read - Solve\"}\n",
    "\n",
    "PLINK prints a lot of information. Make sure you read it. \n",
    "\n",
    "1. Which file formats are read by PLINK to understand the data?\n",
    "2. What is the percentage of valid genotype data?\n",
    "3. What is the count of females and males? Is sex information available for all individuals?\n",
    "4. What files are generated as output from the command?\n",
    "\n",
    ":::"
   ]
  },
  {
   "cell_type": "markdown",
   "id": "860ee564-c554-4655-9737-64549a9440d5",
   "metadata": {},
   "source": [
    ":::{.callout-tip title=\"Solution\" collapse=\"true\"}\n",
    "1. PLINK reads two files in the format *.fam* and *.bim* for this task. As explained in the notebook GWAS2, these files contain data for individuals and variants, respectively.\n",
    "2. Immediately we can see that the total genotyping rate for our sample is 0.997378.\n",
    "3. It counts 80 males and 85 females.\n",
    "4. It prints the name of the two output files from this command: `data.imiss` and `data.lmiss`, in the directory `Results/GWAS3/`. These files show the proportion of **missing SNPs per individual** and the proportion of **missing individuals per SNP**, respectively.\n",
    "\n",
    ":::\n",
    "\n",
    "These files include a header and one line per sample or per variant, containing the following fields:\n",
    "\n",
    "- `FID`: Family ID\n",
    "- `IID`: Within-family ID\n",
    "- `CHR` and SNP: chromosome and SNP ID. \n",
    "- `MISS_PHENO`: Indicates if the phenotype is missing (Y/N)\n",
    "- `N_MISS`: Number of missing genotype calls (excluding obligatory missings or heterozygous haploids)\n",
    "- `N_GENO`: Number of potentially valid calls\n",
    "- `F_MISS`: Missing call rate\n",
    " \n",
    "Let's check the first 5 lines of the files to understand their structure.\n",
    "\n",
    "- **Are there missing phenotypes or genotypes in the `.imiss` file?**\n"
   ]
  },
  {
   "cell_type": "code",
   "execution_count": null,
   "id": "e64cb902-6e5b-472c-a760-2f84a52f2d58",
   "metadata": {},
   "outputs": [],
   "source": [
    "head -5 Results/GWAS3/data.imiss"
   ]
  },
  {
   "cell_type": "markdown",
   "id": "b8ca3847-a34c-4d74-9bc7-160d03a90ef4",
   "metadata": {},
   "source": [
    "No, the first individuals of the `imiss` file do not seem to miss phenotypes (column `MISS_PHENO`) and have small proportion of missing genotypes (column `F_MISS`). \n",
    "\n",
    "- **What about at the variant-level (`.lmiss`)?**"
   ]
  },
  {
   "cell_type": "code",
   "execution_count": null,
   "id": "4714af05-3e55-4b63-8c0d-1416379b54ed",
   "metadata": {},
   "outputs": [],
   "source": [
    "head -5 Results/GWAS3/data.lmiss"
   ]
  },
  {
   "cell_type": "markdown",
   "id": "21038b67-79bc-401e-8169-1954d0c44483",
   "metadata": {},
   "source": [
    "In the `lmiss` file, we can see that the second variant has missing data."
   ]
  },
  {
   "cell_type": "markdown",
   "id": "2737a489-31b5-4fa4-8b60-dba2b8b1c2bc",
   "metadata": {},
   "source": [
    "<img src=\"Images/R.png\" alt=\"R\" width=\"40\"> Switch to the R kernel.\n",
    "\n",
    "We can visualize the distribution of missing data in individuals and SNPs using histograms in `R` (change kernel). \n",
    "\n",
    "The `ggplot2` package is used here for visualization and various plot elements are combined with the `+` symbol. Histograms are saved in your results directory as `histimiss.png` and `histlmiss.png`. Look below at the `R` code and the output."
   ]
  },
  {
   "cell_type": "code",
   "execution_count": null,
   "id": "904776e1-2135-41c4-a356-1bd0b298cf82",
   "metadata": {
    "tags": []
   },
   "outputs": [],
   "source": [
    "suppressWarnings(library(ggplot2))\n",
    "options(repr.plot.width = 9, repr.plot.height = 4)\n",
    "\n",
    "# Read data into R \n",
    "indmiss <- read.table(file=\"Results/GWAS3/data.imiss\", header=TRUE)\n",
    "snpmiss <- read.table(file=\"Results/GWAS3/data.lmiss\", header=TRUE)\n",
    "\n",
    "#lmiss histogram\n",
    "hist.lmiss <- ggplot(snpmiss, aes(x=snpmiss[,5])) +\n",
    "    geom_histogram(binwidth = 0.005, col = \"black\", fill=\"tomato\") + \n",
    "    labs(title = \"Frequency of missingness rates in SNPs\") + \n",
    "    xlab(\"Frequency\") + \n",
    "    ylab(\"Missingness in SNPs\") + \n",
    "    theme_bw() +\n",
    "    theme(axis.title=element_text(size=13), axis.text=element_text(size=13), plot.title=element_text(size=15))\n",
    "\n",
    "\n",
    "#imiss histogram\n",
    "hist.imiss <- ggplot(indmiss, aes(x=indmiss[,6])) +\n",
    "    geom_histogram(binwidth = 0.001, col = \"black\", fill=\"tomato\") + \n",
    "    labs(title = \"Frequency of missingness rates in individuals\") + \n",
    "    xlab(\"Frequency\") + \n",
    "    ylab(\"Missingness in Individuals\") + \n",
    "    theme_bw() +\n",
    "    theme(axis.title=element_text(size=13), axis.text=element_text(size=13), plot.title=element_text(size=15))\n",
    "\n",
    "#show histograms\n",
    "show(hist.lmiss)\n",
    "show(hist.imiss)\n",
    "\n",
    "# Save plots silently\n",
    "suppressMessages({\n",
    "ggsave(plot=hist.lmiss, filename=\"Results/GWAS3/histlmiss.png\");\n",
    "ggsave(plot=hist.imiss, filename=\"Results/GWAS3/histimiss.png\");\n",
    "})"
   ]
  },
  {
   "cell_type": "markdown",
   "id": "6cd0f40c",
   "metadata": {},
   "source": [
    ":::{.callout-important title=\"Stop - Read - Solve\"}\n",
    "- What is the highest percentage of missingness for a SNP?\n",
    "- Are there individuals with no missing data?\n",
    "\n",
    ":::\n",
    "\n",
    "\n",
    ":::{.callout-tip title=\"Solution\" collapse=\"true\"}\n",
    "Here are a few observations we can make. Firstly, it's clear that very few individuals have no missing data at all. One interpretation could be that one or a few SNPs are poorly genotyped across all samples. Fortunately, this isn't the case here, otherwise the first plot would show many more SNPs with high missing frequency. As shown in the SNP-based histogram, the highest percentage of missing data for a SNP is around 0.05 (5%). Overall, **the histogram provides insight into how applying a missingness filter will affect the size of your remaining data**.\n",
    "\n",
    ":::\n",
    "\n",
    "<img src=\"Images/bash.png\" alt=\"Bash\" width=\"40\"> Switch to the Bash kernel.\n",
    "\n",
    "Next, we will use PLINK to filter the data using missingness thresholds to ensure data quality.\n",
    "\n",
    "We choose a 2% missingness threshold for both individuals and SNP, as only a few outliers exceed this rate (this threshold does not need to be the same for SNPs and individuals). Below, we provide the command to remove samples (`--mind`) and SNPs (`--geno`) above this threshold. The `--out` option defines the output prefix, and `--make-bed` denotes the output format (consisting of the three files `.bed`, `.bim`, `.fam`). \n",
    "\n",
    ":::{.callout-note}\n",
    "A good approach to filter by missingness, is to first remove the variants with very high missingness, for example above 20% (a rate of 0.2). Those are data of bad quality, and removing them can only improve the missingness of each sample, because it reduces its proportion of missing data. Then recalculate the missingness with plink (in case you need to plot the histograms again) and filter out with the more stringent threshold, first by samples and then again by variants. We do that below, even if it is not necessary with our example data.\n",
    ":::"
   ]
  },
  {
   "cell_type": "code",
   "execution_count": null,
   "id": "5077d592-61cd-4b33-8691-e0a77f06b326",
   "metadata": {
    "tags": []
   },
   "outputs": [],
   "source": [
    "plink --bfile Data/HapMap_3_r3_1 \\\n",
    "    --geno .2 \\\n",
    "    --make-bed \\\n",
    "    --out Results/GWAS3/HapMap_bad_variants\n",
    "\n",
    "#recalculate QC\n",
    "plink --bfile Data/HapMap_bad_variants --missing --out Results/GWAS3/rerun_qc --silent\n",
    "\n",
    "plink --bfile Results/GWAS3/HapMap_bad_variants \\\n",
    "    --mind .02 \\\n",
    "    --make-bed \\\n",
    "    --out Results/GWAS3/HapMap_sample_filter\n",
    "\n",
    "plink --bfile Results/GWAS3/HapMap_sample_filter \\\n",
    "    --geno .02 \\\n",
    "    --make-bed \\\n",
    "    --out Data/HapMap_3_r3_2"
   ]
  },
  {
   "cell_type": "markdown",
   "id": "cdd29854-6cb1-4f12-9e59-28b4668d3e49",
   "metadata": {},
   "source": [
    ":::{.callout-important title=\"Stop - Read - Solve\"}\n",
    "\n",
    "What happened during filtering?\n",
    "\n",
    "- How many individuals and variants were removed?\n",
    "- Can you preview the output files? Which command do you need for each file? Use it to print the first 5 lines of each file.\n",
    "- Why are you warned all the time that you have haploid genotypes present? Hint: one of the SNPs listed in the file with extension `.hh` [can be seen here on the UCSC genome browser](https://genome.ucsc.edu/cgi-bin/hgTracks?db=hg38&lastVirtModeType=default&lastVirtModeExtraState=&virtModeType=default&virtMode=0&nonVirtPosition=&position=chrX%3A3155530%2D3155730&hgsid=2490517225_1o9Rp70zFBoZWCdtszQWUrAEeofd)\n",
    "  \n",
    ":::"
   ]
  },
  {
   "cell_type": "code",
   "execution_count": null,
   "id": "1b3382a6-8c0d-4a9c-b3b9-381562c620ee",
   "metadata": {},
   "outputs": [],
   "source": [
    "# Write code here - fam file"
   ]
  },
  {
   "cell_type": "code",
   "execution_count": null,
   "id": "85e9ef99-d528-4092-a78f-64716bd1d67a",
   "metadata": {},
   "outputs": [],
   "source": [
    "# Write code here - bim file"
   ]
  },
  {
   "cell_type": "code",
   "execution_count": null,
   "id": "13a50218-0507-4c1d-877a-3f6f9b0c9870",
   "metadata": {},
   "outputs": [],
   "source": [
    "# Write code here - bed file"
   ]
  },
  {
   "cell_type": "markdown",
   "id": "62ae7663-15b9-46ba-b2a2-735caeccc978",
   "metadata": {},
   "source": [
    ":::{.callout-tip title=\"Solution\" collapse=\"true\"}\n",
    "\n",
    "If we read the messages from `plink`, only 1 individual has been removed (164 people left), while 26686 variants where above the filtering threshold.\n",
    "\n",
    "We can see a preview of the output files: those are again a set of `fam`, `bim` and `bed` file including only the data passing the filters. For the first two formats we can use `head`, while for the `bed` file we need also `xxd` because of the binary nature of the file.\n"
   ]
  },
  {
   "cell_type": "code",
   "execution_count": null,
   "id": "95d017ba-4ad1-4787-b1d1-901c99a57acc",
   "metadata": {},
   "outputs": [],
   "source": [
    "head -5 Results/GWAS3/HapMap_3_r3_2.fam"
   ]
  },
  {
   "cell_type": "code",
   "execution_count": null,
   "id": "14273355-f7d3-46d7-aee3-d0e26680ac72",
   "metadata": {},
   "outputs": [],
   "source": [
    "head -5 Results/GWAS3/HapMap_3_r3_2.bim"
   ]
  },
  {
   "cell_type": "code",
   "execution_count": null,
   "id": "ad7f12e6-a432-4a9c-a87b-5b5798584e6b",
   "metadata": {},
   "outputs": [],
   "source": [
    "xxd -b Results/GWAS3/HapMap_3_r3_2.bed | head -5"
   ]
  },
  {
   "cell_type": "markdown",
   "id": "0a25bd5c-d33f-462f-905d-d9c79a69d9ab",
   "metadata": {},
   "source": [
    "Now, if you looked into the file `HapMap_3_r3_2.hh`, you could look at the first SNP on the UCSC genome browser and find out it is on chromosome X"
   ]
  },
  {
   "cell_type": "code",
   "execution_count": null,
   "id": "570ccc05-cfd8-4e3a-a8bb-6333ab0d1117",
   "metadata": {},
   "outputs": [],
   "source": [
    "head -5 Results/GWAS3/HapMap_3_r3_2.hh"
   ]
  },
  {
   "cell_type": "markdown",
   "id": "5c6f5600-fc03-42e3-9193-96015bd30878",
   "metadata": {},
   "source": [
    "What happens is your data contains **heterozygous genotypes on haploid chromosomes** (such as the X chromosome in males or the Y/MT chromosomes), which is biologically not feasible. These genotypes are usually counted as missing in most tools. You are welcome to look at other SNPs on the UCSC browser, you will find out they are on those chromosomes."
   ]
  },
  {
   "cell_type": "markdown",
   "id": "57718660-d408-47f3-9b17-e1d96bf844aa",
   "metadata": {},
   "source": [
    ":::\n",
    "\n",
    "---"
   ]
  },
  {
   "cell_type": "markdown",
   "id": "c5234212-5744-4b4e-8608-00d7e5555a65",
   "metadata": {},
   "source": [
    "# Sex Discrepancy\n",
    "\n",
    "One useful check is verifying if the indicated sex is correct. Using PLINK, you can calculate the inbreeding coefficient on the X chromosome under the assumption that it is an autosomal chromosome. This approach is insightful because PLINK treats haploid chromosomes (like the X chromosome in males) as homozygotes due to technical reasons. Consequently, **assuming the X chromosome is autosomal makes males appear highly inbred on the X, whereas females do not** (since they have two X chromosomes). As a result, the inbreeding coefficient estimates will be close to 1 for males and 0 for females.\n",
    "\n",
    "## PLINK Commands\n",
    "\n",
    "This sex check can be performed in PLINK using the `--check-sex` option. The results are outputted in the file with extension `.sexcheck` (in the `Results/GWAS4` folder) in which the sex is in column `PEDSEX` (1 means male and 2 means female) and the inbreeding coefficient is in column `F`). \n",
    "\n",
    "Generally, males should have an X chromosome homozygosity estimate >0.8 and females should have a value <0.2. So we could simply remove any individuals where the homozygosity estimate (F) does not match their specified sex. Subjects who do not fulfill these requirements are flagged `PROBLEM` by PLINK in the output file.\n",
    "\n",
    "Note the option `--silent` to avoid long texts printed out on the screen."
   ]
  },
  {
   "cell_type": "code",
   "execution_count": null,
   "id": "bc02622c",
   "metadata": {
    "tags": []
   },
   "outputs": [],
   "source": [
    "plink --bfile Results/GWAS3/HapMap_3_r3_2 --check-sex --out Results/GWAS3/HapMap_3_r3_2 --silent"
   ]
  },
  {
   "cell_type": "markdown",
   "id": "8fb8b86b",
   "metadata": {},
   "source": [
    "<img src=\"Images/R.png\" alt=\"R\" width=\"40\"> Switch to the R kernel.\n",
    "\n",
    "We can visualize the results of the sex check by plotting three histograms for the F values in males, females, and all samples. Let's look at all sexes and males first. "
   ]
  },
  {
   "cell_type": "code",
   "execution_count": null,
   "id": "8ca49591-e1f1-4766-9dc9-3bf66670ba92",
   "metadata": {
    "tags": []
   },
   "outputs": [],
   "source": [
    "# Inbreeding coefficients for all sexes and for males/females separately\n",
    "suppressMessages(suppressWarnings(library(ggplot2)))\n",
    "options(repr.plot.width = 9, repr.plot.height = 4)\n",
    "\n",
    "# Read data into R and subset for sexes\n",
    "sex <- read.table(\"Results/GWAS3/HapMap_3_r3_2.sexcheck\", header=T,as.is=T)\n",
    "male <- subset(sex, sex$PEDSEX==1)\n",
    "\n",
    "# sex inbreeding coeff histogram\n",
    "hist.sex <- ggplot(sex, aes(x=sex[,6])) +\n",
    "  geom_histogram(col = \"black\", fill=\"tomato\", bins=50) + \n",
    "  labs(title = \"Values of F for all sexes\") + \n",
    "  xlab(\"F\") + \n",
    "  theme_bw() +\n",
    "  theme(axis.title=element_text(size=13), axis.text=element_text(size=13), plot.title=element_text(size=15))\n",
    "\n",
    "\n",
    "# Inbreeding coeff in males histogram\n",
    "hist.male <- ggplot(male, aes(x=male[,6])) +\n",
    "  geom_histogram(col = \"black\", fill=\"blue\", bins=50) + \n",
    "  labs(title = \"Values of F for males\") + \n",
    "  xlab(\"F\") + \n",
    "  theme_bw() +\n",
    "  theme(axis.title=element_text(size=13), axis.text=element_text(size=13), plot.title=element_text(size=15))\n",
    "\n",
    "\n",
    "show(hist.sex)\n",
    "show(hist.male)\n",
    "\n",
    "# Save plots \n",
    "ggsave(plot=hist.sex, filename=\"Results/GWAS3/histsex.png\")\n",
    "ggsave(plot=hist.male, filename=\"Results/GWAS3/histmale.png\")\n"
   ]
  },
  {
   "cell_type": "markdown",
   "id": "054fc475",
   "metadata": {},
   "source": [
    ":::{.callout-important title=\"Stop - Read - Solve\"}\n",
    "- A) Do the plots look as you would expect? \n",
    "- B) Modify the code above to plot the F values for females and save the plot as `Results/GWAS3/histfemale.png`\n",
    "- C) What can you conclude about the distribution of inbreeding coefficients between males and females? (pay attention to the axis ranges)\n",
    "\n",
    ":::\n"
   ]
  },
  {
   "cell_type": "code",
   "execution_count": null,
   "id": "15e474cd-6109-47dc-8843-02e8c0219935",
   "metadata": {},
   "outputs": [],
   "source": [
    "# Write your code here - female F values histogram "
   ]
  },
  {
   "cell_type": "markdown",
   "id": "32b1849d-2cdc-461f-b31c-cebd644bc3d0",
   "metadata": {},
   "source": [
    ":::{.callout-tip title=\"Solution\" collapse=\"true\"}\n",
    "\n",
    "A) Yes. \n",
    "\n",
    "B) You need to change the value `sex$PEDSEX==2` instead of `==1` in the code for the histogram, and change the file name at the end \n"
   ]
  },
  {
   "cell_type": "code",
   "execution_count": null,
   "id": "b346f7ac-a8d2-447b-963d-6807e21a85a8",
   "metadata": {
    "scrolled": true
   },
   "outputs": [],
   "source": [
    "# B) \n",
    "\n",
    "# subset females \n",
    "female <- subset(sex, sex$PEDSEX==2)\n",
    "\n",
    "# Inbreeding coeff in females histogram\n",
    "hist.female <- ggplot(female, aes(x=female[,6])) +\n",
    "  geom_histogram(col = \"black\", fill=\"blue\", bins=50) + \n",
    "  labs(title = \"Values of F for females\") + \n",
    "  xlab(\"F\") + \n",
    "  theme_bw() +\n",
    "  theme(axis.title=element_text(size=13), axis.text=element_text(size=13), plot.title=element_text(size=15))\n",
    "\n",
    "# Show hist\n",
    "show(hist.female)\n",
    "\n",
    "# Save plot \n",
    "ggsave(plot=hist.female, filename=\"Results/GWAS3/histfemale.png\")\n"
   ]
  },
  {
   "cell_type": "markdown",
   "id": "388882b1-0cdd-49a6-b821-160ffac5ce80",
   "metadata": {},
   "source": [
    "C) The inbreeding coefficient plot indicates that there is one woman with a sex discrepancy (F value of 0.99). When using other datasets often a few discrepancies might be found. \n",
    "\n",
    ":::\n",
    "\n",
    "---\n"
   ]
  },
  {
   "cell_type": "markdown",
   "id": "81902485-0b0c-4e0a-903d-fd24ea2d1dcd",
   "metadata": {},
   "source": [
    "### How can we proceed?\n",
    "\n",
    "We have two options when dealing with sex discrepancy. One is to simply remove any individual with sex discrepancy. In our case, this would involve removing the female with the F value of 0.99. \n",
    "\n",
    "<img src=\"Images/bash.png\" alt=\"bash\" width=\"40\"> Switch to the Bash kernel. \n",
    "\n",
    "Removal can be done with the command below. Use `grep` to find lines in the sexcheck file that contain `PROBLEM`. Then, pipe (send) the output to the command `awk` (using the so-called pipe symbol `|`). `awk` will extract the first two columns from each line identified by the `grep` command and redirect them to the file `sex_discrepancy.txt` using the symbol `>` (redirecting the output away from the screen/terminal)."
   ]
  },
  {
   "cell_type": "code",
   "execution_count": null,
   "id": "57f544c6",
   "metadata": {
    "tags": []
   },
   "outputs": [],
   "source": [
    "grep \"PROBLEM\" Results/GWAS3/HapMap_3_r3_2.sexcheck | awk '{print$1,$2}' > Results/GWAS3/sex_discrepancy.txt"
   ]
  },
  {
   "cell_type": "markdown",
   "id": "66aa4ebf-7ffe-4f96-a6db-6b2c151d0aca",
   "metadata": {},
   "source": [
    "Show the content of the file using `cat`:"
   ]
  },
  {
   "cell_type": "code",
   "execution_count": null,
   "id": "3e151a47-8fc2-4931-823f-40e2732b076b",
   "metadata": {
    "tags": []
   },
   "outputs": [],
   "source": [
    "cat Results/GWAS3/sex_discrepancy.txt"
   ]
  },
  {
   "cell_type": "markdown",
   "id": "700b47a6",
   "metadata": {},
   "source": [
    "For long files, you can simply count the number of lines in the file with `wc` (word count command)"
   ]
  },
  {
   "cell_type": "code",
   "execution_count": null,
   "id": "a9ca1c0b",
   "metadata": {
    "tags": []
   },
   "outputs": [],
   "source": [
    "wc -l Results/GWAS3/sex_discrepancy.txt"
   ]
  },
  {
   "cell_type": "markdown",
   "id": "c2b73cb8",
   "metadata": {},
   "source": [
    "The file can be provided to PLINK for removal of sex-discrepant individuals using the option `--remove`:"
   ]
  },
  {
   "cell_type": "code",
   "execution_count": null,
   "id": "5c10a26c",
   "metadata": {
    "tags": []
   },
   "outputs": [],
   "source": [
    "plink --bfile Results/GWAS3/HapMap_3_r3_2 \\\n",
    "    --remove Results/GWAS3/sex_discrepancy.txt \\\n",
    "    --make-bed --out Results/GWAS3/HapMap_3_r3_3 \\\n",
    "    --silent"
   ]
  },
  {
   "cell_type": "markdown",
   "id": "32882b66",
   "metadata": {},
   "source": [
    ":::{.callout-note title=\"Alternative approach\"}\n",
    "\n",
    "The other approach supported by PLINK is to impute the sex codes based on the SNP data, which is done with the command `--impute-sex` as shown below. \n",
    "\n",
    "```{bash}\n",
    "plink --bfile Results/GWAS3/HapMap_3_r3_2 --impute-sex --make-bed --out Results/GWAS3/HapMap_3_r3_3_alt\n",
    "\n",
    "```\n",
    "\n",
    "PLINK automatically detects and imputes incorrect sex information, requiring just an additional option to be specified. However, we will not be executing this command. Instead, we will retain only the dataset where incorrect sexes have already been filtered out: `Results/GWAS3/HapMap_3_r3_3`.\n",
    "\n",
    ":::"
   ]
  },
  {
   "cell_type": "markdown",
   "id": "d5990d70",
   "metadata": {},
   "source": [
    "# Minor Allele Frequency (MAF)\n",
    "\n",
    "Excluding SNPs based on minor allele frequency (MAF) is somewhat controversial. In a sense, it has little to do with quality control – there is no reason to think there are any errors in the data. The main justification is statistical:\n",
    "\n",
    "- If MAF is low, and the SNP is rare, then the power is low (i.e. don’t spend multiple testing corrections on tests that are unlikely to find anything anyway).\n",
    "- Some statistical methods perform badly with low MAF (e.g. the chi-squared-test).\n",
    "\n",
    "An appropriate cutoff definitely depends on sample size – the larger the sample, the greater your ability to include rare SNPs. Typically, researchers utilize thresholds  of 0.1 or 0.05 [@kanaka_concepts_2023].\n",
    "\n",
    "## PLINK commands\n",
    "\n",
    "Filtering data based on the minor allele frequencies is done in a similar way to previous commands. If you want to get rid only of the fixed SNPs, you specify a MAF threshold of 0, which can be done by the command `--maf 0`.\n",
    "\n",
    ":::{.callout-warning}\n",
    "\n",
    "One should **limit MAF analysis to only autosomal chromosomes**, meaning you need to generate a subset of the data containing only autosomal chromosomes as done below.\n",
    "\n",
    ":::\n",
    "\n",
    "First, we extract the SNP identifiers from chromosomes 1 to 22 with `awk`, and redirect the output to the file `snp_1_22.txt`. Then, PLINK can extract those SNPs using the option `--extract`:"
   ]
  },
  {
   "cell_type": "code",
   "execution_count": null,
   "id": "80174ebb",
   "metadata": {
    "tags": []
   },
   "outputs": [],
   "source": [
    "# Get a file with autosomal variants\n",
    "awk '{ if ($1 >= 1 && $1 <= 22) print $2 }' Results/GWAS3/HapMap_3_r3_3.bim > Results/GWAS3/snp_1_22.txt\n",
    "# Filter data based on the list of SNPs\n",
    "plink --bfile Results/GWAS3/HapMap_3_r3_3 \\\n",
    "    --extract Results/GWAS3/snp_1_22.txt \\\n",
    "    --make-bed \\\n",
    "    --out Results/GWAS3/HapMap_3_r3_4 \\\n",
    "    --silent"
   ]
  },
  {
   "cell_type": "markdown",
   "id": "a5398bfa-2b0c-41cf-80fe-fcc01b8e3d8c",
   "metadata": {},
   "source": [
    ":::{.callout-important title=\"Stop - Read - Solve\"}\n",
    "\n",
    "How can you verify if only the autosomal regions are present in the output? Retrieve a list of chromosomes present in one of the files with the prefix `Results/GWAS3/HapMap_3_r3_4`.\n",
    "\n",
    ":::"
   ]
  },
  {
   "cell_type": "code",
   "execution_count": null,
   "id": "90aaf03e-e293-48ee-8a48-e9915fb6bc30",
   "metadata": {},
   "outputs": [],
   "source": [
    "# write your code"
   ]
  },
  {
   "cell_type": "markdown",
   "id": "b08f9cf2-c934-4ac7-a777-b38f0970f89c",
   "metadata": {},
   "source": [
    ":::{.callout-tip title=\"Solution\" collapse=\"true\"}\n",
    "\n",
    "SNPs are saved in the output `bim` file and the first column contains the chromosome names. So, we just need to extract the first column, and check the unique names (as extra, we count how many times each chromosome occurs):\n"
   ]
  },
  {
   "cell_type": "code",
   "execution_count": null,
   "id": "9bd82caf-88b2-4140-b302-bf3dce3ae505",
   "metadata": {},
   "outputs": [],
   "source": [
    "cut -f 1 Results/GWAS3/HapMap_3_r3_4.bim | uniq -c"
   ]
  },
  {
   "cell_type": "markdown",
   "id": "2dbcf812-49c5-4ba1-b76c-366dd5966255",
   "metadata": {},
   "source": [
    "You can do exactly the same with `awk`"
   ]
  },
  {
   "cell_type": "code",
   "execution_count": null,
   "id": "578c0fee-f945-466a-abc0-fb2c6ba238ef",
   "metadata": {},
   "outputs": [],
   "source": [
    "awk '{print$1}' Results/GWAS3/HapMap_3_r3_4.bim | uniq -c"
   ]
  },
  {
   "cell_type": "markdown",
   "id": "b6e311af-d256-4925-958f-6aa8ea8ddc63",
   "metadata": {},
   "source": [
    ":::\n",
    "\n",
    "---"
   ]
  },
  {
   "cell_type": "markdown",
   "id": "dcb8be79",
   "metadata": {},
   "source": [
    "Now that we have a set of files containing only autosomal chromosomes, let's obtain summary statistics for the minor allele frequency and plot the values on a histogram. This can be done using the `--freq` option in PLINK.\n",
    "\n",
    ":::{.callout-important title=\"Stop - Read - Solve\"}\n",
    "**Try to write the PLINK command below before reviewing the command provided.** \n",
    "\n",
    "Hint: Remember most PLINK commands are written in this basic form:\n",
    "\n",
    "```\n",
    "plink --bfile INPUT --out OUTPUT\n",
    "```\n",
    "\n",
    "with the additional option `--make-bed` if you need to generate a modified version of the data. Now you want to calculate the `MAF` of the data, so `--make-bed` is not needed, but you need the option `--freq` to calculate frequencies from the INPUT. You will need to give a name for the output containing the frequencies. Use the INPUT `Results/GWAS3/HapMap_3_r3_4` (the last data in use) and the OUTPUT `Results/GWAS3/MAF_check`.\n",
    "\n",
    ":::"
   ]
  },
  {
   "cell_type": "code",
   "execution_count": null,
   "id": "f0316fff-9e1d-46d7-9f64-01fa8b2e083f",
   "metadata": {},
   "outputs": [],
   "source": [
    "# Your PLINK command"
   ]
  },
  {
   "cell_type": "markdown",
   "id": "0a925d7f-8172-4bdd-8c26-3833d7ef08c3",
   "metadata": {},
   "source": [
    ":::{.callout-tip title=\"Solution\" collapse=\"true\"}\n",
    "Here the correct command. Check if it matches yours (the `--silent` option is to avoid long outputs on the screen, but has no effect on data)\n"
   ]
  },
  {
   "cell_type": "code",
   "execution_count": null,
   "id": "d7fe20f4",
   "metadata": {
    "tags": []
   },
   "outputs": [],
   "source": [
    "plink --bfile Results/GWAS3/HapMap_3_r3_4 --freq --out Results/GWAS3/MAF_check --silent"
   ]
  },
  {
   "cell_type": "markdown",
   "id": "0851ebcf-c745-4a26-b25a-d41e0a110a0c",
   "metadata": {},
   "source": [
    ":::\n",
    "\n",
    "---"
   ]
  },
  {
   "cell_type": "markdown",
   "id": "530c817e-ccb1-491b-9ad2-5ce36e2d5538",
   "metadata": {},
   "source": [
    "<img src=\"Images/R.png\" alt=\"R\" width=\"40\">  Switch to the R kernel.\n",
    "\n",
    "Let's plot the MAF histogram using `R`. We will have a second plot, which is a zoom-in version with MAF up to 0.1 to better observe the low MAF values. Note: The zoom-in version will throw some warnings as data points are removed, but don't worry about it."
   ]
  },
  {
   "cell_type": "code",
   "execution_count": null,
   "id": "c8e23649-69c5-4bc1-a4c3-5f47c113f947",
   "metadata": {
    "tags": []
   },
   "outputs": [],
   "source": [
    "# MAF plot only for autosomal SNPs. Note the zoomed interval (0,0.1)\n",
    "suppressMessages(suppressWarnings(library(ggplot2)))\n",
    "options(repr.plot.width = 9, repr.plot.height = 4)\n",
    "\n",
    "# Read data into R \n",
    "maf_freq <- read.table(\"Results/GWAS3/MAF_check.frq\", header =TRUE, as.is=T)\n",
    "\n",
    "summary(maf_freq$MAF)\n",
    "\n",
    "# maf_freq histogram\n",
    "hist.maf <- ggplot(maf_freq, aes(x=maf_freq[,5])) +\n",
    "  geom_histogram(col = \"black\", fill=\"tomato\", bins=50) + \n",
    "  labs(title = \"MAF distribution\") + \n",
    "  xlab(\"MAF\") + \n",
    "  ylab(\"Frequency\") +\n",
    "  theme_bw()\n",
    "\n",
    "# zoom-in into X-axis\n",
    "hist.maf.zoom <- ggplot(maf_freq, aes(x=maf_freq[,5])) +\n",
    "  geom_histogram(col = \"black\", fill=\"tomato\", bins = 10) + \n",
    "  labs(title = \"Zoom into MAF distribution up to value 0.1\") + \n",
    "  xlab(\"MAF\") + \n",
    "  ylab(\"Frequency\") +\n",
    "  xlim(0, 0.1) +\n",
    "  theme_bw()\n",
    "\n",
    "\n",
    "show(hist.maf)\n",
    "show(hist.maf.zoom)\n",
    "\n",
    "# Save plot\n",
    "suppressMessages(ggsave(plot=hist.maf, filename=\"Results/GWAS3/histmaf.png\"))"
   ]
  },
  {
   "cell_type": "markdown",
   "id": "0b5a7c8d",
   "metadata": {},
   "source": [
    "<img src=\"Images/bash.png\" alt=\"bash\" width=\"40\">  Switch to the Bash kernel.\n",
    "\n",
    "As stated above, your MAF threshold depends on sample size, though a conventional MAF threshold for a regular GWAS is between 0.01 and 0.05. Here, to ensure the inclusion of only SNPs we will apply a MAF threshold of 0.05 (that is, remove SNPs where the MAF is 5% or less). The threshold is given with the option `--maf`:"
   ]
  },
  {
   "cell_type": "code",
   "execution_count": null,
   "id": "465be532",
   "metadata": {
    "tags": []
   },
   "outputs": [],
   "source": [
    "# Remove SNPs with a low MAF frequency.\n",
    "plink --bfile Results/GWAS3/HapMap_3_r3_4 \\\n",
    "    --maf 0.05 \\\n",
    "    --make-bed \\\n",
    "    --out Results/GWAS3/HapMap_3_r3_5 \\\n",
    "    --silent"
   ]
  },
  {
   "cell_type": "markdown",
   "id": "d965c4bf-0cd4-441d-85db-df738d71bf1c",
   "metadata": {},
   "source": [
    ":::{.callout-important title=\"Stop - Read - Solve\"}\n",
    "\n",
    "- **Determine the number of SNPs remaining after applying quality control measures.** Hint: Check the `.bim` file from the output with the prefix `Results/GWAS3/HapMap_3_r3_5`.\n",
    "- **Repeat the process for a MAF threshold of 0.01. How many additional SNPs would be retrieved?** Do not overwrite the output from the command above! Please, rename the output prefix (e.g. `Results/GWAS3/HapMap_3_r3_5_alt`)\n",
    "\n",
    ":::"
   ]
  },
  {
   "cell_type": "code",
   "execution_count": null,
   "id": "c06831c1-f8b7-4461-a259-e79b621ea3a1",
   "metadata": {},
   "outputs": [],
   "source": [
    "# Write your code here - maf > 0.05"
   ]
  },
  {
   "cell_type": "code",
   "execution_count": null,
   "id": "2c7d1f11-6365-44d1-b78e-ff12ec48abdf",
   "metadata": {},
   "outputs": [],
   "source": [
    "# Write your code here - maf > 0.01"
   ]
  },
  {
   "cell_type": "markdown",
   "id": "18ea1bda-20de-4ad1-b7f6-ad484caf04a1",
   "metadata": {},
   "source": [
    ":::{.callout-tip title=\"Solution\" collapse=\"true\"}\n",
    "\n",
    "Check the number of lines of the `.bim` file using `wc -l` and modify the plink command from above:\n"
   ]
  },
  {
   "cell_type": "code",
   "execution_count": null,
   "id": "c3466a68-a536-4265-b80a-9c9474424410",
   "metadata": {},
   "outputs": [],
   "source": [
    "wc -l Results/GWAS3/HapMap_3_r3_5.bim"
   ]
  },
  {
   "cell_type": "code",
   "execution_count": null,
   "id": "25787f46-8b93-4fd3-ac89-c234362eefbd",
   "metadata": {},
   "outputs": [],
   "source": [
    "# plink filtering step\n",
    "plink --bfile Results/GWAS3/HapMap_3_r3_4 \\\n",
    "    --maf 0.01 \\\n",
    "    --make-bed \\\n",
    "    --out Results/GWAS3/HapMap_3_r3_5_alt \\\n",
    "    --silent\n",
    "    \n",
    "# get number of variants\n",
    "wc -l Results/GWAS3/HapMap_3_r3_5_alt.bim"
   ]
  },
  {
   "cell_type": "markdown",
   "id": "43d28e45-8c75-4966-b017-86b089afadfc",
   "metadata": {},
   "source": [
    "The difference between the two threshold is ~100,000 SNPS, precisely"
   ]
  },
  {
   "cell_type": "code",
   "execution_count": null,
   "id": "b4124ccf-1aa1-4cd7-8a1d-00bdff1b20e2",
   "metadata": {},
   "outputs": [],
   "source": [
    "res = $(($(wc -l < Results/GWAS3/HapMap_3_r3_5.bim) - $(wc -l < Results/GWAS3/HapMap_3_r3_5_alt.bim)))\n",
    "echo $res"
   ]
  },
  {
   "cell_type": "markdown",
   "id": "b56d5698-a608-45c4-ad44-6419f5c81593",
   "metadata": {},
   "source": [
    ":::\n",
    "\n",
    "---\n",
    "\n"
   ]
  },
  {
   "cell_type": "markdown",
   "id": "124b254e",
   "metadata": {},
   "source": [
    "It is worth noting that no matter what the sample size is, monomorphic SNPs (i.e., SNPs that show no genetic variation whatsoever in the sample) are usually problematic and should always be removed. Some code crashes when monomorphic SNPs are included; even if this wasn’t the case, these SNPs cannot possibly be informative in a genome-wide association study."
   ]
  },
  {
   "cell_type": "markdown",
   "id": "804137f3",
   "metadata": {},
   "source": [
    "# Hardy-Weinberg Equilibrium (HWE)"
   ]
  },
  {
   "cell_type": "markdown",
   "id": "4a6ff32a-5e5a-4f44-9d2e-3fe1cce76fee",
   "metadata": {
    "editable": true,
    "slideshow": {
     "slide_type": ""
    },
    "tags": []
   },
   "source": [
    "The Hardy-Weinberg rule from population genetics states that genetic variation (thus, allele and genotype frequencies) in a population will remain constant unless certain disturbing factors are introduced. his implies that once we know the allele frequencies for $p$ and $q$, the genotype frequencies will be defined as $p^2$, $2pq$, and $q^2$.\n",
    "\n",
    "Let's say the frequency of allele A ($p$ in the equation) is 0.4, and that of allele B ($q$) is 0.6. This means for the H-W scenario the genotype frequencies will be 0.16 for AA, 0.48 for AB, and 0.36 for BB. In a population of e.g. 1000 individuals with the mentioned allele frequencies we expect to see 160 AA, 480 AB, and 360 BB individuals. Of course, we rarely see exact H-W distributions in real populations. The question then becomes, what is the difference between the expected H-W and observed proportions? There are typically two reasons why a SNP is not in HWE:\n",
    "\n",
    "* Genotyping error for this SNP\n",
    "* Mating is not random\n",
    "\n",
    "In reality, mating is not random, which complicates excluding SNPs based on HWE. It is generally recommended to exclude an SNP only when HWE is significantly violated, such as when the p-value for a statistical test (e.g., assessing whether the data follow a binomial distribution) is extremely low, like p-value p<10e−10 \n"
   ]
  },
  {
   "cell_type": "markdown",
   "id": "df7ff620-4b39-4a4f-a019-f3203310dec6",
   "metadata": {},
   "source": [
    ":::{.callout-note title=\"HWE and binomial distribution\"}\n",
    "\n",
    "**Why is HWE connected to the binomial distribution? What is the ground theory behind HWE?** \n",
    "\n",
    "You can find a clear explanation of HWE at [@lachance_hardyweinberg_2016].\n",
    "\n",
    ":::"
   ]
  },
  {
   "cell_type": "markdown",
   "id": "13184de9",
   "metadata": {},
   "source": [
    "## PLINK commands\n",
    "\n",
    "We can use the option `--hardy` in PLINK to generate H-W p-values (as well as observed and expected heterozygosity). Then, use `awk` to select SNPs (column 9 of the file) with HWE p-value < 0.0001, indicating a strong deviation from HWE."
   ]
  },
  {
   "cell_type": "code",
   "execution_count": null,
   "id": "67839627",
   "metadata": {
    "scrolled": true,
    "tags": []
   },
   "outputs": [],
   "source": [
    "plink --bfile Results/GWAS3/HapMap_3_r3_5 --hardy --out Results/GWAS3/HapMap_3_r3_5 --silent\n",
    "\n",
    "awk '{ if ($9 <0.00001) print $0 }' Results/GWAS3/HapMap_3_r3_5.hwe > Results/GWAS3/HapMap_3_r3_5.deviating.hwe"
   ]
  },
  {
   "cell_type": "markdown",
   "id": "a70caceb-76c1-4f61-9f28-778c526b1ffd",
   "metadata": {},
   "source": [
    "**What can we conclude about the data from the generated files?**\n"
   ]
  },
  {
   "cell_type": "markdown",
   "id": "204571e2-90a7-4615-baf3-ef1d237dfb01",
   "metadata": {},
   "source": [
    "<img src=\"Images/R.png\" alt=\"R\" width=\"40\">  Switch to the R kernel.\n",
    "\n",
    "Let's plot a histogram of the HWE p-values and zoom in for the deviating p-values. To do this, we need to read the PLINK output and examine the table with the low HWE p-values. The header of the PLINK output includes the following fields:\n",
    "\n",
    "- `CHR`: Chromosome number.\n",
    "- `SNP`: SNP identifier (rsID).\n",
    "- `TEST`: Type of HWE test performed. This will usually be \"UNAFF\" for the test on controls if your data has case/control status.\n",
    "- `A1`: First allele (reference allele).\n",
    "- `A2`: Second allele (alternate allele).\n",
    "- `GENO`: Genotype counts in the format \"HOM1/HET/HOM2\", where HOM1 is the count of homozygous for the first allele, HET is the count of heterozygous, and HOM2 is the - count of homozygous for the second allele.\n",
    "- `O(HET)`: Observed heterozygote frequency.\n",
    "- `E(HET)`: Expected heterozygote frequency.\n",
    "- `P`: Hardy-Weinberg equilibrium exact test p-value.\n",
    "  \n",
    "We will modify the values in the `TEST` column to have more readable names for the plots and save the updated values in the `Phenotype` column."
   ]
  },
  {
   "cell_type": "code",
   "execution_count": null,
   "id": "abe983c3-2cde-453c-9f32-118e2fcca040",
   "metadata": {
    "tags": []
   },
   "outputs": [],
   "source": [
    "# HWE tables\n",
    "suppressMessages(suppressWarnings(library(dplyr)))\n",
    "\n",
    "# Read data into R using dplyr library \n",
    "hwe <- read.table(file=\"Results/GWAS3/HapMap_3_r3_5.hwe\", header=TRUE)\n",
    "hwe_zoom <- read.table(file=\"Results/GWAS3/HapMap_3_r3_5.deviating.hwe\", header=FALSE)\n",
    "# Add column names \n",
    "colnames(hwe_zoom) <- colnames(hwe)\n",
    "# Modify colnames \n",
    "hwe$Phenotype <- recode(hwe$TEST, \"ALL\"=\"All\", \"UNAFF\"=\"Control\", \"AFF\"=\"Non-Control\")\n",
    "hwe_zoom$Phenotype <- recode(hwe_zoom$TEST, \"ALL\"=\"All\", \"UNAFF\"=\"Control\", \"AFF\"=\"Non-Control\")"
   ]
  },
  {
   "cell_type": "markdown",
   "id": "12f7b311-1049-47fb-bedd-f616625538dd",
   "metadata": {},
   "source": [
    "Here, we print the first rows of the two generated tables"
   ]
  },
  {
   "cell_type": "code",
   "execution_count": null,
   "id": "74418d2d-22de-4162-8144-5e5360f211be",
   "metadata": {
    "tags": []
   },
   "outputs": [],
   "source": [
    "head(hwe)\n",
    "head(hwe_zoom)"
   ]
  },
  {
   "cell_type": "markdown",
   "id": "5fa26f9f-c6a3-4479-bd30-9f8dcbd60e72",
   "metadata": {},
   "source": [
    "Now, we can plot the histograms. We isolate each \"phenotype\" to see if there are any significant differences in p-value distribution between them."
   ]
  },
  {
   "cell_type": "code",
   "execution_count": null,
   "id": "48e8396f-5b57-472c-b347-2b3a7879c277",
   "metadata": {
    "scrolled": true,
    "tags": []
   },
   "outputs": [],
   "source": [
    "# HWE p-values calculated with PLINK and zoom for the SNPs deviating from HWE. We can spot some deviations from HWE in the zoomed plot. Note that the p+values for the phenotype `All` is not the merging of the barplots from the other two phenotypes!\n",
    "suppressMessages(suppressWarnings(library(ggplot2)))\n",
    "options(repr.plot.width = 9, repr.plot.height = 4)\n",
    "\n",
    "# maf_freq histogram\n",
    "hist.hwe <- ggplot(hwe, aes(x=hwe[,9])) +\n",
    "  geom_histogram(col = \"black\", fill=\"tomato\", bins=50) + \n",
    "  labs(title = \"HWE distribution\") + \n",
    "  xlab(\"HWE p-value\") + \n",
    "  ylab(\"Frequency\") +\n",
    "  facet_wrap(~Phenotype) +\n",
    "  theme_bw() + \n",
    "  theme(axis.title=element_text(size=13), axis.text=element_text(size=13), plot.title=element_text(size=15),strip.text = element_text(size = 14))\n",
    "\n",
    "# maf_freq histogram\n",
    "hist.hwe_below_threshold <- ggplot(hwe_zoom, aes(x=hwe_zoom[,9])) +\n",
    "  geom_histogram(binwidth = 0.0000015, col = \"black\", fill=\"tomato\") + \n",
    "  labs(title = \"HWE distribution for strongly deviating SNPs only\") + \n",
    "  xlab(\"HWE p-value\") + \n",
    "  ylab(\"Frequency\") +\n",
    "  facet_wrap(~Phenotype) +\n",
    "  theme_bw() +\n",
    "  theme(axis.title=element_text(size=13), axis.text=element_text(size=10.5), plot.title=element_text(size=15),strip.text = element_text(size = 14))\n",
    "\n",
    "show(hist.hwe)\n",
    "show(hist.hwe_below_threshold)\n",
    "\n",
    "# Save plots \n",
    "suppressMessages({\n",
    "ggsave(plot=hist.hwe, filename=\"Results/GWAS3/histhwe.png\");\n",
    "ggsave(plot=hist.hwe_below_threshold, filename=\"Results/GWAS3/histhwe_below_threshold.png\");})"
   ]
  },
  {
   "cell_type": "markdown",
   "id": "0b3ea338",
   "metadata": {},
   "source": [
    "<img src=\"Images/bash.png\" alt=\"bash\" width=\"40\">  Switch to the Bash kernel.\n",
    "\n",
    "Almost all of our SNPs are in HWE, as determined by testing whether the alleles follow a binomial distribution. However, in our zoomed-in plot, we can spot a few extreme deviations. We can remove these outliers using the option `--hwe` in PLINK with the specified threshold. Note that `--hwe` filters only on controls, so if you want to apply the threshold to non-controls as well, add the `include-nonctrl` in the command. In the first step below, we filter controls using a threshold of `1e-6`, followed by filtering all phenotypes with a threshold `1e-10`:"
   ]
  },
  {
   "cell_type": "code",
   "execution_count": null,
   "id": "f64ffce1",
   "metadata": {
    "tags": []
   },
   "outputs": [],
   "source": [
    "# filter applied to controls \n",
    "plink --bfile Results/GWAS3/HapMap_3_r3_5 --hwe 1e-6 --make-bed --out Results/GWAS3/HapMap_3_r3_5_onlycontrols"
   ]
  },
  {
   "cell_type": "code",
   "execution_count": null,
   "id": "5151da4b",
   "metadata": {
    "tags": []
   },
   "outputs": [],
   "source": [
    "# threshold apply to all ind\n",
    "plink --bfile Results/GWAS3/HapMap_3_r3_5_onlycontrols --hwe 1e-10 include-nonctrl --make-bed --out Results/GWAS3/HapMap_3_r3_6"
   ]
  },
  {
   "cell_type": "markdown",
   "id": "3c70a680-0bec-4c03-8166-495525baf4e1",
   "metadata": {},
   "source": [
    "This was just an example to show the commands, but you can notice how the filter removed 0 variants."
   ]
  },
  {
   "cell_type": "markdown",
   "id": "fa964b43-56a8-4fbf-91f3-47e6dd05b9f6",
   "metadata": {},
   "source": [
    ":::{.callout-note}\n",
    "**Why using a softer filtering threshold for HWE?** HWE test assumes that the population is **randomly mating without strong selection, migration, or genotyping errors**. Since cases may be under selective pressure due to the disease, they may deviate from HWE due to association with the phenotype rather than genotyping errors or population structure.\n",
    "\n",
    "Thus it is better to choose a lower threshold for cases, or avoiding filtering them at all according to HWE.\n",
    ":::"
   ]
  },
  {
   "cell_type": "markdown",
   "id": "6f60a633",
   "metadata": {},
   "source": [
    "# Heterozygosity Rate\n",
    "\n",
    "We filter individuals based on their heterozygosity rate, which is similar to HWE but applied at the individual level. If an individual has an unusually high number of heterozygous calls (A/B) and no homozygous calls (A/A or B/B), or vice versa, it could indicate data issues.\n",
    "\n",
    "## PLINK commands\n",
    "PLINK does not provide a summary of individual heterozygosity. To assess this, we first prune the dataset by excluding highly correlated SNPs, as they reduce analysis power. We use `--indep-pairwise <window size>['kb'] <step size (variant ct)> <r^2 threshold>` to prune SNPs in high Linkage Disequilibrium, excluding high inversion regions (`--exclude` with `Data/inversion.txt`). For more information, click [here](https://www.cog-genomics.org/plink/1.9/ld). \n",
    "\n",
    "In our case, the parameters for the `--indep-pairwise` are `50 5 0.2` representing the window size, shift-window step count, and correlation threshold for pruning. Once we have the pruned list, we will check heterozygosity on the **set of SNPs that are not highly correlated**. "
   ]
  },
  {
   "cell_type": "code",
   "execution_count": null,
   "id": "6cb3ed80",
   "metadata": {
    "tags": []
   },
   "outputs": [],
   "source": [
    "plink --bfile Results/GWAS3/HapMap_3_r3_6 \\\n",
    "    --exclude Data/inversion.txt \\\n",
    "    --range \\\n",
    "    --indep-pairwise 50 5 0.2 \\\n",
    "    --out Results/GWAS3/indepSNP \\\n",
    "    --silent"
   ]
  },
  {
   "cell_type": "markdown",
   "id": "6fbd312e",
   "metadata": {},
   "source": [
    "With this pruned list, we measure the heterozygosity rates of the individuals in the remaining independent SNPs."
   ]
  },
  {
   "cell_type": "code",
   "execution_count": null,
   "id": "a551b42f",
   "metadata": {
    "tags": []
   },
   "outputs": [],
   "source": [
    "plink --bfile Results/GWAS3/HapMap_3_r3_6 \\\n",
    "    --extract Results/GWAS3/indepSNP.prune.in \\\n",
    "    --het \\\n",
    "    --out Results/GWAS3/R_check \\\n",
    "    --silent"
   ]
  },
  {
   "cell_type": "markdown",
   "id": "b41b19b1-ba6b-439e-86b4-25c6b0b26f22",
   "metadata": {},
   "source": [
    "<img src=\"Images/R.png\" alt=\"R\" width=\"40\">  Switch to the R kernel.\n",
    "\n",
    "Now, let's plot the distribution of heterozygosity rates. Again, we will first examine the heterozygosity table. The `--het` option in PLINK generates an output table with the following columns:\n",
    "\n",
    "- `FID`: Individual's Family ID.\n",
    "- `IID`: Individual ID within the family.\n",
    "- `O(HOM)`: Observed number of homozygous genotypes.\n",
    "- `E(HOM)`: Expected number of homozygous genotypes under Hardy-Weinberg equilibrium.\n",
    "- `N(NM)`: Number of non-missing autosomal genotypes.\n",
    "- `F`: Inbreeding coefficient, which is calculated as  $\\tfrac{(E(HOM)−O(HOM))}{N(NM)}$."
   ]
  },
  {
   "cell_type": "code",
   "execution_count": null,
   "id": "1c961837-0788-43d5-a5b0-6f65e147f7a6",
   "metadata": {
    "tags": []
   },
   "outputs": [],
   "source": [
    "het <- read.table(\"Results/GWAS3/R_check.het\", head=TRUE)\n",
    "head(het)"
   ]
  },
  {
   "cell_type": "markdown",
   "id": "2da1e4dd-fb02-49e0-8932-65291c1c6d06",
   "metadata": {},
   "source": [
    "We will calculate the heterozygosity rates manually for plotting, as they are not included by default in the table. The formula is $N(NM)-O(HOM)/N(NM)$"
   ]
  },
  {
   "cell_type": "code",
   "execution_count": null,
   "id": "80d47e15-ca66-44b2-b27a-da477b9d5648",
   "metadata": {
    "tags": []
   },
   "outputs": [],
   "source": [
    "# Barplot for heterozigosity rates\n",
    "suppressMessages(suppressWarnings(library(ggplot2)))\n",
    "options(repr.plot.width = 9, repr.plot.height = 4)\n",
    "\n",
    "het$HET_RATE = (het$\"N.NM.\" - het$\"O.HOM.\")/het$\"N.NM.\"\n",
    "\n",
    "# plink.imiss histogram\n",
    "hist.het <- ggplot(het, aes(x=HET_RATE)) +\n",
    "  geom_histogram(binwidth = 0.001, col = \"black\", fill=\"tomato\") + \n",
    "  labs(title = \"Heterozygosity Rates\") + \n",
    "  xlab(\"Heterozygosity Rate\") + \n",
    "  ylab(\"Frequency\") + \n",
    "  theme_bw() +\n",
    "  theme(axis.title=element_text(size=13), axis.text=element_text(size=10.5), plot.title=element_text(size=15))\n",
    "\n",
    "\n",
    "show(hist.het)\n",
    "\n",
    "# Save plots \n",
    "suppressMessages(ggsave(plot=hist.het, filename=\"Results/GWAS3/heterozygosity.png\"))"
   ]
  },
  {
   "cell_type": "markdown",
   "id": "1be72c26",
   "metadata": {},
   "source": [
    "As a rule of thumb, **we remove individuals whose heterozygosity deviates (sd) more than 3 standard deviations from the mean**. We will create a file that subsets the heterozygosity table based on this threshold for use in PLINK removal. Additionally, we'll add a `HET_DST` column to the table containing the standardized heterozygosity values."
   ]
  },
  {
   "cell_type": "code",
   "execution_count": null,
   "id": "963e0a29",
   "metadata": {
    "tags": []
   },
   "outputs": [],
   "source": [
    "suppressMessages(suppressWarnings(library(dplyr)))\n",
    "\n",
    "# read file \n",
    "het <- read.table(\"Results/GWAS3/R_check.het\", head=TRUE)\n",
    "# add column with heterozygocity rates\n",
    "het$HET_RATE = (het$\"N.NM.\" - het$\"O.HOM.\")/het$\"N.NM.\"\n",
    "\n",
    "# Substract inds that deviate more than sd=3 from the mean \n",
    "het_fail <- subset(het, (het$HET_RATE < mean(het$HET_RATE)-3*sd(het$HET_RATE)) | \n",
    "                    (het$HET_RATE > mean(het$HET_RATE)+3*sd(het$HET_RATE)))\n",
    "\n",
    "# Add column with standardized heterozygosity rates\n",
    "het_fail$HET_DST <- (het_fail$HET_RATE-mean(het$HET_RATE))/sd(het$HET_RATE)\n",
    "\n",
    "# write file \n",
    "write.table(het_fail, \"Results/GWAS3/fail-het-qc.txt\", row.names=FALSE, quote=FALSE)"
   ]
  },
  {
   "cell_type": "markdown",
   "id": "a6419bd6-18d3-426f-b90e-8f34c1899375",
   "metadata": {},
   "source": [
    ":::{.callout-important title=\"Stop - Read - Solve\"}\n",
    "\n",
    "The output of the R code is saved as `fail-het-qc.txt`. Let's check how many individuals are picked up as having a heterozygosity rate deviating more than 3 SDs from the mean. \n",
    "\n",
    "Hint: `wc -l` counts only the lines in the file (incl. header). \n",
    "\n",
    "<img src=\"Images/bash.png\" alt=\"bash\" width=\"40\">  Switch to the Bash kernel.\n",
    "\n",
    ":::"
   ]
  },
  {
   "cell_type": "code",
   "execution_count": null,
   "id": "e63bbd7f-001e-47d3-a888-c57aac1ac518",
   "metadata": {},
   "outputs": [],
   "source": [
    "#Write your code here"
   ]
  },
  {
   "cell_type": "markdown",
   "id": "cc985570-9f2a-4a20-ad44-5b770a6b9270",
   "metadata": {
    "tags": []
   },
   "source": [
    ":::{.callout-tip title=\"Solution\" collapse=\"true\"}\n",
    "\n",
    "We can count the lines (one is the header) of the file - remember the first line is the header of the table, meaning there is one individual less which deviates from the average heterozigosity. To use the file in PLINK, we need only the first two columns (Family ID and Individual ID) as shown below\n"
   ]
  },
  {
   "cell_type": "code",
   "execution_count": null,
   "id": "2b73c8ce-c9c4-4f7d-b571-acb4a7efcc8c",
   "metadata": {},
   "outputs": [],
   "source": [
    "wc -l Results/GWAS3/fail-het-qc.txt"
   ]
  },
  {
   "cell_type": "markdown",
   "id": "85712881-1b5d-4fd4-ae62-425a947b125a",
   "metadata": {},
   "source": [
    "We need the first two columns to create the list of individuals to remove."
   ]
  },
  {
   "cell_type": "code",
   "execution_count": null,
   "id": "ffe3b148-7c59-4f7b-ad72-87e44359e73a",
   "metadata": {
    "tags": []
   },
   "outputs": [],
   "source": [
    "cat Results/GWAS3/fail-het-qc.txt"
   ]
  },
  {
   "cell_type": "markdown",
   "id": "1fe4f0c2",
   "metadata": {},
   "source": [
    "We use `awk` to print out the first two columns in the file `het-fail-ind.txt` and the option `--remove` to filter out the individuals using PLINK."
   ]
  },
  {
   "cell_type": "code",
   "execution_count": null,
   "id": "d35701f1",
   "metadata": {
    "tags": []
   },
   "outputs": [],
   "source": [
    "awk '{print$1, $2}' Results/GWAS3/fail-het-qc.txt > Results/GWAS3/het-fail-ind.txt\n",
    "\n",
    "plink --bfile Results/GWAS3/HapMap_3_r3_6 \\\n",
    "    --remove Results/GWAS3/het-fail-ind.txt \\\n",
    "    --make-bed \\\n",
    "    --out Results/GWAS3/HapMap_3_r3_7 \\\n",
    "    --silent"
   ]
  },
  {
   "cell_type": "markdown",
   "id": "8dfdfc59-9156-4c61-a4ea-dce61885e864",
   "metadata": {},
   "source": [
    "After all filtering is done, we can count the number of individuals and variants"
   ]
  },
  {
   "cell_type": "code",
   "execution_count": null,
   "id": "9ad08550-3bd3-4048-993b-48ca21b1502e",
   "metadata": {},
   "outputs": [],
   "source": [
    "wc -l Results/GWAS3/HapMap_3_r3_7.fam\n",
    "wc -l Results/GWAS3/HapMap_3_r3_7.bim"
   ]
  },
  {
   "cell_type": "markdown",
   "id": "6495aa66-6993-419c-bcbb-5745e1ffaeac",
   "metadata": {},
   "source": [
    "Look back at the very first run of PLINK. We filtered out around 1/3 of all SNPs!\n",
    "\n",
    ":::\n",
    "\n",
    "------"
   ]
  },
  {
   "cell_type": "markdown",
   "id": "033ed09a-c7b1-4494-a233-6c30544514d9",
   "metadata": {},
   "source": [
    ":::{.callout-important title=\"Challenge yourself: first quality control on mice data\"}\n",
    "\n",
    "We continue working with the mice data. Now we want to do a quality control workflow as we did before. Try to repeat all the steps, excluding the sex discrepancies, which cannot be done due to the missing sex chromosomes in the data:\n",
    "\n",
    "1 - Missingness analysis and filtering, both per SNP and per individual.\n",
    "\n",
    "2 - Minor Allele Frequency. **Note:** The number of chromosomes is different in this dataset.\n",
    "\n",
    "3 - Hardy-Weinberg Equilibrium. **Note:** This data contains case-control, so you don't need to rename the columns `hwe$Phenotype` and `hwe_zoom$Phenotype`. Similarly, avoid using `include-nonctrl` in PLINK. In the R code, you will also want to avoid the line with `facet_wrap` separating the group Phenotype for plotting.\n",
    "\n",
    "4 - Heterozigosity rate. **Note:** You do not have a list of regions with inversions, so do not use `--exclude Data/inversion.txt --range` in PLINK.\n",
    "\n",
    "**General notes for the exercise:**\n",
    "\n",
    "- Copy-paste all the commands you need from the tutorial, but remember to carefully check that the file names and options are correct to be used in your data.\n",
    "- Use proper file names for the output of PLINK when filtering and creating new `bed/bim/fam` files. For example, when you apply the various filterings, create a new output name prefix instead of keeping use `mice`. Start from `mice`, then create `mice_miss`, `mice_miss_maf`, `mice_miss_maf_hwe`, `mice_miss_maf_hwe_het`, so that you can trace back all your work to each analysis step.\n",
    "- Feel free to play with the code for creating plots (e.g. changing colors and cutoff values).\n",
    "- Make use of Generative AI to get help for the code if you think it is not enough to use what is provided in the tutorial, or if you want to explore something beyond the exercise.\n",
    "\n",
    ":::"
   ]
  },
  {
   "cell_type": "markdown",
   "id": "1643fc00-c369-4432-b5fd-35436ea2f17a",
   "metadata": {
    "jp-MarkdownHeadingCollapsed": true
   },
   "source": [
    "::: {.callout-tip}\n",
    "\n",
    "# Click to view answers\n",
    "<i class=\"bi bi-journal-code\"></i> [GWAS3 basic QC solution](exercises/gwas3-mice.ipynb)\n",
    "\n",
    ":::"
   ]
  },
  {
   "cell_type": "markdown",
   "id": "57b62761",
   "metadata": {},
   "source": [
    ":::{.callout-note title=\"Wrapping up\"}\n",
    "\n",
    "In this tutorial, we have tried several quality control approaches in PLINK and calculated various statistics, which we visualized using `R`. In the next notebook, you will find even more examples of how you verify the quality of your data.\n",
    "\n",
    "A table with a small recap of the options used in filtering with PLINK\n",
    "\n",
    "| Step | Command | Function | Thresholds and explanation |\n",
    "|---|---|---|---|\n",
    "| 1: Missingness of SNPs | `--geno`| Excludes SNPs that are missing in a large proportion of the subjects. In this step, SNPs with low genotype calls are removed| We recommend first filtering SNPs and individuals based on a relaxed  threshold (0.2; >20%), as this will filter out SNPs and individuals  with very high levels of missingness. Then a filter with a more  stringent threshold can be applied (0.02)|\n",
    "| 2: Missingness of individuals | `--mind`| Excludes individuals who have high rates of genotype missingness. In this step, individuals with low genotype calls are removed | Note, SNP filtering should be performed before individual filtering |\n",
    "| 3: Sex discrepancy | `--check-sex`| Checks for discrepancies between the sex of the individuals recorded in the  dataset and their sex based on X chromosome heterozygosity/homozygosity  rates | Can indicate sample mix‐ups. If many subjects have this discrepancy, the data should be checked carefully. Males should have an X chromosome  homozygosity estimate >0.8 and females should have a value <0.2 |\n",
    "| 4: Minor allele frequency (MAF) | `--maf` | Includes only SNPs above the set MAF threshold| SNPs with a low MAF are rare, therefore power is lacking for detecting SNP‐phenotype associations. These SNPs are also more prone to genotyping errors.  The MAF threshold should depend on your sample size,  larger samples can use lower MAF thresholds. Respectively, for large (N = 100.000) vs. moderate samples (N = 10000),  0.01 and 0.05 are commonly used as MAF thresholds|\n",
    "| 5: Hardy-Weinberg equilibrium (HWE) | `--hwe` | Excludes markers which deviate from Hardy–Weinberg equilibrium | Common indicator of genotyping error, may also indicate evolutionary selection.  For binary traits, we suggest excluding: HWE p-value <1e−10 in cases and <1e−6 in controls. A less strict case threshold avoids discarding disease‐associated SNPs under selection.  For quantitative traits, we recommend HWE p-value <1e‐6. |\n",
    "| 6: Heterozygosity | `R` code + `--remove` option in PLINK | Excludes individuals with high or low heterozygosity rates | Deviations can indicate sample contamination and inbreeding.  We suggest removing individuals who deviate ±3 SD from the samples' heterozygosity rate mean |\n",
    "\n",
    ":::\n",
    "\n",
    "# Bibliography"
   ]
  }
 ],
 "metadata": {
  "Rmd_chunk_options": {
   "author": "Matti Pirinen, University of Helsinki",
   "date": "Updated: 29-10-2020; 1st ver: 23-Jan-2019.",
   "output": {
    "html_document": "default"
   },
   "title": "GWAS 4: Bayesian inference",
   "urlcolor": "blue"
  },
  "kernelspec": {
   "display_name": "Bash",
   "language": "bash",
   "name": "bash"
  },
  "language_info": {
   "codemirror_mode": "shell",
   "file_extension": ".sh",
   "mimetype": "text/x-sh",
   "name": "bash"
  },
  "sos": {
   "kernels": [
    [
     "SoS",
     "sos",
     "",
     ""
    ],
    [
     "R",
     "ir",
     "",
     ""
    ]
   ]
  }
 },
 "nbformat": 4,
 "nbformat_minor": 5
}
