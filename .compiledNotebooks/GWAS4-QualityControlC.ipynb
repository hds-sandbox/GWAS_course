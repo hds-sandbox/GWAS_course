{
 "cells": [
  {
   "cell_type": "markdown",
   "id": "0e082220-ac80-4df7-9ceb-419e4fe4bde1",
   "metadata": {},
   "source": [
    "---\n",
    "title: \"Quality Control: Strand and mapping correction, anchoring and population covariates\"\n",
    "format:\n",
    "  html:\n",
    "    code-fold: false\n",
    "    toc: true\n",
    "  ipynb:\n",
    "    toc: true\n",
    "    number-sections: false\n",
    "bibliography: references/references_4.bib\n",
    "---"
   ]
  },
  {
   "cell_type": "markdown",
   "id": "9a06a928-7da8-4c80-9126-81fc5cc3d526",
   "metadata": {},
   "source": [
    "::: {.callout-note title=\"Important notes for this notebook\" icon=false}\n",
    "\n",
    "In this section, we will explore how to match strands and reference mapping to merge HapMap and 1000GP data. Then we will use population information from one dataset to decide if there are ethnic outliers in the other. Finally, we generate population covariates useful for association testing.\n",
    "## Learning outcomes\n",
    "\n",
    "- **Evaluate** when and how to apply strand and mapping correction\n",
    "- **Discuss** confounding factors that lead to spurious associations\n",
    "- **Identify** population substructure and filter out outliers\n",
    "- **Correct** for population stratification \n",
    "\n",
    "## How to make this notebook work\n",
    "\n",
    "In this notebook, we will both use `R` and `bash command line` programming languages. Remember to **change the kernel** whenever you transition from one language to the other (`Kernel --> Change Kernel`) indicated by the languages' images.\n",
    "\n",
    "* We will first run `Bash` commands.  \n",
    "  \n",
    "<img src=\"Images/bash.png\" alt=\"Bash\" width=\"80\"> Choose the Bash kernel\n",
    "\n",
    ":::"
   ]
  },
  {
   "cell_type": "markdown",
   "id": "510d7628",
   "metadata": {},
   "source": [
    "# Merging, anchoring and making covariates"
   ]
  },
  {
   "cell_type": "markdown",
   "id": "19359572",
   "metadata": {},
   "source": [
    "Population stratification presents a significant source of systematic bias in GWAS, arising **when subpopulations exhibit systematic differences in allele frequencies**. Research indicates that even subtle degrees of population stratification can exist within a single ethnic population [@abdellaoui2013population]. Thus, testing and controlling for the presence of population stratification is an essential QC step.\n",
    "\n",
    "The population structure (or in other words, the ancestral relationship of the populations) is a so-called **confounding factor**. This means that it affects both the dependent and independent variables, as shown in the figure below, where both the genotype and traits are influenced by population structure (e.g., the distribution of north and south European individuals in the PCA space and the height of those individuals).\n",
    "\n",
    "![](Images/ancestryBias.png){fig-align=\"center\" width=400px}\n",
    "\n",
    "Why is a bias introduced? Population structure can influence allele frequencies and produce false positives/negatives when doing association testing. Graphically, consider the example in the figure below. Case and control for population 1 and 2 have specific MAFs. Removing the barrier between populations will change MAFs drastically for the two confitions.\n",
    "\n",
    "![](Images/popStruct.png){fig-align=\"center\" width=400px}\n",
    "\n",
    "The same problem arises in population studies without Case-control categories. Imagine having a population of randomly sampled individuals, each from a different ethnicity (the blue and red minor alleles in the example below). The final group of individuals will have a different proportion of MAFs depending on the sampling of various ethnicities.\n",
    "\n",
    "![](Images/popSampling.png){fig-align=\"center\" width=400px}\n",
    "\n",
    "There are several methods to correct for population stratification [@price2010new, @price_principal_2006]. Here, we illustrate a method integrated into PLINK: the **multidimensional scaling (MDS)** approach. MDS calculates the genome-wide average proportion of shared alleles between any pair of individuals to generate quantitative indices (components) of the genetic variation for each individual. **The individual component scores can be visualized to identify groups of genetically similar individuals.** For instance, in a genetic study including subjects from Asia and Europe, MDS analysis would reveal that Asians are genetically more similar to each other than to Europeans and Africans. The figure below shows another example of MDS using HapMap, Genome diversity project, and authors' data:\n",
    "\n",
    "![Example of MDS plot of the first two MDS components scores on integrated datasets in @somers_genetic_2017. Here TWN, a past isolated population in the Netherlands, is separated from the other individuals from the same country (NDL). Sardinians, notoriously different from continental Italians, are also grouped far away from them. Central European populations colocalize as expected.](./Images/MDSexample2.png){width=500px label=fig-MDSexample}\n",
    "\n",
    "\n",
    "## Anchoring\n",
    "\n",
    "To investigate which individuals the generated component scores deviate from in the target population, plotting the scores of the dataset under investigation and a population of known ethnic structure (e.g., HapMap/1KG data) is helpful: this step is called **anchoring** [@rietveld2013gwas]. This enables the researcher to obtain ethnic information on their data and to determine possible ethnic outliers. For example, in the figure above, if TSI (Tuscans from Italy) is the anchor population, one can hypothesize that the yellow dots might be ethnically similar (as in the example).\n",
    "\n",
    "## Outlier removal\n",
    "\n",
    "Outliers identified based on MDS analysis should be excluded from further analyses. Following their removal, a new MDS analysis must be conducted, and its primary components are utilized as covariates in association tests to correct for any residual population stratification within the population. The number of components to include depends on the population structure and sample size (usually 10-20). \n",
    "\n",
    "The MDS from @cortellari_climatic_2021 shows a distinct goat population outlier. The second axis is dominated by this outlier, obscuring structure in the other populations. Removing the outlier reveals a clearer structure among the remaining populations.\n",
    "\n",
    "![](./Images/MDSout.png){fig-align=\"center\" width=700px}\n"
   ]
  },
  {
   "cell_type": "markdown",
   "id": "17978560",
   "metadata": {},
   "source": [
    "# Analysis\n",
    "\n",
    "We aim to merge the HapMap and 1000GP datasets, using 1000GP Phase I as the anchor for HapMap. Our goal is to check if we can identify the ethnicity of the HapMap data based on the ethnicities in the 1000GP dataset. There are several steps to ensure compatibility between the datasets, so stay with us!\n",
    "\n",
    "## 1000GP data download\n",
    "\n",
    "Here are some commands to download and convert the 1000GP data for GWAS analysis. **You don’t need to run them**, as we’ve already processed the data.\n",
    "\n",
    "- 1000 Genomes Project - Phase I: genetic information for 629 individuals from various ethnic groups (>60GB). *Phase III is now available, and we recommend using it for research purposes.*\n",
    "\n",
    "\n",
    "```{.bash}\n",
    "wget ftp://ftp-trace.ncbi.nih.gov/1000genomes/ftp/release/20100804/ALL.2of4intersection.20100804.genotypes.vcf.gz\n",
    "```\n",
    "\n",
    "The data was converted from the `vcf` file (Variant Call Format) to plink format (`bim`, `fam`, `bed`):\n",
    "\n",
    "```{.bash}\n",
    "plink2 --vcf ALL.2of4intersection.20100804.genotypes.vcf.gz --make-bed --out ALL.2of4intersection.20100804.genotypes\n",
    "```"
   ]
  },
  {
   "cell_type": "markdown",
   "id": "ece39f8d",
   "metadata": {},
   "source": [
    ":::{.callout-note}\n",
    "\n",
    "The 1000 Genomes data downloaded above is rather large so the commands are not executable and are shown for reference only. To save time, we’ve provided the `.bed`, `.bim`and `.fam` files in the `Data` folder.\n",
    "\n",
    ":::\n",
    "\n",
    "Let's unzip the files and see how many samples we have."
   ]
  },
  {
   "cell_type": "code",
   "execution_count": 6,
   "id": "26e3a83a",
   "metadata": {
    "tags": []
   },
   "outputs": [
    {
     "name": "stdout",
     "output_type": "stream",
     "text": [
      "Archive:  Data/1000genomes.zip\n",
      "  inflating: Results/GWAS4/1000genomes.genotypesA.bed  \n",
      "  inflating: Results/GWAS4/1000genomes.genotypesA.bim  \n",
      "  inflating: Results/GWAS4/1000genomes.genotypesA.fam  \n",
      "  inflating: Results/GWAS4/1000genomes.genotypesA.log  \n",
      "  inflating: Results/GWAS4/1000genomes.genotypesA.nosex  \n",
      "37 Results/GWAS4/1000genomes.genotypesA.fam\n"
     ]
    }
   ],
   "source": [
    "unzip -o Data/1000genomes.zip -d Results/GWAS4\n",
    "# count lines in fam \n",
    "wc -l Results/GWAS4/1000genomes.genotypesA.fam"
   ]
  },
  {
   "cell_type": "markdown",
   "id": "b6a8a6ed",
   "metadata": {},
   "source": [
    "We have a subset of **37 individuals**. Now, let's explore the `bim` file. "
   ]
  },
  {
   "cell_type": "code",
   "execution_count": 7,
   "id": "6d50c492",
   "metadata": {
    "tags": []
   },
   "outputs": [
    {
     "name": "stdout",
     "output_type": "stream",
     "text": [
      "1\trs112750067\t0\t10327\tC\tT\n",
      "1\t.\t0\t11508\tA\tG\n",
      "1\t.\t0\t12783\tG\tA\n",
      "1\t.\t0\t13116\tG\tT\n",
      "1\t.\t0\t14933\tA\tG\n"
     ]
    }
   ],
   "source": [
    "cat Results/GWAS4/1000genomes.genotypesA.bim | head -5"
   ]
  },
  {
   "cell_type": "markdown",
   "id": "e3393991",
   "metadata": {},
   "source": [
    "One should note that the file `1000genomes.genotypes.bim` contains SNPs without an rs-identifier (or Reference SNP cluster ID). The missing rs-identifiers (noted as `.`) are not a problem for this tutorial. However, for good practice, we will assign unique identifiers to the SNPs (using available information):"
   ]
  },
  {
   "cell_type": "code",
   "execution_count": 8,
   "id": "3d7a9271",
   "metadata": {
    "tags": []
   },
   "outputs": [],
   "source": [
    "plink --bfile Results/GWAS4/1000genomes.genotypesA \\\n",
    "    --set-missing-var-ids @:#[b37]\\$1,\\$2 \\\n",
    "    --make-bed \\\n",
    "    --out Results/GWAS4/1000genomes.genotypesA_no_missing_IDs \\\n",
    "    --silent"
   ]
  },
  {
   "cell_type": "markdown",
   "id": "f0e5e218-3e81-4871-b009-4e4e7b86579c",
   "metadata": {},
   "source": [
    "Now, let’s visualize the data to check the SNP names assigned. These are derived from the format `@:#[b37]\\$1,\\$2` in the command above, which PLINK interprets as `chromosome:locus[b37]Allele1,Allele2`: "
   ]
  },
  {
   "cell_type": "code",
   "execution_count": 9,
   "id": "bc59444d",
   "metadata": {
    "tags": []
   },
   "outputs": [
    {
     "name": "stdout",
     "output_type": "stream",
     "text": [
      "1\trs112750067\t0\t10327\tC\tT\n",
      "1\t1:11508[b37]A,G\t0\t11508\tA\tG\n",
      "1\t1:12783[b37]A,G\t0\t12783\tG\tA\n",
      "1\t1:13116[b37]G,T\t0\t13116\tG\tT\n",
      "1\t1:14933[b37]A,G\t0\t14933\tA\tG\n"
     ]
    }
   ],
   "source": [
    "# Show changes on the bim file\n",
    "cat Results/GWAS4/1000genomes.genotypesA_no_missing_IDs.bim | head -5"
   ]
  },
  {
   "cell_type": "markdown",
   "id": "83e92e86-9965-42a9-992d-975c271a78fe",
   "metadata": {},
   "source": [
    "Pretty neat, right?"
   ]
  },
  {
   "cell_type": "markdown",
   "id": "bc096e38",
   "metadata": {},
   "source": [
    "## QC on 1000GP data\n",
    "As we covered in the GWAS3 notebook, it's important to account for missingness, sex discrepancies, and minor allele frequency. We'll apply standard QC thresholds to the 1000 GP data before merging it with HapMap data. "
   ]
  },
  {
   "cell_type": "code",
   "execution_count": 10,
   "id": "162f5bf0",
   "metadata": {
    "tags": []
   },
   "outputs": [],
   "source": [
    "plink --bfile Results/GWAS4/1000genomes.genotypesA_no_missing_IDs \\\n",
    "    --geno 0.02 \\\n",
    "    --make-bed \\\n",
    "    --out Results/GWAS4/1kG_MDS --silent\n",
    "\n",
    "plink --bfile Results/GWAS4/1kG_MDS \\\n",
    "    --mind 0.02 \\\n",
    "    --make-bed \\\n",
    "    --out Results/GWAS4/1kG_MDS2 --silent\n",
    "    \n",
    "plink --bfile Results/GWAS4/1kG_MDS2 \\\n",
    "    --maf 0.05 \\\n",
    "    --make-bed  \\\n",
    "    --out Results/GWAS4/1kG_MDS3 --silent"
   ]
  },
  {
   "cell_type": "markdown",
   "id": "0840d758-279f-413c-9434-83e2a1cc945f",
   "metadata": {},
   "source": [
    "## SNPs matching between datasets"
   ]
  },
  {
   "cell_type": "markdown",
   "id": "98540514",
   "metadata": {},
   "source": [
    "N.B: Ensure that the datasets you want to merge share the same genomic build! Otherwise, you'll need to include a liftover step.\n",
    "\n",
    "\n",
    "We want to only consider SNPs that both datasets have in common.  First, extract SNP names from the HapMap data and filter the 1000GP data to include only matching SNPs.\n"
   ]
  },
  {
   "cell_type": "code",
   "execution_count": 11,
   "id": "7893d82e-6625-4904-905c-2dc4f36a7d1d",
   "metadata": {},
   "outputs": [
    {
     "name": "stdout",
     "output_type": "stream",
     "text": [
      "PLINK v1.90b6.21 64-bit (19 Oct 2020)          www.cog-genomics.org/plink/1.9/\n",
      "(C) 2005-2020 Shaun Purcell, Christopher Chang   GNU General Public License v3\n",
      "Logging to Results/GWAS4/1kG_MDS4.log.\n",
      "Options in effect:\n",
      "  --bfile Results/GWAS4/1kG_MDS3\n",
      "  --extract Results/GWAS4/HapMap_SNPs.txt\n",
      "  --make-bed\n",
      "  --out Results/GWAS4/1kG_MDS4\n",
      "\n",
      "385567 MB RAM detected; reserving 192783 MB for main workspace.\n",
      "2232052 variants loaded from .bim file.\n",
      "37 people (0 males, 0 females, 37 ambiguous) loaded from .fam.\n",
      "Ambiguous sex IDs written to Results/GWAS4/1kG_MDS4.nosex .\n",
      "--extract: 376380 variants remaining.\n",
      "Using 1 thread (no multithreaded calculations invoked).\n",
      "Before main variant filters, 37 founders and 0 nonfounders present.\n",
      "Calculating allele frequencies... done.\n",
      "376380 variants and 37 people pass filters and QC.\n",
      "Note: No phenotypes present.\n",
      "--make-bed to Results/GWAS4/1kG_MDS4.bed + Results/GWAS4/1kG_MDS4.bim +\n",
      "Results/GWAS4/1kG_MDS4.fam ... done.\n"
     ]
    }
   ],
   "source": [
    "#Print out SNPs from the HapMap data\n",
    "awk '{print$2}' Results/GWAS4/HapMap_3_r3_9.bim > Results/GWAS4/HapMap_SNPs.txt\n",
    "\n",
    "#Extract the HapMap SNPs from the 1000GP data\n",
    "plink --bfile Results/GWAS4/1kG_MDS3 \\\n",
    "    --extract Results/GWAS4/HapMap_SNPs.txt \\\n",
    "    --make-bed \\\n",
    "    --out Results/GWAS4/1kG_MDS4"
   ]
  },
  {
   "cell_type": "markdown",
   "id": "d088b95e-a115-4686-9963-5dfddd931464",
   "metadata": {},
   "source": [
    "This is how part of the list of SNP names looks like:"
   ]
  },
  {
   "cell_type": "code",
   "execution_count": 12,
   "id": "a1009efb-9f10-4021-ab18-6f2357206551",
   "metadata": {},
   "outputs": [
    {
     "name": "stdout",
     "output_type": "stream",
     "text": [
      "rs3131972\n",
      "rs3131969\n",
      "rs1048488\n",
      "rs12562034\n",
      "rs12124819\n"
     ]
    }
   ],
   "source": [
    "cat Results/GWAS4/HapMap_SNPs.txt | head -5"
   ]
  },
  {
   "cell_type": "markdown",
   "id": "08556943-df17-42a8-926b-dce8bcaa557d",
   "metadata": {},
   "source": [
    "Now we take the variants from the reduced 1000GP data, and go the other way around. We extract 1000GP variants from the HapMap data. In other words, the two extraction passages will intersect the SNPs. Below is the code to use the SNPs of the 1000GP data to reduce the HapMap data."
   ]
  },
  {
   "cell_type": "code",
   "execution_count": 13,
   "id": "584c7e2c-6a8b-48cb-98f2-4ccd5ab564ab",
   "metadata": {},
   "outputs": [
    {
     "name": "stdout",
     "output_type": "stream",
     "text": [
      "PLINK v1.90b6.21 64-bit (19 Oct 2020)          www.cog-genomics.org/plink/1.9/\n",
      "(C) 2005-2020 Shaun Purcell, Christopher Chang   GNU General Public License v3\n",
      "Logging to Results/GWAS4/HapMap_MDS.log.\n",
      "Options in effect:\n",
      "  --bfile Results/GWAS4/HapMap_3_r3_9\n",
      "  --extract Results/GWAS4/1kG_MDS4_SNPs.txt\n",
      "  --make-bed\n",
      "  --out Results/GWAS4/HapMap_MDS\n",
      "\n",
      "385567 MB RAM detected; reserving 192783 MB for main workspace.\n",
      "1073226 variants loaded from .bim file.\n",
      "109 people (55 males, 54 females) loaded from .fam.\n",
      "109 phenotype values loaded from .fam.\n",
      "--extract: 376380 variants remaining.\n",
      "Using 1 thread (no multithreaded calculations invoked).\n",
      "Before main variant filters, 109 founders and 0 nonfounders present.\n",
      "Calculating allele frequencies... done.\n",
      "Total genotyping rate is 0.998025.\n",
      "376380 variants and 109 people pass filters and QC.\n",
      "Among remaining phenotypes, 54 are cases and 55 are controls.\n",
      "--make-bed to Results/GWAS4/HapMap_MDS.bed + Results/GWAS4/HapMap_MDS.bim +\n",
      "Results/GWAS4/HapMap_MDS.fam ... done.\n"
     ]
    }
   ],
   "source": [
    "#Print out SNPs from the HapMap data\n",
    "awk '{print$2}' Results/GWAS4/1kG_MDS4.bim > Results/GWAS4/1kG_MDS4_SNPs.txt\n",
    "\n",
    "#Extract the HapMap SNPs from the 1000GP data\n",
    "plink --bfile Results/GWAS4/HapMap_3_r3_9 \\\n",
    "    --extract Results/GWAS4/1kG_MDS4_SNPs.txt \\\n",
    "    --make-bed \\\n",
    "    --out Results/GWAS4/HapMap_MDS"
   ]
  },
  {
   "cell_type": "markdown",
   "id": "bc4ce52e-8a9e-42ed-8403-f1b254db7d22",
   "metadata": {},
   "source": [
    ":::{.callout-important title=\"Stop - Read - Solve\"}\n",
    "\n",
    "**Look at the two outputs below a bit more carefully. The names are all matching. Is there any other problem?**\n",
    "\n",
    ":::"
   ]
  },
  {
   "cell_type": "code",
   "execution_count": 14,
   "id": "70beb88f-7099-4233-83d8-53efe75b0de4",
   "metadata": {},
   "outputs": [
    {
     "name": "stdout",
     "output_type": "stream",
     "text": [
      "1\trs3131969\t0\t744045\tA\tG\n",
      "1\trs12562034\t0\t758311\tA\tG\n",
      "1\trs4970383\t0\t828418\tA\tC\n",
      "1\trs4475691\t0\t836671\tT\tC\n",
      "1\trs1806509\t0\t843817\tC\tA\n",
      "1\trs28576697\t0\t860508\tC\tT\n",
      "1\trs3748595\t0\t877423\tA\tC\n",
      "1\trs13303118\t0\t908247\tG\tT\n",
      "1\trs1891910\t0\t922320\tA\tG\n",
      "1\trs3128097\t0\t970323\tG\tA\n"
     ]
    }
   ],
   "source": [
    "head Results/GWAS4/HapMap_MDS.bim"
   ]
  },
  {
   "cell_type": "code",
   "execution_count": 15,
   "id": "337e9c32-7776-4c9a-95ef-87fd1d8e044c",
   "metadata": {},
   "outputs": [
    {
     "name": "stdout",
     "output_type": "stream",
     "text": [
      "1\trs3131969\t0\t754182\tA\tG\n",
      "1\trs12562034\t0\t768448\tA\tG\n",
      "1\trs4970383\t0\t838555\tA\tC\n",
      "1\trs4475691\t0\t846808\tT\tC\n",
      "1\trs1806509\t0\t853954\tA\tC\n",
      "1\trs28576697\t0\t870645\tC\tT\n",
      "1\trs3748595\t0\t887560\tA\tC\n",
      "1\trs13303118\t0\t918384\tT\tG\n",
      "1\trs1891910\t0\t932457\tA\tG\n",
      "1\trs3128097\t0\t980460\tG\tA\n"
     ]
    }
   ],
   "source": [
    "head Results/GWAS4/1kG_MDS4.bim"
   ]
  },
  {
   "cell_type": "markdown",
   "id": "756bd409-b3c2-4494-865b-80053c608dbb",
   "metadata": {},
   "source": [
    "## Build matching\n",
    "\n",
    "Genomic data is based on a reference genome, and our datasets use different human reference versions. Since the reference genome improves over time, SNP positions may differ between datasets from different versions.\n",
    "\n",
    "We extract SNP names and positions from the HapMap data and align the 1000GP data to match these SNPs using the `--update-map` option in PLINK."
   ]
  },
  {
   "cell_type": "code",
   "execution_count": 16,
   "id": "e7ad8313-f257-4f10-b396-34d4c03b83d7",
   "metadata": {},
   "outputs": [],
   "source": [
    "#Extract the HapMap variant coordinates\n",
    "awk '{print$2,$4}' Results/GWAS4/HapMap_MDS.bim > Results/GWAS4/buildhapmap.txt"
   ]
  },
  {
   "cell_type": "markdown",
   "id": "222fc25e-adf0-486b-81b6-8d3636db3f8d",
   "metadata": {},
   "source": [
    "This is how the list of SNPs look like:"
   ]
  },
  {
   "cell_type": "code",
   "execution_count": 17,
   "id": "0af685c3-65f1-4a27-a251-d250abfe3825",
   "metadata": {},
   "outputs": [
    {
     "name": "stdout",
     "output_type": "stream",
     "text": [
      "rs3131969 744045\n",
      "rs12562034 758311\n",
      "rs4970383 828418\n",
      "rs4475691 836671\n",
      "rs1806509 843817\n"
     ]
    }
   ],
   "source": [
    "cat Results/GWAS4/buildhapmap.txt | head -5"
   ]
  },
  {
   "cell_type": "markdown",
   "id": "1f3a8904-e134-4b7b-a991-daa772d00f53",
   "metadata": {},
   "source": [
    "We run PLINK to update the 1000GP variant coordinates based on HapMap, ignoring the warning about unsorted positions: "
   ]
  },
  {
   "cell_type": "code",
   "execution_count": 18,
   "id": "58fba51d-c89b-449f-8a45-e639a19dfa8e",
   "metadata": {},
   "outputs": [
    {
     "name": "stdout",
     "output_type": "stream",
     "text": [
      "PLINK v1.90b6.21 64-bit (19 Oct 2020)          www.cog-genomics.org/plink/1.9/\n",
      "(C) 2005-2020 Shaun Purcell, Christopher Chang   GNU General Public License v3\n",
      "Logging to Results/GWAS4/1kG_MDS5.log.\n",
      "Options in effect:\n",
      "  --bfile Results/GWAS4/1kG_MDS4\n",
      "  --make-bed\n",
      "  --out Results/GWAS4/1kG_MDS5\n",
      "  --update-map Results/GWAS4/buildhapmap.txt\n",
      "\n",
      "385567 MB RAM detected; reserving 192783 MB for main workspace.\n",
      "376380 variants loaded from .bim file.\n",
      "37 people (0 males, 0 females, 37 ambiguous) loaded from .fam.\n",
      "Ambiguous sex IDs written to Results/GWAS4/1kG_MDS5.nosex .\n",
      "--update-map: 376380 values updated.\n",
      "Warning: Base-pair positions are now unsorted!\n",
      "Using 1 thread (no multithreaded calculations invoked).\n",
      "Before main variant filters, 37 founders and 0 nonfounders present.\n",
      "Calculating allele frequencies... done.\n",
      "376380 variants and 37 people pass filters and QC.\n",
      "Note: No phenotypes present.\n",
      "--make-bed to Results/GWAS4/1kG_MDS5.bed + Results/GWAS4/1kG_MDS5.bim +\n",
      "Results/GWAS4/1kG_MDS5.fam ... done.\n"
     ]
    }
   ],
   "source": [
    "plink --bfile Results/GWAS4/1kG_MDS4 \\\n",
    "    --update-map Results/GWAS4/buildhapmap.txt \\\n",
    "    --make-bed \\\n",
    "    --out Results/GWAS4/1kG_MDS5"
   ]
  },
  {
   "cell_type": "markdown",
   "id": "fe7fefe9",
   "metadata": {},
   "source": [
    "## Merging datasets and performing MDS\n",
    "\n",
    "Before merging the HapMap and 1000 Genomes datasets, we ensure compatibility through 3 steps:\n",
    "\n",
    "1. Verify the reference genome is compatible in both datasets.\n",
    "2. Align SNP orientations (strand) across datasets.\n",
    "3. Remove SNPs that still differ after these steps.\n",
    "\n",
    "The next steps are technical but ensure the datasets correspond correctly.\n"
   ]
  },
  {
   "cell_type": "markdown",
   "id": "ecb804de-0e80-4146-9361-9a4822124622",
   "metadata": {},
   "source": [
    "**1.** We’ve matched SNP positions, but we also need to ensure the reference alleles align. Remember that most PLINK analyses **consider the A1 allele (typically the minor allele) as the reference allele**, which is logical when dealing exclusively with biallelic variants.\n",
    "\n",
    "Below, we generate a list of SNPs ID and 'reference alleles' (corresponding to A1, column 5 of the `.bim` file) from 1000GP."
   ]
  },
  {
   "cell_type": "code",
   "execution_count": 19,
   "id": "97848c6a-85fb-4c1b-a515-f3120c21bf03",
   "metadata": {},
   "outputs": [],
   "source": [
    "#Extract variant coordinates and reference alleles from 1000GP data\n",
    "awk '{print$2,$5}' Results/GWAS4/1kG_MDS5.bim > Results/GWAS4/1kg_ref-list.txt"
   ]
  },
  {
   "cell_type": "markdown",
   "id": "946c213e-2fb5-4bef-9eb9-8e2d46679f7b",
   "metadata": {},
   "source": [
    "How the list looks like:"
   ]
  },
  {
   "cell_type": "code",
   "execution_count": 20,
   "id": "7c4cecdd-737c-43ce-b38c-011d074e90f7",
   "metadata": {},
   "outputs": [
    {
     "name": "stdout",
     "output_type": "stream",
     "text": [
      "rs3131969 A\n",
      "rs12562034 A\n",
      "rs4970383 A\n",
      "rs4475691 T\n",
      "rs1806509 A\n"
     ]
    }
   ],
   "source": [
    "head -5 Results/GWAS4/1kg_ref-list.txt"
   ]
  },
  {
   "cell_type": "markdown",
   "id": "42e99d2b-a887-4d20-bb66-1cf5d077d98a",
   "metadata": {},
   "source": [
    "Then, we assign them to the HapMap data `--ref-allele` option. Note a lot fo warnings in A1 allele assignment. This is usually because you have a strand issue, where the data uses a complement"
   ]
  },
  {
   "cell_type": "code",
   "execution_count": 21,
   "id": "af745a46-efdb-482e-af1a-f428d5b7302a",
   "metadata": {
    "scrolled": true
   },
   "outputs": [
    {
     "name": "stdout",
     "output_type": "stream",
     "text": [
      "PLINK v1.90b6.21 64-bit (19 Oct 2020)          www.cog-genomics.org/plink/1.9/\n",
      "(C) 2005-2020 Shaun Purcell, Christopher Chang   GNU General Public License v3\n",
      "Logging to Results/GWAS4/HapMap-adj.log.\n",
      "Options in effect:\n",
      "  --a1-allele Results/GWAS4/1kg_ref-list.txt\n",
      "  --bfile Results/GWAS4/HapMap_MDS\n",
      "  --make-bed\n",
      "  --out Results/GWAS4/HapMap-adj\n",
      "\n",
      "385567 MB RAM detected; reserving 192783 MB for main workspace.\n",
      "376380 variants loaded from .bim file.\n",
      "109 people (55 males, 54 females) loaded from .fam.\n",
      "109 phenotype values loaded from .fam.\n",
      "Using 1 thread (no multithreaded calculations invoked).\n",
      "Before main variant filters, 109 founders and 0 nonfounders present.\n",
      "Calculating allele frequencies... done.\n",
      "Total genotyping rate is 0.998025.\n",
      "Warning: Impossible A1 allele assignment for variant rs11488462.\n",
      "Warning: Impossible A1 allele assignment for variant rs28635343.\n",
      "Warning: Impossible A1 allele assignment for variant rs28456011.\n",
      "Warning: Impossible A1 allele assignment for variant rs28487995.\n",
      "Warning: Impossible A1 allele assignment for variant rs760925.\n",
      "Warning: Impossible A1 allele assignment for variant rs2234167.\n",
      "Warning: Impossible A1 allele assignment for variant rs35383955.\n",
      "Warning: Impossible A1 allele assignment for variant rs34283457.\n",
      "Warning: Impossible A1 allele assignment for variant rs35357981.\n",
      "Warning: Impossible A1 allele assignment for variant rs35025175.\n",
      "Warning: Impossible A1 allele assignment for variant rs35974482.\n",
      "Warning: Impossible A1 allele assignment for variant rs34835780.\n",
      "Warning: Impossible A1 allele assignment for variant rs10753374.\n",
      "Warning: Impossible A1 allele assignment for variant rs11260657.\n",
      "Warning: Impossible A1 allele assignment for variant rs4661727.\n",
      "Warning: Impossible A1 allele assignment for variant rs35614701.\n",
      "Warning: Impossible A1 allele assignment for variant rs34131388.\n",
      "Warning: Impossible A1 allele assignment for variant rs35260034.\n",
      "Warning: Impossible A1 allele assignment for variant rs34201264.\n",
      "Warning: Impossible A1 allele assignment for variant rs34734086.\n",
      "Warning: Impossible A1 allele assignment for variant rs35593799.\n",
      "Warning: Impossible A1 allele assignment for variant rs35047308.\n",
      "Warning: Impossible A1 allele assignment for variant rs36053581.\n",
      "Warning: Impossible A1 allele assignment for variant rs34405972.\n",
      "Warning: Impossible A1 allele assignment for variant rs35294772.\n",
      "Warning: Impossible A1 allele assignment for variant rs12118489.\n",
      "Warning: Impossible A1 allele assignment for variant rs1023098.\n",
      "Warning: Impossible A1 allele assignment for variant rs209603.\n",
      "Warning: Impossible A1 allele assignment for variant rs10524.\n",
      "Warning: Impossible A1 allele assignment for variant rs697594.\n",
      "Warning: Impossible A1 allele assignment for variant rs1889603.\n",
      "Warning: Impossible A1 allele assignment for variant rs12145114.\n",
      "Warning: Impossible A1 allele assignment for variant rs2391154.\n",
      "Warning: Impossible A1 allele assignment for variant rs17123142.\n",
      "Warning: Impossible A1 allele assignment for variant rs12125356.\n",
      "Warning: Impossible A1 allele assignment for variant rs3765501.\n",
      "Warning: Impossible A1 allele assignment for variant rs1011297.\n",
      "Warning: Impossible A1 allele assignment for variant rs34444588.\n",
      "Warning: Impossible A1 allele assignment for variant rs509587.\n",
      "Warning: Impossible A1 allele assignment for variant rs17701857.\n",
      "Warning: Impossible A1 allele assignment for variant rs3795743.\n",
      "Warning: Impossible A1 allele assignment for variant rs34158997.\n",
      "Warning: Impossible A1 allele assignment for variant rs35808016.\n",
      "Warning: Impossible A1 allele assignment for variant rs34187970.\n",
      "Warning: Impossible A1 allele assignment for variant rs3820624.\n",
      "Warning: Impossible A1 allele assignment for variant rs2897454.\n",
      "Warning: Impossible A1 allele assignment for variant rs1127975.\n",
      "Warning: Impossible A1 allele assignment for variant rs35729322.\n",
      "Warning: Impossible A1 allele assignment for variant rs35565142.\n",
      "Warning: Impossible A1 allele assignment for variant rs3007405.\n",
      "Warning: Impossible A1 allele assignment for variant rs11553746.\n",
      "Warning: Impossible A1 allele assignment for variant rs1384491.\n",
      "Warning: Impossible A1 allele assignment for variant rs17045393.\n",
      "Warning: Impossible A1 allele assignment for variant rs6545238.\n",
      "Warning: Impossible A1 allele assignment for variant rs17792521.\n",
      "Warning: Impossible A1 allele assignment for variant rs989586.\n",
      "Warning: Impossible A1 allele assignment for variant rs7558635.\n",
      "Warning: Impossible A1 allele assignment for variant rs1139829.\n",
      "Warning: Impossible A1 allele assignment for variant rs35061433.\n",
      "Warning: Impossible A1 allele assignment for variant rs838069.\n",
      "Warning: Impossible A1 allele assignment for variant rs967381.\n",
      "Warning: Impossible A1 allele assignment for variant rs2138486.\n",
      "Warning: Impossible A1 allele assignment for variant rs13393016.\n",
      "Warning: Impossible A1 allele assignment for variant rs17180544.\n",
      "Warning: Impossible A1 allele assignment for variant rs13417895.\n",
      "Warning: Impossible A1 allele assignment for variant rs12467878.\n",
      "Warning: Impossible A1 allele assignment for variant rs6726184.\n",
      "Warning: Impossible A1 allele assignment for variant rs4973697.\n",
      "Warning: Impossible A1 allele assignment for variant rs6605267.\n",
      "Warning: Impossible A1 allele assignment for variant rs7421596.\n",
      "Warning: Impossible A1 allele assignment for variant rs1689581.\n",
      "Warning: Impossible A1 allele assignment for variant rs711730.\n",
      "Warning: Impossible A1 allele assignment for variant rs7652667.\n",
      "Warning: Impossible A1 allele assignment for variant rs9864701.\n",
      "Warning: Impossible A1 allele assignment for variant rs1522553.\n",
      "Warning: Impossible A1 allele assignment for variant rs17280613.\n",
      "Warning: Impossible A1 allele assignment for variant rs277646.\n",
      "Warning: Impossible A1 allele assignment for variant rs1259321.\n",
      "Warning: Impossible A1 allele assignment for variant rs6765489.\n",
      "Warning: Impossible A1 allele assignment for variant rs1113277.\n",
      "Warning: Impossible A1 allele assignment for variant rs9880098.\n",
      "Warning: Impossible A1 allele assignment for variant rs7611483.\n",
      "Warning: Impossible A1 allele assignment for variant rs10936388.\n",
      "Warning: Impossible A1 allele assignment for variant rs11546878.\n",
      "Warning: Impossible A1 allele assignment for variant rs4686566.\n",
      "Warning: Impossible A1 allele assignment for variant rs884309.\n",
      "Warning: Impossible A1 allele assignment for variant rs3806620.\n",
      "Warning: Impossible A1 allele assignment for variant rs6801044.\n",
      "Warning: Impossible A1 allele assignment for variant rs4677689.\n",
      "Warning: Impossible A1 allele assignment for variant rs4677695.\n",
      "Warning: Impossible A1 allele assignment for variant rs9820715.\n",
      "Warning: Impossible A1 allele assignment for variant rs35840880.\n",
      "Warning: Impossible A1 allele assignment for variant rs6847677.\n",
      "Warning: Impossible A1 allele assignment for variant rs16854250.\n",
      "Warning: Impossible A1 allele assignment for variant rs12646999.\n",
      "Warning: Impossible A1 allele assignment for variant rs13128530.\n",
      "Warning: Impossible A1 allele assignment for variant rs2949614.\n",
      "Warning: Impossible A1 allele assignment for variant rs17007758.\n",
      "Warning: Impossible A1 allele assignment for variant rs10006274.\n",
      "Warning: Impossible A1 allele assignment for variant rs4691482.\n",
      "Warning: Impossible A1 allele assignment for variant rs1215429.\n",
      "Warning: Impossible A1 allele assignment for variant rs1395093.\n",
      "Warning: Impossible A1 allele assignment for variant rs2972819.\n",
      "Warning: Impossible A1 allele assignment for variant rs199361.\n",
      "Warning: Impossible A1 allele assignment for variant rs4403186.\n",
      "Warning: Impossible A1 allele assignment for variant rs1574436.\n",
      "Warning: Impossible A1 allele assignment for variant rs1048944.\n",
      "Warning: Impossible A1 allele assignment for variant rs4704197.\n",
      "Warning: Impossible A1 allele assignment for variant rs173545.\n",
      "Warning: Impossible A1 allele assignment for variant rs2060424.\n",
      "Warning: Impossible A1 allele assignment for variant rs449359.\n",
      "Warning: Impossible A1 allele assignment for variant rs11746705.\n",
      "Warning: Impossible A1 allele assignment for variant rs7448017.\n",
      "Warning: Impossible A1 allele assignment for variant rs1465686.\n",
      "Warning: Impossible A1 allele assignment for variant rs13180237.\n",
      "Warning: Impossible A1 allele assignment for variant rs17776554.\n",
      "Warning: Impossible A1 allele assignment for variant rs266000.\n",
      "Warning: Impossible A1 allele assignment for variant rs4868581.\n",
      "Warning: Impossible A1 allele assignment for variant rs4710897.\n",
      "Warning: Impossible A1 allele assignment for variant rs9461653.\n",
      "Warning: Impossible A1 allele assignment for variant rs1129765.\n",
      "Warning: Impossible A1 allele assignment for variant rs1694112.\n",
      "Warning: Impossible A1 allele assignment for variant rs12207915.\n",
      "Warning: Impossible A1 allele assignment for variant rs1383266.\n",
      "Warning: Impossible A1 allele assignment for variant rs4565302.\n",
      "Warning: Impossible A1 allele assignment for variant rs970392.\n",
      "Warning: Impossible A1 allele assignment for variant rs17183312.\n",
      "Warning: Impossible A1 allele assignment for variant rs2075967.\n",
      "Warning: Impossible A1 allele assignment for variant rs3757212.\n",
      "Warning: Impossible A1 allele assignment for variant rs573684.\n",
      "Warning: Impossible A1 allele assignment for variant rs9373596.\n",
      "Warning: Impossible A1 allele assignment for variant rs3924019.\n",
      "Warning: Impossible A1 allele assignment for variant rs9719226.\n",
      "Warning: Impossible A1 allele assignment for variant rs2961253.\n",
      "Warning: Impossible A1 allele assignment for variant rs2428430.\n",
      "Warning: Impossible A1 allele assignment for variant rs4870666.\n",
      "Warning: Impossible A1 allele assignment for variant rs1043987.\n",
      "Warning: Impossible A1 allele assignment for variant rs2068338.\n",
      "Warning: Impossible A1 allele assignment for variant rs2283017.\n",
      "Warning: Impossible A1 allele assignment for variant rs2854541.\n",
      "Warning: Impossible A1 allele assignment for variant rs361489.\n",
      "Warning: Impossible A1 allele assignment for variant rs2855882.\n",
      "Warning: Impossible A1 allele assignment for variant rs2734060.\n",
      "Warning: Impossible A1 allele assignment for variant rs2244520.\n",
      "Warning: Impossible A1 allele assignment for variant rs1573618.\n",
      "Warning: Impossible A1 allele assignment for variant rs2855914.\n",
      "Warning: Impossible A1 allele assignment for variant rs2734112.\n",
      "Warning: Impossible A1 allele assignment for variant rs2367191.\n",
      "Warning: Impossible A1 allele assignment for variant rs2855920.\n",
      "Warning: Impossible A1 allele assignment for variant rs2855929.\n",
      "Warning: Impossible A1 allele assignment for variant rs6961143.\n",
      "Warning: Impossible A1 allele assignment for variant rs17231.\n",
      "Warning: Impossible A1 allele assignment for variant rs6979421.\n",
      "Warning: Impossible A1 allele assignment for variant rs17163237.\n",
      "Warning: Impossible A1 allele assignment for variant rs1008660.\n",
      "Warning: Impossible A1 allele assignment for variant rs17250.\n",
      "Warning: Impossible A1 allele assignment for variant rs2156940.\n",
      "Warning: Impossible A1 allele assignment for variant rs11768792.\n",
      "Warning: Impossible A1 allele assignment for variant rs17277.\n",
      "Warning: Impossible A1 allele assignment for variant rs17279.\n",
      "Warning: Impossible A1 allele assignment for variant rs2734171.\n",
      "Warning: Impossible A1 allele assignment for variant rs6979469.\n",
      "Warning: Impossible A1 allele assignment for variant rs2156956.\n",
      "Warning: Impossible A1 allele assignment for variant rs6943682.\n",
      "Warning: Impossible A1 allele assignment for variant rs926044.\n",
      "Warning: Impossible A1 allele assignment for variant rs6971657.\n",
      "Warning: Impossible A1 allele assignment for variant rs6942393.\n",
      "Warning: Impossible A1 allele assignment for variant rs1134309.\n",
      "Warning: Impossible A1 allele assignment for variant rs17835147.\n",
      "Warning: Impossible A1 allele assignment for variant rs1114856.\n",
      "Warning: Impossible A1 allele assignment for variant rs10088098.\n",
      "Warning: Impossible A1 allele assignment for variant rs11780139.\n",
      "Warning: Impossible A1 allele assignment for variant rs39767.\n",
      "Warning: Impossible A1 allele assignment for variant rs1027623.\n",
      "Warning: Impossible A1 allele assignment for variant rs1545909.\n",
      "Warning: Impossible A1 allele assignment for variant rs3800829.\n",
      "Warning: Impossible A1 allele assignment for variant rs7856222.\n",
      "Warning: Impossible A1 allele assignment for variant rs3808902.\n",
      "Warning: Impossible A1 allele assignment for variant rs17269854.\n",
      "Warning: Impossible A1 allele assignment for variant rs534721.\n",
      "Warning: Impossible A1 allele assignment for variant rs11139569.\n",
      "Warning: Impossible A1 allele assignment for variant rs16908089.\n",
      "Warning: Impossible A1 allele assignment for variant rs2245389.\n",
      "Warning: Impossible A1 allele assignment for variant rs34312136.\n",
      "Warning: Impossible A1 allele assignment for variant rs4078122.\n",
      "Warning: Impossible A1 allele assignment for variant rs3207775.\n",
      "Warning: Impossible A1 allele assignment for variant rs561415.\n",
      "Warning: Impossible A1 allele assignment for variant rs11813861.\n",
      "Warning: Impossible A1 allele assignment for variant rs1650166.\n",
      "Warning: Impossible A1 allele assignment for variant rs11196005.\n",
      "Warning: Impossible A1 allele assignment for variant rs12243523.\n",
      "Warning: Impossible A1 allele assignment for variant rs7100377.\n",
      "Warning: Impossible A1 allele assignment for variant rs12415539.\n",
      "Warning: Impossible A1 allele assignment for variant rs2273748.\n",
      "Warning: Impossible A1 allele assignment for variant rs5030779.\n",
      "Warning: Impossible A1 allele assignment for variant rs516761.\n",
      "Warning: Impossible A1 allele assignment for variant rs234872.\n",
      "Warning: Impossible A1 allele assignment for variant rs7107290.\n",
      "Warning: Impossible A1 allele assignment for variant rs4287314.\n",
      "Warning: Impossible A1 allele assignment for variant rs10501259.\n",
      "Warning: Impossible A1 allele assignment for variant rs4756057.\n",
      "Warning: Impossible A1 allele assignment for variant rs1044796.\n",
      "Warning: Impossible A1 allele assignment for variant rs17507049.\n",
      "Warning: Impossible A1 allele assignment for variant rs661124.\n",
      "Warning: Impossible A1 allele assignment for variant rs1894080.\n",
      "Warning: Impossible A1 allele assignment for variant rs2324509.\n",
      "Warning: Impossible A1 allele assignment for variant rs4936260.\n",
      "Warning: Impossible A1 allele assignment for variant rs11524965.\n",
      "Warning: Impossible A1 allele assignment for variant rs2159347.\n",
      "Warning: Impossible A1 allele assignment for variant rs3782598.\n",
      "Warning: Impossible A1 allele assignment for variant rs1451772.\n",
      "Warning: Impossible A1 allele assignment for variant rs10505915.\n",
      "Warning: Impossible A1 allele assignment for variant rs3782514.\n",
      "Warning: Impossible A1 allele assignment for variant rs10772153.\n",
      "Warning: Impossible A1 allele assignment for variant rs2372379.\n",
      "Warning: Impossible A1 allele assignment for variant rs803569.\n",
      "Warning: Impossible A1 allele assignment for variant rs2279405.\n",
      "Warning: Impossible A1 allele assignment for variant rs6633.\n",
      "Warning: Impossible A1 allele assignment for variant rs7957839.\n",
      "Warning: Impossible A1 allele assignment for variant rs1413155.\n",
      "Warning: Impossible A1 allele assignment for variant rs9300901.\n",
      "Warning: Impossible A1 allele assignment for variant rs9604511.\n",
      "Warning: Impossible A1 allele assignment for variant rs7996853.\n",
      "Warning: Impossible A1 allele assignment for variant rs7399982.\n",
      "Warning: Impossible A1 allele assignment for variant rs9604529.\n",
      "Warning: Impossible A1 allele assignment for variant rs11259844.\n",
      "Warning: Impossible A1 allele assignment for variant rs11618091.\n",
      "Warning: Impossible A1 allele assignment for variant rs6602901.\n",
      "Warning: Impossible A1 allele assignment for variant rs9577914.\n",
      "Warning: Impossible A1 allele assignment for variant rs9604566.\n",
      "Warning: Impossible A1 allele assignment for variant rs7323426.\n",
      "Warning: Impossible A1 allele assignment for variant rs6602905.\n",
      "Warning: Impossible A1 allele assignment for variant rs7323932.\n",
      "Warning: Impossible A1 allele assignment for variant rs7996145.\n",
      "Warning: Impossible A1 allele assignment for variant rs7332546.\n",
      "Warning: Impossible A1 allele assignment for variant rs9550238.\n",
      "Warning: Impossible A1 allele assignment for variant rs7400267.\n",
      "Warning: Impossible A1 allele assignment for variant rs6602894.\n",
      "Warning: Impossible A1 allele assignment for variant rs7399469.\n",
      "Warning: Impossible A1 allele assignment for variant rs6602895.\n",
      "Warning: Impossible A1 allele assignment for variant rs6422414.\n",
      "Warning: Impossible A1 allele assignment for variant rs7335819.\n",
      "Warning: Impossible A1 allele assignment for variant rs13379029.\n",
      "Warning: Impossible A1 allele assignment for variant rs4147557.\n",
      "Warning: Impossible A1 allele assignment for variant rs10483432.\n",
      "Warning: Impossible A1 allele assignment for variant rs11627089.\n",
      "Warning: Impossible A1 allele assignment for variant rs17597295.\n",
      "Warning: Impossible A1 allele assignment for variant rs12793.\n",
      "Warning: Impossible A1 allele assignment for variant rs1744296.\n",
      "Warning: Impossible A1 allele assignment for variant rs4983517.\n",
      "Warning: Impossible A1 allele assignment for variant rs8034978.\n",
      "Warning: Impossible A1 allele assignment for variant rs3809581.\n",
      "Warning: Impossible A1 allele assignment for variant rs10519208.\n",
      "Warning: Impossible A1 allele assignment for variant rs3087567.\n",
      "Warning: Impossible A1 allele assignment for variant rs2107234.\n",
      "Warning: Impossible A1 allele assignment for variant rs252304.\n",
      "Warning: Impossible A1 allele assignment for variant rs8061401.\n",
      "Warning: Impossible A1 allele assignment for variant rs13337562.\n",
      "Warning: Impossible A1 allele assignment for variant rs28437095.\n",
      "Warning: Impossible A1 allele assignment for variant rs9928892.\n",
      "Warning: Impossible A1 allele assignment for variant rs1048149.\n",
      "Warning: Impossible A1 allele assignment for variant rs2306270.\n",
      "Warning: Impossible A1 allele assignment for variant rs764688.\n",
      "Warning: Impossible A1 allele assignment for variant rs3764420.\n",
      "Warning: Impossible A1 allele assignment for variant rs7210126.\n",
      "Warning: Impossible A1 allele assignment for variant rs17673149.\n",
      "Warning: Impossible A1 allele assignment for variant rs11868321.\n",
      "Warning: Impossible A1 allele assignment for variant rs1042678.\n",
      "Warning: Impossible A1 allele assignment for variant rs3744155.\n",
      "Warning: Impossible A1 allele assignment for variant rs16942082.\n",
      "Warning: Impossible A1 allele assignment for variant rs9973085.\n",
      "Warning: Impossible A1 allele assignment for variant rs11080748.\n",
      "Warning: Impossible A1 allele assignment for variant rs355311.\n",
      "Warning: Impossible A1 allele assignment for variant rs3826608.\n",
      "Warning: Impossible A1 allele assignment for variant rs10502668.\n",
      "Warning: Impossible A1 allele assignment for variant rs4919838.\n",
      "Warning: Impossible A1 allele assignment for variant rs4523.\n",
      "Warning: Impossible A1 allele assignment for variant rs11085099.\n",
      "Warning: Impossible A1 allele assignment for variant rs3093088.\n",
      "Warning: Impossible A1 allele assignment for variant rs14129.\n",
      "Warning: Impossible A1 allele assignment for variant rs8100232.\n",
      "Warning: Impossible A1 allele assignment for variant rs8109833.\n",
      "Warning: Impossible A1 allele assignment for variant rs430989.\n",
      "Warning: Impossible A1 allele assignment for variant rs3760667.\n",
      "Warning: Impossible A1 allele assignment for variant rs3187346.\n",
      "Warning: Impossible A1 allele assignment for variant rs2286750.\n",
      "Warning: Impossible A1 allele assignment for variant rs6110212.\n",
      "Warning: Impossible A1 allele assignment for variant rs3746600.\n",
      "Warning: Impossible A1 allele assignment for variant rs3761210.\n",
      "Warning: Impossible A1 allele assignment for variant rs17001274.\n",
      "Warning: Impossible A1 allele assignment for variant rs17114359.\n",
      "Warning: Impossible A1 allele assignment for variant rs3788014.\n",
      "Warning: Impossible A1 allele assignment for variant rs35829851.\n",
      "Warning: Impossible A1 allele assignment for variant rs2268780.\n",
      "Warning: Impossible A1 allele assignment for variant rs4820280.\n",
      "Warning: Impossible A1 allele assignment for variant rs9611591.\n",
      "Warning: Impossible A1 allele assignment for variant rs34420568.\n",
      "Warning: Impossible A1 allele assignment for variant rs9614750.\n",
      "Warning: Impossible A1 allele assignment for variant rs34315830.\n",
      "Warning: Impossible A1 allele assignment for variant rs5767487.\n",
      "Warning: Impossible A1 allele assignment for variant rs35812349.\n",
      "--a1-allele: 376380 assignments made.\n",
      "376380 variants and 109 people pass filters and QC.\n",
      "Among remaining phenotypes, 54 are cases and 55 are controls.\n",
      "--make-bed to Results/GWAS4/HapMap-adj.bed + Results/GWAS4/HapMap-adj.bim +\n",
      "Results/GWAS4/HapMap-adj.fam ... done.\n"
     ]
    }
   ],
   "source": [
    "plink --bfile Results/GWAS4/HapMap_MDS  \\\n",
    "    --make-bed \\\n",
    "    --reference-allele Results/GWAS4/1kg_ref-list.txt  \\\n",
    "    --out Results/GWAS4/HapMap-adj "
   ]
  },
  {
   "cell_type": "markdown",
   "id": "34f5e276-9b2f-486d-83c9-fe7827b9a007",
   "metadata": {},
   "source": [
    "**2.** To resolve strand issues, we flip SNPs found in both datasets with complementary alleles (i.e. they were reported in opposite strands). We generate SNP lists (ID and alleles) for both datasets, identify unique SNPs, and visualize differences in allele reporting. If a SNP is unique but reports alleles differently, it will appear twice. Below are examples of SNPs with strand issues from the 1000GP and HapMap data:"
   ]
  },
  {
   "cell_type": "code",
   "execution_count": 1,
   "id": "33e5be15-6808-4ea3-bbdb-56192f731cd6",
   "metadata": {},
   "outputs": [],
   "source": [
    "#print SNP and A1 A2 alleles on files for the two datasets\n",
    "awk '{print$2,$5,$6}' Results/GWAS4/1kG_MDS5.bim > Results/GWAS4/1kGMDS5_tmp\n",
    "awk '{print$2,$5,$6}' Results/GWAS4/HapMap-adj.bim > Results/GWAS4/HapMap-adj_tmp\n",
    "\n",
    "#sort by SNP name to see SNPs with complementary alleles\n",
    "sort Results/GWAS4/1kGMDS5_tmp Results/GWAS4/HapMap-adj_tmp | uniq -u > Results/GWAS4/all_differences.txt"
   ]
  },
  {
   "cell_type": "code",
   "execution_count": 2,
   "id": "3e7a86f1-803e-4107-b13f-40c37ed1d35d",
   "metadata": {},
   "outputs": [
    {
     "name": "stdout",
     "output_type": "stream",
     "text": [
      "rs10006274 C T\n",
      "rs10006274 G A\n",
      "rs1008660 A G\n",
      "rs1008660 T C\n",
      "rs10088098 C T\n",
      "rs10088098 G A\n"
     ]
    }
   ],
   "source": [
    "head -6 Results/GWAS4/all_differences.txt"
   ]
  },
  {
   "cell_type": "markdown",
   "id": "d59d5c83-84fd-46a8-995a-935ea4b082ed",
   "metadata": {},
   "source": [
    "**How many of these differences are there?** We can count 604 lines, so 302 SNPs"
   ]
  },
  {
   "cell_type": "code",
   "execution_count": 3,
   "id": "eb2444e5-1267-4bcd-bae8-055b3e96d4e9",
   "metadata": {},
   "outputs": [
    {
     "name": "stdout",
     "output_type": "stream",
     "text": [
      "604 Results/GWAS4/all_differences.txt\n"
     ]
    }
   ],
   "source": [
    "wc -l Results/GWAS4/all_differences.txt"
   ]
  },
  {
   "cell_type": "markdown",
   "id": "51234782-57d7-4bd4-bfc2-77f0131bc31f",
   "metadata": {},
   "source": [
    "Some of these differences might be might be due to strand issues."
   ]
  },
  {
   "cell_type": "markdown",
   "id": "c6ea3ff9-81ab-498c-a3e0-330bcbc78b55",
   "metadata": {},
   "source": [
    "Let's look at this variant `rs10006274`. **Will it be flipped in the HapMap dataset?**\n",
    "\n",
    "The answer is yes! If we look at the reference allele in `1kg_ref-list.txt`, it shows `C`. This means the SNP is on the forward strand in 1000GP (C/T) and on the reverse strand in HapMap (G/A)."
   ]
  },
  {
   "cell_type": "code",
   "execution_count": 4,
   "id": "12dc2f26-f2e6-402b-9be1-382e47845b2c",
   "metadata": {},
   "outputs": [
    {
     "name": "stdout",
     "output_type": "stream",
     "text": [
      "\u001b[01;31m\u001b[Krs10006274\u001b[m\u001b[K C\n"
     ]
    }
   ],
   "source": [
    "grep rs10006274 Results/GWAS4/1kg_ref-list.txt"
   ]
  },
  {
   "cell_type": "code",
   "execution_count": 5,
   "id": "3c51a907-1301-4fc0-b4d8-5e505b6153f1",
   "metadata": {},
   "outputs": [
    {
     "name": "stdout",
     "output_type": "stream",
     "text": [
      "\u001b[01;31m\u001b[Krs10006274\u001b[m\u001b[K C T\n",
      "\u001b[01;31m\u001b[Krs10006274\u001b[m\u001b[K G A\n"
     ]
    }
   ],
   "source": [
    "grep rs10006274 Results/GWAS4/all_differences.txt"
   ]
  },
  {
   "cell_type": "markdown",
   "id": "6b1401f5-2bbb-4162-a98c-5f287dc2d847",
   "metadata": {},
   "source": [
    ":::{.callout-important title=\"Stop - Read - Solve\"}\n",
    "\n",
    "Look at these other SNPs: `rs9614750` and `rs10088098`. \n",
    "\n",
    "- **Which ones will have to be flipped?**\n",
    "- **Is it always the same dataset that must be flipped?**\n",
    "\n",
    ":::"
   ]
  },
  {
   "cell_type": "code",
   "execution_count": null,
   "id": "b8b0ba37-79a7-4d83-8c72-55355a101f1d",
   "metadata": {},
   "outputs": [],
   "source": [
    "# Write your code here "
   ]
  },
  {
   "cell_type": "markdown",
   "id": "0d7221cd-1406-4f6b-b057-5a72cb0a6c00",
   "metadata": {
    "tags": []
   },
   "source": [
    ":::{.callout-tip title=\"Solution\" collapse=\"true\"}\n",
    "We will first print out the SNPs from the reference file to know which line corresponds to each dataset (since we know we used the 1000 Genomes Project as the reference). If there are strand issues, the SNP will need to be flipped in the dataset that wasn't used as the reference.\n"
   ]
  },
  {
   "cell_type": "code",
   "execution_count": 6,
   "id": "ad77cb69-bb65-4cfb-92f0-426568021ae0",
   "metadata": {},
   "outputs": [
    {
     "name": "stdout",
     "output_type": "stream",
     "text": [
      "\u001b[01;31m\u001b[Krs9614750\u001b[m\u001b[K A\n"
     ]
    }
   ],
   "source": [
    "grep rs9614750 Results/GWAS4/1kg_ref-list.txt "
   ]
  },
  {
   "cell_type": "code",
   "execution_count": 7,
   "id": "1b33052c-eee2-4d7d-a6ef-fbd0eaa48eda",
   "metadata": {},
   "outputs": [
    {
     "name": "stdout",
     "output_type": "stream",
     "text": [
      "\u001b[01;31m\u001b[Krs9614750\u001b[m\u001b[K A G\n",
      "\u001b[01;31m\u001b[Krs9614750\u001b[m\u001b[K C G\n"
     ]
    }
   ],
   "source": [
    "grep rs9614750 Results/GWAS4/all_differences.txt"
   ]
  },
  {
   "cell_type": "markdown",
   "id": "ce3ccaaf-fa99-4378-85f0-cc5a77eb156b",
   "metadata": {},
   "source": [
    "For `rs9614750`, the genotype is reported as `A/G` in the 1000GP data, while in HapMap, it is `C/G`. This discrepancy between the two datasets means that the SNP will need to be removed later.\n"
   ]
  },
  {
   "cell_type": "code",
   "execution_count": 8,
   "id": "dc56146a-aefa-45ae-9acd-772df3d3eac4",
   "metadata": {},
   "outputs": [
    {
     "name": "stdout",
     "output_type": "stream",
     "text": [
      "\u001b[01;31m\u001b[Krs10088098\u001b[m\u001b[K C\n"
     ]
    }
   ],
   "source": [
    "grep rs10088098 Results/GWAS4/1kg_ref-list.txt "
   ]
  },
  {
   "cell_type": "code",
   "execution_count": 9,
   "id": "5cabdd69-57d1-4223-a2cc-525ca87d5b3f",
   "metadata": {},
   "outputs": [
    {
     "name": "stdout",
     "output_type": "stream",
     "text": [
      "\u001b[01;31m\u001b[Krs10088098\u001b[m\u001b[K C T\n",
      "\u001b[01;31m\u001b[Krs10088098\u001b[m\u001b[K G A\n"
     ]
    }
   ],
   "source": [
    "grep rs10088098 Results/GWAS4/all_differences.txt"
   ]
  },
  {
   "cell_type": "markdown",
   "id": "d1774ade-79e0-4317-8324-105adb1686bf",
   "metadata": {},
   "source": [
    "For `rs10088098`, the genotype is reported as `C/T` in the 1000GP data, while in HapMap, it is `G/A`. This means that PLINK will flip the allele, as they are complementary."
   ]
  },
  {
   "cell_type": "markdown",
   "id": "f58853d5-e1dc-4f08-a487-d84cbd4ea5d6",
   "metadata": {},
   "source": [
    ":::\n",
    "\n",
    "---"
   ]
  },
  {
   "cell_type": "markdown",
   "id": "409cc2c4-c334-490c-9bac-1c654a9a3832",
   "metadata": {},
   "source": [
    "Now we take only the SNP names and give them to PLINK (option `--flip`), together with the reference genome (option `--reference-allele`):"
   ]
  },
  {
   "cell_type": "code",
   "execution_count": 10,
   "id": "d2bb696b-4d7b-423c-a0aa-1df7393af08b",
   "metadata": {},
   "outputs": [],
   "source": [
    "## Flip SNPs for resolving strand issues.\n",
    "# Print SNP-identifier and remove duplicates.\n",
    "awk '{print$1}' Results/GWAS4/all_differences.txt | sort -u > Results/GWAS4/flip_list.txt"
   ]
  },
  {
   "cell_type": "code",
   "execution_count": 11,
   "id": "cbda06fc-d78e-4487-ad6a-1835c0dc5ea2",
   "metadata": {},
   "outputs": [
    {
     "name": "stdout",
     "output_type": "stream",
     "text": [
      "302 Results/GWAS4/flip_list.txt\n"
     ]
    }
   ],
   "source": [
    "wc -l Results/GWAS4/flip_list.txt"
   ]
  },
  {
   "cell_type": "markdown",
   "id": "df940a85-ba06-4472-b1ef-eb36da383cd8",
   "metadata": {},
   "source": [
    "These are the SNP ID of non-corresponding SNPs (N=302) between the two files. "
   ]
  },
  {
   "cell_type": "code",
   "execution_count": 12,
   "id": "e5f8b6e7-9452-4dc2-9430-4227ecedcf82",
   "metadata": {},
   "outputs": [
    {
     "name": "stdout",
     "output_type": "stream",
     "text": [
      "rs10006274\n",
      "rs1008660\n",
      "rs10088098\n",
      "rs1011297\n",
      "rs1023098\n"
     ]
    }
   ],
   "source": [
    "head -5 Results/GWAS4/flip_list.txt"
   ]
  },
  {
   "cell_type": "markdown",
   "id": "44cba8ed-3b83-4c36-9e97-4aa094814a45",
   "metadata": {},
   "source": [
    "Apply the flipping option: "
   ]
  },
  {
   "cell_type": "code",
   "execution_count": 13,
   "id": "436c134e-9986-4218-86a0-98d8f5e3ee29",
   "metadata": {},
   "outputs": [
    {
     "name": "stdout",
     "output_type": "stream",
     "text": [
      "Warning: Impossible A1 allele assignment for variant rs2581195.\n",
      "Warning: Impossible A1 allele assignment for variant rs9614750.\n"
     ]
    }
   ],
   "source": [
    "plink --bfile Results/GWAS4/HapMap-adj \\\n",
    "    --flip Results/GWAS4/flip_list.txt \\\n",
    "    --reference-allele Results/GWAS4/1kg_ref-list.txt \\\n",
    "    --make-bed \\\n",
    "    --out Results/GWAS4/corrected_hapmap \\\n",
    "    --silent"
   ]
  },
  {
   "cell_type": "markdown",
   "id": "a98f3692-398f-4742-80bc-4aafb770fb28",
   "metadata": {},
   "source": [
    ":::{.callout-important title=\"Stop - Read - Solve\"}\n",
    "There might still be problematic SNPs after flipping. \n",
    "\n",
    "- **Check if the expected allele flip occurred.**\n",
    "\n",
    "Hint: use `grep` to find the `rs10006274` and `rs9614750` variants; then compare the alleles assignments in the HapMap file before and after flipping.\n",
    "\n",
    ":::"
   ]
  },
  {
   "cell_type": "code",
   "execution_count": null,
   "id": "75f90b6d-911e-49a0-8cf1-2a09b4c63d16",
   "metadata": {},
   "outputs": [],
   "source": [
    "# Write your code here "
   ]
  },
  {
   "cell_type": "markdown",
   "id": "211a35da-2c83-4ef0-bac2-b26557b38058",
   "metadata": {},
   "source": [
    ":::{.callout-tip title=\"Solution\" collapse=\"true\"}\n",
    "PLINK attempts to flip all SNPs in the list, but an error occurs when A1 does not match the one in the reference.\n"
   ]
  },
  {
   "cell_type": "markdown",
   "id": "f52f2e6a-88ab-4bac-936b-705bf815b061",
   "metadata": {},
   "source": [
    "Notice how this SNP has changed as we predicted: "
   ]
  },
  {
   "cell_type": "code",
   "execution_count": 14,
   "id": "bfb8bbac-66f1-40ba-a92b-7beecc1743ff",
   "metadata": {},
   "outputs": [
    {
     "name": "stdout",
     "output_type": "stream",
     "text": [
      "4\t\u001b[01;31m\u001b[Krs10006274\u001b[m\u001b[K\t0\t124165369\tC\tT\n"
     ]
    }
   ],
   "source": [
    "grep rs10006274 Results/GWAS4/corrected_hapmap.bim"
   ]
  },
  {
   "cell_type": "code",
   "execution_count": 15,
   "id": "ffa6dcc8-a48a-4e7b-8ca5-ea18a1a04045",
   "metadata": {},
   "outputs": [
    {
     "name": "stdout",
     "output_type": "stream",
     "text": [
      "4\t\u001b[01;31m\u001b[Krs10006274\u001b[m\u001b[K\t0\t124165369\tG\tA\n"
     ]
    }
   ],
   "source": [
    "grep rs10006274 Results/GWAS4/HapMap-adj.bim"
   ]
  },
  {
   "cell_type": "markdown",
   "id": "a8c625f8-0540-43a1-a770-72bcac11d7ad",
   "metadata": {},
   "source": [
    "`rs10006274` was flipped and has the same strand orientation in both datasets (same alleles in A1 and A2). \n",
    "\n",
    "What happened to this one? PLINK attempts to resolve the mismatch by flipping the alleles but throws an error because the complementary alleles do not match the reference!"
   ]
  },
  {
   "cell_type": "code",
   "execution_count": 16,
   "id": "a120ca9c-d0e3-4f98-b531-2d70989b07ff",
   "metadata": {},
   "outputs": [
    {
     "name": "stdout",
     "output_type": "stream",
     "text": [
      "22\t\u001b[01;31m\u001b[Krs9614750\u001b[m\u001b[K\t0\t44436371\tG\tC\n"
     ]
    }
   ],
   "source": [
    "grep rs9614750 Results/GWAS4/corrected_hapmap.bim"
   ]
  },
  {
   "cell_type": "code",
   "execution_count": 17,
   "id": "26921fb5-c05a-4818-add4-fb9758238055",
   "metadata": {},
   "outputs": [
    {
     "name": "stdout",
     "output_type": "stream",
     "text": [
      "22\t\u001b[01;31m\u001b[Krs9614750\u001b[m\u001b[K\t0\t44436371\tC\tG\n"
     ]
    }
   ],
   "source": [
    "grep rs9614750 Results/GWAS4/HapMap-adj.bim"
   ]
  },
  {
   "cell_type": "markdown",
   "id": "79a80955-e6c4-488d-ada7-91657832d138",
   "metadata": {},
   "source": [
    ":::\n",
    "\n",
    "---"
   ]
  },
  {
   "cell_type": "markdown",
   "id": "efd0548d-e625-4e43-8c9f-4456f260e940",
   "metadata": {},
   "source": [
    ":::{.callout-note}\n",
    "You don't need to flip the 1000GP data because the reference allele (A1) in the 1000GP data already matches the strand orientation used in the HapMap data.\n",
    "\n",
    ":::"
   ]
  },
  {
   "cell_type": "markdown",
   "id": "3ced8d41-8c85-4657-bf1a-8b58e2eca7fe",
   "metadata": {},
   "source": [
    "**3.** After flipping SNPs, some differ in their alleles when comparing datasets to each other (e.g. SNP `rs9614750`) and such SNPs must be removed. \n",
    "\n",
    "We extract the SNPs from the corrected HapMap data and search for unique SNP (ID, A1, and A2), comparing them with those from the 1000GP data."
   ]
  },
  {
   "cell_type": "code",
   "execution_count": 18,
   "id": "1f3db957-1b52-42ea-bcf7-4f542a627600",
   "metadata": {},
   "outputs": [],
   "source": [
    "awk '{print$2,$5,$6}' Results/GWAS4/corrected_hapmap.bim > Results/GWAS4/corrected_hapmap_tmp\n",
    "\n",
    "sort Results/GWAS4/1kGMDS5_tmp Results/GWAS4/corrected_hapmap_tmp | uniq -u  > Results/GWAS4/uncorresponding_SNPs.txt"
   ]
  },
  {
   "cell_type": "markdown",
   "id": "2d8e5e0b-96c5-43f5-b980-e6e7ccc9800f",
   "metadata": {},
   "source": [
    "**How many SNP mismatches are there?**"
   ]
  },
  {
   "cell_type": "code",
   "execution_count": 19,
   "id": "3ecd7c1a-c504-4c26-9df3-117282576a3e",
   "metadata": {},
   "outputs": [
    {
     "name": "stdout",
     "output_type": "stream",
     "text": [
      "24 Results/GWAS4/uncorresponding_SNPs.txt\n"
     ]
    }
   ],
   "source": [
    "wc -l Results/GWAS4/uncorresponding_SNPs.txt"
   ]
  },
  {
   "cell_type": "markdown",
   "id": "15ded8f4-2e95-468c-bd80-274fdeb7b690",
   "metadata": {},
   "source": [
    "This corresponds to 12 unique SNP IDs with mismatched information."
   ]
  },
  {
   "cell_type": "code",
   "execution_count": 20,
   "id": "a0cd231c-0467-4d12-b37d-a9d7d0d765ec",
   "metadata": {},
   "outputs": [
    {
     "name": "stdout",
     "output_type": "stream",
     "text": [
      "rs11524965 T C\n",
      "rs11524965 T G\n",
      "rs12646999 G A\n",
      "rs12646999 G T\n",
      "rs17114359 C A\n",
      "rs17114359 C T\n",
      "rs17269854 C A\n",
      "rs17269854 C T\n",
      "rs2060424 G A\n",
      "rs2060424 G C\n"
     ]
    }
   ],
   "source": [
    "head Results/GWAS4/uncorresponding_SNPs.txt "
   ]
  },
  {
   "cell_type": "markdown",
   "id": "ab856d5a-82a6-40f9-9d96-60a1f1c84f4f",
   "metadata": {},
   "source": [
    "We extract again the SNP IDs from the file above, and exclude them using the PLINK option `--exclude` in both datasets"
   ]
  },
  {
   "cell_type": "code",
   "execution_count": 21,
   "id": "c847f8ba-c42a-4cbe-933b-a8f7b44472f4",
   "metadata": {},
   "outputs": [],
   "source": [
    "awk '{print$1}' Results/GWAS4/uncorresponding_SNPs.txt | sort -u > Results/GWAS4/SNPs_for_exclusion.txt\n",
    "\n",
    "plink --bfile Results/GWAS4/corrected_hapmap \\\n",
    "    --exclude Results/GWAS4/SNPs_for_exclusion.txt \\\n",
    "    --make-bed \\\n",
    "    --out Results/GWAS4/HapMap_MDS3 \\\n",
    "    --silent\n",
    "    \n",
    "plink --bfile Results/GWAS4/1kG_MDS5 \\\n",
    "    --exclude Results/GWAS4/SNPs_for_exclusion.txt \\\n",
    "    --make-bed \\\n",
    "    --out Results/GWAS4/1kG_MDS6 \\\n",
    "    --silent"
   ]
  },
  {
   "cell_type": "markdown",
   "id": "de731b29-4e7b-4f2e-8f57-e9423828be9e",
   "metadata": {},
   "source": [
    "**5.** We can finally merge the data! We provide our dataset (`-bfile`) and the one to add (`--bmerge` option):"
   ]
  },
  {
   "cell_type": "code",
   "execution_count": 22,
   "id": "02eb4e5a-5904-4b27-9fab-45ca16d4f608",
   "metadata": {},
   "outputs": [],
   "source": [
    "plink --bfile Results/GWAS4/corrected_hapmap \\\n",
    "    --bmerge Results/GWAS4/1kG_MDS6.bed Results/GWAS4/1kG_MDS6.bim Results/GWAS4/1kG_MDS6.fam \\\n",
    "    --allow-no-sex \\\n",
    "    --make-bed \\\n",
    "    --out Results/GWAS4/MDS_merge \\\n",
    "    --silent"
   ]
  },
  {
   "cell_type": "markdown",
   "id": "05607f1c-b5e1-4ec7-8930-fd0912557dbe",
   "metadata": {},
   "source": [
    "### Perform MDS on HapMap-CEU data anchored by 1000 Genomes data."
   ]
  },
  {
   "cell_type": "markdown",
   "id": "3cf8f6cc",
   "metadata": {},
   "source": [
    "MDS is typically performed on independent SNPs (pruned SNPs). We have previously identified such SNPs in this course, so we will extract only these SNPs for the analysis."
   ]
  },
  {
   "cell_type": "code",
   "execution_count": 23,
   "id": "07f84ea8",
   "metadata": {
    "tags": []
   },
   "outputs": [],
   "source": [
    "plink --bfile Results/GWAS4/MDS_merge \\\n",
    "    --extract Results/GWAS3/indepSNP.prune.in \\\n",
    "    --genome \\\n",
    "    --out Results/GWAS4/MDS_merge \\\n",
    "    --silent"
   ]
  },
  {
   "cell_type": "markdown",
   "id": "40527002-38d8-4adb-84dd-02d302d672fc",
   "metadata": {},
   "source": [
    "Now, we can use PLINK to run MDS with the option `---mds-plot` specifying the number of components to calculate."
   ]
  },
  {
   "cell_type": "code",
   "execution_count": 24,
   "id": "fc3a311a-58e6-4d28-9cf0-127257a924c3",
   "metadata": {},
   "outputs": [],
   "source": [
    "# mds-plot\n",
    "plink --bfile Results/GWAS4/MDS_merge \\\n",
    "    --read-genome Results/GWAS4/MDS_merge.genome \\\n",
    "    --cluster \\\n",
    "    --mds-plot 10 \\\n",
    "    --out Results/GWAS4/MDS_merge \\\n",
    "    --silent"
   ]
  },
  {
   "cell_type": "markdown",
   "id": "e855e1ab-2177-407f-a2a3-569fedb965b3",
   "metadata": {},
   "source": [
    "For visualization purposes, we downloaded the 1000 Genomes Project (1000GP) panel, which includes individual names and their corresponding population information."
   ]
  },
  {
   "cell_type": "code",
   "execution_count": 25,
   "id": "5a3f6fea-bb10-4d5c-8909-ab682020a41c",
   "metadata": {
    "tags": []
   },
   "outputs": [],
   "source": [
    "wget ftp://ftp.1000genomes.ebi.ac.uk/vol1/ftp/release/20100804/20100804.ALL.panel -P Results/GWAS4 -q"
   ]
  },
  {
   "cell_type": "markdown",
   "id": "1ec78f9f-69a9-469c-8fc3-4381dc133665",
   "metadata": {},
   "source": [
    "To determine the population origins of HapMap individuals, we created a new file that combines the 1000GP panel information with the HapMap data, labeling the population HapMap entries as 'OWN'."
   ]
  },
  {
   "cell_type": "code",
   "execution_count": 26,
   "id": "ac3d0b03-be57-4fc2-964e-8d32f9d6a4b2",
   "metadata": {
    "tags": []
   },
   "outputs": [],
   "source": [
    "awk '{print$1,$2,\"OWN\"}' Results/GWAS4/HapMap_MDS.fam > Results/GWAS4/popfile_own.txt\n",
    "awk '{print$1,$1,$2}' Results/GWAS4/20100804.ALL.panel > Results/GWAS4/20100804.ALL.panel.txt\n",
    "\n",
    "cat <(echo \"FID IID POP\") Results/GWAS4/20100804.ALL.panel.txt Results/GWAS4/popfile_own.txt > Results/GWAS4/popfile.txt"
   ]
  },
  {
   "cell_type": "markdown",
   "id": "2196facd-2e54-4382-9cf6-32a7cbcde299",
   "metadata": {},
   "source": [
    ":::{.callout-note}\n",
    "\n",
    "The 1000 Genomes Project (1000GP) categorizes individuals into major continental groups—such as Europeans (EUR), Africans (AFR), Americans (AMR), East Asians (EAS), and South Asians (SAS)—each comprising various subpopulations. We will use this population structure information to visualize and determine the clusters our samples belong to.\n",
    "\n",
    "![](./Images/1000GP.png){width=800px}\n",
    "\n",
    ":::"
   ]
  },
  {
   "cell_type": "markdown",
   "id": "9868d96e-fe7e-41ba-a020-0a6e9b59af33",
   "metadata": {},
   "source": [
    "<img src=\"Images/R.png\" alt=\"R\" width=\"40\"> Switch to the R kernel.\n",
    "\n",
    "Let's visualize population stratification using the multidimensional scaling (MDS) results. \n"
   ]
  },
  {
   "cell_type": "code",
   "execution_count": 1,
   "id": "eac20c80-bb26-4175-a870-660892297e46",
   "metadata": {
    "tags": []
   },
   "outputs": [
    {
     "data": {
      "image/png": "[encoded data removed]",
      "text/plain": [
       "plot without title"
      ]
     },
     "metadata": {
      "image/png": {
       "height": 360,
       "width": 720
      }
     },
     "output_type": "display_data"
    }
   ],
   "source": [
    "options(repr.plot.width = 12, repr.plot.height = 6)\n",
    "\n",
    "suppressMessages(suppressWarnings(library(ggplot2)))\n",
    "\n",
    "# Read data into R \n",
    "data <- read.table(file=\"Results/GWAS4/MDS_merge.mds\",header=TRUE)\n",
    "pop <- read.table(file=\"Results/GWAS4/popfile.txt\",header=TRUE)\n",
    "datafile <- merge(data,pop,by=c(\"FID\",\"IID\"))\n",
    "\n",
    "# Metapopulation information for the population in the 1000GP dataset\n",
    "superpop <- c(\n",
    "  \"JPT\" = \"ASN\",\n",
    "  \"ASW\" = \"AFR\",\n",
    "  \"CEU\" = \"EUR\",\n",
    "  \"CHB\" = \"ASN\",\n",
    "  \"CHD\" = \"ASN\",\n",
    "  \"YRI\" = \"AFR\",\n",
    "  \"LWK\" = \"AFR\",\n",
    "  \"TSI\" = \"EUR\",\n",
    "  \"MXL\" = \"AMR\",\n",
    "  \"GBR\" = \"EUR\",\n",
    "  \"FIN\" = \"EUR\",\n",
    "  \"CHS\" = \"ASN\",\n",
    "  \"PUR\" = \"AMR\",\n",
    "  \"OWN\" = \"UN\"\n",
    ")\n",
    "\n",
    "# add metapopulation info to the table \n",
    "datafile$SUPERPOP <- superpop[datafile$POP]\n",
    "\n",
    "# Plotting                \n",
    "scatter.mds <- ggplot(datafile, aes(x=C1, y=C2, color=SUPERPOP)) +\n",
    "  geom_point(size=5, alpha=.4) +\n",
    "  scale_color_manual(values=c(\"AFR\" = \"red\", \"AMR\" = \"springgreen4\", \"ASN\" = \"gold\", \"EUR\" = \"blue\", \"UN\" = \"grey\" )) +\n",
    "  xlab(\"MD Component 1\") + \n",
    "  ylab(\"MD Component 2\") +\n",
    "  labs(color=\"Superpop\") +\n",
    "  theme_bw() +\n",
    "  theme(axis.title = element_text(size = 14), legend.text = element_text(size = 15), \n",
    "        axis.text = element_text(size = 14), legend.title=element_text(size=15))\n",
    "  \n",
    "show(scatter.mds)"
   ]
  },
  {
   "cell_type": "markdown",
   "id": "f93bc0e6-68b5-4f68-922e-e18cd35a38b3",
   "metadata": {},
   "source": [
    "The HapMap data clusters closely with European populations such as CEU, TSI, IBS, GBR, and FIN, confirming its European composition. Additionally, the absence of distant points indicates no outliers in the HapMap dataset (grey datapoints cluster together).\n"
   ]
  },
  {
   "cell_type": "markdown",
   "id": "1a351cee",
   "metadata": {},
   "source": [
    "#### Exclude ethnic outliers\n",
    "\n",
    "To control for population structure, individuals that deviate substantially from their genetically inferred ancestry cluster are often excluded. A common approach is to calculate genetic principal components (PCs) and compute each individual's Mahalanobis or Euclidean distance from the center of their assigned cluster; individuals beyond a predefined threshold (e.g., >4 standard deviations) are considered population outliers and removed from downstream analysis.\n",
    "\n",
    "Now, imagine we want to consider only European individuals for a specific analysis where we want only such a homogeneous population. Then the rest of the individuals would be considered outliers. \n",
    "\n",
    "\n",
    ":::{.callout-important title=\"Stop - Read - Solve\"}\n",
    "Based on the PCA plot, visually inspect the distribution of individuals along the top principal components and determine approximate threshold values beyond which samples should be considered outliers and excluded. **What cutoff values would you apply in this context, and why?**\n",
    ":::\n"
   ]
  },
  {
   "cell_type": "markdown",
   "id": "a28245a8-513e-44e2-a29c-39f184131dc9",
   "metadata": {},
   "source": [
    ":::{.callout-tip title=\"Solution\" collapse=\"true\"}\n",
    "\n",
    "Based on the position of the target population's cluster in the MDS plot, we will exclude individuals that fall outside the European cluster in the PCA.\n",
    "\n",
    "<img src=\"Images/bash.png\" alt=\"Bash\" width=\"40\"> Switch to the Bash kernel. Let's see how the MDS table is structured:\n"
   ]
  },
  {
   "cell_type": "code",
   "execution_count": 1,
   "id": "89a3b1b8-0600-4970-bbd8-26c61e593aa3",
   "metadata": {},
   "outputs": [
    {
     "name": "stdout",
     "output_type": "stream",
     "text": [
      "    FID       IID    SOL           C1           C2           C3           C4           C5           C6           C7           C8           C9          C10 \n",
      "   1328   NA06984      0   -0.0220235  -0.00643748  -0.00383372   0.00144623  -0.00179491   0.00329767   0.00937787  -0.00709728  -0.00916042    0.0145214 \n",
      "   1328   NA06989      0   -0.0208739  -0.00562554  -0.00618303   0.00405602  0.000816232  -0.00392579    0.0125535    0.0268739    0.0353041   -0.0101189 \n"
     ]
    }
   ],
   "source": [
    "head -3 Results/GWAS4/MDS_merge.mds | cut -f1-6 -d$'\\t'"
   ]
  },
  {
   "cell_type": "markdown",
   "id": "637b5106-7e6c-4c3a-ae92-a336b899a53d",
   "metadata": {},
   "source": [
    "The first three columns denote samples, while *C1, C2, ...* are MDS components. We will select the individuals we want to keep based on coordinates *C1, C2*, so the area to be chosen has to be C1<0 and C2<0.05. Thus we take the values in columns 4 and 5 of the file , and extract the individuals using PLINK with the option `--keep`. "
   ]
  },
  {
   "cell_type": "code",
   "execution_count": 2,
   "id": "3e022245",
   "metadata": {
    "tags": []
   },
   "outputs": [
    {
     "name": "stdout",
     "output_type": "stream",
     "text": [
      "PLINK v1.90b6.21 64-bit (19 Oct 2020)          www.cog-genomics.org/plink/1.9/\n",
      "(C) 2005-2020 Shaun Purcell, Christopher Chang   GNU General Public License v3\n",
      "Logging to Results/GWAS4/EUR_MDS_merge.log.\n",
      "Options in effect:\n",
      "  --bfile Results/GWAS4/MDS_merge\n",
      "  --keep Results/GWAS4/EUR_MDS_merge\n",
      "  --make-bed\n",
      "  --out Results/GWAS4/EUR_MDS_merge\n",
      "\n",
      "385567 MB RAM detected; reserving 192783 MB for main workspace.\n",
      "376380 variants loaded from .bim file.\n",
      "146 people (55 males, 54 females, 37 ambiguous) loaded from .fam.\n",
      "Ambiguous sex IDs written to Results/GWAS4/EUR_MDS_merge.nosex .\n",
      "109 phenotype values loaded from .fam.\n",
      "--keep: 124 people remaining.\n",
      "Using 1 thread (no multithreaded calculations invoked).\n",
      "Before main variant filters, 124 founders and 0 nonfounders present.\n",
      "Calculating allele frequencies... done.\n",
      "Total genotyping rate in remaining samples is 0.99826.\n",
      "376380 variants and 124 people pass filters and QC.\n",
      "Among remaining phenotypes, 54 are cases and 55 are controls.  (15 phenotypes\n",
      "are missing.)\n",
      "--make-bed to Results/GWAS4/EUR_MDS_merge.bed + Results/GWAS4/EUR_MDS_merge.bim\n",
      "+ Results/GWAS4/EUR_MDS_merge.fam ... done.\n"
     ]
    }
   ],
   "source": [
    "#print samples to keep in a file\n",
    "awk '{ if ($4 <0 && $5<0.05) print $1,$2 }' Results/GWAS4/MDS_merge.mds > Results/GWAS4/EUR_MDS_merge\n",
    "\n",
    "#use the keep --option\n",
    "plink --bfile Results/GWAS4/MDS_merge \\\n",
    "    --keep Results/GWAS4/EUR_MDS_merge \\\n",
    "    --make-bed  \\\n",
    "    --out Results/GWAS4/EUR_MDS_merge"
   ]
  },
  {
   "cell_type": "markdown",
   "id": "2a3e381d-7010-4168-9166-7b21c307e962",
   "metadata": {},
   "source": [
    "How many people are we left with? see the output message above or find the log file"
   ]
  },
  {
   "cell_type": "code",
   "execution_count": 3,
   "id": "586984f7-2176-47d8-ac5a-5ed57527dffe",
   "metadata": {},
   "outputs": [
    {
     "name": "stdout",
     "output_type": "stream",
     "text": [
      "--keep: 124 people \u001b[01;31m\u001b[Kremaining\u001b[m\u001b[K.\n",
      "Total genotyping rate in \u001b[01;31m\u001b[Kremaining\u001b[m\u001b[K samples is 0.99826.\n",
      "Among \u001b[01;31m\u001b[Kremaining\u001b[m\u001b[K phenotypes, 54 are cases and 55 are controls.  (15 phenotypes\n"
     ]
    }
   ],
   "source": [
    "grep \"remaining\" Results/GWAS4/EUR_MDS_merge.log"
   ]
  },
  {
   "cell_type": "markdown",
   "id": "50aab187-03db-4925-8bbb-ffc9f9b88b19",
   "metadata": {},
   "source": [
    ":::\n",
    "\n",
    "---"
   ]
  },
  {
   "cell_type": "markdown",
   "id": "3a4836bc-5b88-4bbe-ac64-715d205895ba",
   "metadata": {},
   "source": [
    "#### Creating covariates for GWAS analysis\n",
    "\n",
    "The 10 MDS dimensions will be used as covariates in the association analysis in the next tutorial to correct for population stratification. The covariate file is created by removing column 3 (`SOL`, optional metadata) from the MDS output file.\n",
    "\n",
    ":::{.callout-important title=\"Stop - Read - Solve\"}\n",
    "**Why are we computing the covariates again?**\n",
    ":::"
   ]
  },
  {
   "cell_type": "markdown",
   "id": "40caea78-ce15-4eb9-ad54-e47e22ef2420",
   "metadata": {},
   "source": [
    ":::{.callout-tip title=\"Solution\" collapse=\"true\"}\n",
    "\n",
    "The data has been filtered, and the remaining samples will have a very tight MDS structure, since they were projected in relationship to other very different samples. Now we might want to capture some substructure in the CEU population instead.\n",
    "\n",
    ":::\n"
   ]
  },
  {
   "cell_type": "markdown",
   "id": "442dc1b1-d340-447d-99ee-3e87d7ba0807",
   "metadata": {},
   "source": [
    "This time we will not use MDS projection, but the PCA implemented in PLINK2. In our dataset this will not change much (actually it might be a bit slower, because it also recalculates the relatedness matrix and normalizes it), but for large datasets PCA is faster, and you can also use an approximated PCA which is even faster on many thousands of samples ([all details here in the manual](https://www.cog-genomics.org/plink/2.0/strat)). The default is to calculate ten components, but you can for example choose more as we fo here. `biallelic-var-wts` ensures PLINK2 does not apply its own filtering to our data."
   ]
  },
  {
   "cell_type": "code",
   "execution_count": 4,
   "id": "0abd5a00-4797-406c-b73c-b1ebfaaba15d",
   "metadata": {
    "tags": []
   },
   "outputs": [
    {
     "name": "stdout",
     "output_type": "stream",
     "text": [
      "PLINK v2.00a5.12LM 64-bit Intel (25 Jun 2024)  www.cog-genomics.org/plink/2.0/\n",
      "(C) 2005-2024 Shaun Purcell, Christopher Chang   GNU General Public License v3\n",
      "Logging to Results/GWAS4/EUR_MDS_merge.log.\n",
      "Options in effect:\n",
      "  --bfile Results/GWAS4/EUR_MDS_merge\n",
      "  --out Results/GWAS4/EUR_MDS_merge\n",
      "  --pca 20 biallelic-var-wts\n",
      "\n",
      "Start time: Tue Apr  1 10:22:19 2025\n",
      "385567 MiB RAM detected, ~357174 available; reserving 192783 MiB for main\n",
      "workspace.\n",
      "Using up to 64 threads (change this with --threads).\n",
      "124 samples (54 females, 55 males, 15 ambiguous; 124 founders) loaded from\n",
      "Results/GWAS4/EUR_MDS_merge.fam.\n",
      "376380 variants loaded from Results/GWAS4/EUR_MDS_merge.bim.\n",
      "1 binary phenotype loaded (54 cases, 55 controls).\n",
      "Calculating allele frequencies... done.\n",
      "Constructing GRM: done.\n",
      "Correcting for missingness... done.\n",
      "Extracting eigenvalues and eigenvectors... done.\n",
      "--pca: Variant weights written to Results/GWAS4/EUR_MDS_merge.eigenvec.var .\n",
      "--pca: Eigenvectors written to Results/GWAS4/EUR_MDS_merge.eigenvec , and\n",
      "eigenvalues written to Results/GWAS4/EUR_MDS_merge.eigenval .\n",
      "End time: Tue Apr  1 10:22:30 2025\n"
     ]
    }
   ],
   "source": [
    "plink2 --bfile Results/GWAS4/EUR_MDS_merge \\\n",
    "    --pca 20 biallelic-var-wts \\\n",
    "    --out Results/GWAS4/EUR_MDS_merge"
   ]
  },
  {
   "cell_type": "markdown",
   "id": "d80c8456-138d-4f9a-a74e-69212c49a4d0",
   "metadata": {},
   "source": [
    "The output file looks like this, where the PCA components start from the third columns"
   ]
  },
  {
   "cell_type": "code",
   "execution_count": 5,
   "id": "afa25e6e-48c1-4198-b379-71d869dadff7",
   "metadata": {},
   "outputs": [
    {
     "name": "stdout",
     "output_type": "stream",
     "text": [
      "#FID\tIID\tPC1\tPC2\tPC3\tPC4\tPC5\tPC6\tPC7\tPC8\tPC9\tPC10\tPC11\tPC12\tPC13\tPC14\tPC15\tPC16\tPC17\tPC18\tPC19\tPC20\n",
      "1328\tNA06984\t-0.00859205\t-0.000713344\t0.0019488\t-0.0194148\t0.00557532\t-0.00846987\t-0.114078\t-0.0171505\t-0.0438258\t-0.107577\t0.104002\t-0.055593\t0.0736573\t-0.0135244\t-0.0364878\t0.00538918\t-0.109144\t-0.059361\t-0.00440937\t-0.0431937\n",
      "1328\tNA06989\t-0.0136658\t-0.0149942\t0.00301289\t-0.0254053\t0.272088\t0.00254102\t0.144933\t0.119846\t0.0886107\t0.0638438\t-0.0630205\t0.0356998\t-0.0759603\t-0.0370554\t-0.0418473\t0.0527318\t-0.0121366\t0.0479597\t-0.0367867\t-0.0305699\n",
      "1330\tNA12340\t-0.00616811\t-0.00485281\t-0.000446531\t-0.020636\t-0.0307426\t0.0758664\t0.0131584\t0.0281449\t-0.0210886\t-0.0258555\t-0.00743298\t-0.00302273\t-0.0698325\t0.0820405\t0.0920026\t0.11563\t-0.0247229\t0.0971549\t0.246957\t-0.0211716\n",
      "1330\tNA12341\t0.00463878\t0.00140834\t0.011076\t-0.023228\t-0.0811037\t0.0163619\t-0.00248169\t0.0431481\t-0.0233267\t0.0172231\t0.0787388\t0.051973\t0.0193357\t-0.0166813\t0.0340238\t-0.0239645\t0.143527\t-0.0360926\t0.0245356\t0.0999383\n",
      "1330\tNA12343\t0.0031776\t-0.0045031\t-8.72381e-05\t-0.0163116\t-0.0249424\t-0.016094\t-0.00862269\t0.0407527\t-0.0114612\t-0.0806505\t0.0979802\t0.0451038\t-0.0197933\t-0.066389\t0.0275765\t-0.0405189\t-0.039758\t-0.059946\t-0.00828597\t-0.134352\n",
      "1334\tNA12144\t-0.243701\t-0.498832\t-0.0315505\t0.42489\t-0.00277974\t-0.00238691\t-0.0105663\t-0.00688372\t-0.0023163\t-0.00411851\t-0.00439512\t-0.00402327\t-0.00216514\t-0.00551774\t0.00505487\t-0.0012999\t-0.00459691\t0.00525804\t-0.000930452\t0.00247628\n",
      "1334\tNA12145\t-0.0158101\t-0.00134625\t0.0103452\t-0.0281508\t0.0614065\t-0.121773\t-0.0178527\t-0.0487954\t0.0908253\t0.0235487\t-0.120557\t-0.179704\t0.087244\t0.116373\t0.102855\t-0.0436268\t-0.0688123\t-0.181029\t0.0773649\t-0.0883023\n",
      "1334\tNA12146\t0.000666231\t0.00106231\t-0.00227125\t-0.0237419\t0.00752388\t0.00584327\t0.0624162\t-0.00309064\t0.00593472\t-0.0279774\t0.0570448\t0.087663\t-0.036355\t-0.0047487\t-0.0272154\t-0.0731273\t0.0258629\t0.000726882\t-0.141976\t0.173346\n",
      "1334\tNA12239\t-0.0131557\t0.00171638\t0.000943406\t-0.0257941\t0.0717663\t0.0867909\t0.035031\t0.0638352\t-0.0108395\t0.0312804\t-0.138294\t-0.0995013\t-0.0785355\t0.084597\t0.162618\t0.00395151\t-0.0377921\t0.0310539\t-0.0423427\t0.00997178\n"
     ]
    }
   ],
   "source": [
    "head Results/GWAS4/EUR_MDS_merge.eigenvec"
   ]
  },
  {
   "cell_type": "markdown",
   "id": "88a434d7-8d56-4bf9-bfe5-6315665559e4",
   "metadata": {},
   "source": [
    "<img src=\"Images/R.png\" alt=\"Bash\" width=\"40\"> Switch to the R kernel. Let's print the PCA again."
   ]
  },
  {
   "cell_type": "code",
   "execution_count": 2,
   "id": "9575b0c5-ba59-4320-b13d-2db74bad5ead",
   "metadata": {},
   "outputs": [
    {
     "data": {
      "text/html": [
       "<table class=\"dataframe\">\n",
       "<caption>A data.table: 6 × 22</caption>\n",
       "<thead>\n",
       "\t<tr><th scope=col>#FID</th><th scope=col>IID</th><th scope=col>PC1</th><th scope=col>PC2</th><th scope=col>PC3</th><th scope=col>PC4</th><th scope=col>PC5</th><th scope=col>PC6</th><th scope=col>PC7</th><th scope=col>PC8</th><th scope=col>⋯</th><th scope=col>PC11</th><th scope=col>PC12</th><th scope=col>PC13</th><th scope=col>PC14</th><th scope=col>PC15</th><th scope=col>PC16</th><th scope=col>PC17</th><th scope=col>PC18</th><th scope=col>PC19</th><th scope=col>PC20</th></tr>\n",
       "\t<tr><th scope=col>&lt;chr&gt;</th><th scope=col>&lt;chr&gt;</th><th scope=col>&lt;dbl&gt;</th><th scope=col>&lt;dbl&gt;</th><th scope=col>&lt;dbl&gt;</th><th scope=col>&lt;dbl&gt;</th><th scope=col>&lt;dbl&gt;</th><th scope=col>&lt;dbl&gt;</th><th scope=col>&lt;dbl&gt;</th><th scope=col>&lt;dbl&gt;</th><th scope=col>⋯</th><th scope=col>&lt;dbl&gt;</th><th scope=col>&lt;dbl&gt;</th><th scope=col>&lt;dbl&gt;</th><th scope=col>&lt;dbl&gt;</th><th scope=col>&lt;dbl&gt;</th><th scope=col>&lt;dbl&gt;</th><th scope=col>&lt;dbl&gt;</th><th scope=col>&lt;dbl&gt;</th><th scope=col>&lt;dbl&gt;</th><th scope=col>&lt;dbl&gt;</th></tr>\n",
       "</thead>\n",
       "<tbody>\n",
       "\t<tr><td>1328</td><td>NA06984</td><td>-0.00859205</td><td>-0.000713344</td><td> 1.94880e-03</td><td>-0.0194148</td><td> 0.00557532</td><td>-0.00846987</td><td>-0.11407800</td><td>-0.01715050</td><td>⋯</td><td> 0.10400200</td><td>-0.05559300</td><td> 0.07365730</td><td>-0.01352440</td><td>-0.03648780</td><td> 0.00538918</td><td>-0.10914400</td><td>-0.05936100</td><td>-0.004409370</td><td>-0.04319370</td></tr>\n",
       "\t<tr><td>1328</td><td>NA06989</td><td>-0.01366580</td><td>-0.014994200</td><td> 3.01289e-03</td><td>-0.0254053</td><td> 0.27208800</td><td> 0.00254102</td><td> 0.14493300</td><td> 0.11984600</td><td>⋯</td><td>-0.06302050</td><td> 0.03569980</td><td>-0.07596030</td><td>-0.03705540</td><td>-0.04184730</td><td> 0.05273180</td><td>-0.01213660</td><td> 0.04795970</td><td>-0.036786700</td><td>-0.03056990</td></tr>\n",
       "\t<tr><td>1330</td><td>NA12340</td><td>-0.00616811</td><td>-0.004852810</td><td>-4.46531e-04</td><td>-0.0206360</td><td>-0.03074260</td><td> 0.07586640</td><td> 0.01315840</td><td> 0.02814490</td><td>⋯</td><td>-0.00743298</td><td>-0.00302273</td><td>-0.06983250</td><td> 0.08204050</td><td> 0.09200260</td><td> 0.11563000</td><td>-0.02472290</td><td> 0.09715490</td><td> 0.246957000</td><td>-0.02117160</td></tr>\n",
       "\t<tr><td>1330</td><td>NA12341</td><td> 0.00463878</td><td> 0.001408340</td><td> 1.10760e-02</td><td>-0.0232280</td><td>-0.08110370</td><td> 0.01636190</td><td>-0.00248169</td><td> 0.04314810</td><td>⋯</td><td> 0.07873880</td><td> 0.05197300</td><td> 0.01933570</td><td>-0.01668130</td><td> 0.03402380</td><td>-0.02396450</td><td> 0.14352700</td><td>-0.03609260</td><td> 0.024535600</td><td> 0.09993830</td></tr>\n",
       "\t<tr><td>1330</td><td>NA12343</td><td> 0.00317760</td><td>-0.004503100</td><td>-8.72381e-05</td><td>-0.0163116</td><td>-0.02494240</td><td>-0.01609400</td><td>-0.00862269</td><td> 0.04075270</td><td>⋯</td><td> 0.09798020</td><td> 0.04510380</td><td>-0.01979330</td><td>-0.06638900</td><td> 0.02757650</td><td>-0.04051890</td><td>-0.03975800</td><td>-0.05994600</td><td>-0.008285970</td><td>-0.13435200</td></tr>\n",
       "\t<tr><td>1334</td><td>NA12144</td><td>-0.24370100</td><td>-0.498832000</td><td>-3.15505e-02</td><td> 0.4248900</td><td>-0.00277974</td><td>-0.00238691</td><td>-0.01056630</td><td>-0.00688372</td><td>⋯</td><td>-0.00439512</td><td>-0.00402327</td><td>-0.00216514</td><td>-0.00551774</td><td> 0.00505487</td><td>-0.00129990</td><td>-0.00459691</td><td> 0.00525804</td><td>-0.000930452</td><td> 0.00247628</td></tr>\n",
       "</tbody>\n",
       "</table>\n"
      ],
      "text/latex": [
       "A data.table: 6 × 22\n",
       "\\begin{tabular}{lllllllllllllllllllll}\n",
       " \\#FID & IID & PC1 & PC2 & PC3 & PC4 & PC5 & PC6 & PC7 & PC8 & ⋯ & PC11 & PC12 & PC13 & PC14 & PC15 & PC16 & PC17 & PC18 & PC19 & PC20\\\\\n",
       " <chr> & <chr> & <dbl> & <dbl> & <dbl> & <dbl> & <dbl> & <dbl> & <dbl> & <dbl> & ⋯ & <dbl> & <dbl> & <dbl> & <dbl> & <dbl> & <dbl> & <dbl> & <dbl> & <dbl> & <dbl>\\\\\n",
       "\\hline\n",
       "\t 1328 & NA06984 & -0.00859205 & -0.000713344 &  1.94880e-03 & -0.0194148 &  0.00557532 & -0.00846987 & -0.11407800 & -0.01715050 & ⋯ &  0.10400200 & -0.05559300 &  0.07365730 & -0.01352440 & -0.03648780 &  0.00538918 & -0.10914400 & -0.05936100 & -0.004409370 & -0.04319370\\\\\n",
       "\t 1328 & NA06989 & -0.01366580 & -0.014994200 &  3.01289e-03 & -0.0254053 &  0.27208800 &  0.00254102 &  0.14493300 &  0.11984600 & ⋯ & -0.06302050 &  0.03569980 & -0.07596030 & -0.03705540 & -0.04184730 &  0.05273180 & -0.01213660 &  0.04795970 & -0.036786700 & -0.03056990\\\\\n",
       "\t 1330 & NA12340 & -0.00616811 & -0.004852810 & -4.46531e-04 & -0.0206360 & -0.03074260 &  0.07586640 &  0.01315840 &  0.02814490 & ⋯ & -0.00743298 & -0.00302273 & -0.06983250 &  0.08204050 &  0.09200260 &  0.11563000 & -0.02472290 &  0.09715490 &  0.246957000 & -0.02117160\\\\\n",
       "\t 1330 & NA12341 &  0.00463878 &  0.001408340 &  1.10760e-02 & -0.0232280 & -0.08110370 &  0.01636190 & -0.00248169 &  0.04314810 & ⋯ &  0.07873880 &  0.05197300 &  0.01933570 & -0.01668130 &  0.03402380 & -0.02396450 &  0.14352700 & -0.03609260 &  0.024535600 &  0.09993830\\\\\n",
       "\t 1330 & NA12343 &  0.00317760 & -0.004503100 & -8.72381e-05 & -0.0163116 & -0.02494240 & -0.01609400 & -0.00862269 &  0.04075270 & ⋯ &  0.09798020 &  0.04510380 & -0.01979330 & -0.06638900 &  0.02757650 & -0.04051890 & -0.03975800 & -0.05994600 & -0.008285970 & -0.13435200\\\\\n",
       "\t 1334 & NA12144 & -0.24370100 & -0.498832000 & -3.15505e-02 &  0.4248900 & -0.00277974 & -0.00238691 & -0.01056630 & -0.00688372 & ⋯ & -0.00439512 & -0.00402327 & -0.00216514 & -0.00551774 &  0.00505487 & -0.00129990 & -0.00459691 &  0.00525804 & -0.000930452 &  0.00247628\\\\\n",
       "\\end{tabular}\n"
      ],
      "text/markdown": [
       "\n",
       "A data.table: 6 × 22\n",
       "\n",
       "| #FID &lt;chr&gt; | IID &lt;chr&gt; | PC1 &lt;dbl&gt; | PC2 &lt;dbl&gt; | PC3 &lt;dbl&gt; | PC4 &lt;dbl&gt; | PC5 &lt;dbl&gt; | PC6 &lt;dbl&gt; | PC7 &lt;dbl&gt; | PC8 &lt;dbl&gt; | ⋯ ⋯ | PC11 &lt;dbl&gt; | PC12 &lt;dbl&gt; | PC13 &lt;dbl&gt; | PC14 &lt;dbl&gt; | PC15 &lt;dbl&gt; | PC16 &lt;dbl&gt; | PC17 &lt;dbl&gt; | PC18 &lt;dbl&gt; | PC19 &lt;dbl&gt; | PC20 &lt;dbl&gt; |\n",
       "|---|---|---|---|---|---|---|---|---|---|---|---|---|---|---|---|---|---|---|---|---|\n",
       "| 1328 | NA06984 | -0.00859205 | -0.000713344 |  1.94880e-03 | -0.0194148 |  0.00557532 | -0.00846987 | -0.11407800 | -0.01715050 | ⋯ |  0.10400200 | -0.05559300 |  0.07365730 | -0.01352440 | -0.03648780 |  0.00538918 | -0.10914400 | -0.05936100 | -0.004409370 | -0.04319370 |\n",
       "| 1328 | NA06989 | -0.01366580 | -0.014994200 |  3.01289e-03 | -0.0254053 |  0.27208800 |  0.00254102 |  0.14493300 |  0.11984600 | ⋯ | -0.06302050 |  0.03569980 | -0.07596030 | -0.03705540 | -0.04184730 |  0.05273180 | -0.01213660 |  0.04795970 | -0.036786700 | -0.03056990 |\n",
       "| 1330 | NA12340 | -0.00616811 | -0.004852810 | -4.46531e-04 | -0.0206360 | -0.03074260 |  0.07586640 |  0.01315840 |  0.02814490 | ⋯ | -0.00743298 | -0.00302273 | -0.06983250 |  0.08204050 |  0.09200260 |  0.11563000 | -0.02472290 |  0.09715490 |  0.246957000 | -0.02117160 |\n",
       "| 1330 | NA12341 |  0.00463878 |  0.001408340 |  1.10760e-02 | -0.0232280 | -0.08110370 |  0.01636190 | -0.00248169 |  0.04314810 | ⋯ |  0.07873880 |  0.05197300 |  0.01933570 | -0.01668130 |  0.03402380 | -0.02396450 |  0.14352700 | -0.03609260 |  0.024535600 |  0.09993830 |\n",
       "| 1330 | NA12343 |  0.00317760 | -0.004503100 | -8.72381e-05 | -0.0163116 | -0.02494240 | -0.01609400 | -0.00862269 |  0.04075270 | ⋯ |  0.09798020 |  0.04510380 | -0.01979330 | -0.06638900 |  0.02757650 | -0.04051890 | -0.03975800 | -0.05994600 | -0.008285970 | -0.13435200 |\n",
       "| 1334 | NA12144 | -0.24370100 | -0.498832000 | -3.15505e-02 |  0.4248900 | -0.00277974 | -0.00238691 | -0.01056630 | -0.00688372 | ⋯ | -0.00439512 | -0.00402327 | -0.00216514 | -0.00551774 |  0.00505487 | -0.00129990 | -0.00459691 |  0.00525804 | -0.000930452 |  0.00247628 |\n",
       "\n"
      ],
      "text/plain": [
       "  #FID IID     PC1         PC2          PC3          PC4        PC5        \n",
       "1 1328 NA06984 -0.00859205 -0.000713344  1.94880e-03 -0.0194148  0.00557532\n",
       "2 1328 NA06989 -0.01366580 -0.014994200  3.01289e-03 -0.0254053  0.27208800\n",
       "3 1330 NA12340 -0.00616811 -0.004852810 -4.46531e-04 -0.0206360 -0.03074260\n",
       "4 1330 NA12341  0.00463878  0.001408340  1.10760e-02 -0.0232280 -0.08110370\n",
       "5 1330 NA12343  0.00317760 -0.004503100 -8.72381e-05 -0.0163116 -0.02494240\n",
       "6 1334 NA12144 -0.24370100 -0.498832000 -3.15505e-02  0.4248900 -0.00277974\n",
       "  PC6         PC7         PC8         ⋯ PC11        PC12        PC13       \n",
       "1 -0.00846987 -0.11407800 -0.01715050 ⋯  0.10400200 -0.05559300  0.07365730\n",
       "2  0.00254102  0.14493300  0.11984600 ⋯ -0.06302050  0.03569980 -0.07596030\n",
       "3  0.07586640  0.01315840  0.02814490 ⋯ -0.00743298 -0.00302273 -0.06983250\n",
       "4  0.01636190 -0.00248169  0.04314810 ⋯  0.07873880  0.05197300  0.01933570\n",
       "5 -0.01609400 -0.00862269  0.04075270 ⋯  0.09798020  0.04510380 -0.01979330\n",
       "6 -0.00238691 -0.01056630 -0.00688372 ⋯ -0.00439512 -0.00402327 -0.00216514\n",
       "  PC14        PC15        PC16        PC17        PC18        PC19        \n",
       "1 -0.01352440 -0.03648780  0.00538918 -0.10914400 -0.05936100 -0.004409370\n",
       "2 -0.03705540 -0.04184730  0.05273180 -0.01213660  0.04795970 -0.036786700\n",
       "3  0.08204050  0.09200260  0.11563000 -0.02472290  0.09715490  0.246957000\n",
       "4 -0.01668130  0.03402380 -0.02396450  0.14352700 -0.03609260  0.024535600\n",
       "5 -0.06638900  0.02757650 -0.04051890 -0.03975800 -0.05994600 -0.008285970\n",
       "6 -0.00551774  0.00505487 -0.00129990 -0.00459691  0.00525804 -0.000930452\n",
       "  PC20       \n",
       "1 -0.04319370\n",
       "2 -0.03056990\n",
       "3 -0.02117160\n",
       "4  0.09993830\n",
       "5 -0.13435200\n",
       "6  0.00247628"
      ]
     },
     "metadata": {},
     "output_type": "display_data"
    },
    {
     "data": {
      "text/html": [
       "<style>\n",
       ".list-inline {list-style: none; margin:0; padding: 0}\n",
       ".list-inline>li {display: inline-block}\n",
       ".list-inline>li:not(:last-child)::after {content: \"\\00b7\"; padding: 0 .5ex}\n",
       "</style>\n",
       "<ol class=list-inline><li>124</li><li>22</li></ol>\n"
      ],
      "text/latex": [
       "\\begin{enumerate*}\n",
       "\\item 124\n",
       "\\item 22\n",
       "\\end{enumerate*}\n"
      ],
      "text/markdown": [
       "1. 124\n",
       "2. 22\n",
       "\n",
       "\n"
      ],
      "text/plain": [
       "[1] 124  22"
      ]
     },
     "metadata": {},
     "output_type": "display_data"
    }
   ],
   "source": [
    "library(ggplot2)\n",
    "library(data.table)  # For fast data reading\n",
    "\n",
    "# Load the PCA eigenvector file\n",
    "pca_data <- fread(\"Results/GWAS4/EUR_MDS_merge.eigenvec\", header = TRUE)\n",
    "\n",
    "# Preview the data\n",
    "head(pca_data)\n",
    "dim(pca_data)"
   ]
  },
  {
   "cell_type": "markdown",
   "id": "a33c6a39-9e08-43bf-8760-321f0d52c785",
   "metadata": {},
   "source": [
    "We can see some substructure, where most individuals are tightly clustered together."
   ]
  },
  {
   "cell_type": "code",
   "execution_count": 5,
   "id": "9d0404e9-41d5-4e2c-b74d-0e3100d1bf4a",
   "metadata": {},
   "outputs": [
    {
     "data": {
      "image/png": "[encoded data removed]",
      "text/plain": [
       "plot without title"
      ]
     },
     "metadata": {
      "image/png": {
       "height": 420,
       "width": 420
      }
     },
     "output_type": "display_data"
    }
   ],
   "source": [
    "ggplot(pca_data, aes(x = PC1, y = PC2)) +\n",
    "  geom_point(size = 2, alpha = 0.8) +\n",
    "  labs(title = \"PCA of GWAS CEU data\",\n",
    "       x = \"PC1\",\n",
    "       y = \"PC2\") +\n",
    "  theme_minimal() +\n",
    "  theme(legend.position = \"right\")\n"
   ]
  },
  {
   "cell_type": "markdown",
   "id": "06e6a1a0-7ba4-44d1-84b3-5514fefa6d81",
   "metadata": {},
   "source": [
    "To make the file usable as a covariate we remove the very first character # from the column name of the PCA output:"
   ]
  },
  {
   "cell_type": "code",
   "execution_count": 1,
   "id": "c0310f6a-c35c-45fd-86a8-c57b67c857e1",
   "metadata": {
    "tags": []
   },
   "outputs": [],
   "source": [
    "sed 's/^#//' Results/GWAS4/EUR_MDS_merge.eigenvec > Results/GWAS4/covar_pca.txt"
   ]
  },
  {
   "cell_type": "markdown",
   "id": "8b1cf38d",
   "metadata": {},
   "source": [
    "The `covar_pca.txt` now looks like this"
   ]
  },
  {
   "cell_type": "code",
   "execution_count": 2,
   "id": "62ac8a2d-6153-443c-be20-0906f4a3262b",
   "metadata": {},
   "outputs": [
    {
     "name": "stdout",
     "output_type": "stream",
     "text": [
      "FID\tIID\tPC1\tPC2\tPC3\tPC4\tPC5\tPC6\tPC7\tPC8\tPC9\tPC10\tPC11\tPC12\tPC13\tPC14\tPC15\tPC16\tPC17\tPC18\tPC19\tPC20\n",
      "1328\tNA06984\t-0.00859205\t-0.000713344\t0.0019488\t-0.0194148\t0.00557532\t-0.00846987\t-0.114078\t-0.0171505\t-0.0438258\t-0.107577\t0.104002\t-0.055593\t0.0736573\t-0.0135244\t-0.0364878\t0.00538918\t-0.109144\t-0.059361\t-0.00440937\t-0.0431937\n",
      "1328\tNA06989\t-0.0136658\t-0.0149942\t0.00301289\t-0.0254053\t0.272088\t0.00254102\t0.144933\t0.119846\t0.0886107\t0.0638438\t-0.0630205\t0.0356998\t-0.0759603\t-0.0370554\t-0.0418473\t0.0527318\t-0.0121366\t0.0479597\t-0.0367867\t-0.0305699\n",
      "1330\tNA12340\t-0.00616811\t-0.00485281\t-0.000446531\t-0.020636\t-0.0307426\t0.0758664\t0.0131584\t0.0281449\t-0.0210886\t-0.0258555\t-0.00743298\t-0.00302273\t-0.0698325\t0.0820405\t0.0920026\t0.11563\t-0.0247229\t0.0971549\t0.246957\t-0.0211716\n",
      "1330\tNA12341\t0.00463878\t0.00140834\t0.011076\t-0.023228\t-0.0811037\t0.0163619\t-0.00248169\t0.0431481\t-0.0233267\t0.0172231\t0.0787388\t0.051973\t0.0193357\t-0.0166813\t0.0340238\t-0.0239645\t0.143527\t-0.0360926\t0.0245356\t0.0999383\n"
     ]
    }
   ],
   "source": [
    "head -5 Results/GWAS4/covar_pca.txt"
   ]
  },
  {
   "cell_type": "markdown",
   "id": "c6083ac0-784e-4f78-ac0c-ddd7ef000835",
   "metadata": {},
   "source": [
    "instead of"
   ]
  },
  {
   "cell_type": "code",
   "execution_count": 4,
   "id": "192293f5-3e49-4766-a03b-9a829d21bdb9",
   "metadata": {},
   "outputs": [
    {
     "name": "stdout",
     "output_type": "stream",
     "text": [
      "#FID\tIID\tPC1\tPC2\tPC3\tPC4\tPC5\tPC6\tPC7\tPC8\tPC9\tPC10\tPC11\tPC12\tPC13\tPC14\tPC15\tPC16\tPC17\tPC18\tPC19\tPC20\n",
      "1328\tNA06984\t-0.00859205\t-0.000713344\t0.0019488\t-0.0194148\t0.00557532\t-0.00846987\t-0.114078\t-0.0171505\t-0.0438258\t-0.107577\t0.104002\t-0.055593\t0.0736573\t-0.0135244\t-0.0364878\t0.00538918\t-0.109144\t-0.059361\t-0.00440937\t-0.0431937\n",
      "1328\tNA06989\t-0.0136658\t-0.0149942\t0.00301289\t-0.0254053\t0.272088\t0.00254102\t0.144933\t0.119846\t0.0886107\t0.0638438\t-0.0630205\t0.0356998\t-0.0759603\t-0.0370554\t-0.0418473\t0.0527318\t-0.0121366\t0.0479597\t-0.0367867\t-0.0305699\n",
      "1330\tNA12340\t-0.00616811\t-0.00485281\t-0.000446531\t-0.020636\t-0.0307426\t0.0758664\t0.0131584\t0.0281449\t-0.0210886\t-0.0258555\t-0.00743298\t-0.00302273\t-0.0698325\t0.0820405\t0.0920026\t0.11563\t-0.0247229\t0.0971549\t0.246957\t-0.0211716\n",
      "1330\tNA12341\t0.00463878\t0.00140834\t0.011076\t-0.023228\t-0.0811037\t0.0163619\t-0.00248169\t0.0431481\t-0.0233267\t0.0172231\t0.0787388\t0.051973\t0.0193357\t-0.0166813\t0.0340238\t-0.0239645\t0.143527\t-0.0360926\t0.0245356\t0.0999383\n"
     ]
    }
   ],
   "source": [
    "head -5 Results/GWAS4/EUR_MDS_merge.eigenvec"
   ]
  },
  {
   "cell_type": "markdown",
   "id": "0ce66796",
   "metadata": {},
   "source": [
    ":::{.callout-note title=\"Wrapping up\"}\n",
    "\n",
    "You have now successfully checked your data for relatedness population stratification. You filtered out the individuals with high relatedness and produced a summary of the population structure using the MDS projection. You will use the MDS coordinates as a proxy for the population structure you want your association testing to be corrected for.  \n",
    "\n",
    "In the next notebook on **Association Testing**, you will need the following files from the folder `Results/GWAS4/`:\n",
    "\n",
    "- `EUR_MDS_merge` PLINK file set\n",
    "- `covar_pca.txt`\n",
    "  \n",
    "which are the HapMap data and the MDS covariates highlighting the population stratification inside the european cluster. Those are already available once you have been running this notebook.\n",
    "\n",
    "Below is a cheat sheet of our new methods of QC.\n",
    "\n",
    "\n",
    "| Step| Command| Function| Thresholds and explanation|\n",
    "|------------------------------|------------------------|---------------------------------------------------------------------------------------------------------------------------------------------------------------------------------------------------------------------|-------------------------------------------------------------------------------------------------------------------------------------------------------------------------------------------------------------------------------------------------------------------------------------------------------------------------------------------------------------------------------------------------------------------------|\n",
    "| 7: Population Stratification | `--cluster --mds-plot k` (PLINK) | Produces a  k‐dimensional representation of any substructure in the data, based on IBS.| K is the number of dimensions, which needs to be defined  (typically 10). This is an important step of the QC that consists of  multiple proceedings but for reasons of completeness, we briefly refer to  this step in the table. This step will be described in more detail in the section “Controlling for population stratification.” |\n",
    "| - | `--pca k biallelic-var-wts` (PLINK2) | produces a PCA projection with `k` principal components, based on the normalized genetic relationship matrix.  `biallelic-var-wts` ensures that PLINK2's own filtering is not applied. | - |\n",
    "\n",
    ":::\n",
    "\n",
    "# Bibliography"
   ]
  }
 ],
 "metadata": {
  "kernelspec": {
   "display_name": "Bash",
   "language": "bash",
   "name": "bash"
  },
  "language_info": {
   "codemirror_mode": "shell",
   "file_extension": ".sh",
   "mimetype": "text/x-sh",
   "name": "bash"
  }
 },
 "nbformat": 4,
 "nbformat_minor": 5
}
