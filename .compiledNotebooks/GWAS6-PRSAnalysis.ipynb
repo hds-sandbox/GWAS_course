{
 "cells": [
  {
   "cell_type": "markdown",
   "id": "84ed6f8d-58a4-41ad-879c-07115ff4f91e",
   "metadata": {
    "editable": true,
    "slideshow": {
     "slide_type": ""
    },
    "tags": []
   },
   "source": [
    "---\n",
    "title: \"Polygenic scores I\"\n",
    "format:\n",
    "  html:\n",
    "    code-fold: false\n",
    "    toc: true\n",
    "  ipynb:\n",
    "    toc: true\n",
    "    number-sections: false\n",
    "bibliography: references/references_6.bib\n",
    "---    "
   ]
  },
  {
   "cell_type": "markdown",
   "id": "b64556e9-e9ac-48fe-b568-9b9e799ec3c3",
   "metadata": {
    "editable": true,
    "slideshow": {
     "slide_type": ""
    },
    "tags": []
   },
   "source": [
    ":::{.callout-note title=\"Important notes for this notebook\" icon=false}\n",
    "\n",
    "Polygenic scores (PRS) estimate an individual's genetic predisposition to complex traits or diseases by combining information from multiple genetic variants previously identified in the GWAS study. This notebook provides a step-by-step guide to performing a basic PRS analysis using [PRSice](https://choishingwan.github.io/PRSice/) and explains how to interpret the results.\n",
    "\n",
    "## Learning outcomes\n",
    "\n",
    "- **Discuss and choose** the PRS equation \n",
    "- **Discuss** PRS scores and biases\n",
    "\n",
    "\n",
    "## How to make this notebook work\n",
    "\n",
    "\n",
    "* In this notebook, we will only use the `bash command line`. Be sure to click on the menu `Kernel --> Change Kernel --> Bash`\n",
    "\n",
    "<img src=\"Images/bash.png\" alt=\"Bash\" width=\"80\"> Choose the Bash kernel\n",
    "\n",
    ":::"
   ]
  },
  {
   "cell_type": "markdown",
   "id": "26bceee5",
   "metadata": {
    "editable": true,
    "slideshow": {
     "slide_type": ""
    },
    "tags": []
   },
   "source": [
    "While most individual associations found in GWAS studies are of small effect, information about them can be combined across the genome, to create a  **polygenic score (PGS)**. These scores can be used to make **genome-based predictions about the overall risk of having a particular trait or disease or about the genetic value for continuous traits**. If the prediction is on a discrete phenotype such as a disease, these scores are known as polygenic risk scores (PRS).\n",
    "\n",
    "## Polygenic risk prediction analyses\n",
    "\n",
    "Single-variant association analysis has been the foundation of GWAS. However, detecting more than a handful of significant SNPs for many complex traits requires extremely large sample sizes. In contrast, PGS aggregate genetic risk across multiple variants into a single polygenic score for a given trait.\n",
    "\n",
    "A PGS is typically calculated by summing the allele frequencies of statistically significant trait-associated variants, weighted by their effect sizes, while ensuring independence among them (e.g., via LD pruning). These effect sizes—betas for continuous traits and log odds ratios for binary traits—are obtained from a discovery GWAS. Large discovery samples (also known as base or training samples) are needed for accurate estimates, but if the target sample shares ancestry, effect sizes from larger studies can be leveraged. A target sample of ~2,000 individuals may be sufficient to detect meaningful genetic contributions to trait variance [@dudbridge2013power]. For many complex traits, SNP effect sizes are publicly available (e.g., see https://www.nealelab.is/uk-biobank, https://www.med.unc.edu/pgc/downloads or https://www.ebi.ac.uk/gwas/).\n",
    "\n",
    "A common practice to calculate PRS involves clumping GWAS results using p-value thresholds (e.g., p < 0.05) to exclude poorly associated SNPs. Usually, multiple PRS analyses will be performed, with varying thresholds for the p-values of the association test.\n",
    "\n",
    "Once PRS are calculated, they are used in (logistic) regression models to assess the contribution to the trait variance. Prediction accuracy is measured by the increase in $R^2$, comparing a baseline model with only covariates (e.g., MDS components) to a model that also includes PRS. This increase reflects the proportion of variance explained by genetic risk factors. Accuracy depends on trait heritability, SNP count, and discovery sample size, with a few thousand individuals typically sufficient for reliable estimates."
   ]
  },
  {
   "cell_type": "markdown",
   "id": "a1dbfdce",
   "metadata": {
    "editable": true,
    "slideshow": {
     "slide_type": ""
    },
    "tags": []
   },
   "source": [
    "## Polygenic risk score analysis with PRSice-2\n",
    "[PRSice](https://choishingwan.github.io/PRSice/) is a widely used tool for polygenic risk score analysis. This tutorial offers a step-by-step guide on its use and result interpretation. "
   ]
  },
  {
   "cell_type": "markdown",
   "id": "b25c492d",
   "metadata": {},
   "source": [
    "The installed package will include an R script that is straightforward to run. It requires the following information:\n",
    "\n",
    "- `--prsice`: the binary executable file\n",
    "- `--base`: the `.assoc` file that contains statistical information\n",
    "- `--target`: the PLINK-formatted dataset\n",
    "\n",
    ":::{.callout-note}\n",
    "\n",
    "We would apply this method to our HapMap dataset, but PRS analysis typically requires a sample size of around 2,000 to produce meaningful results, while our dataset includes only about 150 individuals. To facilitate learning, we will instead use a toy dataset. In this notebook, we will focus on analyzing a **binary trait**.\n",
    "\n",
    "Ideally, the summary statistics should come from the most powerful GWAS available for the phenotype of interest. Commonly, the target dataset is typically generated within your lab or obtained through collaborations.\n",
    ":::"
   ]
  },
  {
   "cell_type": "markdown",
   "id": "92ba27b0",
   "metadata": {
    "editable": true,
    "slideshow": {
     "slide_type": ""
    },
    "tags": []
   },
   "source": [
    "### PRSice analysis for binary traits \n",
    "\n",
    "<img src=\"Images/bash.png\" alt=\"Bash\" width=\"40\"> Let's create a folder for the output files. Then, perform the PRS analysis on the toy dataset in the following way:"
   ]
  },
  {
   "cell_type": "code",
   "execution_count": 1,
   "id": "fbc45838-3385-4e42-9f0d-75cf151484c0",
   "metadata": {
    "tags": []
   },
   "outputs": [],
   "source": [
    "mkdir -p Results/GWAS6\n",
    "\n",
    "# Create two links to data\n",
    "ln -sf ../Data"
   ]
  },
  {
   "cell_type": "markdown",
   "id": "7bb4c9c4-6e0e-46ca-b118-3e13ba1f3795",
   "metadata": {},
   "source": [
    "We will run the `PRSice.R` script using the association test results (`TOY_BASE_GWAS.assoc`) and specify the column names for SNPs, chromosomes, and other relevant data. This is necessary because different association tools generate varying header formats. Finally, we will specify the location of our data (`TOY_TARGET_DATA`) and define the phenotype format as binary (0s and 1s).\n",
    "\n",
    ":::{.callout-warning}\n",
    "If you get an error in the following command, try to restart the kernel in the `Kernel` menu. Sometimes  links to folders are not recognized immediately.\n",
    ":::"
   ]
  },
  {
   "cell_type": "code",
   "execution_count": 9,
   "id": "25bd2689-3a35-4e22-ba79-aa51fd3e74ad",
   "metadata": {},
   "outputs": [],
   "source": [
    "# Recommendation: check the usage instructions and mandatory input files by uncommenting the command below:  \n",
    "#PRSice -h"
   ]
  },
  {
   "cell_type": "code",
   "execution_count": 7,
   "id": "7cacbab7",
   "metadata": {
    "editable": true,
    "slideshow": {
     "slide_type": ""
    },
    "tags": []
   },
   "outputs": [
    {
     "name": "stdout",
     "output_type": "stream",
     "text": [
      "PRSice 2.3.5 (2021-09-20) \n",
      "https://github.com/choishingwan/PRSice\n",
      "(C) 2016-2020 Shing Wan (Sam) Choi and Paul F. O'Reilly\n",
      "GNU General Public License v3\n",
      "If you use PRSice in any published work, please cite:\n",
      "Choi SW, O'Reilly PF.\n",
      "PRSice-2: Polygenic Risk Score Software for Biobank-Scale Data.\n",
      "GigaScience 8, no. 7 (July 1, 2019)\n",
      "2025-03-20 14:03:50\n",
      "PRSice \\\n",
      "    --a1 A1 \\\n",
      "    --a2 A2 \\\n",
      "    --bar-levels 0.001,0.05,0.1,0.2,0.3,0.4,0.5,1 \\\n",
      "    --base ./Data/TOY_BASE_GWAS.assoc \\\n",
      "    --binary-target T \\\n",
      "    --bp BP \\\n",
      "    --chr CHR \\\n",
      "    --clump-kb 250kb \\\n",
      "    --clump-p 1.000000 \\\n",
      "    --clump-r2 0.100000 \\\n",
      "    --interval 5e-05 \\\n",
      "    --lower 5e-08 \\\n",
      "    --num-auto 22 \\\n",
      "    --or  \\\n",
      "    --out Results/GWAS6/PRSice \\\n",
      "    --pvalue P \\\n",
      "    --seed 2840029482 \\\n",
      "    --snp SNP \\\n",
      "    --stat OR \\\n",
      "    --target ./Data/TOY_TARGET_DATA \\\n",
      "    --thread 1 \\\n",
      "    --upper 0.5\n",
      "\n",
      "Initializing Genotype file: ./Data/TOY_TARGET_DATA (bed) \n",
      "\n",
      "Start processing TOY_BASE_GWAS \n",
      "================================================== \n",
      "\n",
      "Base file: ./Data/TOY_BASE_GWAS.assoc \n",
      "Header of file is: \n",
      "SNP CHR BP A1 A2 P OR \n",
      "\n",
      "Reading 32.60%"
     ]
    },
    {
     "name": "stderr",
     "output_type": "stream",
     "text": [
      "IOPub message rate exceeded.\n",
      "The Jupyter server will temporarily stop sending output\n",
      "to the client in order to avoid crashing it.\n",
      "To change this limit, set the config variable\n",
      "`--ServerApp.iopub_msg_rate_limit`.\n",
      "\n",
      "Current values:\n",
      "ServerApp.iopub_msg_rate_limit=1000.0 (msgs/sec)\n",
      "ServerApp.rate_limit_window=3.0 (secs)\n",
      "\n"
     ]
    },
    {
     "name": "stdout",
     "output_type": "stream",
     "text": [
      "Reading 74.31%"
     ]
    },
    {
     "name": "stderr",
     "output_type": "stream",
     "text": [
      "IOPub message rate exceeded.\n",
      "The Jupyter server will temporarily stop sending output\n",
      "to the client in order to avoid crashing it.\n",
      "To change this limit, set the config variable\n",
      "`--ServerApp.iopub_msg_rate_limit`.\n",
      "\n",
      "Current values:\n",
      "ServerApp.iopub_msg_rate_limit=1000.0 (msgs/sec)\n",
      "ServerApp.rate_limit_window=3.0 (secs)\n",
      "\n"
     ]
    },
    {
     "name": "stdout",
     "output_type": "stream",
     "text": [
      "Reading 100.00%\n",
      "91062 variant(s) observed in base file, with: \n",
      "2226 variant(s) located on haploid chromosome \n",
      "88836 total variant(s) included from base file \n",
      "\n",
      "Loading Genotype info from target \n",
      "================================================== \n",
      "\n",
      "2000 people (1024 male(s), 976 female(s)) observed \n",
      "2000 founder(s) included \n",
      "\n",
      "\u001b[1;33mWarning: Currently not support haploid chromosome and sex \n",
      "         chromosomes \u001b[0m\n",
      "\n",
      "88836 variant(s) included \n",
      "\n",
      "There are a total of 1 phenotype to process \n",
      "\n",
      "Start performing clumping \n",
      "\n",
      "Clumping Progress: 100.00%\n",
      "Number of variant(s) after clumping : 88836 \n",
      "\n",
      "Processing the 1 th phenotype \n",
      "\n",
      "Phenotype is a binary phenotype \n",
      "1000 control(s) \n",
      "1000 case(s) \n",
      "\n",
      "\n",
      "Start Processing\n",
      "Processing 40.15%"
     ]
    },
    {
     "name": "stderr",
     "output_type": "stream",
     "text": [
      "IOPub message rate exceeded.\n",
      "The Jupyter server will temporarily stop sending output\n",
      "to the client in order to avoid crashing it.\n",
      "To change this limit, set the config variable\n",
      "`--ServerApp.iopub_msg_rate_limit`.\n",
      "\n",
      "Current values:\n",
      "ServerApp.iopub_msg_rate_limit=1000.0 (msgs/sec)\n",
      "ServerApp.rate_limit_window=3.0 (secs)\n",
      "\n"
     ]
    },
    {
     "name": "stdout",
     "output_type": "stream",
     "text": [
      "Processing 100.00%\n",
      "There are 1 region(s) with p-value less than 1e-5. Please \n",
      "note that these results are inflated due to the overfitting \n",
      "inherent in finding the best-fit PRS (but it's still best \n",
      "to find the best-fit PRS!). \n",
      "You can use the --perm option (see manual) to calculate an \n",
      "empirical P-value. \n",
      "\n"
     ]
    }
   ],
   "source": [
    "PRSice --base ./Data/TOY_BASE_GWAS.assoc \\\n",
    "    --snp SNP --chr CHR --bp BP --A1 A1 --A2 A2 --stat OR --pvalue P \\\n",
    "    --target ./Data/TOY_TARGET_DATA \\\n",
    "    --out Results/GWAS6/PRSice \\\n",
    "    --binary-target T"
   ]
  },
  {
   "cell_type": "markdown",
   "id": "51951b5a",
   "metadata": {},
   "source": [
    "- The `--base` parameter refers to the file with summary statistics from the base sample. Each line represents a single SNP and includes details such as effect size and p-value.\n",
    "- The `--target` parameter specifies the prefix of genotype data files in binary PLINK format (.bed, .bim, .fam). The base and target samples must be independent to avoid inflated polygenic risk score associations.\n",
    "\n",
    "If the type effect (`--stat`) or data type (`--binary-target`) were not specified, PRSice will try to determine this information based on the header of the base file. \n",
    "\n",
    ":::{.callout-important title=\"Stop - Read - Solve\"}\n",
    "\n",
    "- Can all genomic variants be used for calculating PRS? Why or why not?\n",
    "- How can you determine which variants should be included in the PRS calculation?\n",
    "- Are linkage disequilibrium (LD) blocks shared across populations with different ancestry? Explain your reasoning.\n",
    "  \n",
    "Hint: read the [PRSice user manual](https://choishingwan.github.io/PRSice/step_by_step and @berisa2016approximately. \n",
    "\n",
    ":::\n"
   ]
  },
  {
   "cell_type": "markdown",
   "id": "509806e0-d648-40ce-82c2-072e796a7ca1",
   "metadata": {},
   "source": [
    ":::{.callout-tip title=\"Solution\" collapse=\"true\"}\n",
    "\n",
    "- No, not all variants should be used. Variants in high LD (highly correlated) should be handled carefully to avoid inflated significance and false positives.\n",
    "- Variants should be selected based on their association with the trait and their independence from other variants. Two common approaches for handling correlated SNPs are:\n",
    "      - LD clumping (e.g., [PRSice](https://choishingwan.github.io/PRSice/step_by_step/#clumping)): correlated SNPs within each LD block are filtered by selecting the one with the lowest p-value from the discovery set. Other SNPs in the same block are excluded. Clumping parameters can be customized. \n",
    "      - Bayesian adjustments (e.g., [LD Pred2](https://choishingwan.github.io/PRS-Tutorial/ldpred/)) use a Bayesian framework to adjust the effect sizes of SNPs by accounting for LD patterns across the genome. This helps refine PRS calculations and corrects for correlated SNPs.\n",
    "- No, LD blocks can differ between populations of different ancestry due to genetic history and environment. It is essential to account for these differences when calculating PRS, especially when using cross-population data. \n",
    "\n",
    ":::"
   ]
  },
  {
   "cell_type": "markdown",
   "id": "e1fb738b-e01a-4697-aa53-eab60c604073",
   "metadata": {},
   "source": [
    "\n",
    "For simplicity's sake, we did not include principal components or covariates in this analysis, however, when conducting your analyses we **strongly recommend** including these.\n",
    "\n",
    "### Interpreting the results\n",
    "\n",
    "By default, PRSice saves two plots and several text files. The first plot is `PRSice_BARPLOT_<date>.png `(**which you find in Result/GWAS6 using the file browser**, the filename depends on the current date). This plot illustrates the predictive value (Nagelkerke's R²) in the target sample based on SNPs with p-values below specific thresholds in the base sample. A p-value is also provided for each model.\n",
    "\n",
    "![](Images/PRSice_BARPLOT.png){width=600px fig-align=\"center\"}\n"
   ]
  },
  {
   "cell_type": "markdown",
   "id": "698625ff-50c9-4c9e-9a1c-482f2b91fec1",
   "metadata": {},
   "source": [
    ":::{.callout-important title=\"Stop - Read - Solve\"}\n",
    "\n",
    "- Which P-value threshold generated the \"best-fit\" PRS?\n",
    "- How much phenotypic variation does the \"best-fit\" PRS explain?\n",
    "\n",
    "Hint: Check the `PRSice.summary` file. \n",
    "\n",
    ":::"
   ]
  },
  {
   "cell_type": "markdown",
   "id": "bded9013-bae7-4046-8c7e-1016228b4e8c",
   "metadata": {},
   "source": [
    ":::{.callout-tip title=\"Solution\" collapse=true}\n",
    "As shown in the plot, a model using SNPs with a p-value < 0.4463 achieves the highest predictive value in the target sample (p-value= 4.7e-18). However, as is often the case in polygenic risk scores analysis with relatively small samples, the predictive value is relatively low (Nagelkerke’s around 5%). The text files include the exact values for each p-value threshold (check them!). \n",
    "\n",
    "The phenotypic variation (`PRS.R2`) explained by these variants is 0.05. \n",
    "\n",
    "- PRS.R2: quantifies how much of the trait variation is attributable to the genetic variants used in the analysis\n",
    "- Full.R2: represents the total variance explained by the full model (genetic variants and any other covariates used)\n",
    "- Null.R3: indicates the variance explained by the model without the PRS component (i.e., just the covariates)\n",
    "\n",
    ":::"
   ]
  },
  {
   "cell_type": "markdown",
   "id": "21348316",
   "metadata": {},
   "source": [
    "The second plot `PRSice_HIGH-RES_PLOT_<date>.png` (**which you again can manually open**) shows many different p-value thresholds. The p-value of the predictive effect is in black together with an aggregated trend line in green. \n",
    "\n",
    "![](Images/PRSice_HIGH-RES_PLOT.png){width=600px}"
   ]
  },
  {
   "cell_type": "markdown",
   "id": "69947505",
   "metadata": {},
   "source": [
    "Both figures show that trait-associated SNPs in the base sample can predict the trait in the target sample. If the same trait is used, predictive power depends on the trait's heritability and base sample size. When using related but different traits, the predictive power also depends on their genetic correlation. Studies suggest that models with more lenient p-value thresholds capture smaller effects important for complex traits, while stricter thresholds reduce noise, aiding interpretation and the understanding of the underlying genetic architecture. Balancing informative SNPs and minimizing noise is key to maximizing predictive power.\n",
    "\n",
    ":::{.callout-important title=\"Stop - Read - Solve\"}\n",
    "- Using R, plot the scores for the \"best-fit\" P-value threshold against another P-value threshold of your choice.\n",
    "    \n",
    "::: "
   ]
  },
  {
   "cell_type": "code",
   "execution_count": null,
   "id": "e6d3bc9f",
   "metadata": {
    "vscode": {
     "languageId": "plaintext"
    }
   },
   "outputs": [],
   "source": [
    "# R code here (switch the kernel if necessary)"
   ]
  },
  {
   "cell_type": "markdown",
   "id": "0b4ea186",
   "metadata": {},
   "source": [
    "### Conclusion\n",
    "In this tutorial, we have discussed how to perform a simple polygenic risk score analysis using the PRSice script and interpret its results. As mentioned before, PRSice offers many additional options to adjust the risk score analysis, including adding covariates (principal components) and adjusting clumping parameters. It is recommended to read the user manual of PRSice to perform a polygenic risk score analysis optimal to the research question at hand.\n",
    "\n",
    "Now, you will need to do the same for a quantitative trait and explore the results.\n",
    "\n",
    ":::{.callout-note title=\"Other take-home messages\"}\n",
    "- Replication in (several) other cohorts provides convincing evidence\n",
    "- Applying stringent statistics (P<5e-8) helps to reduce the likelihood of false-positive results\n",
    "- An external reference panel can be used to improve LD estimation for clumping, providing more accurate definitions of LD blocks and refining the selection of variants for PRS analysis, especially when sample size is limited (e.g. ~500 samples).\n",
    ":::"
   ]
  }
 ],
 "metadata": {
  "Rmd_chunk_options": {
   "author": "Matti Pirinen, University of Helsinki",
   "date": "Latest update: 24-Nov-2020, 1st version: 13-Feb-2019",
   "output": {
    "html_document": "default"
   },
   "title": "GWAS 7: Linkage disequilibrium (LD) and fine-mapping",
   "urlcolor": "blue"
  },
  "kernelspec": {
   "display_name": "Bash",
   "language": "bash",
   "name": "bash"
  },
  "language_info": {
   "codemirror_mode": "shell",
   "file_extension": ".sh",
   "mimetype": "text/x-sh",
   "name": "bash"
  },
  "sos": {
   "kernels": [
    [
     "SoS",
     "sos",
     "",
     ""
    ],
    [
     "R",
     "ir",
     "",
     ""
    ],
    [
     "Markdown",
     "markdown",
     "",
     ""
    ]
   ]
  }
 },
 "nbformat": 4,
 "nbformat_minor": 5
}
