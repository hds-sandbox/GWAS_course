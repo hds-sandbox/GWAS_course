{
 "cells": [
  {
   "cell_type": "markdown",
   "id": "0e082220-ac80-4df7-9ceb-419e4fe4bde1",
   "metadata": {},
   "source": [
    "---\n",
    "title: \"Quality Control: Relatedness & Population Stratification\"\n",
    "format:\n",
    "  html:\n",
    "    code-fold: false\n",
    "    toc: true\n",
    "  ipynb:\n",
    "    toc: true\n",
    "    number-sections: false\n",
    "bibliography: references/references_4.bib\n",
    "---"
   ]
  },
  {
   "cell_type": "markdown",
   "id": "9a06a928-7da8-4c80-9126-81fc5cc3d526",
   "metadata": {},
   "source": [
    "::: {.callout-note title=\"Important notes for this notebook\" icon=false}\n",
    "\n",
    "As we have already mentioned, quality control (QC) analyses are crucial to ensure the reliability and validity of the results. In this section, we will explore confounding factors in GWAS that can lead to spurious associations if not properly controlled, including: \n",
    "\n",
    "-  Relatedness  \n",
    "- Population Stratification/Structure\n",
    "\n",
    "## Learning outcomes\n",
    "\n",
    "- **Discuss** confounding factors that lead to spurious associations\n",
    "- **Detect** related individuals\n",
    "- **Identify** population substructure\n",
    "- **Correct** for population stratification \n",
    "\n",
    "## How to make this notebook work\n",
    "\n",
    "In this notebook, we will both use `R` and `bash command line` programming languages. Remember to **change the kernel** whenever you transition from one language to the other (`Kernel --> Change Kernel`) indicated by the languages' images.\n",
    "* We will first run `Bash` commands.  \n",
    "  \n",
    "<img src=\"Images/bash.png\" alt=\"Bash\" width=\"80\"> Choose the Bash kernel\n",
    "\n",
    ":::"
   ]
  },
  {
   "cell_type": "markdown",
   "id": "f5baacc8-1ac6-47ac-8bdd-45e0dc5089f6",
   "metadata": {},
   "source": [
    "## A. Relatedness\n",
    "\n",
    "Relatedness refers to the presence of genetically related individuals in a study sample, which can introduce confounding factors into association analyses. Since most statistical methods assume that samples are independent, including related individuals, like siblings, violates this assumption. Addressing relatedness is crucial as a quality control step to ensure that genomes in the dataset are no more similar than expected for unrelated individuals. This process is essential to preserve the validity of the study's findings.\n",
    "\n",
    "While all humans share some genetic relatedness, the degree of relatedness varies among individuals. In genome-wide association studies (GWAS), these variations must be accounted for to avoid biasing the statistical associations between genotypes and phenotypes. **Cryptic relatedness** (genetic relatedness of individuals not expected to be in a family relationship) can interfere with the association analysis [@voight2005confounding]. \n",
    "\n",
    "In a **family-based study** (e.g., parent-offspring), you do not need to remove related pairs, but the statistical analysis should account for family relatedness. However, for a **population-based study**, we suggest using the KING estimator [@KING2010] with a threshold of 0.06.\n",
    "\n",
    "Differently from the IBD estimator (called pi_hat $\\hat{\\pi}$), which assumes that individuals come from homogeneous population, KING derives a kinship estimate for a pair of individuals without reference to the population allele frequencies. Instead, it gets the relatedness information from the difference between the counts of loci where both individuals are heterozygotes and counts of loci where they are different homozygotes, normalized by the sum of the heterozygous loci of the individuals. This makes KING robust to population structure and useful to check genotyping quality.\n",
    "\n",
    "Thus, values for KING are\n",
    "\n",
    "- 0.25 for parent-child or full siblings: they share exactly 50% of their alleles by descent (IBD). For full siblings it can vary slightly (e.g. recombination events).\n",
    "- 0.125 for half siblings: they have 25% IBD (one parent is common).\n",
    "- 0.065 for 1st cousins: IBD is 12.5% since they share one set of grandparents and not parents.\n",
    "\n",
    "KING values need to be multiplied by 2 to match the corresponding IBD probability"
   ]
  },
  {
   "cell_type": "markdown",
   "id": "bdee8bbe-d290-4ca4-8533-a11cebacecb0",
   "metadata": {},
   "source": [
    "<img src=\"Images/bash.png\" alt=\"Bash\" width=\"40\"> \n",
    "\n",
    "We use `ln -sf` to link the data folder and create a directory for output files. "
   ]
  },
  {
   "cell_type": "code",
   "execution_count": 21,
   "id": "4a89129f-f4bf-4315-b9d6-689bd6d5a78c",
   "metadata": {
    "tags": []
   },
   "outputs": [],
   "source": [
    "ln -sf ../Data\n",
    "mkdir -p Results/GWAS4"
   ]
  },
  {
   "cell_type": "markdown",
   "id": "a6d9e47d-1f8d-43ab-873c-8a0044df8d37",
   "metadata": {},
   "source": [
    "### Analysis with PLINK\n",
    "\n",
    "We will use the set of independent SNPs (generated in the previous section) and the `--make-king-table` option in PLINK2 for our analysis, so that we generate pairwise KING estimators. Note that we use version 2 of PLINK because this one has implemented the KING estimator.\n",
    "\n",
    "The HapMap dataset is known to contain parent-offspring relationships. We will check the KING estimator values and exclude all individuals above a chosen threshold (to remove at least related individuals)."
   ]
  },
  {
   "cell_type": "code",
   "execution_count": 22,
   "id": "aafefbaf",
   "metadata": {
    "tags": []
   },
   "outputs": [
    {
     "name": "stdout",
     "output_type": "stream",
     "text": [
      "PLINK v2.00a5.12LM 64-bit Intel (25 Jun 2024)  www.cog-genomics.org/plink/2.0/\n",
      "(C) 2005-2024 Shaun Purcell, Christopher Chang   GNU General Public License v3\n",
      "Logging to Results/GWAS4/KING.log.\n",
      "Options in effect:\n",
      "  --bfile Results/GWAS3/HapMap_3_r3_7\n",
      "  --extract Results/GWAS3/indepSNP.prune.in\n",
      "  --make-king-table\n",
      "  --out Results/GWAS4/KING\n",
      "\n",
      "Start time: Thu Mar 20 10:26:22 2025\n",
      "385567 MiB RAM detected, ~348835 available; reserving 192783 MiB for main\n",
      "workspace.\n",
      "Using up to 64 threads (change this with --threads).\n",
      "161 samples (84 females, 77 males; 110 founders) loaded from\n",
      "Results/GWAS3/HapMap_3_r3_7.fam.\n",
      "1073788 variants loaded from Results/GWAS3/HapMap_3_r3_7.bim.\n",
      "1 binary phenotype loaded (55 cases, 55 controls).\n",
      "--extract: 104129 variants remaining.\n",
      "104129 variants remaining after main filters.\n",
      "--make-king-table pass 1/1: Scanning for rare variants... done.\n",
      "0 variants handled by initial scan (104129 remaining).\n",
      "--make-king-table pass 1/1: Writing... done.\n",
      "--make-king-table: 104129 variants processed.\n",
      "Results written to Results/GWAS4/KING.kin0 .\n",
      "End time: Thu Mar 20 10:26:23 2025\n"
     ]
    }
   ],
   "source": [
    "plink2 --bfile Results/GWAS3/HapMap_3_r3_7 \\\n",
    "       --extract Results/GWAS3/indepSNP.prune.in --make-king-table \\\n",
    "       --out Results/GWAS4/KING"
   ]
  },
  {
   "cell_type": "markdown",
   "id": "926cbfcd-ae16-4d01-8d74-e425ca1d47eb",
   "metadata": {},
   "source": [
    "The table from PLINK2 contains various things: \n",
    "\n",
    "- `FID1`: Family ID of the first individual.\n",
    "- `IID1`: Individual ID of the first individual.\n",
    "- `FID2`: Family ID of the second individual.\n",
    "- `IID2`: Individual ID of the second individual.\n",
    "- `NSNP`: The number of SNPs used to calculate the kinship between the two individuals.\n",
    "- `HETHET`: The number of heterozygous sites used in the kinship calculation (often useful for checking genotyping quality).\n",
    "- `IBS0`: The number of identical-by-state (IBS) 0 SNPs, which are variants where the two individuals do not share the same allele.\n",
    "- `KINSHIP`: The kinship coefficient (or pihat) between the two individuals, which is the proportion of alleles shared by descent."
   ]
  },
  {
   "cell_type": "markdown",
   "id": "375e5b23-aa9e-4db4-95b1-3109b09fdaba",
   "metadata": {},
   "source": [
    ":::{.callout-important title=\"Stop - Read - Solve\"}\n",
    "\n",
    "- What assumption in association studies is violated when individuals are related?\n",
    "- How would you recognize if the same sample is duplicated in your dataset?\n",
    "- Are there closely related individuals? How many individuals show close relatedness (`KING > 0.2`)?\n",
    "- What relationships are found by PLINK?\n",
    "\n",
    ":::"
   ]
  },
  {
   "cell_type": "code",
   "execution_count": 3,
   "id": "ebab8c48-bca7-4667-9853-62a506b5085e",
   "metadata": {},
   "outputs": [],
   "source": [
    "# Write your code here (add more cells if needed)"
   ]
  },
  {
   "cell_type": "markdown",
   "id": "e1893edf-5412-4f14-95d1-a5391f3a575f",
   "metadata": {},
   "source": [
    ":::{.callout-tip title=\"Solution\" collapse=\"true\"}\n",
    "\n",
    "- If you have related individuals, you will lose the independence of individuals at each SNP. This is a problem because many models used in GWAS analysis do not include handling family relationships.\n",
    "- Calculating the KING coefficient and looking for a value close to 0.5.\n",
    "- We will look for unique values in column 8 (`KINSHIP`), rounding to two decimals\n",
    "- We will examine `KINSHIP` values in column 8. \n",
    "\n"
   ]
  },
  {
   "cell_type": "markdown",
   "id": "fb67636c-ef76-4245-82d7-de61b7edab65",
   "metadata": {},
   "source": [
    " Let's print the first few rows of `KING.kin0` and then, the unique relatioship categories in the file: "
   ]
  },
  {
   "cell_type": "code",
   "execution_count": 23,
   "id": "4f7ccdcf-e469-4f95-8b0f-7f72ca1f91bb",
   "metadata": {},
   "outputs": [
    {
     "name": "stdout",
     "output_type": "stream",
     "text": [
      "#FID1\tIID1\tFID2\tIID2\tNSNP\tHETHET\tIBS0\tKINSHIP\n",
      "1377\tNA11891\t1328\tNA06989\t102710\t0.145088\t0.0717846\t-0.000964635\n",
      "1349\tNA11843\t1328\tNA06989\t103818\t0.144696\t0.0721744\t-0.000456018\n",
      "1349\tNA11843\t1377\tNA11891\t102869\t0.143843\t0.0717126\t-0.00162819\n",
      "1330\tNA12341\t1328\tNA06989\t103575\t0.148395\t0.0704417\t0.00856727\n"
     ]
    }
   ],
   "source": [
    "cat Results/GWAS4/KING.kin0 | head -5"
   ]
  },
  {
   "cell_type": "markdown",
   "id": "352d0a0b-ece8-4529-b2fd-c0dcb96e9f48",
   "metadata": {},
   "source": [
    "Now, let's calculate how many samples are in a pair with KING `KINSHIP` parameter (column 8) larger than 0.06, 0.12, 0.2 (to account for small variations in relevant thresholds). Note that the file contains one individual of a pair, so some samples might be shown many times. Thus we make those samples unique."
   ]
  },
  {
   "cell_type": "code",
   "execution_count": 24,
   "id": "10099d32-f494-48da-88fd-a78cd4531217",
   "metadata": {},
   "outputs": [
    {
     "name": "stdout",
     "output_type": "stream",
     "text": [
      "77\n"
     ]
    }
   ],
   "source": [
    "awk '{ if ($8 > 0.06) print $2}' Results/GWAS4/KING.kin0 | sort | uniq | wc -l"
   ]
  },
  {
   "cell_type": "code",
   "execution_count": 25,
   "id": "313d8ba7-0737-416d-9c0e-68c77c5ead06",
   "metadata": {},
   "outputs": [
    {
     "name": "stdout",
     "output_type": "stream",
     "text": [
      "77\n"
     ]
    }
   ],
   "source": [
    "awk '{ if ($8 > 0.12) print $2}' Results/GWAS4/KING.kin0 | sort | uniq | wc -l"
   ]
  },
  {
   "cell_type": "code",
   "execution_count": 26,
   "id": "10f99282-4c98-4c45-befd-24e48503e1c7",
   "metadata": {},
   "outputs": [
    {
     "name": "stdout",
     "output_type": "stream",
     "text": [
      "77\n"
     ]
    }
   ],
   "source": [
    "awk '{ if ($8 > 0.2) print $2}' Results/GWAS4/KING.kin0 | sort | uniq | wc -l"
   ]
  },
  {
   "cell_type": "markdown",
   "id": "49413042-d66d-4a27-9c3f-58b557f0ced7",
   "metadata": {},
   "source": [
    "There are 76 individuals with KINSHIP larger than all thresholds. So we might have 76 half siblings, cousins and siblings mixed in the data. There are potentially some family ties in this data!"
   ]
  },
  {
   "cell_type": "markdown",
   "id": "76d81f47-21fc-4c16-b642-09efde836b6a",
   "metadata": {},
   "source": [
    ":::\n",
    "\n",
    "---------------"
   ]
  },
  {
   "cell_type": "markdown",
   "id": "fe5069db-63cc-4a1d-b2b4-1fc9732113cb",
   "metadata": {},
   "source": [
    "<img src=\"Images/R.png\" alt=\"R\" width=\"40\"> Switch to the R-GWAS kernel.\n"
   ]
  },
  {
   "cell_type": "markdown",
   "id": "0cfd0c7c-45c3-4221-801f-958c99eda2e9",
   "metadata": {},
   "source": [
    ":::{.callout-important title=\"Stop - Read - Solve\"}\n",
    "\n",
    "Write some R code to calculate the summary of the distribution of `KINSHIP` values. What do you observe?\n",
    "\n",
    "hint: use the `hist()` command.\n",
    ":::"
   ]
  },
  {
   "cell_type": "code",
   "execution_count": null,
   "id": "cadf2af8-4973-4a9e-82a4-d0a41a20c0ff",
   "metadata": {},
   "outputs": [],
   "source": [
    "# Write your code here "
   ]
  },
  {
   "cell_type": "markdown",
   "id": "f00e5e4f-0423-45de-b156-aa0e430c4afb",
   "metadata": {},
   "source": [
    ":::{.callout-tip title=\"Solution\" collapse=\"true\"}\n",
    "Many parent-offspring (PO) relationships have a parameter close to 0.5, and the maximum value for unrelated (UN) individuals is also unexpectedly high relatedness.\n"
   ]
  },
  {
   "cell_type": "markdown",
   "id": "314015fd-559d-49a0-b8df-39fcd665de61",
   "metadata": {},
   "source": [
    "We read in the matrix (Note that the header starts with # in the file `KING.kin0`, so we need `comment.char = '|'` to avoid the header being excluded as a comment) "
   ]
  },
  {
   "cell_type": "code",
   "execution_count": 1,
   "id": "3533da70-e492-4bb1-a0fb-c8c86fff0191",
   "metadata": {
    "tags": []
   },
   "outputs": [
    {
     "data": {
      "text/html": [
       "<table class=\"dataframe\">\n",
       "<caption>A data.frame: 6 × 8</caption>\n",
       "<thead>\n",
       "\t<tr><th></th><th scope=col>X.FID1</th><th scope=col>IID1</th><th scope=col>FID2</th><th scope=col>IID2</th><th scope=col>NSNP</th><th scope=col>HETHET</th><th scope=col>IBS0</th><th scope=col>KINSHIP</th></tr>\n",
       "\t<tr><th></th><th scope=col>&lt;int&gt;</th><th scope=col>&lt;chr&gt;</th><th scope=col>&lt;int&gt;</th><th scope=col>&lt;chr&gt;</th><th scope=col>&lt;int&gt;</th><th scope=col>&lt;dbl&gt;</th><th scope=col>&lt;dbl&gt;</th><th scope=col>&lt;dbl&gt;</th></tr>\n",
       "</thead>\n",
       "<tbody>\n",
       "\t<tr><th scope=row>1</th><td>1377</td><td>NA11891</td><td>1328</td><td>NA06989</td><td>102710</td><td>0.145088</td><td>0.0717846</td><td>-0.000964635</td></tr>\n",
       "\t<tr><th scope=row>2</th><td>1349</td><td>NA11843</td><td>1328</td><td>NA06989</td><td>103818</td><td>0.144696</td><td>0.0721744</td><td>-0.000456018</td></tr>\n",
       "\t<tr><th scope=row>3</th><td>1349</td><td>NA11843</td><td>1377</td><td>NA11891</td><td>102869</td><td>0.143843</td><td>0.0717126</td><td>-0.001628190</td></tr>\n",
       "\t<tr><th scope=row>4</th><td>1330</td><td>NA12341</td><td>1328</td><td>NA06989</td><td>103575</td><td>0.148395</td><td>0.0704417</td><td> 0.008567270</td></tr>\n",
       "\t<tr><th scope=row>5</th><td>1330</td><td>NA12341</td><td>1377</td><td>NA11891</td><td>102623</td><td>0.146877</td><td>0.0706957</td><td> 0.002694440</td></tr>\n",
       "\t<tr><th scope=row>6</th><td>1330</td><td>NA12341</td><td>1349</td><td>NA11843</td><td>103735</td><td>0.147337</td><td>0.0719333</td><td> 0.002062960</td></tr>\n",
       "</tbody>\n",
       "</table>\n"
      ],
      "text/latex": [
       "A data.frame: 6 × 8\n",
       "\\begin{tabular}{r|llllllll}\n",
       "  & X.FID1 & IID1 & FID2 & IID2 & NSNP & HETHET & IBS0 & KINSHIP\\\\\n",
       "  & <int> & <chr> & <int> & <chr> & <int> & <dbl> & <dbl> & <dbl>\\\\\n",
       "\\hline\n",
       "\t1 & 1377 & NA11891 & 1328 & NA06989 & 102710 & 0.145088 & 0.0717846 & -0.000964635\\\\\n",
       "\t2 & 1349 & NA11843 & 1328 & NA06989 & 103818 & 0.144696 & 0.0721744 & -0.000456018\\\\\n",
       "\t3 & 1349 & NA11843 & 1377 & NA11891 & 102869 & 0.143843 & 0.0717126 & -0.001628190\\\\\n",
       "\t4 & 1330 & NA12341 & 1328 & NA06989 & 103575 & 0.148395 & 0.0704417 &  0.008567270\\\\\n",
       "\t5 & 1330 & NA12341 & 1377 & NA11891 & 102623 & 0.146877 & 0.0706957 &  0.002694440\\\\\n",
       "\t6 & 1330 & NA12341 & 1349 & NA11843 & 103735 & 0.147337 & 0.0719333 &  0.002062960\\\\\n",
       "\\end{tabular}\n"
      ],
      "text/markdown": [
       "\n",
       "A data.frame: 6 × 8\n",
       "\n",
       "| <!--/--> | X.FID1 &lt;int&gt; | IID1 &lt;chr&gt; | FID2 &lt;int&gt; | IID2 &lt;chr&gt; | NSNP &lt;int&gt; | HETHET &lt;dbl&gt; | IBS0 &lt;dbl&gt; | KINSHIP &lt;dbl&gt; |\n",
       "|---|---|---|---|---|---|---|---|---|\n",
       "| 1 | 1377 | NA11891 | 1328 | NA06989 | 102710 | 0.145088 | 0.0717846 | -0.000964635 |\n",
       "| 2 | 1349 | NA11843 | 1328 | NA06989 | 103818 | 0.144696 | 0.0721744 | -0.000456018 |\n",
       "| 3 | 1349 | NA11843 | 1377 | NA11891 | 102869 | 0.143843 | 0.0717126 | -0.001628190 |\n",
       "| 4 | 1330 | NA12341 | 1328 | NA06989 | 103575 | 0.148395 | 0.0704417 |  0.008567270 |\n",
       "| 5 | 1330 | NA12341 | 1377 | NA11891 | 102623 | 0.146877 | 0.0706957 |  0.002694440 |\n",
       "| 6 | 1330 | NA12341 | 1349 | NA11843 | 103735 | 0.147337 | 0.0719333 |  0.002062960 |\n",
       "\n"
      ],
      "text/plain": [
       "  X.FID1 IID1    FID2 IID2    NSNP   HETHET   IBS0      KINSHIP     \n",
       "1 1377   NA11891 1328 NA06989 102710 0.145088 0.0717846 -0.000964635\n",
       "2 1349   NA11843 1328 NA06989 103818 0.144696 0.0721744 -0.000456018\n",
       "3 1349   NA11843 1377 NA11891 102869 0.143843 0.0717126 -0.001628190\n",
       "4 1330   NA12341 1328 NA06989 103575 0.148395 0.0704417  0.008567270\n",
       "5 1330   NA12341 1377 NA11891 102623 0.146877 0.0706957  0.002694440\n",
       "6 1330   NA12341 1349 NA11843 103735 0.147337 0.0719333  0.002062960"
      ]
     },
     "metadata": {},
     "output_type": "display_data"
    }
   ],
   "source": [
    "# Generate a plot to assess the type of relationship.\n",
    "suppressMessages(suppressWarnings(library(ggplot2)))\n",
    "\n",
    "options(repr.plot.width = 9, repr.plot.height = 4)\n",
    "\n",
    "# Read data into R \n",
    "relatedness <- read.table(\"Results/GWAS4/KING.kin0\", header=TRUE, comment.char = '|')\n",
    "\n",
    "head(relatedness)"
   ]
  },
  {
   "cell_type": "markdown",
   "id": "95a26b41-913c-4de3-afd7-87ae68d13102",
   "metadata": {},
   "source": [
    "Now we look at how many pairs have specific relatedness values. You can see there are around 100 pairs of cousins/half siblings/siblings. Those correspond to the 76 unique samples observed before."
   ]
  },
  {
   "cell_type": "code",
   "execution_count": 2,
   "id": "1c350e8d-3672-40ff-8f6b-432eb1808dd7",
   "metadata": {
    "tags": []
   },
   "outputs": [
    {
     "name": "stderr",
     "output_type": "stream",
     "text": [
      "Warning message in scale_y_log10():\n",
      "“\u001b[1m\u001b[22m\u001b[32mlog-10\u001b[39m transformation introduced infinite values.”\n",
      "Warning message in scale_y_log10():\n",
      "“\u001b[1m\u001b[22m\u001b[32mlog-10\u001b[39m transformation introduced infinite values.”\n",
      "Warning message in scale_y_log10():\n",
      "“\u001b[1m\u001b[22m\u001b[32mlog-10\u001b[39m transformation introduced infinite values.”\n",
      "Warning message:\n",
      "“\u001b[1m\u001b[22mRemoved 6 rows containing missing values or values outside the scale range\n",
      "(`geom_bar()`).”\n"
     ]
    },
    {
     "data": {
      "image/png": "[encoded data removed]",
      "text/plain": [
       "plot without title"
      ]
     },
     "metadata": {
      "image/png": {
       "height": 240,
       "width": 540
      }
     },
     "output_type": "display_data"
    }
   ],
   "source": [
    "hist.king <- ggplot(relatedness, aes(x=relatedness[,8])) +\n",
    "  geom_histogram(binwidth = 0.02, col = \"black\", fill=\"tomato\") + \n",
    "  labs(title = \"Histogram of relatedness (KING)\") + \n",
    "  xlab(\"KING kinship\") + \n",
    "  ylab(\"Log Frequency\") + \n",
    "  theme_bw() +\n",
    "  scale_y_log10() +\n",
    "  theme(axis.title=element_text(size=14), \n",
    "        axis.text=element_text(size=13),\n",
    "        plot.title=element_text(size=15)) \n",
    "\n",
    "#Extract coordinates of the plot\n",
    "bin_data <- ggplot_build(hist.king)$data[[1]]\n",
    "\n",
    "#Adding text labels to  each bar, \n",
    "#accounting for log scale\n",
    "hist.king + \n",
    "  geom_text(data = bin_data, \n",
    "            aes(x = xmin + (xmax - xmin) / 2, \n",
    "                y = log10(count+1),  # Apply log10\n",
    "                label = count), \n",
    "                vjust = -5, #Vertical adjustment of text\n",
    "                size = 4, \n",
    "                color = \"black\")"
   ]
  },
  {
   "cell_type": "markdown",
   "id": "5660ad97-c3eb-4b28-ad58-d247b2ee5b4d",
   "metadata": {},
   "source": [
    ":::\n",
    "\n",
    "---"
   ]
  },
  {
   "cell_type": "markdown",
   "id": "8534a2dc-d763-479a-8bf5-14f4736a28d4",
   "metadata": {},
   "source": [
    "We can also plot the number of SNPs used to calculate relatedness VS the KING relatedness itself. Pairs with very low number of SNPs and anomalous KING estimator might simply contain badly genotyped sample(s). This is not at all our case."
   ]
  },
  {
   "cell_type": "code",
   "execution_count": 3,
   "id": "a5689287-f4b7-4612-956a-37439e17307e",
   "metadata": {
    "tags": []
   },
   "outputs": [
    {
     "data": {
      "image/png": "[encoded data removed]",
      "text/plain": [
       "plot without title"
      ]
     },
     "metadata": {
      "image/png": {
       "height": 240,
       "width": 540
      }
     },
     "output_type": "display_data"
    }
   ],
   "source": [
    "# Relatedness plot\n",
    "plot.relatedness <- ggplot(relatedness) +\n",
    "  geom_point(aes(x=NSNP, y=KINSHIP), size=5, alpha=.25) + \n",
    "  ylim(-.1,.4) +\n",
    "  labs(x = \"Number of SNPs used\", y = \"KING kinship\", title = \"Check for genotyping quality\") + \n",
    "  theme_bw() +\n",
    "  theme(axis.title=element_text(size=14), \n",
    "        axis.text=element_text(size=13), \n",
    "        legend.text= element_text(size=13), \n",
    "        legend.title=element_text(size=14), \n",
    "        plot.title=element_text(size=15))\n",
    "\n",
    "show(plot.relatedness)"
   ]
  },
  {
   "cell_type": "markdown",
   "id": "321ea42c-86e9-4f3c-a61b-9ab3b4f93728",
   "metadata": {},
   "source": [
    ":::{.callout-important title=\"Stop - Read - Solve\"}\n",
    "Use `PLINK` options to filter out related individuals, using a relatedness threshold of 0.1. \n",
    "\n",
    "- First of all you need to create a file with the IDs of the samples to remove. You can use the command `awk` as we did before in this exercise.\n",
    "\n",
    "- Afterwards you need PLINK with the option `--remove` to use the file with IDs. Name the output `--out Results/GWAS4/king_exercise`.\n",
    "\n",
    ":::"
   ]
  },
  {
   "cell_type": "markdown",
   "id": "c465100d-726d-4145-9365-60792b3a8afe",
   "metadata": {},
   "source": [
    "<img src=\"Images/bash.png\" alt=\"Bash\" width=\"40\"> Switch to the Bash kernel."
   ]
  },
  {
   "cell_type": "code",
   "execution_count": 5,
   "id": "7b93af6a-23c4-4dfe-a7cd-381d7107a42a",
   "metadata": {},
   "outputs": [],
   "source": [
    "# Write your code here (PLINK command)\n"
   ]
  },
  {
   "cell_type": "markdown",
   "id": "da05d98f-058a-432e-984f-0c13a90f4949",
   "metadata": {
    "tags": []
   },
   "source": [
    ":::{.callout-tip title=\"Solution\" collapse=\"true\"}\n",
    "\n",
    "We use `awk` to print IDs to remove and then the option `--remove` of PLINK. "
   ]
  },
  {
   "cell_type": "markdown",
   "id": "f63b98c5-dcb8-4fa5-85ae-800967862dc5",
   "metadata": {},
   "source": [
    "<img src=\"Images/bash.png\" alt=\"Bash\" width=\"40\"> We print out all family and sample IDs for which the column KINSHIP (column 8) is >0.1. Note we print both samples in the pair with high relatedness, using the `awk` command twice."
   ]
  },
  {
   "cell_type": "code",
   "execution_count": 1,
   "id": "b053e19e-6ba7-4d3d-a196-28c17677cf50",
   "metadata": {},
   "outputs": [],
   "source": [
    "awk '{ if ($8 > 0.1) print $1, $2 }' Results/GWAS4/KING.kin0 > Results/GWAS4/filter_king.txt"
   ]
  },
  {
   "cell_type": "markdown",
   "id": "2546923e-194a-47cf-a37e-dd803706dd2d",
   "metadata": {},
   "source": [
    "Now each sample is identified uniquely ba family and sample ID. Some samples are repeated more than once because we have selected the first sample in related pairs, so same samples appear more than once. We use the option `--remove` to produce a new set of `plink` files. We will be warned about sample repetitions because we have been having some duplicates from the KINSHIP pairs"
   ]
  },
  {
   "cell_type": "code",
   "execution_count": 2,
   "id": "aaa83929-d0e5-427c-9115-411e280f385a",
   "metadata": {
    "tags": []
   },
   "outputs": [
    {
     "name": "stdout",
     "output_type": "stream",
     "text": [
      "PLINK v1.90b6.21 64-bit (19 Oct 2020)          www.cog-genomics.org/plink/1.9/\n",
      "(C) 2005-2020 Shaun Purcell, Christopher Chang   GNU General Public License v3\n",
      "Logging to Results/GWAS4/king_exercise.log.\n",
      "Options in effect:\n",
      "  --bfile Results/GWAS3/HapMap_3_r3_7\n",
      "  --make-bed\n",
      "  --out Results/GWAS4/king_exercise\n",
      "  --remove Results/GWAS4/filter_king.txt\n",
      "\n",
      "385567 MB RAM detected; reserving 192783 MB for main workspace.\n",
      "1073788 variants loaded from .bim file.\n",
      "161 people (77 males, 84 females) loaded from .fam.\n",
      "110 phenotype values loaded from .fam.\n",
      "--remove: 85 people remaining.\n",
      "Warning: At least 17 duplicate IDs in --remove file.\n",
      "Using 1 thread (no multithreaded calculations invoked).\n",
      "Before main variant filters, 67 founders and 18 nonfounders present.\n",
      "Calculating allele frequencies... done.\n",
      "Total genotyping rate in remaining samples is 0.997765.\n",
      "1073788 variants and 85 people pass filters and QC.\n",
      "Among remaining phenotypes, 34 are cases and 33 are controls.  (18 phenotypes\n",
      "are missing.)\n",
      "--make-bed to Results/GWAS4/king_exercise.bed + Results/GWAS4/king_exercise.bim\n",
      "+ Results/GWAS4/king_exercise.fam ... done.\n"
     ]
    }
   ],
   "source": [
    "plink --bfile Results/GWAS3/HapMap_3_r3_7 \\\n",
    "    --make-bed \\\n",
    "    --remove Results/GWAS4/filter_king.txt \\\n",
    "    --out Results/GWAS4/king_exercise"
   ]
  },
  {
   "cell_type": "markdown",
   "id": "0687225c-2e12-478d-99d3-9affa994e50d",
   "metadata": {
    "tags": []
   },
   "source": [
    "We have gone from 161 to 85 samples, removing 76 related ones."
   ]
  },
  {
   "cell_type": "markdown",
   "id": "3f58457b-6901-4c60-b8a6-33de1fa186ad",
   "metadata": {},
   "source": [
    ":::\n",
    "\n",
    "***"
   ]
  },
  {
   "cell_type": "markdown",
   "id": "2351a16c",
   "metadata": {},
   "source": [
    "<img src=\"Images/bash.png\" alt=\"Bash\" width=\"40\"> Switch to the Bash kernel.\n",
    "\n",
    "So far, you’ve learned how to filter individuals using KING kinship thresholds. Now, we’ll demonstrate that most of the relatedness was due to parent-offspring relationships. We will achieve this by using the `--filter-founders` option to create a new filtered dataset that includes only the founders (individuals without listed parents in the data). This generates `.bed`, `.bim`, and `.fam` files, which are then used to create a `.kin0` file containing relatedness values. Note again we use `plink2` to create the KING matrix."
   ]
  },
  {
   "cell_type": "code",
   "execution_count": 3,
   "id": "e034b088",
   "metadata": {
    "tags": []
   },
   "outputs": [
    {
     "name": "stdout",
     "output_type": "stream",
     "text": [
      "PLINK v2.00a5.12LM 64-bit Intel (25 Jun 2024)  www.cog-genomics.org/plink/2.0/\n",
      "(C) 2005-2024 Shaun Purcell, Christopher Chang   GNU General Public License v3\n",
      "Logging to Results/GWAS4/KING_founders.log.\n",
      "Options in effect:\n",
      "  --bfile Results/GWAS4/HapMap_3_r3_8\n",
      "  --extract Results/GWAS3/indepSNP.prune.in\n",
      "  --make-king-table\n",
      "  --out Results/GWAS4/KING_founders\n",
      "\n",
      "Start time: Thu Mar 20 10:28:05 2025\n",
      "385567 MiB RAM detected, ~348812 available; reserving 192783 MiB for main\n",
      "workspace.\n",
      "Using up to 64 threads (change this with --threads).\n",
      "110 samples (55 females, 55 males; 110 founders) loaded from\n",
      "Results/GWAS4/HapMap_3_r3_8.fam.\n",
      "1073788 variants loaded from Results/GWAS4/HapMap_3_r3_8.bim.\n",
      "1 binary phenotype loaded (55 cases, 55 controls).\n",
      "--extract: 104129 variants remaining.\n",
      "104129 variants remaining after main filters.\n",
      "--make-king-table pass 1/1: Scanning for rare variants... done.\n",
      "0 variants handled by initial scan (104129 remaining).\n",
      "--make-king-table pass 1/1: Writing... done.\n",
      "--make-king-table: 104129 variants processed.\n",
      "Results written to Results/GWAS4/KING_founders.kin0 .\n",
      "End time: Thu Mar 20 10:28:05 2025\n"
     ]
    }
   ],
   "source": [
    "plink --bfile Results/GWAS3/HapMap_3_r3_7 \\\n",
    "    --filter-founders \\\n",
    "    --make-bed \\\n",
    "    --out Results/GWAS4/HapMap_3_r3_8 \\\n",
    "    --silent\n",
    "\n",
    "plink2 --bfile Results/GWAS4/HapMap_3_r3_8 \\\n",
    "    --extract Results/GWAS3/indepSNP.prune.in \\\n",
    "    --make-king-table \\\n",
    "    --out Results/GWAS4/KING_founders"
   ]
  },
  {
   "cell_type": "markdown",
   "id": "787f1063",
   "metadata": {},
   "source": [
    "<img src=\"Images/R.png\" alt=\"R\" width=\"40\"> Switch to the R kernel.\n",
    "\n",
    "Let's plot the results from the `KING_founders.kin0` file. We can see how there is only 1 pair with high kinship amongst the founders."
   ]
  },
  {
   "cell_type": "code",
   "execution_count": 1,
   "id": "c2a5e584-f675-49fa-928b-91766977c643",
   "metadata": {
    "tags": []
   },
   "outputs": [
    {
     "name": "stderr",
     "output_type": "stream",
     "text": [
      "Warning message in scale_y_log10():\n",
      "“\u001b[1m\u001b[22m\u001b[32mlog-10\u001b[39m transformation introduced infinite values.”\n",
      "Warning message in scale_y_log10():\n",
      "“\u001b[1m\u001b[22m\u001b[32mlog-10\u001b[39m transformation introduced infinite values.”\n",
      "Warning message in scale_y_log10():\n",
      "“\u001b[1m\u001b[22m\u001b[32mlog-10\u001b[39m transformation introduced infinite values.”\n",
      "Warning message:\n",
      "“\u001b[1m\u001b[22mRemoved 9 rows containing missing values or values outside the scale range\n",
      "(`geom_bar()`).”\n"
     ]
    },
    {
     "data": {
      "image/png": "[encoded data removed]",
      "text/plain": [
       "plot without title"
      ]
     },
     "metadata": {
      "image/png": {
       "height": 420,
       "width": 420
      }
     },
     "output_type": "display_data"
    }
   ],
   "source": [
    "suppressMessages(suppressWarnings(library(ggplot2)))\n",
    "\n",
    "relatedness <- read.table(\"Results/GWAS4/KING_founders.kin0\", header=TRUE, comment.char = '|')\n",
    "\n",
    "hist.king <- ggplot(relatedness, aes(x=relatedness[,8])) +\n",
    "  geom_histogram(binwidth = 0.02, col = \"black\", fill=\"tomato\") + \n",
    "  labs(title = \"Histogram of relatedness (KING) in founders-only data\") + \n",
    "  xlab(\"KING kinship\") + \n",
    "  ylab(\"Log Frequency\") + \n",
    "  theme_bw() +\n",
    "  scale_y_log10() +\n",
    "  theme(axis.title=element_text(size=14), \n",
    "        axis.text=element_text(size=13),\n",
    "        plot.title=element_text(size=15)) \n",
    "\n",
    "#Extract coordinates of the plot\n",
    "bin_data <- ggplot_build(hist.king)$data[[1]]\n",
    "\n",
    "#Adding text labels to  each bar, \n",
    "#accounting for log scale\n",
    "hist.king + \n",
    "  geom_text(data = bin_data, \n",
    "            aes(x = xmin + (xmax - xmin) / 2, \n",
    "                y = log10(count+1),  # Apply log10\n",
    "                label = count), \n",
    "                vjust = -10, #Vertical adjustment of text\n",
    "                size = 4, \n",
    "                color = \"black\")"
   ]
  },
  {
   "cell_type": "markdown",
   "id": "e48734ad-5afb-4c82-b16b-e10b8e89a778",
   "metadata": {},
   "source": [
    ":::{.callout-important title=\"Stop - Read - Solve\"}\n",
    "\n",
    "- **1. Do you observe anything unexpected in the plot?**\n",
    "- **2. Can you identify the IIDs of the sample pair?** Hint: filter for KINSHIP values.\n",
    "- **3. Based on the KINSHIP, what is the most likely relationship between the pair?**\n",
    "- **4. What would you do about it?** Hint: remove one or both in the pair?\n",
    "\n",
    ":::"
   ]
  },
  {
   "cell_type": "code",
   "execution_count": null,
   "id": "862d2e88-6982-4485-82a0-724cd6c29fca",
   "metadata": {},
   "outputs": [],
   "source": [
    "# Write your answer here"
   ]
  },
  {
   "cell_type": "code",
   "execution_count": null,
   "id": "ddcb10c8-f5e0-4b21-9b17-cd38fc50d03b",
   "metadata": {},
   "outputs": [],
   "source": [
    "# R code here"
   ]
  },
  {
   "cell_type": "markdown",
   "id": "f5a2f642-c649-427a-a6da-94b6595a641b",
   "metadata": {},
   "source": [
    ":::{.callout-tip title=\"Solution\" collapse=\"true\"}\n",
    "\n",
    "- **1.** The file `KING_founders.kin0` shows that, after excluding all non-founders, one individual pair removed in the exercise remains in the HapMap data. \n",
    "- **2.** Below, we can look at the individual from the table by setting KINSHIP > 0.2. Even if labeled as unrelated, it has high relatedness. The IIDs of the pair are NA07045 and NA12813. \n"
   ]
  },
  {
   "cell_type": "code",
   "execution_count": 2,
   "id": "e30d95c1",
   "metadata": {
    "tags": []
   },
   "outputs": [
    {
     "data": {
      "text/html": [
       "<table class=\"dataframe\">\n",
       "<caption>A data.frame: 1 × 8</caption>\n",
       "<thead>\n",
       "\t<tr><th></th><th scope=col>X.FID1</th><th scope=col>IID1</th><th scope=col>FID2</th><th scope=col>IID2</th><th scope=col>NSNP</th><th scope=col>HETHET</th><th scope=col>IBS0</th><th scope=col>KINSHIP</th></tr>\n",
       "\t<tr><th></th><th scope=col>&lt;int&gt;</th><th scope=col>&lt;chr&gt;</th><th scope=col>&lt;int&gt;</th><th scope=col>&lt;chr&gt;</th><th scope=col>&lt;int&gt;</th><th scope=col>&lt;dbl&gt;</th><th scope=col>&lt;dbl&gt;</th><th scope=col>&lt;dbl&gt;</th></tr>\n",
       "</thead>\n",
       "<tbody>\n",
       "\t<tr><th scope=row>2729</th><td>1454</td><td>NA12813</td><td>13291</td><td>NA07045</td><td>103649</td><td>0.213779</td><td>0.0186302</td><td>0.247556</td></tr>\n",
       "</tbody>\n",
       "</table>\n"
      ],
      "text/latex": [
       "A data.frame: 1 × 8\n",
       "\\begin{tabular}{r|llllllll}\n",
       "  & X.FID1 & IID1 & FID2 & IID2 & NSNP & HETHET & IBS0 & KINSHIP\\\\\n",
       "  & <int> & <chr> & <int> & <chr> & <int> & <dbl> & <dbl> & <dbl>\\\\\n",
       "\\hline\n",
       "\t2729 & 1454 & NA12813 & 13291 & NA07045 & 103649 & 0.213779 & 0.0186302 & 0.247556\\\\\n",
       "\\end{tabular}\n"
      ],
      "text/markdown": [
       "\n",
       "A data.frame: 1 × 8\n",
       "\n",
       "| <!--/--> | X.FID1 &lt;int&gt; | IID1 &lt;chr&gt; | FID2 &lt;int&gt; | IID2 &lt;chr&gt; | NSNP &lt;int&gt; | HETHET &lt;dbl&gt; | IBS0 &lt;dbl&gt; | KINSHIP &lt;dbl&gt; |\n",
       "|---|---|---|---|---|---|---|---|---|\n",
       "| 2729 | 1454 | NA12813 | 13291 | NA07045 | 103649 | 0.213779 | 0.0186302 | 0.247556 |\n",
       "\n"
      ],
      "text/plain": [
       "     X.FID1 IID1    FID2  IID2    NSNP   HETHET   IBS0      KINSHIP \n",
       "2729 1454   NA12813 13291 NA07045 103649 0.213779 0.0186302 0.247556"
      ]
     },
     "metadata": {},
     "output_type": "display_data"
    }
   ],
   "source": [
    "relatedness[relatedness$KINSHIP > 0.2,]"
   ]
  },
  {
   "cell_type": "markdown",
   "id": "ba9aa66a-10ab-441f-9e21-b7c18e3e417d",
   "metadata": {},
   "source": [
    "- **3.** This remaining individual is likely to be related with sibling relationship, even though they were not given the same family identity (FID) in the HapMap data.\n",
    "- **4.** We don't need to remove both individuals from the dataset (IID1=NA07045; IID2=NA12813). It's enough to remove just one, and the individual with the highest missing rate (lowest quality) could be chosen. Let's calculate the missing rates using PLINK."
   ]
  },
  {
   "cell_type": "markdown",
   "id": "ec6762bb-8f74-4550-a43d-56603b162b86",
   "metadata": {},
   "source": [
    ":::\n",
    "\n",
    "***"
   ]
  },
  {
   "cell_type": "markdown",
   "id": "11be16c4-ccf3-493b-85f0-fddb72cdfbdd",
   "metadata": {},
   "source": [
    "<img src=\"Images/bash.png\" alt=\"Bash\" width=\"40\"> Switch to the Bash kernel."
   ]
  },
  {
   "cell_type": "code",
   "execution_count": 1,
   "id": "7d55dc5d-2663-489e-b2bf-2637a577e716",
   "metadata": {
    "tags": []
   },
   "outputs": [],
   "source": [
    "plink --bfile Results/GWAS4/HapMap_3_r3_8 \\\n",
    "    --missing \\\n",
    "    --out Results/GWAS4/HapMap_3_r3_8 \\\n",
    "    --silent"
   ]
  },
  {
   "cell_type": "markdown",
   "id": "cdc75b75-bcd0-4e6f-a987-cf42f19214b3",
   "metadata": {},
   "source": [
    "Then, find the two individuals from the output file using `grep` and sorting descendingly by missing rate (EZ, column 6)"
   ]
  },
  {
   "cell_type": "code",
   "execution_count": 2,
   "id": "3fa5e705-a478-4e76-91b7-8105c41c0a01",
   "metadata": {
    "tags": []
   },
   "outputs": [
    {
     "name": "stdout",
     "output_type": "stream",
     "text": [
      "  13291   NA07045          N     2560  1073788 0.002384\n",
      "   1454   NA12813          N     1956  1073788 0.001822\n"
     ]
    }
   ],
   "source": [
    "# Let's look at the output\n",
    "cat Results/GWAS4/HapMap_3_r3_8.imiss | grep -E 'NA07045|NA12813' | sort -k6,6nr"
   ]
  },
  {
   "cell_type": "markdown",
   "id": "15d38dd9-baa9-4fed-81c2-4dc8eda7643e",
   "metadata": {},
   "source": [
    "`NA07045` is the individual to be removed. Once this is removed, their offspring can still be used in analyses that don't involve trios, such as family-related studies."
   ]
  },
  {
   "cell_type": "markdown",
   "id": "aa1b8463-3555-4bf9-9dbe-ee0ceda2543b",
   "metadata": {},
   "source": [
    ":::{.callout-important title=\"Stop - Read - Solve\"}\n",
    "\n",
    "- **Plot the distribution of missing rates from `HapMap_3_r3_8`. What is the value for `NA07045`?**\n",
    "- **Remove `NA07045` from the PLINK files**\n",
    "  \n",
    "Hint: \n",
    "\n",
    "- Use the `.imiss` file to plot a histogram of the missing scores from the file `HapMap_3_r3_8.imiss` in `R` (check previous notebooks for help). Is the score of `NA07045` amongst the higher/lower ones? You can add a vertical line in the histogram representing the value for `NA07045` using `geom_vline`. \n",
    "- Create a file with the sample ID to remove and use the `--remove` option in PLINK. \n",
    "\n",
    ":::"
   ]
  },
  {
   "cell_type": "markdown",
   "id": "43c78309-dde7-4cdd-bd93-547a03544940",
   "metadata": {},
   "source": [
    "<img src=\"Images/R.png\" alt=\"R\" width=\"40\"> Switch to the R kernel."
   ]
  },
  {
   "cell_type": "code",
   "execution_count": 1,
   "id": "fd1c7d1a-5a3b-40f4-9e6c-d12e63393cc6",
   "metadata": {},
   "outputs": [],
   "source": [
    "# Write your code here"
   ]
  },
  {
   "cell_type": "markdown",
   "id": "c959a6b9-a326-4a66-9809-7cb5df42b8d1",
   "metadata": {
    "editable": true,
    "slideshow": {
     "slide_type": ""
    },
    "tags": []
   },
   "source": [
    ":::{.callout-tip title=\"Solution\" collapse=\"true\"}\n",
    "We can extract the column from the file and observe in the histogram that the individual `NA07045` has a missing rate closer which is in the bulk of other samples.\n"
   ]
  },
  {
   "cell_type": "code",
   "execution_count": 3,
   "id": "8adba97a-30f1-4fe5-a956-5b3337744491",
   "metadata": {
    "editable": true,
    "scrolled": true,
    "slideshow": {
     "slide_type": ""
    },
    "tags": []
   },
   "outputs": [
    {
     "data": {
      "text/html": [
       "<table class=\"dataframe\">\n",
       "<caption>A data.frame: 6 × 6</caption>\n",
       "<thead>\n",
       "\t<tr><th></th><th scope=col>FID</th><th scope=col>IID</th><th scope=col>MISS_PHENO</th><th scope=col>N_MISS</th><th scope=col>N_GENO</th><th scope=col>F_MISS</th></tr>\n",
       "\t<tr><th></th><th scope=col>&lt;int&gt;</th><th scope=col>&lt;chr&gt;</th><th scope=col>&lt;chr&gt;</th><th scope=col>&lt;int&gt;</th><th scope=col>&lt;int&gt;</th><th scope=col>&lt;dbl&gt;</th></tr>\n",
       "</thead>\n",
       "<tbody>\n",
       "\t<tr><th scope=row>1</th><td>1328</td><td>NA06989</td><td>N</td><td> 2202</td><td>1073788</td><td>0.0020510</td></tr>\n",
       "\t<tr><th scope=row>2</th><td>1377</td><td>NA11891</td><td>N</td><td>13607</td><td>1073788</td><td>0.0126700</td></tr>\n",
       "\t<tr><th scope=row>3</th><td>1349</td><td>NA11843</td><td>N</td><td>  821</td><td>1073788</td><td>0.0007646</td></tr>\n",
       "\t<tr><th scope=row>4</th><td>1330</td><td>NA12341</td><td>N</td><td> 3708</td><td>1073788</td><td>0.0034530</td></tr>\n",
       "\t<tr><th scope=row>5</th><td>1328</td><td>NA06984</td><td>N</td><td> 6484</td><td>1073788</td><td>0.0060380</td></tr>\n",
       "\t<tr><th scope=row>6</th><td>1418</td><td>NA12275</td><td>N</td><td> 2740</td><td>1073788</td><td>0.0025520</td></tr>\n",
       "</tbody>\n",
       "</table>\n"
      ],
      "text/latex": [
       "A data.frame: 6 × 6\n",
       "\\begin{tabular}{r|llllll}\n",
       "  & FID & IID & MISS\\_PHENO & N\\_MISS & N\\_GENO & F\\_MISS\\\\\n",
       "  & <int> & <chr> & <chr> & <int> & <int> & <dbl>\\\\\n",
       "\\hline\n",
       "\t1 & 1328 & NA06989 & N &  2202 & 1073788 & 0.0020510\\\\\n",
       "\t2 & 1377 & NA11891 & N & 13607 & 1073788 & 0.0126700\\\\\n",
       "\t3 & 1349 & NA11843 & N &   821 & 1073788 & 0.0007646\\\\\n",
       "\t4 & 1330 & NA12341 & N &  3708 & 1073788 & 0.0034530\\\\\n",
       "\t5 & 1328 & NA06984 & N &  6484 & 1073788 & 0.0060380\\\\\n",
       "\t6 & 1418 & NA12275 & N &  2740 & 1073788 & 0.0025520\\\\\n",
       "\\end{tabular}\n"
      ],
      "text/markdown": [
       "\n",
       "A data.frame: 6 × 6\n",
       "\n",
       "| <!--/--> | FID &lt;int&gt; | IID &lt;chr&gt; | MISS_PHENO &lt;chr&gt; | N_MISS &lt;int&gt; | N_GENO &lt;int&gt; | F_MISS &lt;dbl&gt; |\n",
       "|---|---|---|---|---|---|---|\n",
       "| 1 | 1328 | NA06989 | N |  2202 | 1073788 | 0.0020510 |\n",
       "| 2 | 1377 | NA11891 | N | 13607 | 1073788 | 0.0126700 |\n",
       "| 3 | 1349 | NA11843 | N |   821 | 1073788 | 0.0007646 |\n",
       "| 4 | 1330 | NA12341 | N |  3708 | 1073788 | 0.0034530 |\n",
       "| 5 | 1328 | NA06984 | N |  6484 | 1073788 | 0.0060380 |\n",
       "| 6 | 1418 | NA12275 | N |  2740 | 1073788 | 0.0025520 |\n",
       "\n"
      ],
      "text/plain": [
       "  FID  IID     MISS_PHENO N_MISS N_GENO  F_MISS   \n",
       "1 1328 NA06989 N           2202  1073788 0.0020510\n",
       "2 1377 NA11891 N          13607  1073788 0.0126700\n",
       "3 1349 NA11843 N            821  1073788 0.0007646\n",
       "4 1330 NA12341 N           3708  1073788 0.0034530\n",
       "5 1328 NA06984 N           6484  1073788 0.0060380\n",
       "6 1418 NA12275 N           2740  1073788 0.0025520"
      ]
     },
     "metadata": {},
     "output_type": "display_data"
    },
    {
     "name": "stderr",
     "output_type": "stream",
     "text": [
      "\u001b[1m\u001b[22m`stat_bin()` using `bins = 30`. Pick better value with `binwidth`.\n"
     ]
    },
    {
     "data": {
      "image/png": "[encoded data removed]",
      "text/plain": [
       "plot without title"
      ]
     },
     "metadata": {
      "image/png": {
       "height": 240,
       "width": 540
      }
     },
     "output_type": "display_data"
    }
   ],
   "source": [
    "suppressMessages(suppressWarnings(library(ggplot2)))\n",
    "\n",
    "options(repr.plot.width = 9, repr.plot.height = 4)\n",
    "\n",
    "# Read data into R \n",
    "smiss <- read.table(\"Results/GWAS4/HapMap_3_r3_8.imiss\", header=T)\n",
    "\n",
    "head(smiss)\n",
    "\n",
    "hist.relatedness <- ggplot(data=smiss, aes(F_MISS)) +\n",
    "  geom_histogram(col = \"black\", fill = \"tomato\") + \n",
    "  geom_vline(xintercept = 0.002384, color = \"red\", linetype = \"dashed\", linewidth = 1) +\n",
    "  labs(title = \"Histogram of missing rates\") + \n",
    "  xlab(\"Missing rate\") + \n",
    "  ylab(\"Frequency\") + \n",
    "  theme_bw() +\n",
    "  theme(axis.title=element_text(size=14), axis.text=element_text(size=13),plot.title=element_text(size=15))\n",
    "\n",
    "show(hist.relatedness)"
   ]
  },
  {
   "cell_type": "markdown",
   "id": "73b9b8a3",
   "metadata": {},
   "source": [
    "\n",
    "<img src=\"Images/bash.png\" alt=\"Bash\" width=\"40\"> Switch to the Bash kernel.\n",
    "\n",
    "To remove the individual from the data, we create a file containing its number and ID, and provide it to PLINK with the option `--remove`"
   ]
  },
  {
   "cell_type": "code",
   "execution_count": 1,
   "id": "5007aa3f",
   "metadata": {
    "tags": []
   },
   "outputs": [],
   "source": [
    "echo \"13291  NA07045\" > Results/GWAS4/id_remove.txt"
   ]
  },
  {
   "cell_type": "code",
   "execution_count": 2,
   "id": "d08763c4",
   "metadata": {
    "tags": []
   },
   "outputs": [],
   "source": [
    "plink --bfile Results/GWAS4/HapMap_3_r3_8 \\\n",
    "    --remove Results/GWAS4/id_remove.txt \\\n",
    "    --make-bed \\\n",
    "    --out Results/GWAS4/HapMap_3_r3_9 \\\n",
    "    --silent"
   ]
  },
  {
   "cell_type": "markdown",
   "id": "8c68e0f9-50d5-4a33-8d28-9697d1e62fcb",
   "metadata": {},
   "source": [
    ":::\n",
    "\n",
    "***"
   ]
  },
  {
   "cell_type": "markdown",
   "id": "510d7628",
   "metadata": {},
   "source": [
    "## B. Population Stratification"
   ]
  },
  {
   "cell_type": "markdown",
   "id": "19359572",
   "metadata": {},
   "source": [
    "Population stratification presents a significant source of systematic bias in GWAS, arising **when subpopulations exhibit systematic differences in allele frequencies**. Research indicates that even subtle degrees of population stratification can exist within a single ethnic population [@abdellaoui2013population]. Thus, testing and controlling for the presence of population stratification is an essential QC step.\n",
    "\n",
    "The population structure (or in other words, the ancestral relationship of the populations) is a so-called **confounding factor**. This means that it affects both the dependent and independent variables, as shown in the figure below, where both the genotype and traits are influenced by population structure (e.g., the distribution of north and south European individuals in the PCA space and the height of those individuals).\n",
    "\n",
    "![](Images/ancestryBias.png){fig-align=\"center\" width=400px}\n",
    "\n",
    "Why is a bias introduced? Population structure can influence allele frequencies and produce false positives/negatives when doing association testing. Graphically, consider the example in the figure below. Case and control for population 1 and 2 have specific MAFs. Removing the barrier between populations will change MAFs drastically for the two confitions.\n",
    "\n",
    "![](Images/popStruct.png){fig-align=\"center\" width=400px}\n",
    "\n",
    "The same problem arises in population studies without Case-control categories. Imagine having a population of randomly sampled individuals, each from a different ethnicity (the blue and red minor alleles in the example below). The final group of individuals will have a different proportion of MAFs depending on the sampling of various ethnicities.\n",
    "\n",
    "![](Images/popSampling.png){fig-align=\"center\" width=400px}\n",
    "\n",
    "There are several methods to correct for population stratification [@price2010new, @price_principal_2006]. Here, we illustrate a method integrated into PLINK: the **multidimensional scaling (MDS)** approach. MDS calculates the genome-wide average proportion of shared alleles between any pair of individuals to generate quantitative indices (components) of the genetic variation for each individual. **The individual component scores can be visualized to identify groups of genetically similar individuals.** For instance, in a genetic study including subjects from Asia and Europe, MDS analysis would reveal that Asians are genetically more similar to each other than to Europeans and Africans. The figure below shows another example of MDS using HapMap, Genome diversity project, and authors' data:\n",
    "\n",
    "![Example of MDS plot of the first two MDS components scores on integrated datasets in @somers_genetic_2017. Here TWN, a past isolated population in the Netherlands, is separated from the other individuals from the same country (NDL). Sardinians, notoriously different from continental Italians, are also grouped far away from them. Central European populations colocalize as expected.](./Images/MDSexample2.png){width=500px label=fig-MDSexample}\n",
    "\n",
    "To investigate which individuals the generated component scores deviate from in the target population, plotting the scores of the dataset under investigation and a population of known ethnic structure (e.g., HapMap/1KG data) is helpful: this step is called **anchoring** [@rietveld2013gwas]. This enables the researcher to obtain ethnic information on their data and to determine possible ethnic outliers. For example, in the figure above, if TSI (Tuscans from Italy) is the anchor population, one can hypothesize that the yellow dots might be ethnically similar (as in the example).\n",
    "\n",
    "Outliers identified based on MDS analysis should be excluded from further analyses. Following their removal, a new MDS analysis must be conducted, and its primary components are utilized as covariates in association tests to correct for any residual population stratification within the population. The number of components to include depends on the population structure and sample size (usually 10-20). \n",
    "\n",
    "The MDS from @cortellari_climatic_2021 shows a distinct goat population outlier. The second axis is dominated by this outlier, obscuring structure in the other populations. Removing the outlier reveals a clearer structure among the remaining populations.\n",
    "\n",
    "![](./Images/MDSout.png){fig-align=\"center\" width=700px}\n"
   ]
  },
  {
   "cell_type": "markdown",
   "id": "17978560",
   "metadata": {},
   "source": [
    "### Analysis\n",
    "\n",
    "We aim to merge the HapMap and 1000GP datasets, using 1000GP Phase I as the anchor for HapMap. Our goal is to check if we can identify the ethnicity of the HapMap data based on the ethnicities in the 1000GP dataset. There are several steps to ensure compatibility between the datasets, so stay with us!\n",
    "\n",
    "#### 1000GP data download\n",
    "\n",
    "Here are some commands to download and convert the 1000GP data for GWAS analysis. **You don’t need to run them**, as we’ve already processed the data.\n",
    "\n",
    "- 1000 Genomes Project - Phase I: genetic information for 629 individuals from various ethnic groups (>60GB). *Phase III is now available, and we recommend using it for research purposes.*\n",
    "\n",
    "\n",
    "```{.bash}\n",
    "wget ftp://ftp-trace.ncbi.nih.gov/1000genomes/ftp/release/20100804/ALL.2of4intersection.20100804.genotypes.vcf.gz\n",
    "```\n",
    "\n",
    "The data was converted from the `vcf` file (Variant Call Format) to plink format (`bim`, `fam`, `bed`):\n",
    "\n",
    "```{.bash}\n",
    "plink2 --vcf ALL.2of4intersection.20100804.genotypes.vcf.gz --make-bed --out ALL.2of4intersection.20100804.genotypes\n",
    "```"
   ]
  },
  {
   "cell_type": "markdown",
   "id": "ece39f8d",
   "metadata": {},
   "source": [
    ":::{.callout-note}\n",
    "\n",
    "The 1000 Genomes data downloaded above is rather large so the commands are not executable and are shown for reference only. To save time, we’ve provided the `.bed`, `.bim`and `.fam` files in the `Data` folder.\n",
    "\n",
    ":::\n",
    "\n",
    "Let's unzip the files and see how many samples we have."
   ]
  },
  {
   "cell_type": "code",
   "execution_count": 4,
   "id": "26e3a83a",
   "metadata": {
    "tags": []
   },
   "outputs": [
    {
     "name": "stdout",
     "output_type": "stream",
     "text": [
      "Archive:  Data/1000genomes.zip\n",
      "  inflating: Results/GWAS4/1000genomes.genotypesA.bed  \n",
      "  inflating: Results/GWAS4/1000genomes.genotypesA.bim  \n",
      "  inflating: Results/GWAS4/1000genomes.genotypesA.fam  \n",
      "  inflating: Results/GWAS4/1000genomes.genotypesA.log  \n",
      "  inflating: Results/GWAS4/1000genomes.genotypesA.nosex  \n",
      "37 Results/GWAS4/1000genomes.genotypesA.fam\n"
     ]
    }
   ],
   "source": [
    "unzip -o Data/1000genomes.zip -d Results/GWAS4\n",
    "# count lines in fam \n",
    "wc -l Results/GWAS4/1000genomes.genotypesA.fam"
   ]
  },
  {
   "cell_type": "markdown",
   "id": "b6a8a6ed",
   "metadata": {},
   "source": [
    "We have a subset of **37 individuals**. Now, let's explore the `bim` file. "
   ]
  },
  {
   "cell_type": "code",
   "execution_count": 5,
   "id": "6d50c492",
   "metadata": {
    "tags": []
   },
   "outputs": [
    {
     "name": "stdout",
     "output_type": "stream",
     "text": [
      "1\trs112750067\t0\t10327\tC\tT\n",
      "1\t.\t0\t11508\tA\tG\n",
      "1\t.\t0\t12783\tG\tA\n",
      "1\t.\t0\t13116\tG\tT\n",
      "1\t.\t0\t14933\tA\tG\n"
     ]
    }
   ],
   "source": [
    "cat Results/GWAS4/1000genomes.genotypesA.bim | head -5"
   ]
  },
  {
   "cell_type": "markdown",
   "id": "e3393991",
   "metadata": {},
   "source": [
    "One should note that the file `1000genomes.genotypes.bim` contains SNPs without an rs-identifier (or Reference SNP cluster ID). The missing rs-identifiers (noted as `.`) are not a problem for this tutorial. However, for good practice, we will assign unique identifiers to the SNPs (using available information):"
   ]
  },
  {
   "cell_type": "code",
   "execution_count": 4,
   "id": "3d7a9271",
   "metadata": {
    "tags": []
   },
   "outputs": [],
   "source": [
    "plink --bfile Results/GWAS4/1000genomes.genotypesA \\\n",
    "    --set-missing-var-ids @:#[b37]\\$1,\\$2 \\\n",
    "    --make-bed \\\n",
    "    --out Results/GWAS4/1000genomes.genotypesA_no_missing_IDs \\\n",
    "    --silent"
   ]
  },
  {
   "cell_type": "markdown",
   "id": "f0e5e218-3e81-4871-b009-4e4e7b86579c",
   "metadata": {},
   "source": [
    "Now, let’s visualize the data to check the SNP names assigned. These are derived from the format `@:#[b37]\\$1,\\$2` in the command above, which PLINK interprets as `chromosome:locus[b37]Allele1,Allele2`: "
   ]
  },
  {
   "cell_type": "code",
   "execution_count": 5,
   "id": "bc59444d",
   "metadata": {
    "tags": []
   },
   "outputs": [
    {
     "name": "stdout",
     "output_type": "stream",
     "text": [
      "1\trs112750067\t0\t10327\tC\tT\n",
      "1\t1:11508[b37]A,G\t0\t11508\tA\tG\n",
      "1\t1:12783[b37]A,G\t0\t12783\tG\tA\n",
      "1\t1:13116[b37]G,T\t0\t13116\tG\tT\n",
      "1\t1:14933[b37]A,G\t0\t14933\tA\tG\n"
     ]
    }
   ],
   "source": [
    "# Show changes on the bim file\n",
    "cat Results/GWAS4/1000genomes.genotypesA_no_missing_IDs.bim | head -5"
   ]
  },
  {
   "cell_type": "markdown",
   "id": "83e92e86-9965-42a9-992d-975c271a78fe",
   "metadata": {},
   "source": [
    "Pretty neat, right?"
   ]
  },
  {
   "cell_type": "markdown",
   "id": "bc096e38",
   "metadata": {},
   "source": [
    "#### QC on 1000GP data\n",
    "As we covered in the GWAS3 notebook, it's important to account for missingness, sex discrepancies, and minor allele frequency. We'll apply standard QC thresholds to the 1000 GP data before merging it with HapMap data. "
   ]
  },
  {
   "cell_type": "code",
   "execution_count": 9,
   "id": "162f5bf0",
   "metadata": {
    "tags": []
   },
   "outputs": [],
   "source": [
    "plink --bfile Results/GWAS4/1000genomes.genotypesA_no_missing_IDs \\\n",
    "    --geno 0.02 \\\n",
    "    --make-bed \\\n",
    "    --out Results/GWAS4/1kG_MDS --silent\n",
    "\n",
    "plink --bfile Results/GWAS4/1kG_MDS \\\n",
    "    --mind 0.02 \\\n",
    "    --make-bed \\\n",
    "    --out Results/GWAS4/1kG_MDS2 --silent\n",
    "    \n",
    "plink --bfile Results/GWAS4/1kG_MDS2 \\\n",
    "    --maf 0.05 \\\n",
    "    --make-bed  \\\n",
    "    --out Results/GWAS4/1kG_MDS3 --silent"
   ]
  },
  {
   "cell_type": "markdown",
   "id": "0840d758-279f-413c-9434-83e2a1cc945f",
   "metadata": {},
   "source": [
    "#### SNPs matching between datasets"
   ]
  },
  {
   "cell_type": "markdown",
   "id": "98540514",
   "metadata": {},
   "source": [
    "N.B: Ensure that the datasets you want to merge share the same genomic build! Otherwise, you'll need to include a liftover step.\n",
    "\n",
    "\n",
    "We want to only consider SNPs that both datasets have in common.  First, extract SNP names from the HapMap data and filter the 1000GP data to include only matching SNPs.\n"
   ]
  },
  {
   "cell_type": "code",
   "execution_count": 7,
   "id": "7893d82e-6625-4904-905c-2dc4f36a7d1d",
   "metadata": {},
   "outputs": [
    {
     "name": "stdout",
     "output_type": "stream",
     "text": [
      "PLINK v1.90b6.21 64-bit (19 Oct 2020)          www.cog-genomics.org/plink/1.9/\n",
      "(C) 2005-2020 Shaun Purcell, Christopher Chang   GNU General Public License v3\n",
      "Logging to Results/GWAS4/1kG_MDS4.log.\n",
      "Options in effect:\n",
      "  --bfile Results/GWAS4/1kG_MDS3\n",
      "  --extract Results/GWAS4/HapMap_SNPs.txt\n",
      "  --make-bed\n",
      "  --out Results/GWAS4/1kG_MDS4\n",
      "\n",
      "385567 MB RAM detected; reserving 192783 MB for main workspace.\n",
      "2232052 variants loaded from .bim file.\n",
      "37 people (0 males, 0 females, 37 ambiguous) loaded from .fam.\n",
      "Ambiguous sex IDs written to Results/GWAS4/1kG_MDS4.nosex .\n",
      "--extract: 376560 variants remaining.\n",
      "Using 1 thread (no multithreaded calculations invoked).\n",
      "Before main variant filters, 37 founders and 0 nonfounders present.\n",
      "Calculating allele frequencies... done.\n",
      "376560 variants and 37 people pass filters and QC.\n",
      "Note: No phenotypes present.\n",
      "--make-bed to Results/GWAS4/1kG_MDS4.bed + Results/GWAS4/1kG_MDS4.bim +\n",
      "Results/GWAS4/1kG_MDS4.fam ... done.\n"
     ]
    }
   ],
   "source": [
    "#Print out SNPs from the HapMap data\n",
    "awk '{print$2}' Results/GWAS4/HapMap_3_r3_9.bim > Results/GWAS4/HapMap_SNPs.txt\n",
    "\n",
    "#Extract the HapMap SNPs from the 1000GP data\n",
    "plink --bfile Results/GWAS4/1kG_MDS3 \\\n",
    "    --extract Results/GWAS4/HapMap_SNPs.txt \\\n",
    "    --make-bed \\\n",
    "    --out Results/GWAS4/1kG_MDS4"
   ]
  },
  {
   "cell_type": "markdown",
   "id": "d088b95e-a115-4686-9963-5dfddd931464",
   "metadata": {},
   "source": [
    "This is how part of the list of SNP names looks like:"
   ]
  },
  {
   "cell_type": "code",
   "execution_count": 8,
   "id": "a1009efb-9f10-4021-ab18-6f2357206551",
   "metadata": {},
   "outputs": [
    {
     "name": "stdout",
     "output_type": "stream",
     "text": [
      "rs3131972\n",
      "rs3131969\n",
      "rs1048488\n",
      "rs12562034\n",
      "rs12124819\n"
     ]
    }
   ],
   "source": [
    "cat Results/GWAS4/HapMap_SNPs.txt | head -5"
   ]
  },
  {
   "cell_type": "markdown",
   "id": "08556943-df17-42a8-926b-dce8bcaa557d",
   "metadata": {},
   "source": [
    "Now we take the variants from the reduced 1000GP data, and go the other way around. We extract 1000GP variants from the HapMap data. In other words, the two extraction passages will intersect the SNPs. Below is the code to use the SNPs of the 1000GP data to reduce the HapMap data."
   ]
  },
  {
   "cell_type": "code",
   "execution_count": 11,
   "id": "584c7e2c-6a8b-48cb-98f2-4ccd5ab564ab",
   "metadata": {},
   "outputs": [
    {
     "name": "stdout",
     "output_type": "stream",
     "text": [
      "PLINK v1.90b6.21 64-bit (19 Oct 2020)          www.cog-genomics.org/plink/1.9/\n",
      "(C) 2005-2020 Shaun Purcell, Christopher Chang   GNU General Public License v3\n",
      "Logging to Results/GWAS4/HapMap_MDS.log.\n",
      "Options in effect:\n",
      "  --bfile Results/GWAS4/HapMap_3_r3_9\n",
      "  --extract Results/GWAS4/1kG_MDS4_SNPs.txt\n",
      "  --make-bed\n",
      "  --out Results/GWAS4/HapMap_MDS\n",
      "\n",
      "385567 MB RAM detected; reserving 192783 MB for main workspace.\n",
      "1073788 variants loaded from .bim file.\n",
      "109 people (55 males, 54 females) loaded from .fam.\n",
      "109 phenotype values loaded from .fam.\n",
      "--extract: 376560 variants remaining.\n",
      "Using 1 thread (no multithreaded calculations invoked).\n",
      "Before main variant filters, 109 founders and 0 nonfounders present.\n",
      "Calculating allele frequencies... done.\n",
      "Total genotyping rate is 0.998017.\n",
      "376560 variants and 109 people pass filters and QC.\n",
      "Among remaining phenotypes, 54 are cases and 55 are controls.\n",
      "--make-bed to Results/GWAS4/HapMap_MDS.bed + Results/GWAS4/HapMap_MDS.bim +\n",
      "Results/GWAS4/HapMap_MDS.fam ... done.\n"
     ]
    }
   ],
   "source": [
    "#Print out SNPs from the HapMap data\n",
    "awk '{print$2}' Results/GWAS4/1kG_MDS4.bim > Results/GWAS4/1kG_MDS4_SNPs.txt\n",
    "\n",
    "#Extract the HapMap SNPs from the 1000GP data\n",
    "plink --bfile Results/GWAS4/HapMap_3_r3_9 \\\n",
    "    --extract Results/GWAS4/1kG_MDS4_SNPs.txt \\\n",
    "    --make-bed \\\n",
    "    --out Results/GWAS4/HapMap_MDS"
   ]
  },
  {
   "cell_type": "markdown",
   "id": "bc4ce52e-8a9e-42ed-8403-f1b254db7d22",
   "metadata": {},
   "source": [
    ":::{.callout-important title=\"Stop - Read - Solve\"}\n",
    "\n",
    "**Look at the two outputs below a bit more carefully. The names are all matching. Is there any other problem?**\n",
    "\n",
    ":::"
   ]
  },
  {
   "cell_type": "code",
   "execution_count": 12,
   "id": "70beb88f-7099-4233-83d8-53efe75b0de4",
   "metadata": {},
   "outputs": [
    {
     "name": "stdout",
     "output_type": "stream",
     "text": [
      "1\trs3131969\t0\t744045\tA\tG\n",
      "1\trs12562034\t0\t758311\tA\tG\n",
      "1\trs4970383\t0\t828418\tA\tC\n",
      "1\trs4475691\t0\t836671\tT\tC\n",
      "1\trs1806509\t0\t843817\tC\tA\n",
      "1\trs28576697\t0\t860508\tC\tT\n",
      "1\trs3748595\t0\t877423\tA\tC\n",
      "1\trs13303118\t0\t908247\tG\tT\n",
      "1\trs1891910\t0\t922320\tA\tG\n",
      "1\trs3128097\t0\t970323\tG\tA\n"
     ]
    }
   ],
   "source": [
    "head Results/GWAS4/HapMap_MDS.bim"
   ]
  },
  {
   "cell_type": "code",
   "execution_count": 13,
   "id": "337e9c32-7776-4c9a-95ef-87fd1d8e044c",
   "metadata": {},
   "outputs": [
    {
     "name": "stdout",
     "output_type": "stream",
     "text": [
      "1\trs3131969\t0\t754182\tA\tG\n",
      "1\trs12562034\t0\t768448\tA\tG\n",
      "1\trs4970383\t0\t838555\tA\tC\n",
      "1\trs4475691\t0\t846808\tT\tC\n",
      "1\trs1806509\t0\t853954\tA\tC\n",
      "1\trs28576697\t0\t870645\tC\tT\n",
      "1\trs3748595\t0\t887560\tA\tC\n",
      "1\trs13303118\t0\t918384\tT\tG\n",
      "1\trs1891910\t0\t932457\tA\tG\n",
      "1\trs3128097\t0\t980460\tG\tA\n"
     ]
    }
   ],
   "source": [
    "head Results/GWAS4/1kG_MDS4.bim"
   ]
  },
  {
   "cell_type": "markdown",
   "id": "756bd409-b3c2-4494-865b-80053c608dbb",
   "metadata": {},
   "source": [
    "#### Build matching\n",
    "\n",
    "Genomic data is based on a reference genome, and our datasets use different human reference versions. Since the reference genome improves over time, SNP positions may differ between datasets from different versions.\n",
    "\n",
    "We extract SNP names and positions from the HapMap data and align the 1000GP data to match these SNPs using the `--update-map` option in PLINK."
   ]
  },
  {
   "cell_type": "code",
   "execution_count": 15,
   "id": "e7ad8313-f257-4f10-b396-34d4c03b83d7",
   "metadata": {},
   "outputs": [],
   "source": [
    "#Extract the HapMap variant coordinates\n",
    "awk '{print$2,$4}' Results/GWAS4/HapMap_MDS.bim > Results/GWAS4/buildhapmap.txt"
   ]
  },
  {
   "cell_type": "markdown",
   "id": "222fc25e-adf0-486b-81b6-8d3636db3f8d",
   "metadata": {},
   "source": [
    "This is how the list of SNPs look like:"
   ]
  },
  {
   "cell_type": "code",
   "execution_count": 16,
   "id": "0af685c3-65f1-4a27-a251-d250abfe3825",
   "metadata": {},
   "outputs": [
    {
     "name": "stdout",
     "output_type": "stream",
     "text": [
      "rs3131969 744045\n",
      "rs12562034 758311\n",
      "rs4970383 828418\n",
      "rs4475691 836671\n",
      "rs1806509 843817\n"
     ]
    }
   ],
   "source": [
    "cat Results/GWAS4/buildhapmap.txt | head -5"
   ]
  },
  {
   "cell_type": "markdown",
   "id": "1f3a8904-e134-4b7b-a991-daa772d00f53",
   "metadata": {},
   "source": [
    "We run PLINK to update the 1000GP variant coordinates based on HapMap, ignoring the warning about unsorted positions: "
   ]
  },
  {
   "cell_type": "code",
   "execution_count": 17,
   "id": "58fba51d-c89b-449f-8a45-e639a19dfa8e",
   "metadata": {},
   "outputs": [
    {
     "name": "stdout",
     "output_type": "stream",
     "text": [
      "PLINK v1.90b6.21 64-bit (19 Oct 2020)          www.cog-genomics.org/plink/1.9/\n",
      "(C) 2005-2020 Shaun Purcell, Christopher Chang   GNU General Public License v3\n",
      "Logging to Results/GWAS4/1kG_MDS5.log.\n",
      "Options in effect:\n",
      "  --bfile Results/GWAS4/1kG_MDS4\n",
      "  --make-bed\n",
      "  --out Results/GWAS4/1kG_MDS5\n",
      "  --update-map Results/GWAS4/buildhapmap.txt\n",
      "\n",
      "385567 MB RAM detected; reserving 192783 MB for main workspace.\n",
      "376560 variants loaded from .bim file.\n",
      "37 people (0 males, 0 females, 37 ambiguous) loaded from .fam.\n",
      "Ambiguous sex IDs written to Results/GWAS4/1kG_MDS5.nosex .\n",
      "--update-map: 376560 values updated.\n",
      "Warning: Base-pair positions are now unsorted!\n",
      "Using 1 thread (no multithreaded calculations invoked).\n",
      "Before main variant filters, 37 founders and 0 nonfounders present.\n",
      "Calculating allele frequencies... done.\n",
      "376560 variants and 37 people pass filters and QC.\n",
      "Note: No phenotypes present.\n",
      "--make-bed to Results/GWAS4/1kG_MDS5.bed + Results/GWAS4/1kG_MDS5.bim +\n",
      "Results/GWAS4/1kG_MDS5.fam ... done.\n"
     ]
    }
   ],
   "source": [
    "plink --bfile Results/GWAS4/1kG_MDS4 \\\n",
    "    --update-map Results/GWAS4/buildhapmap.txt \\\n",
    "    --make-bed \\\n",
    "    --out Results/GWAS4/1kG_MDS5"
   ]
  },
  {
   "cell_type": "markdown",
   "id": "fe7fefe9",
   "metadata": {},
   "source": [
    "#### Merging datasets and performing MDS\n",
    "\n",
    "Before merging the HapMap and 1000 Genomes datasets, we ensure compatibility through 3 steps:\n",
    "\n",
    "1. Verify the reference genome is compatible in both datasets.\n",
    "2. Align SNP orientations (strand) across datasets.\n",
    "3. Remove SNPs that still differ after these steps.\n",
    "\n",
    "The next steps are technical but ensure the datasets correspond correctly.\n"
   ]
  },
  {
   "cell_type": "markdown",
   "id": "ecb804de-0e80-4146-9361-9a4822124622",
   "metadata": {},
   "source": [
    "**1.** We’ve matched SNP positions, but we also need to ensure the reference alleles align. Remember that most PLINK analyses **consider the A1 allele (typically the minor allele) as the reference allele**, which is logical when dealing exclusively with biallelic variants.\n",
    "\n",
    "Below, we generate a list of SNPs ID and 'reference alleles' (corresponding to A1, column 5 of the `.bim` file) from 1000GP."
   ]
  },
  {
   "cell_type": "code",
   "execution_count": 18,
   "id": "97848c6a-85fb-4c1b-a515-f3120c21bf03",
   "metadata": {},
   "outputs": [],
   "source": [
    "#Extract variant coordinates and reference alleles from 1000GP data\n",
    "awk '{print$2,$5}' Results/GWAS4/1kG_MDS5.bim > Results/GWAS4/1kg_ref-list.txt"
   ]
  },
  {
   "cell_type": "markdown",
   "id": "946c213e-2fb5-4bef-9eb9-8e2d46679f7b",
   "metadata": {},
   "source": [
    "How the list looks like:"
   ]
  },
  {
   "cell_type": "code",
   "execution_count": 19,
   "id": "7c4cecdd-737c-43ce-b38c-011d074e90f7",
   "metadata": {},
   "outputs": [
    {
     "name": "stdout",
     "output_type": "stream",
     "text": [
      "rs3131969 A\n",
      "rs12562034 A\n",
      "rs4970383 A\n",
      "rs4475691 T\n",
      "rs1806509 A\n"
     ]
    }
   ],
   "source": [
    "head -5 Results/GWAS4/1kg_ref-list.txt"
   ]
  },
  {
   "cell_type": "markdown",
   "id": "42e99d2b-a887-4d20-bb66-1cf5d077d98a",
   "metadata": {},
   "source": [
    "Then, we assign them to the HapMap data `--ref-allele` option. Note a lot fo warnings in A1 allele assignment. This is usually because you have a strand issue, where the data uses a complement"
   ]
  },
  {
   "cell_type": "code",
   "execution_count": 20,
   "id": "af745a46-efdb-482e-af1a-f428d5b7302a",
   "metadata": {
    "scrolled": true
   },
   "outputs": [
    {
     "name": "stdout",
     "output_type": "stream",
     "text": [
      "PLINK v1.90b6.21 64-bit (19 Oct 2020)          www.cog-genomics.org/plink/1.9/\n",
      "(C) 2005-2020 Shaun Purcell, Christopher Chang   GNU General Public License v3\n",
      "Logging to Results/GWAS4/HapMap-adj.log.\n",
      "Options in effect:\n",
      "  --a1-allele Results/GWAS4/1kg_ref-list.txt\n",
      "  --bfile Results/GWAS4/HapMap_MDS\n",
      "  --make-bed\n",
      "  --out Results/GWAS4/HapMap-adj\n",
      "\n",
      "385567 MB RAM detected; reserving 192783 MB for main workspace.\n",
      "376560 variants loaded from .bim file.\n",
      "109 people (55 males, 54 females) loaded from .fam.\n",
      "109 phenotype values loaded from .fam.\n",
      "Using 1 thread (no multithreaded calculations invoked).\n",
      "Before main variant filters, 109 founders and 0 nonfounders present.\n",
      "Calculating allele frequencies... done.\n",
      "Total genotyping rate is 0.998017.\n",
      "Warning: Impossible A1 allele assignment for variant rs11488462.\n",
      "Warning: Impossible A1 allele assignment for variant rs28635343.\n",
      "Warning: Impossible A1 allele assignment for variant rs28456011.\n",
      "Warning: Impossible A1 allele assignment for variant rs28487995.\n",
      "Warning: Impossible A1 allele assignment for variant rs760925.\n",
      "Warning: Impossible A1 allele assignment for variant rs2234167.\n",
      "Warning: Impossible A1 allele assignment for variant rs35383955.\n",
      "Warning: Impossible A1 allele assignment for variant rs34283457.\n",
      "Warning: Impossible A1 allele assignment for variant rs35357981.\n",
      "Warning: Impossible A1 allele assignment for variant rs35025175.\n",
      "Warning: Impossible A1 allele assignment for variant rs35974482.\n",
      "Warning: Impossible A1 allele assignment for variant rs34835780.\n",
      "Warning: Impossible A1 allele assignment for variant rs10753374.\n",
      "Warning: Impossible A1 allele assignment for variant rs11260657.\n",
      "Warning: Impossible A1 allele assignment for variant rs4661727.\n",
      "Warning: Impossible A1 allele assignment for variant rs35614701.\n",
      "Warning: Impossible A1 allele assignment for variant rs34131388.\n",
      "Warning: Impossible A1 allele assignment for variant rs35260034.\n",
      "Warning: Impossible A1 allele assignment for variant rs34201264.\n",
      "Warning: Impossible A1 allele assignment for variant rs34734086.\n",
      "Warning: Impossible A1 allele assignment for variant rs35593799.\n",
      "Warning: Impossible A1 allele assignment for variant rs35047308.\n",
      "Warning: Impossible A1 allele assignment for variant rs36053581.\n",
      "Warning: Impossible A1 allele assignment for variant rs34405972.\n",
      "Warning: Impossible A1 allele assignment for variant rs35294772.\n",
      "Warning: Impossible A1 allele assignment for variant rs12118489.\n",
      "Warning: Impossible A1 allele assignment for variant rs1023098.\n",
      "Warning: Impossible A1 allele assignment for variant rs209603.\n",
      "Warning: Impossible A1 allele assignment for variant rs10524.\n",
      "Warning: Impossible A1 allele assignment for variant rs697594.\n",
      "Warning: Impossible A1 allele assignment for variant rs1889603.\n",
      "Warning: Impossible A1 allele assignment for variant rs12145114.\n",
      "Warning: Impossible A1 allele assignment for variant rs2391154.\n",
      "Warning: Impossible A1 allele assignment for variant rs17123142.\n",
      "Warning: Impossible A1 allele assignment for variant rs12125356.\n",
      "Warning: Impossible A1 allele assignment for variant rs3765501.\n",
      "Warning: Impossible A1 allele assignment for variant rs1011297.\n",
      "Warning: Impossible A1 allele assignment for variant rs34444588.\n",
      "Warning: Impossible A1 allele assignment for variant rs509587.\n",
      "Warning: Impossible A1 allele assignment for variant rs17701857.\n",
      "Warning: Impossible A1 allele assignment for variant rs3795743.\n",
      "Warning: Impossible A1 allele assignment for variant rs34158997.\n",
      "Warning: Impossible A1 allele assignment for variant rs35808016.\n",
      "Warning: Impossible A1 allele assignment for variant rs34187970.\n",
      "Warning: Impossible A1 allele assignment for variant rs3820624.\n",
      "Warning: Impossible A1 allele assignment for variant rs2897454.\n",
      "Warning: Impossible A1 allele assignment for variant rs1127975.\n",
      "Warning: Impossible A1 allele assignment for variant rs35729322.\n",
      "Warning: Impossible A1 allele assignment for variant rs35565142.\n",
      "Warning: Impossible A1 allele assignment for variant rs3007405.\n",
      "Warning: Impossible A1 allele assignment for variant rs11553746.\n",
      "Warning: Impossible A1 allele assignment for variant rs1384491.\n",
      "Warning: Impossible A1 allele assignment for variant rs17045393.\n",
      "Warning: Impossible A1 allele assignment for variant rs6545238.\n",
      "Warning: Impossible A1 allele assignment for variant rs17792521.\n",
      "Warning: Impossible A1 allele assignment for variant rs989586.\n",
      "Warning: Impossible A1 allele assignment for variant rs7558635.\n",
      "Warning: Impossible A1 allele assignment for variant rs1139829.\n",
      "Warning: Impossible A1 allele assignment for variant rs35061433.\n",
      "Warning: Impossible A1 allele assignment for variant rs838069.\n",
      "Warning: Impossible A1 allele assignment for variant rs967381.\n",
      "Warning: Impossible A1 allele assignment for variant rs2138486.\n",
      "Warning: Impossible A1 allele assignment for variant rs13393016.\n",
      "Warning: Impossible A1 allele assignment for variant rs17180544.\n",
      "Warning: Impossible A1 allele assignment for variant rs13417895.\n",
      "Warning: Impossible A1 allele assignment for variant rs12467878.\n",
      "Warning: Impossible A1 allele assignment for variant rs6726184.\n",
      "Warning: Impossible A1 allele assignment for variant rs4973697.\n",
      "Warning: Impossible A1 allele assignment for variant rs6605267.\n",
      "Warning: Impossible A1 allele assignment for variant rs7421596.\n",
      "Warning: Impossible A1 allele assignment for variant rs1689581.\n",
      "Warning: Impossible A1 allele assignment for variant rs711730.\n",
      "Warning: Impossible A1 allele assignment for variant rs7652667.\n",
      "Warning: Impossible A1 allele assignment for variant rs9864701.\n",
      "Warning: Impossible A1 allele assignment for variant rs1522553.\n",
      "Warning: Impossible A1 allele assignment for variant rs17280613.\n",
      "Warning: Impossible A1 allele assignment for variant rs277646.\n",
      "Warning: Impossible A1 allele assignment for variant rs1259321.\n",
      "Warning: Impossible A1 allele assignment for variant rs6765489.\n",
      "Warning: Impossible A1 allele assignment for variant rs1113277.\n",
      "Warning: Impossible A1 allele assignment for variant rs9880098.\n",
      "Warning: Impossible A1 allele assignment for variant rs7611483.\n",
      "Warning: Impossible A1 allele assignment for variant rs10936388.\n",
      "Warning: Impossible A1 allele assignment for variant rs11546878.\n",
      "Warning: Impossible A1 allele assignment for variant rs4686566.\n",
      "Warning: Impossible A1 allele assignment for variant rs884309.\n",
      "Warning: Impossible A1 allele assignment for variant rs3806620.\n",
      "Warning: Impossible A1 allele assignment for variant rs6801044.\n",
      "Warning: Impossible A1 allele assignment for variant rs4677689.\n",
      "Warning: Impossible A1 allele assignment for variant rs4677695.\n",
      "Warning: Impossible A1 allele assignment for variant rs9820715.\n",
      "Warning: Impossible A1 allele assignment for variant rs35840880.\n",
      "Warning: Impossible A1 allele assignment for variant rs6847677.\n",
      "Warning: Impossible A1 allele assignment for variant rs16854250.\n",
      "Warning: Impossible A1 allele assignment for variant rs12646999.\n",
      "Warning: Impossible A1 allele assignment for variant rs13128530.\n",
      "Warning: Impossible A1 allele assignment for variant rs2949614.\n",
      "Warning: Impossible A1 allele assignment for variant rs17007758.\n",
      "Warning: Impossible A1 allele assignment for variant rs10006274.\n",
      "Warning: Impossible A1 allele assignment for variant rs4691482.\n",
      "Warning: Impossible A1 allele assignment for variant rs1215429.\n",
      "Warning: Impossible A1 allele assignment for variant rs1395093.\n",
      "Warning: Impossible A1 allele assignment for variant rs2972819.\n",
      "Warning: Impossible A1 allele assignment for variant rs199361.\n",
      "Warning: Impossible A1 allele assignment for variant rs4403186.\n",
      "Warning: Impossible A1 allele assignment for variant rs1574436.\n",
      "Warning: Impossible A1 allele assignment for variant rs1048944.\n",
      "Warning: Impossible A1 allele assignment for variant rs4704197.\n",
      "Warning: Impossible A1 allele assignment for variant rs173545.\n",
      "Warning: Impossible A1 allele assignment for variant rs2060424.\n",
      "Warning: Impossible A1 allele assignment for variant rs449359.\n",
      "Warning: Impossible A1 allele assignment for variant rs11746705.\n",
      "Warning: Impossible A1 allele assignment for variant rs7448017.\n",
      "Warning: Impossible A1 allele assignment for variant rs1465686.\n",
      "Warning: Impossible A1 allele assignment for variant rs13180237.\n",
      "Warning: Impossible A1 allele assignment for variant rs17776554.\n",
      "Warning: Impossible A1 allele assignment for variant rs266000.\n",
      "Warning: Impossible A1 allele assignment for variant rs4868581.\n",
      "Warning: Impossible A1 allele assignment for variant rs4710897.\n",
      "Warning: Impossible A1 allele assignment for variant rs9461653.\n",
      "Warning: Impossible A1 allele assignment for variant rs1129765.\n",
      "Warning: Impossible A1 allele assignment for variant rs1694112.\n",
      "Warning: Impossible A1 allele assignment for variant rs12207915.\n",
      "Warning: Impossible A1 allele assignment for variant rs1383266.\n",
      "Warning: Impossible A1 allele assignment for variant rs4565302.\n",
      "Warning: Impossible A1 allele assignment for variant rs970392.\n",
      "Warning: Impossible A1 allele assignment for variant rs17183312.\n",
      "Warning: Impossible A1 allele assignment for variant rs2075967.\n",
      "Warning: Impossible A1 allele assignment for variant rs3757212.\n",
      "Warning: Impossible A1 allele assignment for variant rs573684.\n",
      "Warning: Impossible A1 allele assignment for variant rs9373596.\n",
      "Warning: Impossible A1 allele assignment for variant rs3924019.\n",
      "Warning: Impossible A1 allele assignment for variant rs9719226.\n",
      "Warning: Impossible A1 allele assignment for variant rs2961253.\n",
      "Warning: Impossible A1 allele assignment for variant rs2428430.\n",
      "Warning: Impossible A1 allele assignment for variant rs4870666.\n",
      "Warning: Impossible A1 allele assignment for variant rs1043987.\n",
      "Warning: Impossible A1 allele assignment for variant rs2068338.\n",
      "Warning: Impossible A1 allele assignment for variant rs2283017.\n",
      "Warning: Impossible A1 allele assignment for variant rs2854541.\n",
      "Warning: Impossible A1 allele assignment for variant rs361489.\n",
      "Warning: Impossible A1 allele assignment for variant rs2855882.\n",
      "Warning: Impossible A1 allele assignment for variant rs2734060.\n",
      "Warning: Impossible A1 allele assignment for variant rs2244520.\n",
      "Warning: Impossible A1 allele assignment for variant rs1573618.\n",
      "Warning: Impossible A1 allele assignment for variant rs2855914.\n",
      "Warning: Impossible A1 allele assignment for variant rs2734112.\n",
      "Warning: Impossible A1 allele assignment for variant rs2367191.\n",
      "Warning: Impossible A1 allele assignment for variant rs2855920.\n",
      "Warning: Impossible A1 allele assignment for variant rs2855929.\n",
      "Warning: Impossible A1 allele assignment for variant rs6961143.\n",
      "Warning: Impossible A1 allele assignment for variant rs17231.\n",
      "Warning: Impossible A1 allele assignment for variant rs6979421.\n",
      "Warning: Impossible A1 allele assignment for variant rs17163237.\n",
      "Warning: Impossible A1 allele assignment for variant rs1008660.\n",
      "Warning: Impossible A1 allele assignment for variant rs17250.\n",
      "Warning: Impossible A1 allele assignment for variant rs2156940.\n",
      "Warning: Impossible A1 allele assignment for variant rs11768792.\n",
      "Warning: Impossible A1 allele assignment for variant rs17277.\n",
      "Warning: Impossible A1 allele assignment for variant rs17279.\n",
      "Warning: Impossible A1 allele assignment for variant rs2734171.\n",
      "Warning: Impossible A1 allele assignment for variant rs6979469.\n",
      "Warning: Impossible A1 allele assignment for variant rs2156956.\n",
      "Warning: Impossible A1 allele assignment for variant rs6943682.\n",
      "Warning: Impossible A1 allele assignment for variant rs926044.\n",
      "Warning: Impossible A1 allele assignment for variant rs6971657.\n",
      "Warning: Impossible A1 allele assignment for variant rs6942393.\n",
      "Warning: Impossible A1 allele assignment for variant rs1134309.\n",
      "Warning: Impossible A1 allele assignment for variant rs17835147.\n",
      "Warning: Impossible A1 allele assignment for variant rs1114856.\n",
      "Warning: Impossible A1 allele assignment for variant rs10088098.\n",
      "Warning: Impossible A1 allele assignment for variant rs11780139.\n",
      "Warning: Impossible A1 allele assignment for variant rs39767.\n",
      "Warning: Impossible A1 allele assignment for variant rs1027623.\n",
      "Warning: Impossible A1 allele assignment for variant rs1545909.\n",
      "Warning: Impossible A1 allele assignment for variant rs3800829.\n",
      "Warning: Impossible A1 allele assignment for variant rs7856222.\n",
      "Warning: Impossible A1 allele assignment for variant rs3808902.\n",
      "Warning: Impossible A1 allele assignment for variant rs17269854.\n",
      "Warning: Impossible A1 allele assignment for variant rs534721.\n",
      "Warning: Impossible A1 allele assignment for variant rs11139569.\n",
      "Warning: Impossible A1 allele assignment for variant rs16908089.\n",
      "Warning: Impossible A1 allele assignment for variant rs2245389.\n",
      "Warning: Impossible A1 allele assignment for variant rs34312136.\n",
      "Warning: Impossible A1 allele assignment for variant rs4078122.\n",
      "Warning: Impossible A1 allele assignment for variant rs3207775.\n",
      "Warning: Impossible A1 allele assignment for variant rs561415.\n",
      "Warning: Impossible A1 allele assignment for variant rs11813861.\n",
      "Warning: Impossible A1 allele assignment for variant rs1650166.\n",
      "Warning: Impossible A1 allele assignment for variant rs11196005.\n",
      "Warning: Impossible A1 allele assignment for variant rs12243523.\n",
      "Warning: Impossible A1 allele assignment for variant rs7100377.\n",
      "Warning: Impossible A1 allele assignment for variant rs12415539.\n",
      "Warning: Impossible A1 allele assignment for variant rs2273748.\n",
      "Warning: Impossible A1 allele assignment for variant rs5030779.\n",
      "Warning: Impossible A1 allele assignment for variant rs516761.\n",
      "Warning: Impossible A1 allele assignment for variant rs234872.\n",
      "Warning: Impossible A1 allele assignment for variant rs7107290.\n",
      "Warning: Impossible A1 allele assignment for variant rs4287314.\n",
      "Warning: Impossible A1 allele assignment for variant rs10501259.\n",
      "Warning: Impossible A1 allele assignment for variant rs4756057.\n",
      "Warning: Impossible A1 allele assignment for variant rs1044796.\n",
      "Warning: Impossible A1 allele assignment for variant rs17507049.\n",
      "Warning: Impossible A1 allele assignment for variant rs661124.\n",
      "Warning: Impossible A1 allele assignment for variant rs1894080.\n",
      "Warning: Impossible A1 allele assignment for variant rs2324509.\n",
      "Warning: Impossible A1 allele assignment for variant rs4936260.\n",
      "Warning: Impossible A1 allele assignment for variant rs11524965.\n",
      "Warning: Impossible A1 allele assignment for variant rs2159347.\n",
      "Warning: Impossible A1 allele assignment for variant rs3782598.\n",
      "Warning: Impossible A1 allele assignment for variant rs1451772.\n",
      "Warning: Impossible A1 allele assignment for variant rs10505915.\n",
      "Warning: Impossible A1 allele assignment for variant rs3782514.\n",
      "Warning: Impossible A1 allele assignment for variant rs10772153.\n",
      "Warning: Impossible A1 allele assignment for variant rs2372379.\n",
      "Warning: Impossible A1 allele assignment for variant rs803569.\n",
      "Warning: Impossible A1 allele assignment for variant rs2279405.\n",
      "Warning: Impossible A1 allele assignment for variant rs6633.\n",
      "Warning: Impossible A1 allele assignment for variant rs7957839.\n",
      "Warning: Impossible A1 allele assignment for variant rs1413155.\n",
      "Warning: Impossible A1 allele assignment for variant rs9300901.\n",
      "Warning: Impossible A1 allele assignment for variant rs9604511.\n",
      "Warning: Impossible A1 allele assignment for variant rs7996853.\n",
      "Warning: Impossible A1 allele assignment for variant rs7399982.\n",
      "Warning: Impossible A1 allele assignment for variant rs9604529.\n",
      "Warning: Impossible A1 allele assignment for variant rs11259844.\n",
      "Warning: Impossible A1 allele assignment for variant rs11618091.\n",
      "Warning: Impossible A1 allele assignment for variant rs6602901.\n",
      "Warning: Impossible A1 allele assignment for variant rs9577914.\n",
      "Warning: Impossible A1 allele assignment for variant rs9604566.\n",
      "Warning: Impossible A1 allele assignment for variant rs7323426.\n",
      "Warning: Impossible A1 allele assignment for variant rs6602905.\n",
      "Warning: Impossible A1 allele assignment for variant rs7323932.\n",
      "Warning: Impossible A1 allele assignment for variant rs7996145.\n",
      "Warning: Impossible A1 allele assignment for variant rs7332546.\n",
      "Warning: Impossible A1 allele assignment for variant rs9550238.\n",
      "Warning: Impossible A1 allele assignment for variant rs7400267.\n",
      "Warning: Impossible A1 allele assignment for variant rs6602894.\n",
      "Warning: Impossible A1 allele assignment for variant rs7399469.\n",
      "Warning: Impossible A1 allele assignment for variant rs6602895.\n",
      "Warning: Impossible A1 allele assignment for variant rs6422414.\n",
      "Warning: Impossible A1 allele assignment for variant rs7335819.\n",
      "Warning: Impossible A1 allele assignment for variant rs13379029.\n",
      "Warning: Impossible A1 allele assignment for variant rs4147557.\n",
      "Warning: Impossible A1 allele assignment for variant rs10483432.\n",
      "Warning: Impossible A1 allele assignment for variant rs11627089.\n",
      "Warning: Impossible A1 allele assignment for variant rs17597295.\n",
      "Warning: Impossible A1 allele assignment for variant rs12793.\n",
      "Warning: Impossible A1 allele assignment for variant rs1744296.\n",
      "Warning: Impossible A1 allele assignment for variant rs4983517.\n",
      "Warning: Impossible A1 allele assignment for variant rs8034978.\n",
      "Warning: Impossible A1 allele assignment for variant rs3809581.\n",
      "Warning: Impossible A1 allele assignment for variant rs10519208.\n",
      "Warning: Impossible A1 allele assignment for variant rs3087567.\n",
      "Warning: Impossible A1 allele assignment for variant rs2107234.\n",
      "Warning: Impossible A1 allele assignment for variant rs252304.\n",
      "Warning: Impossible A1 allele assignment for variant rs8061401.\n",
      "Warning: Impossible A1 allele assignment for variant rs13337562.\n",
      "Warning: Impossible A1 allele assignment for variant rs28437095.\n",
      "Warning: Impossible A1 allele assignment for variant rs9928892.\n",
      "Warning: Impossible A1 allele assignment for variant rs1048149.\n",
      "Warning: Impossible A1 allele assignment for variant rs2306270.\n",
      "Warning: Impossible A1 allele assignment for variant rs764688.\n",
      "Warning: Impossible A1 allele assignment for variant rs3764420.\n",
      "Warning: Impossible A1 allele assignment for variant rs7210126.\n",
      "Warning: Impossible A1 allele assignment for variant rs17673149.\n",
      "Warning: Impossible A1 allele assignment for variant rs11868321.\n",
      "Warning: Impossible A1 allele assignment for variant rs1042678.\n",
      "Warning: Impossible A1 allele assignment for variant rs3744155.\n",
      "Warning: Impossible A1 allele assignment for variant rs16942082.\n",
      "Warning: Impossible A1 allele assignment for variant rs9973085.\n",
      "Warning: Impossible A1 allele assignment for variant rs11080748.\n",
      "Warning: Impossible A1 allele assignment for variant rs355311.\n",
      "Warning: Impossible A1 allele assignment for variant rs3826608.\n",
      "Warning: Impossible A1 allele assignment for variant rs10502668.\n",
      "Warning: Impossible A1 allele assignment for variant rs4919838.\n",
      "Warning: Impossible A1 allele assignment for variant rs4523.\n",
      "Warning: Impossible A1 allele assignment for variant rs11085099.\n",
      "Warning: Impossible A1 allele assignment for variant rs3093088.\n",
      "Warning: Impossible A1 allele assignment for variant rs14129.\n",
      "Warning: Impossible A1 allele assignment for variant rs8100232.\n",
      "Warning: Impossible A1 allele assignment for variant rs8109833.\n",
      "Warning: Impossible A1 allele assignment for variant rs430989.\n",
      "Warning: Impossible A1 allele assignment for variant rs3760667.\n",
      "Warning: Impossible A1 allele assignment for variant rs3187346.\n",
      "Warning: Impossible A1 allele assignment for variant rs2286750.\n",
      "Warning: Impossible A1 allele assignment for variant rs6110212.\n",
      "Warning: Impossible A1 allele assignment for variant rs3746600.\n",
      "Warning: Impossible A1 allele assignment for variant rs3761210.\n",
      "Warning: Impossible A1 allele assignment for variant rs17001274.\n",
      "Warning: Impossible A1 allele assignment for variant rs17114359.\n",
      "Warning: Impossible A1 allele assignment for variant rs3788014.\n",
      "Warning: Impossible A1 allele assignment for variant rs35829851.\n",
      "Warning: Impossible A1 allele assignment for variant rs2268780.\n",
      "Warning: Impossible A1 allele assignment for variant rs4820280.\n",
      "Warning: Impossible A1 allele assignment for variant rs9611591.\n",
      "Warning: Impossible A1 allele assignment for variant rs34420568.\n",
      "Warning: Impossible A1 allele assignment for variant rs9614750.\n",
      "Warning: Impossible A1 allele assignment for variant rs34315830.\n",
      "Warning: Impossible A1 allele assignment for variant rs5767487.\n",
      "Warning: Impossible A1 allele assignment for variant rs35812349.\n",
      "--a1-allele: 376560 assignments made.\n",
      "376560 variants and 109 people pass filters and QC.\n",
      "Among remaining phenotypes, 54 are cases and 55 are controls.\n",
      "--make-bed to Results/GWAS4/HapMap-adj.bed + Results/GWAS4/HapMap-adj.bim +\n",
      "Results/GWAS4/HapMap-adj.fam ... done.\n"
     ]
    }
   ],
   "source": [
    "plink --bfile Results/GWAS4/HapMap_MDS  \\\n",
    "    --make-bed \\\n",
    "    --reference-allele Results/GWAS4/1kg_ref-list.txt  \\\n",
    "    --out Results/GWAS4/HapMap-adj "
   ]
  },
  {
   "cell_type": "markdown",
   "id": "34f5e276-9b2f-486d-83c9-fe7827b9a007",
   "metadata": {},
   "source": [
    "**2.** To resolve strand issues, we flip SNPs found in both datasets with complementary alleles (i.e. they were reported in opposite strands). We generate SNP lists (ID and alleles) for both datasets, identify unique SNPs, and visualize differences in allele reporting. If a SNP is unique but reports alleles differently, it will appear twice. Below are examples of SNPs with strand issues from the 1000GP and HapMap data:"
   ]
  },
  {
   "cell_type": "code",
   "execution_count": 21,
   "id": "33e5be15-6808-4ea3-bbdb-56192f731cd6",
   "metadata": {},
   "outputs": [],
   "source": [
    "#print SNP and A1 A2 alleles on files for the two datasets\n",
    "awk '{print$2,$5,$6}' Results/GWAS4/1kG_MDS5.bim > Results/GWAS4/1kGMDS5_tmp\n",
    "awk '{print$2,$5,$6}' Results/GWAS4/HapMap-adj.bim > Results/GWAS4/HapMap-adj_tmp\n",
    "\n",
    "#sort by SNP name to see SNPs with complementary alleles\n",
    "sort Results/GWAS4/1kGMDS5_tmp Results/GWAS4/HapMap-adj_tmp | uniq -u > Results/GWAS4/all_differences.txt"
   ]
  },
  {
   "cell_type": "code",
   "execution_count": 22,
   "id": "3e7a86f1-803e-4107-b13f-40c37ed1d35d",
   "metadata": {},
   "outputs": [
    {
     "name": "stdout",
     "output_type": "stream",
     "text": [
      "rs10006274 C T\n",
      "rs10006274 G A\n",
      "rs1008660 A G\n",
      "rs1008660 T C\n",
      "rs10088098 C T\n",
      "rs10088098 G A\n"
     ]
    }
   ],
   "source": [
    "head -6 Results/GWAS4/all_differences.txt"
   ]
  },
  {
   "cell_type": "markdown",
   "id": "d59d5c83-84fd-46a8-995a-935ea4b082ed",
   "metadata": {},
   "source": [
    "**How many of these differences are there?** We can count 604 lines, so 302 SNPs"
   ]
  },
  {
   "cell_type": "code",
   "execution_count": 23,
   "id": "eb2444e5-1267-4bcd-bae8-055b3e96d4e9",
   "metadata": {},
   "outputs": [
    {
     "name": "stdout",
     "output_type": "stream",
     "text": [
      "604 Results/GWAS4/all_differences.txt\n"
     ]
    }
   ],
   "source": [
    "wc -l Results/GWAS4/all_differences.txt"
   ]
  },
  {
   "cell_type": "markdown",
   "id": "51234782-57d7-4bd4-bfc2-77f0131bc31f",
   "metadata": {},
   "source": [
    "Some of these differences might be might be due to strand issues."
   ]
  },
  {
   "cell_type": "markdown",
   "id": "c6ea3ff9-81ab-498c-a3e0-330bcbc78b55",
   "metadata": {},
   "source": [
    "Let's look at this variant `rs10006274`. **Will it be flipped in the HapMap dataset?**\n",
    "\n",
    "The answer is yes! If we look at the reference allele in `1kg_ref-list.txt`, it shows `C`. This means the SNP is on the forward strand in 1000GP (C/T) and on the reverse strand in HapMap (G/A)."
   ]
  },
  {
   "cell_type": "code",
   "execution_count": 24,
   "id": "12dc2f26-f2e6-402b-9be1-382e47845b2c",
   "metadata": {},
   "outputs": [
    {
     "name": "stdout",
     "output_type": "stream",
     "text": [
      "\u001b[01;31m\u001b[Krs10006274\u001b[m\u001b[K C\n"
     ]
    }
   ],
   "source": [
    "grep rs10006274 Results/GWAS4/1kg_ref-list.txt"
   ]
  },
  {
   "cell_type": "code",
   "execution_count": 25,
   "id": "3c51a907-1301-4fc0-b4d8-5e505b6153f1",
   "metadata": {},
   "outputs": [
    {
     "name": "stdout",
     "output_type": "stream",
     "text": [
      "\u001b[01;31m\u001b[Krs10006274\u001b[m\u001b[K C T\n",
      "\u001b[01;31m\u001b[Krs10006274\u001b[m\u001b[K G A\n"
     ]
    }
   ],
   "source": [
    "grep rs10006274 Results/GWAS4/all_differences.txt"
   ]
  },
  {
   "cell_type": "markdown",
   "id": "6b1401f5-2bbb-4162-a98c-5f287dc2d847",
   "metadata": {},
   "source": [
    ":::{.callout-important title=\"Stop - Read - Solve\"}\n",
    "\n",
    "Look at these other SNPs: `rs9614750` and `rs10088098`. \n",
    "\n",
    "- **Which ones will have to be flipped?**\n",
    "- **Is it always the same dataset that must be flipped?**\n",
    "\n",
    ":::"
   ]
  },
  {
   "cell_type": "code",
   "execution_count": 22,
   "id": "b8b0ba37-79a7-4d83-8c72-55355a101f1d",
   "metadata": {},
   "outputs": [],
   "source": [
    "# Write your code here "
   ]
  },
  {
   "cell_type": "markdown",
   "id": "0d7221cd-1406-4f6b-b057-5a72cb0a6c00",
   "metadata": {
    "tags": []
   },
   "source": [
    ":::{.callout-tip title=\"Solution\" collapse=\"true\"}\n",
    "We will first print out the SNPs from the reference file to know which line corresponds to each dataset (since we know we used the 1000 Genomes Project as the reference). If there are strand issues, the SNP will need to be flipped in the dataset that wasn't used as the reference.\n"
   ]
  },
  {
   "cell_type": "code",
   "execution_count": 26,
   "id": "ad77cb69-bb65-4cfb-92f0-426568021ae0",
   "metadata": {},
   "outputs": [
    {
     "name": "stdout",
     "output_type": "stream",
     "text": [
      "\u001b[01;31m\u001b[Krs9614750\u001b[m\u001b[K A\n"
     ]
    }
   ],
   "source": [
    "grep rs9614750 Results/GWAS4/1kg_ref-list.txt "
   ]
  },
  {
   "cell_type": "code",
   "execution_count": 27,
   "id": "1b33052c-eee2-4d7d-a6ef-fbd0eaa48eda",
   "metadata": {},
   "outputs": [
    {
     "name": "stdout",
     "output_type": "stream",
     "text": [
      "\u001b[01;31m\u001b[Krs9614750\u001b[m\u001b[K A G\n",
      "\u001b[01;31m\u001b[Krs9614750\u001b[m\u001b[K C G\n"
     ]
    }
   ],
   "source": [
    "grep rs9614750 Results/GWAS4/all_differences.txt"
   ]
  },
  {
   "cell_type": "markdown",
   "id": "ce3ccaaf-fa99-4378-85f0-cc5a77eb156b",
   "metadata": {},
   "source": [
    "For `rs9614750`, the genotype is reported as `A/G` in the 1000GP data, while in HapMap, it is `C/G`. This discrepancy between the two datasets means that the SNP will need to be removed later.\n"
   ]
  },
  {
   "cell_type": "code",
   "execution_count": 28,
   "id": "dc56146a-aefa-45ae-9acd-772df3d3eac4",
   "metadata": {},
   "outputs": [
    {
     "name": "stdout",
     "output_type": "stream",
     "text": [
      "\u001b[01;31m\u001b[Krs10088098\u001b[m\u001b[K C\n"
     ]
    }
   ],
   "source": [
    "grep rs10088098 Results/GWAS4/1kg_ref-list.txt "
   ]
  },
  {
   "cell_type": "code",
   "execution_count": 29,
   "id": "5cabdd69-57d1-4223-a2cc-525ca87d5b3f",
   "metadata": {},
   "outputs": [
    {
     "name": "stdout",
     "output_type": "stream",
     "text": [
      "\u001b[01;31m\u001b[Krs10088098\u001b[m\u001b[K C T\n",
      "\u001b[01;31m\u001b[Krs10088098\u001b[m\u001b[K G A\n"
     ]
    }
   ],
   "source": [
    "grep rs10088098 Results/GWAS4/all_differences.txt"
   ]
  },
  {
   "cell_type": "markdown",
   "id": "d1774ade-79e0-4317-8324-105adb1686bf",
   "metadata": {},
   "source": [
    "For `rs10088098`, the genotype is reported as `C/T` in the 1000GP data, while in HapMap, it is `G/A`. This means that PLINK will flip the allele, as they are complementary."
   ]
  },
  {
   "cell_type": "markdown",
   "id": "f58853d5-e1dc-4f08-a487-d84cbd4ea5d6",
   "metadata": {},
   "source": [
    ":::\n",
    "\n",
    "---"
   ]
  },
  {
   "cell_type": "markdown",
   "id": "409cc2c4-c334-490c-9bac-1c654a9a3832",
   "metadata": {},
   "source": [
    "Now we take only the SNP names and give them to PLINK (option `--flip`), together with the reference genome (option `--reference-allele`):"
   ]
  },
  {
   "cell_type": "code",
   "execution_count": 30,
   "id": "d2bb696b-4d7b-423c-a0aa-1df7393af08b",
   "metadata": {},
   "outputs": [],
   "source": [
    "## Flip SNPs for resolving strand issues.\n",
    "# Print SNP-identifier and remove duplicates.\n",
    "awk '{print$1}' Results/GWAS4/all_differences.txt | sort -u > Results/GWAS4/flip_list.txt"
   ]
  },
  {
   "cell_type": "code",
   "execution_count": 31,
   "id": "cbda06fc-d78e-4487-ad6a-1835c0dc5ea2",
   "metadata": {},
   "outputs": [
    {
     "name": "stdout",
     "output_type": "stream",
     "text": [
      "302 Results/GWAS4/flip_list.txt\n"
     ]
    }
   ],
   "source": [
    "wc -l Results/GWAS4/flip_list.txt"
   ]
  },
  {
   "cell_type": "markdown",
   "id": "df940a85-ba06-4472-b1ef-eb36da383cd8",
   "metadata": {},
   "source": [
    "These are the SNP ID of non-corresponding SNPs (N=302) between the two files. "
   ]
  },
  {
   "cell_type": "code",
   "execution_count": 32,
   "id": "e5f8b6e7-9452-4dc2-9430-4227ecedcf82",
   "metadata": {},
   "outputs": [
    {
     "name": "stdout",
     "output_type": "stream",
     "text": [
      "rs10006274\n",
      "rs1008660\n",
      "rs10088098\n",
      "rs1011297\n",
      "rs1023098\n"
     ]
    }
   ],
   "source": [
    "head -5 Results/GWAS4/flip_list.txt"
   ]
  },
  {
   "cell_type": "markdown",
   "id": "44cba8ed-3b83-4c36-9e97-4aa094814a45",
   "metadata": {},
   "source": [
    "Apply the flipping option: "
   ]
  },
  {
   "cell_type": "code",
   "execution_count": 33,
   "id": "436c134e-9986-4218-86a0-98d8f5e3ee29",
   "metadata": {},
   "outputs": [
    {
     "name": "stdout",
     "output_type": "stream",
     "text": [
      "Warning: Impossible A1 allele assignment for variant rs2581195.\n",
      "Warning: Impossible A1 allele assignment for variant rs9614750.\n"
     ]
    }
   ],
   "source": [
    "plink --bfile Results/GWAS4/HapMap-adj \\\n",
    "    --flip Results/GWAS4/flip_list.txt \\\n",
    "    --reference-allele Results/GWAS4/1kg_ref-list.txt \\\n",
    "    --make-bed \\\n",
    "    --out Results/GWAS4/corrected_hapmap \\\n",
    "    --silent"
   ]
  },
  {
   "cell_type": "markdown",
   "id": "a98f3692-398f-4742-80bc-4aafb770fb28",
   "metadata": {},
   "source": [
    ":::{.callout-important title=\"Stop - Read - Solve\"}\n",
    "There might still be problematic SNPs after flipping. \n",
    "\n",
    "- **Check if the expected allele flip occurred.**\n",
    "\n",
    "Hint: use `grep` to find the `rs10006274` and `rs9614750` variants; then compare the alleles assignments in the HapMap file before and after flipping.\n",
    "\n",
    ":::"
   ]
  },
  {
   "cell_type": "code",
   "execution_count": 2,
   "id": "75f90b6d-911e-49a0-8cf1-2a09b4c63d16",
   "metadata": {},
   "outputs": [],
   "source": [
    "# Write your code here "
   ]
  },
  {
   "cell_type": "markdown",
   "id": "211a35da-2c83-4ef0-bac2-b26557b38058",
   "metadata": {},
   "source": [
    ":::{.callout-tip title=\"Solution\" collapse=\"true\"}\n",
    "PLINK attempts to flip all SNPs in the list, but an error occurs when A1 does not match the one in the reference.\n"
   ]
  },
  {
   "cell_type": "markdown",
   "id": "f52f2e6a-88ab-4bac-936b-705bf815b061",
   "metadata": {},
   "source": [
    "Notice how this SNP has changed as we predicted: "
   ]
  },
  {
   "cell_type": "code",
   "execution_count": 34,
   "id": "bfb8bbac-66f1-40ba-a92b-7beecc1743ff",
   "metadata": {},
   "outputs": [
    {
     "name": "stdout",
     "output_type": "stream",
     "text": [
      "4\t\u001b[01;31m\u001b[Krs10006274\u001b[m\u001b[K\t0\t124165369\tC\tT\n"
     ]
    }
   ],
   "source": [
    "grep rs10006274 Results/GWAS4/corrected_hapmap.bim"
   ]
  },
  {
   "cell_type": "code",
   "execution_count": 35,
   "id": "ffa6dcc8-a48a-4e7b-8ca5-ea18a1a04045",
   "metadata": {},
   "outputs": [
    {
     "name": "stdout",
     "output_type": "stream",
     "text": [
      "4\t\u001b[01;31m\u001b[Krs10006274\u001b[m\u001b[K\t0\t124165369\tG\tA\n"
     ]
    }
   ],
   "source": [
    "grep rs10006274 Results/GWAS4/HapMap-adj.bim"
   ]
  },
  {
   "cell_type": "markdown",
   "id": "a8c625f8-0540-43a1-a770-72bcac11d7ad",
   "metadata": {},
   "source": [
    "`rs10006274` was flipped and has the same strand orientation in both datasets (same alleles in A1 and A2). \n",
    "\n",
    "What happened to this one? PLINK attempts to resolve the mismatch by flipping the alleles but throws an error because the complementary alleles do not match the reference!"
   ]
  },
  {
   "cell_type": "code",
   "execution_count": 36,
   "id": "a120ca9c-d0e3-4f98-b531-2d70989b07ff",
   "metadata": {},
   "outputs": [
    {
     "name": "stdout",
     "output_type": "stream",
     "text": [
      "22\t\u001b[01;31m\u001b[Krs9614750\u001b[m\u001b[K\t0\t44436371\tG\tC\n"
     ]
    }
   ],
   "source": [
    "grep rs9614750 Results/GWAS4/corrected_hapmap.bim"
   ]
  },
  {
   "cell_type": "code",
   "execution_count": 37,
   "id": "26921fb5-c05a-4818-add4-fb9758238055",
   "metadata": {},
   "outputs": [
    {
     "name": "stdout",
     "output_type": "stream",
     "text": [
      "22\t\u001b[01;31m\u001b[Krs9614750\u001b[m\u001b[K\t0\t44436371\tC\tG\n"
     ]
    }
   ],
   "source": [
    "grep rs9614750 Results/GWAS4/HapMap-adj.bim"
   ]
  },
  {
   "cell_type": "markdown",
   "id": "79a80955-e6c4-488d-ada7-91657832d138",
   "metadata": {},
   "source": [
    ":::\n",
    "\n",
    "---"
   ]
  },
  {
   "cell_type": "markdown",
   "id": "efd0548d-e625-4e43-8c9f-4456f260e940",
   "metadata": {},
   "source": [
    ":::{.callout-note}\n",
    "You don't need to flip the 1000GP data because the reference allele (A1) in the 1000GP data already matches the strand orientation used in the HapMap data.\n",
    "\n",
    ":::"
   ]
  },
  {
   "cell_type": "markdown",
   "id": "3ced8d41-8c85-4657-bf1a-8b58e2eca7fe",
   "metadata": {},
   "source": [
    "**3.** After flipping SNPs, some differ in their alleles when comparing datasets to each other (e.g. SNP `rs9614750`) and such SNPs must be removed. \n",
    "\n",
    "We extract the SNPs from the corrected HapMap data and search for unique SNP (ID, A1, and A2), comparing them with those from the 1000GP data."
   ]
  },
  {
   "cell_type": "code",
   "execution_count": 38,
   "id": "1f3db957-1b52-42ea-bcf7-4f542a627600",
   "metadata": {},
   "outputs": [],
   "source": [
    "awk '{print$2,$5,$6}' Results/GWAS4/corrected_hapmap.bim > Results/GWAS4/corrected_hapmap_tmp\n",
    "\n",
    "sort Results/GWAS4/1kGMDS5_tmp Results/GWAS4/corrected_hapmap_tmp | uniq -u  > Results/GWAS4/uncorresponding_SNPs.txt"
   ]
  },
  {
   "cell_type": "markdown",
   "id": "2d8e5e0b-96c5-43f5-b980-e6e7ccc9800f",
   "metadata": {},
   "source": [
    "**How many SNP mismatches are there?**"
   ]
  },
  {
   "cell_type": "code",
   "execution_count": 39,
   "id": "3ecd7c1a-c504-4c26-9df3-117282576a3e",
   "metadata": {},
   "outputs": [
    {
     "name": "stdout",
     "output_type": "stream",
     "text": [
      "24 Results/GWAS4/uncorresponding_SNPs.txt\n"
     ]
    }
   ],
   "source": [
    "wc -l Results/GWAS4/uncorresponding_SNPs.txt"
   ]
  },
  {
   "cell_type": "markdown",
   "id": "15ded8f4-2e95-468c-bd80-274fdeb7b690",
   "metadata": {},
   "source": [
    "This corresponds to 12 unique SNP IDs with mismatched information."
   ]
  },
  {
   "cell_type": "code",
   "execution_count": 41,
   "id": "a0cd231c-0467-4d12-b37d-a9d7d0d765ec",
   "metadata": {},
   "outputs": [
    {
     "name": "stdout",
     "output_type": "stream",
     "text": [
      "rs11524965 T C\n",
      "rs11524965 T G\n",
      "rs12646999 G A\n",
      "rs12646999 G T\n",
      "rs17114359 C A\n",
      "rs17114359 C T\n",
      "rs17269854 C A\n",
      "rs17269854 C T\n",
      "rs2060424 G A\n",
      "rs2060424 G C\n"
     ]
    }
   ],
   "source": [
    "head Results/GWAS4/uncorresponding_SNPs.txt "
   ]
  },
  {
   "cell_type": "markdown",
   "id": "ab856d5a-82a6-40f9-9d96-60a1f1c84f4f",
   "metadata": {},
   "source": [
    "We extract again the SNP IDs from the file above, and exclude them using the PLINK option `--exclude` in both datasets"
   ]
  },
  {
   "cell_type": "code",
   "execution_count": 44,
   "id": "c847f8ba-c42a-4cbe-933b-a8f7b44472f4",
   "metadata": {},
   "outputs": [],
   "source": [
    "awk '{print$1}' Results/GWAS4/uncorresponding_SNPs.txt | sort -u > Results/GWAS4/SNPs_for_exclusion.txt\n",
    "\n",
    "plink --bfile Results/GWAS4/corrected_hapmap \\\n",
    "    --exclude Results/GWAS4/SNPs_for_exclusion.txt \\\n",
    "    --make-bed \\\n",
    "    --out Results/GWAS4/HapMap_MDS3 \\\n",
    "    --silent\n",
    "plink --bfile Results/GWAS4/1kG_MDS5 \\\n",
    "    --exclude Results/GWAS4/SNPs_for_exclusion.txt \\\n",
    "    --make-bed \\\n",
    "    --out Results/GWAS4/1kG_MDS6 \\\n",
    "    --silent"
   ]
  },
  {
   "cell_type": "markdown",
   "id": "de731b29-4e7b-4f2e-8f57-e9423828be9e",
   "metadata": {},
   "source": [
    "**5.** We can finally merge the data! We provide our dataset (`-bfile`) and the one to add (`--bmerge` option):"
   ]
  },
  {
   "cell_type": "code",
   "execution_count": 45,
   "id": "02eb4e5a-5904-4b27-9fab-45ca16d4f608",
   "metadata": {},
   "outputs": [],
   "source": [
    "plink --bfile Results/GWAS4/corrected_hapmap \\\n",
    "    --bmerge Results/GWAS4/1kG_MDS6.bed Results/GWAS4/1kG_MDS6.bim Results/GWAS4/1kG_MDS6.fam \\\n",
    "    --allow-no-sex \\\n",
    "    --make-bed \\\n",
    "    --out Results/GWAS4/MDS_merge \\\n",
    "    --silent"
   ]
  },
  {
   "cell_type": "markdown",
   "id": "05607f1c-b5e1-4ec7-8930-fd0912557dbe",
   "metadata": {},
   "source": [
    "### Perform MDS on HapMap-CEU data anchored by 1000 Genomes data."
   ]
  },
  {
   "cell_type": "markdown",
   "id": "3cf8f6cc",
   "metadata": {},
   "source": [
    "MDS is typically performed on independent SNPs (pruned SNPs). We have previously identified such SNPs in this course, so we will extract only these SNPs for the analysis."
   ]
  },
  {
   "cell_type": "code",
   "execution_count": 46,
   "id": "07f84ea8",
   "metadata": {
    "tags": []
   },
   "outputs": [],
   "source": [
    "plink --bfile Results/GWAS4/MDS_merge \\\n",
    "    --extract Results/GWAS3/indepSNP.prune.in \\\n",
    "    --genome \\\n",
    "    --out Results/GWAS4/MDS_merge \\\n",
    "    --silent"
   ]
  },
  {
   "cell_type": "markdown",
   "id": "40527002-38d8-4adb-84dd-02d302d672fc",
   "metadata": {},
   "source": [
    "Now, we can use PLINK to run MDS with the option `---mds-plot` specifying the number of components to calculate."
   ]
  },
  {
   "cell_type": "code",
   "execution_count": 47,
   "id": "fc3a311a-58e6-4d28-9cf0-127257a924c3",
   "metadata": {},
   "outputs": [],
   "source": [
    "# mds-plot\n",
    "plink --bfile Results/GWAS4/MDS_merge \\\n",
    "    --read-genome Results/GWAS4/MDS_merge.genome \\\n",
    "    --cluster \\\n",
    "    --mds-plot 10 \\\n",
    "    --out Results/GWAS4/MDS_merge \\\n",
    "    --silent"
   ]
  },
  {
   "cell_type": "markdown",
   "id": "e855e1ab-2177-407f-a2a3-569fedb965b3",
   "metadata": {},
   "source": [
    "For visualization purposes, we downloaded the 1000 Genomes Project (1000GP) panel, which includes individual names and their corresponding population information."
   ]
  },
  {
   "cell_type": "code",
   "execution_count": 48,
   "id": "5a3f6fea-bb10-4d5c-8909-ab682020a41c",
   "metadata": {
    "tags": []
   },
   "outputs": [],
   "source": [
    "wget ftp://ftp.1000genomes.ebi.ac.uk/vol1/ftp/release/20100804/20100804.ALL.panel -P Results/GWAS4 -q"
   ]
  },
  {
   "cell_type": "markdown",
   "id": "1ec78f9f-69a9-469c-8fc3-4381dc133665",
   "metadata": {},
   "source": [
    "To determine the population origins of HapMap individuals, we created a new file that combines the 1000GP panel information with the HapMap data, labeling the population HapMap entries as 'OWN'."
   ]
  },
  {
   "cell_type": "code",
   "execution_count": 49,
   "id": "ac3d0b03-be57-4fc2-964e-8d32f9d6a4b2",
   "metadata": {
    "tags": []
   },
   "outputs": [],
   "source": [
    "awk '{print$1,$2,\"OWN\"}' Results/GWAS4/HapMap_MDS.fam > Results/GWAS4/popfile_own.txt\n",
    "awk '{print$1,$1,$2}' Results/GWAS4/20100804.ALL.panel > Results/GWAS4/20100804.ALL.panel.txt\n",
    "\n",
    "cat <(echo \"FID IID POP\") Results/GWAS4/20100804.ALL.panel.txt Results/GWAS4/popfile_own.txt > Results/GWAS4/popfile.txt"
   ]
  },
  {
   "cell_type": "markdown",
   "id": "2196facd-2e54-4382-9cf6-32a7cbcde299",
   "metadata": {},
   "source": [
    ":::{.callout-note}\n",
    "\n",
    "The 1000 Genomes Project (1000GP) categorizes individuals into major continental groups—such as Europeans (EUR), Africans (AFR), Americans (AMR), East Asians (EAS), and South Asians (SAS)—each comprising various subpopulations. We will use this population structure information to visualize and determine the clusters our samples belong to.\n",
    "\n",
    "![](./Images/1000GP.png){width=800px}\n",
    "\n",
    ":::"
   ]
  },
  {
   "cell_type": "markdown",
   "id": "9868d96e-fe7e-41ba-a020-0a6e9b59af33",
   "metadata": {},
   "source": [
    "<img src=\"Images/R.png\" alt=\"R\" width=\"40\"> Switch to the R kernel.\n",
    "\n",
    "Let's visualize population stratification using the multidimensional scaling (MDS) results. \n"
   ]
  },
  {
   "cell_type": "code",
   "execution_count": 1,
   "id": "eac20c80-bb26-4175-a870-660892297e46",
   "metadata": {
    "tags": []
   },
   "outputs": [
    {
     "data": {
      "image/png": "[encoded data removed]",
      "text/plain": [
       "plot without title"
      ]
     },
     "metadata": {
      "image/png": {
       "height": 360,
       "width": 720
      }
     },
     "output_type": "display_data"
    }
   ],
   "source": [
    "options(repr.plot.width = 12, repr.plot.height = 6)\n",
    "\n",
    "suppressMessages(suppressWarnings(library(ggplot2)))\n",
    "\n",
    "# Read data into R \n",
    "data <- read.table(file=\"Results/GWAS4/MDS_merge.mds\",header=TRUE)\n",
    "pop <- read.table(file=\"Results/GWAS4/popfile.txt\",header=TRUE)\n",
    "datafile <- merge(data,pop,by=c(\"FID\",\"IID\"))\n",
    "\n",
    "# Metapopulation information for the population in the 1000GP dataset\n",
    "superpop <- c(\n",
    "  \"JPT\" = \"ASN\",\n",
    "  \"ASW\" = \"AFR\",\n",
    "  \"CEU\" = \"EUR\",\n",
    "  \"CHB\" = \"ASN\",\n",
    "  \"CHD\" = \"ASN\",\n",
    "  \"YRI\" = \"AFR\",\n",
    "  \"LWK\" = \"AFR\",\n",
    "  \"TSI\" = \"EUR\",\n",
    "  \"MXL\" = \"AMR\",\n",
    "  \"GBR\" = \"EUR\",\n",
    "  \"FIN\" = \"EUR\",\n",
    "  \"CHS\" = \"ASN\",\n",
    "  \"PUR\" = \"AMR\",\n",
    "  \"OWN\" = \"UN\"\n",
    ")\n",
    "\n",
    "# add metapopulation info to the table \n",
    "datafile$SUPERPOP <- superpop[datafile$POP]\n",
    "\n",
    "# Plotting                \n",
    "scatter.mds <- ggplot(datafile, aes(x=C1, y=C2, color=SUPERPOP)) +\n",
    "  geom_point(size=5, alpha=.4) +\n",
    "  scale_color_manual(values=c(\"AFR\" = \"red\", \"AMR\" = \"springgreen4\", \"ASN\" = \"gold\", \"EUR\" = \"blue\", \"UN\" = \"grey\" )) +\n",
    "  xlab(\"MD Component 1\") + \n",
    "  ylab(\"MD Component 2\") +\n",
    "  labs(color=\"Superpop\") +\n",
    "  theme_bw() +\n",
    "  theme(axis.title = element_text(size = 14), legend.text = element_text(size = 15), \n",
    "        axis.text = element_text(size = 14), legend.title=element_text(size=15))\n",
    "  \n",
    "show(scatter.mds)"
   ]
  },
  {
   "cell_type": "markdown",
   "id": "f93bc0e6-68b5-4f68-922e-e18cd35a38b3",
   "metadata": {},
   "source": [
    "The HapMap data clusters closely with European populations such as CEU, TSI, IBS, GBR, and FIN, confirming its European composition. Additionally, the absence of distant points indicates no outliers in the HapMap dataset (grey datapoints cluster together).\n"
   ]
  },
  {
   "cell_type": "markdown",
   "id": "1a351cee",
   "metadata": {},
   "source": [
    "#### Exclude ethnic outliers\n",
    "\n",
    "Let's run the scripts to filter population stratification outliers for educational purposes (e.g. imagine a HapMap individual clusters in the lower-right corner with African populations). \n",
    "\n",
    "<img src=\"Images/bash.png\" alt=\"Bash\" width=\"40\"> Switch to the Bash kernel.\n",
    "\n",
    "To identify and exclude ethnic outliers in the HapMap dataset, select individuals falling within specific cut-off thresholds. These thresholds should be determined based on the visualization of the first two dimensions from the multidimensional scaling (MDS) analysis. \n",
    "\n",
    "**What values would you select or apply in this context, and why?** Hint: look at the plot above. \n",
    "\n",
    "Preview of the MDS results: "
   ]
  },
  {
   "cell_type": "code",
   "execution_count": 1,
   "id": "89a3b1b8-0600-4970-bbd8-26c61e593aa3",
   "metadata": {},
   "outputs": [
    {
     "name": "stdout",
     "output_type": "stream",
     "text": [
      "    FID       IID    SOL           C1           C2           C3           C4           C5           C6           C7           C8           C9          C10 \n",
      "   1328   NA06984      0   -0.0218368  -0.00620683  -0.00464884   0.00121512 -0.000413235   0.00221093    0.0104188  -0.00199382    0.0173257   -0.0131241 \n",
      "   1328   NA06989      0   -0.0208157  -0.00581126  -0.00638572   0.00503345  -0.00116741  -0.00369152    0.0120005   -0.0229035  -0.00238946    0.0381386 \n"
     ]
    }
   ],
   "source": [
    "head -3 Results/GWAS4/MDS_merge.mds | cut -f1-6 -d$'\\t'"
   ]
  },
  {
   "cell_type": "markdown",
   "id": "80b2331a-58c4-428a-bfac-d2354c89869c",
   "metadata": {},
   "source": [
    "Based on the position of the target population's cluster in the MDS plot, we will exclude individuals with MDS component 1 values less than 0 and MDS component 2 values less than -0.05.\n"
   ]
  },
  {
   "cell_type": "markdown",
   "id": "637b5106-7e6c-4c3a-ae92-a336b899a53d",
   "metadata": {},
   "source": [
    "The selection has to be done for the individuals we want to keep, so the area to be chosen has to be mirrored into >0 and >-0.05. We provide the MDS component values in columns 4 and 5 of the file (corresponding to the first 2 components), and extract the individuals using `--keep` "
   ]
  },
  {
   "cell_type": "code",
   "execution_count": 2,
   "id": "3e022245",
   "metadata": {
    "tags": []
   },
   "outputs": [],
   "source": [
    "awk '{ if ($4 >0 || $5 >-0.05) print $1,$2 }' Results/GWAS4/MDS_merge.mds > Results/GWAS4/EUR_MDS_merge\n",
    "\n",
    "plink --bfile Results/GWAS4/HapMap_3_r3_9 \\\n",
    "    --keep Results/GWAS4/EUR_MDS_merge \\\n",
    "    --make-bed  \\\n",
    "    --out Results/GWAS4/HapMap_3_r3_10 \\\n",
    "    --silent"
   ]
  },
  {
   "cell_type": "markdown",
   "id": "3a4836bc-5b88-4bbe-ac64-715d205895ba",
   "metadata": {},
   "source": [
    "#### Creating covariates for GWAS analysis\n",
    "\n",
    "The 10 MDS dimensions will be used as covariates in the association analysis in the next tutorial to correct for population stratification. The covariate file is created by removing column 3 (`SOL`, optional metadata) from the MDS output file.\n",
    "\n",
    ":::{.callout-important title=\"Stop - Read - Solve\"}\n",
    "**Why are we computing the covariates again?**\n",
    ":::"
   ]
  },
  {
   "cell_type": "code",
   "execution_count": 3,
   "id": "975054c0-85c1-4436-a340-819bffa12a5a",
   "metadata": {
    "tags": []
   },
   "outputs": [],
   "source": [
    "plink --bfile Results/GWAS4/HapMap_3_r3_10 \\\n",
    "    --extract Results/GWAS3/indepSNP.prune.in \\\n",
    "    --genome  \\\n",
    "    --out Results/GWAS4/HapMap_3_r3_10 \\\n",
    "    --silent\n",
    "plink --bfile Results/GWAS4/HapMap_3_r3_10 \\\n",
    "    --read-genome Results/GWAS4/HapMap_3_r3_10.genome \\\n",
    "    --cluster \\\n",
    "    --mds-plot 10 \\\n",
    "    --out Results/GWAS4/HapMap_3_r3_10_mds \\\n",
    "    --silent\n",
    "\n",
    "# Change the format of the .mds file into a plink covariate file.\n",
    "awk '{print $1, $2, $4, $5, $6, $7, $8, $9, $10, $11, $12, $13}' Results/GWAS4/HapMap_3_r3_10_mds.mds > Results/GWAS4/covar_mds.txt"
   ]
  },
  {
   "cell_type": "markdown",
   "id": "8b1cf38d",
   "metadata": {},
   "source": [
    "The `covar_mds.txt` file contains the covariates to adjust for residual population stratification."
   ]
  },
  {
   "cell_type": "code",
   "execution_count": 4,
   "id": "62ac8a2d-6153-443c-be20-0906f4a3262b",
   "metadata": {},
   "outputs": [
    {
     "name": "stdout",
     "output_type": "stream",
     "text": [
      "FID IID C1 C2 C3 C4 C5 C6 C7 C8 C9 C10\n",
      "1328 NA06989 0.0193503 -0.0481539 0.053743 -8.56966e-05 0.0124037 -0.00872553 0.0146577 -0.0266013 0.0064429 -0.0149862\n",
      "1377 NA11891 0.0105154 -0.0241653 -0.00713715 -0.0276522 0.0272997 0.0044621 -0.00373271 -0.00561896 -0.0317101 0.0188078\n",
      "1349 NA11843 -0.00217144 0.0120046 -0.00508388 0.0193558 -0.00738542 0.0285001 -0.00512723 0.00271516 0.0029428 0.000145191\n",
      "1330 NA12341 -0.0124555 -0.0114929 0.0019162 -0.0252928 -0.0300722 -0.00411769 -0.0207568 -0.0122574 -0.017065 0.0353729\n"
     ]
    }
   ],
   "source": [
    "head -5 Results/GWAS4/covar_mds.txt"
   ]
  },
  {
   "cell_type": "markdown",
   "id": "0ce66796",
   "metadata": {},
   "source": [
    ":::{.callout-note title=\"Wrapping up\"}\n",
    "\n",
    "You have now successfully checked your data for relatedness population stratification. You filtered out the individuals with high relatedness and produced a summary of the population structure using the MDS projection. You will use the MDS coordinates as a proxy for the population structure you want your association testing to be corrected for.  \n",
    "\n",
    "In the next notebook on **Association Testing**, you will need the following files from the folder `Results/GWAS4/`:\n",
    "- `HapMap_3_r3_10` (the bfile, i.e., `HapMap_3_r3_10.bed`, `HapMap_3_r3_10.bim`, and `HapMap_3_r3_10.fam`)\n",
    "- `covar_mds.txt`\n",
    "which are the HapMap data and the MDS covariates highlighting the population stratification. Those are already available once you have been running this notebook.\n",
    "\n",
    "Below is a cheat sheet of our new methods of QC. Again, it is important to remember that each method of QC should be justified, which will depend on the nature of the feature you are trying to analyze.\n",
    "\n",
    "\n",
    "| Step| Command| Function| Thresholds and explanation|\n",
    "|------------------------------|------------------------|---------------------------------------------------------------------------------------------------------------------------------------------------------------------------------------------------------------------|-------------------------------------------------------------------------------------------------------------------------------------------------------------------------------------------------------------------------------------------------------------------------------------------------------------------------------------------------------------------------------------------------------------------------|\n",
    "| 6: Relatedness | --make-king-table (PLINK2)| Calculates KING kinship of all sample pairs. The KING kinship is more reliable in presence of population structure.| Use independent SNPs (pruning) for this analysis and limit it to autosomal chromosomes only.|\n",
    "| - | awk + --remove | Sets threshold and creates a list of individuals with relatedness above the chosen threshold (`awk` command). This means that subjects who are related at, for example, KINSHIP > 0.1 (i.e., half siblings, or siblings, or parent-child) can be detected. | Cryptic relatedness can interfere with the association analysis. If you  have a family‐based sample (e.g., parent‐offspring), you do not need to remove related pairs but the statistical analysis should take family relatedness into account. However, for a population-based sample, we suggest using a KINSHIP threshold of 0.06, which is in line with the literature using IBD kinship thresholds (Anderson et al.,  2010; Guo et al.,  2014). |\n",
    "| 7: Population Stratification | --cluster --mds-plot k | Produces a  k‐dimensional representation of any substructure in the data, based on IBS.| K is the number of dimensions, which needs to be defined  (typically 10). This is an important step of the QC that consists of  multiple proceedings but for reasons of completeness, we briefly refer to  this step in the table. This step will be described in more detail in the section “Controlling for population stratification.” |\n",
    "\n",
    ":::\n",
    "\n",
    "# Bibliography"
   ]
  }
 ],
 "metadata": {
  "kernelspec": {
   "display_name": "Bash",
   "language": "bash",
   "name": "bash"
  },
  "language_info": {
   "codemirror_mode": "shell",
   "file_extension": ".sh",
   "mimetype": "text/x-sh",
   "name": "bash"
  }
 },
 "nbformat": 4,
 "nbformat_minor": 5
}
