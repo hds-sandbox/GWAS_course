{
 "cells": [
  {
   "cell_type": "code",
   "execution_count": 1,
   "id": "6500d45d-84b5-4d77-ba56-f092467b3dba",
   "metadata": {},
   "outputs": [
    {
     "data": {
      "text/html": [
       "<ol class=list-inline>\n",
       "\t<li>'/usr/local/spark-3.5.1-bin-hadoop3/R/lib'</li>\n",
       "\t<li>'/work/projects/samuelealba_GWAS/Environment/lib/R/library'</li>\n",
       "</ol>\n"
      ],
      "text/latex": [
       "\\begin{enumerate*}\n",
       "\\item '/usr/local/spark-3.5.1-bin-hadoop3/R/lib'\n",
       "\\item '/work/projects/samuelealba\\_GWAS/Environment/lib/R/library'\n",
       "\\end{enumerate*}\n"
      ],
      "text/markdown": [
       "1. '/usr/local/spark-3.5.1-bin-hadoop3/R/lib'\n",
       "2. '/work/projects/samuelealba_GWAS/Environment/lib/R/library'\n",
       "\n",
       "\n"
      ],
      "text/plain": [
       "[1] \"/usr/local/spark-3.5.1-bin-hadoop3/R/lib\"                 \n",
       "[2] \"/work/projects/samuelealba_GWAS/Environment/lib/R/library\""
      ]
     },
     "metadata": {},
     "output_type": "display_data"
    }
   ],
   "source": [
    ".libPaths()"
   ]
  },
  {
   "cell_type": "code",
   "execution_count": 21,
   "id": "c74ad7d6-2ea2-4ae9-a73f-024331d2ab70",
   "metadata": {},
   "outputs": [
    {
     "name": "stderr",
     "output_type": "stream",
     "text": [
      "Downloading GitHub repo trevorld/r-optparse@HEAD\n"
     ]
    },
    {
     "name": "stdout",
     "output_type": "stream",
     "text": [
      "\n"
     ]
    },
    {
     "name": "stderr",
     "output_type": "stream",
     "text": [
      "Running `R CMD build`...\n"
     ]
    },
    {
     "name": "stdout",
     "output_type": "stream",
     "text": [
      "* checking for file ‘/tmp/Rtmp7XsPI5/remotes2044255d978d/trevorld-r-optparse-a7f641d/DESCRIPTION’ ... OK\n",
      "* preparing ‘optparse’:\n",
      "* checking DESCRIPTION meta-information ... OK\n",
      "* checking for LF line-endings in source and make files and shell scripts\n",
      "* checking for empty or unneeded directories\n",
      "* building ‘optparse_1.7.5.tar.gz’\n"
     ]
    },
    {
     "name": "stderr",
     "output_type": "stream",
     "text": [
      "Warning message in i.p(...):\n",
      "“installation of package ‘/tmp/Rtmp7XsPI5/file204473a4db96/optparse_1.7.5.tar.gz’ had non-zero exit status”"
     ]
    }
   ],
   "source": [
    "r.version <- \"2.3.3\"\n",
    "remotes::install_github(\"trevorld/r-optparse\",lib=.libPaths()[2])"
   ]
  },
  {
   "cell_type": "code",
   "execution_count": 23,
   "id": "64bbc6f3-a38c-4e19-b60e-2506f3820f47",
   "metadata": {},
   "outputs": [
    {
     "name": "stderr",
     "output_type": "stream",
     "text": [
      "Warning message:\n",
      "“package ‘optparse’ is not available (for R version 3.4.3)”"
     ]
    }
   ],
   "source": [
    "install.packages(\"optparse\",version=\"1.7.5\" ,lib=.libPaths()[2])\n"
   ]
  },
  {
   "cell_type": "code",
   "execution_count": null,
   "id": "57f0113a-0c69-473b-b429-fc63ebc7523e",
   "metadata": {},
   "outputs": [],
   "source": []
  }
 ],
 "metadata": {
  "kernelspec": {
   "display_name": "R-GWAS",
   "language": "R",
   "name": "rgwas"
  },
  "language_info": {
   "codemirror_mode": "r",
   "file_extension": ".r",
   "mimetype": "text/x-r-source",
   "name": "R",
   "pygments_lexer": "r",
   "version": "3.4.3"
  }
 },
 "nbformat": 4,
 "nbformat_minor": 5
}
